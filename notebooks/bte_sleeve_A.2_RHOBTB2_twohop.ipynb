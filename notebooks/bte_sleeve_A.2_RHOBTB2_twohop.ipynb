{
 "cells": [
  {
   "cell_type": "raw",
   "metadata": {
    "colab": {
     "base_uri": "https://localhost:8080/"
    },
    "id": "UZZqPBS0UppM",
    "outputId": "281abfa6-b935-4d99-a267-e237900aa5dc"
   },
   "source": [
    "!pip install numpy pandas requests requests_cache SetSimilaritySearch"
   ]
  },
  {
   "cell_type": "code",
   "execution_count": 1,
   "metadata": {
    "id": "uG7JfetZjcXH"
   },
   "outputs": [],
   "source": [
    "from copy import copy\n",
    "import json\n",
    "import pandas as pd"
   ]
  },
  {
   "cell_type": "markdown",
   "metadata": {
    "id": "j9DiSC9NU_Fa"
   },
   "source": [
    "# BTE Sleeve\n",
    "\n",
    "Some queries result in an explosion of the number of results. This is bad for performance of the server and also not very useful to the user. This notebook explores using PFOCR as a \"compression sleeve\" to dampen these types of explosions.\n",
    "\n",
    "<a title=\"Science History Institute, CC BY-SA 3.0 &lt;https://creativecommons.org/licenses/by-sa/3.0&gt;, via Wikimedia Commons\" href=\"https://commons.wikimedia.org/wiki/File:Lymphedema_Compression_sleeve_November_2106_Second_Skin_016.jpg\"><img width=\"512\" alt=\"Lymphedema Compression sleeve November 2106 Second Skin 016\" src=\"https://upload.wikimedia.org/wikipedia/commons/thumb/6/6e/Lymphedema_Compression_sleeve_November_2106_Second_Skin_016.jpg/512px-Lymphedema_Compression_sleeve_November_2106_Second_Skin_016.jpg\"></a>\n",
    "\n",
    "Let's try test query [A.2_RHOBTB2_twohop](https://github.com/NCATSTranslator/minihackathons/blob/main/2021-12_demo/workflowA/A.2_RHOBTB2_twohop.json):\n",
    "\n",
    "`RHOBTB2 Gene`--`entity_regulates_entity`|`genetically_interacts_with`--`Any Gene`--`related_to`--`Any SmallMolecule`\n",
    "\n",
    "`n0`--`e01`--`n1`--`e02`--`n2`"
   ]
  },
  {
   "cell_type": "code",
   "execution_count": 2,
   "metadata": {
    "id": "rzoUUSDeVz0a"
   },
   "outputs": [],
   "source": [
    "import requests\n",
    "import requests_cache\n",
    "\n",
    "\n",
    "requests_cache.install_cache(\"pfocr_cache\", allowable_methods=['GET', 'POST'])"
   ]
  },
  {
   "cell_type": "markdown",
   "metadata": {
    "id": "TxW41muraAFL"
   },
   "source": [
    "## Get BTE TRAPI Results"
   ]
  },
  {
   "cell_type": "code",
   "execution_count": 3,
   "metadata": {
    "colab": {
     "base_uri": "https://localhost:8080/"
    },
    "id": "N71NYHWeVCj9",
    "outputId": "d8c2c9ae-9750-455c-ff61-b357b4ff0b2d",
    "tags": []
   },
   "outputs": [
    {
     "name": "stdout",
     "output_type": "stream",
     "text": [
      "200\n",
      "got response from cache\n"
     ]
    }
   ],
   "source": [
    "query = {\n",
    "    \"message\": {\n",
    "        \"query_graph\": {\n",
    "            \"edges\": {\n",
    "                \"e01\": {\n",
    "                    \"object\": \"n0\",\n",
    "                    \"subject\": \"n1\",\n",
    "                    \"predicates\": [\n",
    "                        \"biolink:entity_regulates_entity\",\n",
    "                        \"biolink:genetically_interacts_with\"\n",
    "                    ]\n",
    "                },\n",
    "                \"e02\": {\n",
    "                    \"object\": \"n1\",\n",
    "                    \"subject\": \"n2\",\n",
    "                    \"predicates\": [\n",
    "                        \"biolink:related_to\"\n",
    "                    ]\n",
    "                }\n",
    "            },\n",
    "            \"nodes\": {\n",
    "                \"n0\": {\n",
    "                    \"ids\": [\n",
    "                        \"NCBIGene:23221\"\n",
    "                    ],\n",
    "                    \"categories\": [\n",
    "                        \"biolink:Gene\"\n",
    "                    ]\n",
    "                },\n",
    "                \"n1\": {\n",
    "                    \"categories\": [\n",
    "                        \"biolink:Gene\"\n",
    "                    ]\n",
    "                },\n",
    "                \"n2\": {\n",
    "                    \"categories\": [\n",
    "                        \"biolink:SmallMolecule\"\n",
    "                    ]\n",
    "                }\n",
    "            }\n",
    "        }\n",
    "    }\n",
    "}\n",
    "\n",
    "trapi_response = requests.post(\"http://localhost:3000/v1/query\", json=query)\n",
    "#trapi_response = requests.post(\"https://api.bte.ncats.io/v1/query\", json=query)\n",
    "#trapi_response = requests.post(\"https://arax.ncats.io/api/rtxkg2/v1.2/query\", json=query)\n",
    "#trapi_response = requests.post(\"https://arax.ncats.io/api/arax/v1.2/query\", json=query)\n",
    "print(trapi_response.status_code)\n",
    "if trapi_response.status_code != 200:\n",
    "    print(trapi_response.text)\n",
    "if trapi_response.from_cache:\n",
    "    print(f\"got response from cache\")\n",
    "\n",
    "trapi_message = trapi_response.json()[\"message\"]"
   ]
  },
  {
   "cell_type": "code",
   "execution_count": 4,
   "metadata": {
    "colab": {
     "base_uri": "https://localhost:8080/"
    },
    "id": "XRfyhW_Is73C",
    "outputId": "76ae9c51-0587-4f1e-91ac-f8d728ce6878"
   },
   "outputs": [
    {
     "name": "stdout",
     "output_type": "stream",
     "text": [
      "curie_to_name key count: 13680\n",
      "curie_to_unified_curie key count: 13680\n",
      "\n",
      "all curie prefixes found:\n",
      "{'HGNC', 'GTOPDB', 'OMIM', 'CAS', 'DRUGBANK', 'INCHIKEY', 'CHEBI', 'KEGG.COMPOUND', 'CHEMBL.COMPOUND', 'MESH', 'UNII', 'PR', 'DrugCentral', 'ENSEMBL', 'UMLS', 'NCBIGene', 'PUBCHEM.COMPOUND', 'HMDB', 'UniProtKB'}\n",
      "\n",
      "unified curie prefixes found:\n",
      "{'MESH', 'NCBIGene'}\n",
      "\n",
      "failed to unify 446 curies\n"
     ]
    }
   ],
   "source": [
    "# for genes/gene products, chemicals and diseases\n",
    "preferred_prefixes = set([\"NCBIGene\", \"MESH\"])\n",
    "unified_names = set()\n",
    "unified_curies = set()\n",
    "unification_failed_curies = set()\n",
    "unified_prefixes = set()\n",
    "all_prefixes = set()\n",
    "curie_to_name = dict()\n",
    "curie_to_unified_curie = dict()\n",
    "for k, v in trapi_message[\"knowledge_graph\"][\"nodes\"].items():\n",
    "    name = v[\"name\"]\n",
    "    for a in v[\"attributes\"]:\n",
    "        if a[\"attribute_type_id\"] == \"biolink:xref\":\n",
    "            curies = a[\"value\"]\n",
    "            \n",
    "            # k should always be one of the curies\n",
    "            if not k in curies:\n",
    "                raise Exception(f\"key {k} not in {curies}\")\n",
    "            \n",
    "            unified_curie = None\n",
    "            intersecting_unified_curies = unified_curies.intersection(set(curies))\n",
    "            if len(intersecting_unified_curies) > 1:\n",
    "                raise Exception(f\"matching multiple: {k} to {list(intersecting_unified_curies)}\")\n",
    "            elif len(intersecting_unified_curies) == 1:\n",
    "                unified_curie = list(intersecting_unified_curies)[0]\n",
    "            else:\n",
    "                # get curie for preferred prefix. usually this is k, but not always.\n",
    "                for curie in curies:\n",
    "                    [prefix, identifier] = curie.split(\":\")\n",
    "                    if prefix in preferred_prefixes:\n",
    "                        unified_curie = curie\n",
    "                        unified_curies.add(unified_curie)\n",
    "                        break\n",
    "                        \n",
    "            if not unified_curie:\n",
    "                if k in curie_to_unified_curie:\n",
    "                    unified_curie = curie_to_unified_curie[k]\n",
    "                else:\n",
    "                    unification_failed_curies.add(k)\n",
    "                    break\n",
    "                    \n",
    "                #raise Exception(f\"failed to find a unified curie for {k} in {curies}\")\n",
    "                \n",
    "            [unified_prefix, unified_identifier] = unified_curie.split(\":\")\n",
    "            unified_prefixes.add(unified_prefix)\n",
    "            \n",
    "            for curie in curies:\n",
    "                [prefix, identifier] = curie.split(\":\")\n",
    "                all_prefixes.add(prefix)\n",
    "                if not curie in curie_to_unified_curie:\n",
    "                    curie_to_unified_curie[curie] = unified_curie\n",
    "                if not curie in curie_to_name:\n",
    "                    curie_to_name[curie] = name\n",
    "                    unified_names.add(name)\n",
    "                elif curie_to_name[curie] != name:\n",
    "                    print(f\"curie {curie} has multiple primary names: {curie_to_name[curie]} and {name}\")\n",
    "                    #raise Exception(f\"curie{curie} has multiple names: {curie_to_name[curie]} and {name}\")\n",
    "\n",
    "print(f\"curie_to_name key count: {len(curie_to_name.keys())}\")\n",
    "print(f\"curie_to_unified_curie key count: {len(curie_to_unified_curie.keys())}\")\n",
    "print(\"\")\n",
    "print(\"all curie prefixes found:\")\n",
    "print(all_prefixes)\n",
    "print(\"\")\n",
    "print(\"unified curie prefixes found:\")\n",
    "print(unified_prefixes)\n",
    "print(\"\")\n",
    "print(f\"failed to unify {len(unification_failed_curies)} curies\")"
   ]
  },
  {
   "cell_type": "code",
   "execution_count": 5,
   "metadata": {},
   "outputs": [
    {
     "name": "stdout",
     "output_type": "stream",
     "text": [
      "['n0', 'e01', 'n1', 'e02', 'n2', 'n0_curie', 'n0_unified_curie', 'n1_curie', 'n1_unified_curie', 'n2_curie', 'n2_unified_curie', 'trapi_result_curie_combo']\n",
      "['n0', 'n1', 'n2']\n",
      "['e01', 'e02']\n"
     ]
    }
   ],
   "source": [
    "columns = []\n",
    "q_node_id_keys = set([\"object\", \"subject\"])\n",
    "q_node_ids = []\n",
    "q_edge_ids = []\n",
    "for q_edge_id,edge_v in query[\"message\"][\"query_graph\"][\"edges\"].items():\n",
    "    q_edge_ids.append(q_edge_id)\n",
    "    q_node_id_found = False\n",
    "    for k,v in edge_v.items():\n",
    "        if (k in q_node_id_keys) and (type(v) is str):\n",
    "            if v not in columns:\n",
    "                q_node_ids.append(v)\n",
    "                columns.append(v)\n",
    "            if not q_node_id_found:\n",
    "                q_node_id_found = True\n",
    "                columns.append(q_edge_id)\n",
    "                \n",
    "for q_node_id in q_node_ids:\n",
    "    columns.append(f\"{q_node_id}_curie\")\n",
    "    columns.append(f\"{q_node_id}_unified_curie\")\n",
    "    \n",
    "columns.append(\"trapi_result_curie_combo\")\n",
    "    \n",
    "print(columns)\n",
    "print(q_node_ids)\n",
    "print(q_edge_ids)"
   ]
  },
  {
   "cell_type": "code",
   "execution_count": 6,
   "metadata": {},
   "outputs": [
    {
     "name": "stdout",
     "output_type": "stream",
     "text": [
      "['n0', 'e01', 'n1', 'e02', 'n2']\n"
     ]
    }
   ],
   "source": [
    "trapi_result_columns = []\n",
    "for i in range(len(q_node_ids)):\n",
    "    trapi_result_columns.append(q_node_ids[i])\n",
    "    if i < len(q_edge_ids):\n",
    "        trapi_result_columns.append(q_edge_ids[i])\n",
    "print(trapi_result_columns)"
   ]
  },
  {
   "cell_type": "code",
   "execution_count": 7,
   "metadata": {
    "id": "Wjqcf5E4Yk_h"
   },
   "outputs": [
    {
     "name": "stdout",
     "output_type": "stream",
     "text": [
      "warning: predicate direction(s) may be switched\n"
     ]
    },
    {
     "data": {
      "text/html": [
       "<div>\n",
       "<style scoped>\n",
       "    .dataframe tbody tr th:only-of-type {\n",
       "        vertical-align: middle;\n",
       "    }\n",
       "\n",
       "    .dataframe tbody tr th {\n",
       "        vertical-align: top;\n",
       "    }\n",
       "\n",
       "    .dataframe thead th {\n",
       "        text-align: right;\n",
       "    }\n",
       "</style>\n",
       "<table border=\"1\" class=\"dataframe\">\n",
       "  <thead>\n",
       "    <tr style=\"text-align: right;\">\n",
       "      <th></th>\n",
       "      <th>n0</th>\n",
       "      <th>e01</th>\n",
       "      <th>n1</th>\n",
       "      <th>e02</th>\n",
       "      <th>n2</th>\n",
       "      <th>n0_curie</th>\n",
       "      <th>n0_unified_curie</th>\n",
       "      <th>n1_curie</th>\n",
       "      <th>n1_unified_curie</th>\n",
       "      <th>n2_curie</th>\n",
       "      <th>n2_unified_curie</th>\n",
       "      <th>trapi_result_curie_combo</th>\n",
       "    </tr>\n",
       "  </thead>\n",
       "  <tbody>\n",
       "    <tr>\n",
       "      <th>0</th>\n",
       "      <td>RHOBTB2</td>\n",
       "      <td>entity_negatively_regulates_entity</td>\n",
       "      <td>STK11</td>\n",
       "      <td>interacts_with</td>\n",
       "      <td>4-Hydroxy-3-methoxycinnamaldehyde</td>\n",
       "      <td>NCBIGene:23221</td>\n",
       "      <td>NCBIGene:23221</td>\n",
       "      <td>NCBIGene:6794</td>\n",
       "      <td>NCBIGene:6794</td>\n",
       "      <td>PUBCHEM.COMPOUND:5280536</td>\n",
       "      <td>MESH:C075384</td>\n",
       "      <td>(MESH:C075384, NCBIGene:23221, NCBIGene:6794)</td>\n",
       "    </tr>\n",
       "    <tr>\n",
       "      <th>1</th>\n",
       "      <td>RHOBTB2</td>\n",
       "      <td>entity_negatively_regulates_entity</td>\n",
       "      <td>STK11</td>\n",
       "      <td>coexists_with</td>\n",
       "      <td>Ditiomustine</td>\n",
       "      <td>NCBIGene:23221</td>\n",
       "      <td>NCBIGene:23221</td>\n",
       "      <td>NCBIGene:6794</td>\n",
       "      <td>NCBIGene:6794</td>\n",
       "      <td>PUBCHEM.COMPOUND:127547</td>\n",
       "      <td>MESH:C033713</td>\n",
       "      <td>(MESH:C033713, NCBIGene:23221, NCBIGene:6794)</td>\n",
       "    </tr>\n",
       "    <tr>\n",
       "      <th>2</th>\n",
       "      <td>RHOBTB2</td>\n",
       "      <td>entity_negatively_regulates_entity</td>\n",
       "      <td>STK11</td>\n",
       "      <td>interacts_with</td>\n",
       "      <td>Benzene Derivatives</td>\n",
       "      <td>NCBIGene:23221</td>\n",
       "      <td>NCBIGene:23221</td>\n",
       "      <td>NCBIGene:6794</td>\n",
       "      <td>NCBIGene:6794</td>\n",
       "      <td>UMLS:C0005037</td>\n",
       "      <td>MESH:D001555</td>\n",
       "      <td>(MESH:D001555, NCBIGene:23221, NCBIGene:6794)</td>\n",
       "    </tr>\n",
       "    <tr>\n",
       "      <th>3</th>\n",
       "      <td>RHOBTB2</td>\n",
       "      <td>entity_negatively_regulates_entity</td>\n",
       "      <td>STK11</td>\n",
       "      <td>entity_negatively_regulates_entity</td>\n",
       "      <td>Puerarin</td>\n",
       "      <td>NCBIGene:23221</td>\n",
       "      <td>NCBIGene:23221</td>\n",
       "      <td>NCBIGene:6794</td>\n",
       "      <td>NCBIGene:6794</td>\n",
       "      <td>PUBCHEM.COMPOUND:5281807</td>\n",
       "      <td>MESH:C033607</td>\n",
       "      <td>(MESH:C033607, NCBIGene:23221, NCBIGene:6794)</td>\n",
       "    </tr>\n",
       "    <tr>\n",
       "      <th>4</th>\n",
       "      <td>RHOBTB2</td>\n",
       "      <td>entity_negatively_regulates_entity</td>\n",
       "      <td>STK11</td>\n",
       "      <td>entity_positively_regulates_entity</td>\n",
       "      <td>3-Chloro-1,2-propanediol</td>\n",
       "      <td>NCBIGene:23221</td>\n",
       "      <td>NCBIGene:23221</td>\n",
       "      <td>NCBIGene:6794</td>\n",
       "      <td>NCBIGene:6794</td>\n",
       "      <td>PUBCHEM.COMPOUND:7290</td>\n",
       "      <td>MESH:D000517</td>\n",
       "      <td>(MESH:D000517, NCBIGene:23221, NCBIGene:6794)</td>\n",
       "    </tr>\n",
       "    <tr>\n",
       "      <th>...</th>\n",
       "      <td>...</td>\n",
       "      <td>...</td>\n",
       "      <td>...</td>\n",
       "      <td>...</td>\n",
       "      <td>...</td>\n",
       "      <td>...</td>\n",
       "      <td>...</td>\n",
       "      <td>...</td>\n",
       "      <td>...</td>\n",
       "      <td>...</td>\n",
       "      <td>...</td>\n",
       "      <td>...</td>\n",
       "    </tr>\n",
       "    <tr>\n",
       "      <th>5271</th>\n",
       "      <td>RHOBTB2</td>\n",
       "      <td>genetically_interacts_with</td>\n",
       "      <td>CUL3</td>\n",
       "      <td>interacts_with</td>\n",
       "      <td>Hydrogen peroxide</td>\n",
       "      <td>NCBIGene:23221</td>\n",
       "      <td>NCBIGene:23221</td>\n",
       "      <td>NCBIGene:8452</td>\n",
       "      <td>NCBIGene:8452</td>\n",
       "      <td>PUBCHEM.COMPOUND:784</td>\n",
       "      <td>MESH:D006861</td>\n",
       "      <td>(MESH:D006861, NCBIGene:23221, NCBIGene:8452)</td>\n",
       "    </tr>\n",
       "    <tr>\n",
       "      <th>5272</th>\n",
       "      <td>RHOBTB2</td>\n",
       "      <td>genetically_interacts_with</td>\n",
       "      <td>CUL3</td>\n",
       "      <td>entity_negatively_regulated_by_entity</td>\n",
       "      <td>MicroRNAs</td>\n",
       "      <td>NCBIGene:23221</td>\n",
       "      <td>NCBIGene:23221</td>\n",
       "      <td>NCBIGene:8452</td>\n",
       "      <td>NCBIGene:8452</td>\n",
       "      <td>UMLS:C1101610</td>\n",
       "      <td>MESH:D035683</td>\n",
       "      <td>(MESH:D035683, NCBIGene:23221, NCBIGene:8452)</td>\n",
       "    </tr>\n",
       "    <tr>\n",
       "      <th>5273</th>\n",
       "      <td>RHOBTB2</td>\n",
       "      <td>genetically_interacts_with</td>\n",
       "      <td>CUL3</td>\n",
       "      <td>entity_positively_regulated_by_entity</td>\n",
       "      <td>Eloxatin (TN)</td>\n",
       "      <td>NCBIGene:23221</td>\n",
       "      <td>NCBIGene:23221</td>\n",
       "      <td>NCBIGene:8452</td>\n",
       "      <td>NCBIGene:8452</td>\n",
       "      <td>PUBCHEM.COMPOUND:9887054</td>\n",
       "      <td>MESH:C030110</td>\n",
       "      <td>(MESH:C030110, NCBIGene:23221, NCBIGene:8452)</td>\n",
       "    </tr>\n",
       "    <tr>\n",
       "      <th>5274</th>\n",
       "      <td>RHOBTB2</td>\n",
       "      <td>genetically_interacts_with</td>\n",
       "      <td>CUL3</td>\n",
       "      <td>decreases_expression_of</td>\n",
       "      <td>Folic acid</td>\n",
       "      <td>NCBIGene:23221</td>\n",
       "      <td>NCBIGene:23221</td>\n",
       "      <td>NCBIGene:8452</td>\n",
       "      <td>NCBIGene:8452</td>\n",
       "      <td>PUBCHEM.COMPOUND:135398658</td>\n",
       "      <td>MESH:D005492</td>\n",
       "      <td>(MESH:D005492, NCBIGene:23221, NCBIGene:8452)</td>\n",
       "    </tr>\n",
       "    <tr>\n",
       "      <th>5275</th>\n",
       "      <td>RHOBTB2</td>\n",
       "      <td>genetically_interacts_with</td>\n",
       "      <td>CUL3</td>\n",
       "      <td>interacts_with</td>\n",
       "      <td>Electrolytes</td>\n",
       "      <td>NCBIGene:23221</td>\n",
       "      <td>NCBIGene:23221</td>\n",
       "      <td>NCBIGene:8452</td>\n",
       "      <td>NCBIGene:8452</td>\n",
       "      <td>UMLS:C0013832</td>\n",
       "      <td>MESH:D004573</td>\n",
       "      <td>(MESH:D004573, NCBIGene:23221, NCBIGene:8452)</td>\n",
       "    </tr>\n",
       "  </tbody>\n",
       "</table>\n",
       "<p>5276 rows × 12 columns</p>\n",
       "</div>"
      ],
      "text/plain": [
       "           n0                                 e01     n1  \\\n",
       "0     RHOBTB2  entity_negatively_regulates_entity  STK11   \n",
       "1     RHOBTB2  entity_negatively_regulates_entity  STK11   \n",
       "2     RHOBTB2  entity_negatively_regulates_entity  STK11   \n",
       "3     RHOBTB2  entity_negatively_regulates_entity  STK11   \n",
       "4     RHOBTB2  entity_negatively_regulates_entity  STK11   \n",
       "...       ...                                 ...    ...   \n",
       "5271  RHOBTB2          genetically_interacts_with   CUL3   \n",
       "5272  RHOBTB2          genetically_interacts_with   CUL3   \n",
       "5273  RHOBTB2          genetically_interacts_with   CUL3   \n",
       "5274  RHOBTB2          genetically_interacts_with   CUL3   \n",
       "5275  RHOBTB2          genetically_interacts_with   CUL3   \n",
       "\n",
       "                                        e02  \\\n",
       "0                            interacts_with   \n",
       "1                             coexists_with   \n",
       "2                            interacts_with   \n",
       "3        entity_negatively_regulates_entity   \n",
       "4        entity_positively_regulates_entity   \n",
       "...                                     ...   \n",
       "5271                         interacts_with   \n",
       "5272  entity_negatively_regulated_by_entity   \n",
       "5273  entity_positively_regulated_by_entity   \n",
       "5274                decreases_expression_of   \n",
       "5275                         interacts_with   \n",
       "\n",
       "                                     n2        n0_curie n0_unified_curie  \\\n",
       "0     4-Hydroxy-3-methoxycinnamaldehyde  NCBIGene:23221   NCBIGene:23221   \n",
       "1                          Ditiomustine  NCBIGene:23221   NCBIGene:23221   \n",
       "2                   Benzene Derivatives  NCBIGene:23221   NCBIGene:23221   \n",
       "3                              Puerarin  NCBIGene:23221   NCBIGene:23221   \n",
       "4              3-Chloro-1,2-propanediol  NCBIGene:23221   NCBIGene:23221   \n",
       "...                                 ...             ...              ...   \n",
       "5271                  Hydrogen peroxide  NCBIGene:23221   NCBIGene:23221   \n",
       "5272                          MicroRNAs  NCBIGene:23221   NCBIGene:23221   \n",
       "5273                      Eloxatin (TN)  NCBIGene:23221   NCBIGene:23221   \n",
       "5274                         Folic acid  NCBIGene:23221   NCBIGene:23221   \n",
       "5275                       Electrolytes  NCBIGene:23221   NCBIGene:23221   \n",
       "\n",
       "           n1_curie n1_unified_curie                    n2_curie  \\\n",
       "0     NCBIGene:6794    NCBIGene:6794    PUBCHEM.COMPOUND:5280536   \n",
       "1     NCBIGene:6794    NCBIGene:6794     PUBCHEM.COMPOUND:127547   \n",
       "2     NCBIGene:6794    NCBIGene:6794               UMLS:C0005037   \n",
       "3     NCBIGene:6794    NCBIGene:6794    PUBCHEM.COMPOUND:5281807   \n",
       "4     NCBIGene:6794    NCBIGene:6794       PUBCHEM.COMPOUND:7290   \n",
       "...             ...              ...                         ...   \n",
       "5271  NCBIGene:8452    NCBIGene:8452        PUBCHEM.COMPOUND:784   \n",
       "5272  NCBIGene:8452    NCBIGene:8452               UMLS:C1101610   \n",
       "5273  NCBIGene:8452    NCBIGene:8452    PUBCHEM.COMPOUND:9887054   \n",
       "5274  NCBIGene:8452    NCBIGene:8452  PUBCHEM.COMPOUND:135398658   \n",
       "5275  NCBIGene:8452    NCBIGene:8452               UMLS:C0013832   \n",
       "\n",
       "     n2_unified_curie                       trapi_result_curie_combo  \n",
       "0        MESH:C075384  (MESH:C075384, NCBIGene:23221, NCBIGene:6794)  \n",
       "1        MESH:C033713  (MESH:C033713, NCBIGene:23221, NCBIGene:6794)  \n",
       "2        MESH:D001555  (MESH:D001555, NCBIGene:23221, NCBIGene:6794)  \n",
       "3        MESH:C033607  (MESH:C033607, NCBIGene:23221, NCBIGene:6794)  \n",
       "4        MESH:D000517  (MESH:D000517, NCBIGene:23221, NCBIGene:6794)  \n",
       "...               ...                                            ...  \n",
       "5271     MESH:D006861  (MESH:D006861, NCBIGene:23221, NCBIGene:8452)  \n",
       "5272     MESH:D035683  (MESH:D035683, NCBIGene:23221, NCBIGene:8452)  \n",
       "5273     MESH:C030110  (MESH:C030110, NCBIGene:23221, NCBIGene:8452)  \n",
       "5274     MESH:D005492  (MESH:D005492, NCBIGene:23221, NCBIGene:8452)  \n",
       "5275     MESH:D004573  (MESH:D004573, NCBIGene:23221, NCBIGene:8452)  \n",
       "\n",
       "[5276 rows x 12 columns]"
      ]
     },
     "execution_count": 7,
     "metadata": {},
     "output_type": "execute_result"
    }
   ],
   "source": [
    "from copy import deepcopy\n",
    "\n",
    "\n",
    "trapi_results = trapi_message[\"results\"]\n",
    "\n",
    "result_row_data = []\n",
    "for trapi_result in trapi_results:\n",
    "    curie_to_qnode_ids = dict()\n",
    "    for qnode_id, entries in trapi_result[\"node_bindings\"].items():\n",
    "        for entry in entries:\n",
    "            curie = entry[\"id\"]\n",
    "            if curie not in curie_to_qnode_ids:\n",
    "                curie_to_qnode_ids[curie] = []\n",
    "            curie_to_qnode_ids[curie].append(qnode_id)\n",
    "        \n",
    "    row_data_template = dict()\n",
    "    q_edge_id_to_predicates = dict()\n",
    "    trapi_result_curies = set()\n",
    "    for qedge_id, entries in trapi_result[\"edge_bindings\"].items():\n",
    "        for entry in entries:\n",
    "            curie = entry[\"id\"]\n",
    "            kg_entry = trapi_message[\"knowledge_graph\"][\"edges\"][curie]\n",
    "            subject_curie = kg_entry[\"subject\"]\n",
    "            object_curie = kg_entry[\"object\"]\n",
    "            predicate_curie = kg_entry[\"predicate\"]\n",
    "            [predicate_prefix, predicate_identifier] = predicate_curie.split(\":\")\n",
    "            \n",
    "            if qedge_id not in q_edge_id_to_predicates:\n",
    "                q_edge_id_to_predicates[qedge_id] = set()\n",
    "            q_edge_id_to_predicates[qedge_id].add(predicate_identifier)\n",
    "\n",
    "            for curie in [subject_curie, object_curie]:\n",
    "                for qnode_id in curie_to_qnode_ids[curie]:\n",
    "                    if curie in curie_to_unified_curie:\n",
    "                        unified_curie = curie_to_unified_curie[curie]\n",
    "                    else:\n",
    "                        break\n",
    "\n",
    "                    name = curie_to_name[curie]\n",
    "                    row_data_template[qnode_id] = name\n",
    "\n",
    "                    trapi_result_curies.add(unified_curie)\n",
    "                    row_data_template[qnode_id + \"_curie\"] = curie\n",
    "                    row_data_template[qnode_id + \"_unified_curie\"] = unified_curie\n",
    "                    \n",
    "    if len(trapi_result_curies) != len(q_node_ids):\n",
    "        #print(f'skipping {list(curie_to_qnode_ids.keys())}')\n",
    "        continue\n",
    "        \n",
    "    row_data_template[\"trapi_result_curie_combo\"] = tuple(sorted(trapi_result_curies))\n",
    "    q_edge_ids_processed = set()\n",
    "    row_datas = [row_data_template]\n",
    "    for q_edge_id,predicates in q_edge_id_to_predicates.items():\n",
    "        next_row_datas = []\n",
    "        for row_data in row_datas:\n",
    "            for predicate in predicates:\n",
    "                next_row_data = deepcopy(row_data)\n",
    "                next_row_data[q_edge_id] = predicate\n",
    "                next_row_datas.append(\n",
    "                    next_row_data \n",
    "                )\n",
    "        row_datas = next_row_datas\n",
    "    result_row_data += row_datas\n",
    "        \n",
    "print(\"warning: predicate direction(s) may be switched\")\n",
    "results_df = pd.DataFrame.from_records(result_row_data, columns=columns).drop_duplicates()\n",
    "results_df"
   ]
  },
  {
   "cell_type": "code",
   "execution_count": 8,
   "metadata": {},
   "outputs": [
    {
     "name": "stdout",
     "output_type": "stream",
     "text": [
      "1\n",
      "10\n",
      "1108\n"
     ]
    }
   ],
   "source": [
    "for q_node_id in q_node_ids:\n",
    "    print(len(set(results_df[q_node_id])))"
   ]
  },
  {
   "cell_type": "code",
   "execution_count": 9,
   "metadata": {},
   "outputs": [
    {
     "data": {
      "text/plain": [
       "3738"
      ]
     },
     "execution_count": 9,
     "metadata": {},
     "output_type": "execute_result"
    }
   ],
   "source": [
    "len(set(results_df[\"trapi_result_curie_combo\"]))"
   ]
  },
  {
   "cell_type": "markdown",
   "metadata": {},
   "source": [
    "Total results count (excluding any that couldn't be unified): 3,738. That's too many for a researcher to efficiently go through manually, so let's try filtering to make that more manageable."
   ]
  },
  {
   "cell_type": "markdown",
   "metadata": {
    "id": "uCW1x4PxnjYJ",
    "tags": []
   },
   "source": [
    "## Match up BTE TRAPI Results & PFOCR\n",
    "\n",
    "We're going to try using PFOCR to filter and prioritize the results.\n",
    "\n",
    "First we need to get the PFOCR Data. We could get it from the API, but for now, we'll just go ahead and download the entire JSON file we gave to BTE."
   ]
  },
  {
   "cell_type": "code",
   "execution_count": 10,
   "metadata": {
    "colab": {
     "base_uri": "https://localhost:8080/"
    },
    "id": "OyJJUHbepKp2",
    "outputId": "7237b5f0-8740-47cb-9e3d-b03ea02bdcab"
   },
   "outputs": [
    {
     "name": "stdout",
     "output_type": "stream",
     "text": [
      "status_code: 200\n"
     ]
    }
   ],
   "source": [
    "pfocr_url = \"https://www.dropbox.com/s/1f14t5zaseocyg6/bte_chemicals_diseases_genes.ndjson?dl=1\"\n",
    "pfocr_request = requests.get(pfocr_url)\n",
    "print(f\"status_code: {pfocr_request.status_code}\")\n",
    "if pfocr_request.status_code != 200:\n",
    "    print(pfocr_request.text)"
   ]
  },
  {
   "cell_type": "code",
   "execution_count": 11,
   "metadata": {
    "id": "8fUaenkS0gg1"
   },
   "outputs": [],
   "source": [
    "curies_to_figure_ids = {}\n",
    "figure_id_to_curies = {}\n",
    "figure_id_to_pfocr_result = {}\n",
    "for line in pfocr_request.text.splitlines():\n",
    "    pfocr_result = json.loads(line)\n",
    "    figure_id = pfocr_result[\"_id\"]\n",
    "\n",
    "    curies = set()\n",
    "    for identifier in pfocr_result[\"associatedWith\"][\"mentions\"][\"chemicals\"][\"mesh\"]:\n",
    "        curie = \"MESH:\" + identifier\n",
    "        if curie in curie_to_unified_curie:\n",
    "            unified_curie = curie_to_unified_curie[curie]\n",
    "            curies.add(unified_curie)\n",
    "        else:\n",
    "            #print(f\"{curie} not in list\")\n",
    "            # this curie isn't in the BTE results, but we'll add an item for\n",
    "            # the purpose of the denominator in jaccard/containment cals\n",
    "            curies.add(curie)\n",
    "    for identifier in pfocr_result[\"associatedWith\"][\"mentions\"][\"diseases\"][\"mesh\"]:\n",
    "        curie = \"MESH:\" + identifier\n",
    "        if curie in curie_to_unified_curie:\n",
    "            unified_curie = curie_to_unified_curie[curie]\n",
    "            curies.add(unified_curie)\n",
    "        else:\n",
    "            #print(f\"{curie} not in list\")\n",
    "            # this curie isn't in the BTE results, but we'll add an item for\n",
    "            # the purpose of the denominator in jaccard/containment cals\n",
    "            curies.add(curie)\n",
    "    for identifier in pfocr_result[\"associatedWith\"][\"mentions\"][\"genes\"][\"ncbigene\"]:\n",
    "        curie = \"NCBIGene:\" + identifier\n",
    "        if curie in curie_to_unified_curie:\n",
    "            unified_curie = curie_to_unified_curie[curie]\n",
    "            curies.add(unified_curie)\n",
    "        else:\n",
    "            #print(f\"{curie} not in list\")\n",
    "            # this curie isn't in the BTE results, but we'll add an item for\n",
    "            # the purpose of the denominator in jaccard/containment cals\n",
    "            curies.add(curie)\n",
    "\n",
    "    figure_id_to_pfocr_result[figure_id] = pfocr_result\n",
    "    figure_id_to_curies[figure_id] = curies\n",
    "\n",
    "    curies_key = tuple(sorted(curies))\n",
    "    if curies_key not in curies_to_figure_ids:\n",
    "        curies_to_figure_ids[curies_key] = []\n",
    "    curies_to_figure_ids[curies_key].append(figure_id)"
   ]
  },
  {
   "cell_type": "code",
   "execution_count": 12,
   "metadata": {
    "colab": {
     "base_uri": "https://localhost:8080/"
    },
    "id": "aZX7IzakKCnH",
    "outputId": "651e9425-f1a7-40ca-c98f-59c7dfdadc14"
   },
   "outputs": [
    {
     "data": {
      "text/html": [
       "<div>\n",
       "<style scoped>\n",
       "    .dataframe tbody tr th:only-of-type {\n",
       "        vertical-align: middle;\n",
       "    }\n",
       "\n",
       "    .dataframe tbody tr th {\n",
       "        vertical-align: top;\n",
       "    }\n",
       "\n",
       "    .dataframe thead th {\n",
       "        text-align: right;\n",
       "    }\n",
       "</style>\n",
       "<table border=\"1\" class=\"dataframe\">\n",
       "  <thead>\n",
       "    <tr style=\"text-align: right;\">\n",
       "      <th></th>\n",
       "      <th>figure_id</th>\n",
       "      <th>figure_url</th>\n",
       "      <th>figure_title</th>\n",
       "      <th>trapi_result_curie_combo</th>\n",
       "      <th>figure_curie_combo</th>\n",
       "      <th>overlap_curie_combo</th>\n",
       "      <th>score</th>\n",
       "    </tr>\n",
       "  </thead>\n",
       "  <tbody>\n",
       "    <tr>\n",
       "      <th>0</th>\n",
       "      <td>PMC3653120__fonc-03-00119-g004.jpg</td>\n",
       "      <td>https://www.ncbi.nlm.nih.gov/pmc/articles/PMC3...</td>\n",
       "      <td>Effect of physical activity and obesity on the...</td>\n",
       "      <td>(MESH:D005492, NCBIGene:23221, NCBIGene:894)</td>\n",
       "      <td>(MESH:C045651, MESH:C440975, MESH:D003474, MES...</td>\n",
       "      <td>(MESH:D005492, NCBIGene:894)</td>\n",
       "      <td>0.666667</td>\n",
       "    </tr>\n",
       "    <tr>\n",
       "      <th>1</th>\n",
       "      <td>PMC5980113__JCMM-22-3108-g006.jpg</td>\n",
       "      <td>https://www.ncbi.nlm.nih.gov/pmc/articles/PMC5...</td>\n",
       "      <td>Role of MICAL1 in breast cancer cell prolifera...</td>\n",
       "      <td>(MESH:D005472, NCBIGene:23221, NCBIGene:595)</td>\n",
       "      <td>(MESH:C085911, MESH:C086501, MESH:D005472, NCB...</td>\n",
       "      <td>(MESH:D005472, NCBIGene:595)</td>\n",
       "      <td>0.666667</td>\n",
       "    </tr>\n",
       "    <tr>\n",
       "      <th>2</th>\n",
       "      <td>PMC4069315__WJG-20-7878-g001.jpg</td>\n",
       "      <td>https://www.ncbi.nlm.nih.gov/pmc/articles/PMC4...</td>\n",
       "      <td>Mechanisms of action of lactic acid bacteria v...</td>\n",
       "      <td>(MESH:D005472, NCBIGene:23221, NCBIGene:595)</td>\n",
       "      <td>(MESH:D001930, MESH:D005472, NCBIGene:10050674...</td>\n",
       "      <td>(MESH:D005472, NCBIGene:595)</td>\n",
       "      <td>0.666667</td>\n",
       "    </tr>\n",
       "    <tr>\n",
       "      <th>3</th>\n",
       "      <td>PMC7642974__fphys-11-01022-g001.jpg</td>\n",
       "      <td>https://www.ncbi.nlm.nih.gov/pmc/articles/PMC7...</td>\n",
       "      <td>Action and classification of E3 ubiquitin liga...</td>\n",
       "      <td>(MESH:C072553, NCBIGene:23221, NCBIGene:8452)</td>\n",
       "      <td>(MESH:C017937, MESH:C039244, MESH:C119604, MES...</td>\n",
       "      <td>(NCBIGene:23221, NCBIGene:8452)</td>\n",
       "      <td>0.666667</td>\n",
       "    </tr>\n",
       "    <tr>\n",
       "      <th>4</th>\n",
       "      <td>PMC7809845__13293_2020_343_Fig4_HTML.jpg</td>\n",
       "      <td>https://www.ncbi.nlm.nih.gov/pmc/articles/PMC7...</td>\n",
       "      <td>Prolactin signaling pathway (KEGG ID: hsa04917)</td>\n",
       "      <td>(MESH:D004298, NCBIGene:23221, NCBIGene:894)</td>\n",
       "      <td>(MESH:D000255, MESH:D004298, MESH:D004967, MES...</td>\n",
       "      <td>(MESH:D004298, NCBIGene:894)</td>\n",
       "      <td>0.666667</td>\n",
       "    </tr>\n",
       "    <tr>\n",
       "      <th>...</th>\n",
       "      <td>...</td>\n",
       "      <td>...</td>\n",
       "      <td>...</td>\n",
       "      <td>...</td>\n",
       "      <td>...</td>\n",
       "      <td>...</td>\n",
       "      <td>...</td>\n",
       "    </tr>\n",
       "    <tr>\n",
       "      <th>2167</th>\n",
       "      <td>PMC7642974__fphys-11-01022-g001.jpg</td>\n",
       "      <td>https://www.ncbi.nlm.nih.gov/pmc/articles/PMC7...</td>\n",
       "      <td>Action and classification of E3 ubiquitin liga...</td>\n",
       "      <td>(MESH:D005472, NCBIGene:23221, NCBIGene:8452)</td>\n",
       "      <td>(MESH:C017937, MESH:C039244, MESH:C119604, MES...</td>\n",
       "      <td>(NCBIGene:23221, NCBIGene:8452)</td>\n",
       "      <td>0.666667</td>\n",
       "    </tr>\n",
       "    <tr>\n",
       "      <th>2168</th>\n",
       "      <td>PMC4703318__nihms587579f1.jpg</td>\n",
       "      <td>https://www.ncbi.nlm.nih.gov/pmc/articles/PMC4...</td>\n",
       "      <td>Molecular Pathways: Turning Proteasomal Protei...</td>\n",
       "      <td>(MESH:C400082, NCBIGene:23221, NCBIGene:894)</td>\n",
       "      <td>(MESH:C000593797, MESH:C400082, MESH:C475865, ...</td>\n",
       "      <td>(MESH:C400082, NCBIGene:894)</td>\n",
       "      <td>0.666667</td>\n",
       "    </tr>\n",
       "    <tr>\n",
       "      <th>2169</th>\n",
       "      <td>PMC7642974__fphys-11-01022-g001.jpg</td>\n",
       "      <td>https://www.ncbi.nlm.nih.gov/pmc/articles/PMC7...</td>\n",
       "      <td>Action and classification of E3 ubiquitin liga...</td>\n",
       "      <td>(MESH:C552719, NCBIGene:23221, NCBIGene:8452)</td>\n",
       "      <td>(MESH:C017937, MESH:C039244, MESH:C119604, MES...</td>\n",
       "      <td>(NCBIGene:23221, NCBIGene:8452)</td>\n",
       "      <td>0.666667</td>\n",
       "    </tr>\n",
       "    <tr>\n",
       "      <th>2170</th>\n",
       "      <td>PMC7642974__fphys-11-01022-g001.jpg</td>\n",
       "      <td>https://www.ncbi.nlm.nih.gov/pmc/articles/PMC7...</td>\n",
       "      <td>Action and classification of E3 ubiquitin liga...</td>\n",
       "      <td>(MESH:D012964, NCBIGene:23221, NCBIGene:8452)</td>\n",
       "      <td>(MESH:C017937, MESH:C039244, MESH:C119604, MES...</td>\n",
       "      <td>(NCBIGene:23221, NCBIGene:8452)</td>\n",
       "      <td>0.666667</td>\n",
       "    </tr>\n",
       "    <tr>\n",
       "      <th>2171</th>\n",
       "      <td>PMC5688416__ma-2017-02136r_0015.jpg</td>\n",
       "      <td>https://www.ncbi.nlm.nih.gov/pmc/articles/PMC5...</td>\n",
       "      <td>Poly[(arylene ethynylene)-alt-(arylene vinylen...</td>\n",
       "      <td>(MESH:D012964, NCBIGene:23221, NCBIGene:8452)</td>\n",
       "      <td>(MESH:C006461, MESH:C008756, MESH:C068746, MES...</td>\n",
       "      <td>(MESH:D012964, NCBIGene:8452)</td>\n",
       "      <td>0.666667</td>\n",
       "    </tr>\n",
       "  </tbody>\n",
       "</table>\n",
       "<p>2172 rows × 7 columns</p>\n",
       "</div>"
      ],
      "text/plain": [
       "                                     figure_id  \\\n",
       "0           PMC3653120__fonc-03-00119-g004.jpg   \n",
       "1            PMC5980113__JCMM-22-3108-g006.jpg   \n",
       "2             PMC4069315__WJG-20-7878-g001.jpg   \n",
       "3          PMC7642974__fphys-11-01022-g001.jpg   \n",
       "4     PMC7809845__13293_2020_343_Fig4_HTML.jpg   \n",
       "...                                        ...   \n",
       "2167       PMC7642974__fphys-11-01022-g001.jpg   \n",
       "2168             PMC4703318__nihms587579f1.jpg   \n",
       "2169       PMC7642974__fphys-11-01022-g001.jpg   \n",
       "2170       PMC7642974__fphys-11-01022-g001.jpg   \n",
       "2171       PMC5688416__ma-2017-02136r_0015.jpg   \n",
       "\n",
       "                                             figure_url  \\\n",
       "0     https://www.ncbi.nlm.nih.gov/pmc/articles/PMC3...   \n",
       "1     https://www.ncbi.nlm.nih.gov/pmc/articles/PMC5...   \n",
       "2     https://www.ncbi.nlm.nih.gov/pmc/articles/PMC4...   \n",
       "3     https://www.ncbi.nlm.nih.gov/pmc/articles/PMC7...   \n",
       "4     https://www.ncbi.nlm.nih.gov/pmc/articles/PMC7...   \n",
       "...                                                 ...   \n",
       "2167  https://www.ncbi.nlm.nih.gov/pmc/articles/PMC7...   \n",
       "2168  https://www.ncbi.nlm.nih.gov/pmc/articles/PMC4...   \n",
       "2169  https://www.ncbi.nlm.nih.gov/pmc/articles/PMC7...   \n",
       "2170  https://www.ncbi.nlm.nih.gov/pmc/articles/PMC7...   \n",
       "2171  https://www.ncbi.nlm.nih.gov/pmc/articles/PMC5...   \n",
       "\n",
       "                                           figure_title  \\\n",
       "0     Effect of physical activity and obesity on the...   \n",
       "1     Role of MICAL1 in breast cancer cell prolifera...   \n",
       "2     Mechanisms of action of lactic acid bacteria v...   \n",
       "3     Action and classification of E3 ubiquitin liga...   \n",
       "4       Prolactin signaling pathway (KEGG ID: hsa04917)   \n",
       "...                                                 ...   \n",
       "2167  Action and classification of E3 ubiquitin liga...   \n",
       "2168  Molecular Pathways: Turning Proteasomal Protei...   \n",
       "2169  Action and classification of E3 ubiquitin liga...   \n",
       "2170  Action and classification of E3 ubiquitin liga...   \n",
       "2171  Poly[(arylene ethynylene)-alt-(arylene vinylen...   \n",
       "\n",
       "                           trapi_result_curie_combo  \\\n",
       "0      (MESH:D005492, NCBIGene:23221, NCBIGene:894)   \n",
       "1      (MESH:D005472, NCBIGene:23221, NCBIGene:595)   \n",
       "2      (MESH:D005472, NCBIGene:23221, NCBIGene:595)   \n",
       "3     (MESH:C072553, NCBIGene:23221, NCBIGene:8452)   \n",
       "4      (MESH:D004298, NCBIGene:23221, NCBIGene:894)   \n",
       "...                                             ...   \n",
       "2167  (MESH:D005472, NCBIGene:23221, NCBIGene:8452)   \n",
       "2168   (MESH:C400082, NCBIGene:23221, NCBIGene:894)   \n",
       "2169  (MESH:C552719, NCBIGene:23221, NCBIGene:8452)   \n",
       "2170  (MESH:D012964, NCBIGene:23221, NCBIGene:8452)   \n",
       "2171  (MESH:D012964, NCBIGene:23221, NCBIGene:8452)   \n",
       "\n",
       "                                     figure_curie_combo  \\\n",
       "0     (MESH:C045651, MESH:C440975, MESH:D003474, MES...   \n",
       "1     (MESH:C085911, MESH:C086501, MESH:D005472, NCB...   \n",
       "2     (MESH:D001930, MESH:D005472, NCBIGene:10050674...   \n",
       "3     (MESH:C017937, MESH:C039244, MESH:C119604, MES...   \n",
       "4     (MESH:D000255, MESH:D004298, MESH:D004967, MES...   \n",
       "...                                                 ...   \n",
       "2167  (MESH:C017937, MESH:C039244, MESH:C119604, MES...   \n",
       "2168  (MESH:C000593797, MESH:C400082, MESH:C475865, ...   \n",
       "2169  (MESH:C017937, MESH:C039244, MESH:C119604, MES...   \n",
       "2170  (MESH:C017937, MESH:C039244, MESH:C119604, MES...   \n",
       "2171  (MESH:C006461, MESH:C008756, MESH:C068746, MES...   \n",
       "\n",
       "                  overlap_curie_combo     score  \n",
       "0        (MESH:D005492, NCBIGene:894)  0.666667  \n",
       "1        (MESH:D005472, NCBIGene:595)  0.666667  \n",
       "2        (MESH:D005472, NCBIGene:595)  0.666667  \n",
       "3     (NCBIGene:23221, NCBIGene:8452)  0.666667  \n",
       "4        (MESH:D004298, NCBIGene:894)  0.666667  \n",
       "...                               ...       ...  \n",
       "2167  (NCBIGene:23221, NCBIGene:8452)  0.666667  \n",
       "2168     (MESH:C400082, NCBIGene:894)  0.666667  \n",
       "2169  (NCBIGene:23221, NCBIGene:8452)  0.666667  \n",
       "2170  (NCBIGene:23221, NCBIGene:8452)  0.666667  \n",
       "2171    (MESH:D012964, NCBIGene:8452)  0.666667  \n",
       "\n",
       "[2172 rows x 7 columns]"
      ]
     },
     "execution_count": 12,
     "metadata": {},
     "output_type": "execute_result"
    }
   ],
   "source": [
    "from SetSimilaritySearch import SearchIndex\n",
    "\n",
    "# the reference sets are supposed to be from PFOCR only\n",
    "reference_sets = list()\n",
    "for curies in set(curies_to_figure_ids.keys()):\n",
    "    reference_sets.append(set(curies))\n",
    "# but in order to calculate the scores correctly,\n",
    "# the SetSimilaritySearch library requires that\n",
    "# every curie from the bte results need to be\n",
    "# mentioned at least once in the reference set.\n",
    "# That's the only reason we add them below, as\n",
    "# one large set.\n",
    "\n",
    "unified_curie_columns = [\n",
    "    q_node_id + \"_unified_curie\" for q_node_id in q_node_ids\n",
    "]\n",
    "\n",
    "trapi_result_curie_combos = set()\n",
    "for i, df in results_df[unified_curie_columns].drop_duplicates().iterrows():\n",
    "    trapi_result_curies = []\n",
    "    for unified_curie_column in unified_curie_columns:\n",
    "        trapi_result_curies.append(\n",
    "            df[unified_curie_column]\n",
    "        )\n",
    "    trapi_result_curie_combos.add(tuple(sorted(\n",
    "        trapi_result_curies\n",
    "    )))\n",
    "    \n",
    "reference_set = set()\n",
    "for trapi_result_curie_combo in trapi_result_curie_combos:\n",
    "    reference_set |= set(trapi_result_curie_combo)\n",
    "reference_sets.append(reference_set)\n",
    "\n",
    "matchable_node_min = 2\n",
    "matchable_node_count = len(q_node_ids)\n",
    "index = SearchIndex(reference_sets, similarity_func_name=\"containment\", \n",
    "    similarity_threshold=matchable_node_min/matchable_node_count)\n",
    "\n",
    "trapi_figure_overlap_rows = []\n",
    "for trapi_result_curie_combo in trapi_result_curie_combos:\n",
    "    trapi_curies = set(trapi_result_curie_combo)\n",
    "    results = index.query(trapi_curies)\n",
    "    for result in results:\n",
    "        figure_curie_combos = reference_sets[result[0]]\n",
    "        figure_curie_key = tuple(sorted(figure_curie_combos))\n",
    "        \n",
    "        # needed to not match bte results to themselves\n",
    "        if figure_curie_key in curies_to_figure_ids:\n",
    "            figure_ids = curies_to_figure_ids[figure_curie_key]\n",
    "        else:\n",
    "            continue\n",
    "            \n",
    "        score = result[1]\n",
    "        \n",
    "        common_curies = trapi_curies.intersection(figure_curie_combos)\n",
    "        for figure_id in figure_ids:\n",
    "            pfocr_result = figure_id_to_pfocr_result[figure_id]\n",
    "            trapi_figure_overlap_rows.append({\n",
    "                \"figure_id\": figure_id,\n",
    "                \"figure_url\": pfocr_result[\"associatedWith\"][\"figureUrl\"],\n",
    "                \"figure_title\": pfocr_result[\"associatedWith\"][\"title\"],\n",
    "                \"trapi_result_curie_combo\": trapi_result_curie_combo,\n",
    "                \"figure_curie_combo\": figure_curie_key,\n",
    "                \"overlap_curie_combo\": tuple(sorted(common_curies)),\n",
    "                \"score\": score,\n",
    "            })\n",
    "\n",
    "\n",
    "trapi_figure_overlap_df = pd.DataFrame.from_records(trapi_figure_overlap_rows)\n",
    "trapi_figure_overlap_df"
   ]
  },
  {
   "cell_type": "code",
   "execution_count": 13,
   "metadata": {},
   "outputs": [
    {
     "name": "stdout",
     "output_type": "stream",
     "text": [
      "887\n",
      "0\n",
      "0\n",
      "695\n"
     ]
    }
   ],
   "source": [
    "print(len(set(\n",
    "    trapi_figure_overlap_df[trapi_figure_overlap_df[\"overlap_curie_combo\"].map(len) >= 2][\"trapi_result_curie_combo\"]\n",
    ")))\n",
    "print(len(set(\n",
    "    trapi_figure_overlap_df[trapi_figure_overlap_df[\"overlap_curie_combo\"].map(len) >= 3][\"trapi_result_curie_combo\"]\n",
    ")))\n",
    "print(len(set(\n",
    "    trapi_figure_overlap_df[trapi_figure_overlap_df[\"overlap_curie_combo\"].map(len) >= 4][\"trapi_result_curie_combo\"]\n",
    ")))\n",
    "print(len(set(trapi_figure_overlap_df[\"figure_id\"])))"
   ]
  },
  {
   "cell_type": "markdown",
   "metadata": {},
   "source": [
    "### trapi_curie_combo_count_by_figure_df"
   ]
  },
  {
   "cell_type": "code",
   "execution_count": 14,
   "metadata": {},
   "outputs": [
    {
     "data": {
      "text/html": [
       "<div>\n",
       "<style scoped>\n",
       "    .dataframe tbody tr th:only-of-type {\n",
       "        vertical-align: middle;\n",
       "    }\n",
       "\n",
       "    .dataframe tbody tr th {\n",
       "        vertical-align: top;\n",
       "    }\n",
       "\n",
       "    .dataframe thead th {\n",
       "        text-align: right;\n",
       "    }\n",
       "</style>\n",
       "<table border=\"1\" class=\"dataframe\">\n",
       "  <thead>\n",
       "    <tr style=\"text-align: right;\">\n",
       "      <th></th>\n",
       "      <th>trapi_curie_combo_count</th>\n",
       "    </tr>\n",
       "    <tr>\n",
       "      <th>figure_id</th>\n",
       "      <th></th>\n",
       "    </tr>\n",
       "  </thead>\n",
       "  <tbody>\n",
       "    <tr>\n",
       "      <th>PMC6089851__gr1.jpg</th>\n",
       "      <td>326</td>\n",
       "    </tr>\n",
       "    <tr>\n",
       "      <th>PMC7642974__fphys-11-01022-g001.jpg</th>\n",
       "      <td>174</td>\n",
       "    </tr>\n",
       "    <tr>\n",
       "      <th>PMC4706528__cbm-12-04-342-f1.jpg</th>\n",
       "      <td>30</td>\n",
       "    </tr>\n",
       "    <tr>\n",
       "      <th>PMC5820294__fonc-08-00038-g001.jpg</th>\n",
       "      <td>21</td>\n",
       "    </tr>\n",
       "    <tr>\n",
       "      <th>PMC2861144__nihms195501f1.jpg</th>\n",
       "      <td>19</td>\n",
       "    </tr>\n",
       "    <tr>\n",
       "      <th>...</th>\n",
       "      <td>...</td>\n",
       "    </tr>\n",
       "    <tr>\n",
       "      <th>PMC5550862__cddis2017315f8.jpg</th>\n",
       "      <td>1</td>\n",
       "    </tr>\n",
       "    <tr>\n",
       "      <th>PMC5546324__nihms866088f6.jpg</th>\n",
       "      <td>1</td>\n",
       "    </tr>\n",
       "    <tr>\n",
       "      <th>PMC3811010__nihms-496184-f0004.jpg</th>\n",
       "      <td>1</td>\n",
       "    </tr>\n",
       "    <tr>\n",
       "      <th>PMC5543040__fendo-08-00187-g001.jpg</th>\n",
       "      <td>1</td>\n",
       "    </tr>\n",
       "    <tr>\n",
       "      <th>PMC4868718__oncotarget-07-5738-g012.jpg</th>\n",
       "      <td>1</td>\n",
       "    </tr>\n",
       "  </tbody>\n",
       "</table>\n",
       "<p>695 rows × 1 columns</p>\n",
       "</div>"
      ],
      "text/plain": [
       "                                         trapi_curie_combo_count\n",
       "figure_id                                                       \n",
       "PMC6089851__gr1.jpg                                          326\n",
       "PMC7642974__fphys-11-01022-g001.jpg                          174\n",
       "PMC4706528__cbm-12-04-342-f1.jpg                              30\n",
       "PMC5820294__fonc-08-00038-g001.jpg                            21\n",
       "PMC2861144__nihms195501f1.jpg                                 19\n",
       "...                                                          ...\n",
       "PMC5550862__cddis2017315f8.jpg                                 1\n",
       "PMC5546324__nihms866088f6.jpg                                  1\n",
       "PMC3811010__nihms-496184-f0004.jpg                             1\n",
       "PMC5543040__fendo-08-00187-g001.jpg                            1\n",
       "PMC4868718__oncotarget-07-5738-g012.jpg                        1\n",
       "\n",
       "[695 rows x 1 columns]"
      ]
     },
     "execution_count": 14,
     "metadata": {},
     "output_type": "execute_result"
    }
   ],
   "source": [
    "trapi_curie_combo_count_by_figure_df = trapi_figure_overlap_df[[\"figure_id\", \"trapi_result_curie_combo\"]].rename(columns={\n",
    "    \"trapi_result_curie_combo\": \"trapi_curie_combo_count\"\n",
    "}).groupby(\"figure_id\").count().sort_values(\n",
    "    by=\"trapi_curie_combo_count\", ascending=False)\n",
    "trapi_curie_combo_count_by_figure_df"
   ]
  },
  {
   "cell_type": "markdown",
   "metadata": {},
   "source": [
    "### figure count/score by trapi curie combo"
   ]
  },
  {
   "cell_type": "code",
   "execution_count": 15,
   "metadata": {},
   "outputs": [
    {
     "data": {
      "text/html": [
       "<div>\n",
       "<style scoped>\n",
       "    .dataframe tbody tr th:only-of-type {\n",
       "        vertical-align: middle;\n",
       "    }\n",
       "\n",
       "    .dataframe tbody tr th {\n",
       "        vertical-align: top;\n",
       "    }\n",
       "\n",
       "    .dataframe thead th {\n",
       "        text-align: right;\n",
       "    }\n",
       "</style>\n",
       "<table border=\"1\" class=\"dataframe\">\n",
       "  <thead>\n",
       "    <tr style=\"text-align: right;\">\n",
       "      <th></th>\n",
       "      <th>figure_count</th>\n",
       "    </tr>\n",
       "    <tr>\n",
       "      <th>trapi_result_curie_combo</th>\n",
       "      <th></th>\n",
       "    </tr>\n",
       "  </thead>\n",
       "  <tbody>\n",
       "    <tr>\n",
       "      <th>(MESH:D000249, NCBIGene:23221, NCBIGene:6794)</th>\n",
       "      <td>123</td>\n",
       "    </tr>\n",
       "    <tr>\n",
       "      <th>(MESH:D000255, NCBIGene:23221, NCBIGene:6794)</th>\n",
       "      <td>107</td>\n",
       "    </tr>\n",
       "    <tr>\n",
       "      <th>(MESH:D008687, NCBIGene:23221, NCBIGene:6794)</th>\n",
       "      <td>57</td>\n",
       "    </tr>\n",
       "    <tr>\n",
       "      <th>(MESH:D020123, NCBIGene:23221, NCBIGene:6794)</th>\n",
       "      <td>51</td>\n",
       "    </tr>\n",
       "    <tr>\n",
       "      <th>(NCBIGene:23221, NCBIGene:5111, NCBIGene:595)</th>\n",
       "      <td>42</td>\n",
       "    </tr>\n",
       "    <tr>\n",
       "      <th>(MESH:D009243, NCBIGene:23221, NCBIGene:6794)</th>\n",
       "      <td>42</td>\n",
       "    </tr>\n",
       "    <tr>\n",
       "      <th>(MESH:D002118, NCBIGene:23221, NCBIGene:595)</th>\n",
       "      <td>40</td>\n",
       "    </tr>\n",
       "    <tr>\n",
       "      <th>(MESH:D002118, NCBIGene:23221, NCBIGene:6794)</th>\n",
       "      <td>33</td>\n",
       "    </tr>\n",
       "    <tr>\n",
       "      <th>(MESH:D012694, NCBIGene:23221, NCBIGene:595)</th>\n",
       "      <td>31</td>\n",
       "    </tr>\n",
       "    <tr>\n",
       "      <th>(MESH:D012694, NCBIGene:23221, NCBIGene:6794)</th>\n",
       "      <td>23</td>\n",
       "    </tr>\n",
       "  </tbody>\n",
       "</table>\n",
       "</div>"
      ],
      "text/plain": [
       "                                               figure_count\n",
       "trapi_result_curie_combo                                   \n",
       "(MESH:D000249, NCBIGene:23221, NCBIGene:6794)           123\n",
       "(MESH:D000255, NCBIGene:23221, NCBIGene:6794)           107\n",
       "(MESH:D008687, NCBIGene:23221, NCBIGene:6794)            57\n",
       "(MESH:D020123, NCBIGene:23221, NCBIGene:6794)            51\n",
       "(NCBIGene:23221, NCBIGene:5111, NCBIGene:595)            42\n",
       "(MESH:D009243, NCBIGene:23221, NCBIGene:6794)            42\n",
       "(MESH:D002118, NCBIGene:23221, NCBIGene:595)             40\n",
       "(MESH:D002118, NCBIGene:23221, NCBIGene:6794)            33\n",
       "(MESH:D012694, NCBIGene:23221, NCBIGene:595)             31\n",
       "(MESH:D012694, NCBIGene:23221, NCBIGene:6794)            23"
      ]
     },
     "execution_count": 15,
     "metadata": {},
     "output_type": "execute_result"
    }
   ],
   "source": [
    "trapi_figure_overlap_df[[\"trapi_result_curie_combo\", \"figure_id\"]].rename(columns={\n",
    "    \"figure_id\": \"figure_count\"\n",
    "}).groupby(\"trapi_result_curie_combo\").count().sort_values(\n",
    "    by=\"figure_count\", ascending=False).head(10)"
   ]
  },
  {
   "cell_type": "code",
   "execution_count": 16,
   "metadata": {},
   "outputs": [
    {
     "data": {
      "text/html": [
       "<div>\n",
       "<style scoped>\n",
       "    .dataframe tbody tr th:only-of-type {\n",
       "        vertical-align: middle;\n",
       "    }\n",
       "\n",
       "    .dataframe tbody tr th {\n",
       "        vertical-align: top;\n",
       "    }\n",
       "\n",
       "    .dataframe thead th {\n",
       "        text-align: right;\n",
       "    }\n",
       "</style>\n",
       "<table border=\"1\" class=\"dataframe\">\n",
       "  <thead>\n",
       "    <tr style=\"text-align: right;\">\n",
       "      <th></th>\n",
       "      <th>cumulative_trapi_result_curie_combo_figure_score</th>\n",
       "    </tr>\n",
       "    <tr>\n",
       "      <th>trapi_result_curie_combo</th>\n",
       "      <th></th>\n",
       "    </tr>\n",
       "  </thead>\n",
       "  <tbody>\n",
       "    <tr>\n",
       "      <th>(MESH:D000249, NCBIGene:23221, NCBIGene:6794)</th>\n",
       "      <td>82.000000</td>\n",
       "    </tr>\n",
       "    <tr>\n",
       "      <th>(MESH:D000255, NCBIGene:23221, NCBIGene:6794)</th>\n",
       "      <td>71.333333</td>\n",
       "    </tr>\n",
       "    <tr>\n",
       "      <th>(MESH:D008687, NCBIGene:23221, NCBIGene:6794)</th>\n",
       "      <td>38.000000</td>\n",
       "    </tr>\n",
       "    <tr>\n",
       "      <th>(MESH:D020123, NCBIGene:23221, NCBIGene:6794)</th>\n",
       "      <td>34.000000</td>\n",
       "    </tr>\n",
       "    <tr>\n",
       "      <th>(NCBIGene:23221, NCBIGene:5111, NCBIGene:595)</th>\n",
       "      <td>28.000000</td>\n",
       "    </tr>\n",
       "    <tr>\n",
       "      <th>(MESH:D009243, NCBIGene:23221, NCBIGene:6794)</th>\n",
       "      <td>28.000000</td>\n",
       "    </tr>\n",
       "    <tr>\n",
       "      <th>(MESH:D002118, NCBIGene:23221, NCBIGene:595)</th>\n",
       "      <td>26.666667</td>\n",
       "    </tr>\n",
       "    <tr>\n",
       "      <th>(MESH:D002118, NCBIGene:23221, NCBIGene:6794)</th>\n",
       "      <td>22.000000</td>\n",
       "    </tr>\n",
       "    <tr>\n",
       "      <th>(MESH:D012694, NCBIGene:23221, NCBIGene:595)</th>\n",
       "      <td>20.666667</td>\n",
       "    </tr>\n",
       "    <tr>\n",
       "      <th>(MESH:D012694, NCBIGene:23221, NCBIGene:6794)</th>\n",
       "      <td>15.333333</td>\n",
       "    </tr>\n",
       "  </tbody>\n",
       "</table>\n",
       "</div>"
      ],
      "text/plain": [
       "                                               cumulative_trapi_result_curie_combo_figure_score\n",
       "trapi_result_curie_combo                                                                       \n",
       "(MESH:D000249, NCBIGene:23221, NCBIGene:6794)                                         82.000000\n",
       "(MESH:D000255, NCBIGene:23221, NCBIGene:6794)                                         71.333333\n",
       "(MESH:D008687, NCBIGene:23221, NCBIGene:6794)                                         38.000000\n",
       "(MESH:D020123, NCBIGene:23221, NCBIGene:6794)                                         34.000000\n",
       "(NCBIGene:23221, NCBIGene:5111, NCBIGene:595)                                         28.000000\n",
       "(MESH:D009243, NCBIGene:23221, NCBIGene:6794)                                         28.000000\n",
       "(MESH:D002118, NCBIGene:23221, NCBIGene:595)                                          26.666667\n",
       "(MESH:D002118, NCBIGene:23221, NCBIGene:6794)                                         22.000000\n",
       "(MESH:D012694, NCBIGene:23221, NCBIGene:595)                                          20.666667\n",
       "(MESH:D012694, NCBIGene:23221, NCBIGene:6794)                                         15.333333"
      ]
     },
     "execution_count": 16,
     "metadata": {},
     "output_type": "execute_result"
    }
   ],
   "source": [
    "trapi_result_figure_score_df = trapi_figure_overlap_df[[\"trapi_result_curie_combo\", \"score\"]].rename(\n",
    "    columns={\"score\": \"cumulative_trapi_result_curie_combo_figure_score\"}\n",
    ").groupby(\"trapi_result_curie_combo\").sum().sort_values(\n",
    "    by=\"cumulative_trapi_result_curie_combo_figure_score\", ascending=False)\n",
    "trapi_result_figure_score_df.head(10)"
   ]
  },
  {
   "cell_type": "code",
   "execution_count": 17,
   "metadata": {},
   "outputs": [
    {
     "data": {
      "text/html": [
       "<div>\n",
       "<style scoped>\n",
       "    .dataframe tbody tr th:only-of-type {\n",
       "        vertical-align: middle;\n",
       "    }\n",
       "\n",
       "    .dataframe tbody tr th {\n",
       "        vertical-align: top;\n",
       "    }\n",
       "\n",
       "    .dataframe thead th {\n",
       "        text-align: right;\n",
       "    }\n",
       "</style>\n",
       "<table border=\"1\" class=\"dataframe\">\n",
       "  <thead>\n",
       "    <tr style=\"text-align: right;\">\n",
       "      <th></th>\n",
       "      <th>figure_id</th>\n",
       "      <th>figure_url</th>\n",
       "      <th>figure_title</th>\n",
       "      <th>trapi_result_curie_combo</th>\n",
       "      <th>figure_curie_combo</th>\n",
       "      <th>overlap_curie_combo</th>\n",
       "      <th>score</th>\n",
       "      <th>n0</th>\n",
       "      <th>e01</th>\n",
       "      <th>n1</th>\n",
       "      <th>e02</th>\n",
       "      <th>n2</th>\n",
       "      <th>n0_curie</th>\n",
       "      <th>n0_unified_curie</th>\n",
       "      <th>n1_curie</th>\n",
       "      <th>n1_unified_curie</th>\n",
       "      <th>n2_curie</th>\n",
       "      <th>n2_unified_curie</th>\n",
       "      <th>cumulative_trapi_result_curie_combo_figure_score</th>\n",
       "      <th>trapi_curie_combo_count_by_figure</th>\n",
       "    </tr>\n",
       "  </thead>\n",
       "  <tbody>\n",
       "    <tr>\n",
       "      <th>2174</th>\n",
       "      <td>PMC3536343__cshperspect-TRA-012252_F1.jpg</td>\n",
       "      <td>https://www.ncbi.nlm.nih.gov/pmc/articles/PMC3...</td>\n",
       "      <td>MTORC1 signaling to the translational machinery</td>\n",
       "      <td>(MESH:D000249, NCBIGene:23221, NCBIGene:6794)</td>\n",
       "      <td>(MESH:C039301, MESH:D000249, MESH:D000255, MES...</td>\n",
       "      <td>(MESH:D000249, NCBIGene:6794)</td>\n",
       "      <td>0.666667</td>\n",
       "      <td>RHOBTB2</td>\n",
       "      <td>entity_negatively_regulates_entity</td>\n",
       "      <td>STK11</td>\n",
       "      <td>entity_positively_regulates_entity</td>\n",
       "      <td>Adenosine monophosphate</td>\n",
       "      <td>NCBIGene:23221</td>\n",
       "      <td>NCBIGene:23221</td>\n",
       "      <td>NCBIGene:6794</td>\n",
       "      <td>NCBIGene:6794</td>\n",
       "      <td>PUBCHEM.COMPOUND:6083</td>\n",
       "      <td>MESH:D000249</td>\n",
       "      <td>82.000000</td>\n",
       "      <td>2</td>\n",
       "    </tr>\n",
       "    <tr>\n",
       "      <th>1971</th>\n",
       "      <td>PMC6304530__BMRI2018-5837235.001.jpg</td>\n",
       "      <td>https://www.ncbi.nlm.nih.gov/pmc/articles/PMC6...</td>\n",
       "      <td>The reprogramming of metabolism in cancer</td>\n",
       "      <td>(MESH:D000249, NCBIGene:23221, NCBIGene:6794)</td>\n",
       "      <td>(MESH:C000589078, MESH:C011080, MESH:C038361, ...</td>\n",
       "      <td>(MESH:D000249, NCBIGene:6794)</td>\n",
       "      <td>0.666667</td>\n",
       "      <td>RHOBTB2</td>\n",
       "      <td>entity_negatively_regulates_entity</td>\n",
       "      <td>STK11</td>\n",
       "      <td>entity_negatively_regulates_entity</td>\n",
       "      <td>Adenosine monophosphate</td>\n",
       "      <td>NCBIGene:23221</td>\n",
       "      <td>NCBIGene:23221</td>\n",
       "      <td>NCBIGene:6794</td>\n",
       "      <td>NCBIGene:6794</td>\n",
       "      <td>PUBCHEM.COMPOUND:6083</td>\n",
       "      <td>MESH:D000249</td>\n",
       "      <td>82.000000</td>\n",
       "      <td>6</td>\n",
       "    </tr>\n",
       "    <tr>\n",
       "      <th>1962</th>\n",
       "      <td>PMC7998595__jcm-10-01184-g001.jpg</td>\n",
       "      <td>https://www.ncbi.nlm.nih.gov/pmc/articles/PMC7...</td>\n",
       "      <td>Autophagy pathway in podocyte</td>\n",
       "      <td>(MESH:D000249, NCBIGene:23221, NCBIGene:6794)</td>\n",
       "      <td>(MESH:C530429, MESH:D000186, MESH:D000249, MES...</td>\n",
       "      <td>(MESH:D000249, NCBIGene:6794)</td>\n",
       "      <td>0.666667</td>\n",
       "      <td>RHOBTB2</td>\n",
       "      <td>entity_negatively_regulates_entity</td>\n",
       "      <td>STK11</td>\n",
       "      <td>entity_negatively_regulates_entity</td>\n",
       "      <td>Adenosine monophosphate</td>\n",
       "      <td>NCBIGene:23221</td>\n",
       "      <td>NCBIGene:23221</td>\n",
       "      <td>NCBIGene:6794</td>\n",
       "      <td>NCBIGene:6794</td>\n",
       "      <td>PUBCHEM.COMPOUND:6083</td>\n",
       "      <td>MESH:D000249</td>\n",
       "      <td>82.000000</td>\n",
       "      <td>2</td>\n",
       "    </tr>\n",
       "    <tr>\n",
       "      <th>1963</th>\n",
       "      <td>PMC7998595__jcm-10-01184-g001.jpg</td>\n",
       "      <td>https://www.ncbi.nlm.nih.gov/pmc/articles/PMC7...</td>\n",
       "      <td>Autophagy pathway in podocyte</td>\n",
       "      <td>(MESH:D000249, NCBIGene:23221, NCBIGene:6794)</td>\n",
       "      <td>(MESH:C530429, MESH:D000186, MESH:D000249, MES...</td>\n",
       "      <td>(MESH:D000249, NCBIGene:6794)</td>\n",
       "      <td>0.666667</td>\n",
       "      <td>RHOBTB2</td>\n",
       "      <td>entity_negatively_regulates_entity</td>\n",
       "      <td>STK11</td>\n",
       "      <td>correlated_with</td>\n",
       "      <td>Adenosine monophosphate</td>\n",
       "      <td>NCBIGene:23221</td>\n",
       "      <td>NCBIGene:23221</td>\n",
       "      <td>NCBIGene:6794</td>\n",
       "      <td>NCBIGene:6794</td>\n",
       "      <td>PUBCHEM.COMPOUND:6083</td>\n",
       "      <td>MESH:D000249</td>\n",
       "      <td>82.000000</td>\n",
       "      <td>2</td>\n",
       "    </tr>\n",
       "    <tr>\n",
       "      <th>1964</th>\n",
       "      <td>PMC7998595__jcm-10-01184-g001.jpg</td>\n",
       "      <td>https://www.ncbi.nlm.nih.gov/pmc/articles/PMC7...</td>\n",
       "      <td>Autophagy pathway in podocyte</td>\n",
       "      <td>(MESH:D000249, NCBIGene:23221, NCBIGene:6794)</td>\n",
       "      <td>(MESH:C530429, MESH:D000186, MESH:D000249, MES...</td>\n",
       "      <td>(MESH:D000249, NCBIGene:6794)</td>\n",
       "      <td>0.666667</td>\n",
       "      <td>RHOBTB2</td>\n",
       "      <td>entity_negatively_regulates_entity</td>\n",
       "      <td>STK11</td>\n",
       "      <td>entity_positively_regulates_entity</td>\n",
       "      <td>Adenosine monophosphate</td>\n",
       "      <td>NCBIGene:23221</td>\n",
       "      <td>NCBIGene:23221</td>\n",
       "      <td>NCBIGene:6794</td>\n",
       "      <td>NCBIGene:6794</td>\n",
       "      <td>PUBCHEM.COMPOUND:6083</td>\n",
       "      <td>MESH:D000249</td>\n",
       "      <td>82.000000</td>\n",
       "      <td>2</td>\n",
       "    </tr>\n",
       "    <tr>\n",
       "      <th>...</th>\n",
       "      <td>...</td>\n",
       "      <td>...</td>\n",
       "      <td>...</td>\n",
       "      <td>...</td>\n",
       "      <td>...</td>\n",
       "      <td>...</td>\n",
       "      <td>...</td>\n",
       "      <td>...</td>\n",
       "      <td>...</td>\n",
       "      <td>...</td>\n",
       "      <td>...</td>\n",
       "      <td>...</td>\n",
       "      <td>...</td>\n",
       "      <td>...</td>\n",
       "      <td>...</td>\n",
       "      <td>...</td>\n",
       "      <td>...</td>\n",
       "      <td>...</td>\n",
       "      <td>...</td>\n",
       "      <td>...</td>\n",
       "    </tr>\n",
       "    <tr>\n",
       "      <th>3589</th>\n",
       "      <td>PMC6089851__gr1.jpg</td>\n",
       "      <td>https://www.ncbi.nlm.nih.gov/pmc/articles/PMC6...</td>\n",
       "      <td>Major RAS family numbers</td>\n",
       "      <td>(MESH:C531198, NCBIGene:23221, NCBIGene:388)</td>\n",
       "      <td>(MESH:C040523, MESH:C052497, MESH:C535729, MES...</td>\n",
       "      <td>(NCBIGene:23221, NCBIGene:388)</td>\n",
       "      <td>0.666667</td>\n",
       "      <td>RHOBTB2</td>\n",
       "      <td>entity_negatively_regulates_entity</td>\n",
       "      <td>RHOB</td>\n",
       "      <td>resistance_associated_with</td>\n",
       "      <td>Dactolisib</td>\n",
       "      <td>NCBIGene:23221</td>\n",
       "      <td>NCBIGene:23221</td>\n",
       "      <td>NCBIGene:388</td>\n",
       "      <td>NCBIGene:388</td>\n",
       "      <td>PUBCHEM.COMPOUND:11977753</td>\n",
       "      <td>MESH:C531198</td>\n",
       "      <td>0.666667</td>\n",
       "      <td>326</td>\n",
       "    </tr>\n",
       "    <tr>\n",
       "      <th>3590</th>\n",
       "      <td>PMC6089851__gr1.jpg</td>\n",
       "      <td>https://www.ncbi.nlm.nih.gov/pmc/articles/PMC6...</td>\n",
       "      <td>Major RAS family numbers</td>\n",
       "      <td>(MESH:C531198, NCBIGene:23221, NCBIGene:388)</td>\n",
       "      <td>(MESH:C040523, MESH:C052497, MESH:C535729, MES...</td>\n",
       "      <td>(NCBIGene:23221, NCBIGene:388)</td>\n",
       "      <td>0.666667</td>\n",
       "      <td>RHOBTB2</td>\n",
       "      <td>entity_negatively_regulates_entity</td>\n",
       "      <td>RHOB</td>\n",
       "      <td>sensitivity_associated_with</td>\n",
       "      <td>Dactolisib</td>\n",
       "      <td>NCBIGene:23221</td>\n",
       "      <td>NCBIGene:23221</td>\n",
       "      <td>NCBIGene:388</td>\n",
       "      <td>NCBIGene:388</td>\n",
       "      <td>PUBCHEM.COMPOUND:11977753</td>\n",
       "      <td>MESH:C531198</td>\n",
       "      <td>0.666667</td>\n",
       "      <td>326</td>\n",
       "    </tr>\n",
       "    <tr>\n",
       "      <th>3591</th>\n",
       "      <td>PMC3618522__nihms433145f1.jpg</td>\n",
       "      <td>https://www.ncbi.nlm.nih.gov/pmc/articles/PMC3...</td>\n",
       "      <td>Molecular Pathways: Current Role and Future Di...</td>\n",
       "      <td>(MESH:D014801, NCBIGene:23221, NCBIGene:595)</td>\n",
       "      <td>(MESH:C059630, MESH:D014212, MESH:D014801, NCB...</td>\n",
       "      <td>(MESH:D014801, NCBIGene:595)</td>\n",
       "      <td>0.666667</td>\n",
       "      <td>RHOBTB2</td>\n",
       "      <td>entity_negatively_regulates_entity</td>\n",
       "      <td>CCND1</td>\n",
       "      <td>entity_negatively_regulates_entity</td>\n",
       "      <td>Retinol</td>\n",
       "      <td>NCBIGene:23221</td>\n",
       "      <td>NCBIGene:23221</td>\n",
       "      <td>NCBIGene:595</td>\n",
       "      <td>NCBIGene:595</td>\n",
       "      <td>PUBCHEM.COMPOUND:445354</td>\n",
       "      <td>MESH:D014801</td>\n",
       "      <td>0.666667</td>\n",
       "      <td>2</td>\n",
       "    </tr>\n",
       "    <tr>\n",
       "      <th>1769</th>\n",
       "      <td>PMC6089851__gr1.jpg</td>\n",
       "      <td>https://www.ncbi.nlm.nih.gov/pmc/articles/PMC6...</td>\n",
       "      <td>Major RAS family numbers</td>\n",
       "      <td>(MESH:C000710356, NCBIGene:23221, NCBIGene:388)</td>\n",
       "      <td>(MESH:C040523, MESH:C052497, MESH:C535729, MES...</td>\n",
       "      <td>(NCBIGene:23221, NCBIGene:388)</td>\n",
       "      <td>0.666667</td>\n",
       "      <td>RHOBTB2</td>\n",
       "      <td>entity_negatively_regulates_entity</td>\n",
       "      <td>RHOB</td>\n",
       "      <td>resistance_associated_with</td>\n",
       "      <td>1-[4-Amino-7-(3-hydroxypropyl)-5-(4-methylphen...</td>\n",
       "      <td>NCBIGene:23221</td>\n",
       "      <td>NCBIGene:23221</td>\n",
       "      <td>NCBIGene:388</td>\n",
       "      <td>NCBIGene:388</td>\n",
       "      <td>PUBCHEM.COMPOUND:644243</td>\n",
       "      <td>MESH:C000710356</td>\n",
       "      <td>0.666667</td>\n",
       "      <td>326</td>\n",
       "    </tr>\n",
       "    <tr>\n",
       "      <th>0</th>\n",
       "      <td>PMC3653120__fonc-03-00119-g004.jpg</td>\n",
       "      <td>https://www.ncbi.nlm.nih.gov/pmc/articles/PMC3...</td>\n",
       "      <td>Effect of physical activity and obesity on the...</td>\n",
       "      <td>(MESH:D005492, NCBIGene:23221, NCBIGene:894)</td>\n",
       "      <td>(MESH:C045651, MESH:C440975, MESH:D003474, MES...</td>\n",
       "      <td>(MESH:D005492, NCBIGene:894)</td>\n",
       "      <td>0.666667</td>\n",
       "      <td>RHOBTB2</td>\n",
       "      <td>entity_negatively_regulates_entity</td>\n",
       "      <td>CCND2</td>\n",
       "      <td>entity_negatively_regulates_entity</td>\n",
       "      <td>Folic acid</td>\n",
       "      <td>NCBIGene:23221</td>\n",
       "      <td>NCBIGene:23221</td>\n",
       "      <td>NCBIGene:894</td>\n",
       "      <td>NCBIGene:894</td>\n",
       "      <td>PUBCHEM.COMPOUND:135398658</td>\n",
       "      <td>MESH:D005492</td>\n",
       "      <td>0.666667</td>\n",
       "      <td>13</td>\n",
       "    </tr>\n",
       "  </tbody>\n",
       "</table>\n",
       "<p>4348 rows × 20 columns</p>\n",
       "</div>"
      ],
      "text/plain": [
       "                                      figure_id  \\\n",
       "2174  PMC3536343__cshperspect-TRA-012252_F1.jpg   \n",
       "1971       PMC6304530__BMRI2018-5837235.001.jpg   \n",
       "1962          PMC7998595__jcm-10-01184-g001.jpg   \n",
       "1963          PMC7998595__jcm-10-01184-g001.jpg   \n",
       "1964          PMC7998595__jcm-10-01184-g001.jpg   \n",
       "...                                         ...   \n",
       "3589                        PMC6089851__gr1.jpg   \n",
       "3590                        PMC6089851__gr1.jpg   \n",
       "3591              PMC3618522__nihms433145f1.jpg   \n",
       "1769                        PMC6089851__gr1.jpg   \n",
       "0            PMC3653120__fonc-03-00119-g004.jpg   \n",
       "\n",
       "                                             figure_url  \\\n",
       "2174  https://www.ncbi.nlm.nih.gov/pmc/articles/PMC3...   \n",
       "1971  https://www.ncbi.nlm.nih.gov/pmc/articles/PMC6...   \n",
       "1962  https://www.ncbi.nlm.nih.gov/pmc/articles/PMC7...   \n",
       "1963  https://www.ncbi.nlm.nih.gov/pmc/articles/PMC7...   \n",
       "1964  https://www.ncbi.nlm.nih.gov/pmc/articles/PMC7...   \n",
       "...                                                 ...   \n",
       "3589  https://www.ncbi.nlm.nih.gov/pmc/articles/PMC6...   \n",
       "3590  https://www.ncbi.nlm.nih.gov/pmc/articles/PMC6...   \n",
       "3591  https://www.ncbi.nlm.nih.gov/pmc/articles/PMC3...   \n",
       "1769  https://www.ncbi.nlm.nih.gov/pmc/articles/PMC6...   \n",
       "0     https://www.ncbi.nlm.nih.gov/pmc/articles/PMC3...   \n",
       "\n",
       "                                           figure_title  \\\n",
       "2174    MTORC1 signaling to the translational machinery   \n",
       "1971          The reprogramming of metabolism in cancer   \n",
       "1962                      Autophagy pathway in podocyte   \n",
       "1963                      Autophagy pathway in podocyte   \n",
       "1964                      Autophagy pathway in podocyte   \n",
       "...                                                 ...   \n",
       "3589                           Major RAS family numbers   \n",
       "3590                           Major RAS family numbers   \n",
       "3591  Molecular Pathways: Current Role and Future Di...   \n",
       "1769                           Major RAS family numbers   \n",
       "0     Effect of physical activity and obesity on the...   \n",
       "\n",
       "                             trapi_result_curie_combo  \\\n",
       "2174    (MESH:D000249, NCBIGene:23221, NCBIGene:6794)   \n",
       "1971    (MESH:D000249, NCBIGene:23221, NCBIGene:6794)   \n",
       "1962    (MESH:D000249, NCBIGene:23221, NCBIGene:6794)   \n",
       "1963    (MESH:D000249, NCBIGene:23221, NCBIGene:6794)   \n",
       "1964    (MESH:D000249, NCBIGene:23221, NCBIGene:6794)   \n",
       "...                                               ...   \n",
       "3589     (MESH:C531198, NCBIGene:23221, NCBIGene:388)   \n",
       "3590     (MESH:C531198, NCBIGene:23221, NCBIGene:388)   \n",
       "3591     (MESH:D014801, NCBIGene:23221, NCBIGene:595)   \n",
       "1769  (MESH:C000710356, NCBIGene:23221, NCBIGene:388)   \n",
       "0        (MESH:D005492, NCBIGene:23221, NCBIGene:894)   \n",
       "\n",
       "                                     figure_curie_combo  \\\n",
       "2174  (MESH:C039301, MESH:D000249, MESH:D000255, MES...   \n",
       "1971  (MESH:C000589078, MESH:C011080, MESH:C038361, ...   \n",
       "1962  (MESH:C530429, MESH:D000186, MESH:D000249, MES...   \n",
       "1963  (MESH:C530429, MESH:D000186, MESH:D000249, MES...   \n",
       "1964  (MESH:C530429, MESH:D000186, MESH:D000249, MES...   \n",
       "...                                                 ...   \n",
       "3589  (MESH:C040523, MESH:C052497, MESH:C535729, MES...   \n",
       "3590  (MESH:C040523, MESH:C052497, MESH:C535729, MES...   \n",
       "3591  (MESH:C059630, MESH:D014212, MESH:D014801, NCB...   \n",
       "1769  (MESH:C040523, MESH:C052497, MESH:C535729, MES...   \n",
       "0     (MESH:C045651, MESH:C440975, MESH:D003474, MES...   \n",
       "\n",
       "                 overlap_curie_combo     score       n0  \\\n",
       "2174   (MESH:D000249, NCBIGene:6794)  0.666667  RHOBTB2   \n",
       "1971   (MESH:D000249, NCBIGene:6794)  0.666667  RHOBTB2   \n",
       "1962   (MESH:D000249, NCBIGene:6794)  0.666667  RHOBTB2   \n",
       "1963   (MESH:D000249, NCBIGene:6794)  0.666667  RHOBTB2   \n",
       "1964   (MESH:D000249, NCBIGene:6794)  0.666667  RHOBTB2   \n",
       "...                              ...       ...      ...   \n",
       "3589  (NCBIGene:23221, NCBIGene:388)  0.666667  RHOBTB2   \n",
       "3590  (NCBIGene:23221, NCBIGene:388)  0.666667  RHOBTB2   \n",
       "3591    (MESH:D014801, NCBIGene:595)  0.666667  RHOBTB2   \n",
       "1769  (NCBIGene:23221, NCBIGene:388)  0.666667  RHOBTB2   \n",
       "0       (MESH:D005492, NCBIGene:894)  0.666667  RHOBTB2   \n",
       "\n",
       "                                     e01     n1  \\\n",
       "2174  entity_negatively_regulates_entity  STK11   \n",
       "1971  entity_negatively_regulates_entity  STK11   \n",
       "1962  entity_negatively_regulates_entity  STK11   \n",
       "1963  entity_negatively_regulates_entity  STK11   \n",
       "1964  entity_negatively_regulates_entity  STK11   \n",
       "...                                  ...    ...   \n",
       "3589  entity_negatively_regulates_entity   RHOB   \n",
       "3590  entity_negatively_regulates_entity   RHOB   \n",
       "3591  entity_negatively_regulates_entity  CCND1   \n",
       "1769  entity_negatively_regulates_entity   RHOB   \n",
       "0     entity_negatively_regulates_entity  CCND2   \n",
       "\n",
       "                                     e02  \\\n",
       "2174  entity_positively_regulates_entity   \n",
       "1971  entity_negatively_regulates_entity   \n",
       "1962  entity_negatively_regulates_entity   \n",
       "1963                     correlated_with   \n",
       "1964  entity_positively_regulates_entity   \n",
       "...                                  ...   \n",
       "3589          resistance_associated_with   \n",
       "3590         sensitivity_associated_with   \n",
       "3591  entity_negatively_regulates_entity   \n",
       "1769          resistance_associated_with   \n",
       "0     entity_negatively_regulates_entity   \n",
       "\n",
       "                                                     n2        n0_curie  \\\n",
       "2174                            Adenosine monophosphate  NCBIGene:23221   \n",
       "1971                            Adenosine monophosphate  NCBIGene:23221   \n",
       "1962                            Adenosine monophosphate  NCBIGene:23221   \n",
       "1963                            Adenosine monophosphate  NCBIGene:23221   \n",
       "1964                            Adenosine monophosphate  NCBIGene:23221   \n",
       "...                                                 ...             ...   \n",
       "3589                                         Dactolisib  NCBIGene:23221   \n",
       "3590                                         Dactolisib  NCBIGene:23221   \n",
       "3591                                            Retinol  NCBIGene:23221   \n",
       "1769  1-[4-Amino-7-(3-hydroxypropyl)-5-(4-methylphen...  NCBIGene:23221   \n",
       "0                                            Folic acid  NCBIGene:23221   \n",
       "\n",
       "     n0_unified_curie       n1_curie n1_unified_curie  \\\n",
       "2174   NCBIGene:23221  NCBIGene:6794    NCBIGene:6794   \n",
       "1971   NCBIGene:23221  NCBIGene:6794    NCBIGene:6794   \n",
       "1962   NCBIGene:23221  NCBIGene:6794    NCBIGene:6794   \n",
       "1963   NCBIGene:23221  NCBIGene:6794    NCBIGene:6794   \n",
       "1964   NCBIGene:23221  NCBIGene:6794    NCBIGene:6794   \n",
       "...               ...            ...              ...   \n",
       "3589   NCBIGene:23221   NCBIGene:388     NCBIGene:388   \n",
       "3590   NCBIGene:23221   NCBIGene:388     NCBIGene:388   \n",
       "3591   NCBIGene:23221   NCBIGene:595     NCBIGene:595   \n",
       "1769   NCBIGene:23221   NCBIGene:388     NCBIGene:388   \n",
       "0      NCBIGene:23221   NCBIGene:894     NCBIGene:894   \n",
       "\n",
       "                        n2_curie n2_unified_curie  \\\n",
       "2174       PUBCHEM.COMPOUND:6083     MESH:D000249   \n",
       "1971       PUBCHEM.COMPOUND:6083     MESH:D000249   \n",
       "1962       PUBCHEM.COMPOUND:6083     MESH:D000249   \n",
       "1963       PUBCHEM.COMPOUND:6083     MESH:D000249   \n",
       "1964       PUBCHEM.COMPOUND:6083     MESH:D000249   \n",
       "...                          ...              ...   \n",
       "3589   PUBCHEM.COMPOUND:11977753     MESH:C531198   \n",
       "3590   PUBCHEM.COMPOUND:11977753     MESH:C531198   \n",
       "3591     PUBCHEM.COMPOUND:445354     MESH:D014801   \n",
       "1769     PUBCHEM.COMPOUND:644243  MESH:C000710356   \n",
       "0     PUBCHEM.COMPOUND:135398658     MESH:D005492   \n",
       "\n",
       "      cumulative_trapi_result_curie_combo_figure_score  \\\n",
       "2174                                         82.000000   \n",
       "1971                                         82.000000   \n",
       "1962                                         82.000000   \n",
       "1963                                         82.000000   \n",
       "1964                                         82.000000   \n",
       "...                                                ...   \n",
       "3589                                          0.666667   \n",
       "3590                                          0.666667   \n",
       "3591                                          0.666667   \n",
       "1769                                          0.666667   \n",
       "0                                             0.666667   \n",
       "\n",
       "      trapi_curie_combo_count_by_figure  \n",
       "2174                                  2  \n",
       "1971                                  6  \n",
       "1962                                  2  \n",
       "1963                                  2  \n",
       "1964                                  2  \n",
       "...                                 ...  \n",
       "3589                                326  \n",
       "3590                                326  \n",
       "3591                                  2  \n",
       "1769                                326  \n",
       "0                                    13  \n",
       "\n",
       "[4348 rows x 20 columns]"
      ]
     },
     "execution_count": 17,
     "metadata": {},
     "output_type": "execute_result"
    }
   ],
   "source": [
    "results_with_figures_df = trapi_figure_overlap_df.merge(\n",
    "    results_df,\n",
    "    on=\"trapi_result_curie_combo\",\n",
    "    how=\"left\").merge(\n",
    "    trapi_result_figure_score_df.reset_index(),\n",
    "    on=\"trapi_result_curie_combo\",\n",
    "    how=\"left\",\n",
    "    validate=\"many_to_one\"\n",
    ").merge(\n",
    "    trapi_curie_combo_count_by_figure_df.reset_index().rename(columns={\n",
    "        \"trapi_curie_combo_count\": \"trapi_curie_combo_count_by_figure\"\n",
    "    }),\n",
    "    on=\"figure_id\",\n",
    "    how=\"left\",\n",
    "    validate=\"many_to_one\"\n",
    ").sort_values(\n",
    "    by=\"cumulative_trapi_result_curie_combo_figure_score\", ascending=False\n",
    ")\n",
    "\n",
    "results_with_figures_df"
   ]
  },
  {
   "cell_type": "markdown",
   "metadata": {},
   "source": [
    "## Analysis of results with vs. without Sleeve"
   ]
  },
  {
   "cell_type": "markdown",
   "metadata": {},
   "source": [
    "With the current query graph, requiring co-occurrence of at least 2 nodes in at least one PFOCR figure cuts the number of TRAPI result curie combos down to 887 from 3,738.\n",
    "\n",
    "When requiring 3 nodes, it went down even further to 0."
   ]
  },
  {
   "cell_type": "markdown",
   "metadata": {},
   "source": [
    "Total number of curie combos returned:"
   ]
  },
  {
   "cell_type": "code",
   "execution_count": 18,
   "metadata": {
    "id": "1K8wPolQMcNH"
   },
   "outputs": [
    {
     "data": {
      "text/plain": [
       "3738"
      ]
     },
     "execution_count": 18,
     "metadata": {},
     "output_type": "execute_result"
    }
   ],
   "source": [
    "len(results_df[\"trapi_result_curie_combo\"].drop_duplicates())"
   ]
  },
  {
   "cell_type": "markdown",
   "metadata": {},
   "source": [
    "TRAPI result curie combos where at least `x` curies are also found in at least one figure:"
   ]
  },
  {
   "cell_type": "code",
   "execution_count": 19,
   "metadata": {
    "id": "1K8wPolQMcNH"
   },
   "outputs": [
    {
     "name": "stdout",
     "output_type": "stream",
     "text": [
      "when 2+ overlapping curies: 887\n",
      "when 3+ overlapping curies: 0\n"
     ]
    }
   ],
   "source": [
    "for i in range(2, len(q_node_ids) + 1):\n",
    "    curie_combo_count = len(set(\n",
    "        trapi_figure_overlap_df[\n",
    "            trapi_figure_overlap_df[\"overlap_curie_combo\"].map(len) >= i\n",
    "        ][\"trapi_result_curie_combo\"]\n",
    "    ))\n",
    "    print(f'when {i}+ overlapping curies: {curie_combo_count}')"
   ]
  },
  {
   "cell_type": "markdown",
   "metadata": {},
   "source": [
    "curie combos where curies for each pair of nodes are found in at least one figure:"
   ]
  },
  {
   "cell_type": "code",
   "execution_count": 20,
   "metadata": {},
   "outputs": [
    {
     "name": "stdout",
     "output_type": "stream",
     "text": [
      "n0 & n1: 491\n",
      "n0 & n2: 9\n",
      "n1 & n2: 417\n"
     ]
    }
   ],
   "source": [
    "from itertools import combinations\n",
    "\n",
    "\n",
    "overlap_columns = results_with_figures_df[\"overlap_curie_combo\"].apply(pd.Series)\n",
    "\n",
    "for (a, b) in combinations(q_node_ids, 2):\n",
    "    overlap_df = results_with_figures_df[((\n",
    "        results_with_figures_df[f\"{a}_unified_curie\"] == overlap_columns[0]\n",
    "    ) | (\n",
    "        results_with_figures_df[f\"{a}_unified_curie\"] == overlap_columns[1]\n",
    "    )) & ((\n",
    "        results_with_figures_df[f\"{b}_unified_curie\"] == overlap_columns[0]\n",
    "    ) | (\n",
    "        results_with_figures_df[f\"{b}_unified_curie\"] == overlap_columns[1]\n",
    "    ))]\n",
    "    print(f'{a} & {b}: {len(overlap_df[\"trapi_result_curie_combo\"].drop_duplicates())}')"
   ]
  },
  {
   "cell_type": "markdown",
   "metadata": {
    "tags": []
   },
   "source": [
    "## Fisher's Exact Test"
   ]
  },
  {
   "cell_type": "code",
   "execution_count": 22,
   "metadata": {},
   "outputs": [
    {
     "name": "stdout",
     "output_type": "stream",
     "text": [
      "5083\n"
     ]
    }
   ],
   "source": [
    "import scipy.stats as stats\n",
    "\n",
    "\n",
    "all_curies = (\n",
    "    set(\n",
    "        results_with_figures_df[\"n0_unified_curie\"]\n",
    "    ) | set(\n",
    "        results_with_figures_df[\"n1_unified_curie\"]\n",
    "    ) | set(\n",
    "        results_with_figures_df[\"n2_unified_curie\"]\n",
    "    )\n",
    ")\n",
    "for figure_curie_combo in set(results_with_figures_df[\"figure_curie_combo\"]):\n",
    "    figure_curie_set = set(figure_curie_combo)\n",
    "    all_curies |= figure_curie_set\n",
    "print(len(all_curies))"
   ]
  },
  {
   "cell_type": "code",
   "execution_count": 23,
   "metadata": {},
   "outputs": [
    {
     "data": {
      "text/plain": [
       "2174    2\n",
       "1971    2\n",
       "1962    2\n",
       "1963    2\n",
       "1964    2\n",
       "       ..\n",
       "3589    2\n",
       "3590    2\n",
       "3591    2\n",
       "1769    2\n",
       "0       2\n",
       "Name: yes_pwy_yes_trapi, Length: 4348, dtype: int64"
      ]
     },
     "execution_count": 23,
     "metadata": {},
     "output_type": "execute_result"
    }
   ],
   "source": [
    "results_with_figures_df[\"yes_pwy_yes_trapi\"] = (\n",
    "    results_with_figures_df[\"overlap_curie_combo\"].map(len)\n",
    ")\n",
    "results_with_figures_df[\"yes_pwy_no_trapi\"] = (\n",
    "    results_with_figures_df[\"figure_curie_combo\"].map(len) - \n",
    "    results_with_figures_df[\"overlap_curie_combo\"].map(len)\n",
    ")\n",
    "results_with_figures_df[\"no_pwy_yes_trapi\"] = (\n",
    "    len(q_node_ids) - results_with_figures_df[\"overlap_curie_combo\"].map(len)\n",
    ")\n",
    "results_with_figures_df[\"no_pwy_no_trapi\"] = (\n",
    "    len(all_curies) -\n",
    "    results_with_figures_df[\"yes_pwy_yes_trapi\"] -\n",
    "    results_with_figures_df[\"yes_pwy_no_trapi\"] -\n",
    "    results_with_figures_df[\"no_pwy_yes_trapi\"]\n",
    ")"
   ]
  },
  {
   "cell_type": "code",
   "execution_count": 27,
   "metadata": {},
   "outputs": [],
   "source": [
    "results_with_figures_df[\"fishers_exact\"] = results_with_figures_df[\n",
    "    [\"yes_pwy_yes_trapi\",\n",
    "     \"yes_pwy_no_trapi\",\n",
    "     \"no_pwy_yes_trapi\",\n",
    "     \"no_pwy_no_trapi\"]\n",
    "].apply(\n",
    "    lambda r: stats.fisher_exact([[\n",
    "        r.yes_pwy_yes_trapi,\n",
    "        r.yes_pwy_no_trapi\n",
    "    ], [\n",
    "        r.no_pwy_yes_trapi,\n",
    "        r.no_pwy_no_trapi,\n",
    "    ]]),\n",
    "    axis=1)\n",
    "results_with_figures_df[\"fishers_exact_p\"] = results_with_figures_df[\"fishers_exact\"].apply(\n",
    "    lambda x: x[1]\n",
    ")"
   ]
  },
  {
   "cell_type": "code",
   "execution_count": 28,
   "metadata": {},
   "outputs": [
    {
     "data": {
      "text/plain": [
       "3296    6.967240e-07\n",
       "3297    3.482248e-06\n",
       "4252    3.482248e-06\n",
       "3598    3.482248e-06\n",
       "3599    3.482248e-06\n",
       "            ...     \n",
       "1961    1.469492e-02\n",
       "2916    1.469492e-02\n",
       "4088    1.469492e-02\n",
       "1960    1.469492e-02\n",
       "355     1.469492e-02\n",
       "Name: fishers_exact_p, Length: 4348, dtype: float64"
      ]
     },
     "execution_count": 28,
     "metadata": {},
     "output_type": "execute_result"
    }
   ],
   "source": [
    "results_with_figures_df[\"fishers_exact_p\"].sort_values()"
   ]
  },
  {
   "cell_type": "code",
   "execution_count": 42,
   "metadata": {},
   "outputs": [
    {
     "data": {
      "text/html": [
       "<div>\n",
       "<style scoped>\n",
       "    .dataframe tbody tr th:only-of-type {\n",
       "        vertical-align: middle;\n",
       "    }\n",
       "\n",
       "    .dataframe tbody tr th {\n",
       "        vertical-align: top;\n",
       "    }\n",
       "\n",
       "    .dataframe thead th {\n",
       "        text-align: right;\n",
       "    }\n",
       "</style>\n",
       "<table border=\"1\" class=\"dataframe\">\n",
       "  <thead>\n",
       "    <tr style=\"text-align: right;\">\n",
       "      <th></th>\n",
       "      <th>figure_id</th>\n",
       "      <th>figure_url</th>\n",
       "      <th>figure_title</th>\n",
       "      <th>trapi_result_curie_combo</th>\n",
       "      <th>figure_curie_combo</th>\n",
       "      <th>overlap_curie_combo</th>\n",
       "      <th>score</th>\n",
       "      <th>n0</th>\n",
       "      <th>e01</th>\n",
       "      <th>n1</th>\n",
       "      <th>...</th>\n",
       "      <th>n2_curie</th>\n",
       "      <th>n2_unified_curie</th>\n",
       "      <th>cumulative_trapi_result_curie_combo_figure_score</th>\n",
       "      <th>trapi_curie_combo_count_by_figure</th>\n",
       "      <th>yes_pwy_yes_trapi</th>\n",
       "      <th>yes_pwy_no_trapi</th>\n",
       "      <th>no_pwy_yes_trapi</th>\n",
       "      <th>no_pwy_no_trapi</th>\n",
       "      <th>fishers_exact</th>\n",
       "      <th>fishers_exact_p</th>\n",
       "    </tr>\n",
       "  </thead>\n",
       "  <tbody>\n",
       "    <tr>\n",
       "      <th>2174</th>\n",
       "      <td>PMC3536343__cshperspect-TRA-012252_F1.jpg</td>\n",
       "      <td>https://www.ncbi.nlm.nih.gov/pmc/articles/PMC3...</td>\n",
       "      <td>MTORC1 signaling to the translational machinery</td>\n",
       "      <td>(MESH:D000249, NCBIGene:23221, NCBIGene:6794)</td>\n",
       "      <td>(MESH:C039301, MESH:D000249, MESH:D000255, MES...</td>\n",
       "      <td>(MESH:D000249, NCBIGene:6794)</td>\n",
       "      <td>0.666667</td>\n",
       "      <td>RHOBTB2</td>\n",
       "      <td>entity_negatively_regulates_entity</td>\n",
       "      <td>STK11</td>\n",
       "      <td>...</td>\n",
       "      <td>PUBCHEM.COMPOUND:6083</td>\n",
       "      <td>MESH:D000249</td>\n",
       "      <td>82.000000</td>\n",
       "      <td>2</td>\n",
       "      <td>2</td>\n",
       "      <td>51</td>\n",
       "      <td>1</td>\n",
       "      <td>5029</td>\n",
       "      <td>(197.2156862745098, 0.00031792875353329445)</td>\n",
       "      <td>0.000318</td>\n",
       "    </tr>\n",
       "    <tr>\n",
       "      <th>1971</th>\n",
       "      <td>PMC6304530__BMRI2018-5837235.001.jpg</td>\n",
       "      <td>https://www.ncbi.nlm.nih.gov/pmc/articles/PMC6...</td>\n",
       "      <td>The reprogramming of metabolism in cancer</td>\n",
       "      <td>(MESH:D000249, NCBIGene:23221, NCBIGene:6794)</td>\n",
       "      <td>(MESH:C000589078, MESH:C011080, MESH:C038361, ...</td>\n",
       "      <td>(MESH:D000249, NCBIGene:6794)</td>\n",
       "      <td>0.666667</td>\n",
       "      <td>RHOBTB2</td>\n",
       "      <td>entity_negatively_regulates_entity</td>\n",
       "      <td>STK11</td>\n",
       "      <td>...</td>\n",
       "      <td>PUBCHEM.COMPOUND:6083</td>\n",
       "      <td>MESH:D000249</td>\n",
       "      <td>82.000000</td>\n",
       "      <td>6</td>\n",
       "      <td>2</td>\n",
       "      <td>88</td>\n",
       "      <td>1</td>\n",
       "      <td>4992</td>\n",
       "      <td>(113.45454545454545, 0.0009195076335945751)</td>\n",
       "      <td>0.000920</td>\n",
       "    </tr>\n",
       "    <tr>\n",
       "      <th>1962</th>\n",
       "      <td>PMC7998595__jcm-10-01184-g001.jpg</td>\n",
       "      <td>https://www.ncbi.nlm.nih.gov/pmc/articles/PMC7...</td>\n",
       "      <td>Autophagy pathway in podocyte</td>\n",
       "      <td>(MESH:D000249, NCBIGene:23221, NCBIGene:6794)</td>\n",
       "      <td>(MESH:C530429, MESH:D000186, MESH:D000249, MES...</td>\n",
       "      <td>(MESH:D000249, NCBIGene:6794)</td>\n",
       "      <td>0.666667</td>\n",
       "      <td>RHOBTB2</td>\n",
       "      <td>entity_negatively_regulates_entity</td>\n",
       "      <td>STK11</td>\n",
       "      <td>...</td>\n",
       "      <td>PUBCHEM.COMPOUND:6083</td>\n",
       "      <td>MESH:D000249</td>\n",
       "      <td>82.000000</td>\n",
       "      <td>2</td>\n",
       "      <td>2</td>\n",
       "      <td>75</td>\n",
       "      <td>1</td>\n",
       "      <td>5005</td>\n",
       "      <td>(133.46666666666667, 0.0006729393497509607)</td>\n",
       "      <td>0.000673</td>\n",
       "    </tr>\n",
       "    <tr>\n",
       "      <th>1963</th>\n",
       "      <td>PMC7998595__jcm-10-01184-g001.jpg</td>\n",
       "      <td>https://www.ncbi.nlm.nih.gov/pmc/articles/PMC7...</td>\n",
       "      <td>Autophagy pathway in podocyte</td>\n",
       "      <td>(MESH:D000249, NCBIGene:23221, NCBIGene:6794)</td>\n",
       "      <td>(MESH:C530429, MESH:D000186, MESH:D000249, MES...</td>\n",
       "      <td>(MESH:D000249, NCBIGene:6794)</td>\n",
       "      <td>0.666667</td>\n",
       "      <td>RHOBTB2</td>\n",
       "      <td>entity_negatively_regulates_entity</td>\n",
       "      <td>STK11</td>\n",
       "      <td>...</td>\n",
       "      <td>PUBCHEM.COMPOUND:6083</td>\n",
       "      <td>MESH:D000249</td>\n",
       "      <td>82.000000</td>\n",
       "      <td>2</td>\n",
       "      <td>2</td>\n",
       "      <td>75</td>\n",
       "      <td>1</td>\n",
       "      <td>5005</td>\n",
       "      <td>(133.46666666666667, 0.0006729393497509607)</td>\n",
       "      <td>0.000673</td>\n",
       "    </tr>\n",
       "    <tr>\n",
       "      <th>1964</th>\n",
       "      <td>PMC7998595__jcm-10-01184-g001.jpg</td>\n",
       "      <td>https://www.ncbi.nlm.nih.gov/pmc/articles/PMC7...</td>\n",
       "      <td>Autophagy pathway in podocyte</td>\n",
       "      <td>(MESH:D000249, NCBIGene:23221, NCBIGene:6794)</td>\n",
       "      <td>(MESH:C530429, MESH:D000186, MESH:D000249, MES...</td>\n",
       "      <td>(MESH:D000249, NCBIGene:6794)</td>\n",
       "      <td>0.666667</td>\n",
       "      <td>RHOBTB2</td>\n",
       "      <td>entity_negatively_regulates_entity</td>\n",
       "      <td>STK11</td>\n",
       "      <td>...</td>\n",
       "      <td>PUBCHEM.COMPOUND:6083</td>\n",
       "      <td>MESH:D000249</td>\n",
       "      <td>82.000000</td>\n",
       "      <td>2</td>\n",
       "      <td>2</td>\n",
       "      <td>75</td>\n",
       "      <td>1</td>\n",
       "      <td>5005</td>\n",
       "      <td>(133.46666666666667, 0.0006729393497509607)</td>\n",
       "      <td>0.000673</td>\n",
       "    </tr>\n",
       "    <tr>\n",
       "      <th>...</th>\n",
       "      <td>...</td>\n",
       "      <td>...</td>\n",
       "      <td>...</td>\n",
       "      <td>...</td>\n",
       "      <td>...</td>\n",
       "      <td>...</td>\n",
       "      <td>...</td>\n",
       "      <td>...</td>\n",
       "      <td>...</td>\n",
       "      <td>...</td>\n",
       "      <td>...</td>\n",
       "      <td>...</td>\n",
       "      <td>...</td>\n",
       "      <td>...</td>\n",
       "      <td>...</td>\n",
       "      <td>...</td>\n",
       "      <td>...</td>\n",
       "      <td>...</td>\n",
       "      <td>...</td>\n",
       "      <td>...</td>\n",
       "      <td>...</td>\n",
       "    </tr>\n",
       "    <tr>\n",
       "      <th>3589</th>\n",
       "      <td>PMC6089851__gr1.jpg</td>\n",
       "      <td>https://www.ncbi.nlm.nih.gov/pmc/articles/PMC6...</td>\n",
       "      <td>Major RAS family numbers</td>\n",
       "      <td>(MESH:C531198, NCBIGene:23221, NCBIGene:388)</td>\n",
       "      <td>(MESH:C040523, MESH:C052497, MESH:C535729, MES...</td>\n",
       "      <td>(NCBIGene:23221, NCBIGene:388)</td>\n",
       "      <td>0.666667</td>\n",
       "      <td>RHOBTB2</td>\n",
       "      <td>entity_negatively_regulates_entity</td>\n",
       "      <td>RHOB</td>\n",
       "      <td>...</td>\n",
       "      <td>PUBCHEM.COMPOUND:11977753</td>\n",
       "      <td>MESH:C531198</td>\n",
       "      <td>0.666667</td>\n",
       "      <td>326</td>\n",
       "      <td>2</td>\n",
       "      <td>153</td>\n",
       "      <td>1</td>\n",
       "      <td>4927</td>\n",
       "      <td>(64.40522875816994, 0.0027165132937553233)</td>\n",
       "      <td>0.002717</td>\n",
       "    </tr>\n",
       "    <tr>\n",
       "      <th>3590</th>\n",
       "      <td>PMC6089851__gr1.jpg</td>\n",
       "      <td>https://www.ncbi.nlm.nih.gov/pmc/articles/PMC6...</td>\n",
       "      <td>Major RAS family numbers</td>\n",
       "      <td>(MESH:C531198, NCBIGene:23221, NCBIGene:388)</td>\n",
       "      <td>(MESH:C040523, MESH:C052497, MESH:C535729, MES...</td>\n",
       "      <td>(NCBIGene:23221, NCBIGene:388)</td>\n",
       "      <td>0.666667</td>\n",
       "      <td>RHOBTB2</td>\n",
       "      <td>entity_negatively_regulates_entity</td>\n",
       "      <td>RHOB</td>\n",
       "      <td>...</td>\n",
       "      <td>PUBCHEM.COMPOUND:11977753</td>\n",
       "      <td>MESH:C531198</td>\n",
       "      <td>0.666667</td>\n",
       "      <td>326</td>\n",
       "      <td>2</td>\n",
       "      <td>153</td>\n",
       "      <td>1</td>\n",
       "      <td>4927</td>\n",
       "      <td>(64.40522875816994, 0.0027165132937553233)</td>\n",
       "      <td>0.002717</td>\n",
       "    </tr>\n",
       "    <tr>\n",
       "      <th>3591</th>\n",
       "      <td>PMC3618522__nihms433145f1.jpg</td>\n",
       "      <td>https://www.ncbi.nlm.nih.gov/pmc/articles/PMC3...</td>\n",
       "      <td>Molecular Pathways: Current Role and Future Di...</td>\n",
       "      <td>(MESH:D014801, NCBIGene:23221, NCBIGene:595)</td>\n",
       "      <td>(MESH:C059630, MESH:D014212, MESH:D014801, NCB...</td>\n",
       "      <td>(MESH:D014801, NCBIGene:595)</td>\n",
       "      <td>0.666667</td>\n",
       "      <td>RHOBTB2</td>\n",
       "      <td>entity_negatively_regulates_entity</td>\n",
       "      <td>CCND1</td>\n",
       "      <td>...</td>\n",
       "      <td>PUBCHEM.COMPOUND:445354</td>\n",
       "      <td>MESH:D014801</td>\n",
       "      <td>0.666667</td>\n",
       "      <td>2</td>\n",
       "      <td>2</td>\n",
       "      <td>15</td>\n",
       "      <td>1</td>\n",
       "      <td>5065</td>\n",
       "      <td>(675.3333333333334, 3.152679363284944e-05)</td>\n",
       "      <td>0.000032</td>\n",
       "    </tr>\n",
       "    <tr>\n",
       "      <th>1769</th>\n",
       "      <td>PMC6089851__gr1.jpg</td>\n",
       "      <td>https://www.ncbi.nlm.nih.gov/pmc/articles/PMC6...</td>\n",
       "      <td>Major RAS family numbers</td>\n",
       "      <td>(MESH:C000710356, NCBIGene:23221, NCBIGene:388)</td>\n",
       "      <td>(MESH:C040523, MESH:C052497, MESH:C535729, MES...</td>\n",
       "      <td>(NCBIGene:23221, NCBIGene:388)</td>\n",
       "      <td>0.666667</td>\n",
       "      <td>RHOBTB2</td>\n",
       "      <td>entity_negatively_regulates_entity</td>\n",
       "      <td>RHOB</td>\n",
       "      <td>...</td>\n",
       "      <td>PUBCHEM.COMPOUND:644243</td>\n",
       "      <td>MESH:C000710356</td>\n",
       "      <td>0.666667</td>\n",
       "      <td>326</td>\n",
       "      <td>2</td>\n",
       "      <td>153</td>\n",
       "      <td>1</td>\n",
       "      <td>4927</td>\n",
       "      <td>(64.40522875816994, 0.0027165132937553233)</td>\n",
       "      <td>0.002717</td>\n",
       "    </tr>\n",
       "    <tr>\n",
       "      <th>0</th>\n",
       "      <td>PMC3653120__fonc-03-00119-g004.jpg</td>\n",
       "      <td>https://www.ncbi.nlm.nih.gov/pmc/articles/PMC3...</td>\n",
       "      <td>Effect of physical activity and obesity on the...</td>\n",
       "      <td>(MESH:D005492, NCBIGene:23221, NCBIGene:894)</td>\n",
       "      <td>(MESH:C045651, MESH:C440975, MESH:D003474, MES...</td>\n",
       "      <td>(MESH:D005492, NCBIGene:894)</td>\n",
       "      <td>0.666667</td>\n",
       "      <td>RHOBTB2</td>\n",
       "      <td>entity_negatively_regulates_entity</td>\n",
       "      <td>CCND2</td>\n",
       "      <td>...</td>\n",
       "      <td>PUBCHEM.COMPOUND:135398658</td>\n",
       "      <td>MESH:D005492</td>\n",
       "      <td>0.666667</td>\n",
       "      <td>13</td>\n",
       "      <td>2</td>\n",
       "      <td>52</td>\n",
       "      <td>1</td>\n",
       "      <td>5028</td>\n",
       "      <td>(193.3846153846154, 0.00033011317155404516)</td>\n",
       "      <td>0.000330</td>\n",
       "    </tr>\n",
       "  </tbody>\n",
       "</table>\n",
       "<p>4348 rows × 26 columns</p>\n",
       "</div>"
      ],
      "text/plain": [
       "                                      figure_id  \\\n",
       "2174  PMC3536343__cshperspect-TRA-012252_F1.jpg   \n",
       "1971       PMC6304530__BMRI2018-5837235.001.jpg   \n",
       "1962          PMC7998595__jcm-10-01184-g001.jpg   \n",
       "1963          PMC7998595__jcm-10-01184-g001.jpg   \n",
       "1964          PMC7998595__jcm-10-01184-g001.jpg   \n",
       "...                                         ...   \n",
       "3589                        PMC6089851__gr1.jpg   \n",
       "3590                        PMC6089851__gr1.jpg   \n",
       "3591              PMC3618522__nihms433145f1.jpg   \n",
       "1769                        PMC6089851__gr1.jpg   \n",
       "0            PMC3653120__fonc-03-00119-g004.jpg   \n",
       "\n",
       "                                             figure_url  \\\n",
       "2174  https://www.ncbi.nlm.nih.gov/pmc/articles/PMC3...   \n",
       "1971  https://www.ncbi.nlm.nih.gov/pmc/articles/PMC6...   \n",
       "1962  https://www.ncbi.nlm.nih.gov/pmc/articles/PMC7...   \n",
       "1963  https://www.ncbi.nlm.nih.gov/pmc/articles/PMC7...   \n",
       "1964  https://www.ncbi.nlm.nih.gov/pmc/articles/PMC7...   \n",
       "...                                                 ...   \n",
       "3589  https://www.ncbi.nlm.nih.gov/pmc/articles/PMC6...   \n",
       "3590  https://www.ncbi.nlm.nih.gov/pmc/articles/PMC6...   \n",
       "3591  https://www.ncbi.nlm.nih.gov/pmc/articles/PMC3...   \n",
       "1769  https://www.ncbi.nlm.nih.gov/pmc/articles/PMC6...   \n",
       "0     https://www.ncbi.nlm.nih.gov/pmc/articles/PMC3...   \n",
       "\n",
       "                                           figure_title  \\\n",
       "2174    MTORC1 signaling to the translational machinery   \n",
       "1971          The reprogramming of metabolism in cancer   \n",
       "1962                      Autophagy pathway in podocyte   \n",
       "1963                      Autophagy pathway in podocyte   \n",
       "1964                      Autophagy pathway in podocyte   \n",
       "...                                                 ...   \n",
       "3589                           Major RAS family numbers   \n",
       "3590                           Major RAS family numbers   \n",
       "3591  Molecular Pathways: Current Role and Future Di...   \n",
       "1769                           Major RAS family numbers   \n",
       "0     Effect of physical activity and obesity on the...   \n",
       "\n",
       "                             trapi_result_curie_combo  \\\n",
       "2174    (MESH:D000249, NCBIGene:23221, NCBIGene:6794)   \n",
       "1971    (MESH:D000249, NCBIGene:23221, NCBIGene:6794)   \n",
       "1962    (MESH:D000249, NCBIGene:23221, NCBIGene:6794)   \n",
       "1963    (MESH:D000249, NCBIGene:23221, NCBIGene:6794)   \n",
       "1964    (MESH:D000249, NCBIGene:23221, NCBIGene:6794)   \n",
       "...                                               ...   \n",
       "3589     (MESH:C531198, NCBIGene:23221, NCBIGene:388)   \n",
       "3590     (MESH:C531198, NCBIGene:23221, NCBIGene:388)   \n",
       "3591     (MESH:D014801, NCBIGene:23221, NCBIGene:595)   \n",
       "1769  (MESH:C000710356, NCBIGene:23221, NCBIGene:388)   \n",
       "0        (MESH:D005492, NCBIGene:23221, NCBIGene:894)   \n",
       "\n",
       "                                     figure_curie_combo  \\\n",
       "2174  (MESH:C039301, MESH:D000249, MESH:D000255, MES...   \n",
       "1971  (MESH:C000589078, MESH:C011080, MESH:C038361, ...   \n",
       "1962  (MESH:C530429, MESH:D000186, MESH:D000249, MES...   \n",
       "1963  (MESH:C530429, MESH:D000186, MESH:D000249, MES...   \n",
       "1964  (MESH:C530429, MESH:D000186, MESH:D000249, MES...   \n",
       "...                                                 ...   \n",
       "3589  (MESH:C040523, MESH:C052497, MESH:C535729, MES...   \n",
       "3590  (MESH:C040523, MESH:C052497, MESH:C535729, MES...   \n",
       "3591  (MESH:C059630, MESH:D014212, MESH:D014801, NCB...   \n",
       "1769  (MESH:C040523, MESH:C052497, MESH:C535729, MES...   \n",
       "0     (MESH:C045651, MESH:C440975, MESH:D003474, MES...   \n",
       "\n",
       "                 overlap_curie_combo     score       n0  \\\n",
       "2174   (MESH:D000249, NCBIGene:6794)  0.666667  RHOBTB2   \n",
       "1971   (MESH:D000249, NCBIGene:6794)  0.666667  RHOBTB2   \n",
       "1962   (MESH:D000249, NCBIGene:6794)  0.666667  RHOBTB2   \n",
       "1963   (MESH:D000249, NCBIGene:6794)  0.666667  RHOBTB2   \n",
       "1964   (MESH:D000249, NCBIGene:6794)  0.666667  RHOBTB2   \n",
       "...                              ...       ...      ...   \n",
       "3589  (NCBIGene:23221, NCBIGene:388)  0.666667  RHOBTB2   \n",
       "3590  (NCBIGene:23221, NCBIGene:388)  0.666667  RHOBTB2   \n",
       "3591    (MESH:D014801, NCBIGene:595)  0.666667  RHOBTB2   \n",
       "1769  (NCBIGene:23221, NCBIGene:388)  0.666667  RHOBTB2   \n",
       "0       (MESH:D005492, NCBIGene:894)  0.666667  RHOBTB2   \n",
       "\n",
       "                                     e01     n1  ...  \\\n",
       "2174  entity_negatively_regulates_entity  STK11  ...   \n",
       "1971  entity_negatively_regulates_entity  STK11  ...   \n",
       "1962  entity_negatively_regulates_entity  STK11  ...   \n",
       "1963  entity_negatively_regulates_entity  STK11  ...   \n",
       "1964  entity_negatively_regulates_entity  STK11  ...   \n",
       "...                                  ...    ...  ...   \n",
       "3589  entity_negatively_regulates_entity   RHOB  ...   \n",
       "3590  entity_negatively_regulates_entity   RHOB  ...   \n",
       "3591  entity_negatively_regulates_entity  CCND1  ...   \n",
       "1769  entity_negatively_regulates_entity   RHOB  ...   \n",
       "0     entity_negatively_regulates_entity  CCND2  ...   \n",
       "\n",
       "                        n2_curie n2_unified_curie  \\\n",
       "2174       PUBCHEM.COMPOUND:6083     MESH:D000249   \n",
       "1971       PUBCHEM.COMPOUND:6083     MESH:D000249   \n",
       "1962       PUBCHEM.COMPOUND:6083     MESH:D000249   \n",
       "1963       PUBCHEM.COMPOUND:6083     MESH:D000249   \n",
       "1964       PUBCHEM.COMPOUND:6083     MESH:D000249   \n",
       "...                          ...              ...   \n",
       "3589   PUBCHEM.COMPOUND:11977753     MESH:C531198   \n",
       "3590   PUBCHEM.COMPOUND:11977753     MESH:C531198   \n",
       "3591     PUBCHEM.COMPOUND:445354     MESH:D014801   \n",
       "1769     PUBCHEM.COMPOUND:644243  MESH:C000710356   \n",
       "0     PUBCHEM.COMPOUND:135398658     MESH:D005492   \n",
       "\n",
       "     cumulative_trapi_result_curie_combo_figure_score  \\\n",
       "2174                                        82.000000   \n",
       "1971                                        82.000000   \n",
       "1962                                        82.000000   \n",
       "1963                                        82.000000   \n",
       "1964                                        82.000000   \n",
       "...                                               ...   \n",
       "3589                                         0.666667   \n",
       "3590                                         0.666667   \n",
       "3591                                         0.666667   \n",
       "1769                                         0.666667   \n",
       "0                                            0.666667   \n",
       "\n",
       "     trapi_curie_combo_count_by_figure yes_pwy_yes_trapi yes_pwy_no_trapi  \\\n",
       "2174                                 2                 2               51   \n",
       "1971                                 6                 2               88   \n",
       "1962                                 2                 2               75   \n",
       "1963                                 2                 2               75   \n",
       "1964                                 2                 2               75   \n",
       "...                                ...               ...              ...   \n",
       "3589                               326                 2              153   \n",
       "3590                               326                 2              153   \n",
       "3591                                 2                 2               15   \n",
       "1769                               326                 2              153   \n",
       "0                                   13                 2               52   \n",
       "\n",
       "     no_pwy_yes_trapi no_pwy_no_trapi  \\\n",
       "2174                1            5029   \n",
       "1971                1            4992   \n",
       "1962                1            5005   \n",
       "1963                1            5005   \n",
       "1964                1            5005   \n",
       "...               ...             ...   \n",
       "3589                1            4927   \n",
       "3590                1            4927   \n",
       "3591                1            5065   \n",
       "1769                1            4927   \n",
       "0                   1            5028   \n",
       "\n",
       "                                    fishers_exact  fishers_exact_p  \n",
       "2174  (197.2156862745098, 0.00031792875353329445)         0.000318  \n",
       "1971  (113.45454545454545, 0.0009195076335945751)         0.000920  \n",
       "1962  (133.46666666666667, 0.0006729393497509607)         0.000673  \n",
       "1963  (133.46666666666667, 0.0006729393497509607)         0.000673  \n",
       "1964  (133.46666666666667, 0.0006729393497509607)         0.000673  \n",
       "...                                           ...              ...  \n",
       "3589   (64.40522875816994, 0.0027165132937553233)         0.002717  \n",
       "3590   (64.40522875816994, 0.0027165132937553233)         0.002717  \n",
       "3591   (675.3333333333334, 3.152679363284944e-05)         0.000032  \n",
       "1769   (64.40522875816994, 0.0027165132937553233)         0.002717  \n",
       "0     (193.3846153846154, 0.00033011317155404516)         0.000330  \n",
       "\n",
       "[4348 rows x 26 columns]"
      ]
     },
     "execution_count": 42,
     "metadata": {},
     "output_type": "execute_result"
    }
   ],
   "source": [
    "results_with_figures_df"
   ]
  },
  {
   "cell_type": "markdown",
   "metadata": {},
   "source": [
    "## View figures and TRAPI result curie combos"
   ]
  },
  {
   "cell_type": "markdown",
   "metadata": {},
   "source": [
    "### By lowest p-value"
   ]
  },
  {
   "cell_type": "code",
   "execution_count": 30,
   "metadata": {},
   "outputs": [],
   "source": [
    "subset_df = results_with_figures_df.sort_values(\n",
    "    \"fishers_exact_p\"\n",
    ")"
   ]
  },
  {
   "cell_type": "markdown",
   "metadata": {},
   "source": [
    "#### By TRAPI result curie combo"
   ]
  },
  {
   "cell_type": "code",
   "execution_count": 31,
   "metadata": {
    "tags": []
   },
   "outputs": [
    {
     "data": {
      "text/html": [
       "\n",
       "<div style=\"border: 1px solid slategray; padding: 6px;\">\n",
       "  <span style=\"font-weight: bold;\">cumulative score: 13.33</span>\n",
       "  Cysteine, RHOBTB2, CUL3\n",
       "  <span style=\"font-size: x-small;\">(MESH:D003545, NCBIGene:23221, NCBIGene:8452)</span><br>\n",
       "</div>\n"
      ],
      "text/plain": [
       "<IPython.core.display.HTML object>"
      ]
     },
     "metadata": {},
     "output_type": "display_data"
    },
    {
     "data": {
      "text/html": [
       "\n",
       "<div style=\"font-size: x-small;\">\n",
       "RHOBTB2 - genetically_interacts_with - \n",
       "<span style=\"border: 1px orange solid; padding: 1px; border-radius: 4px;\">CUL3</span>\n",
       " - entity_negatively_regulates_entity - \n",
       "<span style=\"border: 1px orange solid; padding: 1px; border-radius: 4px;\">Cysteine</span>\n",
       "\n",
       "</div>\n"
      ],
      "text/plain": [
       "<IPython.core.display.HTML object>"
      ]
     },
     "metadata": {},
     "output_type": "display_data"
    },
    {
     "name": "stdout",
     "output_type": "stream",
     "text": [
      "\n"
     ]
    },
    {
     "data": {
      "text/html": [
       "\n",
       "    <div style=\"display: flex; flex-flow: row wrap; text-align: center;\">\n",
       "    \n",
       "            <figure style=\"margin: 5px !important;\">\n",
       "              <img src=\"https://www.ncbi.nlm.nih.gov/pmc/articles/PMC3495118/bin/fig-1.jpg\" style=\"height: 100px\">\n",
       "            </figure>\n",
       "        \n",
       "            <figure style=\"margin: 5px !important;\">\n",
       "              <img src=\"https://www.ncbi.nlm.nih.gov/pmc/articles/PMC3626870/bin/1476-4598-12-20-5.jpg\" style=\"height: 100px\">\n",
       "            </figure>\n",
       "        \n",
       "            <figure style=\"margin: 5px !important;\">\n",
       "              <img src=\"https://www.ncbi.nlm.nih.gov/pmc/articles/PMC3814639/bin/2179fig2.jpg\" style=\"height: 100px\">\n",
       "            </figure>\n",
       "        \n",
       "            <figure style=\"margin: 5px !important;\">\n",
       "              <img src=\"https://www.ncbi.nlm.nih.gov/pmc/articles/PMC3814639/bin/2179fig3.jpg\" style=\"height: 100px\">\n",
       "            </figure>\n",
       "        \n",
       "            <figure style=\"margin: 5px !important;\">\n",
       "              <img src=\"https://www.ncbi.nlm.nih.gov/pmc/articles/PMC4048575/bin/fig-5.jpg\" style=\"height: 100px\">\n",
       "            </figure>\n",
       "        \n",
       "            <figure style=\"margin: 5px !important;\">\n",
       "              <img src=\"https://www.ncbi.nlm.nih.gov/pmc/articles/PMC4081729/bin/pr.113.007757f5.jpg\" style=\"height: 100px\">\n",
       "            </figure>\n",
       "        \n",
       "            <figure style=\"margin: 5px !important;\">\n",
       "              <img src=\"https://www.ncbi.nlm.nih.gov/pmc/articles/PMC4396493/bin/JCI74255.f2.jpg\" style=\"height: 100px\">\n",
       "            </figure>\n",
       "        \n",
       "            <figure style=\"margin: 5px !important;\">\n",
       "              <img src=\"https://www.ncbi.nlm.nih.gov/pmc/articles/PMC4450261/bin/BMRI2015-597134.001.jpg\" style=\"height: 100px\">\n",
       "            </figure>\n",
       "        \n",
       "            <figure style=\"margin: 5px !important;\">\n",
       "              <img src=\"https://www.ncbi.nlm.nih.gov/pmc/articles/PMC4613518/bin/bst0430680fig1.jpg\" style=\"height: 100px\">\n",
       "            </figure>\n",
       "        \n",
       "            <figure style=\"margin: 5px !important;\">\n",
       "              <img src=\"https://www.ncbi.nlm.nih.gov/pmc/articles/PMC5145800/bin/gr1.jpg\" style=\"height: 100px\">\n",
       "            </figure>\n",
       "        \n",
       "            <figure style=\"margin: 5px !important;\">\n",
       "              <img src=\"https://www.ncbi.nlm.nih.gov/pmc/articles/PMC5204211/bin/NRR-11-1708-g001.jpg\" style=\"height: 100px\">\n",
       "            </figure>\n",
       "        \n",
       "            <figure style=\"margin: 5px !important;\">\n",
       "              <img src=\"https://www.ncbi.nlm.nih.gov/pmc/articles/PMC5615147/bin/gr3.jpg\" style=\"height: 100px\">\n",
       "            </figure>\n",
       "        \n",
       "            <figure style=\"margin: 5px !important;\">\n",
       "              <img src=\"https://www.ncbi.nlm.nih.gov/pmc/articles/PMC5643752/bin/gr2.jpg\" style=\"height: 100px\">\n",
       "            </figure>\n",
       "        \n",
       "            <figure style=\"margin: 5px !important;\">\n",
       "              <img src=\"https://www.ncbi.nlm.nih.gov/pmc/articles/PMC5713305/bin/ijms-18-02336-g002.jpg\" style=\"height: 100px\">\n",
       "            </figure>\n",
       "        \n",
       "            <figure style=\"margin: 5px !important;\">\n",
       "              <img src=\"https://www.ncbi.nlm.nih.gov/pmc/articles/PMC6180192/bin/fnmol-11-00310-g0001.jpg\" style=\"height: 100px\">\n",
       "            </figure>\n",
       "        \n",
       "            <figure style=\"margin: 5px !important;\">\n",
       "              <img src=\"https://www.ncbi.nlm.nih.gov/pmc/articles/PMC6234444/bin/OMCL2018-6208067.001.jpg\" style=\"height: 100px\">\n",
       "            </figure>\n",
       "        \n",
       "            <figure style=\"margin: 5px !important;\">\n",
       "              <img src=\"https://www.ncbi.nlm.nih.gov/pmc/articles/PMC6249275/bin/fphar-09-01308-g001.jpg\" style=\"height: 100px\">\n",
       "            </figure>\n",
       "        \n",
       "            <figure style=\"margin: 5px !important;\">\n",
       "              <img src=\"https://www.ncbi.nlm.nih.gov/pmc/articles/PMC6536957/bin/CAM4-8-2252-g001.jpg\" style=\"height: 100px\">\n",
       "            </figure>\n",
       "        \n",
       "            <figure style=\"margin: 5px !important;\">\n",
       "              <img src=\"https://www.ncbi.nlm.nih.gov/pmc/articles/PMC6888570/bin/ijms-20-05800-g002.jpg\" style=\"height: 100px\">\n",
       "            </figure>\n",
       "        \n",
       "            <figure style=\"margin: 5px !important;\">\n",
       "              <img src=\"https://www.ncbi.nlm.nih.gov/pmc/articles/PMC7642974/bin/fphys-11-01022-g001.jpg\" style=\"height: 100px\">\n",
       "            </figure>\n",
       "        \n",
       "    </div>\n"
      ],
      "text/plain": [
       "<IPython.core.display.HTML object>"
      ]
     },
     "metadata": {},
     "output_type": "display_data"
    },
    {
     "name": "stdout",
     "output_type": "stream",
     "text": [
      "\n"
     ]
    },
    {
     "data": {
      "text/html": [
       "\n",
       "<div style=\"border: 1px solid slategray; padding: 6px;\">\n",
       "  <span style=\"font-weight: bold;\">cumulative score: 3.33</span>\n",
       "  Curcumin, RHOBTB2, CUL3\n",
       "  <span style=\"font-size: x-small;\">(MESH:D003474, NCBIGene:23221, NCBIGene:8452)</span><br>\n",
       "</div>\n"
      ],
      "text/plain": [
       "<IPython.core.display.HTML object>"
      ]
     },
     "metadata": {},
     "output_type": "display_data"
    },
    {
     "data": {
      "text/html": [
       "\n",
       "<div style=\"font-size: x-small;\">\n",
       "RHOBTB2 - genetically_interacts_with - \n",
       "<span style=\"border: 1px orange solid; padding: 1px; border-radius: 4px;\">CUL3</span>\n",
       " - entity_negatively_regulates_entity - \n",
       "<span style=\"border: 1px orange solid; padding: 1px; border-radius: 4px;\">Curcumin</span>\n",
       "\n",
       "</div>\n"
      ],
      "text/plain": [
       "<IPython.core.display.HTML object>"
      ]
     },
     "metadata": {},
     "output_type": "display_data"
    },
    {
     "name": "stdout",
     "output_type": "stream",
     "text": [
      "\n"
     ]
    },
    {
     "data": {
      "text/html": [
       "\n",
       "    <div style=\"display: flex; flex-flow: row wrap; text-align: center;\">\n",
       "    \n",
       "            <figure style=\"margin: 5px !important;\">\n",
       "              <img src=\"https://www.ncbi.nlm.nih.gov/pmc/articles/PMC3757665/bin/gr2.jpg\" style=\"height: 100px\">\n",
       "            </figure>\n",
       "        \n",
       "            <figure style=\"margin: 5px !important;\">\n",
       "              <img src=\"https://www.ncbi.nlm.nih.gov/pmc/articles/PMC4081729/bin/pr.113.007757f5.jpg\" style=\"height: 100px\">\n",
       "            </figure>\n",
       "        \n",
       "            <figure style=\"margin: 5px !important;\">\n",
       "              <img src=\"https://www.ncbi.nlm.nih.gov/pmc/articles/PMC4911202/bin/BMB-48-609-g002.jpg\" style=\"height: 100px\">\n",
       "            </figure>\n",
       "        \n",
       "            <figure style=\"margin: 5px !important;\">\n",
       "              <img src=\"https://www.ncbi.nlm.nih.gov/pmc/articles/PMC7642974/bin/fphys-11-01022-g001.jpg\" style=\"height: 100px\">\n",
       "            </figure>\n",
       "        \n",
       "            <figure style=\"margin: 5px !important;\">\n",
       "              <img src=\"https://www.ncbi.nlm.nih.gov/pmc/articles/PMC7982428/bin/gr1.jpg\" style=\"height: 100px\">\n",
       "            </figure>\n",
       "        \n",
       "    </div>\n"
      ],
      "text/plain": [
       "<IPython.core.display.HTML object>"
      ]
     },
     "metadata": {},
     "output_type": "display_data"
    },
    {
     "name": "stdout",
     "output_type": "stream",
     "text": [
      "\n"
     ]
    },
    {
     "data": {
      "text/html": [
       "\n",
       "<div style=\"border: 1px solid slategray; padding: 6px;\">\n",
       "  <span style=\"font-weight: bold;\">cumulative score: 4.00</span>\n",
       "  (R)-Sulforaphane, RHOBTB2, CUL3\n",
       "  <span style=\"font-size: x-small;\">(MESH:C016766, NCBIGene:23221, NCBIGene:8452)</span><br>\n",
       "</div>\n"
      ],
      "text/plain": [
       "<IPython.core.display.HTML object>"
      ]
     },
     "metadata": {},
     "output_type": "display_data"
    },
    {
     "data": {
      "text/html": [
       "\n",
       "<div style=\"font-size: x-small;\">\n",
       "RHOBTB2 - genetically_interacts_with - \n",
       "<span style=\"border: 1px orange solid; padding: 1px; border-radius: 4px;\">CUL3</span>\n",
       " - decreases_molecular_interaction - \n",
       "<span style=\"border: 1px orange solid; padding: 1px; border-radius: 4px;\">(R)-Sulforaphane</span>\n",
       "<br>RHOBTB2 - genetically_interacts_with - \n",
       "<span style=\"border: 1px orange solid; padding: 1px; border-radius: 4px;\">CUL3</span>\n",
       " - entity_negatively_regulates_entity - \n",
       "<span style=\"border: 1px orange solid; padding: 1px; border-radius: 4px;\">(R)-Sulforaphane</span>\n",
       "<br>RHOBTB2 - genetically_interacts_with - \n",
       "<span style=\"border: 1px orange solid; padding: 1px; border-radius: 4px;\">CUL3</span>\n",
       " - molecularly_interacts_with - \n",
       "<span style=\"border: 1px orange solid; padding: 1px; border-radius: 4px;\">(R)-Sulforaphane</span>\n",
       "\n",
       "</div>\n"
      ],
      "text/plain": [
       "<IPython.core.display.HTML object>"
      ]
     },
     "metadata": {},
     "output_type": "display_data"
    },
    {
     "name": "stdout",
     "output_type": "stream",
     "text": [
      "\n"
     ]
    },
    {
     "data": {
      "text/html": [
       "\n",
       "    <div style=\"display: flex; flex-flow: row wrap; text-align: center;\">\n",
       "    \n",
       "            <figure style=\"margin: 5px !important;\">\n",
       "              <img src=\"https://www.ncbi.nlm.nih.gov/pmc/articles/PMC3757665/bin/gr2.jpg\" style=\"height: 100px\">\n",
       "            </figure>\n",
       "        \n",
       "            <figure style=\"margin: 5px !important;\">\n",
       "              <img src=\"https://www.ncbi.nlm.nih.gov/pmc/articles/PMC4081729/bin/pr.113.007757f5.jpg\" style=\"height: 100px\">\n",
       "            </figure>\n",
       "        \n",
       "            <figure style=\"margin: 5px !important;\">\n",
       "              <img src=\"https://www.ncbi.nlm.nih.gov/pmc/articles/PMC4911202/bin/BMB-48-609-g002.jpg\" style=\"height: 100px\">\n",
       "            </figure>\n",
       "        \n",
       "            <figure style=\"margin: 5px !important;\">\n",
       "              <img src=\"https://www.ncbi.nlm.nih.gov/pmc/articles/PMC6740038/bin/12964_2019_435_Fig4_HTML.jpg\" style=\"height: 100px\">\n",
       "            </figure>\n",
       "        \n",
       "            <figure style=\"margin: 5px !important;\">\n",
       "              <img src=\"https://www.ncbi.nlm.nih.gov/pmc/articles/PMC7118069/bin/41598_2020_62714_Fig1_HTML.jpg\" style=\"height: 100px\">\n",
       "            </figure>\n",
       "        \n",
       "            <figure style=\"margin: 5px !important;\">\n",
       "              <img src=\"https://www.ncbi.nlm.nih.gov/pmc/articles/PMC7642974/bin/fphys-11-01022-g001.jpg\" style=\"height: 100px\">\n",
       "            </figure>\n",
       "        \n",
       "    </div>\n"
      ],
      "text/plain": [
       "<IPython.core.display.HTML object>"
      ]
     },
     "metadata": {},
     "output_type": "display_data"
    },
    {
     "name": "stdout",
     "output_type": "stream",
     "text": [
      "\n"
     ]
    },
    {
     "data": {
      "text/html": [
       "\n",
       "<div style=\"border: 1px solid slategray; padding: 6px;\">\n",
       "  <span style=\"font-weight: bold;\">cumulative score: 4.67</span>\n",
       "  Tamoxifen, RHOBTB2, CCND1\n",
       "  <span style=\"font-size: x-small;\">(MESH:D013629, NCBIGene:23221, NCBIGene:595)</span><br>\n",
       "</div>\n"
      ],
      "text/plain": [
       "<IPython.core.display.HTML object>"
      ]
     },
     "metadata": {},
     "output_type": "display_data"
    },
    {
     "data": {
      "text/html": [
       "\n",
       "<div style=\"font-size: x-small;\">\n",
       "RHOBTB2 - entity_negatively_regulates_entity - \n",
       "<span style=\"border: 1px orange solid; padding: 1px; border-radius: 4px;\">CCND1</span>\n",
       " - entity_positively_regulates_entity - \n",
       "<span style=\"border: 1px orange solid; padding: 1px; border-radius: 4px;\">Tamoxifen</span>\n",
       "<br>RHOBTB2 - entity_negatively_regulates_entity - \n",
       "<span style=\"border: 1px orange solid; padding: 1px; border-radius: 4px;\">CCND1</span>\n",
       " - decreases_expression_of - \n",
       "<span style=\"border: 1px orange solid; padding: 1px; border-radius: 4px;\">Tamoxifen</span>\n",
       "<br>RHOBTB2 - entity_negatively_regulates_entity - \n",
       "<span style=\"border: 1px orange solid; padding: 1px; border-radius: 4px;\">CCND1</span>\n",
       " - interacts_with - \n",
       "<span style=\"border: 1px orange solid; padding: 1px; border-radius: 4px;\">Tamoxifen</span>\n",
       "<br>RHOBTB2 - entity_negatively_regulates_entity - \n",
       "<span style=\"border: 1px orange solid; padding: 1px; border-radius: 4px;\">CCND1</span>\n",
       " - increases_molecular_interaction - \n",
       "<span style=\"border: 1px orange solid; padding: 1px; border-radius: 4px;\">Tamoxifen</span>\n",
       "<br>RHOBTB2 - entity_negatively_regulates_entity - \n",
       "<span style=\"border: 1px orange solid; padding: 1px; border-radius: 4px;\">CCND1</span>\n",
       " - resistance_associated_with - \n",
       "<span style=\"border: 1px orange solid; padding: 1px; border-radius: 4px;\">Tamoxifen</span>\n",
       "<br>RHOBTB2 - entity_negatively_regulates_entity - \n",
       "<span style=\"border: 1px orange solid; padding: 1px; border-radius: 4px;\">CCND1</span>\n",
       " - molecularly_interacts_with - \n",
       "<span style=\"border: 1px orange solid; padding: 1px; border-radius: 4px;\">Tamoxifen</span>\n",
       "\n",
       "</div>\n"
      ],
      "text/plain": [
       "<IPython.core.display.HTML object>"
      ]
     },
     "metadata": {},
     "output_type": "display_data"
    },
    {
     "name": "stdout",
     "output_type": "stream",
     "text": [
      "\n"
     ]
    },
    {
     "data": {
      "text/html": [
       "\n",
       "    <div style=\"display: flex; flex-flow: row wrap; text-align: center;\">\n",
       "    \n",
       "            <figure style=\"margin: 5px !important;\">\n",
       "              <img src=\"https://www.ncbi.nlm.nih.gov/pmc/articles/PMC3269833/bin/1471-2164-12-547-6.jpg\" style=\"height: 100px\">\n",
       "            </figure>\n",
       "        \n",
       "            <figure style=\"margin: 5px !important;\">\n",
       "              <img src=\"https://www.ncbi.nlm.nih.gov/pmc/articles/PMC3326558/bin/bcr3059-8.jpg\" style=\"height: 100px\">\n",
       "            </figure>\n",
       "        \n",
       "            <figure style=\"margin: 5px !important;\">\n",
       "              <img src=\"https://www.ncbi.nlm.nih.gov/pmc/articles/PMC5652078/bin/CCDT-17-637_F2.jpg\" style=\"height: 100px\">\n",
       "            </figure>\n",
       "        \n",
       "            <figure style=\"margin: 5px !important;\">\n",
       "              <img src=\"https://www.ncbi.nlm.nih.gov/pmc/articles/PMC6050811/bin/10.1177_1758835918786451-fig1.jpg\" style=\"height: 100px\">\n",
       "            </figure>\n",
       "        \n",
       "            <figure style=\"margin: 5px !important;\">\n",
       "              <img src=\"https://www.ncbi.nlm.nih.gov/pmc/articles/PMC6523967/bin/cells-08-00321-g001.jpg\" style=\"height: 100px\">\n",
       "            </figure>\n",
       "        \n",
       "            <figure style=\"margin: 5px !important;\">\n",
       "              <img src=\"https://www.ncbi.nlm.nih.gov/pmc/articles/PMC6775706/bin/jcav10p5504g002.jpg\" style=\"height: 100px\">\n",
       "            </figure>\n",
       "        \n",
       "            <figure style=\"margin: 5px !important;\">\n",
       "              <img src=\"https://www.ncbi.nlm.nih.gov/pmc/articles/PMC6826683/bin/cancers-11-01462-g010.jpg\" style=\"height: 100px\">\n",
       "            </figure>\n",
       "        \n",
       "    </div>\n"
      ],
      "text/plain": [
       "<IPython.core.display.HTML object>"
      ]
     },
     "metadata": {},
     "output_type": "display_data"
    },
    {
     "name": "stdout",
     "output_type": "stream",
     "text": [
      "\n"
     ]
    },
    {
     "data": {
      "text/html": [
       "\n",
       "<div style=\"border: 1px solid slategray; padding: 6px;\">\n",
       "  <span style=\"font-weight: bold;\">cumulative score: 1.33</span>\n",
       "  Bortezomib, RHOBTB2, CCND1\n",
       "  <span style=\"font-size: x-small;\">(MESH:C400082, NCBIGene:23221, NCBIGene:595)</span><br>\n",
       "</div>\n"
      ],
      "text/plain": [
       "<IPython.core.display.HTML object>"
      ]
     },
     "metadata": {},
     "output_type": "display_data"
    },
    {
     "data": {
      "text/html": [
       "\n",
       "<div style=\"font-size: x-small;\">\n",
       "RHOBTB2 - entity_negatively_regulates_entity - \n",
       "<span style=\"border: 1px orange solid; padding: 1px; border-radius: 4px;\">CCND1</span>\n",
       " - sensitivity_associated_with - \n",
       "<span style=\"border: 1px orange solid; padding: 1px; border-radius: 4px;\">Bortezomib</span>\n",
       "<br>RHOBTB2 - entity_negatively_regulates_entity - \n",
       "<span style=\"border: 1px orange solid; padding: 1px; border-radius: 4px;\">CCND1</span>\n",
       " - interacts_with - \n",
       "<span style=\"border: 1px orange solid; padding: 1px; border-radius: 4px;\">Bortezomib</span>\n",
       "<br>RHOBTB2 - entity_negatively_regulates_entity - \n",
       "<span style=\"border: 1px orange solid; padding: 1px; border-radius: 4px;\">CCND1</span>\n",
       " - entity_negatively_regulates_entity - \n",
       "<span style=\"border: 1px orange solid; padding: 1px; border-radius: 4px;\">Bortezomib</span>\n",
       "<br>RHOBTB2 - entity_negatively_regulates_entity - \n",
       "<span style=\"border: 1px orange solid; padding: 1px; border-radius: 4px;\">CCND1</span>\n",
       " - entity_positively_regulates_entity - \n",
       "<span style=\"border: 1px orange solid; padding: 1px; border-radius: 4px;\">Bortezomib</span>\n",
       "<br>RHOBTB2 - entity_negatively_regulates_entity - \n",
       "<span style=\"border: 1px orange solid; padding: 1px; border-radius: 4px;\">CCND1</span>\n",
       " - resistance_associated_with - \n",
       "<span style=\"border: 1px orange solid; padding: 1px; border-radius: 4px;\">Bortezomib</span>\n",
       "\n",
       "</div>\n"
      ],
      "text/plain": [
       "<IPython.core.display.HTML object>"
      ]
     },
     "metadata": {},
     "output_type": "display_data"
    },
    {
     "name": "stdout",
     "output_type": "stream",
     "text": [
      "\n"
     ]
    },
    {
     "data": {
      "text/html": [
       "\n",
       "    <div style=\"display: flex; flex-flow: row wrap; text-align: center;\">\n",
       "    \n",
       "            <figure style=\"margin: 5px !important;\">\n",
       "              <img src=\"https://www.ncbi.nlm.nih.gov/pmc/articles/PMC3306611/bin/nihms362025f3.jpg\" style=\"height: 100px\">\n",
       "            </figure>\n",
       "        \n",
       "            <figure style=\"margin: 5px !important;\">\n",
       "              <img src=\"https://www.ncbi.nlm.nih.gov/pmc/articles/PMC4703318/bin/nihms587579f1.jpg\" style=\"height: 100px\">\n",
       "            </figure>\n",
       "        \n",
       "    </div>\n"
      ],
      "text/plain": [
       "<IPython.core.display.HTML object>"
      ]
     },
     "metadata": {},
     "output_type": "display_data"
    },
    {
     "name": "stdout",
     "output_type": "stream",
     "text": [
      "\n",
      "...\n",
      "882 more TRAPI result curie combos\n"
     ]
    }
   ],
   "source": [
    "from IPython.display import Image\n",
    "from IPython.core.display import HTML \n",
    "\n",
    "\n",
    "limit = 5\n",
    "count = 0\n",
    "display_count_limit = 20\n",
    "\n",
    "for trapi_result_curie_combo,df1 in subset_df.groupby(\"trapi_result_curie_combo\", sort=False):\n",
    "    trapi_curie_names = []\n",
    "    for curie in df1[\"trapi_result_curie_combo\"].tolist()[0]:\n",
    "        name = curie_to_name[curie]\n",
    "        trapi_curie_names.append(name)\n",
    "\n",
    "    cumulative_trapi_result_curie_combo_figure_score = list(set(\n",
    "        df1[\"cumulative_trapi_result_curie_combo_figure_score\"]\n",
    "    ))[0]\n",
    "\n",
    "    display(HTML(data=f'''\n",
    "<div style=\"border: 1px solid slategray; padding: 6px;\">\n",
    "  <span style=\"font-weight: bold;\">cumulative score: {cumulative_trapi_result_curie_combo_figure_score:.2f}</span>\n",
    "  {\", \".join(trapi_curie_names)}\n",
    "  <span style=\"font-size: x-small;\">({\", \".join(trapi_result_curie_combo)})</span><br>\n",
    "</div>\n",
    "'''))\n",
    "\n",
    "    overlap_names = []\n",
    "    for curie in df1[\"overlap_curie_combo\"].tolist()[0]:\n",
    "        name = curie_to_name[curie]\n",
    "        overlap_names.append(name)\n",
    "\n",
    "    trapi_results_rows = []\n",
    "    for i,row in df1[trapi_result_columns].drop_duplicates().iterrows():\n",
    "        trapi_result_chunks = []\n",
    "        for trapi_result_column in trapi_result_columns:\n",
    "            row_value = row[trapi_result_column]\n",
    "            if row_value in overlap_names:\n",
    "                trapi_result_chunk = f'''\n",
    "<span style=\"border: 1px orange solid; padding: 1px; border-radius: 4px;\">{row_value}</span>\n",
    "'''\n",
    "            else:\n",
    "                trapi_result_chunk = f'{row_value}'\n",
    "            trapi_result_chunks.append(trapi_result_chunk)\n",
    "        trapi_results_rows.append(\n",
    "            f'{\" - \".join(trapi_result_chunks)}'\n",
    "        )\n",
    "    trapi_results_row_count = len(trapi_results_rows)\n",
    "    display(HTML(data=f'''\n",
    "<div style=\"font-size: x-small;\">\n",
    "{\"<br>\".join(trapi_results_rows[:display_count_limit])}\n",
    "</div>\n",
    "'''))\n",
    "    if trapi_results_row_count > display_count_limit:\n",
    "        print(f\"...\")\n",
    "        print(\"\")\n",
    "        print(f\"plus {trapi_results_row_count - display_count_limit} more\")\n",
    "    print(\"\")\n",
    "\n",
    "    figures = []\n",
    "    row_height='100px'\n",
    "    for figure_id,df0 in df1.groupby(\"figure_id\"):\n",
    "        [pmc,filename] = figure_id.split(\"__\")\n",
    "        figure_url = f\"https://www.ncbi.nlm.nih.gov/pmc/articles/{pmc}/bin/{filename}\"\n",
    "        figure_title = list(set(df0[\"figure_title\"]))[0]\n",
    "\n",
    "        score = list(set(df0[\"score\"]))[0]\n",
    "\n",
    "        figures.append(f'''\n",
    "            <figure style=\"margin: 5px !important;\">\n",
    "              <img src=\"{figure_url}\" style=\"height: {row_height}\">\n",
    "            </figure>\n",
    "        ''')\n",
    "    figure_count = len(figures)\n",
    "    display(HTML(data=f'''\n",
    "    <div style=\"display: flex; flex-flow: row wrap; text-align: center;\">\n",
    "    {''.join(figures[:display_count_limit])}\n",
    "    </div>\n",
    "'''))\n",
    "\n",
    "    if figure_count > display_count_limit:\n",
    "        print(f\"...\")\n",
    "        print(\"\")\n",
    "        print(f\"plus {figure_count - display_count_limit} more\")\n",
    "\n",
    "\n",
    "    print(\"\")\n",
    "    count += 1\n",
    "    if count >= limit:\n",
    "        print(\"...\")\n",
    "        remaining = len(set(results_with_figures_df[\"trapi_result_curie_combo\"])) - limit\n",
    "        print(f'{remaining} more TRAPI result curie combos')\n",
    "        break"
   ]
  },
  {
   "cell_type": "markdown",
   "metadata": {},
   "source": [
    "#### By figure"
   ]
  },
  {
   "cell_type": "code",
   "execution_count": 32,
   "metadata": {
    "tags": []
   },
   "outputs": [
    {
     "name": "stdout",
     "output_type": "stream",
     "text": [
      "PMC6536957__CAM4-8-2252-g001.jpg\n"
     ]
    },
    {
     "data": {
      "text/html": [
       "\n",
       "<div style=\"border: 1px solid slategray; padding: 6px;\">\n",
       "  Nrf2/Keap1 signaling pathway<br>\n",
       "  <span style=\"font-size: x-small;\">PMC6536957__CAM4-8-2252-g001.jpg</span>\n",
       "</div>\n"
      ],
      "text/plain": [
       "<IPython.core.display.HTML object>"
      ]
     },
     "metadata": {},
     "output_type": "display_data"
    },
    {
     "data": {
      "text/html": [
       "<img src=\"https://www.ncbi.nlm.nih.gov/pmc/articles/PMC6536957/bin/CAM4-8-2252-g001.jpg\" width=\"600\"/>"
      ],
      "text/plain": [
       "<IPython.core.display.Image object>"
      ]
     },
     "metadata": {},
     "output_type": "display_data"
    },
    {
     "data": {
      "text/html": [
       "\n",
       "<div style=\"font-size: x-small;\">\n",
       "RHOBTB2 - genetically_interacts_with - \n",
       "<span style=\"border: 1px orange solid; padding: 1px; border-radius: 4px;\">CUL3</span>\n",
       " - entity_negatively_regulates_entity - \n",
       "<span style=\"border: 1px orange solid; padding: 1px; border-radius: 4px;\">Cysteine</span>\n",
       "\n",
       "</div>\n"
      ],
      "text/plain": [
       "<IPython.core.display.HTML object>"
      ]
     },
     "metadata": {},
     "output_type": "display_data"
    },
    {
     "name": "stdout",
     "output_type": "stream",
     "text": [
      "\n",
      "PMC4450261__BMRI2015-597134.001.jpg\n"
     ]
    },
    {
     "data": {
      "text/html": [
       "\n",
       "<div style=\"border: 1px solid slategray; padding: 6px;\">\n",
       "  Activation of the Keap1-Nrf2-ARE pathway by oxidants/electrophiles<br>\n",
       "  <span style=\"font-size: x-small;\">PMC4450261__BMRI2015-597134.001.jpg</span>\n",
       "</div>\n"
      ],
      "text/plain": [
       "<IPython.core.display.HTML object>"
      ]
     },
     "metadata": {},
     "output_type": "display_data"
    },
    {
     "data": {
      "text/html": [
       "<img src=\"https://www.ncbi.nlm.nih.gov/pmc/articles/PMC4450261/bin/BMRI2015-597134.001.jpg\" width=\"600\"/>"
      ],
      "text/plain": [
       "<IPython.core.display.Image object>"
      ]
     },
     "metadata": {},
     "output_type": "display_data"
    },
    {
     "data": {
      "text/html": [
       "\n",
       "<div style=\"font-size: x-small;\">\n",
       "RHOBTB2 - genetically_interacts_with - \n",
       "<span style=\"border: 1px orange solid; padding: 1px; border-radius: 4px;\">CUL3</span>\n",
       " - entity_negatively_regulates_entity - \n",
       "<span style=\"border: 1px orange solid; padding: 1px; border-radius: 4px;\">Cysteine</span>\n",
       "\n",
       "</div>\n"
      ],
      "text/plain": [
       "<IPython.core.display.HTML object>"
      ]
     },
     "metadata": {},
     "output_type": "display_data"
    },
    {
     "name": "stdout",
     "output_type": "stream",
     "text": [
      "\n",
      "PMC4911202__BMB-48-609-g002.jpg\n"
     ]
    },
    {
     "data": {
      "text/html": [
       "\n",
       "<div style=\"border: 1px solid slategray; padding: 6px;\">\n",
       "  Representative chemopreventive agents-induced activation of Nrf2/KEAP1/ARE signaling pathway and regulation of NQO1 gene<br>\n",
       "  <span style=\"font-size: x-small;\">PMC4911202__BMB-48-609-g002.jpg</span>\n",
       "</div>\n"
      ],
      "text/plain": [
       "<IPython.core.display.HTML object>"
      ]
     },
     "metadata": {},
     "output_type": "display_data"
    },
    {
     "data": {
      "text/html": [
       "<img src=\"https://www.ncbi.nlm.nih.gov/pmc/articles/PMC4911202/bin/BMB-48-609-g002.jpg\" width=\"600\"/>"
      ],
      "text/plain": [
       "<IPython.core.display.Image object>"
      ]
     },
     "metadata": {},
     "output_type": "display_data"
    },
    {
     "data": {
      "text/html": [
       "\n",
       "<div style=\"font-size: x-small;\">\n",
       "RHOBTB2 - genetically_interacts_with - \n",
       "<span style=\"border: 1px orange solid; padding: 1px; border-radius: 4px;\">CUL3</span>\n",
       " - entity_negatively_regulates_entity - \n",
       "<span style=\"border: 1px orange solid; padding: 1px; border-radius: 4px;\">Curcumin</span>\n",
       "\n",
       "</div>\n",
       "<br>\n",
       "<div style=\"font-size: x-small;\">\n",
       "RHOBTB2 - genetically_interacts_with - \n",
       "<span style=\"border: 1px orange solid; padding: 1px; border-radius: 4px;\">CUL3</span>\n",
       " - decreases_molecular_interaction - \n",
       "<span style=\"border: 1px orange solid; padding: 1px; border-radius: 4px;\">(R)-Sulforaphane</span>\n",
       "<br>RHOBTB2 - genetically_interacts_with - \n",
       "<span style=\"border: 1px orange solid; padding: 1px; border-radius: 4px;\">CUL3</span>\n",
       " - entity_negatively_regulates_entity - \n",
       "<span style=\"border: 1px orange solid; padding: 1px; border-radius: 4px;\">(R)-Sulforaphane</span>\n",
       "<br>RHOBTB2 - genetically_interacts_with - \n",
       "<span style=\"border: 1px orange solid; padding: 1px; border-radius: 4px;\">CUL3</span>\n",
       " - molecularly_interacts_with - \n",
       "<span style=\"border: 1px orange solid; padding: 1px; border-radius: 4px;\">(R)-Sulforaphane</span>\n",
       "\n",
       "</div>\n"
      ],
      "text/plain": [
       "<IPython.core.display.HTML object>"
      ]
     },
     "metadata": {},
     "output_type": "display_data"
    },
    {
     "name": "stdout",
     "output_type": "stream",
     "text": [
      "\n",
      "...\n",
      "692 more figures\n"
     ]
    }
   ],
   "source": [
    "from IPython.display import Image\n",
    "from IPython.core.display import HTML \n",
    "\n",
    "\n",
    "limit = 3\n",
    "count = 0\n",
    "display_count_limit = 10\n",
    "\n",
    "for figure_id,df0 in subset_df.groupby(\"figure_id\", sort=False):\n",
    "    print(figure_id)\n",
    "    [pmc,filename] = figure_id.split(\"__\")\n",
    "    figure_url = f\"https://www.ncbi.nlm.nih.gov/pmc/articles/{pmc}/bin/{filename}\"\n",
    "    figure_title = list(set(df0[\"figure_title\"]))[0]\n",
    "\n",
    "    display(HTML(data=f'''\n",
    "<div style=\"border: 1px solid slategray; padding: 6px;\">\n",
    "  {figure_title}<br>\n",
    "  <span style=\"font-size: x-small;\">{figure_id}</span>\n",
    "</div>\n",
    "'''))\n",
    "    display(Image(url=figure_url, width=600))\n",
    "\n",
    "    trapi_results_row_sets = []\n",
    "    for trapi_result_curie_combo,df1 in df0[\n",
    "        trapi_result_columns + [\"trapi_result_curie_combo\", \"overlap_curie_combo\"]\n",
    "    ].drop_duplicates().groupby(\"trapi_result_curie_combo\", sort=False):\n",
    "        overlap_names = []\n",
    "        for curie in df1[\"overlap_curie_combo\"].tolist()[0]:\n",
    "            name = curie_to_name[curie]\n",
    "            overlap_names.append(name)\n",
    "\n",
    "        trapi_results_rows = []\n",
    "        for i,row in df1.iterrows():\n",
    "            trapi_result_chunks = []\n",
    "            for trapi_result_column in trapi_result_columns:\n",
    "                row_value = row[trapi_result_column]\n",
    "                if row_value in overlap_names:\n",
    "                    trapi_result_chunk = f'''\n",
    "<span style=\"border: 1px orange solid; padding: 1px; border-radius: 4px;\">{row_value}</span>\n",
    "'''\n",
    "                else:\n",
    "                    trapi_result_chunk = f'{row_value}'\n",
    "                trapi_result_chunks.append(trapi_result_chunk)\n",
    "            trapi_results_rows.append(\n",
    "                f'{\" - \".join(trapi_result_chunks)}'\n",
    "            )\n",
    "        trapi_results_row_sets.append(f'''\n",
    "<div style=\"font-size: x-small;\">\n",
    "{\"<br>\".join(trapi_results_rows)}\n",
    "</div>\n",
    "''')\n",
    "\n",
    "    trapi_results_row_set_count = len(trapi_results_row_sets)\n",
    "    display(HTML(data=\"<br>\".join(trapi_results_row_sets[:display_count_limit])))\n",
    "    if trapi_results_row_set_count > display_count_limit:\n",
    "        print(f\"...\")\n",
    "        print(\"\")\n",
    "        print(f\"plus {trapi_results_row_set_count - display_count_limit} more\")\n",
    "    print(\"\")\n",
    "\n",
    "    count += 1\n",
    "    if count >= limit:\n",
    "        print(\"...\")\n",
    "        print(f'{len(set(results_with_figures_df[\"figure_id\"])) - limit} more figures')\n",
    "        break"
   ]
  },
  {
   "cell_type": "markdown",
   "metadata": {},
   "source": [
    "### `n0` pinned"
   ]
  },
  {
   "cell_type": "code",
   "execution_count": 33,
   "metadata": {},
   "outputs": [],
   "source": [
    "subset_df = results_with_figures_df[results_with_figures_df.apply(\n",
    "    lambda r: r.n0_unified_curie in set(r.overlap_curie_combo),\n",
    "    axis=1\n",
    ")].sort_values(\n",
    "    \"fishers_exact_p\"\n",
    ")"
   ]
  },
  {
   "cell_type": "markdown",
   "metadata": {},
   "source": [
    "#### By TRAPI result curie combo"
   ]
  },
  {
   "cell_type": "code",
   "execution_count": 34,
   "metadata": {
    "tags": []
   },
   "outputs": [
    {
     "data": {
      "text/html": [
       "\n",
       "<div style=\"border: 1px solid slategray; padding: 6px;\">\n",
       "  <span style=\"font-weight: bold;\">cumulative score: 82.00</span>\n",
       "  Adenosine monophosphate, RHOBTB2, STK11\n",
       "  <span style=\"font-size: x-small;\">(MESH:D000249, NCBIGene:23221, NCBIGene:6794)</span><br>\n",
       "</div>\n"
      ],
      "text/plain": [
       "<IPython.core.display.HTML object>"
      ]
     },
     "metadata": {},
     "output_type": "display_data"
    },
    {
     "data": {
      "text/html": [
       "\n",
       "<div style=\"font-size: x-small;\">\n",
       "\n",
       "<span style=\"border: 1px orange solid; padding: 1px; border-radius: 4px;\">RHOBTB2</span>\n",
       " - entity_negatively_regulates_entity - STK11 - entity_negatively_regulates_entity - \n",
       "<span style=\"border: 1px orange solid; padding: 1px; border-radius: 4px;\">Adenosine monophosphate</span>\n",
       "<br>\n",
       "<span style=\"border: 1px orange solid; padding: 1px; border-radius: 4px;\">RHOBTB2</span>\n",
       " - entity_negatively_regulates_entity - STK11 - entity_positively_regulates_entity - \n",
       "<span style=\"border: 1px orange solid; padding: 1px; border-radius: 4px;\">Adenosine monophosphate</span>\n",
       "<br>\n",
       "<span style=\"border: 1px orange solid; padding: 1px; border-radius: 4px;\">RHOBTB2</span>\n",
       " - entity_negatively_regulates_entity - STK11 - correlated_with - \n",
       "<span style=\"border: 1px orange solid; padding: 1px; border-radius: 4px;\">Adenosine monophosphate</span>\n",
       "\n",
       "</div>\n"
      ],
      "text/plain": [
       "<IPython.core.display.HTML object>"
      ]
     },
     "metadata": {},
     "output_type": "display_data"
    },
    {
     "name": "stdout",
     "output_type": "stream",
     "text": [
      "\n"
     ]
    },
    {
     "data": {
      "text/html": [
       "\n",
       "    <div style=\"display: flex; flex-flow: row wrap; text-align: center;\">\n",
       "    \n",
       "            <figure style=\"margin: 5px !important;\">\n",
       "              <img src=\"https://www.ncbi.nlm.nih.gov/pmc/articles/PMC7642974/bin/fphys-11-01022-g001.jpg\" style=\"height: 100px\">\n",
       "            </figure>\n",
       "        \n",
       "    </div>\n"
      ],
      "text/plain": [
       "<IPython.core.display.HTML object>"
      ]
     },
     "metadata": {},
     "output_type": "display_data"
    },
    {
     "name": "stdout",
     "output_type": "stream",
     "text": [
      "\n"
     ]
    },
    {
     "data": {
      "text/html": [
       "\n",
       "<div style=\"border: 1px solid slategray; padding: 6px;\">\n",
       "  <span style=\"font-weight: bold;\">cumulative score: 0.67</span>\n",
       "  N-(3-{[5-Iodo-4-({3-[(Thiophen-2-Ylcarbonyl)amino]propyl}amino)pyrimidin-2-Yl]amino}phenyl)pyrrolidine-1-Carboxamide, RHOBTB2, CUL3\n",
       "  <span style=\"font-size: x-small;\">(MESH:C579675, NCBIGene:23221, NCBIGene:8452)</span><br>\n",
       "</div>\n"
      ],
      "text/plain": [
       "<IPython.core.display.HTML object>"
      ]
     },
     "metadata": {},
     "output_type": "display_data"
    },
    {
     "data": {
      "text/html": [
       "\n",
       "<div style=\"font-size: x-small;\">\n",
       "\n",
       "<span style=\"border: 1px orange solid; padding: 1px; border-radius: 4px;\">RHOBTB2</span>\n",
       " - genetically_interacts_with - \n",
       "<span style=\"border: 1px orange solid; padding: 1px; border-radius: 4px;\">CUL3</span>\n",
       " - sensitivity_associated_with - N-(3-{[5-Iodo-4-({3-[(Thiophen-2-Ylcarbonyl)amino]propyl}amino)pyrimidin-2-Yl]amino}phenyl)pyrrolidine-1-Carboxamide<br>\n",
       "<span style=\"border: 1px orange solid; padding: 1px; border-radius: 4px;\">RHOBTB2</span>\n",
       " - genetically_interacts_with - \n",
       "<span style=\"border: 1px orange solid; padding: 1px; border-radius: 4px;\">CUL3</span>\n",
       " - resistance_associated_with - N-(3-{[5-Iodo-4-({3-[(Thiophen-2-Ylcarbonyl)amino]propyl}amino)pyrimidin-2-Yl]amino}phenyl)pyrrolidine-1-Carboxamide\n",
       "</div>\n"
      ],
      "text/plain": [
       "<IPython.core.display.HTML object>"
      ]
     },
     "metadata": {},
     "output_type": "display_data"
    },
    {
     "name": "stdout",
     "output_type": "stream",
     "text": [
      "\n"
     ]
    },
    {
     "data": {
      "text/html": [
       "\n",
       "    <div style=\"display: flex; flex-flow: row wrap; text-align: center;\">\n",
       "    \n",
       "            <figure style=\"margin: 5px !important;\">\n",
       "              <img src=\"https://www.ncbi.nlm.nih.gov/pmc/articles/PMC7642974/bin/fphys-11-01022-g001.jpg\" style=\"height: 100px\">\n",
       "            </figure>\n",
       "        \n",
       "    </div>\n"
      ],
      "text/plain": [
       "<IPython.core.display.HTML object>"
      ]
     },
     "metadata": {},
     "output_type": "display_data"
    },
    {
     "name": "stdout",
     "output_type": "stream",
     "text": [
      "\n"
     ]
    },
    {
     "data": {
      "text/html": [
       "\n",
       "<div style=\"border: 1px solid slategray; padding: 6px;\">\n",
       "  <span style=\"font-weight: bold;\">cumulative score: 0.67</span>\n",
       "  1-[4-Amino-7-(3-hydroxypropyl)-5-(4-methylphenyl)-7H-pyrrolo[2,3-d]pyrimidin-6-yl]-2-fluoroethanone, RHOBTB2, CUL3\n",
       "  <span style=\"font-size: x-small;\">(MESH:C000710356, NCBIGene:23221, NCBIGene:8452)</span><br>\n",
       "</div>\n"
      ],
      "text/plain": [
       "<IPython.core.display.HTML object>"
      ]
     },
     "metadata": {},
     "output_type": "display_data"
    },
    {
     "data": {
      "text/html": [
       "\n",
       "<div style=\"font-size: x-small;\">\n",
       "\n",
       "<span style=\"border: 1px orange solid; padding: 1px; border-radius: 4px;\">RHOBTB2</span>\n",
       " - genetically_interacts_with - \n",
       "<span style=\"border: 1px orange solid; padding: 1px; border-radius: 4px;\">CUL3</span>\n",
       " - sensitivity_associated_with - 1-[4-Amino-7-(3-hydroxypropyl)-5-(4-methylphenyl)-7H-pyrrolo[2,3-d]pyrimidin-6-yl]-2-fluoroethanone\n",
       "</div>\n"
      ],
      "text/plain": [
       "<IPython.core.display.HTML object>"
      ]
     },
     "metadata": {},
     "output_type": "display_data"
    },
    {
     "name": "stdout",
     "output_type": "stream",
     "text": [
      "\n"
     ]
    },
    {
     "data": {
      "text/html": [
       "\n",
       "    <div style=\"display: flex; flex-flow: row wrap; text-align: center;\">\n",
       "    \n",
       "            <figure style=\"margin: 5px !important;\">\n",
       "              <img src=\"https://www.ncbi.nlm.nih.gov/pmc/articles/PMC7642974/bin/fphys-11-01022-g001.jpg\" style=\"height: 100px\">\n",
       "            </figure>\n",
       "        \n",
       "    </div>\n"
      ],
      "text/plain": [
       "<IPython.core.display.HTML object>"
      ]
     },
     "metadata": {},
     "output_type": "display_data"
    },
    {
     "name": "stdout",
     "output_type": "stream",
     "text": [
      "\n"
     ]
    },
    {
     "data": {
      "text/html": [
       "\n",
       "<div style=\"border: 1px solid slategray; padding: 6px;\">\n",
       "  <span style=\"font-weight: bold;\">cumulative score: 0.67</span>\n",
       "  [5-[2,4-Bis((3S)-3-methylmorpholin-4-yl)pyrido[2,3-d]pyrimidin-7-yl]-2-methoxyphenyl]methanol, RHOBTB2, CUL3\n",
       "  <span style=\"font-size: x-small;\">(MESH:C546624, NCBIGene:23221, NCBIGene:8452)</span><br>\n",
       "</div>\n"
      ],
      "text/plain": [
       "<IPython.core.display.HTML object>"
      ]
     },
     "metadata": {},
     "output_type": "display_data"
    },
    {
     "data": {
      "text/html": [
       "\n",
       "<div style=\"font-size: x-small;\">\n",
       "\n",
       "<span style=\"border: 1px orange solid; padding: 1px; border-radius: 4px;\">RHOBTB2</span>\n",
       " - genetically_interacts_with - \n",
       "<span style=\"border: 1px orange solid; padding: 1px; border-radius: 4px;\">CUL3</span>\n",
       " - sensitivity_associated_with - [5-[2,4-Bis((3S)-3-methylmorpholin-4-yl)pyrido[2,3-d]pyrimidin-7-yl]-2-methoxyphenyl]methanol<br>\n",
       "<span style=\"border: 1px orange solid; padding: 1px; border-radius: 4px;\">RHOBTB2</span>\n",
       " - genetically_interacts_with - \n",
       "<span style=\"border: 1px orange solid; padding: 1px; border-radius: 4px;\">CUL3</span>\n",
       " - resistance_associated_with - [5-[2,4-Bis((3S)-3-methylmorpholin-4-yl)pyrido[2,3-d]pyrimidin-7-yl]-2-methoxyphenyl]methanol\n",
       "</div>\n"
      ],
      "text/plain": [
       "<IPython.core.display.HTML object>"
      ]
     },
     "metadata": {},
     "output_type": "display_data"
    },
    {
     "name": "stdout",
     "output_type": "stream",
     "text": [
      "\n"
     ]
    },
    {
     "data": {
      "text/html": [
       "\n",
       "    <div style=\"display: flex; flex-flow: row wrap; text-align: center;\">\n",
       "    \n",
       "            <figure style=\"margin: 5px !important;\">\n",
       "              <img src=\"https://www.ncbi.nlm.nih.gov/pmc/articles/PMC7642974/bin/fphys-11-01022-g001.jpg\" style=\"height: 100px\">\n",
       "            </figure>\n",
       "        \n",
       "    </div>\n"
      ],
      "text/plain": [
       "<IPython.core.display.HTML object>"
      ]
     },
     "metadata": {},
     "output_type": "display_data"
    },
    {
     "name": "stdout",
     "output_type": "stream",
     "text": [
      "\n"
     ]
    },
    {
     "data": {
      "text/html": [
       "\n",
       "<div style=\"border: 1px solid slategray; padding: 6px;\">\n",
       "  <span style=\"font-weight: bold;\">cumulative score: 0.67</span>\n",
       "  Quinacrine, RHOBTB2, CUL3\n",
       "  <span style=\"font-size: x-small;\">(MESH:D011796, NCBIGene:23221, NCBIGene:8452)</span><br>\n",
       "</div>\n"
      ],
      "text/plain": [
       "<IPython.core.display.HTML object>"
      ]
     },
     "metadata": {},
     "output_type": "display_data"
    },
    {
     "data": {
      "text/html": [
       "\n",
       "<div style=\"font-size: x-small;\">\n",
       "\n",
       "<span style=\"border: 1px orange solid; padding: 1px; border-radius: 4px;\">RHOBTB2</span>\n",
       " - genetically_interacts_with - \n",
       "<span style=\"border: 1px orange solid; padding: 1px; border-radius: 4px;\">CUL3</span>\n",
       " - entity_positively_regulates_entity - Quinacrine\n",
       "</div>\n"
      ],
      "text/plain": [
       "<IPython.core.display.HTML object>"
      ]
     },
     "metadata": {},
     "output_type": "display_data"
    },
    {
     "name": "stdout",
     "output_type": "stream",
     "text": [
      "\n"
     ]
    },
    {
     "data": {
      "text/html": [
       "\n",
       "    <div style=\"display: flex; flex-flow: row wrap; text-align: center;\">\n",
       "    \n",
       "            <figure style=\"margin: 5px !important;\">\n",
       "              <img src=\"https://www.ncbi.nlm.nih.gov/pmc/articles/PMC7642974/bin/fphys-11-01022-g001.jpg\" style=\"height: 100px\">\n",
       "            </figure>\n",
       "        \n",
       "    </div>\n"
      ],
      "text/plain": [
       "<IPython.core.display.HTML object>"
      ]
     },
     "metadata": {},
     "output_type": "display_data"
    },
    {
     "name": "stdout",
     "output_type": "stream",
     "text": [
      "\n",
      "...\n",
      "495 more TRAPI result curie combos\n"
     ]
    }
   ],
   "source": [
    "from IPython.display import Image\n",
    "from IPython.core.display import HTML \n",
    "\n",
    "\n",
    "limit = 5\n",
    "count = 0\n",
    "display_count_limit = 20\n",
    "\n",
    "for trapi_result_curie_combo,df1 in subset_df.groupby(\"trapi_result_curie_combo\", sort=False):\n",
    "    trapi_curie_names = []\n",
    "    for curie in df1[\"trapi_result_curie_combo\"].tolist()[0]:\n",
    "        name = curie_to_name[curie]\n",
    "        trapi_curie_names.append(name)\n",
    "\n",
    "    cumulative_trapi_result_curie_combo_figure_score = list(set(\n",
    "        df1[\"cumulative_trapi_result_curie_combo_figure_score\"]\n",
    "    ))[0]\n",
    "\n",
    "    display(HTML(data=f'''\n",
    "<div style=\"border: 1px solid slategray; padding: 6px;\">\n",
    "  <span style=\"font-weight: bold;\">cumulative score: {cumulative_trapi_result_curie_combo_figure_score:.2f}</span>\n",
    "  {\", \".join(trapi_curie_names)}\n",
    "  <span style=\"font-size: x-small;\">({\", \".join(trapi_result_curie_combo)})</span><br>\n",
    "</div>\n",
    "'''))\n",
    "\n",
    "    overlap_names = []\n",
    "    for curie in df1[\"overlap_curie_combo\"].tolist()[0]:\n",
    "        name = curie_to_name[curie]\n",
    "        overlap_names.append(name)\n",
    "\n",
    "    trapi_results_rows = []\n",
    "    for i,row in df1[trapi_result_columns].drop_duplicates().iterrows():\n",
    "        trapi_result_chunks = []\n",
    "        for trapi_result_column in trapi_result_columns:\n",
    "            row_value = row[trapi_result_column]\n",
    "            if row_value in overlap_names:\n",
    "                trapi_result_chunk = f'''\n",
    "<span style=\"border: 1px orange solid; padding: 1px; border-radius: 4px;\">{row_value}</span>\n",
    "'''\n",
    "            else:\n",
    "                trapi_result_chunk = f'{row_value}'\n",
    "            trapi_result_chunks.append(trapi_result_chunk)\n",
    "        trapi_results_rows.append(\n",
    "            f'{\" - \".join(trapi_result_chunks)}'\n",
    "        )\n",
    "    trapi_results_row_count = len(trapi_results_rows)\n",
    "    display(HTML(data=f'''\n",
    "<div style=\"font-size: x-small;\">\n",
    "{\"<br>\".join(trapi_results_rows[:display_count_limit])}\n",
    "</div>\n",
    "'''))\n",
    "    if trapi_results_row_count > display_count_limit:\n",
    "        print(f\"...\")\n",
    "        print(\"\")\n",
    "        print(f\"plus {trapi_results_row_count - display_count_limit} more\")\n",
    "    print(\"\")\n",
    "\n",
    "    figures = []\n",
    "    row_height='100px'\n",
    "    for figure_id,df0 in df1.groupby(\"figure_id\"):\n",
    "        [pmc,filename] = figure_id.split(\"__\")\n",
    "        figure_url = f\"https://www.ncbi.nlm.nih.gov/pmc/articles/{pmc}/bin/{filename}\"\n",
    "        figure_title = list(set(df0[\"figure_title\"]))[0]\n",
    "\n",
    "        score = list(set(df0[\"score\"]))[0]\n",
    "\n",
    "        figures.append(f'''\n",
    "            <figure style=\"margin: 5px !important;\">\n",
    "              <img src=\"{figure_url}\" style=\"height: {row_height}\">\n",
    "            </figure>\n",
    "        ''')\n",
    "    figure_count = len(figures)\n",
    "    display(HTML(data=f'''\n",
    "    <div style=\"display: flex; flex-flow: row wrap; text-align: center;\">\n",
    "    {''.join(figures[:display_count_limit])}\n",
    "    </div>\n",
    "'''))\n",
    "\n",
    "    if figure_count > display_count_limit:\n",
    "        print(f\"...\")\n",
    "        print(\"\")\n",
    "        print(f\"plus {figure_count - display_count_limit} more\")\n",
    "\n",
    "\n",
    "    print(\"\")\n",
    "    count += 1\n",
    "    if count >= limit:\n",
    "        print(\"...\")\n",
    "        print(f'{len(set(subset_df[\"trapi_result_curie_combo\"])) - limit} more TRAPI result curie combos')\n",
    "        break"
   ]
  },
  {
   "cell_type": "markdown",
   "metadata": {},
   "source": [
    "#### By figure"
   ]
  },
  {
   "cell_type": "code",
   "execution_count": 35,
   "metadata": {
    "tags": []
   },
   "outputs": [
    {
     "data": {
      "text/html": [
       "\n",
       "<div style=\"border: 1px solid slategray; padding: 6px;\">\n",
       "  Action and classification of E3 ubiquitin ligases causing neurological diseases in human<br>\n",
       "  <span style=\"font-size: x-small;\">PMC7642974__fphys-11-01022-g001.jpg</span>\n",
       "</div>\n"
      ],
      "text/plain": [
       "<IPython.core.display.HTML object>"
      ]
     },
     "metadata": {},
     "output_type": "display_data"
    },
    {
     "data": {
      "text/html": [
       "<img src=\"https://www.ncbi.nlm.nih.gov/pmc/articles/PMC7642974/bin/fphys-11-01022-g001.jpg\" width=\"600\"/>"
      ],
      "text/plain": [
       "<IPython.core.display.Image object>"
      ]
     },
     "metadata": {},
     "output_type": "display_data"
    },
    {
     "data": {
      "text/html": [
       "\n",
       "<div style=\"font-size: x-small;\">\n",
       "\n",
       "<span style=\"border: 1px orange solid; padding: 1px; border-radius: 4px;\">RHOBTB2</span>\n",
       " - entity_negatively_regulates_entity - STK11 - entity_negatively_regulates_entity - \n",
       "<span style=\"border: 1px orange solid; padding: 1px; border-radius: 4px;\">Adenosine monophosphate</span>\n",
       "<br>\n",
       "<span style=\"border: 1px orange solid; padding: 1px; border-radius: 4px;\">RHOBTB2</span>\n",
       " - entity_negatively_regulates_entity - STK11 - correlated_with - \n",
       "<span style=\"border: 1px orange solid; padding: 1px; border-radius: 4px;\">Adenosine monophosphate</span>\n",
       "<br>\n",
       "<span style=\"border: 1px orange solid; padding: 1px; border-radius: 4px;\">RHOBTB2</span>\n",
       " - entity_negatively_regulates_entity - STK11 - entity_positively_regulates_entity - \n",
       "<span style=\"border: 1px orange solid; padding: 1px; border-radius: 4px;\">Adenosine monophosphate</span>\n",
       "\n",
       "</div>\n",
       "<br>\n",
       "<div style=\"font-size: x-small;\">\n",
       "\n",
       "<span style=\"border: 1px orange solid; padding: 1px; border-radius: 4px;\">RHOBTB2</span>\n",
       " - entity_negatively_regulates_entity - STK11 - entity_negatively_regulates_entity - \n",
       "<span style=\"border: 1px orange solid; padding: 1px; border-radius: 4px;\">Adenosine-5'-triphosphate</span>\n",
       "<br>\n",
       "<span style=\"border: 1px orange solid; padding: 1px; border-radius: 4px;\">RHOBTB2</span>\n",
       " - entity_negatively_regulates_entity - STK11 - entity_positively_regulates_entity - \n",
       "<span style=\"border: 1px orange solid; padding: 1px; border-radius: 4px;\">Adenosine-5'-triphosphate</span>\n",
       "\n",
       "</div>\n",
       "<br>\n",
       "<div style=\"font-size: x-small;\">\n",
       "\n",
       "<span style=\"border: 1px orange solid; padding: 1px; border-radius: 4px;\">RHOBTB2</span>\n",
       " - entity_negatively_regulates_entity - CCND1 - entity_negatively_regulates_entity - \n",
       "<span style=\"border: 1px orange solid; padding: 1px; border-radius: 4px;\">Adenosine monophosphate</span>\n",
       "\n",
       "</div>\n",
       "<br>\n",
       "<div style=\"font-size: x-small;\">\n",
       "\n",
       "<span style=\"border: 1px orange solid; padding: 1px; border-radius: 4px;\">RHOBTB2</span>\n",
       " - entity_negatively_regulates_entity - CCND1 - entity_negatively_regulates_entity - \n",
       "<span style=\"border: 1px orange solid; padding: 1px; border-radius: 4px;\">Adenosine-5'-triphosphate</span>\n",
       "<br>\n",
       "<span style=\"border: 1px orange solid; padding: 1px; border-radius: 4px;\">RHOBTB2</span>\n",
       " - entity_negatively_regulates_entity - CCND1 - entity_positively_regulates_entity - \n",
       "<span style=\"border: 1px orange solid; padding: 1px; border-radius: 4px;\">Adenosine-5'-triphosphate</span>\n",
       "\n",
       "</div>\n",
       "<br>\n",
       "<div style=\"font-size: x-small;\">\n",
       "\n",
       "<span style=\"border: 1px orange solid; padding: 1px; border-radius: 4px;\">RHOBTB2</span>\n",
       " - genetically_interacts_with - \n",
       "<span style=\"border: 1px orange solid; padding: 1px; border-radius: 4px;\">CUL3</span>\n",
       " - entity_negatively_regulates_entity - Cysteine\n",
       "</div>\n",
       "<br>\n",
       "<div style=\"font-size: x-small;\">\n",
       "\n",
       "<span style=\"border: 1px orange solid; padding: 1px; border-radius: 4px;\">RHOBTB2</span>\n",
       " - entity_negatively_regulates_entity - CCND2 - entity_positively_regulates_entity - \n",
       "<span style=\"border: 1px orange solid; padding: 1px; border-radius: 4px;\">Adenosine-5'-triphosphate</span>\n",
       "\n",
       "</div>\n",
       "<br>\n",
       "<div style=\"font-size: x-small;\">\n",
       "\n",
       "<span style=\"border: 1px orange solid; padding: 1px; border-radius: 4px;\">RHOBTB2</span>\n",
       " - entity_negatively_regulates_entity - CCND3 - entity_negatively_regulates_entity - \n",
       "<span style=\"border: 1px orange solid; padding: 1px; border-radius: 4px;\">Adenosine monophosphate</span>\n",
       "\n",
       "</div>\n",
       "<br>\n",
       "<div style=\"font-size: x-small;\">\n",
       "\n",
       "<span style=\"border: 1px orange solid; padding: 1px; border-radius: 4px;\">RHOBTB2</span>\n",
       " - entity_negatively_regulates_entity - CCND3 - entity_positively_regulates_entity - \n",
       "<span style=\"border: 1px orange solid; padding: 1px; border-radius: 4px;\">Adenosine-5'-triphosphate</span>\n",
       "<br>\n",
       "<span style=\"border: 1px orange solid; padding: 1px; border-radius: 4px;\">RHOBTB2</span>\n",
       " - entity_negatively_regulates_entity - CCND3 - entity_negatively_regulates_entity - \n",
       "<span style=\"border: 1px orange solid; padding: 1px; border-radius: 4px;\">Adenosine-5'-triphosphate</span>\n",
       "\n",
       "</div>\n",
       "<br>\n",
       "<div style=\"font-size: x-small;\">\n",
       "\n",
       "<span style=\"border: 1px orange solid; padding: 1px; border-radius: 4px;\">RHOBTB2</span>\n",
       " - entity_negatively_regulates_entity - CCND2 - entity_negatively_regulates_entity - \n",
       "<span style=\"border: 1px orange solid; padding: 1px; border-radius: 4px;\">Adenosine monophosphate</span>\n",
       "\n",
       "</div>\n",
       "<br>\n",
       "<div style=\"font-size: x-small;\">\n",
       "\n",
       "<span style=\"border: 1px orange solid; padding: 1px; border-radius: 4px;\">RHOBTB2</span>\n",
       " - genetically_interacts_with - \n",
       "<span style=\"border: 1px orange solid; padding: 1px; border-radius: 4px;\">CUL3</span>\n",
       " - molecularly_interacts_with - (R)-Sulforaphane<br>\n",
       "<span style=\"border: 1px orange solid; padding: 1px; border-radius: 4px;\">RHOBTB2</span>\n",
       " - genetically_interacts_with - \n",
       "<span style=\"border: 1px orange solid; padding: 1px; border-radius: 4px;\">CUL3</span>\n",
       " - entity_negatively_regulates_entity - (R)-Sulforaphane<br>\n",
       "<span style=\"border: 1px orange solid; padding: 1px; border-radius: 4px;\">RHOBTB2</span>\n",
       " - genetically_interacts_with - \n",
       "<span style=\"border: 1px orange solid; padding: 1px; border-radius: 4px;\">CUL3</span>\n",
       " - decreases_molecular_interaction - (R)-Sulforaphane\n",
       "</div>\n"
      ],
      "text/plain": [
       "<IPython.core.display.HTML object>"
      ]
     },
     "metadata": {},
     "output_type": "display_data"
    },
    {
     "name": "stdout",
     "output_type": "stream",
     "text": [
      "...\n",
      "\n",
      "plus 164 more\n",
      "\n"
     ]
    },
    {
     "data": {
      "text/html": [
       "\n",
       "<div style=\"border: 1px solid slategray; padding: 6px;\">\n",
       "  Major RAS family numbers<br>\n",
       "  <span style=\"font-size: x-small;\">PMC6089851__gr1.jpg</span>\n",
       "</div>\n"
      ],
      "text/plain": [
       "<IPython.core.display.HTML object>"
      ]
     },
     "metadata": {},
     "output_type": "display_data"
    },
    {
     "data": {
      "text/html": [
       "<img src=\"https://www.ncbi.nlm.nih.gov/pmc/articles/PMC6089851/bin/gr1.jpg\" width=\"600\"/>"
      ],
      "text/plain": [
       "<IPython.core.display.Image object>"
      ]
     },
     "metadata": {},
     "output_type": "display_data"
    },
    {
     "data": {
      "text/html": [
       "\n",
       "<div style=\"font-size: x-small;\">\n",
       "\n",
       "<span style=\"border: 1px orange solid; padding: 1px; border-radius: 4px;\">RHOBTB2</span>\n",
       " - entity_negatively_regulates_entity - \n",
       "<span style=\"border: 1px orange solid; padding: 1px; border-radius: 4px;\">RHOB</span>\n",
       " - entity_negatively_regulated_by_entity - Mevalonic acid\n",
       "</div>\n",
       "<br>\n",
       "<div style=\"font-size: x-small;\">\n",
       "\n",
       "<span style=\"border: 1px orange solid; padding: 1px; border-radius: 4px;\">RHOBTB2</span>\n",
       " - entity_negatively_regulates_entity - \n",
       "<span style=\"border: 1px orange solid; padding: 1px; border-radius: 4px;\">RHOB</span>\n",
       " - entity_positively_regulates_entity - Cholesterol\n",
       "</div>\n",
       "<br>\n",
       "<div style=\"font-size: x-small;\">\n",
       "\n",
       "<span style=\"border: 1px orange solid; padding: 1px; border-radius: 4px;\">RHOBTB2</span>\n",
       " - entity_negatively_regulates_entity - \n",
       "<span style=\"border: 1px orange solid; padding: 1px; border-radius: 4px;\">RHOB</span>\n",
       " - entity_negatively_regulates_entity - Farnesyl diphosphate\n",
       "</div>\n",
       "<br>\n",
       "<div style=\"font-size: x-small;\">\n",
       "\n",
       "<span style=\"border: 1px orange solid; padding: 1px; border-radius: 4px;\">RHOBTB2</span>\n",
       " - entity_negatively_regulates_entity - \n",
       "<span style=\"border: 1px orange solid; padding: 1px; border-radius: 4px;\">RHOB</span>\n",
       " - entity_positively_regulates_entity - Simvastatin\n",
       "</div>\n",
       "<br>\n",
       "<div style=\"font-size: x-small;\">\n",
       "\n",
       "<span style=\"border: 1px orange solid; padding: 1px; border-radius: 4px;\">RHOBTB2</span>\n",
       " - entity_negatively_regulates_entity - \n",
       "<span style=\"border: 1px orange solid; padding: 1px; border-radius: 4px;\">RHOB</span>\n",
       " - entity_negatively_regulates_entity - L-Pyroglutamic acid\n",
       "</div>\n",
       "<br>\n",
       "<div style=\"font-size: x-small;\">\n",
       "\n",
       "<span style=\"border: 1px orange solid; padding: 1px; border-radius: 4px;\">RHOBTB2</span>\n",
       " - entity_negatively_regulates_entity - \n",
       "<span style=\"border: 1px orange solid; padding: 1px; border-radius: 4px;\">RHOB</span>\n",
       " - entity_positively_regulates_entity - Rosuvastatin\n",
       "</div>\n",
       "<br>\n",
       "<div style=\"font-size: x-small;\">\n",
       "\n",
       "<span style=\"border: 1px orange solid; padding: 1px; border-radius: 4px;\">RHOBTB2</span>\n",
       " - entity_negatively_regulates_entity - \n",
       "<span style=\"border: 1px orange solid; padding: 1px; border-radius: 4px;\">RHOB</span>\n",
       " - increases_expression_of - BENZO(a)PYRENE\n",
       "</div>\n",
       "<br>\n",
       "<div style=\"font-size: x-small;\">\n",
       "\n",
       "<span style=\"border: 1px orange solid; padding: 1px; border-radius: 4px;\">RHOBTB2</span>\n",
       " - entity_negatively_regulates_entity - \n",
       "<span style=\"border: 1px orange solid; padding: 1px; border-radius: 4px;\">RHOB</span>\n",
       " - entity_positively_regulates_entity - Arginine\n",
       "</div>\n",
       "<br>\n",
       "<div style=\"font-size: x-small;\">\n",
       "\n",
       "<span style=\"border: 1px orange solid; padding: 1px; border-radius: 4px;\">RHOBTB2</span>\n",
       " - entity_negatively_regulates_entity - \n",
       "<span style=\"border: 1px orange solid; padding: 1px; border-radius: 4px;\">RHOB</span>\n",
       " - entity_negatively_regulates_entity - Tipifarnib<br>\n",
       "<span style=\"border: 1px orange solid; padding: 1px; border-radius: 4px;\">RHOBTB2</span>\n",
       " - entity_negatively_regulates_entity - \n",
       "<span style=\"border: 1px orange solid; padding: 1px; border-radius: 4px;\">RHOB</span>\n",
       " - sensitivity_associated_with - Tipifarnib\n",
       "</div>\n",
       "<br>\n",
       "<div style=\"font-size: x-small;\">\n",
       "\n",
       "<span style=\"border: 1px orange solid; padding: 1px; border-radius: 4px;\">RHOBTB2</span>\n",
       " - entity_negatively_regulates_entity - \n",
       "<span style=\"border: 1px orange solid; padding: 1px; border-radius: 4px;\">RHOB</span>\n",
       " - entity_positively_regulated_by_entity - Lovastatin<br>\n",
       "<span style=\"border: 1px orange solid; padding: 1px; border-radius: 4px;\">RHOBTB2</span>\n",
       " - entity_negatively_regulates_entity - \n",
       "<span style=\"border: 1px orange solid; padding: 1px; border-radius: 4px;\">RHOB</span>\n",
       " - molecularly_interacts_with - Lovastatin<br>\n",
       "<span style=\"border: 1px orange solid; padding: 1px; border-radius: 4px;\">RHOBTB2</span>\n",
       " - entity_negatively_regulates_entity - \n",
       "<span style=\"border: 1px orange solid; padding: 1px; border-radius: 4px;\">RHOB</span>\n",
       " - increases_molecular_interaction - Lovastatin<br>\n",
       "<span style=\"border: 1px orange solid; padding: 1px; border-radius: 4px;\">RHOBTB2</span>\n",
       " - entity_negatively_regulates_entity - \n",
       "<span style=\"border: 1px orange solid; padding: 1px; border-radius: 4px;\">RHOB</span>\n",
       " - coexists_with - Lovastatin<br>\n",
       "<span style=\"border: 1px orange solid; padding: 1px; border-radius: 4px;\">RHOBTB2</span>\n",
       " - entity_negatively_regulates_entity - \n",
       "<span style=\"border: 1px orange solid; padding: 1px; border-radius: 4px;\">RHOB</span>\n",
       " - entity_positively_regulates_entity - Lovastatin<br>\n",
       "<span style=\"border: 1px orange solid; padding: 1px; border-radius: 4px;\">RHOBTB2</span>\n",
       " - entity_negatively_regulates_entity - \n",
       "<span style=\"border: 1px orange solid; padding: 1px; border-radius: 4px;\">RHOB</span>\n",
       " - entity_negatively_regulates_entity - Lovastatin\n",
       "</div>\n"
      ],
      "text/plain": [
       "<IPython.core.display.HTML object>"
      ]
     },
     "metadata": {},
     "output_type": "display_data"
    },
    {
     "name": "stdout",
     "output_type": "stream",
     "text": [
      "...\n",
      "\n",
      "plus 316 more\n",
      "\n"
     ]
    }
   ],
   "source": [
    "from IPython.display import Image\n",
    "from IPython.core.display import HTML \n",
    "\n",
    "\n",
    "limit = 3\n",
    "count = 0\n",
    "display_count_limit = 10\n",
    "\n",
    "for figure_id,df0 in results_with_figures_df[results_with_figures_df.apply(\n",
    "    lambda r: r.n0_unified_curie in set(r.overlap_curie_combo),\n",
    "    axis=1\n",
    ")].groupby(\"figure_id\", sort=False):\n",
    "    [pmc,filename] = figure_id.split(\"__\")\n",
    "    figure_url = f\"https://www.ncbi.nlm.nih.gov/pmc/articles/{pmc}/bin/{filename}\"\n",
    "    figure_title = list(set(df0[\"figure_title\"]))[0]\n",
    "\n",
    "    display(HTML(data=f'''\n",
    "<div style=\"border: 1px solid slategray; padding: 6px;\">\n",
    "  {figure_title}<br>\n",
    "  <span style=\"font-size: x-small;\">{figure_id}</span>\n",
    "</div>\n",
    "'''))\n",
    "    display(Image(url=figure_url, width=600))\n",
    "\n",
    "    trapi_results_row_sets = []\n",
    "    for trapi_result_curie_combo,df1 in df0[\n",
    "        trapi_result_columns + [\"trapi_result_curie_combo\", \"overlap_curie_combo\"]\n",
    "    ].drop_duplicates().groupby(\"trapi_result_curie_combo\", sort=False):\n",
    "        overlap_names = []\n",
    "        for curie in df1[\"overlap_curie_combo\"].tolist()[0]:\n",
    "            name = curie_to_name[curie]\n",
    "            overlap_names.append(name)\n",
    "\n",
    "        trapi_results_rows = []\n",
    "        for i,row in df1.iterrows():\n",
    "            trapi_result_chunks = []\n",
    "            for trapi_result_column in trapi_result_columns:\n",
    "                row_value = row[trapi_result_column]\n",
    "                if row_value in overlap_names:\n",
    "                    trapi_result_chunk = f'''\n",
    "<span style=\"border: 1px orange solid; padding: 1px; border-radius: 4px;\">{row_value}</span>\n",
    "'''\n",
    "                else:\n",
    "                    trapi_result_chunk = f'{row_value}'\n",
    "                trapi_result_chunks.append(trapi_result_chunk)\n",
    "            trapi_results_rows.append(\n",
    "                f'{\" - \".join(trapi_result_chunks)}'\n",
    "            )\n",
    "        trapi_results_row_sets.append(f'''\n",
    "<div style=\"font-size: x-small;\">\n",
    "{\"<br>\".join(trapi_results_rows)}\n",
    "</div>\n",
    "''')\n",
    "\n",
    "    trapi_results_row_set_count = len(trapi_results_row_sets)\n",
    "    display(HTML(data=\"<br>\".join(trapi_results_row_sets[:display_count_limit])))\n",
    "    if trapi_results_row_set_count > display_count_limit:\n",
    "        print(f\"...\")\n",
    "        print(\"\")\n",
    "        print(f\"plus {trapi_results_row_set_count - display_count_limit} more\")\n",
    "    print(\"\")\n",
    "\n",
    "    count += 1\n",
    "    if count >= limit:\n",
    "        print(\"...\")\n",
    "        print(f'{len(set(results_with_figures_df[\"figure_id\"])) - limit} more figures')\n",
    "        break"
   ]
  },
  {
   "cell_type": "markdown",
   "metadata": {},
   "source": [
    "### `n0` and `n1` pinned"
   ]
  },
  {
   "cell_type": "code",
   "execution_count": 36,
   "metadata": {},
   "outputs": [],
   "source": [
    "subset_df = results_with_figures_df[results_with_figures_df.apply(\n",
    "    lambda r: (\n",
    "        r.n0_unified_curie in set(r.overlap_curie_combo)\n",
    "    ) and (\n",
    "        r.n1_unified_curie in set(r.overlap_curie_combo)\n",
    "    ),\n",
    "    axis=1\n",
    ")].sort_values(\n",
    "    \"fishers_exact_p\"\n",
    ")"
   ]
  },
  {
   "cell_type": "markdown",
   "metadata": {},
   "source": [
    "#### By TRAPI result curie combo"
   ]
  },
  {
   "cell_type": "code",
   "execution_count": 37,
   "metadata": {
    "tags": []
   },
   "outputs": [
    {
     "data": {
      "text/html": [
       "\n",
       "<div style=\"border: 1px solid slategray; padding: 6px;\">\n",
       "  <span style=\"font-weight: bold;\">cumulative score: 13.33</span>\n",
       "  Cysteine, RHOBTB2, CUL3\n",
       "  <span style=\"font-size: x-small;\">(MESH:D003545, NCBIGene:23221, NCBIGene:8452)</span><br>\n",
       "</div>\n"
      ],
      "text/plain": [
       "<IPython.core.display.HTML object>"
      ]
     },
     "metadata": {},
     "output_type": "display_data"
    },
    {
     "data": {
      "text/html": [
       "\n",
       "<div style=\"font-size: x-small;\">\n",
       "\n",
       "<span style=\"border: 1px orange solid; padding: 1px; border-radius: 4px;\">RHOBTB2</span>\n",
       " - genetically_interacts_with - \n",
       "<span style=\"border: 1px orange solid; padding: 1px; border-radius: 4px;\">CUL3</span>\n",
       " - entity_negatively_regulates_entity - Cysteine\n",
       "</div>\n"
      ],
      "text/plain": [
       "<IPython.core.display.HTML object>"
      ]
     },
     "metadata": {},
     "output_type": "display_data"
    },
    {
     "name": "stdout",
     "output_type": "stream",
     "text": [
      "\n"
     ]
    },
    {
     "data": {
      "text/html": [
       "\n",
       "    <div style=\"display: flex; flex-flow: row wrap; text-align: center;\">\n",
       "    \n",
       "            <figure style=\"margin: 5px !important;\">\n",
       "              <img src=\"https://www.ncbi.nlm.nih.gov/pmc/articles/PMC7642974/bin/fphys-11-01022-g001.jpg\" style=\"height: 100px\">\n",
       "            </figure>\n",
       "        \n",
       "    </div>\n"
      ],
      "text/plain": [
       "<IPython.core.display.HTML object>"
      ]
     },
     "metadata": {},
     "output_type": "display_data"
    },
    {
     "name": "stdout",
     "output_type": "stream",
     "text": [
      "\n"
     ]
    },
    {
     "data": {
      "text/html": [
       "\n",
       "<div style=\"border: 1px solid slategray; padding: 6px;\">\n",
       "  <span style=\"font-weight: bold;\">cumulative score: 0.67</span>\n",
       "  Docosahexaenoic acid, RHOBTB2, CUL3\n",
       "  <span style=\"font-size: x-small;\">(MESH:D004281, NCBIGene:23221, NCBIGene:8452)</span><br>\n",
       "</div>\n"
      ],
      "text/plain": [
       "<IPython.core.display.HTML object>"
      ]
     },
     "metadata": {},
     "output_type": "display_data"
    },
    {
     "data": {
      "text/html": [
       "\n",
       "<div style=\"font-size: x-small;\">\n",
       "\n",
       "<span style=\"border: 1px orange solid; padding: 1px; border-radius: 4px;\">RHOBTB2</span>\n",
       " - genetically_interacts_with - \n",
       "<span style=\"border: 1px orange solid; padding: 1px; border-radius: 4px;\">CUL3</span>\n",
       " - molecularly_interacts_with - Docosahexaenoic acid<br>\n",
       "<span style=\"border: 1px orange solid; padding: 1px; border-radius: 4px;\">RHOBTB2</span>\n",
       " - genetically_interacts_with - \n",
       "<span style=\"border: 1px orange solid; padding: 1px; border-radius: 4px;\">CUL3</span>\n",
       " - decreases_molecular_interaction - Docosahexaenoic acid\n",
       "</div>\n"
      ],
      "text/plain": [
       "<IPython.core.display.HTML object>"
      ]
     },
     "metadata": {},
     "output_type": "display_data"
    },
    {
     "name": "stdout",
     "output_type": "stream",
     "text": [
      "\n"
     ]
    },
    {
     "data": {
      "text/html": [
       "\n",
       "    <div style=\"display: flex; flex-flow: row wrap; text-align: center;\">\n",
       "    \n",
       "            <figure style=\"margin: 5px !important;\">\n",
       "              <img src=\"https://www.ncbi.nlm.nih.gov/pmc/articles/PMC7642974/bin/fphys-11-01022-g001.jpg\" style=\"height: 100px\">\n",
       "            </figure>\n",
       "        \n",
       "    </div>\n"
      ],
      "text/plain": [
       "<IPython.core.display.HTML object>"
      ]
     },
     "metadata": {},
     "output_type": "display_data"
    },
    {
     "name": "stdout",
     "output_type": "stream",
     "text": [
      "\n"
     ]
    },
    {
     "data": {
      "text/html": [
       "\n",
       "<div style=\"border: 1px solid slategray; padding: 6px;\">\n",
       "  <span style=\"font-weight: bold;\">cumulative score: 0.67</span>\n",
       "  2-Methoxy-N-(3-Methyl-2-Oxo-1,2,3,4-Tetrahydroquinazolin-6-Yl)benzenesulfonamide, RHOBTB2, CUL3\n",
       "  <span style=\"font-size: x-small;\">(MESH:C577942, NCBIGene:23221, NCBIGene:8452)</span><br>\n",
       "</div>\n"
      ],
      "text/plain": [
       "<IPython.core.display.HTML object>"
      ]
     },
     "metadata": {},
     "output_type": "display_data"
    },
    {
     "data": {
      "text/html": [
       "\n",
       "<div style=\"font-size: x-small;\">\n",
       "\n",
       "<span style=\"border: 1px orange solid; padding: 1px; border-radius: 4px;\">RHOBTB2</span>\n",
       " - genetically_interacts_with - \n",
       "<span style=\"border: 1px orange solid; padding: 1px; border-radius: 4px;\">CUL3</span>\n",
       " - resistance_associated_with - 2-Methoxy-N-(3-Methyl-2-Oxo-1,2,3,4-Tetrahydroquinazolin-6-Yl)benzenesulfonamide<br>\n",
       "<span style=\"border: 1px orange solid; padding: 1px; border-radius: 4px;\">RHOBTB2</span>\n",
       " - genetically_interacts_with - \n",
       "<span style=\"border: 1px orange solid; padding: 1px; border-radius: 4px;\">CUL3</span>\n",
       " - sensitivity_associated_with - 2-Methoxy-N-(3-Methyl-2-Oxo-1,2,3,4-Tetrahydroquinazolin-6-Yl)benzenesulfonamide\n",
       "</div>\n"
      ],
      "text/plain": [
       "<IPython.core.display.HTML object>"
      ]
     },
     "metadata": {},
     "output_type": "display_data"
    },
    {
     "name": "stdout",
     "output_type": "stream",
     "text": [
      "\n"
     ]
    },
    {
     "data": {
      "text/html": [
       "\n",
       "    <div style=\"display: flex; flex-flow: row wrap; text-align: center;\">\n",
       "    \n",
       "            <figure style=\"margin: 5px !important;\">\n",
       "              <img src=\"https://www.ncbi.nlm.nih.gov/pmc/articles/PMC7642974/bin/fphys-11-01022-g001.jpg\" style=\"height: 100px\">\n",
       "            </figure>\n",
       "        \n",
       "    </div>\n"
      ],
      "text/plain": [
       "<IPython.core.display.HTML object>"
      ]
     },
     "metadata": {},
     "output_type": "display_data"
    },
    {
     "name": "stdout",
     "output_type": "stream",
     "text": [
      "\n"
     ]
    },
    {
     "data": {
      "text/html": [
       "\n",
       "<div style=\"border: 1px solid slategray; padding: 6px;\">\n",
       "  <span style=\"font-weight: bold;\">cumulative score: 0.67</span>\n",
       "  Navitoclax, RHOBTB2, CUL3\n",
       "  <span style=\"font-size: x-small;\">(MESH:C528561, NCBIGene:23221, NCBIGene:8452)</span><br>\n",
       "</div>\n"
      ],
      "text/plain": [
       "<IPython.core.display.HTML object>"
      ]
     },
     "metadata": {},
     "output_type": "display_data"
    },
    {
     "data": {
      "text/html": [
       "\n",
       "<div style=\"font-size: x-small;\">\n",
       "\n",
       "<span style=\"border: 1px orange solid; padding: 1px; border-radius: 4px;\">RHOBTB2</span>\n",
       " - genetically_interacts_with - \n",
       "<span style=\"border: 1px orange solid; padding: 1px; border-radius: 4px;\">CUL3</span>\n",
       " - sensitivity_associated_with - Navitoclax<br>\n",
       "<span style=\"border: 1px orange solid; padding: 1px; border-radius: 4px;\">RHOBTB2</span>\n",
       " - genetically_interacts_with - \n",
       "<span style=\"border: 1px orange solid; padding: 1px; border-radius: 4px;\">CUL3</span>\n",
       " - resistance_associated_with - Navitoclax\n",
       "</div>\n"
      ],
      "text/plain": [
       "<IPython.core.display.HTML object>"
      ]
     },
     "metadata": {},
     "output_type": "display_data"
    },
    {
     "name": "stdout",
     "output_type": "stream",
     "text": [
      "\n"
     ]
    },
    {
     "data": {
      "text/html": [
       "\n",
       "    <div style=\"display: flex; flex-flow: row wrap; text-align: center;\">\n",
       "    \n",
       "            <figure style=\"margin: 5px !important;\">\n",
       "              <img src=\"https://www.ncbi.nlm.nih.gov/pmc/articles/PMC7642974/bin/fphys-11-01022-g001.jpg\" style=\"height: 100px\">\n",
       "            </figure>\n",
       "        \n",
       "    </div>\n"
      ],
      "text/plain": [
       "<IPython.core.display.HTML object>"
      ]
     },
     "metadata": {},
     "output_type": "display_data"
    },
    {
     "name": "stdout",
     "output_type": "stream",
     "text": [
      "\n"
     ]
    },
    {
     "data": {
      "text/html": [
       "\n",
       "<div style=\"border: 1px solid slategray; padding: 6px;\">\n",
       "  <span style=\"font-weight: bold;\">cumulative score: 0.67</span>\n",
       "  8-(4-Dibenzothienyl)-2-(4-morpholinyl)-4H-1-benzopyran-4-one, RHOBTB2, CUL3\n",
       "  <span style=\"font-size: x-small;\">(MESH:C499693, NCBIGene:23221, NCBIGene:8452)</span><br>\n",
       "</div>\n"
      ],
      "text/plain": [
       "<IPython.core.display.HTML object>"
      ]
     },
     "metadata": {},
     "output_type": "display_data"
    },
    {
     "data": {
      "text/html": [
       "\n",
       "<div style=\"font-size: x-small;\">\n",
       "\n",
       "<span style=\"border: 1px orange solid; padding: 1px; border-radius: 4px;\">RHOBTB2</span>\n",
       " - genetically_interacts_with - \n",
       "<span style=\"border: 1px orange solid; padding: 1px; border-radius: 4px;\">CUL3</span>\n",
       " - sensitivity_associated_with - 8-(4-Dibenzothienyl)-2-(4-morpholinyl)-4H-1-benzopyran-4-one\n",
       "</div>\n"
      ],
      "text/plain": [
       "<IPython.core.display.HTML object>"
      ]
     },
     "metadata": {},
     "output_type": "display_data"
    },
    {
     "name": "stdout",
     "output_type": "stream",
     "text": [
      "\n"
     ]
    },
    {
     "data": {
      "text/html": [
       "\n",
       "    <div style=\"display: flex; flex-flow: row wrap; text-align: center;\">\n",
       "    \n",
       "            <figure style=\"margin: 5px !important;\">\n",
       "              <img src=\"https://www.ncbi.nlm.nih.gov/pmc/articles/PMC7642974/bin/fphys-11-01022-g001.jpg\" style=\"height: 100px\">\n",
       "            </figure>\n",
       "        \n",
       "    </div>\n"
      ],
      "text/plain": [
       "<IPython.core.display.HTML object>"
      ]
     },
     "metadata": {},
     "output_type": "display_data"
    },
    {
     "name": "stdout",
     "output_type": "stream",
     "text": [
      "\n",
      "...\n",
      "486 more TRAPI result curie combos\n"
     ]
    }
   ],
   "source": [
    "from IPython.display import Image\n",
    "from IPython.core.display import HTML \n",
    "\n",
    "\n",
    "limit = 5\n",
    "count = 0\n",
    "display_count_limit = 20\n",
    "\n",
    "for trapi_result_curie_combo,df1 in subset_df.groupby(\"trapi_result_curie_combo\", sort=False):\n",
    "    trapi_curie_names = []\n",
    "    for curie in df1[\"trapi_result_curie_combo\"].tolist()[0]:\n",
    "        name = curie_to_name[curie]\n",
    "        trapi_curie_names.append(name)\n",
    "\n",
    "    cumulative_trapi_result_curie_combo_figure_score = list(set(\n",
    "        df1[\"cumulative_trapi_result_curie_combo_figure_score\"]\n",
    "    ))[0]\n",
    "\n",
    "    display(HTML(data=f'''\n",
    "<div style=\"border: 1px solid slategray; padding: 6px;\">\n",
    "  <span style=\"font-weight: bold;\">cumulative score: {cumulative_trapi_result_curie_combo_figure_score:.2f}</span>\n",
    "  {\", \".join(trapi_curie_names)}\n",
    "  <span style=\"font-size: x-small;\">({\", \".join(trapi_result_curie_combo)})</span><br>\n",
    "</div>\n",
    "'''))\n",
    "\n",
    "    overlap_names = []\n",
    "    for curie in df1[\"overlap_curie_combo\"].tolist()[0]:\n",
    "        name = curie_to_name[curie]\n",
    "        overlap_names.append(name)\n",
    "\n",
    "    trapi_results_rows = []\n",
    "    for i,row in df1[trapi_result_columns].drop_duplicates().iterrows():\n",
    "        trapi_result_chunks = []\n",
    "        for trapi_result_column in trapi_result_columns:\n",
    "            row_value = row[trapi_result_column]\n",
    "            if row_value in overlap_names:\n",
    "                trapi_result_chunk = f'''\n",
    "<span style=\"border: 1px orange solid; padding: 1px; border-radius: 4px;\">{row_value}</span>\n",
    "'''\n",
    "            else:\n",
    "                trapi_result_chunk = f'{row_value}'\n",
    "            trapi_result_chunks.append(trapi_result_chunk)\n",
    "        trapi_results_rows.append(\n",
    "            f'{\" - \".join(trapi_result_chunks)}'\n",
    "        )\n",
    "    trapi_results_row_count = len(trapi_results_rows)\n",
    "    display(HTML(data=f'''\n",
    "<div style=\"font-size: x-small;\">\n",
    "{\"<br>\".join(trapi_results_rows[:display_count_limit])}\n",
    "</div>\n",
    "'''))\n",
    "    if trapi_results_row_count > display_count_limit:\n",
    "        print(f\"...\")\n",
    "        print(\"\")\n",
    "        print(f\"plus {trapi_results_row_count - display_count_limit} more\")\n",
    "    print(\"\")\n",
    "\n",
    "    figures = []\n",
    "    row_height='100px'\n",
    "    for figure_id,df0 in df1.groupby(\"figure_id\"):\n",
    "        [pmc,filename] = figure_id.split(\"__\")\n",
    "        figure_url = f\"https://www.ncbi.nlm.nih.gov/pmc/articles/{pmc}/bin/{filename}\"\n",
    "        figure_title = list(set(df0[\"figure_title\"]))[0]\n",
    "\n",
    "        score = list(set(df0[\"score\"]))[0]\n",
    "\n",
    "        figures.append(f'''\n",
    "            <figure style=\"margin: 5px !important;\">\n",
    "              <img src=\"{figure_url}\" style=\"height: {row_height}\">\n",
    "            </figure>\n",
    "        ''')\n",
    "    figure_count = len(figures)\n",
    "    display(HTML(data=f'''\n",
    "    <div style=\"display: flex; flex-flow: row wrap; text-align: center;\">\n",
    "    {''.join(figures[:display_count_limit])}\n",
    "    </div>\n",
    "'''))\n",
    "\n",
    "    if figure_count > display_count_limit:\n",
    "        print(f\"...\")\n",
    "        print(\"\")\n",
    "        print(f\"plus {figure_count - display_count_limit} more\")\n",
    "\n",
    "\n",
    "    print(\"\")\n",
    "    count += 1\n",
    "    if count >= limit:\n",
    "        print(\"...\")\n",
    "        print(f'{len(set(subset_df[\"trapi_result_curie_combo\"])) - limit} more TRAPI result curie combos')\n",
    "        break"
   ]
  },
  {
   "cell_type": "markdown",
   "metadata": {},
   "source": [
    "#### By figure"
   ]
  },
  {
   "cell_type": "code",
   "execution_count": 38,
   "metadata": {
    "tags": []
   },
   "outputs": [
    {
     "data": {
      "text/html": [
       "\n",
       "<div style=\"border: 1px solid slategray; padding: 6px;\">\n",
       "  Action and classification of E3 ubiquitin ligases causing neurological diseases in human<br>\n",
       "  <span style=\"font-size: x-small;\">PMC7642974__fphys-11-01022-g001.jpg</span>\n",
       "</div>\n"
      ],
      "text/plain": [
       "<IPython.core.display.HTML object>"
      ]
     },
     "metadata": {},
     "output_type": "display_data"
    },
    {
     "data": {
      "text/html": [
       "<img src=\"https://www.ncbi.nlm.nih.gov/pmc/articles/PMC7642974/bin/fphys-11-01022-g001.jpg\" width=\"600\"/>"
      ],
      "text/plain": [
       "<IPython.core.display.Image object>"
      ]
     },
     "metadata": {},
     "output_type": "display_data"
    },
    {
     "data": {
      "text/html": [
       "\n",
       "<div style=\"font-size: x-small;\">\n",
       "\n",
       "<span style=\"border: 1px orange solid; padding: 1px; border-radius: 4px;\">RHOBTB2</span>\n",
       " - genetically_interacts_with - \n",
       "<span style=\"border: 1px orange solid; padding: 1px; border-radius: 4px;\">CUL3</span>\n",
       " - entity_negatively_regulates_entity - Cysteine\n",
       "</div>\n",
       "<br>\n",
       "<div style=\"font-size: x-small;\">\n",
       "\n",
       "<span style=\"border: 1px orange solid; padding: 1px; border-radius: 4px;\">RHOBTB2</span>\n",
       " - genetically_interacts_with - \n",
       "<span style=\"border: 1px orange solid; padding: 1px; border-radius: 4px;\">CUL3</span>\n",
       " - molecularly_interacts_with - Docosahexaenoic acid<br>\n",
       "<span style=\"border: 1px orange solid; padding: 1px; border-radius: 4px;\">RHOBTB2</span>\n",
       " - genetically_interacts_with - \n",
       "<span style=\"border: 1px orange solid; padding: 1px; border-radius: 4px;\">CUL3</span>\n",
       " - decreases_molecular_interaction - Docosahexaenoic acid\n",
       "</div>\n",
       "<br>\n",
       "<div style=\"font-size: x-small;\">\n",
       "\n",
       "<span style=\"border: 1px orange solid; padding: 1px; border-radius: 4px;\">RHOBTB2</span>\n",
       " - genetically_interacts_with - \n",
       "<span style=\"border: 1px orange solid; padding: 1px; border-radius: 4px;\">CUL3</span>\n",
       " - resistance_associated_with - 2-Methoxy-N-(3-Methyl-2-Oxo-1,2,3,4-Tetrahydroquinazolin-6-Yl)benzenesulfonamide<br>\n",
       "<span style=\"border: 1px orange solid; padding: 1px; border-radius: 4px;\">RHOBTB2</span>\n",
       " - genetically_interacts_with - \n",
       "<span style=\"border: 1px orange solid; padding: 1px; border-radius: 4px;\">CUL3</span>\n",
       " - sensitivity_associated_with - 2-Methoxy-N-(3-Methyl-2-Oxo-1,2,3,4-Tetrahydroquinazolin-6-Yl)benzenesulfonamide\n",
       "</div>\n",
       "<br>\n",
       "<div style=\"font-size: x-small;\">\n",
       "\n",
       "<span style=\"border: 1px orange solid; padding: 1px; border-radius: 4px;\">RHOBTB2</span>\n",
       " - genetically_interacts_with - \n",
       "<span style=\"border: 1px orange solid; padding: 1px; border-radius: 4px;\">CUL3</span>\n",
       " - sensitivity_associated_with - Navitoclax<br>\n",
       "<span style=\"border: 1px orange solid; padding: 1px; border-radius: 4px;\">RHOBTB2</span>\n",
       " - genetically_interacts_with - \n",
       "<span style=\"border: 1px orange solid; padding: 1px; border-radius: 4px;\">CUL3</span>\n",
       " - resistance_associated_with - Navitoclax\n",
       "</div>\n",
       "<br>\n",
       "<div style=\"font-size: x-small;\">\n",
       "\n",
       "<span style=\"border: 1px orange solid; padding: 1px; border-radius: 4px;\">RHOBTB2</span>\n",
       " - genetically_interacts_with - \n",
       "<span style=\"border: 1px orange solid; padding: 1px; border-radius: 4px;\">CUL3</span>\n",
       " - sensitivity_associated_with - 8-(4-Dibenzothienyl)-2-(4-morpholinyl)-4H-1-benzopyran-4-one\n",
       "</div>\n",
       "<br>\n",
       "<div style=\"font-size: x-small;\">\n",
       "\n",
       "<span style=\"border: 1px orange solid; padding: 1px; border-radius: 4px;\">RHOBTB2</span>\n",
       " - genetically_interacts_with - \n",
       "<span style=\"border: 1px orange solid; padding: 1px; border-radius: 4px;\">CUL3</span>\n",
       " - resistance_associated_with - 2-(2-Chloro-4-iodophenylamino)-N-(cyclopropylmethoxy)-3,4-difluorobenzamide\n",
       "</div>\n",
       "<br>\n",
       "<div style=\"font-size: x-small;\">\n",
       "\n",
       "<span style=\"border: 1px orange solid; padding: 1px; border-radius: 4px;\">RHOBTB2</span>\n",
       " - genetically_interacts_with - \n",
       "<span style=\"border: 1px orange solid; padding: 1px; border-radius: 4px;\">CUL3</span>\n",
       " - sensitivity_associated_with - 2-{[2-Ethoxy-4-(4-hydroxypiperidin-1-yl)phenyl]amino}-5,11-dimethyl-5,11-dihydro-6H-pyrimido[4,5-b][1,4]benzodiazepin-6-one\n",
       "</div>\n",
       "<br>\n",
       "<div style=\"font-size: x-small;\">\n",
       "\n",
       "<span style=\"border: 1px orange solid; padding: 1px; border-radius: 4px;\">RHOBTB2</span>\n",
       " - genetically_interacts_with - \n",
       "<span style=\"border: 1px orange solid; padding: 1px; border-radius: 4px;\">CUL3</span>\n",
       " - entity_positively_regulates_entity - L-Name<br>\n",
       "<span style=\"border: 1px orange solid; padding: 1px; border-radius: 4px;\">RHOBTB2</span>\n",
       " - genetically_interacts_with - \n",
       "<span style=\"border: 1px orange solid; padding: 1px; border-radius: 4px;\">CUL3</span>\n",
       " - entity_negatively_regulates_entity - L-Name\n",
       "</div>\n",
       "<br>\n",
       "<div style=\"font-size: x-small;\">\n",
       "\n",
       "<span style=\"border: 1px orange solid; padding: 1px; border-radius: 4px;\">RHOBTB2</span>\n",
       " - genetically_interacts_with - \n",
       "<span style=\"border: 1px orange solid; padding: 1px; border-radius: 4px;\">CUL3</span>\n",
       " - interacts_with - Electrolytes\n",
       "</div>\n",
       "<br>\n",
       "<div style=\"font-size: x-small;\">\n",
       "\n",
       "<span style=\"border: 1px orange solid; padding: 1px; border-radius: 4px;\">RHOBTB2</span>\n",
       " - genetically_interacts_with - \n",
       "<span style=\"border: 1px orange solid; padding: 1px; border-radius: 4px;\">CUL3</span>\n",
       " - sensitivity_associated_with - Bosutinib\n",
       "</div>\n"
      ],
      "text/plain": [
       "<IPython.core.display.HTML object>"
      ]
     },
     "metadata": {},
     "output_type": "display_data"
    },
    {
     "name": "stdout",
     "output_type": "stream",
     "text": [
      "...\n",
      "\n",
      "plus 155 more\n",
      "\n"
     ]
    },
    {
     "data": {
      "text/html": [
       "\n",
       "<div style=\"border: 1px solid slategray; padding: 6px;\">\n",
       "  Major RAS family numbers<br>\n",
       "  <span style=\"font-size: x-small;\">PMC6089851__gr1.jpg</span>\n",
       "</div>\n"
      ],
      "text/plain": [
       "<IPython.core.display.HTML object>"
      ]
     },
     "metadata": {},
     "output_type": "display_data"
    },
    {
     "data": {
      "text/html": [
       "<img src=\"https://www.ncbi.nlm.nih.gov/pmc/articles/PMC6089851/bin/gr1.jpg\" width=\"600\"/>"
      ],
      "text/plain": [
       "<IPython.core.display.Image object>"
      ]
     },
     "metadata": {},
     "output_type": "display_data"
    },
    {
     "data": {
      "text/html": [
       "\n",
       "<div style=\"font-size: x-small;\">\n",
       "\n",
       "<span style=\"border: 1px orange solid; padding: 1px; border-radius: 4px;\">RHOBTB2</span>\n",
       " - entity_negatively_regulates_entity - \n",
       "<span style=\"border: 1px orange solid; padding: 1px; border-radius: 4px;\">RHOB</span>\n",
       " - resistance_associated_with - Navitoclax<br>\n",
       "<span style=\"border: 1px orange solid; padding: 1px; border-radius: 4px;\">RHOBTB2</span>\n",
       " - entity_negatively_regulates_entity - \n",
       "<span style=\"border: 1px orange solid; padding: 1px; border-radius: 4px;\">RHOB</span>\n",
       " - sensitivity_associated_with - Navitoclax\n",
       "</div>\n",
       "<br>\n",
       "<div style=\"font-size: x-small;\">\n",
       "\n",
       "<span style=\"border: 1px orange solid; padding: 1px; border-radius: 4px;\">RHOBTB2</span>\n",
       " - entity_negatively_regulates_entity - \n",
       "<span style=\"border: 1px orange solid; padding: 1px; border-radius: 4px;\">RHOB</span>\n",
       " - entity_negatively_regulates_entity - Cisplatin<br>\n",
       "<span style=\"border: 1px orange solid; padding: 1px; border-radius: 4px;\">RHOBTB2</span>\n",
       " - entity_negatively_regulates_entity - \n",
       "<span style=\"border: 1px orange solid; padding: 1px; border-radius: 4px;\">RHOB</span>\n",
       " - entity_positively_regulates_entity - Cisplatin<br>\n",
       "<span style=\"border: 1px orange solid; padding: 1px; border-radius: 4px;\">RHOBTB2</span>\n",
       " - entity_negatively_regulates_entity - \n",
       "<span style=\"border: 1px orange solid; padding: 1px; border-radius: 4px;\">RHOB</span>\n",
       " - resistance_associated_with - Cisplatin<br>\n",
       "<span style=\"border: 1px orange solid; padding: 1px; border-radius: 4px;\">RHOBTB2</span>\n",
       " - entity_negatively_regulates_entity - \n",
       "<span style=\"border: 1px orange solid; padding: 1px; border-radius: 4px;\">RHOB</span>\n",
       " - interacts_with - Cisplatin<br>\n",
       "<span style=\"border: 1px orange solid; padding: 1px; border-radius: 4px;\">RHOBTB2</span>\n",
       " - entity_negatively_regulates_entity - \n",
       "<span style=\"border: 1px orange solid; padding: 1px; border-radius: 4px;\">RHOB</span>\n",
       " - sensitivity_associated_with - Cisplatin\n",
       "</div>\n",
       "<br>\n",
       "<div style=\"font-size: x-small;\">\n",
       "\n",
       "<span style=\"border: 1px orange solid; padding: 1px; border-radius: 4px;\">RHOBTB2</span>\n",
       " - entity_negatively_regulates_entity - \n",
       "<span style=\"border: 1px orange solid; padding: 1px; border-radius: 4px;\">RHOB</span>\n",
       " - coexists_with - 1-(2,4-Dichlorobenzyl)-1H-indazole-3-carbohydrazide\n",
       "</div>\n",
       "<br>\n",
       "<div style=\"font-size: x-small;\">\n",
       "\n",
       "<span style=\"border: 1px orange solid; padding: 1px; border-radius: 4px;\">RHOBTB2</span>\n",
       " - genetically_interacts_with - \n",
       "<span style=\"border: 1px orange solid; padding: 1px; border-radius: 4px;\">RHOBTB3</span>\n",
       " - resistance_associated_with - Seliciclib<br>\n",
       "<span style=\"border: 1px orange solid; padding: 1px; border-radius: 4px;\">RHOBTB2</span>\n",
       " - genetically_interacts_with - \n",
       "<span style=\"border: 1px orange solid; padding: 1px; border-radius: 4px;\">RHOBTB3</span>\n",
       " - sensitivity_associated_with - Seliciclib\n",
       "</div>\n",
       "<br>\n",
       "<div style=\"font-size: x-small;\">\n",
       "\n",
       "<span style=\"border: 1px orange solid; padding: 1px; border-radius: 4px;\">RHOBTB2</span>\n",
       " - genetically_interacts_with - \n",
       "<span style=\"border: 1px orange solid; padding: 1px; border-radius: 4px;\">RHOBTB3</span>\n",
       " - resistance_associated_with - Palbociclib\n",
       "</div>\n",
       "<br>\n",
       "<div style=\"font-size: x-small;\">\n",
       "\n",
       "<span style=\"border: 1px orange solid; padding: 1px; border-radius: 4px;\">RHOBTB2</span>\n",
       " - entity_negatively_regulates_entity - \n",
       "<span style=\"border: 1px orange solid; padding: 1px; border-radius: 4px;\">RHOB</span>\n",
       " - sensitivity_associated_with - Ponatinib<br>\n",
       "<span style=\"border: 1px orange solid; padding: 1px; border-radius: 4px;\">RHOBTB2</span>\n",
       " - entity_negatively_regulates_entity - \n",
       "<span style=\"border: 1px orange solid; padding: 1px; border-radius: 4px;\">RHOB</span>\n",
       " - resistance_associated_with - Ponatinib\n",
       "</div>\n",
       "<br>\n",
       "<div style=\"font-size: x-small;\">\n",
       "\n",
       "<span style=\"border: 1px orange solid; padding: 1px; border-radius: 4px;\">RHOBTB2</span>\n",
       " - entity_negatively_regulates_entity - \n",
       "<span style=\"border: 1px orange solid; padding: 1px; border-radius: 4px;\">RHOB</span>\n",
       " - resistance_associated_with - Nutlin-3A<br>\n",
       "<span style=\"border: 1px orange solid; padding: 1px; border-radius: 4px;\">RHOBTB2</span>\n",
       " - entity_negatively_regulates_entity - \n",
       "<span style=\"border: 1px orange solid; padding: 1px; border-radius: 4px;\">RHOB</span>\n",
       " - sensitivity_associated_with - Nutlin-3A\n",
       "</div>\n",
       "<br>\n",
       "<div style=\"font-size: x-small;\">\n",
       "\n",
       "<span style=\"border: 1px orange solid; padding: 1px; border-radius: 4px;\">RHOBTB2</span>\n",
       " - entity_negatively_regulates_entity - \n",
       "<span style=\"border: 1px orange solid; padding: 1px; border-radius: 4px;\">RHOB</span>\n",
       " - entity_negatively_regulates_entity - MicroRNAs\n",
       "</div>\n",
       "<br>\n",
       "<div style=\"font-size: x-small;\">\n",
       "\n",
       "<span style=\"border: 1px orange solid; padding: 1px; border-radius: 4px;\">RHOBTB2</span>\n",
       " - genetically_interacts_with - \n",
       "<span style=\"border: 1px orange solid; padding: 1px; border-radius: 4px;\">RHOBTB3</span>\n",
       " - sensitivity_associated_with - Dimethyloxalylglycine\n",
       "</div>\n",
       "<br>\n",
       "<div style=\"font-size: x-small;\">\n",
       "\n",
       "<span style=\"border: 1px orange solid; padding: 1px; border-radius: 4px;\">RHOBTB2</span>\n",
       " - entity_negatively_regulates_entity - \n",
       "<span style=\"border: 1px orange solid; padding: 1px; border-radius: 4px;\">RHOB</span>\n",
       " - sensitivity_associated_with - Bicalutamide<br>\n",
       "<span style=\"border: 1px orange solid; padding: 1px; border-radius: 4px;\">RHOBTB2</span>\n",
       " - entity_negatively_regulates_entity - \n",
       "<span style=\"border: 1px orange solid; padding: 1px; border-radius: 4px;\">RHOB</span>\n",
       " - resistance_associated_with - Bicalutamide\n",
       "</div>\n"
      ],
      "text/plain": [
       "<IPython.core.display.HTML object>"
      ]
     },
     "metadata": {},
     "output_type": "display_data"
    },
    {
     "name": "stdout",
     "output_type": "stream",
     "text": [
      "...\n",
      "\n",
      "plus 316 more\n",
      "\n"
     ]
    }
   ],
   "source": [
    "from IPython.display import Image\n",
    "from IPython.core.display import HTML \n",
    "\n",
    "\n",
    "limit = 3\n",
    "count = 0\n",
    "display_count_limit = 10\n",
    "\n",
    "for figure_id,df0 in subset_df.groupby(\"figure_id\", sort=False):\n",
    "    [pmc,filename] = figure_id.split(\"__\")\n",
    "    figure_url = f\"https://www.ncbi.nlm.nih.gov/pmc/articles/{pmc}/bin/{filename}\"\n",
    "    figure_title = list(set(df0[\"figure_title\"]))[0]\n",
    "\n",
    "    display(HTML(data=f'''\n",
    "<div style=\"border: 1px solid slategray; padding: 6px;\">\n",
    "  {figure_title}<br>\n",
    "  <span style=\"font-size: x-small;\">{figure_id}</span>\n",
    "</div>\n",
    "'''))\n",
    "    display(Image(url=figure_url, width=600))\n",
    "\n",
    "    trapi_results_row_sets = []\n",
    "    for trapi_result_curie_combo,df1 in df0[\n",
    "        trapi_result_columns + [\"trapi_result_curie_combo\", \"overlap_curie_combo\"]\n",
    "    ].drop_duplicates().groupby(\"trapi_result_curie_combo\", sort=False):\n",
    "        overlap_names = []\n",
    "        for curie in df1[\"overlap_curie_combo\"].tolist()[0]:\n",
    "            name = curie_to_name[curie]\n",
    "            overlap_names.append(name)\n",
    "\n",
    "        trapi_results_rows = []\n",
    "        for i,row in df1.iterrows():\n",
    "            trapi_result_chunks = []\n",
    "            for trapi_result_column in trapi_result_columns:\n",
    "                row_value = row[trapi_result_column]\n",
    "                if row_value in overlap_names:\n",
    "                    trapi_result_chunk = f'''\n",
    "<span style=\"border: 1px orange solid; padding: 1px; border-radius: 4px;\">{row_value}</span>\n",
    "'''\n",
    "                else:\n",
    "                    trapi_result_chunk = f'{row_value}'\n",
    "                trapi_result_chunks.append(trapi_result_chunk)\n",
    "            trapi_results_rows.append(\n",
    "                f'{\" - \".join(trapi_result_chunks)}'\n",
    "            )\n",
    "        trapi_results_row_sets.append(f'''\n",
    "<div style=\"font-size: x-small;\">\n",
    "{\"<br>\".join(trapi_results_rows)}\n",
    "</div>\n",
    "''')\n",
    "\n",
    "    trapi_results_row_set_count = len(trapi_results_row_sets)\n",
    "    display(HTML(data=\"<br>\".join(trapi_results_row_sets[:display_count_limit])))\n",
    "    if trapi_results_row_set_count > display_count_limit:\n",
    "        print(f\"...\")\n",
    "        print(\"\")\n",
    "        print(f\"plus {trapi_results_row_set_count - display_count_limit} more\")\n",
    "    print(\"\")\n",
    "\n",
    "    count += 1\n",
    "    if count >= limit:\n",
    "        print(\"...\")\n",
    "        print(f'{len(set(subset_df[\"figure_id\"])) - limit} more figures')\n",
    "        break"
   ]
  },
  {
   "cell_type": "markdown",
   "metadata": {},
   "source": [
    "### `n0` and `n2` pinned"
   ]
  },
  {
   "cell_type": "code",
   "execution_count": 39,
   "metadata": {},
   "outputs": [],
   "source": [
    "subset_df = results_with_figures_df[results_with_figures_df.apply(\n",
    "    lambda r: (\n",
    "        r.n0_unified_curie in set(r.overlap_curie_combo)\n",
    "    ) and (\n",
    "        r.n2_unified_curie in set(r.overlap_curie_combo)\n",
    "    ),\n",
    "    axis=1\n",
    ")].sort_values(\n",
    "    \"fishers_exact_p\"\n",
    ")"
   ]
  },
  {
   "cell_type": "markdown",
   "metadata": {},
   "source": [
    "#### By TRAPI result curie combo"
   ]
  },
  {
   "cell_type": "code",
   "execution_count": 40,
   "metadata": {
    "tags": []
   },
   "outputs": [
    {
     "data": {
      "text/html": [
       "\n",
       "<div style=\"border: 1px solid slategray; padding: 6px;\">\n",
       "  <span style=\"font-weight: bold;\">cumulative score: 82.00</span>\n",
       "  Adenosine monophosphate, RHOBTB2, STK11\n",
       "  <span style=\"font-size: x-small;\">(MESH:D000249, NCBIGene:23221, NCBIGene:6794)</span><br>\n",
       "</div>\n"
      ],
      "text/plain": [
       "<IPython.core.display.HTML object>"
      ]
     },
     "metadata": {},
     "output_type": "display_data"
    },
    {
     "data": {
      "text/html": [
       "\n",
       "<div style=\"font-size: x-small;\">\n",
       "\n",
       "<span style=\"border: 1px orange solid; padding: 1px; border-radius: 4px;\">RHOBTB2</span>\n",
       " - entity_negatively_regulates_entity - STK11 - entity_negatively_regulates_entity - \n",
       "<span style=\"border: 1px orange solid; padding: 1px; border-radius: 4px;\">Adenosine monophosphate</span>\n",
       "<br>\n",
       "<span style=\"border: 1px orange solid; padding: 1px; border-radius: 4px;\">RHOBTB2</span>\n",
       " - entity_negatively_regulates_entity - STK11 - correlated_with - \n",
       "<span style=\"border: 1px orange solid; padding: 1px; border-radius: 4px;\">Adenosine monophosphate</span>\n",
       "<br>\n",
       "<span style=\"border: 1px orange solid; padding: 1px; border-radius: 4px;\">RHOBTB2</span>\n",
       " - entity_negatively_regulates_entity - STK11 - entity_positively_regulates_entity - \n",
       "<span style=\"border: 1px orange solid; padding: 1px; border-radius: 4px;\">Adenosine monophosphate</span>\n",
       "\n",
       "</div>\n"
      ],
      "text/plain": [
       "<IPython.core.display.HTML object>"
      ]
     },
     "metadata": {},
     "output_type": "display_data"
    },
    {
     "name": "stdout",
     "output_type": "stream",
     "text": [
      "\n"
     ]
    },
    {
     "data": {
      "text/html": [
       "\n",
       "    <div style=\"display: flex; flex-flow: row wrap; text-align: center;\">\n",
       "    \n",
       "            <figure style=\"margin: 5px !important;\">\n",
       "              <img src=\"https://www.ncbi.nlm.nih.gov/pmc/articles/PMC7642974/bin/fphys-11-01022-g001.jpg\" style=\"height: 100px\">\n",
       "            </figure>\n",
       "        \n",
       "    </div>\n"
      ],
      "text/plain": [
       "<IPython.core.display.HTML object>"
      ]
     },
     "metadata": {},
     "output_type": "display_data"
    },
    {
     "name": "stdout",
     "output_type": "stream",
     "text": [
      "\n"
     ]
    },
    {
     "data": {
      "text/html": [
       "\n",
       "<div style=\"border: 1px solid slategray; padding: 6px;\">\n",
       "  <span style=\"font-weight: bold;\">cumulative score: 71.33</span>\n",
       "  Adenosine-5'-triphosphate, RHOBTB2, STK11\n",
       "  <span style=\"font-size: x-small;\">(MESH:D000255, NCBIGene:23221, NCBIGene:6794)</span><br>\n",
       "</div>\n"
      ],
      "text/plain": [
       "<IPython.core.display.HTML object>"
      ]
     },
     "metadata": {},
     "output_type": "display_data"
    },
    {
     "data": {
      "text/html": [
       "\n",
       "<div style=\"font-size: x-small;\">\n",
       "\n",
       "<span style=\"border: 1px orange solid; padding: 1px; border-radius: 4px;\">RHOBTB2</span>\n",
       " - entity_negatively_regulates_entity - STK11 - entity_negatively_regulates_entity - \n",
       "<span style=\"border: 1px orange solid; padding: 1px; border-radius: 4px;\">Adenosine-5'-triphosphate</span>\n",
       "<br>\n",
       "<span style=\"border: 1px orange solid; padding: 1px; border-radius: 4px;\">RHOBTB2</span>\n",
       " - entity_negatively_regulates_entity - STK11 - entity_positively_regulates_entity - \n",
       "<span style=\"border: 1px orange solid; padding: 1px; border-radius: 4px;\">Adenosine-5'-triphosphate</span>\n",
       "\n",
       "</div>\n"
      ],
      "text/plain": [
       "<IPython.core.display.HTML object>"
      ]
     },
     "metadata": {},
     "output_type": "display_data"
    },
    {
     "name": "stdout",
     "output_type": "stream",
     "text": [
      "\n"
     ]
    },
    {
     "data": {
      "text/html": [
       "\n",
       "    <div style=\"display: flex; flex-flow: row wrap; text-align: center;\">\n",
       "    \n",
       "            <figure style=\"margin: 5px !important;\">\n",
       "              <img src=\"https://www.ncbi.nlm.nih.gov/pmc/articles/PMC7642974/bin/fphys-11-01022-g001.jpg\" style=\"height: 100px\">\n",
       "            </figure>\n",
       "        \n",
       "    </div>\n"
      ],
      "text/plain": [
       "<IPython.core.display.HTML object>"
      ]
     },
     "metadata": {},
     "output_type": "display_data"
    },
    {
     "name": "stdout",
     "output_type": "stream",
     "text": [
      "\n"
     ]
    },
    {
     "data": {
      "text/html": [
       "\n",
       "<div style=\"border: 1px solid slategray; padding: 6px;\">\n",
       "  <span style=\"font-weight: bold;\">cumulative score: 15.33</span>\n",
       "  Adenosine monophosphate, RHOBTB2, CCND1\n",
       "  <span style=\"font-size: x-small;\">(MESH:D000249, NCBIGene:23221, NCBIGene:595)</span><br>\n",
       "</div>\n"
      ],
      "text/plain": [
       "<IPython.core.display.HTML object>"
      ]
     },
     "metadata": {},
     "output_type": "display_data"
    },
    {
     "data": {
      "text/html": [
       "\n",
       "<div style=\"font-size: x-small;\">\n",
       "\n",
       "<span style=\"border: 1px orange solid; padding: 1px; border-radius: 4px;\">RHOBTB2</span>\n",
       " - entity_negatively_regulates_entity - CCND1 - entity_negatively_regulates_entity - \n",
       "<span style=\"border: 1px orange solid; padding: 1px; border-radius: 4px;\">Adenosine monophosphate</span>\n",
       "\n",
       "</div>\n"
      ],
      "text/plain": [
       "<IPython.core.display.HTML object>"
      ]
     },
     "metadata": {},
     "output_type": "display_data"
    },
    {
     "name": "stdout",
     "output_type": "stream",
     "text": [
      "\n"
     ]
    },
    {
     "data": {
      "text/html": [
       "\n",
       "    <div style=\"display: flex; flex-flow: row wrap; text-align: center;\">\n",
       "    \n",
       "            <figure style=\"margin: 5px !important;\">\n",
       "              <img src=\"https://www.ncbi.nlm.nih.gov/pmc/articles/PMC7642974/bin/fphys-11-01022-g001.jpg\" style=\"height: 100px\">\n",
       "            </figure>\n",
       "        \n",
       "    </div>\n"
      ],
      "text/plain": [
       "<IPython.core.display.HTML object>"
      ]
     },
     "metadata": {},
     "output_type": "display_data"
    },
    {
     "name": "stdout",
     "output_type": "stream",
     "text": [
      "\n"
     ]
    },
    {
     "data": {
      "text/html": [
       "\n",
       "<div style=\"border: 1px solid slategray; padding: 6px;\">\n",
       "  <span style=\"font-weight: bold;\">cumulative score: 14.67</span>\n",
       "  Adenosine-5'-triphosphate, RHOBTB2, CCND1\n",
       "  <span style=\"font-size: x-small;\">(MESH:D000255, NCBIGene:23221, NCBIGene:595)</span><br>\n",
       "</div>\n"
      ],
      "text/plain": [
       "<IPython.core.display.HTML object>"
      ]
     },
     "metadata": {},
     "output_type": "display_data"
    },
    {
     "data": {
      "text/html": [
       "\n",
       "<div style=\"font-size: x-small;\">\n",
       "\n",
       "<span style=\"border: 1px orange solid; padding: 1px; border-radius: 4px;\">RHOBTB2</span>\n",
       " - entity_negatively_regulates_entity - CCND1 - entity_negatively_regulates_entity - \n",
       "<span style=\"border: 1px orange solid; padding: 1px; border-radius: 4px;\">Adenosine-5'-triphosphate</span>\n",
       "<br>\n",
       "<span style=\"border: 1px orange solid; padding: 1px; border-radius: 4px;\">RHOBTB2</span>\n",
       " - entity_negatively_regulates_entity - CCND1 - entity_positively_regulates_entity - \n",
       "<span style=\"border: 1px orange solid; padding: 1px; border-radius: 4px;\">Adenosine-5'-triphosphate</span>\n",
       "\n",
       "</div>\n"
      ],
      "text/plain": [
       "<IPython.core.display.HTML object>"
      ]
     },
     "metadata": {},
     "output_type": "display_data"
    },
    {
     "name": "stdout",
     "output_type": "stream",
     "text": [
      "\n"
     ]
    },
    {
     "data": {
      "text/html": [
       "\n",
       "    <div style=\"display: flex; flex-flow: row wrap; text-align: center;\">\n",
       "    \n",
       "            <figure style=\"margin: 5px !important;\">\n",
       "              <img src=\"https://www.ncbi.nlm.nih.gov/pmc/articles/PMC7642974/bin/fphys-11-01022-g001.jpg\" style=\"height: 100px\">\n",
       "            </figure>\n",
       "        \n",
       "    </div>\n"
      ],
      "text/plain": [
       "<IPython.core.display.HTML object>"
      ]
     },
     "metadata": {},
     "output_type": "display_data"
    },
    {
     "name": "stdout",
     "output_type": "stream",
     "text": [
      "\n"
     ]
    },
    {
     "data": {
      "text/html": [
       "\n",
       "<div style=\"border: 1px solid slategray; padding: 6px;\">\n",
       "  <span style=\"font-weight: bold;\">cumulative score: 8.00</span>\n",
       "  Adenosine-5'-triphosphate, RHOBTB2, CCND2\n",
       "  <span style=\"font-size: x-small;\">(MESH:D000255, NCBIGene:23221, NCBIGene:894)</span><br>\n",
       "</div>\n"
      ],
      "text/plain": [
       "<IPython.core.display.HTML object>"
      ]
     },
     "metadata": {},
     "output_type": "display_data"
    },
    {
     "data": {
      "text/html": [
       "\n",
       "<div style=\"font-size: x-small;\">\n",
       "\n",
       "<span style=\"border: 1px orange solid; padding: 1px; border-radius: 4px;\">RHOBTB2</span>\n",
       " - entity_negatively_regulates_entity - CCND2 - entity_positively_regulates_entity - \n",
       "<span style=\"border: 1px orange solid; padding: 1px; border-radius: 4px;\">Adenosine-5'-triphosphate</span>\n",
       "\n",
       "</div>\n"
      ],
      "text/plain": [
       "<IPython.core.display.HTML object>"
      ]
     },
     "metadata": {},
     "output_type": "display_data"
    },
    {
     "name": "stdout",
     "output_type": "stream",
     "text": [
      "\n"
     ]
    },
    {
     "data": {
      "text/html": [
       "\n",
       "    <div style=\"display: flex; flex-flow: row wrap; text-align: center;\">\n",
       "    \n",
       "            <figure style=\"margin: 5px !important;\">\n",
       "              <img src=\"https://www.ncbi.nlm.nih.gov/pmc/articles/PMC7642974/bin/fphys-11-01022-g001.jpg\" style=\"height: 100px\">\n",
       "            </figure>\n",
       "        \n",
       "    </div>\n"
      ],
      "text/plain": [
       "<IPython.core.display.HTML object>"
      ]
     },
     "metadata": {},
     "output_type": "display_data"
    },
    {
     "name": "stdout",
     "output_type": "stream",
     "text": [
      "\n",
      "...\n",
      "4 more TRAPI result curie combos\n"
     ]
    }
   ],
   "source": [
    "from IPython.display import Image\n",
    "from IPython.core.display import HTML \n",
    "\n",
    "\n",
    "limit = 5\n",
    "count = 0\n",
    "display_count_limit = 20\n",
    "\n",
    "for trapi_result_curie_combo,df1 in subset_df.groupby(\"trapi_result_curie_combo\", sort=False):\n",
    "    trapi_curie_names = []\n",
    "    for curie in df1[\"trapi_result_curie_combo\"].tolist()[0]:\n",
    "        name = curie_to_name[curie]\n",
    "        trapi_curie_names.append(name)\n",
    "\n",
    "    cumulative_trapi_result_curie_combo_figure_score = list(set(\n",
    "        df1[\"cumulative_trapi_result_curie_combo_figure_score\"]\n",
    "    ))[0]\n",
    "\n",
    "    display(HTML(data=f'''\n",
    "<div style=\"border: 1px solid slategray; padding: 6px;\">\n",
    "  <span style=\"font-weight: bold;\">cumulative score: {cumulative_trapi_result_curie_combo_figure_score:.2f}</span>\n",
    "  {\", \".join(trapi_curie_names)}\n",
    "  <span style=\"font-size: x-small;\">({\", \".join(trapi_result_curie_combo)})</span><br>\n",
    "</div>\n",
    "'''))\n",
    "\n",
    "    overlap_names = []\n",
    "    for curie in df1[\"overlap_curie_combo\"].tolist()[0]:\n",
    "        name = curie_to_name[curie]\n",
    "        overlap_names.append(name)\n",
    "\n",
    "    trapi_results_rows = []\n",
    "    for i,row in df1[trapi_result_columns].drop_duplicates().iterrows():\n",
    "        trapi_result_chunks = []\n",
    "        for trapi_result_column in trapi_result_columns:\n",
    "            row_value = row[trapi_result_column]\n",
    "            if row_value in overlap_names:\n",
    "                trapi_result_chunk = f'''\n",
    "<span style=\"border: 1px orange solid; padding: 1px; border-radius: 4px;\">{row_value}</span>\n",
    "'''\n",
    "            else:\n",
    "                trapi_result_chunk = f'{row_value}'\n",
    "            trapi_result_chunks.append(trapi_result_chunk)\n",
    "        trapi_results_rows.append(\n",
    "            f'{\" - \".join(trapi_result_chunks)}'\n",
    "        )\n",
    "    trapi_results_row_count = len(trapi_results_rows)\n",
    "    display(HTML(data=f'''\n",
    "<div style=\"font-size: x-small;\">\n",
    "{\"<br>\".join(trapi_results_rows[:display_count_limit])}\n",
    "</div>\n",
    "'''))\n",
    "    if trapi_results_row_count > display_count_limit:\n",
    "        print(f\"...\")\n",
    "        print(\"\")\n",
    "        print(f\"plus {trapi_results_row_count - display_count_limit} more\")\n",
    "    print(\"\")\n",
    "\n",
    "    figures = []\n",
    "    row_height='100px'\n",
    "    for figure_id,df0 in df1.groupby(\"figure_id\"):\n",
    "        [pmc,filename] = figure_id.split(\"__\")\n",
    "        figure_url = f\"https://www.ncbi.nlm.nih.gov/pmc/articles/{pmc}/bin/{filename}\"\n",
    "        figure_title = list(set(df0[\"figure_title\"]))[0]\n",
    "\n",
    "        score = list(set(df0[\"score\"]))[0]\n",
    "\n",
    "        figures.append(f'''\n",
    "            <figure style=\"margin: 5px !important;\">\n",
    "              <img src=\"{figure_url}\" style=\"height: {row_height}\">\n",
    "            </figure>\n",
    "        ''')\n",
    "    figure_count = len(figures)\n",
    "    display(HTML(data=f'''\n",
    "    <div style=\"display: flex; flex-flow: row wrap; text-align: center;\">\n",
    "    {''.join(figures[:display_count_limit])}\n",
    "    </div>\n",
    "'''))\n",
    "\n",
    "    if figure_count > display_count_limit:\n",
    "        print(f\"...\")\n",
    "        print(\"\")\n",
    "        print(f\"plus {figure_count - display_count_limit} more\")\n",
    "\n",
    "\n",
    "    print(\"\")\n",
    "    count += 1\n",
    "    if count >= limit:\n",
    "        print(\"...\")\n",
    "        print(f'{len(set(subset_df[\"trapi_result_curie_combo\"])) - limit} more TRAPI result curie combos')\n",
    "        break"
   ]
  },
  {
   "cell_type": "markdown",
   "metadata": {},
   "source": [
    "#### By figure"
   ]
  },
  {
   "cell_type": "code",
   "execution_count": 41,
   "metadata": {
    "tags": []
   },
   "outputs": [
    {
     "data": {
      "text/html": [
       "\n",
       "<div style=\"border: 1px solid slategray; padding: 6px;\">\n",
       "  Action and classification of E3 ubiquitin ligases causing neurological diseases in human<br>\n",
       "  <span style=\"font-size: x-small;\">PMC7642974__fphys-11-01022-g001.jpg</span>\n",
       "</div>\n"
      ],
      "text/plain": [
       "<IPython.core.display.HTML object>"
      ]
     },
     "metadata": {},
     "output_type": "display_data"
    },
    {
     "data": {
      "text/html": [
       "<img src=\"https://www.ncbi.nlm.nih.gov/pmc/articles/PMC7642974/bin/fphys-11-01022-g001.jpg\" width=\"600\"/>"
      ],
      "text/plain": [
       "<IPython.core.display.Image object>"
      ]
     },
     "metadata": {},
     "output_type": "display_data"
    },
    {
     "data": {
      "text/html": [
       "\n",
       "<div style=\"font-size: x-small;\">\n",
       "\n",
       "<span style=\"border: 1px orange solid; padding: 1px; border-radius: 4px;\">RHOBTB2</span>\n",
       " - entity_negatively_regulates_entity - STK11 - entity_negatively_regulates_entity - \n",
       "<span style=\"border: 1px orange solid; padding: 1px; border-radius: 4px;\">Adenosine monophosphate</span>\n",
       "<br>\n",
       "<span style=\"border: 1px orange solid; padding: 1px; border-radius: 4px;\">RHOBTB2</span>\n",
       " - entity_negatively_regulates_entity - STK11 - correlated_with - \n",
       "<span style=\"border: 1px orange solid; padding: 1px; border-radius: 4px;\">Adenosine monophosphate</span>\n",
       "<br>\n",
       "<span style=\"border: 1px orange solid; padding: 1px; border-radius: 4px;\">RHOBTB2</span>\n",
       " - entity_negatively_regulates_entity - STK11 - entity_positively_regulates_entity - \n",
       "<span style=\"border: 1px orange solid; padding: 1px; border-radius: 4px;\">Adenosine monophosphate</span>\n",
       "\n",
       "</div>\n",
       "<br>\n",
       "<div style=\"font-size: x-small;\">\n",
       "\n",
       "<span style=\"border: 1px orange solid; padding: 1px; border-radius: 4px;\">RHOBTB2</span>\n",
       " - entity_negatively_regulates_entity - STK11 - entity_negatively_regulates_entity - \n",
       "<span style=\"border: 1px orange solid; padding: 1px; border-radius: 4px;\">Adenosine-5'-triphosphate</span>\n",
       "<br>\n",
       "<span style=\"border: 1px orange solid; padding: 1px; border-radius: 4px;\">RHOBTB2</span>\n",
       " - entity_negatively_regulates_entity - STK11 - entity_positively_regulates_entity - \n",
       "<span style=\"border: 1px orange solid; padding: 1px; border-radius: 4px;\">Adenosine-5'-triphosphate</span>\n",
       "\n",
       "</div>\n",
       "<br>\n",
       "<div style=\"font-size: x-small;\">\n",
       "\n",
       "<span style=\"border: 1px orange solid; padding: 1px; border-radius: 4px;\">RHOBTB2</span>\n",
       " - entity_negatively_regulates_entity - CCND1 - entity_negatively_regulates_entity - \n",
       "<span style=\"border: 1px orange solid; padding: 1px; border-radius: 4px;\">Adenosine monophosphate</span>\n",
       "\n",
       "</div>\n",
       "<br>\n",
       "<div style=\"font-size: x-small;\">\n",
       "\n",
       "<span style=\"border: 1px orange solid; padding: 1px; border-radius: 4px;\">RHOBTB2</span>\n",
       " - entity_negatively_regulates_entity - CCND1 - entity_negatively_regulates_entity - \n",
       "<span style=\"border: 1px orange solid; padding: 1px; border-radius: 4px;\">Adenosine-5'-triphosphate</span>\n",
       "<br>\n",
       "<span style=\"border: 1px orange solid; padding: 1px; border-radius: 4px;\">RHOBTB2</span>\n",
       " - entity_negatively_regulates_entity - CCND1 - entity_positively_regulates_entity - \n",
       "<span style=\"border: 1px orange solid; padding: 1px; border-radius: 4px;\">Adenosine-5'-triphosphate</span>\n",
       "\n",
       "</div>\n",
       "<br>\n",
       "<div style=\"font-size: x-small;\">\n",
       "\n",
       "<span style=\"border: 1px orange solid; padding: 1px; border-radius: 4px;\">RHOBTB2</span>\n",
       " - entity_negatively_regulates_entity - CCND2 - entity_positively_regulates_entity - \n",
       "<span style=\"border: 1px orange solid; padding: 1px; border-radius: 4px;\">Adenosine-5'-triphosphate</span>\n",
       "\n",
       "</div>\n",
       "<br>\n",
       "<div style=\"font-size: x-small;\">\n",
       "\n",
       "<span style=\"border: 1px orange solid; padding: 1px; border-radius: 4px;\">RHOBTB2</span>\n",
       " - entity_negatively_regulates_entity - CCND3 - entity_negatively_regulates_entity - \n",
       "<span style=\"border: 1px orange solid; padding: 1px; border-radius: 4px;\">Adenosine monophosphate</span>\n",
       "\n",
       "</div>\n",
       "<br>\n",
       "<div style=\"font-size: x-small;\">\n",
       "\n",
       "<span style=\"border: 1px orange solid; padding: 1px; border-radius: 4px;\">RHOBTB2</span>\n",
       " - entity_negatively_regulates_entity - CCND3 - entity_positively_regulates_entity - \n",
       "<span style=\"border: 1px orange solid; padding: 1px; border-radius: 4px;\">Adenosine-5'-triphosphate</span>\n",
       "<br>\n",
       "<span style=\"border: 1px orange solid; padding: 1px; border-radius: 4px;\">RHOBTB2</span>\n",
       " - entity_negatively_regulates_entity - CCND3 - entity_negatively_regulates_entity - \n",
       "<span style=\"border: 1px orange solid; padding: 1px; border-radius: 4px;\">Adenosine-5'-triphosphate</span>\n",
       "\n",
       "</div>\n",
       "<br>\n",
       "<div style=\"font-size: x-small;\">\n",
       "\n",
       "<span style=\"border: 1px orange solid; padding: 1px; border-radius: 4px;\">RHOBTB2</span>\n",
       " - entity_negatively_regulates_entity - CCND2 - entity_negatively_regulates_entity - \n",
       "<span style=\"border: 1px orange solid; padding: 1px; border-radius: 4px;\">Adenosine monophosphate</span>\n",
       "\n",
       "</div>\n",
       "<br>\n",
       "<div style=\"font-size: x-small;\">\n",
       "\n",
       "<span style=\"border: 1px orange solid; padding: 1px; border-radius: 4px;\">RHOBTB2</span>\n",
       " - entity_negatively_regulates_entity - BRMS1 - entity_negatively_regulates_entity - \n",
       "<span style=\"border: 1px orange solid; padding: 1px; border-radius: 4px;\">Adenosine-5'-triphosphate</span>\n",
       "\n",
       "</div>\n"
      ],
      "text/plain": [
       "<IPython.core.display.HTML object>"
      ]
     },
     "metadata": {},
     "output_type": "display_data"
    },
    {
     "name": "stdout",
     "output_type": "stream",
     "text": [
      "\n"
     ]
    }
   ],
   "source": [
    "from IPython.display import Image\n",
    "from IPython.core.display import HTML \n",
    "\n",
    "\n",
    "limit = 3\n",
    "count = 0\n",
    "display_count_limit = 10\n",
    "\n",
    "for figure_id,df0 in subset_df.groupby(\"figure_id\", sort=False):\n",
    "    [pmc,filename] = figure_id.split(\"__\")\n",
    "    figure_url = f\"https://www.ncbi.nlm.nih.gov/pmc/articles/{pmc}/bin/{filename}\"\n",
    "    figure_title = list(set(df0[\"figure_title\"]))[0]\n",
    "\n",
    "    display(HTML(data=f'''\n",
    "<div style=\"border: 1px solid slategray; padding: 6px;\">\n",
    "  {figure_title}<br>\n",
    "  <span style=\"font-size: x-small;\">{figure_id}</span>\n",
    "</div>\n",
    "'''))\n",
    "    display(Image(url=figure_url, width=600))\n",
    "\n",
    "    trapi_results_row_sets = []\n",
    "    for trapi_result_curie_combo,df1 in df0[\n",
    "        trapi_result_columns + [\"trapi_result_curie_combo\", \"overlap_curie_combo\"]\n",
    "    ].drop_duplicates().groupby(\"trapi_result_curie_combo\", sort=False):\n",
    "        overlap_names = []\n",
    "        for curie in df1[\"overlap_curie_combo\"].tolist()[0]:\n",
    "            name = curie_to_name[curie]\n",
    "            overlap_names.append(name)\n",
    "\n",
    "        trapi_results_rows = []\n",
    "        for i,row in df1.iterrows():\n",
    "            trapi_result_chunks = []\n",
    "            for trapi_result_column in trapi_result_columns:\n",
    "                row_value = row[trapi_result_column]\n",
    "                if row_value in overlap_names:\n",
    "                    trapi_result_chunk = f'''\n",
    "<span style=\"border: 1px orange solid; padding: 1px; border-radius: 4px;\">{row_value}</span>\n",
    "'''\n",
    "                else:\n",
    "                    trapi_result_chunk = f'{row_value}'\n",
    "                trapi_result_chunks.append(trapi_result_chunk)\n",
    "            trapi_results_rows.append(\n",
    "                f'{\" - \".join(trapi_result_chunks)}'\n",
    "            )\n",
    "        trapi_results_row_sets.append(f'''\n",
    "<div style=\"font-size: x-small;\">\n",
    "{\"<br>\".join(trapi_results_rows)}\n",
    "</div>\n",
    "''')\n",
    "\n",
    "    trapi_results_row_set_count = len(trapi_results_row_sets)\n",
    "    display(HTML(data=\"<br>\".join(trapi_results_row_sets[:display_count_limit])))\n",
    "    if trapi_results_row_set_count > display_count_limit:\n",
    "        print(f\"...\")\n",
    "        print(\"\")\n",
    "        print(f\"plus {trapi_results_row_set_count - display_count_limit} more\")\n",
    "    print(\"\")\n",
    "\n",
    "    count += 1\n",
    "    if count >= limit:\n",
    "        print(\"...\")\n",
    "        print(f'{len(set(results_with_figures_df[\"figure_id\"])) - limit} more figures')\n",
    "        break"
   ]
  },
  {
   "cell_type": "code",
   "execution_count": null,
   "metadata": {},
   "outputs": [],
   "source": []
  },
  {
   "cell_type": "markdown",
   "metadata": {},
   "source": [
    "## Next Steps\n",
    "\n",
    "- How should we handle co-occurrence for genes vs. chemicals vs. diseases? We have many more genes than chemicals, and the number of diseases is rather small."
   ]
  },
  {
   "cell_type": "code",
   "execution_count": null,
   "metadata": {
    "id": "eBphe1RvE1He"
   },
   "outputs": [],
   "source": []
  },
  {
   "cell_type": "code",
   "execution_count": null,
   "metadata": {
    "id": "2O1Ocl1QE1Ji"
   },
   "outputs": [],
   "source": []
  },
  {
   "cell_type": "code",
   "execution_count": null,
   "metadata": {
    "id": "XaQvH-tQ1Zt0"
   },
   "outputs": [],
   "source": []
  }
 ],
 "metadata": {
  "colab": {
   "collapsed_sections": [],
   "name": "bte_clustering.ipynb",
   "provenance": []
  },
  "kernelspec": {
   "display_name": "Python 3 (ipykernel)",
   "language": "python",
   "name": "python3"
  },
  "language_info": {
   "codemirror_mode": {
    "name": "ipython",
    "version": 3
   },
   "file_extension": ".py",
   "mimetype": "text/x-python",
   "name": "python",
   "nbconvert_exporter": "python",
   "pygments_lexer": "ipython3",
   "version": "3.10.4"
  }
 },
 "nbformat": 4,
 "nbformat_minor": 4
}
