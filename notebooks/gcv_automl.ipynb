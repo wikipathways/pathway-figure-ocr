{
 "cells": [
  {
   "cell_type": "markdown",
   "metadata": {
    "tags": []
   },
   "source": [
    "# GC AutoML\n",
    "\n",
    "Send images to Google Cloud AutoML to label as pathway or non.\n",
    "\n",
    "[My Cloud Vision AutoML Models Dashboard](https://console.cloud.google.com/vision/models?project=api-project-453052878726&supportedpurview=project)"
   ]
  },
  {
   "cell_type": "markdown",
   "metadata": {},
   "source": [
    "Documentation for:\n",
    "* [AutoML Vision](https://cloud.google.com/vision/automl/docs) (top level)\n",
    "* [Client Libraries](https://cloud.google.com/vision/automl/docs/client-libraries)\n",
    "* [Python Client Library](https://googleapis.dev/python/automl/latest/index.html)\n",
    "* [quickstart](https://cloud.google.com/vision/automl/docs/quickstart)\n",
    "* [Code Samples](https://cloud.google.com/vision/automl/docs/samples)\n"
   ]
  },
  {
   "cell_type": "code",
   "execution_count": 5,
   "metadata": {},
   "outputs": [],
   "source": [
    "import json\n",
    "import os\n",
    "import sys\n",
    "from pathlib import Path\n",
    "\n",
    "import magic\n",
    "from google.cloud import automl\n",
    "from google.protobuf.json_format import MessageToDict"
   ]
  },
  {
   "cell_type": "code",
   "execution_count": 6,
   "metadata": {},
   "outputs": [],
   "source": [
    "google_application_credentials_path = Path(\n",
    "    Path.home(),\n",
    "    \".credentials/api-project-453052878726-f42cadc718aa.json\",\n",
    ")\n",
    "\n",
    "os.environ[\"GOOGLE_APPLICATION_CREDENTIALS\"] = str(\n",
    "    google_application_credentials_path\n",
    ")"
   ]
  },
  {
   "cell_type": "code",
   "execution_count": 7,
   "metadata": {},
   "outputs": [],
   "source": [
    "project_id = \"api-project-453052878726\"\n",
    "\n",
    "# the model named pfocr_20191102_single_po_10k\n",
    "model_id = \"ICN8336211288774410240\"\n",
    "\n",
    "prediction_client = automl.PredictionServiceClient()\n",
    "\n",
    "# Get the full path of the model.\n",
    "model_full_id = automl.AutoMlClient.model_path(\n",
    "    project_id, \"us-central1\", model_id\n",
    ")"
   ]
  },
  {
   "cell_type": "markdown",
   "metadata": {},
   "source": [
    "Deploy the model here:\n",
    "https://console.cloud.google.com/vision/models?project=api-project-453052878726&supportedpurview=project\n",
    " \n",
    "(When you're done using it, remember to remove the model deployment.)"
   ]
  },
  {
   "cell_type": "markdown",
   "metadata": {},
   "source": [
    "## Label All"
   ]
  },
  {
   "cell_type": "code",
   "execution_count": 12,
   "metadata": {},
   "outputs": [
    {
     "name": "stdout",
     "output_type": "stream",
     "text": [
      "total_figure_path_count: 124447\n",
      "failed for ../data/images/20210513/PMC7404177__ijms-21-05147-g002.jpg\n",
      "<p>Error: <class 'google.api_core.exceptions.InvalidArgument'></p>\n",
      "failed for ../data/images/20210513/PMC8009799__467_2020_4588_Fig2_HTML.jpg\n",
      "<p>Error: <class 'google.api_core.exceptions.InvalidArgument'></p>\n",
      "failed for ../data/images/20210513/PMC7753985__JCMM-24-13949-g002.jpg\n",
      "<p>Error: <class 'google.api_core.exceptions.InvalidArgument'></p>\n",
      "failed for ../data/images/20210513/PMC7273476__BMRI2020-7532306.005.jpg\n",
      "<p>Error: <class 'google.api_core.exceptions.InvalidArgument'></p>\n",
      "failed for ../data/images/20210513/PMC6435557__bsr-38-bsr20180598-g5.jpg\n",
      "<p>Error: <class 'google.api_core.exceptions.InvalidArgument'></p>\n",
      "failed for ../data/images/20210513/PMC7932688__elife-65552-fig1.jpg\n",
      "<p>Error: <class 'google.api_core.exceptions.InvalidArgument'></p>\n",
      "Figures classified in last run: 0\n"
     ]
    }
   ],
   "source": [
    "target_date = \"20210513\"\n",
    "images_dir = Path(f\"../data/images/{target_date}\")\n",
    "\n",
    "forward_classified_images_count_path = Path(\n",
    "    f\"../data/images/{target_date}/forward_classified_images_count.log\"\n",
    ")\n",
    "\n",
    "figure_paths = list()\n",
    "for ext in (\"*.jpg\", \"*.jpeg\", \"*.png\"):\n",
    "    for f in images_dir.rglob(ext):\n",
    "        figure_paths.append(f)\n",
    "total_figure_path_count = len(figure_paths)\n",
    "print(f\"total_figure_path_count: {total_figure_path_count}\")\n",
    "\n",
    "i = 0\n",
    "invalid_count = 0\n",
    "for figure_path in figure_paths:\n",
    "    automl_output_path = figure_path.with_name(\n",
    "        f\"{figure_path.stem}_automl.json\"\n",
    "    )\n",
    "\n",
    "    # don't do the same figure more than once\n",
    "    if automl_output_path.exists():\n",
    "        continue\n",
    "\n",
    "    filetype = magic.from_file(str(figure_path))\n",
    "    if \"JPEG image data\" not in filetype:\n",
    "        print(f\"Skipping {str(figure_path)}. Not a valid JPG.\")\n",
    "        print(filetype)\n",
    "        continue\n",
    "\n",
    "    # Read the file.\n",
    "    with open(figure_path, \"rb\") as content_file:\n",
    "        content = content_file.read()\n",
    "\n",
    "    image = automl.Image(image_bytes=content)\n",
    "    payload = automl.ExamplePayload(image=image)\n",
    "\n",
    "    # params is additional domain-specific parameters.\n",
    "    # score_threshold is used to filter the result\n",
    "    # https://cloud.google.com/automl/docs/reference/rpc/google.cloud.automl.v1#predictrequest\n",
    "    # params = {\"score_threshold\": \"0.8\"}\n",
    "    params = {}\n",
    "\n",
    "    request = automl.PredictRequest(\n",
    "        name=model_full_id, payload=payload, params=params\n",
    "    )\n",
    "    try:\n",
    "        response = prediction_client.predict(request=request)\n",
    "\n",
    "        #    print(\"Prediction results:\")\n",
    "        #    for result in response.payload:\n",
    "        #        print(\"Predicted class name: {}\".format(result.display_name))\n",
    "        #        print(\"Predicted class score: {}\".format(result.classification.score))\n",
    "\n",
    "        payloads = [MessageToDict(x._pb) for x in response.payload]\n",
    "\n",
    "        if len(payloads) != 1:\n",
    "            print(paylods)\n",
    "            raise Exception(\n",
    "                f\"Got an unexpected number of payloads: {len(payloads)}\"\n",
    "            )\n",
    "\n",
    "        with automl_output_path.open(\"w\", encoding=\"utf8\") as f:\n",
    "            json.dump(payloads[0], f, ensure_ascii=False)\n",
    "\n",
    "        if (i % 100) == 0:\n",
    "            print(f\"{i}\")\n",
    "        i += 1\n",
    "        with open(forward_classified_images_count_path, \"w\") as f:\n",
    "            f.write(f\"{i} of {total_figure_path_count}\\n\")\n",
    "    except:\n",
    "        e = sys.exc_info()[0]\n",
    "        print(f\"failed for {str(figure_path)}\")\n",
    "        print(\"<p>Error: %s</p>\" % e)\n",
    "\n",
    "print(f\"Figures classified in last run: {i}\")"
   ]
  },
  {
   "cell_type": "code",
   "execution_count": null,
   "metadata": {},
   "outputs": [],
   "source": []
  },
  {
   "cell_type": "markdown",
   "metadata": {},
   "source": [
    "When you're done using it, remove the model deployment here:\n",
    "https://console.cloud.google.com/vision/models?project=api-project-453052878726&supportedpurview=project"
   ]
  },
  {
   "cell_type": "code",
   "execution_count": null,
   "metadata": {},
   "outputs": [],
   "source": []
  },
  {
   "cell_type": "code",
   "execution_count": null,
   "metadata": {},
   "outputs": [],
   "source": []
  },
  {
   "cell_type": "code",
   "execution_count": null,
   "metadata": {},
   "outputs": [],
   "source": []
  },
  {
   "cell_type": "code",
   "execution_count": null,
   "metadata": {},
   "outputs": [],
   "source": []
  }
 ],
 "metadata": {
  "kernelspec": {
   "display_name": "Python3 - mypkgs",
   "language": "python",
   "name": "ipython_mypkgs"
  },
  "language_info": {
   "codemirror_mode": {
    "name": "ipython",
    "version": 3
   },
   "file_extension": ".py",
   "mimetype": "text/x-python",
   "name": "python",
   "nbconvert_exporter": "python",
   "pygments_lexer": "ipython3",
   "version": "3.8.8"
  }
 },
 "nbformat": 4,
 "nbformat_minor": 4
}
