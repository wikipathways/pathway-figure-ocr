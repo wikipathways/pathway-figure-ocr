{
 "cells": [
  {
   "cell_type": "code",
   "execution_count": 1,
   "metadata": {},
   "outputs": [
    {
     "data": {
      "text/html": [
       "<style>\n",
       ".list-inline {list-style: none; margin:0; padding: 0}\n",
       ".list-inline>li {display: inline-block}\n",
       ".list-inline>li:not(:last-child)::after {content: \"\\00b7\"; padding: 0 .5ex}\n",
       "</style>\n",
       "<ol class=list-inline><li>8</li><li>10</li><li>11</li><li>13</li><li>14</li><li>16</li><li>17</li><li>19</li><li>20</li><li>&lt;NA&gt;</li></ol>\n"
      ],
      "text/latex": [
       "\\begin{enumerate*}\n",
       "\\item 8\n",
       "\\item 10\n",
       "\\item 11\n",
       "\\item 13\n",
       "\\item 14\n",
       "\\item 16\n",
       "\\item 17\n",
       "\\item 19\n",
       "\\item 20\n",
       "\\item <NA>\n",
       "\\end{enumerate*}\n"
      ],
      "text/markdown": [
       "1. 8\n",
       "2. 10\n",
       "3. 11\n",
       "4. 13\n",
       "5. 14\n",
       "6. 16\n",
       "7. 17\n",
       "8. 19\n",
       "9. 20\n",
       "10. &lt;NA&gt;\n",
       "\n",
       "\n"
      ],
      "text/plain": [
       " [1]  8 10 11 13 14 16 17 19 20 NA"
      ]
     },
     "metadata": {},
     "output_type": "display_data"
    },
    {
     "data": {
      "text/html": [
       "<style>\n",
       ".list-inline {list-style: none; margin:0; padding: 0}\n",
       ".list-inline>li {display: inline-block}\n",
       ".list-inline>li:not(:last-child)::after {content: \"\\00b7\"; padding: 0 .5ex}\n",
       "</style>\n",
       "<ol class=list-inline><li>6</li><li>16</li><li>17</li><li>18</li><li>20</li><li>21</li><li>23</li><li>&lt;NA&gt;</li></ol>\n"
      ],
      "text/latex": [
       "\\begin{enumerate*}\n",
       "\\item 6\n",
       "\\item 16\n",
       "\\item 17\n",
       "\\item 18\n",
       "\\item 20\n",
       "\\item 21\n",
       "\\item 23\n",
       "\\item <NA>\n",
       "\\end{enumerate*}\n"
      ],
      "text/markdown": [
       "1. 6\n",
       "2. 16\n",
       "3. 17\n",
       "4. 18\n",
       "5. 20\n",
       "6. 21\n",
       "7. 23\n",
       "8. &lt;NA&gt;\n",
       "\n",
       "\n"
      ],
      "text/plain": [
       "[1]  6 16 17 18 20 21 23 NA"
      ]
     },
     "metadata": {},
     "output_type": "display_data"
    },
    {
     "data": {
      "text/html": [
       "<style>\n",
       ".list-inline {list-style: none; margin:0; padding: 0}\n",
       ".list-inline>li {display: inline-block}\n",
       ".list-inline>li:not(:last-child)::after {content: \"\\00b7\"; padding: 0 .5ex}\n",
       "</style>\n",
       "<ol class=list-inline><li>8</li><li>10</li><li>11</li><li>13</li><li>14</li><li>16</li><li>17</li><li>19</li><li>20</li><li>&lt;NA&gt;</li><li>6</li><li>18</li><li>21</li><li>23</li></ol>\n"
      ],
      "text/latex": [
       "\\begin{enumerate*}\n",
       "\\item 8\n",
       "\\item 10\n",
       "\\item 11\n",
       "\\item 13\n",
       "\\item 14\n",
       "\\item 16\n",
       "\\item 17\n",
       "\\item 19\n",
       "\\item 20\n",
       "\\item <NA>\n",
       "\\item 6\n",
       "\\item 18\n",
       "\\item 21\n",
       "\\item 23\n",
       "\\end{enumerate*}\n"
      ],
      "text/markdown": [
       "1. 8\n",
       "2. 10\n",
       "3. 11\n",
       "4. 13\n",
       "5. 14\n",
       "6. 16\n",
       "7. 17\n",
       "8. 19\n",
       "9. 20\n",
       "10. &lt;NA&gt;\n",
       "11. 6\n",
       "12. 18\n",
       "13. 21\n",
       "14. 23\n",
       "\n",
       "\n"
      ],
      "text/plain": [
       " [1]  8 10 11 13 14 16 17 19 20 NA  6 18 21 23"
      ]
     },
     "metadata": {},
     "output_type": "display_data"
    },
    {
     "data": {
      "text/html": [
       "<style>\n",
       ".list-inline {list-style: none; margin:0; padding: 0}\n",
       ".list-inline>li {display: inline-block}\n",
       ".list-inline>li:not(:last-child)::after {content: \"\\00b7\"; padding: 0 .5ex}\n",
       "</style>\n",
       "<ol class=list-inline><li>16</li><li>17</li><li>20</li><li>&lt;NA&gt;</li></ol>\n"
      ],
      "text/latex": [
       "\\begin{enumerate*}\n",
       "\\item 16\n",
       "\\item 17\n",
       "\\item 20\n",
       "\\item <NA>\n",
       "\\end{enumerate*}\n"
      ],
      "text/markdown": [
       "1. 16\n",
       "2. 17\n",
       "3. 20\n",
       "4. &lt;NA&gt;\n",
       "\n",
       "\n"
      ],
      "text/plain": [
       "[1] 16 17 20 NA"
      ]
     },
     "metadata": {},
     "output_type": "display_data"
    },
    {
     "data": {
      "text/html": [
       "<style>\n",
       ".list-inline {list-style: none; margin:0; padding: 0}\n",
       ".list-inline>li {display: inline-block}\n",
       ".list-inline>li:not(:last-child)::after {content: \"\\00b7\"; padding: 0 .5ex}\n",
       "</style>\n",
       "<ol class=list-inline><li>8</li><li>10</li><li>11</li><li>13</li><li>14</li><li>19</li></ol>\n"
      ],
      "text/latex": [
       "\\begin{enumerate*}\n",
       "\\item 8\n",
       "\\item 10\n",
       "\\item 11\n",
       "\\item 13\n",
       "\\item 14\n",
       "\\item 19\n",
       "\\end{enumerate*}\n"
      ],
      "text/markdown": [
       "1. 8\n",
       "2. 10\n",
       "3. 11\n",
       "4. 13\n",
       "5. 14\n",
       "6. 19\n",
       "\n",
       "\n"
      ],
      "text/plain": [
       "[1]  8 10 11 13 14 19"
      ]
     },
     "metadata": {},
     "output_type": "display_data"
    },
    {
     "data": {
      "text/html": [
       "<style>\n",
       ".list-inline {list-style: none; margin:0; padding: 0}\n",
       ".list-inline>li {display: inline-block}\n",
       ".list-inline>li:not(:last-child)::after {content: \"\\00b7\"; padding: 0 .5ex}\n",
       "</style>\n",
       "<ol class=list-inline><li>6</li><li>18</li><li>21</li><li>23</li></ol>\n"
      ],
      "text/latex": [
       "\\begin{enumerate*}\n",
       "\\item 6\n",
       "\\item 18\n",
       "\\item 21\n",
       "\\item 23\n",
       "\\end{enumerate*}\n"
      ],
      "text/markdown": [
       "1. 6\n",
       "2. 18\n",
       "3. 21\n",
       "4. 23\n",
       "\n",
       "\n"
      ],
      "text/plain": [
       "[1]  6 18 21 23"
      ]
     },
     "metadata": {},
     "output_type": "display_data"
    },
    {
     "data": {
      "text/html": [
       "FALSE"
      ],
      "text/latex": [
       "FALSE"
      ],
      "text/markdown": [
       "FALSE"
      ],
      "text/plain": [
       "[1] FALSE"
      ]
     },
     "metadata": {},
     "output_type": "display_data"
    }
   ],
   "source": [
    "(x <- c(sort(sample(1:20, 9)), NA))\n",
    "(y <- c(sort(sample(3:23, 7)), NA))\n",
    "union(x, y)\n",
    "intersect(x, y)\n",
    "setdiff(x, y)\n",
    "setdiff(y, x)\n",
    "setequal(x, y)"
   ]
  },
  {
   "cell_type": "code",
   "execution_count": 2,
   "metadata": {},
   "outputs": [
    {
     "name": "stderr",
     "output_type": "stream",
     "text": [
      "── \u001b[1mAttaching packages\u001b[22m ─────────────────────────────────────── tidyverse 1.3.0 ──\n",
      "\n",
      "\u001b[32m✔\u001b[39m \u001b[34mggplot2\u001b[39m 3.3.3     \u001b[32m✔\u001b[39m \u001b[34mpurrr  \u001b[39m 0.3.4\n",
      "\u001b[32m✔\u001b[39m \u001b[34mtibble \u001b[39m 3.0.4     \u001b[32m✔\u001b[39m \u001b[34mdplyr  \u001b[39m 1.0.2\n",
      "\u001b[32m✔\u001b[39m \u001b[34mtidyr  \u001b[39m 1.1.2     \u001b[32m✔\u001b[39m \u001b[34mstringr\u001b[39m 1.4.0\n",
      "\u001b[32m✔\u001b[39m \u001b[34mreadr  \u001b[39m 1.4.0     \u001b[32m✔\u001b[39m \u001b[34mforcats\u001b[39m 0.5.0\n",
      "\n",
      "── \u001b[1mConflicts\u001b[22m ────────────────────────────────────────── tidyverse_conflicts() ──\n",
      "\u001b[31m✖\u001b[39m \u001b[34mdplyr\u001b[39m::\u001b[32mfilter()\u001b[39m masks \u001b[34mstats\u001b[39m::filter()\n",
      "\u001b[31m✖\u001b[39m \u001b[34mdplyr\u001b[39m::\u001b[32mlag()\u001b[39m    masks \u001b[34mstats\u001b[39m::lag()\n",
      "\n"
     ]
    }
   ],
   "source": [
    "library(tidyverse)\n",
    "library(dplyr)"
   ]
  },
  {
   "cell_type": "code",
   "execution_count": 3,
   "metadata": {},
   "outputs": [
    {
     "data": {
      "text/plain": [
       "               _                           \n",
       "platform       x86_64-pc-linux-gnu         \n",
       "arch           x86_64                      \n",
       "os             linux-gnu                   \n",
       "system         x86_64, linux-gnu           \n",
       "status                                     \n",
       "major          4                           \n",
       "minor          0.4                         \n",
       "year           2021                        \n",
       "month          02                          \n",
       "day            15                          \n",
       "svn rev        80002                       \n",
       "language       R                           \n",
       "version.string R version 4.0.4 (2021-02-15)\n",
       "nickname       Lost Library Book           "
      ]
     },
     "metadata": {},
     "output_type": "display_data"
    }
   ],
   "source": [
    "version"
   ]
  },
  {
   "cell_type": "code",
   "execution_count": 4,
   "metadata": {},
   "outputs": [
    {
     "data": {
      "text/html": [
       "'R version 4.0.3 (2020-10-10)'"
      ],
      "text/latex": [
       "'R version 4.0.3 (2020-10-10)'"
      ],
      "text/markdown": [
       "'R version 4.0.3 (2020-10-10)'"
      ],
      "text/plain": [
       "[1] \"R version 4.0.3 (2020-10-10)\""
      ]
     },
     "metadata": {},
     "output_type": "display_data"
    }
   ],
   "source": [
    "R.version.string"
   ]
  },
  {
   "cell_type": "code",
   "execution_count": 5,
   "metadata": {},
   "outputs": [
    {
     "data": {
      "text/html": [
       "2"
      ],
      "text/latex": [
       "2"
      ],
      "text/markdown": [
       "2"
      ],
      "text/plain": [
       "[1] 2"
      ]
     },
     "metadata": {},
     "output_type": "display_data"
    }
   ],
   "source": [
    "1 + 1"
   ]
  },
  {
   "cell_type": "code",
   "execution_count": 6,
   "metadata": {},
   "outputs": [
    {
     "data": {
      "text/html": [
       "<table>\n",
       "<caption>A data.frame: 6 x 16</caption>\n",
       "<thead>\n",
       "\t<tr><th></th><th scope=col>figid</th><th scope=col>pmcid</th><th scope=col>filename</th><th scope=col>year</th><th scope=col>pathway_score</th><th scope=col>pmc_ranked_result_index</th><th scope=col>figlink</th><th scope=col>source_f</th><th scope=col>type.man</th><th scope=col>automl_index</th><th scope=col>reftext</th><th scope=col>papertitle</th><th scope=col>figtitle</th><th scope=col>number</th><th scope=col>caption</th><th scope=col>organism</th></tr>\n",
       "\t<tr><th></th><th scope=col>&lt;chr&gt;</th><th scope=col>&lt;chr&gt;</th><th scope=col>&lt;chr&gt;</th><th scope=col>&lt;chr&gt;</th><th scope=col>&lt;dbl&gt;</th><th scope=col>&lt;int&gt;</th><th scope=col>&lt;chr&gt;</th><th scope=col>&lt;chr&gt;</th><th scope=col>&lt;chr&gt;</th><th scope=col>&lt;int&gt;</th><th scope=col>&lt;fct&gt;</th><th scope=col>&lt;fct&gt;</th><th scope=col>&lt;chr&gt;</th><th scope=col>&lt;chr&gt;</th><th scope=col>&lt;chr&gt;</th><th scope=col>&lt;chr&gt;</th></tr>\n",
       "</thead>\n",
       "<tbody>\n",
       "\t<tr><th scope=row>1</th><td>PMC5653847__41598_2017_14124_Fig8_HTML.jpg</td><td>PMC5653847</td><td>41598_2017_14124_Fig8_HTML.jpg</td><td>2017</td><td>0.9682696</td><td>133303</td><td>/pmc/articles/PMC5653847/figure/Fig8/             </td><td>../data/images/PMC5653847__41598_2017_14124_Fig8_HTML.jpg</td><td>NA</td><td>3012</td><td>Céline Barthelemy, et al. Sci Rep. 2017;7:13816.                         </td><td>FTY720-induced endocytosis of yeast and human amino acid transporters is preceded by reduction of their inherent activity and TORC1 inhibition.</td><td>Model of FTY720-induced transporter endocytosis in yeast and human cells                                               </td><td>Figure 8</td><td>Model of FTY720-induced transporter endocytosis in yeast and human cells. (A) In yeast, exogenously supplied FTY720 molecules insert into the plasma membrane, thereby causing a decrease of the intrinsic activity of nutrient transporters, including amino acid permeases. The resulting decrease of nutrient uptake causes inhibition of the TORC1 kinase complex. This elicits activation of an unknown mechanism which then somehow stimulates the ability of the α-arrestin-family adaptor proteins and the Rsp5 ubiquitin ligase to promote permease ubiquitylation, triggering permease sorting into the endocytic pathway. (B) In mammalian cells, mTORC1 is regulated by nutrient availability and growth factors (GF). Addition of FTY720 similarly alters the inherent activity of nutrient transporters, including LAT1/SLC7A5, thereby causing mTORC1 inhibition. This reduced mTORC1 signaling contributes to stimulation of a mechanism involving a PP2A phosphatase which can activate a machinery, possibly dependent on ubiquitin, which promotes the endocytosis of nutrient transporters, including LAT1/SLC7A5. The signaling pathway responding to GFs also influences the cell-surface stability of nutrient transporters by regulating both mTORC1 and the PP2A-dependent mechanism under mTORC1 control. The presence of FTY720 inhibits both GF-dependent functions (via a mechanism involving a PP2A phosphatase), thereby contributing further to stimulation of transporter endocytosis.                                                                    </td><td>Homo sapiens</td></tr>\n",
       "\t<tr><th scope=row>2</th><td>PMC4187043__zh20191474070013.jpg          </td><td>PMC4187043</td><td>zh20191474070013.jpg          </td><td>2014</td><td>0.9657933</td><td> 79929</td><td>/pmc/articles/PMC4187043/figure/F13/              </td><td>../data/images/PMC4187043__zh20191474070013.jpg          </td><td>NA</td><td>4323</td><td>Yuan Wei, et al. Am J Physiol Renal Physiol. 2014 Oct 1;307(7):F833-F843.</td><td>Angiotensin II type 2 receptor regulates ROMK-like K+ channel activity in the renal cortical collecting duct during high dietary K+ adaptation.</td><td>Stimulatory effect of ANG II on ROMK channel activity mediated via AT2Rs                                               </td><td>Fig. 13 </td><td>Proposed signaling pathway by which the stimulatory effect of ANG II on ROMK channel activity in HK-fed rats is mediated via AT2Rs. AT2Rs and AT1Rs cooperate in the renal regulation of K+ excretion. The pathway by which ANG II inhibits ROMK channels in low-K+ (LK)-fed rats was previously reported (). PTK, protein tyrosine kinase; PLC, phospholipase C.                                                                                                                                                                                                                                                                                                                                                                                                                                                                                                                                                                                                                                                                                                                                                                                                                                                                                                                                                                                                                                                                                                                                                                                                                          </td><td>Homo sapiens</td></tr>\n",
       "\t<tr><th scope=row>3</th><td>PMC5746550__rsob-7-170228-g1.jpg          </td><td>PMC5746550</td><td>rsob-7-170228-g1.jpg          </td><td>2017</td><td>0.9624698</td><td> 98034</td><td>/pmc/articles/PMC5746550/figure/RSOB170228F1/     </td><td>../data/images/PMC5746550__rsob-7-170228-g1.jpg          </td><td>NA</td><td>6334</td><td>Georgia R. Frost, et al. Open Biol. 2017 Dec;7(12):170228.               </td><td>The role of astrocytes in amyloid production and Alzheimer's disease.                                                                          </td><td>AB production                                                                                                          </td><td>Figure 1</td><td>Aβ production. In the amyloidogenic pathway (right), APP is cleaved by BACE followed by γ-secretase which releases Aβ peptides and APP intracellular domain (AICD), which generate the N and C termini of Aβ, respectively. In the non-amyloidogenic pathway (left), APP is cleaved sequentially by α-secretase and γ-secretase, which does not result in the generation of Aβ species.                                                                                                                                                                                                                                                                                                                                                                                                                                                                                                                                                                                                                                                                                                                                                                                                                                                                                                                                                                                                                                                                                                                                                                                                    </td><td>Homo sapiens</td></tr>\n",
       "\t<tr><th scope=row>4</th><td>PMC4211692__pone.0110875.g008.jpg         </td><td>PMC4211692</td><td>pone.0110875.g008.jpg         </td><td>2014</td><td>0.9667213</td><td>142401</td><td>/pmc/articles/PMC4211692/figure/pone-0110875-g008/</td><td>../data/images/PMC4211692__pone.0110875.g008.jpg         </td><td>NA</td><td>3808</td><td>Enida Gjoni, et al. PLoS One. 2014;9(10):e110875.                        </td><td>Glucolipotoxicity Impairs Ceramide Flow from the Endoplasmic Reticulum to the Golgi Apparatus in INS-1 β-Cells.                                </td><td>Glucolipotoxicity Impairs Ceramide Flow from the Endoplasmic Reticulum to the Golgi Apparatus in INS-1 Beta-Cells      </td><td>Figure 8</td><td>Glucolipotoxicity impairs CERT- and vesicular-mediated Cer traffic. Glucolipotoxicity decrease the amount of active CERT significantly decreasing a) the total amount of the protein and b) the phosphorylation of CERT SR motif that is no longer able to localize at the Golgi apparatus. Moreover glucolipotoxicity inhibits PI3K/Akt pathway that could in turn impairs vesicular trafficking of Cer from the ER to the Golgi apparatus. Both transport systems contribute to the accumulation of Cer at the ER, thereby inducing ER stress. Furthermore ceramide synthase 4 (CerS4)  and serine palmitoyltransferase (SPT) , , both residing in the endoplasmic reticulum (ER), have been shown to be involved in regulating Cer levels in β-cells in response to lipotoxicity and/or glucolipotoxicity.                                                                                                                                                                                                                                                                                                                                                                                                                                                                                                                                                                                                                                                                                                                                                                              </td><td>Homo sapiens</td></tr>\n",
       "\t<tr><th scope=row>5</th><td>PMC2588433__nihms78212f8.jpg              </td><td>PMC2588433</td><td>nihms78212f8.jpg              </td><td>NA  </td><td>0.9667583</td><td> 67398</td><td>/pmc/articles/PMC2588433/figure/F8/               </td><td>../data/images/PMC2588433__nihms78212f8.jpg              </td><td>NA</td><td>3790</td><td>Amanda L. Lewis, et al. J Biol Chem. ;282(38):27562-27571.               </td><td>NeuA sialic acid O-acetylesterase activity modulates O-acetylation of capsular polysaccharides in Group B Streptococcus.                       </td><td>NeuA sialic acid O-acetylesterase activity modulates O-acetylation of capsular polysaccharides in Group B Streptococcus</td><td>Figure 8</td><td>Bacterial Sia biosynthesis can be divided into three main parts: 1) Sia biosynthesis and degradation, 2) intracellular Sia O-acetylation and de-O-acetylation, and 3) polysaccharide biosynthesis, polymerization, and O-acetylation. For simplicity, only 2) and 3) are shown (above and below the dotted line respectively). With respect to 1), these Sia-expressing pathogens use a homologous 3-enzyme pathway to generate N-acetylmannosamine (ManNAc) by epimerization of UDP-N-acetylglucosamine, condense phosphoenolpyruvate with ManNAc to generate N-acetylneuraminic acid (Neu5Ac), then activate Neu5Ac by transfer of the anomeric oxygen to the α-phosphate of CTP. Only E. coli possesses Sia degradation machinery. In GBS, cpsK and cpsH encode the sialyltransferase and repeating unit polymerase respectively. Intracellular Sia O-acetylation and de-O-acetylation is limited to GBS and E. coli, both of which possess the NeuD Sia O-acetyltransferase and NeuA Sia-O-acetyl esterase. The N. meningitidis pathway is more stream-lined in appearance due to the lack of an endogenous O-acetylation/de-O-acetylation cycle. Despite the pronounced difference between N. meningitidis (serogroup B) and E. coli K1 in intracellular O-acetylation cycling, these pathogens share an identical poly-Sia antigen made up of α2–8-linked Neu5Ac residues (polymerized by SiaD and NeuS respectively) that can be O-acetylated after capsule polymerization (by OatWY or NeuO respectively). See text for further discussion. Model is based on references (, , , –).</td><td>Homo sapiens</td></tr>\n",
       "\t<tr><th scope=row>6</th><td>PMC4502921__emss-63180-f0001.jpg          </td><td>PMC4502921</td><td>emss-63180-f0001.jpg          </td><td>2015</td><td>0.9581629</td><td> 86454</td><td>/pmc/articles/PMC4502921/figure/F1/               </td><td>../data/images/PMC4502921__emss-63180-f0001.jpg          </td><td>NA</td><td>9272</td><td>Harald H. Sitte, et al. Trends Pharmacol Sci. 2015 Jan;36(1):41-50.      </td><td>Amphetamines, new psychoactive drugs and the monoamine transporter cycle.                                                                      </td><td>Schematic of the transport cycle                                                                                       </td><td>Figure 1</td><td>Schematic of the transport cycle. A kinetic scheme of substrate (S) interaction with either the outward- (o) or inward- (i) facing transporter (T) and with cotransported substrates. Substrates can be either physiological substrates such as monoamines or amphetamines; co-substrates can be sodium (Na+) or chloride (Cl−). There are several additional reactions: in other words, sequential binding of Na+ ions, chloride, and substrate to the outward-facing conformation, and the corresponding release steps from the inward-facing conformation ([] for a more detailed model). These have been omitted for the sake of clarity. The transporter switches from the outward- to the inward-facing conformation via an occluded state (occ). In the serotonin transporter (SERT) the return through the occluded empty state is contingent on binding of K+ (symbolized by K+ in brackets). The conducting state (Cond) is achieved via an inward-facing conformation []. In the presence of amphetamine, amply supplied internal substrate and elevated internal sodium, the transporter releases substrate by running backwards through the cycle (reaction pathway indicated by red arrows). Burst-like dopamine (DA) effluxing events have been recorded by Kahlig and colleagues [], but their relation to the transport cycle is unclear (indicated by the dashed arrow on the left-hand side).                                                                                                                                                                           </td><td>Homo sapiens</td></tr>\n",
       "</tbody>\n",
       "</table>\n"
      ],
      "text/latex": [
       "A data.frame: 6 x 16\n",
       "\\begin{tabular}{r|llllllllllllllll}\n",
       "  & figid & pmcid & filename & year & pathway\\_score & pmc\\_ranked\\_result\\_index & figlink & source\\_f & type.man & automl\\_index & reftext & papertitle & figtitle & number & caption & organism\\\\\n",
       "  & <chr> & <chr> & <chr> & <chr> & <dbl> & <int> & <chr> & <chr> & <chr> & <int> & <fct> & <fct> & <chr> & <chr> & <chr> & <chr>\\\\\n",
       "\\hline\n",
       "\t1 & PMC5653847\\_\\_41598\\_2017\\_14124\\_Fig8\\_HTML.jpg & PMC5653847 & 41598\\_2017\\_14124\\_Fig8\\_HTML.jpg & 2017 & 0.9682696 & 133303 & /pmc/articles/PMC5653847/figure/Fig8/              & ../data/images/PMC5653847\\_\\_41598\\_2017\\_14124\\_Fig8\\_HTML.jpg & NA & 3012 & Céline Barthelemy, et al. Sci Rep. 2017;7:13816.                          & FTY720-induced endocytosis of yeast and human amino acid transporters is preceded by reduction of their inherent activity and TORC1 inhibition. & Model of FTY720-induced transporter endocytosis in yeast and human cells                                                & Figure 8 & Model of FTY720-induced transporter endocytosis in yeast and human cells. (A) In yeast, exogenously supplied FTY720 molecules insert into the plasma membrane, thereby causing a decrease of the intrinsic activity of nutrient transporters, including amino acid permeases. The resulting decrease of nutrient uptake causes inhibition of the TORC1 kinase complex. This elicits activation of an unknown mechanism which then somehow stimulates the ability of the α-arrestin-family adaptor proteins and the Rsp5 ubiquitin ligase to promote permease ubiquitylation, triggering permease sorting into the endocytic pathway. (B) In mammalian cells, mTORC1 is regulated by nutrient availability and growth factors (GF). Addition of FTY720 similarly alters the inherent activity of nutrient transporters, including LAT1/SLC7A5, thereby causing mTORC1 inhibition. This reduced mTORC1 signaling contributes to stimulation of a mechanism involving a PP2A phosphatase which can activate a machinery, possibly dependent on ubiquitin, which promotes the endocytosis of nutrient transporters, including LAT1/SLC7A5. The signaling pathway responding to GFs also influences the cell-surface stability of nutrient transporters by regulating both mTORC1 and the PP2A-dependent mechanism under mTORC1 control. The presence of FTY720 inhibits both GF-dependent functions (via a mechanism involving a PP2A phosphatase), thereby contributing further to stimulation of transporter endocytosis.                                                                     & Homo sapiens\\\\\n",
       "\t2 & PMC4187043\\_\\_zh20191474070013.jpg           & PMC4187043 & zh20191474070013.jpg           & 2014 & 0.9657933 &  79929 & /pmc/articles/PMC4187043/figure/F13/               & ../data/images/PMC4187043\\_\\_zh20191474070013.jpg           & NA & 4323 & Yuan Wei, et al. Am J Physiol Renal Physiol. 2014 Oct 1;307(7):F833-F843. & Angiotensin II type 2 receptor regulates ROMK-like K+ channel activity in the renal cortical collecting duct during high dietary K+ adaptation. & Stimulatory effect of ANG II on ROMK channel activity mediated via AT2Rs                                                & Fig. 13  & Proposed signaling pathway by which the stimulatory effect of ANG II on ROMK channel activity in HK-fed rats is mediated via AT2Rs. AT2Rs and AT1Rs cooperate in the renal regulation of K+ excretion. The pathway by which ANG II inhibits ROMK channels in low-K+ (LK)-fed rats was previously reported (). PTK, protein tyrosine kinase; PLC, phospholipase C.                                                                                                                                                                                                                                                                                                                                                                                                                                                                                                                                                                                                                                                                                                                                                                                                                                                                                                                                                                                                                                                                                                                                                                                                                           & Homo sapiens\\\\\n",
       "\t3 & PMC5746550\\_\\_rsob-7-170228-g1.jpg           & PMC5746550 & rsob-7-170228-g1.jpg           & 2017 & 0.9624698 &  98034 & /pmc/articles/PMC5746550/figure/RSOB170228F1/      & ../data/images/PMC5746550\\_\\_rsob-7-170228-g1.jpg           & NA & 6334 & Georgia R. Frost, et al. Open Biol. 2017 Dec;7(12):170228.                & The role of astrocytes in amyloid production and Alzheimer's disease.                                                                           & AB production                                                                                                           & Figure 1 & Aβ production. In the amyloidogenic pathway (right), APP is cleaved by BACE followed by γ-secretase which releases Aβ peptides and APP intracellular domain (AICD), which generate the N and C termini of Aβ, respectively. In the non-amyloidogenic pathway (left), APP is cleaved sequentially by α-secretase and γ-secretase, which does not result in the generation of Aβ species.                                                                                                                                                                                                                                                                                                                                                                                                                                                                                                                                                                                                                                                                                                                                                                                                                                                                                                                                                                                                                                                                                                                                                                                                     & Homo sapiens\\\\\n",
       "\t4 & PMC4211692\\_\\_pone.0110875.g008.jpg          & PMC4211692 & pone.0110875.g008.jpg          & 2014 & 0.9667213 & 142401 & /pmc/articles/PMC4211692/figure/pone-0110875-g008/ & ../data/images/PMC4211692\\_\\_pone.0110875.g008.jpg          & NA & 3808 & Enida Gjoni, et al. PLoS One. 2014;9(10):e110875.                         & Glucolipotoxicity Impairs Ceramide Flow from the Endoplasmic Reticulum to the Golgi Apparatus in INS-1 β-Cells.                                 & Glucolipotoxicity Impairs Ceramide Flow from the Endoplasmic Reticulum to the Golgi Apparatus in INS-1 Beta-Cells       & Figure 8 & Glucolipotoxicity impairs CERT- and vesicular-mediated Cer traffic. Glucolipotoxicity decrease the amount of active CERT significantly decreasing a) the total amount of the protein and b) the phosphorylation of CERT SR motif that is no longer able to localize at the Golgi apparatus. Moreover glucolipotoxicity inhibits PI3K/Akt pathway that could in turn impairs vesicular trafficking of Cer from the ER to the Golgi apparatus. Both transport systems contribute to the accumulation of Cer at the ER, thereby inducing ER stress. Furthermore ceramide synthase 4 (CerS4)  and serine palmitoyltransferase (SPT) , , both residing in the endoplasmic reticulum (ER), have been shown to be involved in regulating Cer levels in β-cells in response to lipotoxicity and/or glucolipotoxicity.                                                                                                                                                                                                                                                                                                                                                                                                                                                                                                                                                                                                                                                                                                                                                                               & Homo sapiens\\\\\n",
       "\t5 & PMC2588433\\_\\_nihms78212f8.jpg               & PMC2588433 & nihms78212f8.jpg               & NA   & 0.9667583 &  67398 & /pmc/articles/PMC2588433/figure/F8/                & ../data/images/PMC2588433\\_\\_nihms78212f8.jpg               & NA & 3790 & Amanda L. Lewis, et al. J Biol Chem. ;282(38):27562-27571.                & NeuA sialic acid O-acetylesterase activity modulates O-acetylation of capsular polysaccharides in Group B Streptococcus.                        & NeuA sialic acid O-acetylesterase activity modulates O-acetylation of capsular polysaccharides in Group B Streptococcus & Figure 8 & Bacterial Sia biosynthesis can be divided into three main parts: 1) Sia biosynthesis and degradation, 2) intracellular Sia O-acetylation and de-O-acetylation, and 3) polysaccharide biosynthesis, polymerization, and O-acetylation. For simplicity, only 2) and 3) are shown (above and below the dotted line respectively). With respect to 1), these Sia-expressing pathogens use a homologous 3-enzyme pathway to generate N-acetylmannosamine (ManNAc) by epimerization of UDP-N-acetylglucosamine, condense phosphoenolpyruvate with ManNAc to generate N-acetylneuraminic acid (Neu5Ac), then activate Neu5Ac by transfer of the anomeric oxygen to the α-phosphate of CTP. Only E. coli possesses Sia degradation machinery. In GBS, cpsK and cpsH encode the sialyltransferase and repeating unit polymerase respectively. Intracellular Sia O-acetylation and de-O-acetylation is limited to GBS and E. coli, both of which possess the NeuD Sia O-acetyltransferase and NeuA Sia-O-acetyl esterase. The N. meningitidis pathway is more stream-lined in appearance due to the lack of an endogenous O-acetylation/de-O-acetylation cycle. Despite the pronounced difference between N. meningitidis (serogroup B) and E. coli K1 in intracellular O-acetylation cycling, these pathogens share an identical poly-Sia antigen made up of α2–8-linked Neu5Ac residues (polymerized by SiaD and NeuS respectively) that can be O-acetylated after capsule polymerization (by OatWY or NeuO respectively). See text for further discussion. Model is based on references (, , , –). & Homo sapiens\\\\\n",
       "\t6 & PMC4502921\\_\\_emss-63180-f0001.jpg           & PMC4502921 & emss-63180-f0001.jpg           & 2015 & 0.9581629 &  86454 & /pmc/articles/PMC4502921/figure/F1/                & ../data/images/PMC4502921\\_\\_emss-63180-f0001.jpg           & NA & 9272 & Harald H. Sitte, et al. Trends Pharmacol Sci. 2015 Jan;36(1):41-50.       & Amphetamines, new psychoactive drugs and the monoamine transporter cycle.                                                                       & Schematic of the transport cycle                                                                                        & Figure 1 & Schematic of the transport cycle. A kinetic scheme of substrate (S) interaction with either the outward- (o) or inward- (i) facing transporter (T) and with cotransported substrates. Substrates can be either physiological substrates such as monoamines or amphetamines; co-substrates can be sodium (Na+) or chloride (Cl−). There are several additional reactions: in other words, sequential binding of Na+ ions, chloride, and substrate to the outward-facing conformation, and the corresponding release steps from the inward-facing conformation ({[}{]} for a more detailed model). These have been omitted for the sake of clarity. The transporter switches from the outward- to the inward-facing conformation via an occluded state (occ). In the serotonin transporter (SERT) the return through the occluded empty state is contingent on binding of K+ (symbolized by K+ in brackets). The conducting state (Cond) is achieved via an inward-facing conformation {[}{]}. In the presence of amphetamine, amply supplied internal substrate and elevated internal sodium, the transporter releases substrate by running backwards through the cycle (reaction pathway indicated by red arrows). Burst-like dopamine (DA) effluxing events have been recorded by Kahlig and colleagues {[}{]}, but their relation to the transport cycle is unclear (indicated by the dashed arrow on the left-hand side).                                                                                                                                                                            & Homo sapiens\\\\\n",
       "\\end{tabular}\n"
      ],
      "text/markdown": [
       "\n",
       "A data.frame: 6 x 16\n",
       "\n",
       "| <!--/--> | figid &lt;chr&gt; | pmcid &lt;chr&gt; | filename &lt;chr&gt; | year &lt;chr&gt; | pathway_score &lt;dbl&gt; | pmc_ranked_result_index &lt;int&gt; | figlink &lt;chr&gt; | source_f &lt;chr&gt; | type.man &lt;chr&gt; | automl_index &lt;int&gt; | reftext &lt;fct&gt; | papertitle &lt;fct&gt; | figtitle &lt;chr&gt; | number &lt;chr&gt; | caption &lt;chr&gt; | organism &lt;chr&gt; |\n",
       "|---|---|---|---|---|---|---|---|---|---|---|---|---|---|---|---|---|\n",
       "| 1 | PMC5653847__41598_2017_14124_Fig8_HTML.jpg | PMC5653847 | 41598_2017_14124_Fig8_HTML.jpg | 2017 | 0.9682696 | 133303 | /pmc/articles/PMC5653847/figure/Fig8/              | ../data/images/PMC5653847__41598_2017_14124_Fig8_HTML.jpg | NA | 3012 | Céline Barthelemy, et al. Sci Rep. 2017;7:13816.                          | FTY720-induced endocytosis of yeast and human amino acid transporters is preceded by reduction of their inherent activity and TORC1 inhibition. | Model of FTY720-induced transporter endocytosis in yeast and human cells                                                | Figure 8 | Model of FTY720-induced transporter endocytosis in yeast and human cells. (A) In yeast, exogenously supplied FTY720 molecules insert into the plasma membrane, thereby causing a decrease of the intrinsic activity of nutrient transporters, including amino acid permeases. The resulting decrease of nutrient uptake causes inhibition of the TORC1 kinase complex. This elicits activation of an unknown mechanism which then somehow stimulates the ability of the α-arrestin-family adaptor proteins and the Rsp5 ubiquitin ligase to promote permease ubiquitylation, triggering permease sorting into the endocytic pathway. (B) In mammalian cells, mTORC1 is regulated by nutrient availability and growth factors (GF). Addition of FTY720 similarly alters the inherent activity of nutrient transporters, including LAT1/SLC7A5, thereby causing mTORC1 inhibition. This reduced mTORC1 signaling contributes to stimulation of a mechanism involving a PP2A phosphatase which can activate a machinery, possibly dependent on ubiquitin, which promotes the endocytosis of nutrient transporters, including LAT1/SLC7A5. The signaling pathway responding to GFs also influences the cell-surface stability of nutrient transporters by regulating both mTORC1 and the PP2A-dependent mechanism under mTORC1 control. The presence of FTY720 inhibits both GF-dependent functions (via a mechanism involving a PP2A phosphatase), thereby contributing further to stimulation of transporter endocytosis.                                                                     | Homo sapiens |\n",
       "| 2 | PMC4187043__zh20191474070013.jpg           | PMC4187043 | zh20191474070013.jpg           | 2014 | 0.9657933 |  79929 | /pmc/articles/PMC4187043/figure/F13/               | ../data/images/PMC4187043__zh20191474070013.jpg           | NA | 4323 | Yuan Wei, et al. Am J Physiol Renal Physiol. 2014 Oct 1;307(7):F833-F843. | Angiotensin II type 2 receptor regulates ROMK-like K+ channel activity in the renal cortical collecting duct during high dietary K+ adaptation. | Stimulatory effect of ANG II on ROMK channel activity mediated via AT2Rs                                                | Fig. 13  | Proposed signaling pathway by which the stimulatory effect of ANG II on ROMK channel activity in HK-fed rats is mediated via AT2Rs. AT2Rs and AT1Rs cooperate in the renal regulation of K+ excretion. The pathway by which ANG II inhibits ROMK channels in low-K+ (LK)-fed rats was previously reported (). PTK, protein tyrosine kinase; PLC, phospholipase C.                                                                                                                                                                                                                                                                                                                                                                                                                                                                                                                                                                                                                                                                                                                                                                                                                                                                                                                                                                                                                                                                                                                                                                                                                           | Homo sapiens |\n",
       "| 3 | PMC5746550__rsob-7-170228-g1.jpg           | PMC5746550 | rsob-7-170228-g1.jpg           | 2017 | 0.9624698 |  98034 | /pmc/articles/PMC5746550/figure/RSOB170228F1/      | ../data/images/PMC5746550__rsob-7-170228-g1.jpg           | NA | 6334 | Georgia R. Frost, et al. Open Biol. 2017 Dec;7(12):170228.                | The role of astrocytes in amyloid production and Alzheimer's disease.                                                                           | AB production                                                                                                           | Figure 1 | Aβ production. In the amyloidogenic pathway (right), APP is cleaved by BACE followed by γ-secretase which releases Aβ peptides and APP intracellular domain (AICD), which generate the N and C termini of Aβ, respectively. In the non-amyloidogenic pathway (left), APP is cleaved sequentially by α-secretase and γ-secretase, which does not result in the generation of Aβ species.                                                                                                                                                                                                                                                                                                                                                                                                                                                                                                                                                                                                                                                                                                                                                                                                                                                                                                                                                                                                                                                                                                                                                                                                     | Homo sapiens |\n",
       "| 4 | PMC4211692__pone.0110875.g008.jpg          | PMC4211692 | pone.0110875.g008.jpg          | 2014 | 0.9667213 | 142401 | /pmc/articles/PMC4211692/figure/pone-0110875-g008/ | ../data/images/PMC4211692__pone.0110875.g008.jpg          | NA | 3808 | Enida Gjoni, et al. PLoS One. 2014;9(10):e110875.                         | Glucolipotoxicity Impairs Ceramide Flow from the Endoplasmic Reticulum to the Golgi Apparatus in INS-1 β-Cells.                                 | Glucolipotoxicity Impairs Ceramide Flow from the Endoplasmic Reticulum to the Golgi Apparatus in INS-1 Beta-Cells       | Figure 8 | Glucolipotoxicity impairs CERT- and vesicular-mediated Cer traffic. Glucolipotoxicity decrease the amount of active CERT significantly decreasing a) the total amount of the protein and b) the phosphorylation of CERT SR motif that is no longer able to localize at the Golgi apparatus. Moreover glucolipotoxicity inhibits PI3K/Akt pathway that could in turn impairs vesicular trafficking of Cer from the ER to the Golgi apparatus. Both transport systems contribute to the accumulation of Cer at the ER, thereby inducing ER stress. Furthermore ceramide synthase 4 (CerS4)  and serine palmitoyltransferase (SPT) , , both residing in the endoplasmic reticulum (ER), have been shown to be involved in regulating Cer levels in β-cells in response to lipotoxicity and/or glucolipotoxicity.                                                                                                                                                                                                                                                                                                                                                                                                                                                                                                                                                                                                                                                                                                                                                                               | Homo sapiens |\n",
       "| 5 | PMC2588433__nihms78212f8.jpg               | PMC2588433 | nihms78212f8.jpg               | NA   | 0.9667583 |  67398 | /pmc/articles/PMC2588433/figure/F8/                | ../data/images/PMC2588433__nihms78212f8.jpg               | NA | 3790 | Amanda L. Lewis, et al. J Biol Chem. ;282(38):27562-27571.                | NeuA sialic acid O-acetylesterase activity modulates O-acetylation of capsular polysaccharides in Group B Streptococcus.                        | NeuA sialic acid O-acetylesterase activity modulates O-acetylation of capsular polysaccharides in Group B Streptococcus | Figure 8 | Bacterial Sia biosynthesis can be divided into three main parts: 1) Sia biosynthesis and degradation, 2) intracellular Sia O-acetylation and de-O-acetylation, and 3) polysaccharide biosynthesis, polymerization, and O-acetylation. For simplicity, only 2) and 3) are shown (above and below the dotted line respectively). With respect to 1), these Sia-expressing pathogens use a homologous 3-enzyme pathway to generate N-acetylmannosamine (ManNAc) by epimerization of UDP-N-acetylglucosamine, condense phosphoenolpyruvate with ManNAc to generate N-acetylneuraminic acid (Neu5Ac), then activate Neu5Ac by transfer of the anomeric oxygen to the α-phosphate of CTP. Only E. coli possesses Sia degradation machinery. In GBS, cpsK and cpsH encode the sialyltransferase and repeating unit polymerase respectively. Intracellular Sia O-acetylation and de-O-acetylation is limited to GBS and E. coli, both of which possess the NeuD Sia O-acetyltransferase and NeuA Sia-O-acetyl esterase. The N. meningitidis pathway is more stream-lined in appearance due to the lack of an endogenous O-acetylation/de-O-acetylation cycle. Despite the pronounced difference between N. meningitidis (serogroup B) and E. coli K1 in intracellular O-acetylation cycling, these pathogens share an identical poly-Sia antigen made up of α2–8-linked Neu5Ac residues (polymerized by SiaD and NeuS respectively) that can be O-acetylated after capsule polymerization (by OatWY or NeuO respectively). See text for further discussion. Model is based on references (, , , –). | Homo sapiens |\n",
       "| 6 | PMC4502921__emss-63180-f0001.jpg           | PMC4502921 | emss-63180-f0001.jpg           | 2015 | 0.9581629 |  86454 | /pmc/articles/PMC4502921/figure/F1/                | ../data/images/PMC4502921__emss-63180-f0001.jpg           | NA | 9272 | Harald H. Sitte, et al. Trends Pharmacol Sci. 2015 Jan;36(1):41-50.       | Amphetamines, new psychoactive drugs and the monoamine transporter cycle.                                                                       | Schematic of the transport cycle                                                                                        | Figure 1 | Schematic of the transport cycle. A kinetic scheme of substrate (S) interaction with either the outward- (o) or inward- (i) facing transporter (T) and with cotransported substrates. Substrates can be either physiological substrates such as monoamines or amphetamines; co-substrates can be sodium (Na+) or chloride (Cl−). There are several additional reactions: in other words, sequential binding of Na+ ions, chloride, and substrate to the outward-facing conformation, and the corresponding release steps from the inward-facing conformation ([] for a more detailed model). These have been omitted for the sake of clarity. The transporter switches from the outward- to the inward-facing conformation via an occluded state (occ). In the serotonin transporter (SERT) the return through the occluded empty state is contingent on binding of K+ (symbolized by K+ in brackets). The conducting state (Cond) is achieved via an inward-facing conformation []. In the presence of amphetamine, amply supplied internal substrate and elevated internal sodium, the transporter releases substrate by running backwards through the cycle (reaction pathway indicated by red arrows). Burst-like dopamine (DA) effluxing events have been recorded by Kahlig and colleagues [], but their relation to the transport cycle is unclear (indicated by the dashed arrow on the left-hand side).                                                                                                                                                                            | Homo sapiens |\n",
       "\n"
      ],
      "text/plain": [
       "  figid                                      pmcid     \n",
       "1 PMC5653847__41598_2017_14124_Fig8_HTML.jpg PMC5653847\n",
       "2 PMC4187043__zh20191474070013.jpg           PMC4187043\n",
       "3 PMC5746550__rsob-7-170228-g1.jpg           PMC5746550\n",
       "4 PMC4211692__pone.0110875.g008.jpg          PMC4211692\n",
       "5 PMC2588433__nihms78212f8.jpg               PMC2588433\n",
       "6 PMC4502921__emss-63180-f0001.jpg           PMC4502921\n",
       "  filename                       year pathway_score pmc_ranked_result_index\n",
       "1 41598_2017_14124_Fig8_HTML.jpg 2017 0.9682696     133303                 \n",
       "2 zh20191474070013.jpg           2014 0.9657933      79929                 \n",
       "3 rsob-7-170228-g1.jpg           2017 0.9624698      98034                 \n",
       "4 pone.0110875.g008.jpg          2014 0.9667213     142401                 \n",
       "5 nihms78212f8.jpg               NA   0.9667583      67398                 \n",
       "6 emss-63180-f0001.jpg           2015 0.9581629      86454                 \n",
       "  figlink                                           \n",
       "1 /pmc/articles/PMC5653847/figure/Fig8/             \n",
       "2 /pmc/articles/PMC4187043/figure/F13/              \n",
       "3 /pmc/articles/PMC5746550/figure/RSOB170228F1/     \n",
       "4 /pmc/articles/PMC4211692/figure/pone-0110875-g008/\n",
       "5 /pmc/articles/PMC2588433/figure/F8/               \n",
       "6 /pmc/articles/PMC4502921/figure/F1/               \n",
       "  source_f                                                  type.man\n",
       "1 ../data/images/PMC5653847__41598_2017_14124_Fig8_HTML.jpg NA      \n",
       "2 ../data/images/PMC4187043__zh20191474070013.jpg           NA      \n",
       "3 ../data/images/PMC5746550__rsob-7-170228-g1.jpg           NA      \n",
       "4 ../data/images/PMC4211692__pone.0110875.g008.jpg          NA      \n",
       "5 ../data/images/PMC2588433__nihms78212f8.jpg               NA      \n",
       "6 ../data/images/PMC4502921__emss-63180-f0001.jpg           NA      \n",
       "  automl_index\n",
       "1 3012        \n",
       "2 4323        \n",
       "3 6334        \n",
       "4 3808        \n",
       "5 3790        \n",
       "6 9272        \n",
       "  reftext                                                                  \n",
       "1 Céline Barthelemy, et al. Sci Rep. 2017;7:13816.                         \n",
       "2 Yuan Wei, et al. Am J Physiol Renal Physiol. 2014 Oct 1;307(7):F833-F843.\n",
       "3 Georgia R. Frost, et al. Open Biol. 2017 Dec;7(12):170228.               \n",
       "4 Enida Gjoni, et al. PLoS One. 2014;9(10):e110875.                        \n",
       "5 Amanda L. Lewis, et al. J Biol Chem. ;282(38):27562-27571.               \n",
       "6 Harald H. Sitte, et al. Trends Pharmacol Sci. 2015 Jan;36(1):41-50.      \n",
       "  papertitle                                                                                                                                     \n",
       "1 FTY720-induced endocytosis of yeast and human amino acid transporters is preceded by reduction of their inherent activity and TORC1 inhibition.\n",
       "2 Angiotensin II type 2 receptor regulates ROMK-like K+ channel activity in the renal cortical collecting duct during high dietary K+ adaptation.\n",
       "3 The role of astrocytes in amyloid production and Alzheimer's disease.                                                                          \n",
       "4 Glucolipotoxicity Impairs Ceramide Flow from the Endoplasmic Reticulum to the Golgi Apparatus in INS-1 β-Cells.                                \n",
       "5 NeuA sialic acid O-acetylesterase activity modulates O-acetylation of capsular polysaccharides in Group B Streptococcus.                       \n",
       "6 Amphetamines, new psychoactive drugs and the monoamine transporter cycle.                                                                      \n",
       "  figtitle                                                                                                               \n",
       "1 Model of FTY720-induced transporter endocytosis in yeast and human cells                                               \n",
       "2 Stimulatory effect of ANG II on ROMK channel activity mediated via AT2Rs                                               \n",
       "3 AB production                                                                                                          \n",
       "4 Glucolipotoxicity Impairs Ceramide Flow from the Endoplasmic Reticulum to the Golgi Apparatus in INS-1 Beta-Cells      \n",
       "5 NeuA sialic acid O-acetylesterase activity modulates O-acetylation of capsular polysaccharides in Group B Streptococcus\n",
       "6 Schematic of the transport cycle                                                                                       \n",
       "  number  \n",
       "1 Figure 8\n",
       "2 Fig. 13 \n",
       "3 Figure 1\n",
       "4 Figure 8\n",
       "5 Figure 8\n",
       "6 Figure 1\n",
       "  caption                                                                                                                                                                                                                                                                                                                                                                                                                                                                                                                                                                                                                                                                                                                                                                                                                                                                                                                                                                                                                                                                                                                                                                                                                                                                                                                                                                                                                                                                                                                                                                                    \n",
       "1 Model of FTY720-induced transporter endocytosis in yeast and human cells. (A) In yeast, exogenously supplied FTY720 molecules insert into the plasma membrane, thereby causing a decrease of the intrinsic activity of nutrient transporters, including amino acid permeases. The resulting decrease of nutrient uptake causes inhibition of the TORC1 kinase complex. This elicits activation of an unknown mechanism which then somehow stimulates the ability of the α-arrestin-family adaptor proteins and the Rsp5 ubiquitin ligase to promote permease ubiquitylation, triggering permease sorting into the endocytic pathway. (B) In mammalian cells, mTORC1 is regulated by nutrient availability and growth factors (GF). Addition of FTY720 similarly alters the inherent activity of nutrient transporters, including LAT1/SLC7A5, thereby causing mTORC1 inhibition. This reduced mTORC1 signaling contributes to stimulation of a mechanism involving a PP2A phosphatase which can activate a machinery, possibly dependent on ubiquitin, which promotes the endocytosis of nutrient transporters, including LAT1/SLC7A5. The signaling pathway responding to GFs also influences the cell-surface stability of nutrient transporters by regulating both mTORC1 and the PP2A-dependent mechanism under mTORC1 control. The presence of FTY720 inhibits both GF-dependent functions (via a mechanism involving a PP2A phosphatase), thereby contributing further to stimulation of transporter endocytosis.                                                                    \n",
       "2 Proposed signaling pathway by which the stimulatory effect of ANG II on ROMK channel activity in HK-fed rats is mediated via AT2Rs. AT2Rs and AT1Rs cooperate in the renal regulation of K+ excretion. The pathway by which ANG II inhibits ROMK channels in low-K+ (LK)-fed rats was previously reported (). PTK, protein tyrosine kinase; PLC, phospholipase C.                                                                                                                                                                                                                                                                                                                                                                                                                                                                                                                                                                                                                                                                                                                                                                                                                                                                                                                                                                                                                                                                                                                                                                                                                          \n",
       "3 Aβ production. In the amyloidogenic pathway (right), APP is cleaved by BACE followed by γ-secretase which releases Aβ peptides and APP intracellular domain (AICD), which generate the N and C termini of Aβ, respectively. In the non-amyloidogenic pathway (left), APP is cleaved sequentially by α-secretase and γ-secretase, which does not result in the generation of Aβ species.                                                                                                                                                                                                                                                                                                                                                                                                                                                                                                                                                                                                                                                                                                                                                                                                                                                                                                                                                                                                                                                                                                                                                                                                    \n",
       "4 Glucolipotoxicity impairs CERT- and vesicular-mediated Cer traffic. Glucolipotoxicity decrease the amount of active CERT significantly decreasing a) the total amount of the protein and b) the phosphorylation of CERT SR motif that is no longer able to localize at the Golgi apparatus. Moreover glucolipotoxicity inhibits PI3K/Akt pathway that could in turn impairs vesicular trafficking of Cer from the ER to the Golgi apparatus. Both transport systems contribute to the accumulation of Cer at the ER, thereby inducing ER stress. Furthermore ceramide synthase 4 (CerS4)  and serine palmitoyltransferase (SPT) , , both residing in the endoplasmic reticulum (ER), have been shown to be involved in regulating Cer levels in β-cells in response to lipotoxicity and/or glucolipotoxicity.                                                                                                                                                                                                                                                                                                                                                                                                                                                                                                                                                                                                                                                                                                                                                                              \n",
       "5 Bacterial Sia biosynthesis can be divided into three main parts: 1) Sia biosynthesis and degradation, 2) intracellular Sia O-acetylation and de-O-acetylation, and 3) polysaccharide biosynthesis, polymerization, and O-acetylation. For simplicity, only 2) and 3) are shown (above and below the dotted line respectively). With respect to 1), these Sia-expressing pathogens use a homologous 3-enzyme pathway to generate N-acetylmannosamine (ManNAc) by epimerization of UDP-N-acetylglucosamine, condense phosphoenolpyruvate with ManNAc to generate N-acetylneuraminic acid (Neu5Ac), then activate Neu5Ac by transfer of the anomeric oxygen to the α-phosphate of CTP. Only E. coli possesses Sia degradation machinery. In GBS, cpsK and cpsH encode the sialyltransferase and repeating unit polymerase respectively. Intracellular Sia O-acetylation and de-O-acetylation is limited to GBS and E. coli, both of which possess the NeuD Sia O-acetyltransferase and NeuA Sia-O-acetyl esterase. The N. meningitidis pathway is more stream-lined in appearance due to the lack of an endogenous O-acetylation/de-O-acetylation cycle. Despite the pronounced difference between N. meningitidis (serogroup B) and E. coli K1 in intracellular O-acetylation cycling, these pathogens share an identical poly-Sia antigen made up of α2–8-linked Neu5Ac residues (polymerized by SiaD and NeuS respectively) that can be O-acetylated after capsule polymerization (by OatWY or NeuO respectively). See text for further discussion. Model is based on references (, , , –).\n",
       "6 Schematic of the transport cycle. A kinetic scheme of substrate (S) interaction with either the outward- (o) or inward- (i) facing transporter (T) and with cotransported substrates. Substrates can be either physiological substrates such as monoamines or amphetamines; co-substrates can be sodium (Na+) or chloride (Cl−). There are several additional reactions: in other words, sequential binding of Na+ ions, chloride, and substrate to the outward-facing conformation, and the corresponding release steps from the inward-facing conformation ([] for a more detailed model). These have been omitted for the sake of clarity. The transporter switches from the outward- to the inward-facing conformation via an occluded state (occ). In the serotonin transporter (SERT) the return through the occluded empty state is contingent on binding of K+ (symbolized by K+ in brackets). The conducting state (Cond) is achieved via an inward-facing conformation []. In the presence of amphetamine, amply supplied internal substrate and elevated internal sodium, the transporter releases substrate by running backwards through the cycle (reaction pathway indicated by red arrows). Burst-like dopamine (DA) effluxing events have been recorded by Kahlig and colleagues [], but their relation to the transport cycle is unclear (indicated by the dashed arrow on the left-hand side).                                                                                                                                                                           \n",
       "  organism    \n",
       "1 Homo sapiens\n",
       "2 Homo sapiens\n",
       "3 Homo sapiens\n",
       "4 Homo sapiens\n",
       "5 Homo sapiens\n",
       "6 Homo sapiens"
      ]
     },
     "metadata": {},
     "output_type": "display_data"
    }
   ],
   "source": [
    "pfocr_figures_df <- readRDS(\"~/Dropbox (Gladstone)/Documents/PFOCR_25Years/pfocr_figures.rds\")\n",
    "head(pfocr_figures_df)"
   ]
  },
  {
   "cell_type": "code",
   "execution_count": 7,
   "metadata": {},
   "outputs": [
    {
     "data": {
      "text/html": [
       "<table>\n",
       "<caption>A data.frame: 6 x 7</caption>\n",
       "<thead>\n",
       "\t<tr><th></th><th scope=col>figid</th><th scope=col>pmcid</th><th scope=col>word</th><th scope=col>symbol</th><th scope=col>source</th><th scope=col>hgnc_symbol</th><th scope=col>entrez</th></tr>\n",
       "\t<tr><th></th><th scope=col>&lt;chr&gt;</th><th scope=col>&lt;chr&gt;</th><th scope=col>&lt;chr&gt;</th><th scope=col>&lt;chr&gt;</th><th scope=col>&lt;chr&gt;</th><th scope=col>&lt;chr&gt;</th><th scope=col>&lt;int&gt;</th></tr>\n",
       "</thead>\n",
       "<tbody>\n",
       "\t<tr><th scope=row>1</th><td>PMC100003__mb2410470011.jpg</td><td>PMC100003</td><td>Ga12,Gaq</td><td>G-ALPHA-q</td><td>hgnc_alias_symbol </td><td>GNAQ  </td><td>2776</td></tr>\n",
       "\t<tr><th scope=row>2</th><td>PMC100003__mb2410470011.jpg</td><td>PMC100003</td><td>Etk     </td><td>ETK      </td><td>hgnc_alias_symbol </td><td>BMX   </td><td> 660</td></tr>\n",
       "\t<tr><th scope=row>3</th><td>PMC100003__mb2410470011.jpg</td><td>PMC100003</td><td>FAK     </td><td>FAK      </td><td>hgnc_alias_symbol </td><td>PTK2  </td><td>5747</td></tr>\n",
       "\t<tr><th scope=row>4</th><td>PMC100003__mb2410470011.jpg</td><td>PMC100003</td><td>AR*     </td><td>AR       </td><td>hgnc_symbol       </td><td>AR    </td><td> 367</td></tr>\n",
       "\t<tr><th scope=row>5</th><td>PMC100003__mb2410470011.jpg</td><td>PMC100003</td><td>(Src    </td><td>SRC      </td><td>hgnc_symbol       </td><td>SRC   </td><td>6714</td></tr>\n",
       "\t<tr><th scope=row>6</th><td>PMC100005__mb2410575011.jpg</td><td>PMC100005</td><td>SHC/PI3K</td><td>PI3K     </td><td>bioentities_symbol</td><td>PIK3CD</td><td>5293</td></tr>\n",
       "</tbody>\n",
       "</table>\n"
      ],
      "text/latex": [
       "A data.frame: 6 x 7\n",
       "\\begin{tabular}{r|lllllll}\n",
       "  & figid & pmcid & word & symbol & source & hgnc\\_symbol & entrez\\\\\n",
       "  & <chr> & <chr> & <chr> & <chr> & <chr> & <chr> & <int>\\\\\n",
       "\\hline\n",
       "\t1 & PMC100003\\_\\_mb2410470011.jpg & PMC100003 & Ga12,Gaq & G-ALPHA-q & hgnc\\_alias\\_symbol  & GNAQ   & 2776\\\\\n",
       "\t2 & PMC100003\\_\\_mb2410470011.jpg & PMC100003 & Etk      & ETK       & hgnc\\_alias\\_symbol  & BMX    &  660\\\\\n",
       "\t3 & PMC100003\\_\\_mb2410470011.jpg & PMC100003 & FAK      & FAK       & hgnc\\_alias\\_symbol  & PTK2   & 5747\\\\\n",
       "\t4 & PMC100003\\_\\_mb2410470011.jpg & PMC100003 & AR*      & AR        & hgnc\\_symbol        & AR     &  367\\\\\n",
       "\t5 & PMC100003\\_\\_mb2410470011.jpg & PMC100003 & (Src     & SRC       & hgnc\\_symbol        & SRC    & 6714\\\\\n",
       "\t6 & PMC100005\\_\\_mb2410575011.jpg & PMC100005 & SHC/PI3K & PI3K      & bioentities\\_symbol & PIK3CD & 5293\\\\\n",
       "\\end{tabular}\n"
      ],
      "text/markdown": [
       "\n",
       "A data.frame: 6 x 7\n",
       "\n",
       "| <!--/--> | figid &lt;chr&gt; | pmcid &lt;chr&gt; | word &lt;chr&gt; | symbol &lt;chr&gt; | source &lt;chr&gt; | hgnc_symbol &lt;chr&gt; | entrez &lt;int&gt; |\n",
       "|---|---|---|---|---|---|---|---|\n",
       "| 1 | PMC100003__mb2410470011.jpg | PMC100003 | Ga12,Gaq | G-ALPHA-q | hgnc_alias_symbol  | GNAQ   | 2776 |\n",
       "| 2 | PMC100003__mb2410470011.jpg | PMC100003 | Etk      | ETK       | hgnc_alias_symbol  | BMX    |  660 |\n",
       "| 3 | PMC100003__mb2410470011.jpg | PMC100003 | FAK      | FAK       | hgnc_alias_symbol  | PTK2   | 5747 |\n",
       "| 4 | PMC100003__mb2410470011.jpg | PMC100003 | AR*      | AR        | hgnc_symbol        | AR     |  367 |\n",
       "| 5 | PMC100003__mb2410470011.jpg | PMC100003 | (Src     | SRC       | hgnc_symbol        | SRC    | 6714 |\n",
       "| 6 | PMC100005__mb2410575011.jpg | PMC100005 | SHC/PI3K | PI3K      | bioentities_symbol | PIK3CD | 5293 |\n",
       "\n"
      ],
      "text/plain": [
       "  figid                       pmcid     word     symbol    source            \n",
       "1 PMC100003__mb2410470011.jpg PMC100003 Ga12,Gaq G-ALPHA-q hgnc_alias_symbol \n",
       "2 PMC100003__mb2410470011.jpg PMC100003 Etk      ETK       hgnc_alias_symbol \n",
       "3 PMC100003__mb2410470011.jpg PMC100003 FAK      FAK       hgnc_alias_symbol \n",
       "4 PMC100003__mb2410470011.jpg PMC100003 AR*      AR        hgnc_symbol       \n",
       "5 PMC100003__mb2410470011.jpg PMC100003 (Src     SRC       hgnc_symbol       \n",
       "6 PMC100005__mb2410575011.jpg PMC100005 SHC/PI3K PI3K      bioentities_symbol\n",
       "  hgnc_symbol entrez\n",
       "1 GNAQ        2776  \n",
       "2 BMX          660  \n",
       "3 PTK2        5747  \n",
       "4 AR           367  \n",
       "5 SRC         6714  \n",
       "6 PIK3CD      5293  "
      ]
     },
     "metadata": {},
     "output_type": "display_data"
    }
   ],
   "source": [
    "pfocr_genes_df <- readRDS(\"~/Dropbox (Gladstone)/Documents/PFOCR_25Years/pfocr_genes.rds\")\n",
    "head(pfocr_genes_df)"
   ]
  },
  {
   "cell_type": "code",
   "execution_count": 8,
   "metadata": {},
   "outputs": [
    {
     "data": {
      "text/html": [
       "<style>\n",
       ".list-inline {list-style: none; margin:0; padding: 0}\n",
       ".list-inline>li {display: inline-block}\n",
       ".list-inline>li:not(:last-child)::after {content: \"\\00b7\"; padding: 0 .5ex}\n",
       "</style>\n",
       "<ol class=list-inline><li>'figid'</li><li>'pmcid'</li><li>'word'</li><li>'symbol'</li><li>'source'</li><li>'hgnc_symbol'</li><li>'entrez'</li></ol>\n"
      ],
      "text/latex": [
       "\\begin{enumerate*}\n",
       "\\item 'figid'\n",
       "\\item 'pmcid'\n",
       "\\item 'word'\n",
       "\\item 'symbol'\n",
       "\\item 'source'\n",
       "\\item 'hgnc\\_symbol'\n",
       "\\item 'entrez'\n",
       "\\end{enumerate*}\n"
      ],
      "text/markdown": [
       "1. 'figid'\n",
       "2. 'pmcid'\n",
       "3. 'word'\n",
       "4. 'symbol'\n",
       "5. 'source'\n",
       "6. 'hgnc_symbol'\n",
       "7. 'entrez'\n",
       "\n",
       "\n"
      ],
      "text/plain": [
       "[1] \"figid\"       \"pmcid\"       \"word\"        \"symbol\"      \"source\"     \n",
       "[6] \"hgnc_symbol\" \"entrez\"     "
      ]
     },
     "metadata": {},
     "output_type": "display_data"
    }
   ],
   "source": [
    "colnames(pfocr_genes_df)"
   ]
  },
  {
   "cell_type": "code",
   "execution_count": 9,
   "metadata": {},
   "outputs": [
    {
     "data": {
      "text/html": [
       "<table>\n",
       "<caption>A data.frame: 10 x 7</caption>\n",
       "<thead>\n",
       "\t<tr><th></th><th scope=col>figid</th><th scope=col>pmcid</th><th scope=col>word</th><th scope=col>symbol</th><th scope=col>source</th><th scope=col>hgnc_symbol</th><th scope=col>entrez</th></tr>\n",
       "\t<tr><th></th><th scope=col>&lt;chr&gt;</th><th scope=col>&lt;chr&gt;</th><th scope=col>&lt;chr&gt;</th><th scope=col>&lt;chr&gt;</th><th scope=col>&lt;chr&gt;</th><th scope=col>&lt;chr&gt;</th><th scope=col>&lt;int&gt;</th></tr>\n",
       "</thead>\n",
       "<tbody>\n",
       "\t<tr><th scope=row>847114</th><td>PMC5752509__oncotarget-08-109135-g007.jpg</td><td>PMC5752509</td><td>RAR  </td><td>RAR  </td><td>bioentities_symbol</td><td>RARB  </td><td>5915</td></tr>\n",
       "\t<tr><th scope=row>847115</th><td>PMC5752509__oncotarget-08-109135-g007.jpg</td><td>PMC5752509</td><td>RAR  </td><td>RAR  </td><td>bioentities_symbol</td><td>RARG  </td><td>5916</td></tr>\n",
       "\t<tr><th scope=row>847116</th><td>PMC5752509__oncotarget-08-109135-g007.jpg</td><td>PMC5752509</td><td>P38  </td><td>p38  </td><td>bioentities_symbol</td><td>MAPK13</td><td>5603</td></tr>\n",
       "\t<tr><th scope=row>847117</th><td>PMC5752509__oncotarget-08-109135-g007.jpg</td><td>PMC5752509</td><td>P38  </td><td>p38  </td><td>bioentities_symbol</td><td>MAPK12</td><td>6300</td></tr>\n",
       "\t<tr><th scope=row>847118</th><td>PMC5752509__oncotarget-08-109135-g007.jpg</td><td>PMC5752509</td><td>P38  </td><td>p38  </td><td>bioentities_symbol</td><td>MAPK14</td><td>1432</td></tr>\n",
       "\t<tr><th scope=row>847119</th><td>PMC5752509__oncotarget-08-109135-g007.jpg</td><td>PMC5752509</td><td>P38  </td><td>p38  </td><td>bioentities_symbol</td><td>MAPK11</td><td>5600</td></tr>\n",
       "\t<tr><th scope=row>847120</th><td>PMC5752509__oncotarget-08-109135-g007.jpg</td><td>PMC5752509</td><td>RARa </td><td>RARA </td><td>hgnc_symbol       </td><td>RARA  </td><td>5914</td></tr>\n",
       "\t<tr><th scope=row>847121</th><td>PMC5752509__oncotarget-08-109135-g007.jpg</td><td>PMC5752509</td><td>Src  </td><td>SRC  </td><td>hgnc_symbol       </td><td>SRC   </td><td>6714</td></tr>\n",
       "\t<tr><th scope=row>847122</th><td>PMC5752509__oncotarget-08-109135-g007.jpg</td><td>PMC5752509</td><td>RAR  </td><td>RAR  </td><td>bioentities_symbol</td><td>RARA  </td><td>5914</td></tr>\n",
       "\t<tr><th scope=row>847123</th><td>PMC5752509__oncotarget-08-109135-g007.jpg</td><td>PMC5752509</td><td>GPR40</td><td>GPR40</td><td>hgnc_prev_symbol  </td><td>FFAR1 </td><td>2864</td></tr>\n",
       "</tbody>\n",
       "</table>\n"
      ],
      "text/latex": [
       "A data.frame: 10 x 7\n",
       "\\begin{tabular}{r|lllllll}\n",
       "  & figid & pmcid & word & symbol & source & hgnc\\_symbol & entrez\\\\\n",
       "  & <chr> & <chr> & <chr> & <chr> & <chr> & <chr> & <int>\\\\\n",
       "\\hline\n",
       "\t847114 & PMC5752509\\_\\_oncotarget-08-109135-g007.jpg & PMC5752509 & RAR   & RAR   & bioentities\\_symbol & RARB   & 5915\\\\\n",
       "\t847115 & PMC5752509\\_\\_oncotarget-08-109135-g007.jpg & PMC5752509 & RAR   & RAR   & bioentities\\_symbol & RARG   & 5916\\\\\n",
       "\t847116 & PMC5752509\\_\\_oncotarget-08-109135-g007.jpg & PMC5752509 & P38   & p38   & bioentities\\_symbol & MAPK13 & 5603\\\\\n",
       "\t847117 & PMC5752509\\_\\_oncotarget-08-109135-g007.jpg & PMC5752509 & P38   & p38   & bioentities\\_symbol & MAPK12 & 6300\\\\\n",
       "\t847118 & PMC5752509\\_\\_oncotarget-08-109135-g007.jpg & PMC5752509 & P38   & p38   & bioentities\\_symbol & MAPK14 & 1432\\\\\n",
       "\t847119 & PMC5752509\\_\\_oncotarget-08-109135-g007.jpg & PMC5752509 & P38   & p38   & bioentities\\_symbol & MAPK11 & 5600\\\\\n",
       "\t847120 & PMC5752509\\_\\_oncotarget-08-109135-g007.jpg & PMC5752509 & RARa  & RARA  & hgnc\\_symbol        & RARA   & 5914\\\\\n",
       "\t847121 & PMC5752509\\_\\_oncotarget-08-109135-g007.jpg & PMC5752509 & Src   & SRC   & hgnc\\_symbol        & SRC    & 6714\\\\\n",
       "\t847122 & PMC5752509\\_\\_oncotarget-08-109135-g007.jpg & PMC5752509 & RAR   & RAR   & bioentities\\_symbol & RARA   & 5914\\\\\n",
       "\t847123 & PMC5752509\\_\\_oncotarget-08-109135-g007.jpg & PMC5752509 & GPR40 & GPR40 & hgnc\\_prev\\_symbol   & FFAR1  & 2864\\\\\n",
       "\\end{tabular}\n"
      ],
      "text/markdown": [
       "\n",
       "A data.frame: 10 x 7\n",
       "\n",
       "| <!--/--> | figid &lt;chr&gt; | pmcid &lt;chr&gt; | word &lt;chr&gt; | symbol &lt;chr&gt; | source &lt;chr&gt; | hgnc_symbol &lt;chr&gt; | entrez &lt;int&gt; |\n",
       "|---|---|---|---|---|---|---|---|\n",
       "| 847114 | PMC5752509__oncotarget-08-109135-g007.jpg | PMC5752509 | RAR   | RAR   | bioentities_symbol | RARB   | 5915 |\n",
       "| 847115 | PMC5752509__oncotarget-08-109135-g007.jpg | PMC5752509 | RAR   | RAR   | bioentities_symbol | RARG   | 5916 |\n",
       "| 847116 | PMC5752509__oncotarget-08-109135-g007.jpg | PMC5752509 | P38   | p38   | bioentities_symbol | MAPK13 | 5603 |\n",
       "| 847117 | PMC5752509__oncotarget-08-109135-g007.jpg | PMC5752509 | P38   | p38   | bioentities_symbol | MAPK12 | 6300 |\n",
       "| 847118 | PMC5752509__oncotarget-08-109135-g007.jpg | PMC5752509 | P38   | p38   | bioentities_symbol | MAPK14 | 1432 |\n",
       "| 847119 | PMC5752509__oncotarget-08-109135-g007.jpg | PMC5752509 | P38   | p38   | bioentities_symbol | MAPK11 | 5600 |\n",
       "| 847120 | PMC5752509__oncotarget-08-109135-g007.jpg | PMC5752509 | RARa  | RARA  | hgnc_symbol        | RARA   | 5914 |\n",
       "| 847121 | PMC5752509__oncotarget-08-109135-g007.jpg | PMC5752509 | Src   | SRC   | hgnc_symbol        | SRC    | 6714 |\n",
       "| 847122 | PMC5752509__oncotarget-08-109135-g007.jpg | PMC5752509 | RAR   | RAR   | bioentities_symbol | RARA   | 5914 |\n",
       "| 847123 | PMC5752509__oncotarget-08-109135-g007.jpg | PMC5752509 | GPR40 | GPR40 | hgnc_prev_symbol   | FFAR1  | 2864 |\n",
       "\n"
      ],
      "text/plain": [
       "       figid                                     pmcid      word  symbol\n",
       "847114 PMC5752509__oncotarget-08-109135-g007.jpg PMC5752509 RAR   RAR   \n",
       "847115 PMC5752509__oncotarget-08-109135-g007.jpg PMC5752509 RAR   RAR   \n",
       "847116 PMC5752509__oncotarget-08-109135-g007.jpg PMC5752509 P38   p38   \n",
       "847117 PMC5752509__oncotarget-08-109135-g007.jpg PMC5752509 P38   p38   \n",
       "847118 PMC5752509__oncotarget-08-109135-g007.jpg PMC5752509 P38   p38   \n",
       "847119 PMC5752509__oncotarget-08-109135-g007.jpg PMC5752509 P38   p38   \n",
       "847120 PMC5752509__oncotarget-08-109135-g007.jpg PMC5752509 RARa  RARA  \n",
       "847121 PMC5752509__oncotarget-08-109135-g007.jpg PMC5752509 Src   SRC   \n",
       "847122 PMC5752509__oncotarget-08-109135-g007.jpg PMC5752509 RAR   RAR   \n",
       "847123 PMC5752509__oncotarget-08-109135-g007.jpg PMC5752509 GPR40 GPR40 \n",
       "       source             hgnc_symbol entrez\n",
       "847114 bioentities_symbol RARB        5915  \n",
       "847115 bioentities_symbol RARG        5916  \n",
       "847116 bioentities_symbol MAPK13      5603  \n",
       "847117 bioentities_symbol MAPK12      6300  \n",
       "847118 bioentities_symbol MAPK14      1432  \n",
       "847119 bioentities_symbol MAPK11      5600  \n",
       "847120 hgnc_symbol        RARA        5914  \n",
       "847121 hgnc_symbol        SRC         6714  \n",
       "847122 bioentities_symbol RARA        5914  \n",
       "847123 hgnc_prev_symbol   FFAR1       2864  "
      ]
     },
     "metadata": {},
     "output_type": "display_data"
    }
   ],
   "source": [
    "# a figid that's in AP but not AR\n",
    "pfocr_genes_df[pfocr_genes_df$figid == \"PMC5752509__oncotarget-08-109135-g007.jpg\", ]"
   ]
  },
  {
   "cell_type": "code",
   "execution_count": 10,
   "metadata": {},
   "outputs": [
    {
     "data": {
      "text/html": [
       "<style>\n",
       ".list-inline {list-style: none; margin:0; padding: 0}\n",
       ".list-inline>li {display: inline-block}\n",
       ".list-inline>li:not(:last-child)::after {content: \"\\00b7\"; padding: 0 .5ex}\n",
       "</style>\n",
       "<ol class=list-inline><li>5915</li><li>5916</li><li>5603</li><li>6300</li><li>1432</li><li>5600</li><li>5914</li><li>6714</li><li>2864</li></ol>\n"
      ],
      "text/latex": [
       "\\begin{enumerate*}\n",
       "\\item 5915\n",
       "\\item 5916\n",
       "\\item 5603\n",
       "\\item 6300\n",
       "\\item 1432\n",
       "\\item 5600\n",
       "\\item 5914\n",
       "\\item 6714\n",
       "\\item 2864\n",
       "\\end{enumerate*}\n"
      ],
      "text/markdown": [
       "1. 5915\n",
       "2. 5916\n",
       "3. 5603\n",
       "4. 6300\n",
       "5. 1432\n",
       "6. 5600\n",
       "7. 5914\n",
       "8. 6714\n",
       "9. 2864\n",
       "\n",
       "\n"
      ],
      "text/plain": [
       "[1] 5915 5916 5603 6300 1432 5600 5914 6714 2864"
      ]
     },
     "metadata": {},
     "output_type": "display_data"
    }
   ],
   "source": [
    "unique(pfocr_genes_df[pfocr_genes_df$figid == \"PMC5752509__oncotarget-08-109135-g007.jpg\", ]$entrez)"
   ]
  },
  {
   "cell_type": "code",
   "execution_count": 11,
   "metadata": {},
   "outputs": [
    {
     "data": {
      "text/html": [
       "<style>\n",
       ".list-inline {list-style: none; margin:0; padding: 0}\n",
       ".list-inline>li {display: inline-block}\n",
       ".list-inline>li:not(:last-child)::after {content: \"\\00b7\"; padding: 0 .5ex}\n",
       "</style>\n",
       "<ol class=list-inline><li>728642</li><li>1024</li><li>1022</li><li>1018</li><li>6792</li><li>23552</li><li>1025</li><li>1021</li><li>1017</li><li>8558</li><li>51755</li><li>23097</li><li>1020</li><li>1119</li><li>5128</li><li>1019</li><li>8814</li><li>8999</li><li>5218</li><li>8621</li><li>65061</li><li>5127</li><li>984</li><li>5129</li><li>344387</li><li>51265</li><li>983</li></ol>\n"
      ],
      "text/latex": [
       "\\begin{enumerate*}\n",
       "\\item 728642\n",
       "\\item 1024\n",
       "\\item 1022\n",
       "\\item 1018\n",
       "\\item 6792\n",
       "\\item 23552\n",
       "\\item 1025\n",
       "\\item 1021\n",
       "\\item 1017\n",
       "\\item 8558\n",
       "\\item 51755\n",
       "\\item 23097\n",
       "\\item 1020\n",
       "\\item 1119\n",
       "\\item 5128\n",
       "\\item 1019\n",
       "\\item 8814\n",
       "\\item 8999\n",
       "\\item 5218\n",
       "\\item 8621\n",
       "\\item 65061\n",
       "\\item 5127\n",
       "\\item 984\n",
       "\\item 5129\n",
       "\\item 344387\n",
       "\\item 51265\n",
       "\\item 983\n",
       "\\end{enumerate*}\n"
      ],
      "text/markdown": [
       "1. 728642\n",
       "2. 1024\n",
       "3. 1022\n",
       "4. 1018\n",
       "5. 6792\n",
       "6. 23552\n",
       "7. 1025\n",
       "8. 1021\n",
       "9. 1017\n",
       "10. 8558\n",
       "11. 51755\n",
       "12. 23097\n",
       "13. 1020\n",
       "14. 1119\n",
       "15. 5128\n",
       "16. 1019\n",
       "17. 8814\n",
       "18. 8999\n",
       "19. 5218\n",
       "20. 8621\n",
       "21. 65061\n",
       "22. 5127\n",
       "23. 984\n",
       "24. 5129\n",
       "25. 344387\n",
       "26. 51265\n",
       "27. 983\n",
       "\n",
       "\n"
      ],
      "text/plain": [
       " [1] 728642   1024   1022   1018   6792  23552   1025   1021   1017   8558\n",
       "[11]  51755  23097   1020   1119   5128   1019   8814   8999   5218   8621\n",
       "[21]  65061   5127    984   5129 344387  51265    983"
      ]
     },
     "metadata": {},
     "output_type": "display_data"
    }
   ],
   "source": [
    "unique(pfocr_genes_df[pfocr_genes_df$figid == \"PMC4929164__294_2016_565_Fig2_HTML.jpg\", ]$entrez)"
   ]
  },
  {
   "cell_type": "code",
   "execution_count": 12,
   "metadata": {},
   "outputs": [
    {
     "data": {
      "text/html": [
       "<style>\n",
       ".list-inline {list-style: none; margin:0; padding: 0}\n",
       ".list-inline>li {display: inline-block}\n",
       ".list-inline>li:not(:last-child)::after {content: \"\\00b7\"; padding: 0 .5ex}\n",
       "</style>\n",
       "<ol class=list-inline><li>5883</li><li>5980</li><li>11200</li><li>5893</li><li>10111</li><li>5888</li><li>546</li><li>472</li><li>2521</li><li>7376</li><li>545</li><li>5884</li></ol>\n"
      ],
      "text/latex": [
       "\\begin{enumerate*}\n",
       "\\item 5883\n",
       "\\item 5980\n",
       "\\item 11200\n",
       "\\item 5893\n",
       "\\item 10111\n",
       "\\item 5888\n",
       "\\item 546\n",
       "\\item 472\n",
       "\\item 2521\n",
       "\\item 7376\n",
       "\\item 545\n",
       "\\item 5884\n",
       "\\end{enumerate*}\n"
      ],
      "text/markdown": [
       "1. 5883\n",
       "2. 5980\n",
       "3. 11200\n",
       "4. 5893\n",
       "5. 10111\n",
       "6. 5888\n",
       "7. 546\n",
       "8. 472\n",
       "9. 2521\n",
       "10. 7376\n",
       "11. 545\n",
       "12. 5884\n",
       "\n",
       "\n"
      ],
      "text/plain": [
       " [1]  5883  5980 11200  5893 10111  5888   546   472  2521  7376   545  5884"
      ]
     },
     "metadata": {},
     "output_type": "display_data"
    }
   ],
   "source": [
    "unique(pfocr_genes_df[pfocr_genes_df$figid == \"PMC101242__gkf20707.jpg\", ]$entrez)"
   ]
  },
  {
   "cell_type": "code",
   "execution_count": 13,
   "metadata": {},
   "outputs": [
    {
     "data": {
      "text/html": [
       "<style>\n",
       ".list-inline {list-style: none; margin:0; padding: 0}\n",
       ".list-inline>li {display: inline-block}\n",
       ".list-inline>li:not(:last-child)::after {content: \"\\00b7\"; padding: 0 .5ex}\n",
       "</style>\n",
       "<ol class=list-inline><li>5883</li><li>5980</li><li>11200</li><li>5893</li><li>10111</li><li>5888</li><li>546</li><li>472</li><li>2521</li><li>7376</li><li>545</li><li>5884</li><li>5884</li></ol>\n"
      ],
      "text/latex": [
       "\\begin{enumerate*}\n",
       "\\item 5883\n",
       "\\item 5980\n",
       "\\item 11200\n",
       "\\item 5893\n",
       "\\item 10111\n",
       "\\item 5888\n",
       "\\item 546\n",
       "\\item 472\n",
       "\\item 2521\n",
       "\\item 7376\n",
       "\\item 545\n",
       "\\item 5884\n",
       "\\item 5884\n",
       "\\end{enumerate*}\n"
      ],
      "text/markdown": [
       "1. 5883\n",
       "2. 5980\n",
       "3. 11200\n",
       "4. 5893\n",
       "5. 10111\n",
       "6. 5888\n",
       "7. 546\n",
       "8. 472\n",
       "9. 2521\n",
       "10. 7376\n",
       "11. 545\n",
       "12. 5884\n",
       "13. 5884\n",
       "\n",
       "\n"
      ],
      "text/plain": [
       " [1]  5883  5980 11200  5893 10111  5888   546   472  2521  7376   545  5884\n",
       "[13]  5884"
      ]
     },
     "metadata": {},
     "output_type": "display_data"
    }
   ],
   "source": [
    "pfocr_genes_df[pfocr_genes_df$figid == \"PMC101242__gkf20707.jpg\", ]$entrez"
   ]
  },
  {
   "cell_type": "code",
   "execution_count": null,
   "metadata": {},
   "outputs": [],
   "source": []
  }
 ],
 "metadata": {
  "kernelspec": {
   "display_name": "R - mypkgs",
   "language": "R",
   "name": "ir_mypkgs"
  },
  "language_info": {
   "codemirror_mode": "r",
   "file_extension": ".r",
   "mimetype": "text/x-r-source",
   "name": "R",
   "pygments_lexer": "r",
   "version": "4.0.4"
  }
 },
 "nbformat": 4,
 "nbformat_minor": 4
}
