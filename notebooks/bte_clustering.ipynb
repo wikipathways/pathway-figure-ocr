{
 "cells": [
  {
   "cell_type": "raw",
   "metadata": {
    "colab": {
     "base_uri": "https://localhost:8080/"
    },
    "id": "UZZqPBS0UppM",
    "outputId": "281abfa6-b935-4d99-a267-e237900aa5dc"
   },
   "source": [
    "!pip install numpy pandas requests requests_cache SetSimilaritySearch"
   ]
  },
  {
   "cell_type": "code",
   "execution_count": 1,
   "metadata": {
    "id": "uG7JfetZjcXH"
   },
   "outputs": [],
   "source": [
    "from copy import copy,deepcopy\n",
    "from itertools import combinations\n",
    "import json\n",
    "import textwrap\n",
    "\n",
    "\n",
    "from fisher import pvalue_npy\n",
    "import matplotlib.pyplot as plt\n",
    "import networkx as nx\n",
    "import pandas as pd"
   ]
  },
  {
   "cell_type": "code",
   "execution_count": 2,
   "metadata": {
    "id": "rzoUUSDeVz0a"
   },
   "outputs": [],
   "source": [
    "import requests\n",
    "import requests_cache\n",
    "\n",
    "\n",
    "requests_cache.install_cache(\n",
    "    \"pfocr_cache\",\n",
    "    allowable_methods=['GET', 'POST'],\n",
    "    stale_if_error=False,\n",
    ")\n",
    "#requests_cache.remove_expired_responses()"
   ]
  },
  {
   "cell_type": "markdown",
   "metadata": {
    "id": "j9DiSC9NU_Fa"
   },
   "source": [
    "# BTE Cluster by All TRAPI Curies Fisher Exact Test\n",
    "\n",
    "TLDR: skip ahead to the \"View TRAPI results and figures\" section.\n",
    "\n",
    "Note this currently only works on queries with nodes of categories supported by PFOCR, e.g., `biolink:Gene`, `biolink:SmallMolecule`, `biolink:Disease`. TODO: update the Fisher's Exact test to work with node categories not in PFOCR."
   ]
  },
  {
   "cell_type": "markdown",
   "metadata": {
    "id": "TxW41muraAFL"
   },
   "source": [
    "## Get BTE TRAPI Results"
   ]
  },
  {
   "cell_type": "code",
   "execution_count": 3,
   "metadata": {
    "colab": {
     "base_uri": "https://localhost:8080/"
    },
    "id": "N71NYHWeVCj9",
    "outputId": "d8c2c9ae-9750-455c-ff61-b357b4ff0b2d",
    "tags": []
   },
   "outputs": [
    {
     "name": "stdout",
     "output_type": "stream",
     "text": [
      "200\n",
      "got response from cache\n"
     ]
    }
   ],
   "source": [
    "query = {\n",
    "    \"message\": {\n",
    "        \"query_graph\": {\n",
    "            \"edges\": {\n",
    "                \"e0\": {\n",
    "                    \"subject\": \"n0\",\n",
    "                    \"object\": \"n1\",\n",
    "                    \"predicates\": [\n",
    "                        \"biolink:entity_regulates_entity\",\n",
    "                        \"biolink:genetically_interacts_with\"\n",
    "                    ]\n",
    "                },\n",
    "                \"e1\": {\n",
    "                    \"subject\": \"n1\",\n",
    "                    \"object\": \"n2\",\n",
    "                    \"predicates\": [\n",
    "                        \"biolink:related_to\"\n",
    "                    ]\n",
    "                }\n",
    "            },\n",
    "            \"nodes\": {\n",
    "                \"n0\": {\n",
    "                    \"ids\": [\n",
    "                        \"NCBIGene:5872\"\n",
    "                    ],\n",
    "                    \"categories\": [\n",
    "                        \"biolink:Gene\"\n",
    "                    ]\n",
    "                },\n",
    "                \"n1\": {\n",
    "                    \"categories\": [\n",
    "                        \"biolink:Gene\"\n",
    "                    ],\n",
    "                },\n",
    "                \"n2\": {\n",
    "                    \"categories\": [\n",
    "                        \"biolink:SmallMolecule\"\n",
    "                    ]\n",
    "                }\n",
    "            }\n",
    "        }\n",
    "    }\n",
    "}\n",
    "\n",
    "trapi_response = requests.post(\"http://localhost:3000/v1/query\", json=query)\n",
    "#trapi_response = requests.post(\"https://api.bte.ncats.io/v1/query\", json=query)\n",
    "#trapi_response = requests.post(\"https://arax.ncats.io/api/rtxkg2/v1.2/query\", json=query)\n",
    "#trapi_response = requests.post(\"https://arax.ncats.io/api/arax/v1.2/query\", json=query)\n",
    "print(trapi_response.status_code)\n",
    "if trapi_response.status_code != 200:\n",
    "    raise Exception(trapi_response.text)\n",
    "if trapi_response.from_cache:\n",
    "    print(f\"got response from cache\")\n",
    "\n",
    "trapi_message = trapi_response.json()[\"message\"]\n",
    "\n",
    "if len(trapi_message[\"results\"]) == 0:\n",
    "    raise Exception(f'No results returned')"
   ]
  },
  {
   "cell_type": "raw",
   "metadata": {},
   "source": [
    "print(json.dumps(query))"
   ]
  },
  {
   "cell_type": "code",
   "execution_count": 4,
   "metadata": {},
   "outputs": [
    {
     "name": "stdout",
     "output_type": "stream",
     "text": [
      "Analyze this GraphML file in Cytoscape: ./bte_sleeve_query_template.graphml\n"
     ]
    },
    {
     "data": {
      "text/plain": [
       "{('n0',\n",
       "  'n1'): Text(-0.18103945782702552, -0.4999999999999999, 'biolink:entity_regulates_entity\\nbiolink:genetically_interacts_with'),\n",
       " ('n1',\n",
       "  'n2'): Text(0.18102239751539337, 0.4999528985130864, 'biolink:related_to')}"
      ]
     },
     "execution_count": 4,
     "metadata": {},
     "output_type": "execute_result"
    },
    {
     "data": {
      "image/png": "[encoded data removed]",
      "text/plain": [
       "<Figure size 432x288 with 1 Axes>"
      ]
     },
     "metadata": {},
     "output_type": "display_data"
    }
   ],
   "source": [
    "from collections import defaultdict\n",
    "\n",
    "\n",
    "G = nx.Graph()\n",
    "query_node_labels = {}\n",
    "for k, v in query['message']['query_graph']['nodes'].items():\n",
    "    node_ids = v.get('ids', [])\n",
    "    node_categories = v.get('categories', [])\n",
    "    G.add_node(k, categories=', '.join(node_categories))\n",
    "    query_node_labels[k] = '\\n'.join([k] + node_ids + node_categories)\n",
    "    #G.add_node(k, color='red')\n",
    "\n",
    "query_edge_labels = {}\n",
    "q_node_id_keys = set(['object', 'subject'])\n",
    "for q_edge_id,edge_v in query['message']['query_graph']['edges'].items():\n",
    "    for predicate in edge_v['predicates']:\n",
    "        G.add_edge(edge_v['subject'], edge_v['object'], predicate=predicate)\n",
    "    #G.add_edge(edge_v['subject'], edge_v['object'], predicates=', '.join(edge_v['predicates']))\n",
    "    #G.add_edge(edge_v['subject'], edge_v['object'], predicates=[1,2,3])\n",
    "    #G.add_edge(edge_v['subject'], edge_v['object'])\n",
    "    query_edge_labels[(edge_v['subject'], edge_v['object'])] = '\\n'.join(edge_v['predicates'])\n",
    "    \n",
    "query_template_f = './bte_sleeve_query_template.graphml'\n",
    "print(f'Analyze this GraphML file in Cytoscape: {query_template_f}')\n",
    "nx.write_graphml(G, query_template_f)\n",
    "\n",
    "options = {\n",
    "    'node_color': 'yellow',\n",
    "    'node_size': 5000,\n",
    "    'edge_color': 'black',\n",
    "    'width': 3,\n",
    "}\n",
    "query_template_layout = nx.spring_layout(G)\n",
    "nx.draw(G, pos=query_template_layout, **options)\n",
    "nx.draw_networkx_labels(G, query_template_layout, labels=query_node_labels, font_size=12,\n",
    "                        font_color='k', font_family='sans-serif',\n",
    "                        font_weight='normal', alpha=None, bbox=None, horizontalalignment='center',\n",
    "                        verticalalignment='center', ax=None, clip_on=False)\n",
    "nx.draw_networkx_edge_labels(G, pos=query_template_layout,\n",
    "                             edge_labels=query_edge_labels,\n",
    "                             label_pos=0.5, \n",
    "                             font_size=10, font_color='k', font_family='sans-serif',\n",
    "                             font_weight='normal', alpha=None, bbox=None, horizontalalignment='center',\n",
    "                             verticalalignment='center', ax=None, rotate=True, clip_on=True)"
   ]
  },
  {
   "cell_type": "code",
   "execution_count": 5,
   "metadata": {},
   "outputs": [],
   "source": [
    "# NOTE: we're including categories specified in the query template\n",
    "# in the next cell, and in a cell further down, we're also including\n",
    "# any categories from the TRAPI results.\n",
    "#\n",
    "# TODO: Some categories are supersets of others. Should we handle\n",
    "# this systematically?\n",
    "\n",
    "curie_categories = set()\n",
    "for v in query[\"message\"][\"query_graph\"][\"nodes\"].values():\n",
    "    if \"categories\" in v:\n",
    "        for category in v[\"categories\"]:\n",
    "            curie_categories.add(category)"
   ]
  },
  {
   "cell_type": "code",
   "execution_count": 6,
   "metadata": {
    "colab": {
     "base_uri": "https://localhost:8080/"
    },
    "id": "XRfyhW_Is73C",
    "outputId": "76ae9c51-0587-4f1e-91ac-f8d728ce6878"
   },
   "outputs": [
    {
     "name": "stdout",
     "output_type": "stream",
     "text": [
      "curie UMLS:C0903898 has multiple primary names: NATEGLINIDE and nateglinide\n",
      "curie UMLS:C0021641 has multiple primary names: Iletin and Insulin\n",
      "all CURIE prefixes found:\n",
      "{'PUBCHEM.COMPOUND', 'PR', 'DrugCentral', 'CHEBI', 'NCBIGene', 'GTOPDB', 'HGNC', 'DRUGBANK', 'MESH', 'KEGG.COMPOUND', 'UMLS', 'CHEMBL.COMPOUND', 'OMIM', 'HMDB', 'UNII', 'ENSEMBL', 'INCHIKEY', 'UniProtKB', 'CAS'}\n",
      "\n",
      "unified CURIE prefixes found:\n",
      "{'MESH', 'NCBIGene'}\n",
      "\n",
      "failed to unify 886 CURIEs\n"
     ]
    }
   ],
   "source": [
    "# for genes/gene products, chemicals and diseases\n",
    "preferred_prefixes = set([\"NCBIGene\", \"MESH\"])\n",
    "trapi_results_unified_curies = set()\n",
    "unification_failed_curies = set()\n",
    "unified_prefixes = set()\n",
    "all_prefixes = set()\n",
    "curie_to_name = dict()\n",
    "curie_to_unified_curie = dict()\n",
    "for k, v in trapi_message[\"knowledge_graph\"][\"nodes\"].items():\n",
    "    name = v[\"name\"]\n",
    "    for category in v[\"categories\"]:\n",
    "        curie_categories.add(category)\n",
    "        \n",
    "    for a in v[\"attributes\"]:\n",
    "        if a[\"attribute_type_id\"] == \"biolink:xref\":\n",
    "            curies = a[\"value\"]\n",
    "            \n",
    "            # k should always be one of the curies\n",
    "            if not k in curies:\n",
    "                raise Exception(f\"key {k} not in {curies}\")\n",
    "            \n",
    "            unified_curie = None\n",
    "            intersecting_trapi_results_unified_curies = trapi_results_unified_curies.intersection(set(curies))\n",
    "            if len(intersecting_trapi_results_unified_curies) > 1:\n",
    "                raise Exception(f\"matching multiple: {k} to {list(intersecting_trapi_results_unified_curies)}\")\n",
    "            elif len(intersecting_trapi_results_unified_curies) == 1:\n",
    "                unified_curie = list(intersecting_trapi_results_unified_curies)[0]\n",
    "            else:\n",
    "                # get curie for preferred prefix. usually this is k, but not always.\n",
    "                for curie in curies:\n",
    "                    [prefix, identifier] = curie.split(\":\")\n",
    "                    if prefix in preferred_prefixes:\n",
    "                        unified_curie = curie\n",
    "                        trapi_results_unified_curies.add(unified_curie)\n",
    "                        break\n",
    "                        \n",
    "            if not unified_curie:\n",
    "                if k in curie_to_unified_curie:\n",
    "                    unified_curie = curie_to_unified_curie[k]\n",
    "                else:\n",
    "                    unification_failed_curies.add(k)\n",
    "                    break\n",
    "                    \n",
    "                #raise Exception(f\"failed to find a unified curie for {k} in {curies}\")\n",
    "                \n",
    "            [unified_prefix, unified_identifier] = unified_curie.split(\":\")\n",
    "            unified_prefixes.add(unified_prefix)\n",
    "            \n",
    "            for curie in curies:\n",
    "                [prefix, identifier] = curie.split(\":\")\n",
    "                all_prefixes.add(prefix)\n",
    "                if not curie in curie_to_unified_curie:\n",
    "                    curie_to_unified_curie[curie] = unified_curie\n",
    "                if not curie in curie_to_name:\n",
    "                    curie_to_name[curie] = name\n",
    "                elif curie_to_name[curie] != name:\n",
    "                    print(f\"curie {curie} has multiple primary names: {curie_to_name[curie]} and {name}\")\n",
    "                    #raise Exception(f\"curie{curie} has multiple names: {curie_to_name[curie]} and {name}\")\n",
    "\n",
    "\n",
    "#print(f'curie_categories: {curie_categories}')\n",
    "#print(\"\")\n",
    "#print(f\"curie_to_name key count: {len(curie_to_name.keys())}\")\n",
    "#print(f\"curie_to_unified_curie key count: {len(curie_to_unified_curie.keys())}\")\n",
    "#print(\"\")\n",
    "print(\"all CURIE prefixes found:\")\n",
    "print(all_prefixes)\n",
    "print(\"\")\n",
    "print(\"unified CURIE prefixes found:\")\n",
    "print(unified_prefixes)\n",
    "print(\"\")\n",
    "print(f\"failed to unify {len(unification_failed_curies)} CURIEs\")"
   ]
  },
  {
   "cell_type": "code",
   "execution_count": 7,
   "metadata": {},
   "outputs": [],
   "source": [
    "columns = []\n",
    "q_node_id_keys = set([\"object\", \"subject\"])\n",
    "q_node_ids = []\n",
    "q_edge_ids = []\n",
    "for q_edge_id,edge_v in query[\"message\"][\"query_graph\"][\"edges\"].items():\n",
    "    q_edge_ids.append(q_edge_id)\n",
    "    q_node_id_found = False\n",
    "    for k,v in edge_v.items():\n",
    "        if (k in q_node_id_keys) and (type(v) is str):\n",
    "            if v not in columns:\n",
    "                q_node_ids.append(v)\n",
    "                columns.append(v)\n",
    "            if not q_node_id_found:\n",
    "                q_node_id_found = True\n",
    "                columns.append(q_edge_id)\n",
    "                \n",
    "query_nodes_with_ids = set()\n",
    "for k, v in query['message']['query_graph']['nodes'].items():\n",
    "    node_ids = v.get('ids', [])\n",
    "    if node_ids:\n",
    "        query_nodes_with_ids.add(k)\n",
    "                \n",
    "for q_node_id in q_node_ids:\n",
    "    columns.append(f\"{q_node_id}_curie\")\n",
    "    columns.append(f\"{q_node_id}_unified_curie\")\n",
    "    \n",
    "columns.append(\"trapi_result_curie_combo\")\n",
    "\n",
    "trapi_result_columns = []\n",
    "for i in range(len(q_node_ids)):\n",
    "    trapi_result_columns.append(q_node_ids[i])\n",
    "    if i < len(q_edge_ids):\n",
    "        trapi_result_columns.append(q_edge_ids[i])\n",
    "\n",
    "unified_curie_columns = []\n",
    "for q_node_id in q_node_ids:\n",
    "    unified_curie_columns.append(f\"{q_node_id}_unified_curie\")"
   ]
  },
  {
   "cell_type": "code",
   "execution_count": 8,
   "metadata": {
    "id": "Wjqcf5E4Yk_h"
   },
   "outputs": [
    {
     "name": "stdout",
     "output_type": "stream",
     "text": [
      "warning: predicate direction(s) may be switched\n"
     ]
    },
    {
     "data": {
      "text/html": [
       "<div>\n",
       "<style scoped>\n",
       "    .dataframe tbody tr th:only-of-type {\n",
       "        vertical-align: middle;\n",
       "    }\n",
       "\n",
       "    .dataframe tbody tr th {\n",
       "        vertical-align: top;\n",
       "    }\n",
       "\n",
       "    .dataframe thead th {\n",
       "        text-align: right;\n",
       "    }\n",
       "</style>\n",
       "<table border=\"1\" class=\"dataframe\">\n",
       "  <thead>\n",
       "    <tr style=\"text-align: right;\">\n",
       "      <th></th>\n",
       "      <th>n0</th>\n",
       "      <th>e0</th>\n",
       "      <th>n1</th>\n",
       "      <th>e1</th>\n",
       "      <th>n2</th>\n",
       "      <th>n0_curie</th>\n",
       "      <th>n0_unified_curie</th>\n",
       "      <th>n1_curie</th>\n",
       "      <th>n1_unified_curie</th>\n",
       "      <th>n2_curie</th>\n",
       "      <th>n2_unified_curie</th>\n",
       "      <th>trapi_result_curie_combo</th>\n",
       "    </tr>\n",
       "  </thead>\n",
       "  <tbody>\n",
       "    <tr>\n",
       "      <th>0</th>\n",
       "      <td>RAB13</td>\n",
       "      <td>entity_positively_regulates_entity</td>\n",
       "      <td>RAB18</td>\n",
       "      <td>entity_positively_regulated_by_entity</td>\n",
       "      <td>WATER</td>\n",
       "      <td>NCBIGene:5872</td>\n",
       "      <td>NCBIGene:5872</td>\n",
       "      <td>NCBIGene:22931</td>\n",
       "      <td>NCBIGene:22931</td>\n",
       "      <td>CHEMBL.COMPOUND:CHEMBL1098659</td>\n",
       "      <td>MESH:D014867</td>\n",
       "      <td>(MESH:D014867, NCBIGene:22931, NCBIGene:5872)</td>\n",
       "    </tr>\n",
       "    <tr>\n",
       "      <th>1</th>\n",
       "      <td>RAB13</td>\n",
       "      <td>entity_positively_regulates_entity</td>\n",
       "      <td>RAB18</td>\n",
       "      <td>entity_negatively_regulated_by_entity</td>\n",
       "      <td>WATER</td>\n",
       "      <td>NCBIGene:5872</td>\n",
       "      <td>NCBIGene:5872</td>\n",
       "      <td>NCBIGene:22931</td>\n",
       "      <td>NCBIGene:22931</td>\n",
       "      <td>CHEMBL.COMPOUND:CHEMBL1098659</td>\n",
       "      <td>MESH:D014867</td>\n",
       "      <td>(MESH:D014867, NCBIGene:22931, NCBIGene:5872)</td>\n",
       "    </tr>\n",
       "    <tr>\n",
       "      <th>2</th>\n",
       "      <td>RAB13</td>\n",
       "      <td>entity_positively_regulates_entity</td>\n",
       "      <td>RAB18</td>\n",
       "      <td>entity_positively_regulated_by_entity</td>\n",
       "      <td>Isopropyl-beta-D-thiogalactopyranoside</td>\n",
       "      <td>NCBIGene:5872</td>\n",
       "      <td>NCBIGene:5872</td>\n",
       "      <td>NCBIGene:22931</td>\n",
       "      <td>NCBIGene:22931</td>\n",
       "      <td>PUBCHEM.COMPOUND:656894</td>\n",
       "      <td>MESH:D007544</td>\n",
       "      <td>(MESH:D007544, NCBIGene:22931, NCBIGene:5872)</td>\n",
       "    </tr>\n",
       "    <tr>\n",
       "      <th>3</th>\n",
       "      <td>RAB13</td>\n",
       "      <td>entity_positively_regulates_entity</td>\n",
       "      <td>RAB18</td>\n",
       "      <td>entity_positively_regulated_by_entity</td>\n",
       "      <td>Trichostatin A</td>\n",
       "      <td>NCBIGene:5872</td>\n",
       "      <td>NCBIGene:5872</td>\n",
       "      <td>NCBIGene:22931</td>\n",
       "      <td>NCBIGene:22931</td>\n",
       "      <td>PUBCHEM.COMPOUND:444732</td>\n",
       "      <td>MESH:C012589</td>\n",
       "      <td>(MESH:C012589, NCBIGene:22931, NCBIGene:5872)</td>\n",
       "    </tr>\n",
       "    <tr>\n",
       "      <th>4</th>\n",
       "      <td>RAB13</td>\n",
       "      <td>entity_positively_regulates_entity</td>\n",
       "      <td>RAB18</td>\n",
       "      <td>entity_positively_regulated_by_entity</td>\n",
       "      <td>Mannitol</td>\n",
       "      <td>NCBIGene:5872</td>\n",
       "      <td>NCBIGene:5872</td>\n",
       "      <td>NCBIGene:22931</td>\n",
       "      <td>NCBIGene:22931</td>\n",
       "      <td>PUBCHEM.COMPOUND:6251</td>\n",
       "      <td>MESH:D008353</td>\n",
       "      <td>(MESH:D008353, NCBIGene:22931, NCBIGene:5872)</td>\n",
       "    </tr>\n",
       "    <tr>\n",
       "      <th>...</th>\n",
       "      <td>...</td>\n",
       "      <td>...</td>\n",
       "      <td>...</td>\n",
       "      <td>...</td>\n",
       "      <td>...</td>\n",
       "      <td>...</td>\n",
       "      <td>...</td>\n",
       "      <td>...</td>\n",
       "      <td>...</td>\n",
       "      <td>...</td>\n",
       "      <td>...</td>\n",
       "      <td>...</td>\n",
       "    </tr>\n",
       "    <tr>\n",
       "      <th>6125</th>\n",
       "      <td>RAB13</td>\n",
       "      <td>genetically_interacts_with</td>\n",
       "      <td>TGFBR1</td>\n",
       "      <td>coexists_with</td>\n",
       "      <td>5' Flanking Region</td>\n",
       "      <td>NCBIGene:5872</td>\n",
       "      <td>NCBIGene:5872</td>\n",
       "      <td>NCBIGene:7046</td>\n",
       "      <td>NCBIGene:7046</td>\n",
       "      <td>UMLS:C0949645</td>\n",
       "      <td>MESH:D024506</td>\n",
       "      <td>(MESH:D024506, NCBIGene:5872, NCBIGene:7046)</td>\n",
       "    </tr>\n",
       "    <tr>\n",
       "      <th>6126</th>\n",
       "      <td>RAB13</td>\n",
       "      <td>genetically_interacts_with</td>\n",
       "      <td>TGFBR1</td>\n",
       "      <td>coexists_with</td>\n",
       "      <td>1,3,4,6-Tetra-O-acetyl-2-azido-2-deoxy-beta-D-...</td>\n",
       "      <td>NCBIGene:5872</td>\n",
       "      <td>NCBIGene:5872</td>\n",
       "      <td>NCBIGene:7046</td>\n",
       "      <td>NCBIGene:7046</td>\n",
       "      <td>PUBCHEM.COMPOUND:133445</td>\n",
       "      <td>MESH:C070423</td>\n",
       "      <td>(MESH:C070423, NCBIGene:5872, NCBIGene:7046)</td>\n",
       "    </tr>\n",
       "    <tr>\n",
       "      <th>6127</th>\n",
       "      <td>RAB13</td>\n",
       "      <td>genetically_interacts_with</td>\n",
       "      <td>TGFBR1</td>\n",
       "      <td>increases_response_to</td>\n",
       "      <td>Thioacetamide</td>\n",
       "      <td>NCBIGene:5872</td>\n",
       "      <td>NCBIGene:5872</td>\n",
       "      <td>NCBIGene:7046</td>\n",
       "      <td>NCBIGene:7046</td>\n",
       "      <td>PUBCHEM.COMPOUND:2723949</td>\n",
       "      <td>MESH:D013853</td>\n",
       "      <td>(MESH:D013853, NCBIGene:5872, NCBIGene:7046)</td>\n",
       "    </tr>\n",
       "    <tr>\n",
       "      <th>6128</th>\n",
       "      <td>RAB13</td>\n",
       "      <td>genetically_interacts_with</td>\n",
       "      <td>TGFBR1</td>\n",
       "      <td>affects_response_to</td>\n",
       "      <td>Thioacetamide</td>\n",
       "      <td>NCBIGene:5872</td>\n",
       "      <td>NCBIGene:5872</td>\n",
       "      <td>NCBIGene:7046</td>\n",
       "      <td>NCBIGene:7046</td>\n",
       "      <td>PUBCHEM.COMPOUND:2723949</td>\n",
       "      <td>MESH:D013853</td>\n",
       "      <td>(MESH:D013853, NCBIGene:5872, NCBIGene:7046)</td>\n",
       "    </tr>\n",
       "    <tr>\n",
       "      <th>6129</th>\n",
       "      <td>RAB13</td>\n",
       "      <td>genetically_interacts_with</td>\n",
       "      <td>TGFBR1</td>\n",
       "      <td>coexists_with</td>\n",
       "      <td>Progesterone</td>\n",
       "      <td>NCBIGene:5872</td>\n",
       "      <td>NCBIGene:5872</td>\n",
       "      <td>NCBIGene:7046</td>\n",
       "      <td>NCBIGene:7046</td>\n",
       "      <td>PUBCHEM.COMPOUND:5994</td>\n",
       "      <td>MESH:D011374</td>\n",
       "      <td>(MESH:D011374, NCBIGene:5872, NCBIGene:7046)</td>\n",
       "    </tr>\n",
       "  </tbody>\n",
       "</table>\n",
       "<p>6130 rows × 12 columns</p>\n",
       "</div>"
      ],
      "text/plain": [
       "         n0                                  e0      n1  \\\n",
       "0     RAB13  entity_positively_regulates_entity   RAB18   \n",
       "1     RAB13  entity_positively_regulates_entity   RAB18   \n",
       "2     RAB13  entity_positively_regulates_entity   RAB18   \n",
       "3     RAB13  entity_positively_regulates_entity   RAB18   \n",
       "4     RAB13  entity_positively_regulates_entity   RAB18   \n",
       "...     ...                                 ...     ...   \n",
       "6125  RAB13          genetically_interacts_with  TGFBR1   \n",
       "6126  RAB13          genetically_interacts_with  TGFBR1   \n",
       "6127  RAB13          genetically_interacts_with  TGFBR1   \n",
       "6128  RAB13          genetically_interacts_with  TGFBR1   \n",
       "6129  RAB13          genetically_interacts_with  TGFBR1   \n",
       "\n",
       "                                         e1  \\\n",
       "0     entity_positively_regulated_by_entity   \n",
       "1     entity_negatively_regulated_by_entity   \n",
       "2     entity_positively_regulated_by_entity   \n",
       "3     entity_positively_regulated_by_entity   \n",
       "4     entity_positively_regulated_by_entity   \n",
       "...                                     ...   \n",
       "6125                          coexists_with   \n",
       "6126                          coexists_with   \n",
       "6127                  increases_response_to   \n",
       "6128                    affects_response_to   \n",
       "6129                          coexists_with   \n",
       "\n",
       "                                                     n2       n0_curie  \\\n",
       "0                                                 WATER  NCBIGene:5872   \n",
       "1                                                 WATER  NCBIGene:5872   \n",
       "2                Isopropyl-beta-D-thiogalactopyranoside  NCBIGene:5872   \n",
       "3                                        Trichostatin A  NCBIGene:5872   \n",
       "4                                              Mannitol  NCBIGene:5872   \n",
       "...                                                 ...            ...   \n",
       "6125                                 5' Flanking Region  NCBIGene:5872   \n",
       "6126  1,3,4,6-Tetra-O-acetyl-2-azido-2-deoxy-beta-D-...  NCBIGene:5872   \n",
       "6127                                      Thioacetamide  NCBIGene:5872   \n",
       "6128                                      Thioacetamide  NCBIGene:5872   \n",
       "6129                                       Progesterone  NCBIGene:5872   \n",
       "\n",
       "     n0_unified_curie        n1_curie n1_unified_curie  \\\n",
       "0       NCBIGene:5872  NCBIGene:22931   NCBIGene:22931   \n",
       "1       NCBIGene:5872  NCBIGene:22931   NCBIGene:22931   \n",
       "2       NCBIGene:5872  NCBIGene:22931   NCBIGene:22931   \n",
       "3       NCBIGene:5872  NCBIGene:22931   NCBIGene:22931   \n",
       "4       NCBIGene:5872  NCBIGene:22931   NCBIGene:22931   \n",
       "...               ...             ...              ...   \n",
       "6125    NCBIGene:5872   NCBIGene:7046    NCBIGene:7046   \n",
       "6126    NCBIGene:5872   NCBIGene:7046    NCBIGene:7046   \n",
       "6127    NCBIGene:5872   NCBIGene:7046    NCBIGene:7046   \n",
       "6128    NCBIGene:5872   NCBIGene:7046    NCBIGene:7046   \n",
       "6129    NCBIGene:5872   NCBIGene:7046    NCBIGene:7046   \n",
       "\n",
       "                           n2_curie n2_unified_curie  \\\n",
       "0     CHEMBL.COMPOUND:CHEMBL1098659     MESH:D014867   \n",
       "1     CHEMBL.COMPOUND:CHEMBL1098659     MESH:D014867   \n",
       "2           PUBCHEM.COMPOUND:656894     MESH:D007544   \n",
       "3           PUBCHEM.COMPOUND:444732     MESH:C012589   \n",
       "4             PUBCHEM.COMPOUND:6251     MESH:D008353   \n",
       "...                             ...              ...   \n",
       "6125                  UMLS:C0949645     MESH:D024506   \n",
       "6126        PUBCHEM.COMPOUND:133445     MESH:C070423   \n",
       "6127       PUBCHEM.COMPOUND:2723949     MESH:D013853   \n",
       "6128       PUBCHEM.COMPOUND:2723949     MESH:D013853   \n",
       "6129          PUBCHEM.COMPOUND:5994     MESH:D011374   \n",
       "\n",
       "                           trapi_result_curie_combo  \n",
       "0     (MESH:D014867, NCBIGene:22931, NCBIGene:5872)  \n",
       "1     (MESH:D014867, NCBIGene:22931, NCBIGene:5872)  \n",
       "2     (MESH:D007544, NCBIGene:22931, NCBIGene:5872)  \n",
       "3     (MESH:C012589, NCBIGene:22931, NCBIGene:5872)  \n",
       "4     (MESH:D008353, NCBIGene:22931, NCBIGene:5872)  \n",
       "...                                             ...  \n",
       "6125   (MESH:D024506, NCBIGene:5872, NCBIGene:7046)  \n",
       "6126   (MESH:C070423, NCBIGene:5872, NCBIGene:7046)  \n",
       "6127   (MESH:D013853, NCBIGene:5872, NCBIGene:7046)  \n",
       "6128   (MESH:D013853, NCBIGene:5872, NCBIGene:7046)  \n",
       "6129   (MESH:D011374, NCBIGene:5872, NCBIGene:7046)  \n",
       "\n",
       "[6130 rows x 12 columns]"
      ]
     },
     "execution_count": 8,
     "metadata": {},
     "output_type": "execute_result"
    }
   ],
   "source": [
    "trapi_results = trapi_message[\"results\"]\n",
    "\n",
    "result_row_data = []\n",
    "for trapi_result in trapi_results:\n",
    "    curie_to_qnode_ids = dict()\n",
    "    for qnode_id, entries in trapi_result[\"node_bindings\"].items():\n",
    "        for entry in entries:\n",
    "            curie = entry[\"id\"]\n",
    "            if curie not in curie_to_qnode_ids:\n",
    "                curie_to_qnode_ids[curie] = []\n",
    "            curie_to_qnode_ids[curie].append(qnode_id)\n",
    "        \n",
    "    row_data_template = dict()\n",
    "    q_edge_id_to_predicates = dict()\n",
    "    trapi_result_curies = set()\n",
    "    for qedge_id, entries in trapi_result[\"edge_bindings\"].items():\n",
    "        for entry in entries:\n",
    "            curie = entry[\"id\"]\n",
    "            kg_entry = trapi_message[\"knowledge_graph\"][\"edges\"][curie]\n",
    "            subject_curie = kg_entry[\"subject\"]\n",
    "            object_curie = kg_entry[\"object\"]\n",
    "            predicate_curie = kg_entry[\"predicate\"]\n",
    "            [predicate_prefix, predicate_identifier] = predicate_curie.split(\":\")\n",
    "            \n",
    "            if qedge_id not in q_edge_id_to_predicates:\n",
    "                q_edge_id_to_predicates[qedge_id] = set()\n",
    "            q_edge_id_to_predicates[qedge_id].add(predicate_identifier)\n",
    "\n",
    "            for curie in [subject_curie, object_curie]:\n",
    "                for qnode_id in curie_to_qnode_ids[curie]:\n",
    "                    if curie in curie_to_unified_curie:\n",
    "                        unified_curie = curie_to_unified_curie[curie]\n",
    "                    else:\n",
    "                        break\n",
    "\n",
    "                    name = curie_to_name[curie]\n",
    "                    row_data_template[qnode_id] = name\n",
    "\n",
    "                    trapi_result_curies.add(unified_curie)\n",
    "                    row_data_template[qnode_id + \"_curie\"] = curie\n",
    "                    row_data_template[qnode_id + \"_unified_curie\"] = unified_curie\n",
    "                    \n",
    "    if len(trapi_result_curies) != len(q_node_ids):\n",
    "        #print(f'skipping {list(curie_to_qnode_ids.keys())}')\n",
    "        continue\n",
    "        \n",
    "    row_data_template[\"trapi_result_curie_combo\"] = tuple(sorted(trapi_result_curies))\n",
    "    q_edge_ids_processed = set()\n",
    "    row_datas = [row_data_template]\n",
    "    for q_edge_id,predicates in q_edge_id_to_predicates.items():\n",
    "        next_row_datas = []\n",
    "        for row_data in row_datas:\n",
    "            for predicate in predicates:\n",
    "                next_row_data = deepcopy(row_data)\n",
    "                next_row_data[q_edge_id] = predicate\n",
    "                next_row_datas.append(\n",
    "                    next_row_data \n",
    "                )\n",
    "        row_datas = next_row_datas\n",
    "    result_row_data += row_datas\n",
    "        \n",
    "print(\"warning: predicate direction(s) may be switched\")\n",
    "results_df = pd.DataFrame.from_records(result_row_data, columns=columns).drop_duplicates()\n",
    "results_df"
   ]
  },
  {
   "cell_type": "markdown",
   "metadata": {},
   "source": [
    "Unique CURIE count per query node:"
   ]
  },
  {
   "cell_type": "code",
   "execution_count": 9,
   "metadata": {},
   "outputs": [
    {
     "name": "stdout",
     "output_type": "stream",
     "text": [
      "n0: 1\n",
      "n1: 12\n",
      "n2: 1347\n"
     ]
    }
   ],
   "source": [
    "for q_node_id in q_node_ids:\n",
    "    print(f'{q_node_id}: {len(set(results_df[q_node_id]))}')"
   ]
  },
  {
   "cell_type": "markdown",
   "metadata": {},
   "source": [
    "Total results count (excluding any that couldn't be unified):"
   ]
  },
  {
   "cell_type": "code",
   "execution_count": 10,
   "metadata": {},
   "outputs": [
    {
     "data": {
      "text/plain": [
       "3158"
      ]
     },
     "execution_count": 10,
     "metadata": {},
     "output_type": "execute_result"
    }
   ],
   "source": [
    "len(set(results_df[\"trapi_result_curie_combo\"]))"
   ]
  },
  {
   "cell_type": "markdown",
   "metadata": {},
   "source": [
    "That's too too high for a researcher to efficiently go through manually. Let's try filtering to make that more manageable."
   ]
  },
  {
   "cell_type": "markdown",
   "metadata": {
    "id": "uCW1x4PxnjYJ",
    "tags": []
   },
   "source": [
    "## Match up BTE TRAPI Results & PFOCR\n",
    "\n",
    "We're going to try using PFOCR to filter and prioritize the results.\n",
    "\n",
    "First we need to get the PFOCR Data. We could get it from the API, but for now, we'll just go ahead and download the entire JSON file we gave to BTE."
   ]
  },
  {
   "cell_type": "code",
   "execution_count": 11,
   "metadata": {
    "colab": {
     "base_uri": "https://localhost:8080/"
    },
    "id": "OyJJUHbepKp2",
    "outputId": "7237b5f0-8740-47cb-9e3d-b03ea02bdcab"
   },
   "outputs": [
    {
     "name": "stdout",
     "output_type": "stream",
     "text": [
      "status_code: 200\n"
     ]
    }
   ],
   "source": [
    "pfocr_url = \"https://www.dropbox.com/s/1f14t5zaseocyg6/bte_chemicals_diseases_genes.ndjson?dl=1\"\n",
    "pfocr_request = requests.get(pfocr_url)\n",
    "print(f\"status_code: {pfocr_request.status_code}\")\n",
    "if pfocr_request.status_code != 200:\n",
    "    print(pfocr_request.text)"
   ]
  },
  {
   "cell_type": "code",
   "execution_count": 12,
   "metadata": {
    "id": "8fUaenkS0gg1"
   },
   "outputs": [
    {
     "data": {
      "text/html": [
       "<div>\n",
       "<style scoped>\n",
       "    .dataframe tbody tr th:only-of-type {\n",
       "        vertical-align: middle;\n",
       "    }\n",
       "\n",
       "    .dataframe tbody tr th {\n",
       "        vertical-align: top;\n",
       "    }\n",
       "\n",
       "    .dataframe thead th {\n",
       "        text-align: right;\n",
       "    }\n",
       "</style>\n",
       "<table border=\"1\" class=\"dataframe\">\n",
       "  <thead>\n",
       "    <tr style=\"text-align: right;\">\n",
       "      <th></th>\n",
       "      <th>figure_id</th>\n",
       "      <th>curie_combo</th>\n",
       "    </tr>\n",
       "  </thead>\n",
       "  <tbody>\n",
       "    <tr>\n",
       "      <th>0</th>\n",
       "      <td>PMC5732092__cshperspect-CYT-028522_F2.jpg</td>\n",
       "      <td>(NCBIGene:10131, NCBIGene:1051, NCBIGene:10563...</td>\n",
       "    </tr>\n",
       "    <tr>\n",
       "      <th>1</th>\n",
       "      <td>PMC5793760__cshperspect-TGF-022210_F4.jpg</td>\n",
       "      <td>(NCBIGene:151449, NCBIGene:2657, NCBIGene:2658...</td>\n",
       "    </tr>\n",
       "    <tr>\n",
       "      <th>2</th>\n",
       "      <td>PMC5793761__cshperspect-TGF-031989_F1.jpg</td>\n",
       "      <td>(NCBIGene:1432, NCBIGene:151449, NCBIGene:1686...</td>\n",
       "    </tr>\n",
       "    <tr>\n",
       "      <th>3</th>\n",
       "      <td>PMC5830892__cshperspect-CEL-027961_F2.jpg</td>\n",
       "      <td>(NCBIGene:2119, NCBIGene:55249, NCBIGene:58, N...</td>\n",
       "    </tr>\n",
       "    <tr>\n",
       "      <th>4</th>\n",
       "      <td>PMC5830900__cshperspect-TGF-031997_F1.jpg</td>\n",
       "      <td>(MESH:D011374, NCBIGene:151449, NCBIGene:2657,...</td>\n",
       "    </tr>\n",
       "    <tr>\n",
       "      <th>...</th>\n",
       "      <td>...</td>\n",
       "      <td>...</td>\n",
       "    </tr>\n",
       "    <tr>\n",
       "      <th>77714</th>\n",
       "      <td>PMC2804790__253_2009_2262_Fig1_HTML.jpg</td>\n",
       "      <td>(MESH:C018475, MESH:C031105, MESH:C043801, MES...</td>\n",
       "    </tr>\n",
       "    <tr>\n",
       "      <th>77715</th>\n",
       "      <td>PMC6332787__thnov09p0126g006.jpg</td>\n",
       "      <td>(NCBIGene:29126, NCBIGene:5133, NCBIGene:6387,...</td>\n",
       "    </tr>\n",
       "    <tr>\n",
       "      <th>77716</th>\n",
       "      <td>PMC5807036__IJO-52-03-0787-g01.jpg</td>\n",
       "      <td>(NCBIGene:1977, NCBIGene:22937, NCBIGene:2313,...</td>\n",
       "    </tr>\n",
       "    <tr>\n",
       "      <th>77717</th>\n",
       "      <td>PMC6770832__cancers-11-01236-g005.jpg</td>\n",
       "      <td>(NCBIGene:1432, NCBIGene:4086, NCBIGene:4087, ...</td>\n",
       "    </tr>\n",
       "    <tr>\n",
       "      <th>77718</th>\n",
       "      <td>PMC4609065__12885_2015_1721_Fig5_HTML.jpg</td>\n",
       "      <td>(MESH:C029269, MESH:D014443, NCBIGene:1806, NC...</td>\n",
       "    </tr>\n",
       "  </tbody>\n",
       "</table>\n",
       "<p>77719 rows × 2 columns</p>\n",
       "</div>"
      ],
      "text/plain": [
       "                                       figure_id  \\\n",
       "0      PMC5732092__cshperspect-CYT-028522_F2.jpg   \n",
       "1      PMC5793760__cshperspect-TGF-022210_F4.jpg   \n",
       "2      PMC5793761__cshperspect-TGF-031989_F1.jpg   \n",
       "3      PMC5830892__cshperspect-CEL-027961_F2.jpg   \n",
       "4      PMC5830900__cshperspect-TGF-031997_F1.jpg   \n",
       "...                                          ...   \n",
       "77714    PMC2804790__253_2009_2262_Fig1_HTML.jpg   \n",
       "77715           PMC6332787__thnov09p0126g006.jpg   \n",
       "77716         PMC5807036__IJO-52-03-0787-g01.jpg   \n",
       "77717      PMC6770832__cancers-11-01236-g005.jpg   \n",
       "77718  PMC4609065__12885_2015_1721_Fig5_HTML.jpg   \n",
       "\n",
       "                                             curie_combo  \n",
       "0      (NCBIGene:10131, NCBIGene:1051, NCBIGene:10563...  \n",
       "1      (NCBIGene:151449, NCBIGene:2657, NCBIGene:2658...  \n",
       "2      (NCBIGene:1432, NCBIGene:151449, NCBIGene:1686...  \n",
       "3      (NCBIGene:2119, NCBIGene:55249, NCBIGene:58, N...  \n",
       "4      (MESH:D011374, NCBIGene:151449, NCBIGene:2657,...  \n",
       "...                                                  ...  \n",
       "77714  (MESH:C018475, MESH:C031105, MESH:C043801, MES...  \n",
       "77715  (NCBIGene:29126, NCBIGene:5133, NCBIGene:6387,...  \n",
       "77716  (NCBIGene:1977, NCBIGene:22937, NCBIGene:2313,...  \n",
       "77717  (NCBIGene:1432, NCBIGene:4086, NCBIGene:4087, ...  \n",
       "77718  (MESH:C029269, MESH:D014443, NCBIGene:1806, NC...  \n",
       "\n",
       "[77719 rows x 2 columns]"
      ]
     },
     "execution_count": 12,
     "metadata": {},
     "output_type": "execute_result"
    }
   ],
   "source": [
    "figures_df_data = []\n",
    "curies_to_figure_ids = {}\n",
    "figure_id_to_curies = {}\n",
    "figure_id_to_pfocr_result = {}\n",
    "for line in pfocr_request.text.splitlines():\n",
    "    pfocr_result = json.loads(line)\n",
    "    figure_id = pfocr_result[\"_id\"]\n",
    "\n",
    "    curies = set()\n",
    "    for identifier in pfocr_result[\"associatedWith\"][\"mentions\"][\"chemicals\"][\"mesh\"]:\n",
    "        curie = \"MESH:\" + identifier\n",
    "        if curie in curie_to_unified_curie:\n",
    "            unified_curie = curie_to_unified_curie[curie]\n",
    "            curies.add(unified_curie)\n",
    "        else:\n",
    "            #print(f\"{curie} not in list\")\n",
    "            # this curie isn't in the BTE results, but we'll add an item for\n",
    "            # the purpose of the denominator in jaccard/containment cals\n",
    "            curies.add(curie)\n",
    "    for identifier in pfocr_result[\"associatedWith\"][\"mentions\"][\"diseases\"][\"mesh\"]:\n",
    "        curie = \"MESH:\" + identifier\n",
    "        if curie in curie_to_unified_curie:\n",
    "            unified_curie = curie_to_unified_curie[curie]\n",
    "            curies.add(unified_curie)\n",
    "        else:\n",
    "            #print(f\"{curie} not in list\")\n",
    "            # this curie isn't in the BTE results, but we'll add an item for\n",
    "            # the purpose of the denominator in jaccard/containment cals\n",
    "            curies.add(curie)\n",
    "    for identifier in pfocr_result[\"associatedWith\"][\"mentions\"][\"genes\"][\"ncbigene\"]:\n",
    "        curie = \"NCBIGene:\" + identifier\n",
    "        if curie in curie_to_unified_curie:\n",
    "            unified_curie = curie_to_unified_curie[curie]\n",
    "            curies.add(unified_curie)\n",
    "        else:\n",
    "            #print(f\"{curie} not in list\")\n",
    "            # this curie isn't in the BTE results, but we'll add an item for\n",
    "            # the purpose of the denominator in jaccard/containment cals\n",
    "            curies.add(curie)\n",
    "\n",
    "    figure_id_to_pfocr_result[figure_id] = pfocr_result\n",
    "    figure_id_to_curies[figure_id] = curies\n",
    "\n",
    "    curies_key = tuple(sorted(curies))\n",
    "    \n",
    "    figures_df_data.append({\n",
    "        \"figure_id\": figure_id,\n",
    "        \"curie_combo\": curies_key,\n",
    "    })\n",
    "    \n",
    "    if curies_key not in curies_to_figure_ids:\n",
    "        curies_to_figure_ids[curies_key] = []\n",
    "    curies_to_figure_ids[curies_key].append(figure_id)\n",
    "\n",
    "figures_df = pd.DataFrame.from_records(figures_df_data)\n",
    "figures_df"
   ]
  },
  {
   "cell_type": "markdown",
   "metadata": {},
   "source": [
    "## Fisher Exact Test -- all BTE TRAPI CURIES\n",
    "\n",
    "All BTE TRAPI CURIEs\n",
    "From discussion with Andrew."
   ]
  },
  {
   "cell_type": "code",
   "execution_count": 21,
   "metadata": {},
   "outputs": [
    {
     "name": "stdout",
     "output_type": "stream",
     "text": [
      "Count for all unique CURIEs seen in all figures: 28735\n"
     ]
    }
   ],
   "source": [
    "all_genes = set()\n",
    "gene_instance_count = 0\n",
    "all_chemicals = set()\n",
    "chemical_instance_count = 0\n",
    "all_diseases = set()\n",
    "disease_instance_count = 0\n",
    "for figure_id, pfocr_result in figure_id_to_pfocr_result.items():\n",
    "    genes = pfocr_result[\"associatedWith\"][\"mentions\"][\"genes\"][\"ncbigene\"]\n",
    "    for gene in genes:\n",
    "        gene_instance_count += 1\n",
    "        all_genes.add(gene)\n",
    "\n",
    "    chemicals = pfocr_result[\"associatedWith\"][\"mentions\"][\"chemicals\"][\"mesh\"]\n",
    "    for chemical in chemicals:\n",
    "        chemical_instance_count += 1\n",
    "        all_chemicals.add(chemical)\n",
    "\n",
    "    diseases = pfocr_result[\"associatedWith\"][\"mentions\"][\"diseases\"][\"mesh\"]\n",
    "    for disease in diseases:\n",
    "        disease_instance_count += 1\n",
    "        all_diseases.add(disease)\n",
    "\n",
    "#print(\"total instance counts:\")\n",
    "#print(f'  chemicals: {chemical_instance_count}')\n",
    "#print(f'  diseases: {disease_instance_count}')\n",
    "#print(f'  genes: {gene_instance_count}')\n",
    "\n",
    "#print(\"\")\n",
    "\n",
    "#print(\"unique counts:\")\n",
    "#print(f'  chemicals: {len(all_chemicals)}')\n",
    "#print(f'  diseases: {len(all_diseases)}')\n",
    "#print(f'  genes: {len(all_genes)}')\n",
    "\n",
    "#print(\"\")\n",
    "\n",
    "curie_category_to_curies = {\n",
    "    \"biolink:ChemicalEntity\": all_chemicals,\n",
    "    \"biolink:SmallMolecule\": all_chemicals,\n",
    "    \"biolink:Disease\": all_diseases,\n",
    "    \"biolink:Gene\": all_genes,\n",
    "}\n",
    "\n",
    "\n",
    "all_figure_curies = set()\n",
    "for curie_category in set(curie_category_to_curies.keys()).intersection(curie_categories):\n",
    "    all_figure_curies |= curie_category_to_curies[curie_category]\n",
    "all_figure_curie_count = len(all_figure_curies)\n",
    "\n",
    "print(f'Count for all unique CURIEs seen in all figures: {all_figure_curie_count}')"
   ]
  },
  {
   "cell_type": "code",
   "execution_count": 15,
   "metadata": {},
   "outputs": [
    {
     "data": {
      "text/plain": [
       "1362"
      ]
     },
     "execution_count": 15,
     "metadata": {},
     "output_type": "execute_result"
    }
   ],
   "source": [
    "len(trapi_results_unified_curies)"
   ]
  },
  {
   "cell_type": "code",
   "execution_count": 14,
   "metadata": {},
   "outputs": [
    {
     "name": "stdout",
     "output_type": "stream",
     "text": [
      "('MESH:C010667', 'MESH:C018475', 'MESH:C041787', 'MESH:C043941', 'MESH:C065987', 'MESH:D000079', 'MESH:D000085', 'MESH:D000090', 'MESH:D000096', 'MESH:D000105', 'MESH:D000431', 'MESH:D000440', 'MESH:D002087', 'MESH:D009243')\n",
      "14\n"
     ]
    }
   ],
   "source": [
    "curies_in_sample_figure = figures_df[figures_df[\"figure_id\"] == \"PMC6361031__13205_2019_1598_Fig1_HTML.jpg\"][\"curie_combo\"].tolist()[0]\n",
    "print(curies_in_sample_figure)\n",
    "print(len(curies_in_sample_figure))"
   ]
  },
  {
   "cell_type": "code",
   "execution_count": 16,
   "metadata": {},
   "outputs": [
    {
     "name": "stdout",
     "output_type": "stream",
     "text": [
      "{'MESH:D009243', 'MESH:D000431', 'MESH:D000085', 'MESH:D000079', 'MESH:C043941'}\n",
      "5\n"
     ]
    }
   ],
   "source": [
    "sample_intersection = trapi_results_unified_curies.intersection(set(curies_in_sample_figure))\n",
    "print(sample_intersection)\n",
    "print(len(sample_intersection))"
   ]
  },
  {
   "cell_type": "markdown",
   "metadata": {},
   "source": [
    "For figure PMC6361031__13205_2019_1598_Fig1_HTML.jpg for the all TRAPI CURIEs case:\n",
    "\n",
    "|                      | IN THIS FIG | NOT IN THIS FIG  | Total        |\n",
    "|----------------------|-------------|------------------|--------------|\n",
    "| IN TRAPI RESULTS     | 5           | 1362 - 5         | 1362         |\n",
    "| NOT IN TRAPI RESULTS | 9           | 28735 - 1362 - 9 | 28735 - 1362 |\n",
    "| Total                | 14          | 28735 - 14       | 28735        |"
   ]
  },
  {
   "cell_type": "code",
   "execution_count": 17,
   "metadata": {},
   "outputs": [],
   "source": [
    "figures_df[\"figure_curie_count\"] = figures_df[\"curie_combo\"].map(len)\n",
    "figures_df[\"figure_curies_in_trapi_results\"] = figures_df[\"curie_combo\"].map(lambda curie_combo: trapi_results_unified_curies.intersection(set(curie_combo)))\n",
    "\n",
    "\n",
    "# number of CURIEs in both TRAPI results and figure\n",
    "figures_df[\"yes_trapi_results_yes_figure\"] = figures_df[\"figure_curies_in_trapi_results\"].map(len)\n",
    "\n",
    "# number of CURIEs in TRAPI results but not in figure \n",
    "figures_df[\"yes_trapi_results_no_figure\"] = len(trapi_results_unified_curies) - figures_df[\"yes_trapi_results_yes_figure\"]\n",
    "\n",
    "# number of CURIEs not in TRAPI results but in figure \n",
    "figures_df[\"no_trapi_results_yes_figure\"] = figures_df[\"figure_curie_count\"] - figures_df[\"yes_trapi_results_yes_figure\"]\n",
    "\n",
    "# number of CURIEs not in TRAPI results and not in figure \n",
    "figures_df[\"no_trapi_results_no_figure\"] = all_figure_curie_count - len(trapi_results_unified_curies) - figures_df[\"no_trapi_results_yes_figure\"]"
   ]
  },
  {
   "cell_type": "code",
   "execution_count": 18,
   "metadata": {},
   "outputs": [
    {
     "data": {
      "text/plain": [
       "17099    5.601158e-08\n",
       "17461    5.601158e-08\n",
       "51396    5.601158e-08\n",
       "54833    5.804763e-08\n",
       "60679    5.804763e-08\n",
       "             ...     \n",
       "46540    1.000000e+00\n",
       "58755    1.000000e+00\n",
       "3512     1.000000e+00\n",
       "67356    1.000000e+00\n",
       "70025    1.000000e+00\n",
       "Name: p_value, Length: 77719, dtype: float64"
      ]
     },
     "execution_count": 18,
     "metadata": {},
     "output_type": "execute_result"
    }
   ],
   "source": [
    "# see https://stackoverflow.com/a/58661068/5354298\n",
    "\n",
    "_, _, twosided = pvalue_npy(\n",
    "    figures_df[\"yes_trapi_results_yes_figure\"].to_numpy('uint'),\n",
    "    figures_df[\"yes_trapi_results_no_figure\"].to_numpy('uint'),\n",
    "    figures_df[\"no_trapi_results_yes_figure\"].to_numpy('uint'),\n",
    "    figures_df[\"no_trapi_results_no_figure\"].to_numpy('uint'),\n",
    ")\n",
    "# TODO: do we need the odds ratio?\n",
    "#odds = (\n",
    "#    figures_df[\"yes_trapi_results_yes_figure\"].to_numpy('uint') *\n",
    "#    figures_df[\"no_trapi_results_no_figure\"].to_numpy('uint')\n",
    "#) / (\n",
    "#    figures_df[\"yes_trapi_results_no_figure\"].to_numpy('uint') *\n",
    "#    figures_df[\"no_trapi_results_yes_figure\"].to_numpy('uint')\n",
    "#)\n",
    "\n",
    "figures_df[\"p_value\"] = pd.Series(twosided, index=figures_df.index)\n",
    "figures_df[\"p_value\"].sort_values()"
   ]
  },
  {
   "cell_type": "code",
   "execution_count": 19,
   "metadata": {
    "tags": []
   },
   "outputs": [
    {
     "data": {
      "text/plain": [
       "(array([14557.,  5886.,  5699.,  2819.,  5719.,  2090.,  6270.,  1377.,\n",
       "           81., 33221.]),\n",
       " array([5.60115811e-08, 1.00000050e-01, 2.00000045e-01, 3.00000039e-01,\n",
       "        4.00000034e-01, 5.00000028e-01, 6.00000022e-01, 7.00000017e-01,\n",
       "        8.00000011e-01, 9.00000006e-01, 1.00000000e+00]),\n",
       " <BarContainer object of 10 artists>)"
      ]
     },
     "execution_count": 19,
     "metadata": {},
     "output_type": "execute_result"
    },
    {
     "data": {
      "image/png": "[encoded data removed]",
      "text/plain": [
       "<Figure size 432x288 with 1 Axes>"
      ]
     },
     "metadata": {
      "needs_background": "light"
     },
     "output_type": "display_data"
    }
   ],
   "source": [
    "plt.hist(\n",
    "    figures_df[\"p_value\"]\n",
    ")"
   ]
  },
  {
   "cell_type": "code",
   "execution_count": 24,
   "metadata": {},
   "outputs": [
    {
     "data": {
      "text/plain": [
       "10798"
      ]
     },
     "execution_count": 24,
     "metadata": {},
     "output_type": "execute_result"
    }
   ],
   "source": [
    "len(figures_df[figures_df[\"p_value\"] < 0.05])"
   ]
  },
  {
   "cell_type": "markdown",
   "metadata": {},
   "source": [
    "TODO NEXT:\n",
    "1. For the figure most associated with all the TRAPI results, get the individual TRAPI results most similar to it.\n",
    "2. Display the figure and the top 10 TRAPI results\n",
    "3. Maybe find the next figure most closely associated with the remaining TRAPI results and then plot it with the top 10 TRAPI results associated with it?\n",
    "\n",
    "Maybe display the main figure large but also include several other related figures under it in a small format, along with the top 10 TRAPI results?"
   ]
  },
  {
   "cell_type": "code",
   "execution_count": null,
   "metadata": {},
   "outputs": [],
   "source": []
  },
  {
   "cell_type": "code",
   "execution_count": null,
   "metadata": {},
   "outputs": [],
   "source": []
  },
  {
   "cell_type": "code",
   "execution_count": null,
   "metadata": {},
   "outputs": [],
   "source": []
  },
  {
   "cell_type": "code",
   "execution_count": null,
   "metadata": {},
   "outputs": [],
   "source": []
  },
  {
   "cell_type": "code",
   "execution_count": null,
   "metadata": {},
   "outputs": [],
   "source": []
  },
  {
   "cell_type": "code",
   "execution_count": null,
   "metadata": {},
   "outputs": [],
   "source": []
  }
 ],
 "metadata": {
  "colab": {
   "collapsed_sections": [],
   "name": "bte_clustering.ipynb",
   "provenance": []
  },
  "kernelspec": {
   "display_name": "Python 3 (ipykernel)",
   "language": "python",
   "name": "python3"
  },
  "language_info": {
   "codemirror_mode": {
    "name": "ipython",
    "version": 3
   },
   "file_extension": ".py",
   "mimetype": "text/x-python",
   "name": "python",
   "nbconvert_exporter": "python",
   "pygments_lexer": "ipython3",
   "version": "3.10.4"
  }
 },
 "nbformat": 4,
 "nbformat_minor": 4
}
