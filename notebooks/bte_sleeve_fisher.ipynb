{
 "cells": [
  {
   "cell_type": "raw",
   "metadata": {
    "colab": {
     "base_uri": "https://localhost:8080/"
    },
    "id": "UZZqPBS0UppM",
    "outputId": "281abfa6-b935-4d99-a267-e237900aa5dc"
   },
   "source": [
    "!pip install numpy pandas requests requests_cache SetSimilaritySearch"
   ]
  },
  {
   "cell_type": "code",
   "execution_count": 1,
   "metadata": {
    "id": "uG7JfetZjcXH"
   },
   "outputs": [],
   "source": [
    "from copy import copy,deepcopy\n",
    "import json\n",
    "import matplotlib.pyplot as plt\n",
    "import pandas as pd\n",
    "import time\n",
    "import textwrap"
   ]
  },
  {
   "cell_type": "code",
   "execution_count": 2,
   "metadata": {
    "id": "rzoUUSDeVz0a"
   },
   "outputs": [],
   "source": [
    "import requests\n",
    "import requests_cache\n",
    "\n",
    "\n",
    "requests_cache.install_cache(\"pfocr_cache\", allowable_methods=['GET', 'POST'])"
   ]
  },
  {
   "cell_type": "markdown",
   "metadata": {
    "id": "j9DiSC9NU_Fa"
   },
   "source": [
    "# BTE Sleeve\n",
    "\n",
    "Why do we get slightly different values for the Fisher's Exact test? Scroll down the the \"Fisher's Exact Test\" section to see and compare the calculations."
   ]
  },
  {
   "cell_type": "markdown",
   "metadata": {
    "id": "TxW41muraAFL"
   },
   "source": [
    "## Get BTE TRAPI Results"
   ]
  },
  {
   "cell_type": "code",
   "execution_count": 3,
   "metadata": {
    "colab": {
     "base_uri": "https://localhost:8080/"
    },
    "id": "N71NYHWeVCj9",
    "outputId": "d8c2c9ae-9750-455c-ff61-b357b4ff0b2d",
    "tags": []
   },
   "outputs": [
    {
     "name": "stdout",
     "output_type": "stream",
     "text": [
      "200\n",
      "got response from cache\n"
     ]
    }
   ],
   "source": [
    "query = {\n",
    "    \"message\": {\n",
    "        \"query_graph\": {\n",
    "            \"edges\": {\n",
    "                \"e0\": {\n",
    "                    \"subject\": \"n0\",\n",
    "                    \"object\": \"n1\",\n",
    "                    \"predicates\": [\n",
    "                        \"biolink:entity_regulates_entity\",\n",
    "                        \"biolink:genetically_interacts_with\"\n",
    "                    ]\n",
    "                },\n",
    "                \"e1\": {\n",
    "                    \"subject\": \"n1\",\n",
    "                    \"object\": \"n2\",\n",
    "                    \"predicates\": [\n",
    "                        \"biolink:related_to\"\n",
    "                    ]\n",
    "                }\n",
    "            },\n",
    "            \"nodes\": {\n",
    "                \"n0\": {\n",
    "                    \"ids\": [\n",
    "                        \"NCBIGene:7454\"\n",
    "                    ],\n",
    "                    \"categories\": [\n",
    "                        \"biolink:Gene\"\n",
    "                    ]\n",
    "                },\n",
    "                \"n1\": {\n",
    "                    \"categories\": [\n",
    "                        \"biolink:Gene\"\n",
    "                    ],\n",
    "                },\n",
    "                \"n2\": {\n",
    "                    \"categories\": [\n",
    "                        \"biolink:SmallMolecule\"\n",
    "                    ]\n",
    "                }\n",
    "            }\n",
    "        }\n",
    "    }\n",
    "}\n",
    "\n",
    "trapi_response = requests.post(\"http://localhost:3000/v1/query\", json=query)\n",
    "#trapi_response = requests.post(\"https://api.bte.ncats.io/v1/query\", json=query)\n",
    "#trapi_response = requests.post(\"https://arax.ncats.io/api/rtxkg2/v1.2/query\", json=query)\n",
    "#trapi_response = requests.post(\"https://arax.ncats.io/api/arax/v1.2/query\", json=query)\n",
    "print(trapi_response.status_code)\n",
    "if trapi_response.status_code != 200:\n",
    "    print(trapi_response.text)\n",
    "if trapi_response.from_cache:\n",
    "    print(f\"got response from cache\")\n",
    "\n",
    "trapi_message = trapi_response.json()[\"message\"]\n",
    "\n",
    "#print(json.dumps(query))"
   ]
  },
  {
   "cell_type": "code",
   "execution_count": 4,
   "metadata": {},
   "outputs": [],
   "source": [
    "# NOTE: we're including categories specified in the query template\n",
    "# in the next cell, and in a cell further down, we're also including\n",
    "# any categories from the TRAPI results.\n",
    "#\n",
    "# TODO: Some categories are supersets of others. Should we handle\n",
    "# this systematically?\n",
    "\n",
    "curie_categories = set()\n",
    "for v in query[\"message\"][\"query_graph\"][\"nodes\"].values():\n",
    "    if \"categories\" in v:\n",
    "        for category in v[\"categories\"]:\n",
    "            curie_categories.add(category)"
   ]
  },
  {
   "cell_type": "code",
   "execution_count": 5,
   "metadata": {
    "colab": {
     "base_uri": "https://localhost:8080/"
    },
    "id": "XRfyhW_Is73C",
    "outputId": "76ae9c51-0587-4f1e-91ac-f8d728ce6878"
   },
   "outputs": [
    {
     "name": "stdout",
     "output_type": "stream",
     "text": [
      "curie UMLS:C0003779 has multiple primary names: Desmopressin and Argipressin\n"
     ]
    }
   ],
   "source": [
    "# for genes/gene products, chemicals and diseases\n",
    "preferred_prefixes = set([\"NCBIGene\", \"MESH\"])\n",
    "unified_names = set()\n",
    "unified_curies = set()\n",
    "unification_failed_curies = set()\n",
    "unified_prefixes = set()\n",
    "all_prefixes = set()\n",
    "curie_to_name = dict()\n",
    "curie_to_unified_curie = dict()\n",
    "for k, v in trapi_message[\"knowledge_graph\"][\"nodes\"].items():\n",
    "    name = v[\"name\"]\n",
    "    for category in v[\"categories\"]:\n",
    "        curie_categories.add(category)\n",
    "        \n",
    "    for a in v[\"attributes\"]:\n",
    "        if a[\"attribute_type_id\"] == \"biolink:xref\":\n",
    "            curies = a[\"value\"]\n",
    "            \n",
    "            # k should always be one of the curies\n",
    "            if not k in curies:\n",
    "                raise Exception(f\"key {k} not in {curies}\")\n",
    "            \n",
    "            unified_curie = None\n",
    "            intersecting_unified_curies = unified_curies.intersection(set(curies))\n",
    "            if len(intersecting_unified_curies) > 1:\n",
    "                raise Exception(f\"matching multiple: {k} to {list(intersecting_unified_curies)}\")\n",
    "            elif len(intersecting_unified_curies) == 1:\n",
    "                unified_curie = list(intersecting_unified_curies)[0]\n",
    "            else:\n",
    "                # get curie for preferred prefix. usually this is k, but not always.\n",
    "                for curie in curies:\n",
    "                    [prefix, identifier] = curie.split(\":\")\n",
    "                    if prefix in preferred_prefixes:\n",
    "                        unified_curie = curie\n",
    "                        unified_curies.add(unified_curie)\n",
    "                        break\n",
    "                        \n",
    "            if not unified_curie:\n",
    "                if k in curie_to_unified_curie:\n",
    "                    unified_curie = curie_to_unified_curie[k]\n",
    "                else:\n",
    "                    unification_failed_curies.add(k)\n",
    "                    break\n",
    "                    \n",
    "                #raise Exception(f\"failed to find a unified curie for {k} in {curies}\")\n",
    "                \n",
    "            [unified_prefix, unified_identifier] = unified_curie.split(\":\")\n",
    "            unified_prefixes.add(unified_prefix)\n",
    "            \n",
    "            for curie in curies:\n",
    "                [prefix, identifier] = curie.split(\":\")\n",
    "                all_prefixes.add(prefix)\n",
    "                if not curie in curie_to_unified_curie:\n",
    "                    curie_to_unified_curie[curie] = unified_curie\n",
    "                if not curie in curie_to_name:\n",
    "                    curie_to_name[curie] = name\n",
    "                    unified_names.add(name)\n",
    "                elif curie_to_name[curie] != name:\n",
    "                    print(f\"curie {curie} has multiple primary names: {curie_to_name[curie]} and {name}\")"
   ]
  },
  {
   "cell_type": "code",
   "execution_count": 6,
   "metadata": {},
   "outputs": [],
   "source": [
    "columns = []\n",
    "q_node_id_keys = set([\"object\", \"subject\"])\n",
    "q_node_ids = []\n",
    "q_edge_ids = []\n",
    "for q_edge_id,edge_v in query[\"message\"][\"query_graph\"][\"edges\"].items():\n",
    "    q_edge_ids.append(q_edge_id)\n",
    "    q_node_id_found = False\n",
    "    for k,v in edge_v.items():\n",
    "        if (k in q_node_id_keys) and (type(v) is str):\n",
    "            if v not in columns:\n",
    "                q_node_ids.append(v)\n",
    "                columns.append(v)\n",
    "            if not q_node_id_found:\n",
    "                q_node_id_found = True\n",
    "                columns.append(q_edge_id)\n",
    "                \n",
    "for q_node_id in q_node_ids:\n",
    "    columns.append(f\"{q_node_id}_curie\")\n",
    "    columns.append(f\"{q_node_id}_unified_curie\")\n",
    "    \n",
    "columns.append(\"trapi_result_curie_combo\")\n",
    "\n",
    "trapi_result_columns = []\n",
    "for i in range(len(q_node_ids)):\n",
    "    trapi_result_columns.append(q_node_ids[i])\n",
    "    if i < len(q_edge_ids):\n",
    "        trapi_result_columns.append(q_edge_ids[i])"
   ]
  },
  {
   "cell_type": "code",
   "execution_count": 7,
   "metadata": {
    "id": "Wjqcf5E4Yk_h"
   },
   "outputs": [],
   "source": [
    "trapi_results = trapi_message[\"results\"]\n",
    "\n",
    "result_row_data = []\n",
    "for trapi_result in trapi_results:\n",
    "    curie_to_qnode_ids = dict()\n",
    "    for qnode_id, entries in trapi_result[\"node_bindings\"].items():\n",
    "        for entry in entries:\n",
    "            curie = entry[\"id\"]\n",
    "            if curie not in curie_to_qnode_ids:\n",
    "                curie_to_qnode_ids[curie] = []\n",
    "            curie_to_qnode_ids[curie].append(qnode_id)\n",
    "        \n",
    "    row_data_template = dict()\n",
    "    q_edge_id_to_predicates = dict()\n",
    "    trapi_result_curies = set()\n",
    "    for qedge_id, entries in trapi_result[\"edge_bindings\"].items():\n",
    "        for entry in entries:\n",
    "            curie = entry[\"id\"]\n",
    "            kg_entry = trapi_message[\"knowledge_graph\"][\"edges\"][curie]\n",
    "            subject_curie = kg_entry[\"subject\"]\n",
    "            object_curie = kg_entry[\"object\"]\n",
    "            predicate_curie = kg_entry[\"predicate\"]\n",
    "            [predicate_prefix, predicate_identifier] = predicate_curie.split(\":\")\n",
    "            \n",
    "            if qedge_id not in q_edge_id_to_predicates:\n",
    "                q_edge_id_to_predicates[qedge_id] = set()\n",
    "            q_edge_id_to_predicates[qedge_id].add(predicate_identifier)\n",
    "\n",
    "            for curie in [subject_curie, object_curie]:\n",
    "                for qnode_id in curie_to_qnode_ids[curie]:\n",
    "                    if curie in curie_to_unified_curie:\n",
    "                        unified_curie = curie_to_unified_curie[curie]\n",
    "                    else:\n",
    "                        break\n",
    "\n",
    "                    name = curie_to_name[curie]\n",
    "                    row_data_template[qnode_id] = name\n",
    "\n",
    "                    trapi_result_curies.add(unified_curie)\n",
    "                    row_data_template[qnode_id + \"_curie\"] = curie\n",
    "                    row_data_template[qnode_id + \"_unified_curie\"] = unified_curie\n",
    "                    \n",
    "    if len(trapi_result_curies) != len(q_node_ids):\n",
    "        #print(f'skipping {list(curie_to_qnode_ids.keys())}')\n",
    "        continue\n",
    "        \n",
    "    row_data_template[\"trapi_result_curie_combo\"] = tuple(sorted(trapi_result_curies))\n",
    "    q_edge_ids_processed = set()\n",
    "    row_datas = [row_data_template]\n",
    "    for q_edge_id,predicates in q_edge_id_to_predicates.items():\n",
    "        next_row_datas = []\n",
    "        for row_data in row_datas:\n",
    "            for predicate in predicates:\n",
    "                next_row_data = deepcopy(row_data)\n",
    "                next_row_data[q_edge_id] = predicate\n",
    "                next_row_datas.append(\n",
    "                    next_row_data \n",
    "                )\n",
    "        row_datas = next_row_datas\n",
    "    result_row_data += row_datas\n",
    "        \n",
    "results_df = pd.DataFrame.from_records(result_row_data, columns=columns).drop_duplicates()"
   ]
  },
  {
   "cell_type": "markdown",
   "metadata": {
    "id": "uCW1x4PxnjYJ",
    "tags": []
   },
   "source": [
    "## Match up BTE TRAPI Results & PFOCR"
   ]
  },
  {
   "cell_type": "code",
   "execution_count": 8,
   "metadata": {
    "colab": {
     "base_uri": "https://localhost:8080/"
    },
    "id": "OyJJUHbepKp2",
    "outputId": "7237b5f0-8740-47cb-9e3d-b03ea02bdcab"
   },
   "outputs": [
    {
     "name": "stdout",
     "output_type": "stream",
     "text": [
      "status_code: 200\n"
     ]
    }
   ],
   "source": [
    "pfocr_url = \"https://www.dropbox.com/s/1f14t5zaseocyg6/bte_chemicals_diseases_genes.ndjson?dl=1\"\n",
    "pfocr_request = requests.get(pfocr_url)\n",
    "print(f\"status_code: {pfocr_request.status_code}\")\n",
    "if pfocr_request.status_code != 200:\n",
    "    print(pfocr_request.text)"
   ]
  },
  {
   "cell_type": "code",
   "execution_count": 9,
   "metadata": {
    "id": "8fUaenkS0gg1"
   },
   "outputs": [],
   "source": [
    "curies_to_figure_ids = {}\n",
    "figure_id_to_curies = {}\n",
    "figure_id_to_pfocr_result = {}\n",
    "for line in pfocr_request.text.splitlines():\n",
    "    pfocr_result = json.loads(line)\n",
    "    figure_id = pfocr_result[\"_id\"]\n",
    "\n",
    "    curies = set()\n",
    "    for identifier in pfocr_result[\"associatedWith\"][\"mentions\"][\"chemicals\"][\"mesh\"]:\n",
    "        curie = \"MESH:\" + identifier\n",
    "        if curie in curie_to_unified_curie:\n",
    "            unified_curie = curie_to_unified_curie[curie]\n",
    "            curies.add(unified_curie)\n",
    "        else:\n",
    "            #print(f\"{curie} not in list\")\n",
    "            # this curie isn't in the BTE results, but we'll add an item for\n",
    "            # the purpose of the denominator in jaccard/containment cals\n",
    "            curies.add(curie)\n",
    "    for identifier in pfocr_result[\"associatedWith\"][\"mentions\"][\"diseases\"][\"mesh\"]:\n",
    "        curie = \"MESH:\" + identifier\n",
    "        if curie in curie_to_unified_curie:\n",
    "            unified_curie = curie_to_unified_curie[curie]\n",
    "            curies.add(unified_curie)\n",
    "        else:\n",
    "            #print(f\"{curie} not in list\")\n",
    "            # this curie isn't in the BTE results, but we'll add an item for\n",
    "            # the purpose of the denominator in jaccard/containment cals\n",
    "            curies.add(curie)\n",
    "    for identifier in pfocr_result[\"associatedWith\"][\"mentions\"][\"genes\"][\"ncbigene\"]:\n",
    "        curie = \"NCBIGene:\" + identifier\n",
    "        if curie in curie_to_unified_curie:\n",
    "            unified_curie = curie_to_unified_curie[curie]\n",
    "            curies.add(unified_curie)\n",
    "        else:\n",
    "            #print(f\"{curie} not in list\")\n",
    "            # this curie isn't in the BTE results, but we'll add an item for\n",
    "            # the purpose of the denominator in jaccard/containment cals\n",
    "            curies.add(curie)\n",
    "\n",
    "    figure_id_to_pfocr_result[figure_id] = pfocr_result\n",
    "    figure_id_to_curies[figure_id] = curies\n",
    "\n",
    "    curies_key = tuple(sorted(curies))\n",
    "    if curies_key not in curies_to_figure_ids:\n",
    "        curies_to_figure_ids[curies_key] = []\n",
    "    curies_to_figure_ids[curies_key].append(figure_id)"
   ]
  },
  {
   "cell_type": "code",
   "execution_count": 10,
   "metadata": {
    "colab": {
     "base_uri": "https://localhost:8080/"
    },
    "id": "aZX7IzakKCnH",
    "outputId": "651e9425-f1a7-40ca-c98f-59c7dfdadc14"
   },
   "outputs": [],
   "source": [
    "from SetSimilaritySearch import SearchIndex\n",
    "\n",
    "# the reference sets are supposed to be from PFOCR only\n",
    "reference_sets = list()\n",
    "for curies in set(curies_to_figure_ids.keys()):\n",
    "    reference_sets.append(set(curies))\n",
    "# but in order to calculate the scores correctly,\n",
    "# the SetSimilaritySearch library requires that\n",
    "# every curie from the bte results need to be\n",
    "# mentioned at least once in the reference set.\n",
    "# That's the only reason we add them below, as\n",
    "# one large set.\n",
    "\n",
    "unified_curie_columns = [\n",
    "    q_node_id + \"_unified_curie\" for q_node_id in q_node_ids\n",
    "]\n",
    "\n",
    "trapi_result_curie_combos = set()\n",
    "for i, df in results_df[unified_curie_columns].drop_duplicates().iterrows():\n",
    "    trapi_result_curies = []\n",
    "    for unified_curie_column in unified_curie_columns:\n",
    "        trapi_result_curies.append(\n",
    "            df[unified_curie_column]\n",
    "        )\n",
    "    trapi_result_curie_combos.add(tuple(sorted(\n",
    "        trapi_result_curies\n",
    "    )))\n",
    "    \n",
    "reference_set = set()\n",
    "for trapi_result_curie_combo in trapi_result_curie_combos:\n",
    "    reference_set |= set(trapi_result_curie_combo)\n",
    "reference_sets.append(reference_set)\n",
    "\n",
    "matchable_node_min = 2\n",
    "matchable_node_count = len(q_node_ids)\n",
    "index = SearchIndex(reference_sets, similarity_func_name=\"containment\", \n",
    "    similarity_threshold=matchable_node_min/matchable_node_count)\n",
    "\n",
    "trapi_figure_overlap_rows = []\n",
    "for trapi_result_curie_combo in trapi_result_curie_combos:\n",
    "    trapi_curies = set(trapi_result_curie_combo)\n",
    "    results = index.query(trapi_curies)\n",
    "    for result in results:\n",
    "        figure_curie_combos = reference_sets[result[0]]\n",
    "        figure_curie_key = tuple(sorted(figure_curie_combos))\n",
    "        \n",
    "        # needed to not match bte results to themselves\n",
    "        if figure_curie_key in curies_to_figure_ids:\n",
    "            figure_ids = curies_to_figure_ids[figure_curie_key]\n",
    "        else:\n",
    "            continue\n",
    "            \n",
    "        score = result[1]\n",
    "        \n",
    "        common_curies = trapi_curies.intersection(figure_curie_combos)\n",
    "        for figure_id in figure_ids:\n",
    "            pfocr_result = figure_id_to_pfocr_result[figure_id]\n",
    "            trapi_figure_overlap_rows.append({\n",
    "                \"figure_id\": figure_id,\n",
    "                \"figure_url\": pfocr_result[\"associatedWith\"][\"figureUrl\"],\n",
    "                \"figure_title\": pfocr_result[\"associatedWith\"][\"title\"],\n",
    "                \"trapi_result_curie_combo\": trapi_result_curie_combo,\n",
    "                \"figure_curie_combo\": figure_curie_key,\n",
    "                \"overlap_curie_combo\": tuple(sorted(common_curies)),\n",
    "                \"score\": score,\n",
    "            })\n",
    "\n",
    "\n",
    "trapi_figure_overlap_df = pd.DataFrame.from_records(trapi_figure_overlap_rows)\n",
    "\n",
    "results_with_figures_df = trapi_figure_overlap_df.merge(\n",
    "    results_df,\n",
    "    on=\"trapi_result_curie_combo\",\n",
    "    how=\"left\"\n",
    ")"
   ]
  },
  {
   "cell_type": "markdown",
   "metadata": {
    "tags": []
   },
   "source": [
    "## Fisher's Exact Test\n",
    "\n",
    "Is the two-sided (two-tailed) Fisher's Exact Test calculated correctly below?\n",
    "\n",
    "I initially used the SciPy `stats.fisher_exact` method ([docs](https://docs.scipy.org/doc/scipy/reference/generated/scipy.stats.fisher_exact.html)), but it was too slow -- took about 7 min to calculate all the p-values for about 500k rows. So I switched to the `pvalue_npy` method from the fisher package ([docs](https://pypi.org/project/fisher/)). This was much faster (<1 sec instead of 7 min), but for some inputs, the results are slightly different, probably due to the `.to_numpy('uint')` conversion. The difference appears minor, so I don't think it's worth worrying about."
   ]
  },
  {
   "cell_type": "code",
   "execution_count": 11,
   "metadata": {},
   "outputs": [
    {
     "name": "stdout",
     "output_type": "stream",
     "text": [
      "total instance counts:\n",
      "  chemicals: 275456\n",
      "  diseases: 20465\n",
      "  genes: 1369680\n",
      "\n",
      "unique counts:\n",
      "  chemicals: 14482\n",
      "  diseases: 1430\n",
      "  genes: 14253\n",
      "\n",
      "M for Fisher Exact test: 28735\n",
      "TODO: in the future, it might be more correct to base this number on all the CURIEs in BTE/TRAPI\n"
     ]
    }
   ],
   "source": [
    "all_genes = set()\n",
    "gene_instance_count = 0\n",
    "all_chemicals = set()\n",
    "chemical_instance_count = 0\n",
    "all_diseases = set()\n",
    "disease_instance_count = 0\n",
    "for figure_id, pfocr_result in figure_id_to_pfocr_result.items():\n",
    "    genes = pfocr_result[\"associatedWith\"][\"mentions\"][\"genes\"][\"ncbigene\"]\n",
    "    for gene in genes:\n",
    "        gene_instance_count += 1\n",
    "        all_genes.add(gene)\n",
    "        \n",
    "    chemicals = pfocr_result[\"associatedWith\"][\"mentions\"][\"chemicals\"][\"mesh\"]\n",
    "    for chemical in chemicals:\n",
    "        chemical_instance_count += 1\n",
    "        all_chemicals.add(chemical)\n",
    "        \n",
    "    diseases = pfocr_result[\"associatedWith\"][\"mentions\"][\"diseases\"][\"mesh\"]\n",
    "    for disease in diseases:\n",
    "        disease_instance_count += 1\n",
    "        all_diseases.add(disease)\n",
    "    \n",
    "print(\"total instance counts:\")\n",
    "print(f'  chemicals: {chemical_instance_count}')\n",
    "print(f'  diseases: {disease_instance_count}')\n",
    "print(f'  genes: {gene_instance_count}')\n",
    "\n",
    "print(\"\")\n",
    "\n",
    "print(\"unique counts:\")\n",
    "print(f'  chemicals: {len(all_chemicals)}')\n",
    "print(f'  diseases: {len(all_diseases)}')\n",
    "print(f'  genes: {len(all_genes)}')\n",
    "\n",
    "print(\"\")\n",
    "\n",
    "curie_category_to_curies = {\n",
    "    \"biolink:ChemicalEntity\": all_chemicals,\n",
    "    \"biolink:SmallMolecule\": all_chemicals,\n",
    "    \"biolink:Disease\": all_diseases,\n",
    "    \"biolink:Gene\": all_genes,\n",
    "}\n",
    "\n",
    "\n",
    "all_figure_curies = set()\n",
    "for curie_category in set(curie_category_to_curies.keys()).intersection(curie_categories):\n",
    "    all_figure_curies |= curie_category_to_curies[curie_category]\n",
    "all_figure_curie_count = len(all_figure_curies)\n",
    "\n",
    "print(f'M for Fisher Exact test: {all_figure_curie_count}')\n",
    "print(\n",
    "    'TODO: in the future, it might be more correct to base this number on all the CURIEs in BTE/TRAPI'\n",
    ")"
   ]
  },
  {
   "cell_type": "markdown",
   "metadata": {},
   "source": [
    "See [this contingency table](https://docs.google.com/spreadsheets/d/1d-48R5N0auuKXSLJ7oZ2E_ldO26Z5KiEH3AQx5kDrC4/edit#gid=0):\n",
    "\n",
    "|      |  |\n",
    "| ----------- | ----------- |\n",
    "| trapi_curies_in_pwy      | q_node_id_count - trapi_curies_in_pwy       |\n",
    "| curies_in_pwy - trapi_curies_in_pwy   | 28735 - curies_in_pwy - q_node_id_count + trapi_curies_in_pwy        |\n",
    "\n",
    "and the [scipy documentation](https://docs.scipy.org/doc/scipy/reference/generated/scipy.stats.fisher_exact.html):\n",
    "\n",
    "|      |  |\n",
    "| ----------- | ----------- |\n",
    "| x      | n - x       |\n",
    "| N - x   | M - (n + N) + x        |\n",
    "\n",
    "and the [fisher documentation](https://pypi.org/project/fisher/):\n",
    "\n",
    "|      |  |\n",
    "| ----------------------- | ----------------------- |\n",
    "| Selected & Having the property     | Selected & Not having the property |\n",
    "| Not Selected & Having the property     | Not Selected & Not having the property |"
   ]
  },
  {
   "cell_type": "code",
   "execution_count": 12,
   "metadata": {},
   "outputs": [],
   "source": [
    "# trapi_curies_in_pwy\n",
    "# x\n",
    "# Selected & Having the property\n",
    "results_with_figures_df[\"yes_trapi_yes_pwy\"] = (\n",
    "    results_with_figures_df[\"overlap_curie_combo\"].map(len)\n",
    ")\n",
    "\n",
    "# q_node_id_count - trapi_curies_in_pwy\n",
    "# n - x\n",
    "# Selected & Not Having the property\n",
    "results_with_figures_df[\"yes_trapi_no_pwy\"] = (\n",
    "    len(q_node_ids) - results_with_figures_df[\"yes_trapi_yes_pwy\"]\n",
    ")\n",
    "\n",
    "# curies_in_pwy - trapi_curies_in_pwy\n",
    "# N - x\n",
    "# Not Selected & Having the property\n",
    "results_with_figures_df[\"no_trapi_yes_pwy\"] = (\n",
    "    results_with_figures_df[\"figure_curie_combo\"].map(len) - \n",
    "    results_with_figures_df[\"yes_trapi_yes_pwy\"]\n",
    ")\n",
    "\n",
    "# 28735 - curies_in_pwy - q_node_id_count + trapi_curies_in_pwy\n",
    "# M - (n + N) + x\n",
    "# Not Selected & Not Having the property\n",
    "results_with_figures_df[\"no_trapi_no_pwy\"] = (\n",
    "    all_figure_curie_count -\n",
    "    results_with_figures_df[\"figure_curie_combo\"].map(len) -\n",
    "    len(q_node_ids) +\n",
    "    results_with_figures_df[\"yes_trapi_yes_pwy\"]\n",
    ")"
   ]
  },
  {
   "cell_type": "code",
   "execution_count": 13,
   "metadata": {},
   "outputs": [
    {
     "name": "stdout",
     "output_type": "stream",
     "text": [
      "elapsed time: 452.3985230922699\n"
     ]
    }
   ],
   "source": [
    "import scipy.stats as stats\n",
    "\n",
    "\n",
    "start = time.time()\n",
    "\n",
    "results_with_figures_df[\"fishers_exact_slow\"] = results_with_figures_df[\n",
    "    [\"yes_trapi_yes_pwy\",\n",
    "     \"yes_trapi_no_pwy\",\n",
    "     \"no_trapi_yes_pwy\",\n",
    "     \"no_trapi_no_pwy\"]\n",
    "].apply(\n",
    "    lambda r: stats.fisher_exact([[\n",
    "        r.yes_trapi_yes_pwy,\n",
    "        r.yes_trapi_no_pwy\n",
    "    ], [\n",
    "        r.no_trapi_yes_pwy,\n",
    "        r.no_trapi_no_pwy,\n",
    "    ]]),\n",
    "    axis=1)\n",
    "\n",
    "results_with_figures_df[\"p_value_slow\"] = results_with_figures_df[\"fishers_exact_slow\"].apply(\n",
    "    lambda x: x[1]\n",
    ")\n",
    "\n",
    "end = time.time()\n",
    "print(f'elapsed time: {end - start}')"
   ]
  },
  {
   "cell_type": "code",
   "execution_count": 15,
   "metadata": {},
   "outputs": [
    {
     "name": "stdout",
     "output_type": "stream",
     "text": [
      "elapsed time: 0.4414098262786865\n"
     ]
    },
    {
     "name": "stderr",
     "output_type": "stream",
     "text": [
      "/var/folders/89/ldcft7g57d75vkyg58ngcnhw0000gp/T/ipykernel_64747/1111999521.py:13: RuntimeWarning: divide by zero encountered in true_divide\n",
      "  odds = (\n"
     ]
    }
   ],
   "source": [
    "# see https://stackoverflow.com/a/58661068/5354298\n",
    "from fisher import pvalue_npy\n",
    "\n",
    "\n",
    "start = time.time()\n",
    "\n",
    "_, _, twosided = pvalue_npy(\n",
    "    results_with_figures_df[\"yes_trapi_yes_pwy\"].to_numpy('uint'),\n",
    "    results_with_figures_df[\"yes_trapi_no_pwy\"].to_numpy('uint'),\n",
    "    results_with_figures_df[\"no_trapi_yes_pwy\"].to_numpy('uint'),\n",
    "    results_with_figures_df[\"no_trapi_no_pwy\"].to_numpy('uint'),\n",
    ")\n",
    "odds = (\n",
    "    results_with_figures_df[\"yes_trapi_yes_pwy\"].to_numpy('uint') *\n",
    "    results_with_figures_df[\"no_trapi_no_pwy\"].to_numpy('uint')\n",
    ") / (\n",
    "    results_with_figures_df[\"yes_trapi_no_pwy\"].to_numpy('uint') *\n",
    "    results_with_figures_df[\"no_trapi_yes_pwy\"].to_numpy('uint')\n",
    ")\n",
    "\n",
    "results_with_figures_df[\"p_value_fast\"] = pd.Series(twosided, index=results_with_figures_df.index)\n",
    "\n",
    "end = time.time()\n",
    "print(f'elapsed time: {end - start}')"
   ]
  },
  {
   "cell_type": "markdown",
   "metadata": {},
   "source": [
    "### Compare"
   ]
  },
  {
   "cell_type": "markdown",
   "metadata": {},
   "source": [
    "The histograms look the same:"
   ]
  },
  {
   "cell_type": "code",
   "execution_count": 16,
   "metadata": {},
   "outputs": [
    {
     "data": {
      "text/plain": [
       "(array([4.57475e+05, 4.79240e+04, 3.04580e+04, 1.24000e+02, 6.60200e+03,\n",
       "        0.00000e+00, 6.80000e+01, 0.00000e+00, 1.00000e+00, 1.00000e+01]),\n",
       " array([2.52908245e-13, 4.78668596e-05, 9.57337190e-05, 1.43600578e-04,\n",
       "        1.91467438e-04, 2.39334297e-04, 2.87201156e-04, 3.35068016e-04,\n",
       "        3.82934875e-04, 4.30801735e-04, 4.78668594e-04]),\n",
       " <BarContainer object of 10 artists>)"
      ]
     },
     "execution_count": 16,
     "metadata": {},
     "output_type": "execute_result"
    },
    {
     "data": {
      "image/png": "[encoded data removed]",
      "text/plain": [
       "<Figure size 432x288 with 1 Axes>"
      ]
     },
     "metadata": {
      "needs_background": "light"
     },
     "output_type": "display_data"
    }
   ],
   "source": [
    "plt.hist(results_with_figures_df[\"p_value_slow\"])"
   ]
  },
  {
   "cell_type": "code",
   "execution_count": 17,
   "metadata": {},
   "outputs": [
    {
     "data": {
      "text/plain": [
       "(array([4.57475e+05, 4.79240e+04, 3.04580e+04, 1.24000e+02, 6.60200e+03,\n",
       "        0.00000e+00, 6.80000e+01, 0.00000e+00, 1.00000e+00, 1.00000e+01]),\n",
       " array([2.45068090e-10, 4.78670800e-05, 9.57339149e-05, 1.43600750e-04,\n",
       "        1.91467585e-04, 2.39334420e-04, 2.87201254e-04, 3.35068089e-04,\n",
       "        3.82934924e-04, 4.30801759e-04, 4.78668594e-04]),\n",
       " <BarContainer object of 10 artists>)"
      ]
     },
     "execution_count": 17,
     "metadata": {},
     "output_type": "execute_result"
    },
    {
     "data": {
      "image/png": "[encoded data removed]",
      "text/plain": [
       "<Figure size 432x288 with 1 Axes>"
      ]
     },
     "metadata": {
      "needs_background": "light"
     },
     "output_type": "display_data"
    }
   ],
   "source": [
    "plt.hist(results_with_figures_df[\"p_value_fast\"])"
   ]
  },
  {
   "cell_type": "markdown",
   "metadata": {},
   "source": [
    "A small proportion of the total have a ratio that is not close to zero:"
   ]
  },
  {
   "cell_type": "code",
   "execution_count": 18,
   "metadata": {},
   "outputs": [],
   "source": [
    "results_with_figures_df[\"p_value_ratio\"] = (\n",
    "    results_with_figures_df[\"p_value_slow\"] / results_with_figures_df[\"p_value_fast\"]\n",
    ")"
   ]
  },
  {
   "cell_type": "code",
   "execution_count": 19,
   "metadata": {},
   "outputs": [
    {
     "data": {
      "text/plain": [
       "542662"
      ]
     },
     "execution_count": 19,
     "metadata": {},
     "output_type": "execute_result"
    }
   ],
   "source": [
    "len(results_with_figures_df)"
   ]
  },
  {
   "cell_type": "code",
   "execution_count": 20,
   "metadata": {},
   "outputs": [
    {
     "data": {
      "text/plain": [
       "23"
      ]
     },
     "execution_count": 20,
     "metadata": {},
     "output_type": "execute_result"
    }
   ],
   "source": [
    "len(results_with_figures_df[\n",
    "    results_with_figures_df[\"p_value_ratio\"] < 0.999\n",
    "])"
   ]
  },
  {
   "cell_type": "code",
   "execution_count": 21,
   "metadata": {},
   "outputs": [
    {
     "data": {
      "text/plain": [
       "0"
      ]
     },
     "execution_count": 21,
     "metadata": {},
     "output_type": "execute_result"
    }
   ],
   "source": [
    "len(results_with_figures_df[\n",
    "    results_with_figures_df[\"p_value_ratio\"] > 1.001\n",
    "])"
   ]
  },
  {
   "cell_type": "code",
   "execution_count": 22,
   "metadata": {},
   "outputs": [
    {
     "name": "stdout",
     "output_type": "stream",
     "text": [
      "36235     0.000012\n",
      "36234     0.000012\n",
      "36233     0.000012\n",
      "36232     0.000012\n",
      "36231     0.000012\n",
      "            ...   \n",
      "364691    1.000000\n",
      "322043    1.000000\n",
      "322044    1.000000\n",
      "118808    1.000000\n",
      "360776    1.000000\n",
      "Name: p_value_ratio, Length: 542662, dtype: float64\n"
     ]
    }
   ],
   "source": [
    "print(\n",
    "    results_with_figures_df[\"p_value_ratio\"].sort_values()\n",
    ")"
   ]
  },
  {
   "cell_type": "code",
   "execution_count": 23,
   "metadata": {},
   "outputs": [
    {
     "name": "stdout",
     "output_type": "stream",
     "text": [
      "1.160133183273141e-05\n",
      "1.0000000000771918\n"
     ]
    }
   ],
   "source": [
    "print(results_with_figures_df[\"p_value_ratio\"].min())\n",
    "print(results_with_figures_df[\"p_value_ratio\"].max())"
   ]
  },
  {
   "cell_type": "markdown",
   "metadata": {},
   "source": [
    "The small number of values where the ratio isn't close to zero appear to be coming from very small p-values, e.g. `2.529082e-13` vs. `2.450681e-10`:"
   ]
  },
  {
   "cell_type": "code",
   "execution_count": 24,
   "metadata": {},
   "outputs": [
    {
     "name": "stdout",
     "output_type": "stream",
     "text": [
      "36227     2.529082e-13\n",
      "36234     2.529082e-13\n",
      "36235     2.529082e-13\n",
      "36231     2.529082e-13\n",
      "36230     2.529082e-13\n",
      "              ...     \n",
      "199545    4.786686e-04\n",
      "538824    4.786686e-04\n",
      "135252    4.786686e-04\n",
      "187939    4.786686e-04\n",
      "538823    4.786686e-04\n",
      "Name: p_value_slow, Length: 542662, dtype: float64\n",
      "\n",
      "36204     2.450681e-10\n",
      "36203     2.450681e-10\n",
      "36200     2.450681e-10\n",
      "36199     2.450681e-10\n",
      "36198     2.450681e-10\n",
      "              ...     \n",
      "199545    4.786686e-04\n",
      "538824    4.786686e-04\n",
      "135252    4.786686e-04\n",
      "187939    4.786686e-04\n",
      "538823    4.786686e-04\n",
      "Name: p_value_fast, Length: 542662, dtype: float64\n"
     ]
    }
   ],
   "source": [
    "print(results_with_figures_df[\"p_value_slow\"].sort_values())\n",
    "print(\"\")\n",
    "print(results_with_figures_df[\"p_value_fast\"].sort_values())"
   ]
  },
  {
   "cell_type": "code",
   "execution_count": 25,
   "metadata": {},
   "outputs": [
    {
     "data": {
      "text/plain": [
       "(array([2.30000e+01, 0.00000e+00, 0.00000e+00, 0.00000e+00, 0.00000e+00,\n",
       "        0.00000e+00, 0.00000e+00, 0.00000e+00, 0.00000e+00, 5.42639e+05]),\n",
       " array([1.16013318e-05, 1.00010441e-01, 2.00009281e-01, 3.00008121e-01,\n",
       "        4.00006961e-01, 5.00005801e-01, 6.00004641e-01, 7.00003480e-01,\n",
       "        8.00002320e-01, 9.00001160e-01, 1.00000000e+00]),\n",
       " <BarContainer object of 10 artists>)"
      ]
     },
     "execution_count": 25,
     "metadata": {},
     "output_type": "execute_result"
    },
    {
     "data": {
      "image/png": "[encoded data removed]",
      "text/plain": [
       "<Figure size 432x288 with 1 Axes>"
      ]
     },
     "metadata": {
      "needs_background": "light"
     },
     "output_type": "display_data"
    }
   ],
   "source": [
    "plt.hist(\n",
    "    results_with_figures_df[\"p_value_ratio\"]\n",
    ")"
   ]
  },
  {
   "cell_type": "code",
   "execution_count": 26,
   "metadata": {},
   "outputs": [
    {
     "data": {
      "text/plain": [
       "(array([11.,  0.,  0.,  0.,  0.,  0.,  4.,  0.,  6.,  2.]),\n",
       " array([1.16013318e-05, 2.43663510e-05, 3.71313701e-05, 4.98963892e-05,\n",
       "        6.26614083e-05, 7.54264274e-05, 8.81914466e-05, 1.00956466e-04,\n",
       "        1.13721485e-04, 1.26486504e-04, 1.39251523e-04]),\n",
       " <BarContainer object of 10 artists>)"
      ]
     },
     "execution_count": 26,
     "metadata": {},
     "output_type": "execute_result"
    },
    {
     "data": {
      "image/png": "[encoded data removed]",
      "text/plain": [
       "<Figure size 432x288 with 1 Axes>"
      ]
     },
     "metadata": {
      "needs_background": "light"
     },
     "output_type": "display_data"
    }
   ],
   "source": [
    "plt.hist(results_with_figures_df[\n",
    "    results_with_figures_df[\"p_value_ratio\"] < 0.999\n",
    "][\"p_value_ratio\"])"
   ]
  },
  {
   "cell_type": "code",
   "execution_count": 27,
   "metadata": {},
   "outputs": [
    {
     "data": {
      "text/plain": [
       "(array([2.30000e+01, 0.00000e+00, 0.00000e+00, 0.00000e+00, 0.00000e+00,\n",
       "        0.00000e+00, 0.00000e+00, 0.00000e+00, 0.00000e+00, 3.57191e+05]),\n",
       " array([1.16013318e-05, 1.00010441e-01, 2.00009281e-01, 3.00008121e-01,\n",
       "        4.00006961e-01, 5.00005801e-01, 6.00004641e-01, 7.00003480e-01,\n",
       "        8.00002320e-01, 9.00001160e-01, 1.00000000e+00]),\n",
       " <BarContainer object of 10 artists>)"
      ]
     },
     "execution_count": 27,
     "metadata": {},
     "output_type": "execute_result"
    },
    {
     "data": {
      "image/png": "[encoded data removed]",
      "text/plain": [
       "<Figure size 432x288 with 1 Axes>"
      ]
     },
     "metadata": {
      "needs_background": "light"
     },
     "output_type": "display_data"
    }
   ],
   "source": [
    "plt.hist(results_with_figures_df[\n",
    "    results_with_figures_df[\"p_value_ratio\"] < 1\n",
    "][\"p_value_ratio\"])"
   ]
  },
  {
   "cell_type": "code",
   "execution_count": 28,
   "metadata": {},
   "outputs": [
    {
     "data": {
      "text/plain": [
       "(array([0., 0., 0., 0., 0., 0., 0., 0., 0., 0.]),\n",
       " array([0. , 0.1, 0.2, 0.3, 0.4, 0.5, 0.6, 0.7, 0.8, 0.9, 1. ]),\n",
       " <BarContainer object of 10 artists>)"
      ]
     },
     "execution_count": 28,
     "metadata": {},
     "output_type": "execute_result"
    },
    {
     "data": {
      "image/png": "[encoded data removed]",
      "text/plain": [
       "<Figure size 432x288 with 1 Axes>"
      ]
     },
     "metadata": {
      "needs_background": "light"
     },
     "output_type": "display_data"
    }
   ],
   "source": [
    "plt.hist(results_with_figures_df[\n",
    "    results_with_figures_df[\"p_value_ratio\"] == 1\n",
    "][\"p_value_ratio\"])"
   ]
  },
  {
   "cell_type": "code",
   "execution_count": 29,
   "metadata": {},
   "outputs": [
    {
     "data": {
      "text/plain": [
       "(array([5.5786e+04, 4.5300e+04, 5.9275e+04, 1.2417e+04, 1.5200e+02,\n",
       "        6.7680e+03, 6.0000e+00, 2.2470e+03, 9.7800e+02, 2.5190e+03]),\n",
       " array([1., 1., 1., 1., 1., 1., 1., 1., 1., 1., 1.]),\n",
       " <BarContainer object of 10 artists>)"
      ]
     },
     "execution_count": 29,
     "metadata": {},
     "output_type": "execute_result"
    },
    {
     "data": {
      "image/png": "[encoded data removed]",
      "text/plain": [
       "<Figure size 432x288 with 1 Axes>"
      ]
     },
     "metadata": {
      "needs_background": "light"
     },
     "output_type": "display_data"
    }
   ],
   "source": [
    "plt.hist(results_with_figures_df[\n",
    "    results_with_figures_df[\"p_value_ratio\"] > 1\n",
    "][\"p_value_ratio\"])"
   ]
  },
  {
   "cell_type": "code",
   "execution_count": 30,
   "metadata": {},
   "outputs": [
    {
     "data": {
      "text/plain": [
       "(array([0., 0., 0., 0., 0., 0., 0., 0., 0., 0.]),\n",
       " array([0. , 0.1, 0.2, 0.3, 0.4, 0.5, 0.6, 0.7, 0.8, 0.9, 1. ]),\n",
       " <BarContainer object of 10 artists>)"
      ]
     },
     "execution_count": 30,
     "metadata": {},
     "output_type": "execute_result"
    },
    {
     "data": {
      "image/png": "[encoded data removed]",
      "text/plain": [
       "<Figure size 432x288 with 1 Axes>"
      ]
     },
     "metadata": {
      "needs_background": "light"
     },
     "output_type": "display_data"
    }
   ],
   "source": [
    "plt.hist(results_with_figures_df[\n",
    "    results_with_figures_df[\"p_value_ratio\"] > 1.001\n",
    "][\"p_value_ratio\"])"
   ]
  },
  {
   "cell_type": "code",
   "execution_count": null,
   "metadata": {},
   "outputs": [],
   "source": []
  },
  {
   "cell_type": "code",
   "execution_count": null,
   "metadata": {},
   "outputs": [],
   "source": []
  },
  {
   "cell_type": "code",
   "execution_count": null,
   "metadata": {},
   "outputs": [],
   "source": []
  },
  {
   "cell_type": "code",
   "execution_count": null,
   "metadata": {},
   "outputs": [],
   "source": []
  }
 ],
 "metadata": {
  "colab": {
   "collapsed_sections": [],
   "name": "bte_clustering.ipynb",
   "provenance": []
  },
  "kernelspec": {
   "display_name": "Python 3 (ipykernel)",
   "language": "python",
   "name": "python3"
  },
  "language_info": {
   "codemirror_mode": {
    "name": "ipython",
    "version": 3
   },
   "file_extension": ".py",
   "mimetype": "text/x-python",
   "name": "python",
   "nbconvert_exporter": "python",
   "pygments_lexer": "ipython3",
   "version": "3.10.4"
  }
 },
 "nbformat": 4,
 "nbformat_minor": 4
}
