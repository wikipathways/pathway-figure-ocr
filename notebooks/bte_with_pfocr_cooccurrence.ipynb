{
 "cells": [
  {
   "cell_type": "markdown",
   "metadata": {
    "colab_type": "text",
    "id": "view-in-github"
   },
   "source": [
    "<a href=\"https://colab.research.google.com/github/wikipathways/pathway-figure-ocr/blob/master/notebooks/bte_with_pfocr_cooccurrence.ipynb\" target=\"_parent\"><img src=\"https://colab.research.google.com/assets/colab-badge.svg\" alt=\"Open In Colab\"/></a>"
   ]
  },
  {
   "cell_type": "raw",
   "metadata": {
    "colab": {
     "base_uri": "https://localhost:8080/"
    },
    "id": "UZZqPBS0UppM",
    "outputId": "9996ad71-f8fb-4c1f-bc40-430ede6b5de3"
   },
   "source": [
    "!pip install numpy pandas requests requests_cache SetSimilaritySearch"
   ]
  },
  {
   "cell_type": "code",
   "execution_count": 1,
   "metadata": {
    "id": "uG7JfetZjcXH"
   },
   "outputs": [],
   "source": [
    "from copy import copy, deepcopy\n",
    "import json"
   ]
  },
  {
   "cell_type": "markdown",
   "metadata": {
    "id": "j9DiSC9NU_Fa"
   },
   "source": [
    "# BTE with PFOCR Coocurrence\n",
    "\n",
    "I modified a query from the 3/17 Question of the Month to find relationships like this:\n",
    "\n",
    "`1 of 3 selected genes` -> `any gene` -> `Valproic Acid`"
   ]
  },
  {
   "cell_type": "code",
   "execution_count": 2,
   "metadata": {
    "id": "rzoUUSDeVz0a"
   },
   "outputs": [],
   "source": [
    "import requests\n",
    "import requests_cache\n",
    "\n",
    "\n",
    "requests_cache.install_cache(\"pfocr_cache\")"
   ]
  },
  {
   "cell_type": "markdown",
   "metadata": {
    "id": "TxW41muraAFL"
   },
   "source": [
    "## Get BTE Results"
   ]
  },
  {
   "cell_type": "code",
   "execution_count": 3,
   "metadata": {
    "colab": {
     "base_uri": "https://localhost:8080/"
    },
    "id": "N71NYHWeVCj9",
    "outputId": "841a8dfb-1aa4-4f60-ba43-88989b390541"
   },
   "outputs": [
    {
     "name": "stdout",
     "output_type": "stream",
     "text": [
      "200\n"
     ]
    }
   ],
   "source": [
    "query = {\n",
    "    \"message\": {\n",
    "        \"query_graph\": {\n",
    "            \"edges\": {\n",
    "                \"e01\": {\n",
    "                    \"object\": \"n0\",\n",
    "                    \"predicates\": [\"biolink:related_to\"],\n",
    "                    \"subject\": \"n1\"\n",
    "                },\n",
    "                \"e02\": {\n",
    "                    \"object\": \"n1\",\n",
    "                    \"predicates\": [\"biolink:related_to\"],\n",
    "                    \"subject\": \"n2\"\n",
    "                }\n",
    "            },\n",
    "            \"nodes\": {\n",
    "                \"n0\": {\n",
    "                    \"categories\": [\"biolink:Gene\"],\n",
    "                    \"ids\": [\"NCBIGene:3855\", \"NCBIGene:211\", \"NCBIGene:26995\"]\n",
    "                },\n",
    "                \"n1\": {\n",
    "                    \"categories\": [\"biolink:Gene\"]\n",
    "                },\n",
    "                \"n2\": {\n",
    "                    \"categories\": [\"biolink:SmallMolecule\"],\n",
    "                    \"ids\": [\"PUBCHEM.COMPOUND:3121\"]\n",
    "                }\n",
    "            }\n",
    "        }\n",
    "    }\n",
    "}\n",
    "\n",
    "# bte_r = requests.post(\"https://api.bte.ncats.io/v1/query\", json=query)\n",
    "bte_r = requests.post(\"http://localhost:3000/v1/query\", json=query)\n",
    "# To clear the cache for this request\n",
    "# requests_cache.get_cache().delete(bte_r.cache_key)\n",
    "\n",
    "print(bte_r.status_code)\n",
    "if bte_r.status_code != 200:\n",
    "    print(bte_r.text)"
   ]
  },
  {
   "cell_type": "code",
   "execution_count": 4,
   "metadata": {
    "colab": {
     "base_uri": "https://localhost:8080/"
    },
    "id": "KwyR8hcDZFUo",
    "outputId": "6b734567-d04a-4f63-d066-e408143e983d"
   },
   "outputs": [
    {
     "name": "stdout",
     "output_type": "stream",
     "text": [
      "['n0', 'n1']\n"
     ]
    }
   ],
   "source": [
    "gene_q_node_ids = []\n",
    "for q_node_id, v in query[\"message\"][\"query_graph\"][\"nodes\"].items():\n",
    "    if \"categories\" in v and \"biolink:Gene\" in v[\"categories\"]:\n",
    "        gene_q_node_ids.append(q_node_id)\n",
    "print(gene_q_node_ids)"
   ]
  },
  {
   "cell_type": "code",
   "execution_count": 5,
   "metadata": {
    "id": "Wjqcf5E4Yk_h"
   },
   "outputs": [
    {
     "name": "stdout",
     "output_type": "stream",
     "text": [
      "BTE TRAPI result count: 367\n"
     ]
    }
   ],
   "source": [
    "bte_message = bte_r.json()[\"message\"]\n",
    "bte_results = bte_message[\"results\"]\n",
    "genes_to_bte_results = dict()\n",
    "for bte_result in bte_results:\n",
    "    bte_result_genes = []\n",
    "    for gene_q_node_id in gene_q_node_ids:\n",
    "        for entry in bte_result[\"node_bindings\"][gene_q_node_id]:\n",
    "            id = entry[\"id\"]\n",
    "            target_prefix = \"NCBIGene:\"\n",
    "            if id.startswith(target_prefix):\n",
    "                bte_result_genes.append(\"NCBIGene:\" + id[len(target_prefix):])\n",
    "    genes_key = tuple(sorted(bte_result_genes))\n",
    "    if not genes_key in genes_to_bte_results:\n",
    "        genes_to_bte_results[genes_key] = []\n",
    "    genes_to_bte_results[genes_key].append(bte_result)\n",
    "print(f'BTE TRAPI result count: {len(bte_results)}')"
   ]
  },
  {
   "cell_type": "code",
   "execution_count": 6,
   "metadata": {},
   "outputs": [
    {
     "name": "stdout",
     "output_type": "stream",
     "text": [
      "{\n",
      "    \"node_bindings\": {\n",
      "        \"n1\": [\n",
      "            {\n",
      "                \"id\": \"NCBIGene:5599\"\n",
      "            }\n",
      "        ],\n",
      "        \"n0\": [\n",
      "            {\n",
      "                \"id\": \"NCBIGene:211\"\n",
      "            }\n",
      "        ],\n",
      "        \"n2\": [\n",
      "            {\n",
      "                \"id\": \"PUBCHEM.COMPOUND:3121\"\n",
      "            }\n",
      "        ]\n",
      "    },\n",
      "    \"edge_bindings\": {\n",
      "        \"e01\": [\n",
      "            {\n",
      "                \"id\": \"5fc6cc476f4bcb068460c5d299db52dd\"\n",
      "            }\n",
      "        ],\n",
      "        \"e02\": [\n",
      "            {\n",
      "                \"id\": \"fc671d4b62d2d983372271323c3e8be3\"\n",
      "            },\n",
      "            {\n",
      "                \"id\": \"7b6da63564f96e9b4d0aef2581eb3ba3\"\n",
      "            },\n",
      "            {\n",
      "                \"id\": \"3e93479f91fd45c376d4851eea747174\"\n",
      "            },\n",
      "            {\n",
      "                \"id\": \"8353796517ac7652afabf4042e944971\"\n",
      "            },\n",
      "            {\n",
      "                \"id\": \"e495f8080658dd1cd0acbec8c4cfeaf7\"\n",
      "            },\n",
      "            {\n",
      "                \"id\": \"551bd928ba58c60f465375306b81bbac\"\n",
      "            },\n",
      "            {\n",
      "                \"id\": \"6f6dd5467485ea133e64cb76b405c7d2\"\n",
      "            }\n",
      "        ]\n",
      "    },\n",
      "    \"score\": 2.1062617593370945,\n",
      "    \"pfocr\": [\n",
      "        {\n",
      "            \"figureUrl\": \"https://www.ncbi.nlm.nih.gov/pmc/articles/PMC5354998/bin/nihms843846f10.jpg\",\n",
      "            \"pmc\": \"PMC5354998\",\n",
      "            \"nodes\": [\n",
      "                \"n1\",\n",
      "                \"n0\"\n",
      "            ]\n",
      "        },\n",
      "        {\n",
      "            \"figureUrl\": \"https://www.ncbi.nlm.nih.gov/pmc/articles/PMC1906540/bin/cei0130-0363-f2.jpg\",\n",
      "            \"pmc\": \"PMC1906540\",\n",
      "            \"nodes\": [\n",
      "                \"n1\",\n",
      "                \"n0\"\n",
      "            ]\n",
      "        },\n",
      "        {\n",
      "            \"figureUrl\": \"https://www.ncbi.nlm.nih.gov/pmc/articles/PMC7402116/bin/antioxidants-09-00636-g004.jpg\",\n",
      "            \"pmc\": \"PMC7402116\",\n",
      "            \"nodes\": [\n",
      "                \"n1\",\n",
      "                \"n0\"\n",
      "            ]\n",
      "        }\n",
      "    ]\n",
      "}\n"
     ]
    }
   ],
   "source": [
    "for bte_result in bte_results:\n",
    "    if \"pfocr\" in bte_result:\n",
    "        print(json.dumps(bte_result, indent=4))\n",
    "        break"
   ]
  },
  {
   "cell_type": "markdown",
   "metadata": {
    "id": "1GQojZqc0QDf"
   },
   "source": [
    "## Get PFOCR Data\n",
    "\n",
    "Download the entire JSON file we gave to BTE."
   ]
  },
  {
   "cell_type": "code",
   "execution_count": 7,
   "metadata": {
    "colab": {
     "base_uri": "https://localhost:8080/"
    },
    "id": "OyJJUHbepKp2",
    "outputId": "7434741f-5f0d-4396-9e83-fa8a2555f34e"
   },
   "outputs": [
    {
     "name": "stdout",
     "output_type": "stream",
     "text": [
      "status_code: 200\n",
      "pfocr_result_count: 77719\n"
     ]
    }
   ],
   "source": [
    "pfocr_url = \"https://www.dropbox.com/s/1f14t5zaseocyg6/bte_chemicals_diseases_genes.ndjson?dl=1\"\n",
    "pfocr_request = requests.get(pfocr_url)\n",
    "print(f\"status_code: {pfocr_request.status_code}\")\n",
    "if pfocr_request.status_code != 200:\n",
    "    print(pfocr_request.text)\n",
    "\n",
    "genes_to_figids = {}\n",
    "figid_to_genes = {}\n",
    "figid_to_pfocr_result = {}\n",
    "pfocr_result_count = 0\n",
    "for line in pfocr_request.text.splitlines():\n",
    "    pfocr_result_count += 1\n",
    "    pfocr_result = json.loads(line)\n",
    "    figid = pfocr_result[\"_id\"]\n",
    "    genes = set(\n",
    "            [\"NCBIGene:\" + g for g in pfocr_result[\"associatedWith\"][\"mentions\"][\"genes\"][\"ncbigene\"]]\n",
    "            )\n",
    "    figid_to_pfocr_result[figid] = pfocr_result\n",
    "    figid_to_genes[figid] = genes\n",
    "\n",
    "    genes_key = tuple(sorted(genes))\n",
    "    if not genes_key in genes_to_figids:\n",
    "        genes_to_figids[genes_key] = []\n",
    "    genes_to_figids[genes_key].append(figid)\n",
    "print(f'pfocr_result_count: {pfocr_result_count}')"
   ]
  },
  {
   "cell_type": "markdown",
   "metadata": {
    "id": "bXbZKX-9xj2P"
   },
   "source": [
    "#### How many CURIEs are in both?"
   ]
  },
  {
   "cell_type": "code",
   "execution_count": 8,
   "metadata": {
    "colab": {
     "base_uri": "https://localhost:8080/"
    },
    "id": "IORU-9sQtAKt",
    "outputId": "82809f77-a623-444f-f37b-ca2131249db8"
   },
   "outputs": [
    {
     "name": "stdout",
     "output_type": "stream",
     "text": [
      "BTE TRAPI result unique gene count: 346\n",
      "333\n",
      "Genes common to BTE TRAPI results and PFOCR figures count: 333\n"
     ]
    }
   ],
   "source": [
    "all_bte_result_genes_keys = genes_to_bte_results.keys()\n",
    "all_bte_result_genes = set([]).union(\n",
    "    *[set(bte_result_genes_key) for bte_result_genes_key in all_bte_result_genes_keys]\n",
    ")\n",
    "print(f'BTE TRAPI result unique gene count: {len(all_bte_result_genes)}')\n",
    "\n",
    "all_common_genes = set()\n",
    "for figure_genes_keys in genes_to_figids.keys():\n",
    "    figure_genes = set(figure_genes_keys)\n",
    "    all_common_genes.update(\n",
    "        figure_genes.intersection(all_bte_result_genes)\n",
    "    )\n",
    "print(len(all_common_genes))\n",
    "print(f'Genes common to BTE TRAPI results and PFOCR figures count: {len(all_common_genes)}')"
   ]
  },
  {
   "cell_type": "markdown",
   "metadata": {
    "id": "uCW1x4PxnjYJ"
   },
   "source": [
    "## Connect BTE Results & PFOCR"
   ]
  },
  {
   "cell_type": "markdown",
   "metadata": {
    "id": "hTrLMM_QxONz"
   },
   "source": [
    "### Compare Algo Performance\n",
    "\n",
    "The following three algorithms all match up the BTE gene sets with the PFOCR sets, but they have different performances:\n",
    "- Brute Force: 47s\n",
    "- Check All BTE Results Genes Set: 5s\n",
    "- SetSimilaritySearch: 2s"
   ]
  },
  {
   "cell_type": "markdown",
   "metadata": {
    "id": "ypA0HIzSxfnH"
   },
   "source": [
    "#### TRAPI Results x Figs (Brute Force)"
   ]
  },
  {
   "cell_type": "code",
   "execution_count": 9,
   "metadata": {
    "colab": {
     "base_uri": "https://localhost:8080/"
    },
    "id": "InJU5egur5PI",
    "outputId": "ff2f3640-aab2-4ece-fb3d-85bd0c073af8"
   },
   "outputs": [
    {
     "name": "stdout",
     "output_type": "stream",
     "text": [
      "196\n"
     ]
    }
   ],
   "source": [
    "all_figure_genes_keys = genes_to_figids.keys()\n",
    "bf_overlaps_2_plus = set()\n",
    "for bte_result_genes_key in genes_to_bte_results.keys():\n",
    "    bte_result_genes = set(bte_result_genes_key)\n",
    "    for figure_genes_keys in all_figure_genes_keys:\n",
    "        figure_genes = set(figure_genes_keys)\n",
    "        if len(bte_result_genes.intersection(figure_genes)) >= 2:\n",
    "            bf_overlaps_2_plus.add((bte_result_genes_key, figure_genes_keys))\n",
    "print(len(bf_overlaps_2_plus))"
   ]
  },
  {
   "cell_type": "markdown",
   "metadata": {
    "id": "bXbZKX-9xj2P"
   },
   "source": [
    "#### TRAPI Results x Figs with check against set of all genes in any BTE result\n",
    "\n",
    "Before checking every BTE result against the current figure, check whether the figure matches two genes from any BTE result first. If not, it's pointless to check specific BTE results, so we can skip entire figure."
   ]
  },
  {
   "cell_type": "code",
   "execution_count": 10,
   "metadata": {
    "colab": {
     "base_uri": "https://localhost:8080/"
    },
    "id": "IORU-9sQtAKt",
    "outputId": "82809f77-a623-444f-f37b-ca2131249db8"
   },
   "outputs": [
    {
     "name": "stdout",
     "output_type": "stream",
     "text": [
      "196\n",
      "matched_figures count: 63\n",
      "matched BTE results count: 71\n"
     ]
    }
   ],
   "source": [
    "all_bte_result_genes_keys = genes_to_bte_results.keys()\n",
    "all_bte_result_genes = set([]).union(\n",
    "    *[set(bte_result_genes_key) for bte_result_genes_key in all_bte_result_genes_keys]\n",
    ")\n",
    "bf_overlaps_2_plus = set()\n",
    "\n",
    "matched_figures = set()\n",
    "matched_bte_results = set()\n",
    "\n",
    "for figure_genes_keys in genes_to_figids.keys():\n",
    "    figure_genes = set(figure_genes_keys)\n",
    "    figure_ids = genes_to_figids[figure_genes_keys]\n",
    "    if len(figure_genes.intersection(all_bte_result_genes)) >= 2:\n",
    "        for bte_result_genes_key in all_bte_result_genes_keys:\n",
    "            bte_result_genes = set(bte_result_genes_key)\n",
    "            if len(bte_result_genes.intersection(figure_genes)) >= 2:\n",
    "                matched_figures.update(set(figure_ids))\n",
    "                matched_bte_results.add(bte_result_genes_key)\n",
    "                bf_overlaps_2_plus.add((bte_result_genes_key, figure_genes_keys))\n",
    "\n",
    "print(len(bf_overlaps_2_plus))\n",
    "print(f'matched_figures count: {len(matched_figures)}')\n",
    "print(f'matched BTE results count: {len(matched_bte_results)}')"
   ]
  },
  {
   "cell_type": "markdown",
   "metadata": {
    "id": "jXFbvMrTx8sS"
   },
   "source": [
    "#### SetSimilaritySearch\n",
    "\n",
    "This algorithm is sometimes too permissive, making the overlap check needed, but even so, it's faster and gets the same results once we apply the overlap check."
   ]
  },
  {
   "cell_type": "code",
   "execution_count": null,
   "metadata": {
    "colab": {
     "base_uri": "https://localhost:8080/"
    },
    "id": "gWWRq_rdq2vC",
    "outputId": "0c97fb02-5c60-45aa-add1-c20145c21daa"
   },
   "outputs": [],
   "source": [
    "from SetSimilaritySearch import SearchIndex\n",
    "\n",
    "pfocr_gene_sets = list(genes_to_figids.keys())\n",
    "index = SearchIndex(pfocr_gene_sets, similarity_func_name=\"containment\", \n",
    "    similarity_threshold=0.8)\n",
    "\n",
    "sss_overlaps_2_plus = set()\n",
    "for bte_result_genes_key in genes_to_bte_results.keys():\n",
    "    bte_result_genes = set(bte_result_genes_key)\n",
    "    results = index.query(bte_result_genes)\n",
    "    for result in results:\n",
    "        figure_genes = pfocr_gene_sets[result[0]]\n",
    "        if len(bte_result_genes.intersection(figure_genes)) >= 2:\n",
    "            sss_overlaps_2_plus.add((bte_result_genes_key, tuple(sorted(figure_genes))))\n",
    "print(len(sss_overlaps_2_plus))"
   ]
  },
  {
   "cell_type": "markdown",
   "metadata": {
    "id": "2EzVeKVcn_2L"
   },
   "source": [
    "### Choose and Apply SetSimilaritySearch\n",
    "\n",
    "SetSimilaritySearch was fastest, so let's choose it and use it to augment the BTE results."
   ]
  },
  {
   "cell_type": "code",
   "execution_count": null,
   "metadata": {
    "colab": {
     "base_uri": "https://localhost:8080/"
    },
    "id": "aZX7IzakKCnH",
    "outputId": "dabcdf7a-f7d1-4f7a-821a-b21d19ce5a13"
   },
   "outputs": [],
   "source": [
    "from SetSimilaritySearch import SearchIndex\n",
    "\n",
    "pfocr_gene_sets = list(genes_to_figids.keys())\n",
    "index = SearchIndex(pfocr_gene_sets, similarity_func_name=\"containment\", \n",
    "    similarity_threshold=0.8)\n",
    "\n",
    "overlaps_2_plus_count = 0\n",
    "for bte_result_genes_key, genes_bte_results in genes_to_bte_results.items():\n",
    "    bte_result_genes = set(bte_result_genes_key)\n",
    "    results = index.query(bte_result_genes)\n",
    "    #if results:\n",
    "    #    print(\"------\")\n",
    "    #    print(f'bte_result_genes: {bte_result_genes}')\n",
    "    for result in results:\n",
    "        figure_genes = pfocr_gene_sets[result[0]]\n",
    "        score = result[1]\n",
    "        figids = genes_to_figids[tuple(sorted(figure_genes))]\n",
    "        #print(f'{figids} ({score}) - {figure_genes}')\n",
    "        common = bte_result_genes.intersection(figure_genes)\n",
    "        #print(f'intersection: {common}')\n",
    "        if len(common) >= 2:\n",
    "            for figid in figids:\n",
    "                overlaps_2_plus_count += 1\n",
    "                pfocr_result = figid_to_pfocr_result[figid]\n",
    "                #print(\"--------\")\n",
    "                #print(f'{figid} - {figure_genes}')\n",
    "                for bte_result in genes_bte_results:\n",
    "                    #print(f'bte_result: {sorted(bte_result_genes)}')\n",
    "                    #print(f'common: {bte_result_genes.intersection(figure_genes)}')\n",
    "                    nodes = set()\n",
    "                    for q_node_id, values in bte_result[\"node_bindings\"].items():\n",
    "                        for value in values:\n",
    "                            id = value[\"id\"]\n",
    "                            if id in figure_genes:\n",
    "                                nodes.add(q_node_id)\n",
    "                    if not \"pfocr_notebook\" in bte_result:\n",
    "                        bte_result[\"pfocr_notebook\"] = []\n",
    "                    pfocr_entry = copy(pfocr_result)\n",
    "                    pfocr_entry[\"nodes\"] = sorted(nodes)\n",
    "                    pfocr_entry[\"score\"] = score\n",
    "                    bte_result[\"pfocr_notebook\"].append(pfocr_entry)\n",
    "print(overlaps_2_plus_count)"
   ]
  },
  {
   "cell_type": "code",
   "execution_count": null,
   "metadata": {
    "colab": {
     "base_uri": "https://localhost:8080/",
     "height": 904
    },
    "id": "XdofZ-R62QM9",
    "outputId": "d70a6c5a-b9c2-4958-a14d-aa38a0aec294"
   },
   "outputs": [],
   "source": [
    "import pandas as pd\n",
    "\n",
    "\n",
    "kg_nodes = bte_message[\"knowledge_graph\"][\"nodes\"]\n",
    "\n",
    "bte_rows = []\n",
    "for bte_result in bte_results:\n",
    "    bte_row_template = {}\n",
    "    for q_node_id, value in bte_result[\"node_bindings\"].items():\n",
    "        node_labels = []\n",
    "        for v in value:\n",
    "            id = v[\"id\"]\n",
    "            name = kg_nodes[id][\"name\"]\n",
    "            #node_labels.append(f'{name} ({id})')\n",
    "            node_labels.append(name)\n",
    "        bte_row_template[q_node_id] = \",\".join(node_labels)\n",
    "        # just taking the first one for now\n",
    "        bte_row_template[q_node_id + \"_identifier\"] = value[0][\"id\"]\n",
    "\n",
    "    bte_row_template[\"score\"] = bte_result[\"score\"]\n",
    "    \n",
    "    if \"pfocr\" in bte_result or \"pfocr_notebook\" in bte_result:\n",
    "        if \"pfocr\" in bte_result:\n",
    "            for pfocr_result in bte_result[\"pfocr\"]:\n",
    "                bte_row = deepcopy(bte_row_template)\n",
    "                bte_row[\"figure_url\"] = pfocr_result[\"figureUrl\"]\n",
    "                bte_row[\"pmc\"] = pfocr_result[\"pmc\"]\n",
    "                bte_row[\"nodes\"] = pfocr_result[\"nodes\"]\n",
    "                bte_rows.append(bte_row)\n",
    "        if \"pfocr_notebook\" in bte_result:\n",
    "            for pfocr_result in bte_result[\"pfocr_notebook\"]:\n",
    "                bte_row = deepcopy(bte_row_template)\n",
    "                bte_row[\"figure_title_notebook\"] = pfocr_result[\"associatedWith\"][\"title\"]\n",
    "                bte_row[\"figid_notebook\"] = pfocr_result[\"_id\"]\n",
    "                bte_row[\"figure_url_notebook\"] = pfocr_result[\"associatedWith\"][\"figureUrl\"]\n",
    "                bte_row[\"pfocr_score_notebook\"] = pfocr_result[\"score\"]\n",
    "                bte_rows.append(bte_row)\n",
    "    else:\n",
    "        bte_rows.append(bte_row_template)\n",
    "    \n",
    "bte_df = pd.DataFrame(bte_rows)\n",
    "bte_df"
   ]
  },
  {
   "cell_type": "code",
   "execution_count": null,
   "metadata": {},
   "outputs": [],
   "source": [
    "print(len(bte_df[bte_df[\"figure_url\"].notnull()][\"figure_url\"].drop_duplicates()))\n",
    "print(len(bte_df[bte_df[\"figure_url_notebook\"].notnull()][\"figure_url_notebook\"].drop_duplicates()))"
   ]
  },
  {
   "cell_type": "code",
   "execution_count": null,
   "metadata": {},
   "outputs": [],
   "source": [
    "print(\n",
    "    len(bte_df[bte_df[\"figure_url\"].notnull()][\n",
    "        [\"n0_identifier\", \"n1_identifier\", \"n2_identifier\"]\n",
    "    ].drop_duplicates())\n",
    ")\n",
    "print(\n",
    "    len(bte_df[bte_df[\"figure_url_notebook\"].notnull()][\n",
    "        [\"n0_identifier\", \"n1_identifier\", \"n2_identifier\"]\n",
    "    ].drop_duplicates())\n",
    ")"
   ]
  },
  {
   "cell_type": "code",
   "execution_count": null,
   "metadata": {
    "colab": {
     "base_uri": "https://localhost:8080/",
     "height": 455
    },
    "id": "aWy5v2oEAXfH",
    "outputId": "71fc053d-4ca4-4ea5-9fe3-9b44d1c73fcb"
   },
   "outputs": [],
   "source": [
    "bte_df.rename(\n",
    "    columns={\"figure_url\": \"figure_count\"}\n",
    ").groupby(\n",
    "    [\"n0\", \"n1\", \"n2\"]\n",
    ")[[\"figure_count\"]].count().sort_values(\"figure_count\", ascending=False)"
   ]
  },
  {
   "cell_type": "markdown",
   "metadata": {
    "id": "H4oQCpp-oUZU"
   },
   "source": [
    "## Display some figures"
   ]
  },
  {
   "cell_type": "code",
   "execution_count": null,
   "metadata": {
    "colab": {
     "base_uri": "https://localhost:8080/",
     "height": 1000
    },
    "id": "1iqomqP3t1C5",
    "outputId": "8882419c-7213-4b54-eba3-becd28733c28"
   },
   "outputs": [],
   "source": [
    "from IPython.display import Image\n",
    "from IPython.core.display import HTML \n",
    "\n",
    "\n",
    "for i, df in bte_df[\n",
    "    bte_df[\"figure_url_notebook\"].notnull() & bte_df[\"figure_title_notebook\"].notnull()\n",
    "][[\"figure_url_notebook\", \"figure_title_notebook\"]].drop_duplicates().iterrows():\n",
    "    figure_title = df[\"figure_title_notebook\"]\n",
    "    figure_url = df[\"figure_url_notebook\"]\n",
    "    display(Image(url=figure_url))\n",
    "    print(figure_title)\n",
    "    print(\"\")\n",
    "    print(\"\")\n",
    "    print(\"\")\n"
   ]
  },
  {
   "cell_type": "code",
   "execution_count": null,
   "metadata": {
    "id": "XaQvH-tQ1Zt0"
   },
   "outputs": [],
   "source": []
  }
 ],
 "metadata": {
  "colab": {
   "authorship_tag": "ABX9TyMGBEO4WsI+qAnctC5k3yPk",
   "include_colab_link": true,
   "name": "bte_with_pfocr_cooccurrence.ipynb",
   "provenance": []
  },
  "kernelspec": {
   "display_name": "Python 3 (ipykernel)",
   "language": "python",
   "name": "python3"
  },
  "language_info": {
   "codemirror_mode": {
    "name": "ipython",
    "version": 3
   },
   "file_extension": ".py",
   "mimetype": "text/x-python",
   "name": "python",
   "nbconvert_exporter": "python",
   "pygments_lexer": "ipython3",
   "version": "3.10.4"
  }
 },
 "nbformat": 4,
 "nbformat_minor": 4
}
