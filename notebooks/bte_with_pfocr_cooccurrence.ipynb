{
 "cells": [
  {
   "cell_type": "markdown",
   "metadata": {
    "colab_type": "text",
    "id": "view-in-github"
   },
   "source": [
    "<a href=\"https://colab.research.google.com/github/wikipathways/pathway-figure-ocr/blob/master/notebooks/bte_with_pfocr_cooccurrence.ipynb\" target=\"_parent\"><img src=\"https://colab.research.google.com/assets/colab-badge.svg\" alt=\"Open In Colab\"/></a>"
   ]
  },
  {
   "cell_type": "raw",
   "metadata": {
    "colab": {
     "base_uri": "https://localhost:8080/"
    },
    "id": "UZZqPBS0UppM",
    "outputId": "9996ad71-f8fb-4c1f-bc40-430ede6b5de3"
   },
   "source": [
    "!pip install numpy pandas requests requests_cache SetSimilaritySearch"
   ]
  },
  {
   "cell_type": "code",
   "execution_count": 1,
   "metadata": {
    "id": "uG7JfetZjcXH"
   },
   "outputs": [],
   "source": [
    "from copy import copy, deepcopy\n",
    "import json"
   ]
  },
  {
   "cell_type": "markdown",
   "metadata": {
    "id": "j9DiSC9NU_Fa"
   },
   "source": [
    "# BTE with PFOCR Coocurrence\n",
    "\n",
    "I modified a query from the 3/17 Question of the Month to find relationships like this:\n",
    "\n",
    "`1 of 3 selected genes` -> `any gene` -> `Valproic Acid`"
   ]
  },
  {
   "cell_type": "code",
   "execution_count": 2,
   "metadata": {
    "id": "rzoUUSDeVz0a"
   },
   "outputs": [],
   "source": [
    "import requests\n",
    "import requests_cache\n",
    "\n",
    "\n",
    "requests_cache.install_cache(\"pfocr_cache\")"
   ]
  },
  {
   "cell_type": "markdown",
   "metadata": {
    "id": "TxW41muraAFL"
   },
   "source": [
    "## Get BTE Results"
   ]
  },
  {
   "cell_type": "code",
   "execution_count": 3,
   "metadata": {
    "colab": {
     "base_uri": "https://localhost:8080/"
    },
    "id": "N71NYHWeVCj9",
    "outputId": "841a8dfb-1aa4-4f60-ba43-88989b390541"
   },
   "outputs": [
    {
     "name": "stdout",
     "output_type": "stream",
     "text": [
      "200\n"
     ]
    }
   ],
   "source": [
    "query = {\n",
    "    \"message\": {\n",
    "        \"query_graph\": {\n",
    "            \"edges\": {\n",
    "                \"e01\": {\n",
    "                    \"object\": \"n0\",\n",
    "                    \"predicates\": [\"biolink:related_to\"],\n",
    "                    \"subject\": \"n1\"\n",
    "                },\n",
    "                \"e02\": {\n",
    "                    \"object\": \"n1\",\n",
    "                    \"predicates\": [\"biolink:related_to\"],\n",
    "                    \"subject\": \"n2\"\n",
    "                }\n",
    "            },\n",
    "            \"nodes\": {\n",
    "                \"n0\": {\n",
    "                    \"categories\": [\"biolink:Gene\"],\n",
    "                    \"ids\": [\"NCBIGene:3855\", \"NCBIGene:211\", \"NCBIGene:26995\"]\n",
    "                },\n",
    "                \"n1\": {\n",
    "                    \"categories\": [\"biolink:Gene\"]\n",
    "                },\n",
    "                \"n2\": {\n",
    "                    \"categories\": [\"biolink:SmallMolecule\"],\n",
    "                    \"ids\": [\"PUBCHEM.COMPOUND:3121\"]\n",
    "                }\n",
    "            }\n",
    "        }\n",
    "    }\n",
    "}\n",
    "\n",
    "# bte_r = requests.post(\"https://api.bte.ncats.io/v1/query\", json=query)\n",
    "bte_r = requests.post(\"http://localhost:3000/v1/query\", json=query)\n",
    "# To clear the cache for this request\n",
    "# requests_cache.get_cache().delete(bte_r.cache_key)\n",
    "\n",
    "print(bte_r.status_code)\n",
    "if bte_r.status_code != 200:\n",
    "    print(bte_r.text)"
   ]
  },
  {
   "cell_type": "code",
   "execution_count": 4,
   "metadata": {
    "colab": {
     "base_uri": "https://localhost:8080/"
    },
    "id": "KwyR8hcDZFUo",
    "outputId": "6b734567-d04a-4f63-d066-e408143e983d"
   },
   "outputs": [
    {
     "name": "stdout",
     "output_type": "stream",
     "text": [
      "['n0', 'n1']\n"
     ]
    }
   ],
   "source": [
    "gene_q_node_ids = []\n",
    "for q_node_id, v in query[\"message\"][\"query_graph\"][\"nodes\"].items():\n",
    "    if \"categories\" in v and \"biolink:Gene\" in v[\"categories\"]:\n",
    "        gene_q_node_ids.append(q_node_id)\n",
    "print(gene_q_node_ids)"
   ]
  },
  {
   "cell_type": "code",
   "execution_count": 5,
   "metadata": {
    "id": "Wjqcf5E4Yk_h"
   },
   "outputs": [
    {
     "name": "stdout",
     "output_type": "stream",
     "text": [
      "BTE TRAPI result count: 367\n",
      "BTE result gene count: 346\n"
     ]
    }
   ],
   "source": [
    "bte_message = bte_r.json()[\"message\"]\n",
    "bte_results = bte_message[\"results\"]\n",
    "genes_to_bte_results = dict()\n",
    "for bte_result in bte_results:\n",
    "    bte_result_genes = []\n",
    "    for gene_q_node_id in gene_q_node_ids:\n",
    "        for entry in bte_result[\"node_bindings\"][gene_q_node_id]:\n",
    "            id = entry[\"id\"]\n",
    "            target_prefix = \"NCBIGene:\"\n",
    "            if id.startswith(target_prefix):\n",
    "                bte_result_genes.append(\"NCBIGene:\" + id[len(target_prefix):])\n",
    "    genes_key = tuple(sorted(bte_result_genes))\n",
    "    if not genes_key in genes_to_bte_results:\n",
    "        genes_to_bte_results[genes_key] = []\n",
    "    genes_to_bte_results[genes_key].append(bte_result)\n",
    "print(f'BTE TRAPI result count: {len(bte_results)}')"
   ]
  },
  {
   "cell_type": "markdown",
   "metadata": {
    "id": "1GQojZqc0QDf"
   },
   "source": [
    "## Get PFOCR Data\n",
    "\n",
    "Download the entire JSON file we gave to BTE."
   ]
  },
  {
   "cell_type": "code",
   "execution_count": 6,
   "metadata": {
    "colab": {
     "base_uri": "https://localhost:8080/"
    },
    "id": "OyJJUHbepKp2",
    "outputId": "7434741f-5f0d-4396-9e83-fa8a2555f34e"
   },
   "outputs": [
    {
     "name": "stdout",
     "output_type": "stream",
     "text": [
      "status_code: 200\n",
      "pfocr_result_count: 77719\n"
     ]
    }
   ],
   "source": [
    "pfocr_url = \"https://www.dropbox.com/s/1f14t5zaseocyg6/bte_chemicals_diseases_genes.ndjson?dl=1\"\n",
    "pfocr_request = requests.get(pfocr_url)\n",
    "print(f\"status_code: {pfocr_request.status_code}\")\n",
    "if pfocr_request.status_code != 200:\n",
    "    print(pfocr_request.text)\n",
    "\n",
    "genes_to_figids = {}\n",
    "figid_to_genes = {}\n",
    "figid_to_pfocr_result = {}\n",
    "pfocr_result_count = 0\n",
    "for line in pfocr_request.text.splitlines():\n",
    "    pfocr_result_count += 1\n",
    "    pfocr_result = json.loads(line)\n",
    "    figid = pfocr_result[\"_id\"]\n",
    "    genes = set(\n",
    "            [\"NCBIGene:\" + g for g in pfocr_result[\"associatedWith\"][\"mentions\"][\"genes\"][\"ncbigene\"]]\n",
    "            )\n",
    "    figid_to_pfocr_result[figid] = pfocr_result\n",
    "    figid_to_genes[figid] = genes\n",
    "\n",
    "    genes_key = tuple(sorted(genes))\n",
    "    if not genes_key in genes_to_figids:\n",
    "        genes_to_figids[genes_key] = []\n",
    "    genes_to_figids[genes_key].append(figid)\n",
    "print(f'pfocr_result_count: {pfocr_result_count}')"
   ]
  },
  {
   "cell_type": "markdown",
   "metadata": {
    "id": "bXbZKX-9xj2P"
   },
   "source": [
    "#### How many CURIEs are in both?"
   ]
  },
  {
   "cell_type": "code",
   "execution_count": 7,
   "metadata": {
    "colab": {
     "base_uri": "https://localhost:8080/"
    },
    "id": "IORU-9sQtAKt",
    "outputId": "82809f77-a623-444f-f37b-ca2131249db8"
   },
   "outputs": [
    {
     "name": "stdout",
     "output_type": "stream",
     "text": [
      "346\n",
      "333\n"
     ]
    }
   ],
   "source": [
    "all_bte_result_genes_keys = genes_to_bte_results.keys()\n",
    "all_bte_result_genes = set([]).union(\n",
    "    *[set(bte_result_genes_key) for bte_result_genes_key in all_bte_result_genes_keys]\n",
    ")\n",
    "print(f'BTE TRAPI result unique gene count: {len(all_bte_result_genes)}')\n",
    "\n",
    "all_common_genes = set()\n",
    "for figure_genes_keys in genes_to_figids.keys():\n",
    "    figure_genes = set(figure_genes_keys)\n",
    "    all_common_genes.update(\n",
    "        figure_genes.intersection(all_bte_result_genes)\n",
    "    )\n",
    "print(len(all_common_genes))\n",
    "print(f'Genes common to BTE TRAPI results and PFOCR figures count: {len(all_common_genes)}')"
   ]
  },
  {
   "cell_type": "markdown",
   "metadata": {
    "id": "uCW1x4PxnjYJ"
   },
   "source": [
    "## Connect BTE Results & PFOCR"
   ]
  },
  {
   "cell_type": "markdown",
   "metadata": {
    "id": "hTrLMM_QxONz"
   },
   "source": [
    "### Compare Algo Performance\n",
    "\n",
    "The following three algorithms all match up the BTE gene sets with the PFOCR sets, but they have different performances:\n",
    "- Brute Force: 47s\n",
    "- Check All BTE Results Genes Set: 5s\n",
    "- SetSimilaritySearch: 2s"
   ]
  },
  {
   "cell_type": "markdown",
   "metadata": {
    "id": "ypA0HIzSxfnH"
   },
   "source": [
    "#### TRAPI Results x Figs (Brute Force)"
   ]
  },
  {
   "cell_type": "code",
   "execution_count": 8,
   "metadata": {
    "colab": {
     "base_uri": "https://localhost:8080/"
    },
    "id": "InJU5egur5PI",
    "outputId": "ff2f3640-aab2-4ece-fb3d-85bd0c073af8"
   },
   "outputs": [
    {
     "name": "stdout",
     "output_type": "stream",
     "text": [
      "196\n"
     ]
    }
   ],
   "source": [
    "all_figure_genes_keys = genes_to_figids.keys()\n",
    "bf_overlaps_2_plus = set()\n",
    "for bte_result_genes_key in genes_to_bte_results.keys():\n",
    "    bte_result_genes = set(bte_result_genes_key)\n",
    "    for figure_genes_keys in all_figure_genes_keys:\n",
    "        figure_genes = set(figure_genes_keys)\n",
    "        if len(bte_result_genes.intersection(figure_genes)) >= 2:\n",
    "            bf_overlaps_2_plus.add((bte_result_genes_key, figure_genes_keys))\n",
    "print(len(bf_overlaps_2_plus))"
   ]
  },
  {
   "cell_type": "markdown",
   "metadata": {
    "id": "bXbZKX-9xj2P"
   },
   "source": [
    "#### TRAPI Results x Figs with check against set of all genes in any BTE result\n",
    "\n",
    "Before checking every BTE result against the current figure, check whether the figure matches two genes from any BTE result first. If not, it's pointless to check specific BTE results, so we can skip entire figure."
   ]
  },
  {
   "cell_type": "code",
   "execution_count": 9,
   "metadata": {
    "colab": {
     "base_uri": "https://localhost:8080/"
    },
    "id": "IORU-9sQtAKt",
    "outputId": "82809f77-a623-444f-f37b-ca2131249db8"
   },
   "outputs": [
    {
     "name": "stdout",
     "output_type": "stream",
     "text": [
      "196\n",
      "matched_figures count: 63\n",
      "matched_bte_results count: 71\n"
     ]
    }
   ],
   "source": [
    "all_bte_result_genes_keys = genes_to_bte_results.keys()\n",
    "all_bte_result_genes = set([]).union(\n",
    "    *[set(bte_result_genes_key) for bte_result_genes_key in all_bte_result_genes_keys]\n",
    ")\n",
    "bf_overlaps_2_plus = set()\n",
    "\n",
    "matched_figures = set()\n",
    "matched_bte_results = set()\n",
    "\n",
    "for figure_genes_keys in genes_to_figids.keys():\n",
    "    figure_genes = set(figure_genes_keys)\n",
    "    figure_ids = genes_to_figids[figure_genes_keys]\n",
    "    if len(figure_genes.intersection(all_bte_result_genes)) >= 2:\n",
    "        for bte_result_genes_key in all_bte_result_genes_keys:\n",
    "            bte_result_genes = set(bte_result_genes_key)\n",
    "            if len(bte_result_genes.intersection(figure_genes)) >= 2:\n",
    "                matched_figures.update(set(figure_ids))\n",
    "                matched_bte_results.add(bte_result_genes_key)\n",
    "                bf_overlaps_2_plus.add((bte_result_genes_key, figure_genes_keys))\n",
    "\n",
    "print(len(bf_overlaps_2_plus))\n",
    "print(f'matched_figures count: {len(matched_figures)}')\n",
    "print(f'matched BTE results count: {len(matched_bte_results)}')"
   ]
  },
  {
   "cell_type": "markdown",
   "metadata": {
    "id": "jXFbvMrTx8sS"
   },
   "source": [
    "#### SetSimilaritySearch\n",
    "\n",
    "This algorithm is sometimes too permissive, making the overlap check needed, but even so, it's faster and gets the same results once we apply the overlap check."
   ]
  },
  {
   "cell_type": "code",
   "execution_count": 10,
   "metadata": {
    "colab": {
     "base_uri": "https://localhost:8080/"
    },
    "id": "gWWRq_rdq2vC",
    "outputId": "0c97fb02-5c60-45aa-add1-c20145c21daa"
   },
   "outputs": [
    {
     "name": "stdout",
     "output_type": "stream",
     "text": [
      "196\n"
     ]
    }
   ],
   "source": [
    "from SetSimilaritySearch import SearchIndex\n",
    "\n",
    "pfocr_gene_sets = list(genes_to_figids.keys())\n",
    "index = SearchIndex(pfocr_gene_sets, similarity_func_name=\"containment\", \n",
    "    similarity_threshold=0.8)\n",
    "\n",
    "sss_overlaps_2_plus = set()\n",
    "for bte_result_genes_key in genes_to_bte_results.keys():\n",
    "    bte_result_genes = set(bte_result_genes_key)\n",
    "    results = index.query(bte_result_genes)\n",
    "    for result in results:\n",
    "        figure_genes = pfocr_gene_sets[result[0]]\n",
    "        if len(bte_result_genes.intersection(figure_genes)) >= 2:\n",
    "            sss_overlaps_2_plus.add((bte_result_genes_key, tuple(sorted(figure_genes))))\n",
    "print(len(sss_overlaps_2_plus))"
   ]
  },
  {
   "cell_type": "markdown",
   "metadata": {
    "id": "2EzVeKVcn_2L"
   },
   "source": [
    "### Choose and Apply SetSimilaritySearch\n",
    "\n",
    "SetSimilaritySearch was fastest, so let's choose it and use it to augment the BTE results."
   ]
  },
  {
   "cell_type": "code",
   "execution_count": 11,
   "metadata": {
    "colab": {
     "base_uri": "https://localhost:8080/"
    },
    "id": "aZX7IzakKCnH",
    "outputId": "dabcdf7a-f7d1-4f7a-821a-b21d19ce5a13"
   },
   "outputs": [
    {
     "name": "stdout",
     "output_type": "stream",
     "text": [
      "207\n"
     ]
    }
   ],
   "source": [
    "from SetSimilaritySearch import SearchIndex\n",
    "\n",
    "pfocr_gene_sets = list(genes_to_figids.keys())\n",
    "index = SearchIndex(pfocr_gene_sets, similarity_func_name=\"containment\", \n",
    "    similarity_threshold=0.8)\n",
    "\n",
    "overlaps_2_plus_count = 0\n",
    "for bte_result_genes_key, genes_bte_results in genes_to_bte_results.items():\n",
    "    bte_result_genes = set(bte_result_genes_key)\n",
    "    results = index.query(bte_result_genes)\n",
    "    #if results:\n",
    "    #    print(\"------\")\n",
    "    #    print(f'bte_result_genes: {bte_result_genes}')\n",
    "    for result in results:\n",
    "        figure_genes = pfocr_gene_sets[result[0]]\n",
    "        score = result[1]\n",
    "        figids = genes_to_figids[tuple(sorted(figure_genes))]\n",
    "        #print(f'{figids} ({score}) - {figure_genes}')\n",
    "        common = bte_result_genes.intersection(figure_genes)\n",
    "        #print(f'intersection: {common}')\n",
    "        if len(common) >= 2:\n",
    "            for figid in figids:\n",
    "                overlaps_2_plus_count += 1\n",
    "                pfocr_result = figid_to_pfocr_result[figid]\n",
    "                #print(\"--------\")\n",
    "                #print(f'{figid} - {figure_genes}')\n",
    "                for bte_result in genes_bte_results:\n",
    "                    #print(f'bte_result: {sorted(bte_result_genes)}')\n",
    "                    #print(f'common: {bte_result_genes.intersection(figure_genes)}')\n",
    "                    nodes = set()\n",
    "                    for q_node_id, values in bte_result[\"node_bindings\"].items():\n",
    "                        for value in values:\n",
    "                            id = value[\"id\"]\n",
    "                            if id in figure_genes:\n",
    "                                nodes.add(q_node_id)\n",
    "                    if not \"pfocr_notebook\" in bte_result:\n",
    "                        bte_result[\"pfocr_notebook\"] = []\n",
    "                    pfocr_entry = copy(pfocr_result)\n",
    "                    pfocr_entry[\"nodes\"] = sorted(nodes)\n",
    "                    pfocr_entry[\"score\"] = score\n",
    "                    bte_result[\"pfocr_notebook\"].append(pfocr_entry)\n",
    "print(overlaps_2_plus_count)"
   ]
  },
  {
   "cell_type": "code",
   "execution_count": 12,
   "metadata": {
    "colab": {
     "base_uri": "https://localhost:8080/",
     "height": 904
    },
    "id": "XdofZ-R62QM9",
    "outputId": "d70a6c5a-b9c2-4958-a14d-aa38a0aec294"
   },
   "outputs": [
    {
     "data": {
      "text/html": [
       "<div>\n",
       "<style scoped>\n",
       "    .dataframe tbody tr th:only-of-type {\n",
       "        vertical-align: middle;\n",
       "    }\n",
       "\n",
       "    .dataframe tbody tr th {\n",
       "        vertical-align: top;\n",
       "    }\n",
       "\n",
       "    .dataframe thead th {\n",
       "        text-align: right;\n",
       "    }\n",
       "</style>\n",
       "<table border=\"1\" class=\"dataframe\">\n",
       "  <thead>\n",
       "    <tr style=\"text-align: right;\">\n",
       "      <th></th>\n",
       "      <th>n1</th>\n",
       "      <th>n1_identifier</th>\n",
       "      <th>n0</th>\n",
       "      <th>n0_identifier</th>\n",
       "      <th>n2</th>\n",
       "      <th>n2_identifier</th>\n",
       "      <th>score</th>\n",
       "      <th>figure_url</th>\n",
       "      <th>pmc</th>\n",
       "      <th>nodes</th>\n",
       "      <th>figure_title_notebook</th>\n",
       "      <th>figid_notebook</th>\n",
       "      <th>figure_url_notebook</th>\n",
       "      <th>pfocr_score_notebook</th>\n",
       "    </tr>\n",
       "  </thead>\n",
       "  <tbody>\n",
       "    <tr>\n",
       "      <th>0</th>\n",
       "      <td>IVL</td>\n",
       "      <td>NCBIGene:3713</td>\n",
       "      <td>KRT7</td>\n",
       "      <td>NCBIGene:3855</td>\n",
       "      <td>Valproic acid</td>\n",
       "      <td>PUBCHEM.COMPOUND:3121</td>\n",
       "      <td>2.966556</td>\n",
       "      <td>NaN</td>\n",
       "      <td>NaN</td>\n",
       "      <td>NaN</td>\n",
       "      <td>NaN</td>\n",
       "      <td>NaN</td>\n",
       "      <td>NaN</td>\n",
       "      <td>NaN</td>\n",
       "    </tr>\n",
       "    <tr>\n",
       "      <th>1</th>\n",
       "      <td>FABP4</td>\n",
       "      <td>NCBIGene:2167</td>\n",
       "      <td>ALAS1</td>\n",
       "      <td>NCBIGene:211</td>\n",
       "      <td>Valproic acid</td>\n",
       "      <td>PUBCHEM.COMPOUND:3121</td>\n",
       "      <td>2.449312</td>\n",
       "      <td>NaN</td>\n",
       "      <td>NaN</td>\n",
       "      <td>NaN</td>\n",
       "      <td>NaN</td>\n",
       "      <td>NaN</td>\n",
       "      <td>NaN</td>\n",
       "      <td>NaN</td>\n",
       "    </tr>\n",
       "    <tr>\n",
       "      <th>2</th>\n",
       "      <td>TP63</td>\n",
       "      <td>NCBIGene:8626</td>\n",
       "      <td>KRT7</td>\n",
       "      <td>NCBIGene:3855</td>\n",
       "      <td>Valproic acid</td>\n",
       "      <td>PUBCHEM.COMPOUND:3121</td>\n",
       "      <td>2.224773</td>\n",
       "      <td>NaN</td>\n",
       "      <td>NaN</td>\n",
       "      <td>NaN</td>\n",
       "      <td>NaN</td>\n",
       "      <td>NaN</td>\n",
       "      <td>NaN</td>\n",
       "      <td>NaN</td>\n",
       "    </tr>\n",
       "    <tr>\n",
       "      <th>3</th>\n",
       "      <td>MAPK8</td>\n",
       "      <td>NCBIGene:5599</td>\n",
       "      <td>ALAS1</td>\n",
       "      <td>NCBIGene:211</td>\n",
       "      <td>Valproic acid</td>\n",
       "      <td>PUBCHEM.COMPOUND:3121</td>\n",
       "      <td>2.106262</td>\n",
       "      <td>https://www.ncbi.nlm.nih.gov/pmc/articles/PMC5...</td>\n",
       "      <td>PMC5354998</td>\n",
       "      <td>[n1, n0]</td>\n",
       "      <td>NaN</td>\n",
       "      <td>NaN</td>\n",
       "      <td>NaN</td>\n",
       "      <td>NaN</td>\n",
       "    </tr>\n",
       "    <tr>\n",
       "      <th>4</th>\n",
       "      <td>MAPK8</td>\n",
       "      <td>NCBIGene:5599</td>\n",
       "      <td>ALAS1</td>\n",
       "      <td>NCBIGene:211</td>\n",
       "      <td>Valproic acid</td>\n",
       "      <td>PUBCHEM.COMPOUND:3121</td>\n",
       "      <td>2.106262</td>\n",
       "      <td>https://www.ncbi.nlm.nih.gov/pmc/articles/PMC1...</td>\n",
       "      <td>PMC1906540</td>\n",
       "      <td>[n1, n0]</td>\n",
       "      <td>NaN</td>\n",
       "      <td>NaN</td>\n",
       "      <td>NaN</td>\n",
       "      <td>NaN</td>\n",
       "    </tr>\n",
       "    <tr>\n",
       "      <th>...</th>\n",
       "      <td>...</td>\n",
       "      <td>...</td>\n",
       "      <td>...</td>\n",
       "      <td>...</td>\n",
       "      <td>...</td>\n",
       "      <td>...</td>\n",
       "      <td>...</td>\n",
       "      <td>...</td>\n",
       "      <td>...</td>\n",
       "      <td>...</td>\n",
       "      <td>...</td>\n",
       "      <td>...</td>\n",
       "      <td>...</td>\n",
       "      <td>...</td>\n",
       "    </tr>\n",
       "    <tr>\n",
       "      <th>705</th>\n",
       "      <td>POLD1</td>\n",
       "      <td>NCBIGene:5424</td>\n",
       "      <td>ALAS1</td>\n",
       "      <td>NCBIGene:211</td>\n",
       "      <td>Valproic acid</td>\n",
       "      <td>PUBCHEM.COMPOUND:3121</td>\n",
       "      <td>0.000000</td>\n",
       "      <td>NaN</td>\n",
       "      <td>NaN</td>\n",
       "      <td>NaN</td>\n",
       "      <td>NaN</td>\n",
       "      <td>NaN</td>\n",
       "      <td>NaN</td>\n",
       "      <td>NaN</td>\n",
       "    </tr>\n",
       "    <tr>\n",
       "      <th>706</th>\n",
       "      <td>HERC6</td>\n",
       "      <td>NCBIGene:55008</td>\n",
       "      <td>ALAS1</td>\n",
       "      <td>NCBIGene:211</td>\n",
       "      <td>Valproic acid</td>\n",
       "      <td>PUBCHEM.COMPOUND:3121</td>\n",
       "      <td>0.000000</td>\n",
       "      <td>NaN</td>\n",
       "      <td>NaN</td>\n",
       "      <td>NaN</td>\n",
       "      <td>NaN</td>\n",
       "      <td>NaN</td>\n",
       "      <td>NaN</td>\n",
       "      <td>NaN</td>\n",
       "    </tr>\n",
       "    <tr>\n",
       "      <th>707</th>\n",
       "      <td>SDK1</td>\n",
       "      <td>NCBIGene:221935</td>\n",
       "      <td>ALAS1</td>\n",
       "      <td>NCBIGene:211</td>\n",
       "      <td>Valproic acid</td>\n",
       "      <td>PUBCHEM.COMPOUND:3121</td>\n",
       "      <td>0.000000</td>\n",
       "      <td>NaN</td>\n",
       "      <td>NaN</td>\n",
       "      <td>NaN</td>\n",
       "      <td>NaN</td>\n",
       "      <td>NaN</td>\n",
       "      <td>NaN</td>\n",
       "      <td>NaN</td>\n",
       "    </tr>\n",
       "    <tr>\n",
       "      <th>708</th>\n",
       "      <td>SHANK2</td>\n",
       "      <td>NCBIGene:22941</td>\n",
       "      <td>ALAS1</td>\n",
       "      <td>NCBIGene:211</td>\n",
       "      <td>Valproic acid</td>\n",
       "      <td>PUBCHEM.COMPOUND:3121</td>\n",
       "      <td>0.000000</td>\n",
       "      <td>NaN</td>\n",
       "      <td>NaN</td>\n",
       "      <td>NaN</td>\n",
       "      <td>NaN</td>\n",
       "      <td>NaN</td>\n",
       "      <td>NaN</td>\n",
       "      <td>NaN</td>\n",
       "    </tr>\n",
       "    <tr>\n",
       "      <th>709</th>\n",
       "      <td>AKT1</td>\n",
       "      <td>NCBIGene:207</td>\n",
       "      <td>ALAS1</td>\n",
       "      <td>NCBIGene:211</td>\n",
       "      <td>Valproic acid</td>\n",
       "      <td>PUBCHEM.COMPOUND:3121</td>\n",
       "      <td>0.000000</td>\n",
       "      <td>NaN</td>\n",
       "      <td>NaN</td>\n",
       "      <td>NaN</td>\n",
       "      <td>NaN</td>\n",
       "      <td>NaN</td>\n",
       "      <td>NaN</td>\n",
       "      <td>NaN</td>\n",
       "    </tr>\n",
       "  </tbody>\n",
       "</table>\n",
       "<p>710 rows × 14 columns</p>\n",
       "</div>"
      ],
      "text/plain": [
       "         n1    n1_identifier     n0  n0_identifier             n2  \\\n",
       "0       IVL    NCBIGene:3713   KRT7  NCBIGene:3855  Valproic acid   \n",
       "1     FABP4    NCBIGene:2167  ALAS1   NCBIGene:211  Valproic acid   \n",
       "2      TP63    NCBIGene:8626   KRT7  NCBIGene:3855  Valproic acid   \n",
       "3     MAPK8    NCBIGene:5599  ALAS1   NCBIGene:211  Valproic acid   \n",
       "4     MAPK8    NCBIGene:5599  ALAS1   NCBIGene:211  Valproic acid   \n",
       "..      ...              ...    ...            ...            ...   \n",
       "705   POLD1    NCBIGene:5424  ALAS1   NCBIGene:211  Valproic acid   \n",
       "706   HERC6   NCBIGene:55008  ALAS1   NCBIGene:211  Valproic acid   \n",
       "707    SDK1  NCBIGene:221935  ALAS1   NCBIGene:211  Valproic acid   \n",
       "708  SHANK2   NCBIGene:22941  ALAS1   NCBIGene:211  Valproic acid   \n",
       "709    AKT1     NCBIGene:207  ALAS1   NCBIGene:211  Valproic acid   \n",
       "\n",
       "             n2_identifier     score  \\\n",
       "0    PUBCHEM.COMPOUND:3121  2.966556   \n",
       "1    PUBCHEM.COMPOUND:3121  2.449312   \n",
       "2    PUBCHEM.COMPOUND:3121  2.224773   \n",
       "3    PUBCHEM.COMPOUND:3121  2.106262   \n",
       "4    PUBCHEM.COMPOUND:3121  2.106262   \n",
       "..                     ...       ...   \n",
       "705  PUBCHEM.COMPOUND:3121  0.000000   \n",
       "706  PUBCHEM.COMPOUND:3121  0.000000   \n",
       "707  PUBCHEM.COMPOUND:3121  0.000000   \n",
       "708  PUBCHEM.COMPOUND:3121  0.000000   \n",
       "709  PUBCHEM.COMPOUND:3121  0.000000   \n",
       "\n",
       "                                            figure_url         pmc     nodes  \\\n",
       "0                                                  NaN         NaN       NaN   \n",
       "1                                                  NaN         NaN       NaN   \n",
       "2                                                  NaN         NaN       NaN   \n",
       "3    https://www.ncbi.nlm.nih.gov/pmc/articles/PMC5...  PMC5354998  [n1, n0]   \n",
       "4    https://www.ncbi.nlm.nih.gov/pmc/articles/PMC1...  PMC1906540  [n1, n0]   \n",
       "..                                                 ...         ...       ...   \n",
       "705                                                NaN         NaN       NaN   \n",
       "706                                                NaN         NaN       NaN   \n",
       "707                                                NaN         NaN       NaN   \n",
       "708                                                NaN         NaN       NaN   \n",
       "709                                                NaN         NaN       NaN   \n",
       "\n",
       "    figure_title_notebook figid_notebook figure_url_notebook  \\\n",
       "0                     NaN            NaN                 NaN   \n",
       "1                     NaN            NaN                 NaN   \n",
       "2                     NaN            NaN                 NaN   \n",
       "3                     NaN            NaN                 NaN   \n",
       "4                     NaN            NaN                 NaN   \n",
       "..                    ...            ...                 ...   \n",
       "705                   NaN            NaN                 NaN   \n",
       "706                   NaN            NaN                 NaN   \n",
       "707                   NaN            NaN                 NaN   \n",
       "708                   NaN            NaN                 NaN   \n",
       "709                   NaN            NaN                 NaN   \n",
       "\n",
       "     pfocr_score_notebook  \n",
       "0                     NaN  \n",
       "1                     NaN  \n",
       "2                     NaN  \n",
       "3                     NaN  \n",
       "4                     NaN  \n",
       "..                    ...  \n",
       "705                   NaN  \n",
       "706                   NaN  \n",
       "707                   NaN  \n",
       "708                   NaN  \n",
       "709                   NaN  \n",
       "\n",
       "[710 rows x 14 columns]"
      ]
     },
     "execution_count": 12,
     "metadata": {},
     "output_type": "execute_result"
    }
   ],
   "source": [
    "import pandas as pd\n",
    "\n",
    "\n",
    "kg_nodes = bte_message[\"knowledge_graph\"][\"nodes\"]\n",
    "\n",
    "bte_rows = []\n",
    "for bte_result in bte_results:\n",
    "    bte_row_template = {}\n",
    "    for q_node_id, value in bte_result[\"node_bindings\"].items():\n",
    "        node_labels = []\n",
    "        for v in value:\n",
    "            id = v[\"id\"]\n",
    "            name = kg_nodes[id][\"name\"]\n",
    "            #node_labels.append(f'{name} ({id})')\n",
    "            node_labels.append(name)\n",
    "        bte_row_template[q_node_id] = \",\".join(node_labels)\n",
    "        # just taking the first one for now\n",
    "        bte_row_template[q_node_id + \"_identifier\"] = value[0][\"id\"]\n",
    "\n",
    "    bte_row_template[\"score\"] = bte_result[\"score\"]\n",
    "    \n",
    "    if \"pfocr\" in bte_result or \"pfocr_notebook\" in bte_result:\n",
    "        if \"pfocr\" in bte_result:\n",
    "            for pfocr_result in bte_result[\"pfocr\"]:\n",
    "                bte_row = deepcopy(bte_row_template)\n",
    "                bte_row[\"figure_url\"] = pfocr_result[\"figureUrl\"]\n",
    "                bte_row[\"pmc\"] = pfocr_result[\"pmc\"]\n",
    "                bte_row[\"nodes\"] = pfocr_result[\"nodes\"]\n",
    "                bte_rows.append(bte_row)\n",
    "        if \"pfocr_notebook\" in bte_result:\n",
    "            for pfocr_result in bte_result[\"pfocr_notebook\"]:\n",
    "                bte_row = deepcopy(bte_row_template)\n",
    "                bte_row[\"figure_title_notebook\"] = pfocr_result[\"associatedWith\"][\"title\"]\n",
    "                bte_row[\"figid_notebook\"] = pfocr_result[\"_id\"]\n",
    "                bte_row[\"figure_url_notebook\"] = pfocr_result[\"associatedWith\"][\"figureUrl\"]\n",
    "                bte_row[\"pfocr_score_notebook\"] = pfocr_result[\"score\"]\n",
    "                bte_rows.append(bte_row)\n",
    "    else:\n",
    "        bte_rows.append(bte_row_template)\n",
    "    \n",
    "bte_df = pd.DataFrame(bte_rows)\n",
    "bte_df"
   ]
  },
  {
   "cell_type": "code",
   "execution_count": 13,
   "metadata": {},
   "outputs": [
    {
     "name": "stdout",
     "output_type": "stream",
     "text": [
      "63\n",
      "63\n"
     ]
    }
   ],
   "source": [
    "print(len(bte_df[bte_df[\"figure_url\"].notnull()][\"figure_url\"].drop_duplicates()))\n",
    "print(len(bte_df[bte_df[\"figure_url_notebook\"].notnull()][\"figure_url_notebook\"].drop_duplicates()))"
   ]
  },
  {
   "cell_type": "code",
   "execution_count": 14,
   "metadata": {},
   "outputs": [
    {
     "name": "stdout",
     "output_type": "stream",
     "text": [
      "70\n",
      "70\n"
     ]
    }
   ],
   "source": [
    "print(\n",
    "    len(bte_df[bte_df[\"figure_url\"].notnull()][\n",
    "        [\"n0_identifier\", \"n1_identifier\", \"n2_identifier\"]\n",
    "    ].drop_duplicates())\n",
    ")\n",
    "print(\n",
    "    len(bte_df[bte_df[\"figure_url_notebook\"].notnull()][\n",
    "        [\"n0_identifier\", \"n1_identifier\", \"n2_identifier\"]\n",
    "    ].drop_duplicates())\n",
    ")"
   ]
  },
  {
   "cell_type": "code",
   "execution_count": 15,
   "metadata": {
    "colab": {
     "base_uri": "https://localhost:8080/",
     "height": 455
    },
    "id": "aWy5v2oEAXfH",
    "outputId": "71fc053d-4ca4-4ea5-9fe3-9b44d1c73fcb"
   },
   "outputs": [
    {
     "data": {
      "text/html": [
       "<div>\n",
       "<style scoped>\n",
       "    .dataframe tbody tr th:only-of-type {\n",
       "        vertical-align: middle;\n",
       "    }\n",
       "\n",
       "    .dataframe tbody tr th {\n",
       "        vertical-align: top;\n",
       "    }\n",
       "\n",
       "    .dataframe thead th {\n",
       "        text-align: right;\n",
       "    }\n",
       "</style>\n",
       "<table border=\"1\" class=\"dataframe\">\n",
       "  <thead>\n",
       "    <tr style=\"text-align: right;\">\n",
       "      <th></th>\n",
       "      <th></th>\n",
       "      <th>figure_count</th>\n",
       "    </tr>\n",
       "    <tr>\n",
       "      <th>n1</th>\n",
       "      <th>n2</th>\n",
       "      <th></th>\n",
       "    </tr>\n",
       "  </thead>\n",
       "  <tbody>\n",
       "    <tr>\n",
       "      <th>ALAD</th>\n",
       "      <th>Valproic acid</th>\n",
       "      <td>34</td>\n",
       "    </tr>\n",
       "    <tr>\n",
       "      <th>HMBS</th>\n",
       "      <th>Valproic acid</th>\n",
       "      <td>33</td>\n",
       "    </tr>\n",
       "    <tr>\n",
       "      <th>UROS</th>\n",
       "      <th>Valproic acid</th>\n",
       "      <td>28</td>\n",
       "    </tr>\n",
       "    <tr>\n",
       "      <th>CPOX</th>\n",
       "      <th>Valproic acid</th>\n",
       "      <td>17</td>\n",
       "    </tr>\n",
       "    <tr>\n",
       "      <th>KRT19</th>\n",
       "      <th>Valproic acid</th>\n",
       "      <td>3</td>\n",
       "    </tr>\n",
       "    <tr>\n",
       "      <th>...</th>\n",
       "      <th>...</th>\n",
       "      <td>...</td>\n",
       "    </tr>\n",
       "    <tr>\n",
       "      <th>KAT6B</th>\n",
       "      <th>Valproic acid</th>\n",
       "      <td>0</td>\n",
       "    </tr>\n",
       "    <tr>\n",
       "      <th>KDM1A</th>\n",
       "      <th>Valproic acid</th>\n",
       "      <td>0</td>\n",
       "    </tr>\n",
       "    <tr>\n",
       "      <th>KDM5A</th>\n",
       "      <th>Valproic acid</th>\n",
       "      <td>0</td>\n",
       "    </tr>\n",
       "    <tr>\n",
       "      <th>KIF9</th>\n",
       "      <th>Valproic acid</th>\n",
       "      <td>0</td>\n",
       "    </tr>\n",
       "    <tr>\n",
       "      <th>ZNF564</th>\n",
       "      <th>Valproic acid</th>\n",
       "      <td>0</td>\n",
       "    </tr>\n",
       "  </tbody>\n",
       "</table>\n",
       "<p>345 rows × 1 columns</p>\n",
       "</div>"
      ],
      "text/plain": [
       "                      figure_count\n",
       "n1     n2                         \n",
       "ALAD   Valproic acid            34\n",
       "HMBS   Valproic acid            33\n",
       "UROS   Valproic acid            28\n",
       "CPOX   Valproic acid            17\n",
       "KRT19  Valproic acid             3\n",
       "...                            ...\n",
       "KAT6B  Valproic acid             0\n",
       "KDM1A  Valproic acid             0\n",
       "KDM5A  Valproic acid             0\n",
       "KIF9   Valproic acid             0\n",
       "ZNF564 Valproic acid             0\n",
       "\n",
       "[345 rows x 1 columns]"
      ]
     },
     "execution_count": 15,
     "metadata": {},
     "output_type": "execute_result"
    }
   ],
   "source": [
    "bte_df.rename(\n",
    "    columns={\"figure_url\": \"figure_count\"}\n",
    ").groupby(\n",
    "    [\"n0\", \"n1\", \"n2\"]\n",
    ")[[\"figure_count\"]].count().sort_values(\"figure_count\", ascending=False)"
   ]
  },
  {
   "cell_type": "markdown",
   "metadata": {
    "id": "H4oQCpp-oUZU"
   },
   "source": [
    "## Display some figures"
   ]
  },
  {
   "cell_type": "code",
   "execution_count": 19,
   "metadata": {
    "colab": {
     "base_uri": "https://localhost:8080/",
     "height": 1000
    },
    "id": "1iqomqP3t1C5",
    "outputId": "8882419c-7213-4b54-eba3-becd28733c28"
   },
   "outputs": [
    {
     "data": {
      "text/html": [
       "<img src=\"https://www.ncbi.nlm.nih.gov/pmc/articles/PMC5354998/bin/nihms843846f10.jpg\"/>"
      ],
      "text/plain": [
       "<IPython.core.display.Image object>"
      ]
     },
     "metadata": {},
     "output_type": "display_data"
    },
    {
     "name": "stdout",
     "output_type": "stream",
     "text": [
      "Integrated genomic and molecular characterization of cervical cancer.\n",
      "\n",
      "\n",
      "\n"
     ]
    },
    {
     "data": {
      "text/html": [
       "<img src=\"https://www.ncbi.nlm.nih.gov/pmc/articles/PMC7402116/bin/antioxidants-09-00636-g004.jpg\"/>"
      ],
      "text/plain": [
       "<IPython.core.display.Image object>"
      ]
     },
     "metadata": {},
     "output_type": "display_data"
    },
    {
     "name": "stdout",
     "output_type": "stream",
     "text": [
      "Porphyrin synthesis pathway in relation to COVID-19\n",
      "\n",
      "\n",
      "\n"
     ]
    },
    {
     "data": {
      "text/html": [
       "<img src=\"https://www.ncbi.nlm.nih.gov/pmc/articles/PMC1906540/bin/cei0130-0363-f2.jpg\"/>"
      ],
      "text/plain": [
       "<IPython.core.display.Image object>"
      ]
     },
     "metadata": {},
     "output_type": "display_data"
    },
    {
     "name": "stdout",
     "output_type": "stream",
     "text": [
      "Innate immune responses\n",
      "\n",
      "\n",
      "\n"
     ]
    },
    {
     "data": {
      "text/html": [
       "<img src=\"https://www.ncbi.nlm.nih.gov/pmc/articles/PMC5293201/bin/pcbi.1005352.g001.jpg\"/>"
      ],
      "text/plain": [
       "<IPython.core.display.Image object>"
      ]
     },
     "metadata": {},
     "output_type": "display_data"
    },
    {
     "name": "stdout",
     "output_type": "stream",
     "text": [
      "Activated Oncogenic Pathway Modifies Iron Network in Breast Epithelial Cells: A Dynamic Modeling Perspective\n",
      "\n",
      "\n",
      "\n"
     ]
    },
    {
     "data": {
      "text/html": [
       "<img src=\"https://www.ncbi.nlm.nih.gov/pmc/articles/PMC4279155/bin/metabolites-04-00977-g001.jpg\"/>"
      ],
      "text/plain": [
       "<IPython.core.display.Image object>"
      ]
     },
     "metadata": {},
     "output_type": "display_data"
    },
    {
     "name": "stdout",
     "output_type": "stream",
     "text": [
      "The heme biosynthetic pathway and aspects of its regulation in hepatocytes\n",
      "\n",
      "\n",
      "\n"
     ]
    },
    {
     "data": {
      "text/html": [
       "<img src=\"https://www.ncbi.nlm.nih.gov/pmc/articles/PMC6754303/bin/nihms-1526961-f0002.jpg\"/>"
      ],
      "text/plain": [
       "<IPython.core.display.Image object>"
      ]
     },
     "metadata": {},
     "output_type": "display_data"
    },
    {
     "name": "stdout",
     "output_type": "stream",
     "text": [
      "Pathogenesis and Clinical Features of the Acute Hepatic Porphyrias (AHPs)\n",
      "\n",
      "\n",
      "\n"
     ]
    },
    {
     "data": {
      "text/html": [
       "<img src=\"https://www.ncbi.nlm.nih.gov/pmc/articles/PMC6826333/bin/or-42-06-2561-g01.jpg\"/>"
      ],
      "text/plain": [
       "<IPython.core.display.Image object>"
      ]
     },
     "metadata": {},
     "output_type": "display_data"
    },
    {
     "name": "stdout",
     "output_type": "stream",
     "text": [
      "Network of pancreatic cancer-target genes\n",
      "\n",
      "\n",
      "\n"
     ]
    },
    {
     "data": {
      "text/html": [
       "<img src=\"https://www.ncbi.nlm.nih.gov/pmc/articles/PMC5412778/bin/Cell-J-19-194-g02.jpg\"/>"
      ],
      "text/plain": [
       "<IPython.core.display.Image object>"
      ]
     },
     "metadata": {},
     "output_type": "display_data"
    },
    {
     "name": "stdout",
     "output_type": "stream",
     "text": [
      "Neural ectoderm and neural crest specification in deprivation of the external signals.A\n",
      "\n",
      "\n",
      "\n"
     ]
    },
    {
     "data": {
      "text/html": [
       "<img src=\"https://www.ncbi.nlm.nih.gov/pmc/articles/PMC3488210/bin/gks699f3.jpg\"/>"
      ],
      "text/plain": [
       "<IPython.core.display.Image object>"
      ]
     },
     "metadata": {},
     "output_type": "display_data"
    },
    {
     "name": "stdout",
     "output_type": "stream",
     "text": [
      "Sub-network found among the genes in a differential expression experiment that compares FA patients to controls\n",
      "\n",
      "\n",
      "\n"
     ]
    },
    {
     "data": {
      "text/html": [
       "<img src=\"https://www.ncbi.nlm.nih.gov/pmc/articles/PMC5431431/bin/41598_2017_1624_Fig2_HTML.jpg\"/>"
      ],
      "text/plain": [
       "<IPython.core.display.Image object>"
      ]
     },
     "metadata": {},
     "output_type": "display_data"
    },
    {
     "name": "stdout",
     "output_type": "stream",
     "text": [
      "DNA methylation and Transcriptome Changes Associated with Cisplatin Resistance in Ovarian Cancer.\n",
      "\n",
      "\n",
      "\n"
     ]
    },
    {
     "data": {
      "text/html": [
       "<img src=\"https://www.ncbi.nlm.nih.gov/pmc/articles/PMC4920139/bin/nihms789997f1.jpg\"/>"
      ],
      "text/plain": [
       "<IPython.core.display.Image object>"
      ]
     },
     "metadata": {},
     "output_type": "display_data"
    },
    {
     "name": "stdout",
     "output_type": "stream",
     "text": [
      "Genes represented in the 38-gene DTC panel and their biological pathway associations\n",
      "\n",
      "\n",
      "\n"
     ]
    },
    {
     "data": {
      "text/html": [
       "<img src=\"https://www.ncbi.nlm.nih.gov/pmc/articles/PMC1683566/bin/1471-2105-7-S2-S16-5.jpg\"/>"
      ],
      "text/plain": [
       "<IPython.core.display.Image object>"
      ]
     },
     "metadata": {},
     "output_type": "display_data"
    },
    {
     "name": "stdout",
     "output_type": "stream",
     "text": [
      "Integration of gene expression with the proposed mechanistic pathway initiated by comfrey treatment leading to tumorigenesis\n",
      "\n",
      "\n",
      "\n"
     ]
    },
    {
     "data": {
      "text/html": [
       "<img src=\"https://www.ncbi.nlm.nih.gov/pmc/articles/PMC4677515/bin/fig-1.jpg\"/>"
      ],
      "text/plain": [
       "<IPython.core.display.Image object>"
      ]
     },
     "metadata": {},
     "output_type": "display_data"
    },
    {
     "name": "stdout",
     "output_type": "stream",
     "text": [
      "Survey of the Impact of Deyolking on Biological Processes Covered by Shotgun Proteomic Analyses of Zebrafish Embryos\n",
      "\n",
      "\n",
      "\n"
     ]
    },
    {
     "data": {
      "text/html": [
       "<img src=\"https://www.ncbi.nlm.nih.gov/pmc/articles/PMC6281605/bin/41420_2018_121_Fig2_HTML.jpg\"/>"
      ],
      "text/plain": [
       "<IPython.core.display.Image object>"
      ]
     },
     "metadata": {},
     "output_type": "display_data"
    },
    {
     "name": "stdout",
     "output_type": "stream",
     "text": [
      "Transcriptional landscape of mouse-aged ovaries reveals a unique set of non-coding RNAs associated with physiological and environmental ovarian dysfunctions\n",
      "\n",
      "\n",
      "\n"
     ]
    },
    {
     "data": {
      "text/html": [
       "<img src=\"https://www.ncbi.nlm.nih.gov/pmc/articles/PMC6756575/bin/COPD-14-2145-g0003.jpg\"/>"
      ],
      "text/plain": [
       "<IPython.core.display.Image object>"
      ]
     },
     "metadata": {},
     "output_type": "display_data"
    },
    {
     "name": "stdout",
     "output_type": "stream",
     "text": [
      "Roundabout signaling pathway involved in the pathogenesis of COPD by integrative bioinformatics analysis.\n",
      "\n",
      "\n",
      "\n"
     ]
    },
    {
     "data": {
      "text/html": [
       "<img src=\"https://www.ncbi.nlm.nih.gov/pmc/articles/PMC3580761/bin/fgene-04-00012-g002.jpg\"/>"
      ],
      "text/plain": [
       "<IPython.core.display.Image object>"
      ]
     },
     "metadata": {},
     "output_type": "display_data"
    },
    {
     "name": "stdout",
     "output_type": "stream",
     "text": [
      "Regulation network of CYP3A4 phenotype expression adapted from Klein et al\n",
      "\n",
      "\n",
      "\n"
     ]
    },
    {
     "data": {
      "text/html": [
       "<img src=\"https://www.ncbi.nlm.nih.gov/pmc/articles/PMC7685213/bin/bloodBLD2020007968Cf1.jpg\"/>"
      ],
      "text/plain": [
       "<IPython.core.display.Image object>"
      ]
     },
     "metadata": {},
     "output_type": "display_data"
    },
    {
     "name": "stdout",
     "output_type": "stream",
     "text": [
      "Simple Rx for congenital erythropoietic porphyria\n",
      "\n",
      "\n",
      "\n"
     ]
    },
    {
     "data": {
      "text/html": [
       "<img src=\"https://www.ncbi.nlm.nih.gov/pmc/articles/PMC5115734/bin/pone.0166338.g001.jpg\"/>"
      ],
      "text/plain": [
       "<IPython.core.display.Image object>"
      ]
     },
     "metadata": {},
     "output_type": "display_data"
    },
    {
     "name": "stdout",
     "output_type": "stream",
     "text": [
      "Evolution of the Tetrapyrrole Biosynthetic Pathway in Secondary Algae: Conservation, Redundancy and Replacement\n",
      "\n",
      "\n",
      "\n"
     ]
    },
    {
     "data": {
      "text/html": [
       "<img src=\"https://www.ncbi.nlm.nih.gov/pmc/articles/PMC5115734/bin/pone.0166338.g005.jpg\"/>"
      ],
      "text/plain": [
       "<IPython.core.display.Image object>"
      ]
     },
     "metadata": {},
     "output_type": "display_data"
    },
    {
     "name": "stdout",
     "output_type": "stream",
     "text": [
      "Evolution of the Tetrapyrrole Biosynthetic Pathway in Secondary Algae: Conservation, Redundancy and Replacement\n",
      "\n",
      "\n",
      "\n"
     ]
    },
    {
     "data": {
      "text/html": [
       "<img src=\"https://www.ncbi.nlm.nih.gov/pmc/articles/PMC4388523/bin/pone.0121567.g004.jpg\"/>"
      ],
      "text/plain": [
       "<IPython.core.display.Image object>"
      ]
     },
     "metadata": {},
     "output_type": "display_data"
    },
    {
     "name": "stdout",
     "output_type": "stream",
     "text": [
      "Increase of microRNA-210, Decrease of Raptor Gene Expression and Alteration of Mammalian Target of Rapamycin Regulated Proteins following Mithramycin Treatment of Human Erythroid Cells\n",
      "\n",
      "\n",
      "\n"
     ]
    },
    {
     "data": {
      "text/html": [
       "<img src=\"https://www.ncbi.nlm.nih.gov/pmc/articles/PMC2930673/bin/zbc0341026750002.jpg\"/>"
      ],
      "text/plain": [
       "<IPython.core.display.Image object>"
      ]
     },
     "metadata": {},
     "output_type": "display_data"
    },
    {
     "name": "stdout",
     "output_type": "stream",
     "text": [
      "Transport of heme synthesis intermediates and heme in metazoans\n",
      "\n",
      "\n",
      "\n"
     ]
    },
    {
     "data": {
      "text/html": [
       "<img src=\"https://www.ncbi.nlm.nih.gov/pmc/articles/PMC4040894/bin/99973.fig2.jpg\"/>"
      ],
      "text/plain": [
       "<IPython.core.display.Image object>"
      ]
     },
     "metadata": {},
     "output_type": "display_data"
    },
    {
     "name": "stdout",
     "output_type": "stream",
     "text": [
      "Heme biosynthesis\n",
      "\n",
      "\n",
      "\n"
     ]
    },
    {
     "data": {
      "text/html": [
       "<img src=\"https://www.ncbi.nlm.nih.gov/pmc/articles/PMC5723588/bin/ECE3-7-10379-g002.jpg\"/>"
      ],
      "text/plain": [
       "<IPython.core.display.Image object>"
      ]
     },
     "metadata": {},
     "output_type": "display_data"
    },
    {
     "name": "stdout",
     "output_type": "stream",
     "text": [
      "Haem synthetic pathway\n",
      "\n",
      "\n",
      "\n"
     ]
    },
    {
     "data": {
      "text/html": [
       "<img src=\"https://www.ncbi.nlm.nih.gov/pmc/articles/PMC4632830/bin/ijms-16-25865-g001.jpg\"/>"
      ],
      "text/plain": [
       "<IPython.core.display.Image object>"
      ]
     },
     "metadata": {},
     "output_type": "display_data"
    },
    {
     "name": "stdout",
     "output_type": "stream",
     "text": [
      "Heme biosynthesis pathway (in red) connects with glucose (in green) and glutamine (in blue) metabolic pathways\n",
      "\n",
      "\n",
      "\n"
     ]
    },
    {
     "data": {
      "text/html": [
       "<img src=\"https://www.ncbi.nlm.nih.gov/pmc/articles/PMC6889380/bin/41416_2019_516_Fig2_HTML.jpg\"/>"
      ],
      "text/plain": [
       "<IPython.core.display.Image object>"
      ]
     },
     "metadata": {},
     "output_type": "display_data"
    },
    {
     "name": "stdout",
     "output_type": "stream",
     "text": [
      "Haem synthesis pathway\n",
      "\n",
      "\n",
      "\n"
     ]
    },
    {
     "data": {
      "text/html": [
       "<img src=\"https://www.ncbi.nlm.nih.gov/pmc/articles/PMC5916231/bin/rmmj-9-2-e0013-g001.jpg\"/>"
      ],
      "text/plain": [
       "<IPython.core.display.Image object>"
      ]
     },
     "metadata": {},
     "output_type": "display_data"
    },
    {
     "name": "stdout",
     "output_type": "stream",
     "text": [
      "Heme synthesis pathway\n",
      "\n",
      "\n",
      "\n"
     ]
    },
    {
     "data": {
      "text/html": [
       "<img src=\"https://www.ncbi.nlm.nih.gov/pmc/articles/PMC4821805/bin/elife-12318-fig1.jpg\"/>"
      ],
      "text/plain": [
       "<IPython.core.display.Image object>"
      ]
     },
     "metadata": {},
     "output_type": "display_data"
    },
    {
     "name": "stdout",
     "output_type": "stream",
     "text": [
      "Evolution of haem biosynthetic and degradative pathways\n",
      "\n",
      "\n",
      "\n"
     ]
    },
    {
     "data": {
      "text/html": [
       "<img src=\"https://www.ncbi.nlm.nih.gov/pmc/articles/PMC5654406/bin/gbeevr029f01_3c.jpg\"/>"
      ],
      "text/plain": [
       "<IPython.core.display.Image object>"
      ]
     },
     "metadata": {},
     "output_type": "display_data"
    },
    {
     "name": "stdout",
     "output_type": "stream",
     "text": [
      "Sequence Evidence for the Presence of Two Tetrapyrrole Pathways in Euglena gracilis\n",
      "\n",
      "\n",
      "\n"
     ]
    },
    {
     "data": {
      "text/html": [
       "<img src=\"https://www.ncbi.nlm.nih.gov/pmc/articles/PMC7998362/bin/genes-12-00421-g007.jpg\"/>"
      ],
      "text/plain": [
       "<IPython.core.display.Image object>"
      ]
     },
     "metadata": {},
     "output_type": "display_data"
    },
    {
     "name": "stdout",
     "output_type": "stream",
     "text": [
      "Four identified pathways responsible for P\n",
      "\n",
      "\n",
      "\n"
     ]
    },
    {
     "data": {
      "text/html": [
       "<img src=\"https://www.ncbi.nlm.nih.gov/pmc/articles/PMC6820234/bin/gr1.jpg\"/>"
      ],
      "text/plain": [
       "<IPython.core.display.Image object>"
      ]
     },
     "metadata": {},
     "output_type": "display_data"
    },
    {
     "name": "stdout",
     "output_type": "stream",
     "text": [
      "Heme biosynthetic pathway and experimental porphyria models\n",
      "\n",
      "\n",
      "\n"
     ]
    },
    {
     "data": {
      "text/html": [
       "<img src=\"https://www.ncbi.nlm.nih.gov/pmc/articles/PMC7279006/bin/ijms-21-03462-g001.jpg\"/>"
      ],
      "text/plain": [
       "<IPython.core.display.Image object>"
      ]
     },
     "metadata": {},
     "output_type": "display_data"
    },
    {
     "name": "stdout",
     "output_type": "stream",
     "text": [
      "Heme biosynthetic pathway, porphyrias and nutrients\n",
      "\n",
      "\n",
      "\n"
     ]
    },
    {
     "data": {
      "text/html": [
       "<img src=\"https://www.ncbi.nlm.nih.gov/pmc/articles/PMC7435111/bin/yam-63-154-g001.jpg\"/>"
      ],
      "text/plain": [
       "<IPython.core.display.Image object>"
      ]
     },
     "metadata": {},
     "output_type": "display_data"
    },
    {
     "name": "stdout",
     "output_type": "stream",
     "text": [
      "Scheme of the heme biosynthesis pathway and membrane transporters\n",
      "\n",
      "\n",
      "\n"
     ]
    },
    {
     "data": {
      "text/html": [
       "<img src=\"https://www.ncbi.nlm.nih.gov/pmc/articles/PMC7161743/bin/nihms-1569377-f0003.jpg\"/>"
      ],
      "text/plain": [
       "<IPython.core.display.Image object>"
      ]
     },
     "metadata": {},
     "output_type": "display_data"
    },
    {
     "name": "stdout",
     "output_type": "stream",
     "text": [
      "Leishmania heme auxotrophy\n",
      "\n",
      "\n",
      "\n"
     ]
    },
    {
     "data": {
      "text/html": [
       "<img src=\"https://www.ncbi.nlm.nih.gov/pmc/articles/PMC7216002/bin/ijms-21-02963-g001.jpg\"/>"
      ],
      "text/plain": [
       "<IPython.core.display.Image object>"
      ]
     },
     "metadata": {},
     "output_type": "display_data"
    },
    {
     "name": "stdout",
     "output_type": "stream",
     "text": [
      "Heme biosynthesis pathway (left) and the principle of HAL mediated PpIX production enhancement with dimethylsulphoxide (DMSO) or deferoxamine mesylate salt (DFO) (right)\n",
      "\n",
      "\n",
      "\n"
     ]
    },
    {
     "data": {
      "text/html": [
       "<img src=\"https://www.ncbi.nlm.nih.gov/pmc/articles/PMC5974538/bin/fpls-09-00681-g0001.jpg\"/>"
      ],
      "text/plain": [
       "<IPython.core.display.Image object>"
      ]
     },
     "metadata": {},
     "output_type": "display_data"
    },
    {
     "name": "stdout",
     "output_type": "stream",
     "text": [
      "Occurrence of plant photodynamic stress\n",
      "\n",
      "\n",
      "\n"
     ]
    },
    {
     "data": {
      "text/html": [
       "<img src=\"https://www.ncbi.nlm.nih.gov/pmc/articles/PMC2360674/bin/95-6603273f8.jpg\"/>"
      ],
      "text/plain": [
       "<IPython.core.display.Image object>"
      ]
     },
     "metadata": {},
     "output_type": "display_data"
    },
    {
     "name": "stdout",
     "output_type": "stream",
     "text": [
      "Schematic of porphyrin-synthetic pathway to illustrate potential control points for increased PpIX accumulation\n",
      "\n",
      "\n",
      "\n"
     ]
    },
    {
     "data": {
      "text/html": [
       "<img src=\"https://www.ncbi.nlm.nih.gov/pmc/articles/PMC5312243/bin/zmr0011724550001.jpg\"/>"
      ],
      "text/plain": [
       "<IPython.core.display.Image object>"
      ]
     },
     "metadata": {},
     "output_type": "display_data"
    },
    {
     "name": "stdout",
     "output_type": "stream",
     "text": [
      "Tetrapyrrole biosynthetic pathways in prokaryotes\n",
      "\n",
      "\n",
      "\n"
     ]
    },
    {
     "data": {
      "text/html": [
       "<img src=\"https://www.ncbi.nlm.nih.gov/pmc/articles/PMC7575966/bin/atm-08-17-1098-f1.jpg\"/>"
      ],
      "text/plain": [
       "<IPython.core.display.Image object>"
      ]
     },
     "metadata": {},
     "output_type": "display_data"
    },
    {
     "name": "stdout",
     "output_type": "stream",
     "text": [
      "Enzymes and intermediate products of the heme synthesis pathway\n",
      "\n",
      "\n",
      "\n"
     ]
    },
    {
     "data": {
      "text/html": [
       "<img src=\"https://www.ncbi.nlm.nih.gov/pmc/articles/PMC2999593/bin/1756-3305-3-108-1.jpg\"/>"
      ],
      "text/plain": [
       "<IPython.core.display.Image object>"
      ]
     },
     "metadata": {},
     "output_type": "display_data"
    },
    {
     "name": "stdout",
     "output_type": "stream",
     "text": [
      "Heme Biosynthetic Pathway\n",
      "\n",
      "\n",
      "\n"
     ]
    },
    {
     "data": {
      "text/html": [
       "<img src=\"https://www.ncbi.nlm.nih.gov/pmc/articles/PMC7034838/bin/pone.0228722.g003.jpg\"/>"
      ],
      "text/plain": [
       "<IPython.core.display.Image object>"
      ]
     },
     "metadata": {},
     "output_type": "display_data"
    },
    {
     "name": "stdout",
     "output_type": "stream",
     "text": [
      "Iron metabolic pathways in the processes of sponge plasticity\n",
      "\n",
      "\n",
      "\n"
     ]
    },
    {
     "data": {
      "text/html": [
       "<img src=\"https://www.ncbi.nlm.nih.gov/pmc/articles/PMC4087737/bin/WJG-12-4281-g001.jpg\"/>"
      ],
      "text/plain": [
       "<IPython.core.display.Image object>"
      ]
     },
     "metadata": {},
     "output_type": "display_data"
    },
    {
     "name": "stdout",
     "output_type": "stream",
     "text": [
      "A: The heme biosynthetic pathway\n",
      "\n",
      "\n",
      "\n"
     ]
    },
    {
     "data": {
      "text/html": [
       "<img src=\"https://www.ncbi.nlm.nih.gov/pmc/articles/PMC6970920/bin/zbc9991917320007.jpg\"/>"
      ],
      "text/plain": [
       "<IPython.core.display.Image object>"
      ]
     },
     "metadata": {},
     "output_type": "display_data"
    },
    {
     "name": "stdout",
     "output_type": "stream",
     "text": [
      "Heme biosynthesis pathway\n",
      "\n",
      "\n",
      "\n"
     ]
    },
    {
     "data": {
      "text/html": [
       "<img src=\"https://www.ncbi.nlm.nih.gov/pmc/articles/PMC6331451/bin/fphar-09-01514-g011.jpg\"/>"
      ],
      "text/plain": [
       "<IPython.core.display.Image object>"
      ]
     },
     "metadata": {},
     "output_type": "display_data"
    },
    {
     "name": "stdout",
     "output_type": "stream",
     "text": [
      "The metabolic pathway of FECH and heme\n",
      "\n",
      "\n",
      "\n"
     ]
    },
    {
     "data": {
      "text/html": [
       "<img src=\"https://www.ncbi.nlm.nih.gov/pmc/articles/PMC4498564/bin/nihms702007f1.jpg\"/>"
      ],
      "text/plain": [
       "<IPython.core.display.Image object>"
      ]
     },
     "metadata": {},
     "output_type": "display_data"
    },
    {
     "name": "stdout",
     "output_type": "stream",
     "text": [
      "Heme biosynthetic pathway\n",
      "\n",
      "\n",
      "\n"
     ]
    },
    {
     "data": {
      "text/html": [
       "<img src=\"https://www.ncbi.nlm.nih.gov/pmc/articles/PMC3136693/bin/253_2011_3391_Fig1_HTML.jpg\"/>"
      ],
      "text/plain": [
       "<IPython.core.display.Image object>"
      ]
     },
     "metadata": {},
     "output_type": "display_data"
    },
    {
     "name": "stdout",
     "output_type": "stream",
     "text": [
      "Chemical heme biosynthesis pathway\n",
      "\n",
      "\n",
      "\n"
     ]
    },
    {
     "data": {
      "text/html": [
       "<img src=\"https://www.ncbi.nlm.nih.gov/pmc/articles/PMC4784227/bin/nihms757074f4.jpg\"/>"
      ],
      "text/plain": [
       "<IPython.core.display.Image object>"
      ]
     },
     "metadata": {},
     "output_type": "display_data"
    },
    {
     "name": "stdout",
     "output_type": "stream",
     "text": [
      "Heme biosynthesis pathway\n",
      "\n",
      "\n",
      "\n"
     ]
    },
    {
     "data": {
      "text/html": [
       "<img src=\"https://www.ncbi.nlm.nih.gov/pmc/articles/PMC2703803/bin/pntd.0000475.g001.jpg\"/>"
      ],
      "text/plain": [
       "<IPython.core.display.Image object>"
      ]
     },
     "metadata": {},
     "output_type": "display_data"
    },
    {
     "name": "stdout",
     "output_type": "stream",
     "text": [
      "The Heme Biosynthetic Pathway of the Obligate Wolbachia Endosymbiont of Brugia malayi as a Potential Anti-filarial Drug Target\n",
      "\n",
      "\n",
      "\n"
     ]
    },
    {
     "data": {
      "text/html": [
       "<img src=\"https://www.ncbi.nlm.nih.gov/pmc/articles/PMC4199550/bin/pntd.0003224.g003.jpg\"/>"
      ],
      "text/plain": [
       "<IPython.core.display.Image object>"
      ]
     },
     "metadata": {},
     "output_type": "display_data"
    },
    {
     "name": "stdout",
     "output_type": "stream",
     "text": [
      "Iron Necessity: The Secret of Wolbachia's Success?\n",
      "\n",
      "\n",
      "\n"
     ]
    },
    {
     "data": {
      "text/html": [
       "<img src=\"https://www.ncbi.nlm.nih.gov/pmc/articles/PMC6154995/bin/41598_2018_32591_Fig7_HTML.jpg\"/>"
      ],
      "text/plain": [
       "<IPython.core.display.Image object>"
      ]
     },
     "metadata": {},
     "output_type": "display_data"
    },
    {
     "name": "stdout",
     "output_type": "stream",
     "text": [
      "Heme-dependent feedback inhibition of ALAS in the heme biosynthetic pathway\n",
      "\n",
      "\n",
      "\n"
     ]
    },
    {
     "data": {
      "text/html": [
       "<img src=\"https://www.ncbi.nlm.nih.gov/pmc/articles/PMC3767399/bin/nihms-507766-f0004.jpg\"/>"
      ],
      "text/plain": [
       "<IPython.core.display.Image object>"
      ]
     },
     "metadata": {},
     "output_type": "display_data"
    },
    {
     "name": "stdout",
     "output_type": "stream",
     "text": [
      "The metabolic roles of the endosymbiotic organelles of Toxoplasma and Plasmodium spp.\n",
      "\n",
      "\n",
      "\n"
     ]
    },
    {
     "data": {
      "text/html": [
       "<img src=\"https://www.ncbi.nlm.nih.gov/pmc/articles/PMC3343703/bin/fphar-03-00077-g001.jpg\"/>"
      ],
      "text/plain": [
       "<IPython.core.display.Image object>"
      ]
     },
     "metadata": {},
     "output_type": "display_data"
    },
    {
     "name": "stdout",
     "output_type": "stream",
     "text": [
      "Heme metabolism\n",
      "\n",
      "\n",
      "\n"
     ]
    },
    {
     "data": {
      "text/html": [
       "<img src=\"https://www.ncbi.nlm.nih.gov/pmc/articles/PMC3634068/bin/pone.0060368.g006.jpg\"/>"
      ],
      "text/plain": [
       "<IPython.core.display.Image object>"
      ]
     },
     "metadata": {},
     "output_type": "display_data"
    },
    {
     "name": "stdout",
     "output_type": "stream",
     "text": [
      "Gene Expression Variability in Human Hepatic Drug Metabolizing Enzymes and Transporters.\n",
      "\n",
      "\n",
      "\n"
     ]
    },
    {
     "data": {
      "text/html": [
       "<img src=\"https://www.ncbi.nlm.nih.gov/pmc/articles/PMC5805998/bin/rcmb.2017-0162OC_f3.jpg\"/>"
      ],
      "text/plain": [
       "<IPython.core.display.Image object>"
      ]
     },
     "metadata": {},
     "output_type": "display_data"
    },
    {
     "name": "stdout",
     "output_type": "stream",
     "text": [
      "Functional enrichment of combined differentially expressed gene list in severe asthma across all tissues\n",
      "\n",
      "\n",
      "\n"
     ]
    },
    {
     "data": {
      "text/html": [
       "<img src=\"https://www.ncbi.nlm.nih.gov/pmc/articles/PMC6263343/bin/molecules-16-04140-g003.jpg\"/>"
      ],
      "text/plain": [
       "<IPython.core.display.Image object>"
      ]
     },
     "metadata": {},
     "output_type": "display_data"
    },
    {
     "name": "stdout",
     "output_type": "stream",
     "text": [
      "Heme biosynthesis\n",
      "\n",
      "\n",
      "\n"
     ]
    },
    {
     "data": {
      "text/html": [
       "<img src=\"https://www.ncbi.nlm.nih.gov/pmc/articles/PMC7500861/bin/nihms-1628382-f0005.jpg\"/>"
      ],
      "text/plain": [
       "<IPython.core.display.Image object>"
      ]
     },
     "metadata": {},
     "output_type": "display_data"
    },
    {
     "name": "stdout",
     "output_type": "stream",
     "text": [
      "Metabolic pathway differences between LLO118 and LLO56 and identification of mGPD2 as a candidate gene\n",
      "\n",
      "\n",
      "\n"
     ]
    },
    {
     "data": {
      "text/html": [
       "<img src=\"https://www.ncbi.nlm.nih.gov/pmc/articles/PMC6741141/bin/MBO3-8-e00836-g005.jpg\"/>"
      ],
      "text/plain": [
       "<IPython.core.display.Image object>"
      ]
     },
     "metadata": {},
     "output_type": "display_data"
    },
    {
     "name": "stdout",
     "output_type": "stream",
     "text": [
      "Metabolic pathway of aerial and submerged mycelia in the liquid surface culture of Cordyceps militaris\n",
      "\n",
      "\n",
      "\n"
     ]
    },
    {
     "data": {
      "text/html": [
       "<img src=\"https://www.ncbi.nlm.nih.gov/pmc/articles/PMC5654500/bin/emss-74557-f003.jpg\"/>"
      ],
      "text/plain": [
       "<IPython.core.display.Image object>"
      ]
     },
     "metadata": {},
     "output_type": "display_data"
    },
    {
     "name": "stdout",
     "output_type": "stream",
     "text": [
      "Lost in translocation: The function of the 18 kD translocator protein\n",
      "\n",
      "\n",
      "\n"
     ]
    },
    {
     "data": {
      "text/html": [
       "<img src=\"https://www.ncbi.nlm.nih.gov/pmc/articles/PMC2751986/bin/2201fig7.jpg\"/>"
      ],
      "text/plain": [
       "<IPython.core.display.Image object>"
      ]
     },
     "metadata": {},
     "output_type": "display_data"
    },
    {
     "name": "stdout",
     "output_type": "stream",
     "text": [
      "Rev-erbA/PGC-1A pathway regulating heme homeostasis\n",
      "\n",
      "\n",
      "\n"
     ]
    },
    {
     "data": {
      "text/html": [
       "<img src=\"https://www.ncbi.nlm.nih.gov/pmc/articles/PMC3294197/bin/nihms346927f3.jpg\"/>"
      ],
      "text/plain": [
       "<IPython.core.display.Image object>"
      ]
     },
     "metadata": {},
     "output_type": "display_data"
    },
    {
     "name": "stdout",
     "output_type": "stream",
     "text": [
      "Ingenuity Pathway Analysis of genes that are differentially methylated (P<1.8 × 10−6) between normal mucosa of cancer patients and controls\n",
      "\n",
      "\n",
      "\n"
     ]
    },
    {
     "data": {
      "text/html": [
       "<img src=\"https://www.ncbi.nlm.nih.gov/pmc/articles/PMC3218904/bin/ar3364-2.jpg\"/>"
      ],
      "text/plain": [
       "<IPython.core.display.Image object>"
      ]
     },
     "metadata": {},
     "output_type": "display_data"
    },
    {
     "name": "stdout",
     "output_type": "stream",
     "text": [
      "Network pathway analysis of down-regulated genes in the gene category mitotic cell cycle\n",
      "\n",
      "\n",
      "\n"
     ]
    },
    {
     "data": {
      "text/html": [
       "<img src=\"https://www.ncbi.nlm.nih.gov/pmc/articles/PMC5596340/bin/mbo0041734710001.jpg\"/>"
      ],
      "text/plain": [
       "<IPython.core.display.Image object>"
      ]
     },
     "metadata": {},
     "output_type": "display_data"
    },
    {
     "name": "stdout",
     "output_type": "stream",
     "text": [
      "Metabolic reconstruction of Marine Group II Euryarchaeota, SAR406, and SAR202, based on the top three or four most complete genomes\n",
      "\n",
      "\n",
      "\n"
     ]
    },
    {
     "data": {
      "text/html": [
       "<img src=\"https://www.ncbi.nlm.nih.gov/pmc/articles/PMC6962170/bin/41598_2019_57142_Fig4_HTML.jpg\"/>"
      ],
      "text/plain": [
       "<IPython.core.display.Image object>"
      ]
     },
     "metadata": {},
     "output_type": "display_data"
    },
    {
     "name": "stdout",
     "output_type": "stream",
     "text": [
      "Integrated metabolic, proteomic and transcriptomic functional analysis\n",
      "\n",
      "\n",
      "\n"
     ]
    },
    {
     "data": {
      "text/html": [
       "<img src=\"https://www.ncbi.nlm.nih.gov/pmc/articles/PMC5615194/bin/mbo0051734950001.jpg\"/>"
      ],
      "text/plain": [
       "<IPython.core.display.Image object>"
      ]
     },
     "metadata": {},
     "output_type": "display_data"
    },
    {
     "name": "stdout",
     "output_type": "stream",
     "text": [
      "Rickettsia species synthesize cell envelope glycoconjugates from imported host sugars and fuel the TCA cycle with a range of host-acquired metabolites\n",
      "\n",
      "\n",
      "\n"
     ]
    }
   ],
   "source": [
    "from IPython.display import Image\n",
    "from IPython.core.display import HTML \n",
    "\n",
    "\n",
    "for i, df in bte_df[\n",
    "    bte_df[\"figure_url_notebook\"].notnull() & bte_df[\"figure_title_notebook\"].notnull()\n",
    "][[\"figure_url_notebook\", \"figure_title_notebook\"]].drop_duplicates().iterrows():\n",
    "    figure_title = df[\"figure_title_notebook\"]\n",
    "    figure_url = df[\"figure_url_notebook\"]\n",
    "    display(Image(url=figure_url))\n",
    "    print(figure_title)\n",
    "    print(\"\")\n",
    "    print(\"\")\n",
    "    print(\"\")\n"
   ]
  },
  {
   "cell_type": "code",
   "execution_count": null,
   "metadata": {
    "id": "XaQvH-tQ1Zt0"
   },
   "outputs": [],
   "source": []
  }
 ],
 "metadata": {
  "colab": {
   "authorship_tag": "ABX9TyMGBEO4WsI+qAnctC5k3yPk",
   "include_colab_link": true,
   "name": "bte_with_pfocr_cooccurrence.ipynb",
   "provenance": []
  },
  "kernelspec": {
   "display_name": "Python 3 (ipykernel)",
   "language": "python",
   "name": "python3"
  },
  "language_info": {
   "codemirror_mode": {
    "name": "ipython",
    "version": 3
   },
   "file_extension": ".py",
   "mimetype": "text/x-python",
   "name": "python",
   "nbconvert_exporter": "python",
   "pygments_lexer": "ipython3",
   "version": "3.10.4"
  }
 },
 "nbformat": 4,
 "nbformat_minor": 4
}
