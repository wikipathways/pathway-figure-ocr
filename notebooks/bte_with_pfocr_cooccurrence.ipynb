{
  "nbformat": 4,
  "nbformat_minor": 0,
  "metadata": {
    "colab": {
      "name": "bte_with_pfocr_cooccurrence.ipynb",
      "provenance": [],
      "authorship_tag": "ABX9TyMGBEO4WsI+qAnctC5k3yPk",
      "include_colab_link": true
    },
    "kernelspec": {
      "name": "python3",
      "display_name": "Python 3"
    },
    "language_info": {
      "name": "python"
    }
  },
  "cells": [
    {
      "cell_type": "markdown",
      "metadata": {
        "id": "view-in-github",
        "colab_type": "text"
      },
      "source": [
        "<a href=\"https://colab.research.google.com/github/wikipathways/pathway-figure-ocr/blob/master/notebooks/bte_with_pfocr_cooccurrence.ipynb\" target=\"_parent\"><img src=\"https://colab.research.google.com/assets/colab-badge.svg\" alt=\"Open In Colab\"/></a>"
      ]
    },
    {
      "cell_type": "code",
      "execution_count": 49,
      "metadata": {
        "colab": {
          "base_uri": "https://localhost:8080/"
        },
        "id": "UZZqPBS0UppM",
        "outputId": "9996ad71-f8fb-4c1f-bc40-430ede6b5de3"
      },
      "outputs": [
        {
          "output_type": "stream",
          "name": "stdout",
          "text": [
            "Looking in indexes: https://pypi.org/simple, https://us-python.pkg.dev/colab-wheels/public/simple/\n",
            "Requirement already satisfied: numpy in /usr/local/lib/python3.7/dist-packages (1.21.6)\n",
            "Requirement already satisfied: pandas in /usr/local/lib/python3.7/dist-packages (1.3.5)\n",
            "Requirement already satisfied: requests in /usr/local/lib/python3.7/dist-packages (2.23.0)\n",
            "Requirement already satisfied: requests_cache in /usr/local/lib/python3.7/dist-packages (0.9.4)\n",
            "Requirement already satisfied: SetSimilaritySearch in /usr/local/lib/python3.7/dist-packages (0.1.7)\n",
            "Requirement already satisfied: python-dateutil>=2.7.3 in /usr/local/lib/python3.7/dist-packages (from pandas) (2.8.2)\n",
            "Requirement already satisfied: pytz>=2017.3 in /usr/local/lib/python3.7/dist-packages (from pandas) (2022.1)\n",
            "Requirement already satisfied: six>=1.5 in /usr/local/lib/python3.7/dist-packages (from python-dateutil>=2.7.3->pandas) (1.15.0)\n",
            "Requirement already satisfied: certifi>=2017.4.17 in /usr/local/lib/python3.7/dist-packages (from requests) (2022.5.18.1)\n",
            "Requirement already satisfied: urllib3!=1.25.0,!=1.25.1,<1.26,>=1.21.1 in /usr/local/lib/python3.7/dist-packages (from requests) (1.25.11)\n",
            "Requirement already satisfied: chardet<4,>=3.0.2 in /usr/local/lib/python3.7/dist-packages (from requests) (3.0.4)\n",
            "Requirement already satisfied: idna<3,>=2.5 in /usr/local/lib/python3.7/dist-packages (from requests) (2.10)\n",
            "Requirement already satisfied: appdirs<2.0.0,>=1.4.4 in /usr/local/lib/python3.7/dist-packages (from requests_cache) (1.4.4)\n",
            "Requirement already satisfied: attrs<22.0,>=21.2 in /usr/local/lib/python3.7/dist-packages (from requests_cache) (21.4.0)\n",
            "Requirement already satisfied: url-normalize<2.0,>=1.4 in /usr/local/lib/python3.7/dist-packages (from requests_cache) (1.4.3)\n",
            "Requirement already satisfied: cattrs<2.0,>=1.8 in /usr/local/lib/python3.7/dist-packages (from requests_cache) (1.10.0)\n",
            "Requirement already satisfied: typing_extensions in /usr/local/lib/python3.7/dist-packages (from cattrs<2.0,>=1.8->requests_cache) (4.2.0)\n"
          ]
        }
      ],
      "source": [
        "!pip install numpy pandas requests requests_cache SetSimilaritySearch"
      ]
    },
    {
      "cell_type": "code",
      "source": [
        "from copy import copy, deepcopy\n",
        "import json"
      ],
      "metadata": {
        "id": "uG7JfetZjcXH"
      },
      "execution_count": 100,
      "outputs": []
    },
    {
      "cell_type": "markdown",
      "source": [
        "# BTE with PFOCR Coocurrence\n",
        "\n",
        "I modified a query from the 3/17 Question of the Month to find relationships like this:\n",
        "\n",
        "`1 of 3 selected genes` -> `any gene` -> `Valproic Acid`"
      ],
      "metadata": {
        "id": "j9DiSC9NU_Fa"
      }
    },
    {
      "cell_type": "code",
      "source": [
        "import requests\n",
        "import requests_cache\n",
        "\n",
        "\n",
        "requests_cache.install_cache(\"pfocr_cache\")"
      ],
      "metadata": {
        "id": "rzoUUSDeVz0a"
      },
      "execution_count": 51,
      "outputs": []
    },
    {
      "cell_type": "markdown",
      "source": [
        "## Get BTE Results"
      ],
      "metadata": {
        "id": "TxW41muraAFL"
      }
    },
    {
      "cell_type": "code",
      "source": [
        "query = {\n",
        "    \"message\": {\n",
        "        \"query_graph\": {\n",
        "            \"edges\": {\n",
        "                \"e01\": {\n",
        "                    \"constraints\": [],\n",
        "                    \"object\": \"n0\",\n",
        "                    \"predicates\": [\"biolink:related_to\"],\n",
        "                    \"subject\": \"n1\",\n",
        "                },\n",
        "                \"e02\": {\n",
        "                    \"constraints\": [],\n",
        "                    \"object\": \"n1\",\n",
        "                    \"predicates\": [\"biolink:related_to\"],\n",
        "                    \"subject\": \"n2\",\n",
        "                },\n",
        "            },\n",
        "            \"nodes\": {\n",
        "                \"n0\": {\n",
        "                    \"categories\": [\"biolink:Gene\"],\n",
        "                    \"constraints\": [],\n",
        "                    \"ids\": [\"NCBIGene:3855\", \"NCBIGene:211\", \"NCBIGene:26995\"],\n",
        "                    \"is_set\": False,\n",
        "                },\n",
        "                \"n1\": {\n",
        "                    \"categories\": [\"biolink:Gene\"],\n",
        "                    \"constraints\": [],\n",
        "                    \"is_set\": False,\n",
        "                },\n",
        "                \"n2\": {\n",
        "                    \"categories\": [\"biolink:SmallMolecule\"],\n",
        "                    \"constraints\": [],\n",
        "                    \"ids\": [\"PUBCHEM.COMPOUND:3121\"],\n",
        "                    \"is_set\": False,\n",
        "                },\n",
        "            },\n",
        "        }\n",
        "    }\n",
        "}\n",
        "\n",
        "bte_r = requests.post(\"https://api.bte.ncats.io/v1/query\", json=query)\n",
        "print(bte_r.status_code)\n",
        "if bte_r.status_code != 200:\n",
        "    print(bte_r.text)"
      ],
      "metadata": {
        "colab": {
          "base_uri": "https://localhost:8080/"
        },
        "id": "N71NYHWeVCj9",
        "outputId": "841a8dfb-1aa4-4f60-ba43-88989b390541"
      },
      "execution_count": 52,
      "outputs": [
        {
          "output_type": "stream",
          "name": "stdout",
          "text": [
            "200\n"
          ]
        }
      ]
    },
    {
      "cell_type": "code",
      "source": [
        "gene_q_node_ids = []\n",
        "for q_node_id, v in query[\"message\"][\"query_graph\"][\"nodes\"].items():\n",
        "    if \"biolink:Gene\" in v[\"categories\"]:\n",
        "        gene_q_node_ids.append(q_node_id)\n",
        "print(gene_q_node_ids)"
      ],
      "metadata": {
        "colab": {
          "base_uri": "https://localhost:8080/"
        },
        "id": "KwyR8hcDZFUo",
        "outputId": "6b734567-d04a-4f63-d066-e408143e983d"
      },
      "execution_count": 53,
      "outputs": [
        {
          "output_type": "stream",
          "name": "stdout",
          "text": [
            "['n0', 'n1']\n"
          ]
        }
      ]
    },
    {
      "cell_type": "code",
      "source": [
        "bte_message = bte_r.json()[\"message\"]\n",
        "bte_results = bte_message[\"results\"]\n",
        "genes_to_bte_results = dict()\n",
        "for bte_result in bte_results:\n",
        "    bte_result_genes = []\n",
        "    for gene_q_node_id in gene_q_node_ids:\n",
        "        for entry in bte_result[\"node_bindings\"][gene_q_node_id]:\n",
        "            id = entry[\"id\"]\n",
        "            target_prefix = \"NCBIGene:\"\n",
        "            if id.startswith(target_prefix):\n",
        "                bte_result_genes.append(\"NCBIGene:\" + entry[\"id\"][len(target_prefix):])\n",
        "    genes_key = tuple(sorted(bte_result_genes))\n",
        "    if not genes_key in genes_to_bte_results:\n",
        "        genes_to_bte_results[genes_key] = []\n",
        "    genes_to_bte_results[genes_key].append(bte_result)"
      ],
      "metadata": {
        "id": "Wjqcf5E4Yk_h"
      },
      "execution_count": 54,
      "outputs": []
    },
    {
      "cell_type": "markdown",
      "source": [
        "## Get PFOCR Data\n",
        "\n",
        "Download the entire JSON file we gave to BTE."
      ],
      "metadata": {
        "id": "1GQojZqc0QDf"
      }
    },
    {
      "cell_type": "code",
      "source": [
        "pfocr_url = \"https://www.dropbox.com/s/1f14t5zaseocyg6/bte_chemicals_diseases_genes.ndjson?dl=1\"\n",
        "pfocr_request = requests.get(pfocr_url)\n",
        "print(f\"status_code: {pfocr_request.status_code}\")\n",
        "if pfocr_request.status_code != 200:\n",
        "    print(pfocr_request.text)\n",
        "\n",
        "genes_to_figids = {}\n",
        "figid_to_genes = {}\n",
        "figid_to_pfocr_result = {}\n",
        "for line in pfocr_request.text.splitlines():\n",
        "    pfocr_result = json.loads(line)\n",
        "    figid = pfocr_result[\"_id\"]\n",
        "    genes = set(\n",
        "            [\"NCBIGene:\" + g for g in pfocr_result[\"associatedWith\"][\"mentions\"][\"genes\"][\"ncbigene\"]]\n",
        "            )\n",
        "    figid_to_pfocr_result[figid] = pfocr_result\n",
        "    figid_to_genes[figid] = genes\n",
        "\n",
        "    genes_key = tuple(sorted(genes))\n",
        "    if not genes_key in genes_to_figids:\n",
        "        genes_to_figids[genes_key] = []\n",
        "    genes_to_figids[genes_key].append(figid)"
      ],
      "metadata": {
        "colab": {
          "base_uri": "https://localhost:8080/"
        },
        "id": "OyJJUHbepKp2",
        "outputId": "7434741f-5f0d-4396-9e83-fa8a2555f34e"
      },
      "execution_count": 55,
      "outputs": [
        {
          "output_type": "stream",
          "name": "stdout",
          "text": [
            "status_code: 200\n"
          ]
        }
      ]
    },
    {
      "cell_type": "markdown",
      "source": [
        "## Connect BTE Results & PFOCR"
      ],
      "metadata": {
        "id": "uCW1x4PxnjYJ"
      }
    },
    {
      "cell_type": "markdown",
      "source": [
        "### Compare Algo Performance\n",
        "\n",
        "The following three algorithms all match up the BTE gene sets with the PFOCR sets, but they have different performances:\n",
        "- Brute Force: 47s\n",
        "- Check All BTE Results Genes Set: 5s\n",
        "- SetSimilaritySearch: 2s"
      ],
      "metadata": {
        "id": "hTrLMM_QxONz"
      }
    },
    {
      "cell_type": "markdown",
      "source": [
        "#### Brute Force"
      ],
      "metadata": {
        "id": "ypA0HIzSxfnH"
      }
    },
    {
      "cell_type": "code",
      "source": [
        "all_figure_genes_keys = genes_to_figids.keys()\n",
        "bf_overlaps_2_plus = set()\n",
        "for bte_result_genes_key in genes_to_bte_results.keys():\n",
        "    bte_result_genes = set(bte_result_genes_key)\n",
        "    for figure_genes_keys in all_figure_genes_keys:\n",
        "        figure_genes = set(figure_genes_keys)\n",
        "        if len(bte_result_genes.intersection(figure_genes)) >= 2:\n",
        "            bf_overlaps_2_plus.add((bte_result_genes_key, figure_genes_keys))\n",
        "print(len(bf_overlaps_2_plus))"
      ],
      "metadata": {
        "colab": {
          "base_uri": "https://localhost:8080/"
        },
        "id": "InJU5egur5PI",
        "outputId": "ff2f3640-aab2-4ece-fb3d-85bd0c073af8"
      },
      "execution_count": 56,
      "outputs": [
        {
          "output_type": "stream",
          "name": "stdout",
          "text": [
            "164\n"
          ]
        }
      ]
    },
    {
      "cell_type": "markdown",
      "source": [
        "#### Check All BTE Results Genes Set\n",
        "Check whether the figure gene set overlaps with `size >=2` the set made up of all BTE results genes. Note this performance may be worse if the BTE result count is larger."
      ],
      "metadata": {
        "id": "bXbZKX-9xj2P"
      }
    },
    {
      "cell_type": "code",
      "source": [
        "all_bte_result_genes_keys = genes_to_bte_results.keys()\n",
        "all_bte_result_genes = set([]).union(\n",
        "    *[set(bte_result_genes_key) for bte_result_genes_key in all_bte_result_genes_keys]\n",
        ")\n",
        "bf_overlaps_2_plus = set()\n",
        "\n",
        "for figure_genes_keys in genes_to_figids.keys():\n",
        "    figure_genes = set(figure_genes_keys)\n",
        "    if len(figure_genes.intersection(all_bte_result_genes)) >= 2:\n",
        "        for bte_result_genes_key in all_bte_result_genes_keys:\n",
        "            bte_result_genes = set(bte_result_genes_key)\n",
        "            if len(bte_result_genes.intersection(figure_genes)) >= 2:\n",
        "                bf_overlaps_2_plus.add((bte_result_genes_key, figure_genes_keys))\n",
        "\n",
        "print(len(bf_overlaps_2_plus))"
      ],
      "metadata": {
        "colab": {
          "base_uri": "https://localhost:8080/"
        },
        "id": "IORU-9sQtAKt",
        "outputId": "82809f77-a623-444f-f37b-ca2131249db8"
      },
      "execution_count": 57,
      "outputs": [
        {
          "output_type": "stream",
          "name": "stdout",
          "text": [
            "164\n"
          ]
        }
      ]
    },
    {
      "cell_type": "markdown",
      "source": [
        "#### SetSimilaritySearch\n",
        "\n",
        "This algorithm is sometimes too permissive, making the overlap check needed, but even so, it's faster and gets the same results once we apply the overlap check."
      ],
      "metadata": {
        "id": "jXFbvMrTx8sS"
      }
    },
    {
      "cell_type": "code",
      "source": [
        "from SetSimilaritySearch import SearchIndex\n",
        "\n",
        "pfocr_gene_sets = list(genes_to_figids.keys())\n",
        "index = SearchIndex(pfocr_gene_sets, similarity_func_name=\"containment\", \n",
        "    similarity_threshold=0.8)\n",
        "\n",
        "sss_overlaps_2_plus = set()\n",
        "for bte_result_genes_key in genes_to_bte_results.keys():\n",
        "    bte_result_genes = set(bte_result_genes_key)\n",
        "    results = index.query(bte_result_genes)\n",
        "    for result in results:\n",
        "        figure_genes = pfocr_gene_sets[result[0]]\n",
        "        if len(bte_result_genes.intersection(figure_genes)) >= 2:\n",
        "            sss_overlaps_2_plus.add((bte_result_genes_key, tuple(sorted(figure_genes))))\n",
        "print(len(sss_overlaps_2_plus))"
      ],
      "metadata": {
        "colab": {
          "base_uri": "https://localhost:8080/"
        },
        "id": "gWWRq_rdq2vC",
        "outputId": "0c97fb02-5c60-45aa-add1-c20145c21daa"
      },
      "execution_count": 58,
      "outputs": [
        {
          "output_type": "stream",
          "name": "stdout",
          "text": [
            "164\n"
          ]
        }
      ]
    },
    {
      "cell_type": "markdown",
      "source": [
        "### Choose and Apply SetSimilaritySearch\n",
        "\n",
        "SetSimilaritySearch was fastest, so let's choose it and use it to augment the BTE results."
      ],
      "metadata": {
        "id": "2EzVeKVcn_2L"
      }
    },
    {
      "cell_type": "code",
      "source": [
        "from SetSimilaritySearch import SearchIndex\n",
        "\n",
        "pfocr_gene_sets = list(genes_to_figids.keys())\n",
        "index = SearchIndex(pfocr_gene_sets, similarity_func_name=\"containment\", \n",
        "    similarity_threshold=0.8)\n",
        "\n",
        "overlaps_2_plus_count = 0\n",
        "for bte_result_genes_key, genes_bte_results in genes_to_bte_results.items():\n",
        "    bte_result_genes = set(bte_result_genes_key)\n",
        "    results = index.query(bte_result_genes)\n",
        "    #if results:\n",
        "    #    print(\"------\")\n",
        "    #    print(f'bte_result_genes: {bte_result_genes}')\n",
        "    for result in results:\n",
        "        figure_genes = pfocr_gene_sets[result[0]]\n",
        "        score = result[1]\n",
        "        figids = genes_to_figids[tuple(sorted(figure_genes))]\n",
        "        #print(f'{figids} ({score}) - {figure_genes}')\n",
        "        common = bte_result_genes.intersection(figure_genes)\n",
        "        #print(f'intersection: {common}')\n",
        "        if len(common) >= 2:\n",
        "            for figid in figids:\n",
        "                overlaps_2_plus_count += 1\n",
        "                pfocr_result = figid_to_pfocr_result[figid]\n",
        "                #print(\"--------\")\n",
        "                #print(f'{figid} - {figure_genes}')\n",
        "                for bte_result in genes_bte_results:\n",
        "                    #print(f'bte_result: {sorted(bte_result_genes)}')\n",
        "                    #print(f'common: {bte_result_genes.intersection(figure_genes)}')\n",
        "                    nodes = set()\n",
        "                    for q_node_id, values in bte_result[\"node_bindings\"].items():\n",
        "                        for value in values:\n",
        "                            id = value[\"id\"]\n",
        "                            if id in figure_genes:\n",
        "                                nodes.add(q_node_id)\n",
        "                    if not \"pfocr\" in bte_result:\n",
        "                        bte_result[\"pfocr\"] = []\n",
        "                    pfocr_entry = copy(pfocr_result)\n",
        "                    pfocr_entry[\"nodes\"] = sorted(nodes)\n",
        "                    pfocr_entry[\"score\"] = score\n",
        "                    bte_result[\"pfocr\"].append(pfocr_entry)\n",
        "print(len(overlaps_2_plus_count))"
      ],
      "metadata": {
        "colab": {
          "base_uri": "https://localhost:8080/"
        },
        "id": "aZX7IzakKCnH",
        "outputId": "dabcdf7a-f7d1-4f7a-821a-b21d19ce5a13"
      },
      "execution_count": 59,
      "outputs": [
        {
          "output_type": "stream",
          "name": "stdout",
          "text": [
            "172\n"
          ]
        }
      ]
    },
    {
      "cell_type": "code",
      "source": [
        "import pandas as pd\n",
        "\n",
        "\n",
        "kg_nodes = bte_message[\"knowledge_graph\"][\"nodes\"]\n",
        "\n",
        "bte_rows = []\n",
        "for bte_result in bte_results:\n",
        "    bte_row_template = {}\n",
        "    for q_node_id, value in bte_result[\"node_bindings\"].items():\n",
        "        node_labels = []\n",
        "        for v in value:\n",
        "            id = v[\"id\"]\n",
        "            name = kg_nodes[id][\"name\"]\n",
        "            #node_labels.append(f'{name} ({id})')\n",
        "            node_labels.append(name)\n",
        "        bte_row_template[q_node_id] = \",\".join(node_labels)\n",
        "        # just taking the first one for now\n",
        "        bte_row_template[q_node_id + \"_identifier\"] = value[0][\"id\"]\n",
        "\n",
        "    bte_row_template[\"score\"] = bte_result[\"score\"]\n",
        "    \n",
        "    if \"pfocr\" in bte_result:\n",
        "        for pfocr_result in bte_result[\"pfocr\"]:\n",
        "            bte_row = deepcopy(bte_row_template)\n",
        "            bte_row[\"figure_title\"] = pfocr_result[\"associatedWith\"][\"title\"]\n",
        "            bte_row[\"figid\"] = pfocr_result[\"_id\"]\n",
        "            bte_row[\"figure_url\"] = pfocr_result[\"associatedWith\"][\"figureUrl\"]\n",
        "            bte_row[\"pfocr_score\"] = pfocr_result[\"score\"]\n",
        "            bte_rows.append(bte_row)\n",
        "    else:\n",
        "        bte_rows.append(bte_row_template)\n",
        "    \n",
        "bte_df = pd.DataFrame(bte_rows)\n",
        "bte_df"
      ],
      "metadata": {
        "colab": {
          "base_uri": "https://localhost:8080/",
          "height": 904
        },
        "id": "XdofZ-R62QM9",
        "outputId": "d70a6c5a-b9c2-4958-a14d-aa38a0aec294"
      },
      "execution_count": 118,
      "outputs": [
        {
          "output_type": "execute_result",
          "data": {
            "text/plain": [
              "                n2          n2_identifier       n1   n1_identifier     n0  \\\n",
              "0    Valproic acid  PUBCHEM.COMPOUND:3121    HMOX1   NCBIGene:3162  ALAS1   \n",
              "1    Valproic acid  PUBCHEM.COMPOUND:3121    HMOX1   NCBIGene:3162  ALAS1   \n",
              "2    Valproic acid  PUBCHEM.COMPOUND:3121    HMOX1   NCBIGene:3162  ALAS1   \n",
              "3    Valproic acid  PUBCHEM.COMPOUND:3121   ATP5MG  NCBIGene:10632  TRUB2   \n",
              "4    Valproic acid  PUBCHEM.COMPOUND:3121     ATF2   NCBIGene:1386   KRT7   \n",
              "..             ...                    ...      ...             ...    ...   \n",
              "454  Valproic acid  PUBCHEM.COMPOUND:3121  SLC7A11  NCBIGene:23657  ALAS1   \n",
              "455  Valproic acid  PUBCHEM.COMPOUND:3121    HPRT1   NCBIGene:3251  ALAS1   \n",
              "456  Valproic acid  PUBCHEM.COMPOUND:3121     CFTR   NCBIGene:1080   KRT7   \n",
              "457  Valproic acid  PUBCHEM.COMPOUND:3121    LAMP2   NCBIGene:3920  TRUB2   \n",
              "458  Valproic acid  PUBCHEM.COMPOUND:3121    FABP2   NCBIGene:2169  ALAS1   \n",
              "\n",
              "      n0_identifier  score                                       figure_title  \\\n",
              "0      NCBIGene:211      0  Activated Oncogenic Pathway Modifies Iron Netw...   \n",
              "1      NCBIGene:211      0  The heme biosynthetic pathway and aspects of i...   \n",
              "2      NCBIGene:211      0  Pathogenesis and Clinical Features of the Acut...   \n",
              "3    NCBIGene:26995      0                                                NaN   \n",
              "4     NCBIGene:3855      0  Transcriptional landscape of mouse-aged ovarie...   \n",
              "..              ...    ...                                                ...   \n",
              "454    NCBIGene:211      0                                                NaN   \n",
              "455    NCBIGene:211      0  Metabolic pathway differences between LLO118 a...   \n",
              "456   NCBIGene:3855      0          Network of pancreatic cancer-target genes   \n",
              "457  NCBIGene:26995      0                                                NaN   \n",
              "458    NCBIGene:211      0                                                NaN   \n",
              "\n",
              "                                         figid  \\\n",
              "0            PMC5293201__pcbi.1005352.g001.jpg   \n",
              "1    PMC4279155__metabolites-04-00977-g001.jpg   \n",
              "2          PMC6754303__nihms-1526961-f0002.jpg   \n",
              "3                                          NaN   \n",
              "4     PMC6281605__41420_2018_121_Fig2_HTML.jpg   \n",
              "..                                         ...   \n",
              "454                                        NaN   \n",
              "455        PMC7500861__nihms-1628382-f0005.jpg   \n",
              "456          PMC6826333__or-42-06-2561-g01.jpg   \n",
              "457                                        NaN   \n",
              "458                                        NaN   \n",
              "\n",
              "                                            figure_url  pfocr_score  \n",
              "0    https://www.ncbi.nlm.nih.gov/pmc/articles/PMC5...          1.0  \n",
              "1    https://www.ncbi.nlm.nih.gov/pmc/articles/PMC4...          1.0  \n",
              "2    https://www.ncbi.nlm.nih.gov/pmc/articles/PMC6...          1.0  \n",
              "3                                                  NaN          NaN  \n",
              "4    https://www.ncbi.nlm.nih.gov/pmc/articles/PMC6...          1.0  \n",
              "..                                                 ...          ...  \n",
              "454                                                NaN          NaN  \n",
              "455  https://www.ncbi.nlm.nih.gov/pmc/articles/PMC7...          1.0  \n",
              "456  https://www.ncbi.nlm.nih.gov/pmc/articles/PMC6...          1.0  \n",
              "457                                                NaN          NaN  \n",
              "458                                                NaN          NaN  \n",
              "\n",
              "[459 rows x 11 columns]"
            ],
            "text/html": [
              "\n",
              "  <div id=\"df-e5cc9a69-9791-432a-82b2-c247fd9dcd29\">\n",
              "    <div class=\"colab-df-container\">\n",
              "      <div>\n",
              "<style scoped>\n",
              "    .dataframe tbody tr th:only-of-type {\n",
              "        vertical-align: middle;\n",
              "    }\n",
              "\n",
              "    .dataframe tbody tr th {\n",
              "        vertical-align: top;\n",
              "    }\n",
              "\n",
              "    .dataframe thead th {\n",
              "        text-align: right;\n",
              "    }\n",
              "</style>\n",
              "<table border=\"1\" class=\"dataframe\">\n",
              "  <thead>\n",
              "    <tr style=\"text-align: right;\">\n",
              "      <th></th>\n",
              "      <th>n2</th>\n",
              "      <th>n2_identifier</th>\n",
              "      <th>n1</th>\n",
              "      <th>n1_identifier</th>\n",
              "      <th>n0</th>\n",
              "      <th>n0_identifier</th>\n",
              "      <th>score</th>\n",
              "      <th>figure_title</th>\n",
              "      <th>figid</th>\n",
              "      <th>figure_url</th>\n",
              "      <th>pfocr_score</th>\n",
              "    </tr>\n",
              "  </thead>\n",
              "  <tbody>\n",
              "    <tr>\n",
              "      <th>0</th>\n",
              "      <td>Valproic acid</td>\n",
              "      <td>PUBCHEM.COMPOUND:3121</td>\n",
              "      <td>HMOX1</td>\n",
              "      <td>NCBIGene:3162</td>\n",
              "      <td>ALAS1</td>\n",
              "      <td>NCBIGene:211</td>\n",
              "      <td>0</td>\n",
              "      <td>Activated Oncogenic Pathway Modifies Iron Netw...</td>\n",
              "      <td>PMC5293201__pcbi.1005352.g001.jpg</td>\n",
              "      <td>https://www.ncbi.nlm.nih.gov/pmc/articles/PMC5...</td>\n",
              "      <td>1.0</td>\n",
              "    </tr>\n",
              "    <tr>\n",
              "      <th>1</th>\n",
              "      <td>Valproic acid</td>\n",
              "      <td>PUBCHEM.COMPOUND:3121</td>\n",
              "      <td>HMOX1</td>\n",
              "      <td>NCBIGene:3162</td>\n",
              "      <td>ALAS1</td>\n",
              "      <td>NCBIGene:211</td>\n",
              "      <td>0</td>\n",
              "      <td>The heme biosynthetic pathway and aspects of i...</td>\n",
              "      <td>PMC4279155__metabolites-04-00977-g001.jpg</td>\n",
              "      <td>https://www.ncbi.nlm.nih.gov/pmc/articles/PMC4...</td>\n",
              "      <td>1.0</td>\n",
              "    </tr>\n",
              "    <tr>\n",
              "      <th>2</th>\n",
              "      <td>Valproic acid</td>\n",
              "      <td>PUBCHEM.COMPOUND:3121</td>\n",
              "      <td>HMOX1</td>\n",
              "      <td>NCBIGene:3162</td>\n",
              "      <td>ALAS1</td>\n",
              "      <td>NCBIGene:211</td>\n",
              "      <td>0</td>\n",
              "      <td>Pathogenesis and Clinical Features of the Acut...</td>\n",
              "      <td>PMC6754303__nihms-1526961-f0002.jpg</td>\n",
              "      <td>https://www.ncbi.nlm.nih.gov/pmc/articles/PMC6...</td>\n",
              "      <td>1.0</td>\n",
              "    </tr>\n",
              "    <tr>\n",
              "      <th>3</th>\n",
              "      <td>Valproic acid</td>\n",
              "      <td>PUBCHEM.COMPOUND:3121</td>\n",
              "      <td>ATP5MG</td>\n",
              "      <td>NCBIGene:10632</td>\n",
              "      <td>TRUB2</td>\n",
              "      <td>NCBIGene:26995</td>\n",
              "      <td>0</td>\n",
              "      <td>NaN</td>\n",
              "      <td>NaN</td>\n",
              "      <td>NaN</td>\n",
              "      <td>NaN</td>\n",
              "    </tr>\n",
              "    <tr>\n",
              "      <th>4</th>\n",
              "      <td>Valproic acid</td>\n",
              "      <td>PUBCHEM.COMPOUND:3121</td>\n",
              "      <td>ATF2</td>\n",
              "      <td>NCBIGene:1386</td>\n",
              "      <td>KRT7</td>\n",
              "      <td>NCBIGene:3855</td>\n",
              "      <td>0</td>\n",
              "      <td>Transcriptional landscape of mouse-aged ovarie...</td>\n",
              "      <td>PMC6281605__41420_2018_121_Fig2_HTML.jpg</td>\n",
              "      <td>https://www.ncbi.nlm.nih.gov/pmc/articles/PMC6...</td>\n",
              "      <td>1.0</td>\n",
              "    </tr>\n",
              "    <tr>\n",
              "      <th>...</th>\n",
              "      <td>...</td>\n",
              "      <td>...</td>\n",
              "      <td>...</td>\n",
              "      <td>...</td>\n",
              "      <td>...</td>\n",
              "      <td>...</td>\n",
              "      <td>...</td>\n",
              "      <td>...</td>\n",
              "      <td>...</td>\n",
              "      <td>...</td>\n",
              "      <td>...</td>\n",
              "    </tr>\n",
              "    <tr>\n",
              "      <th>454</th>\n",
              "      <td>Valproic acid</td>\n",
              "      <td>PUBCHEM.COMPOUND:3121</td>\n",
              "      <td>SLC7A11</td>\n",
              "      <td>NCBIGene:23657</td>\n",
              "      <td>ALAS1</td>\n",
              "      <td>NCBIGene:211</td>\n",
              "      <td>0</td>\n",
              "      <td>NaN</td>\n",
              "      <td>NaN</td>\n",
              "      <td>NaN</td>\n",
              "      <td>NaN</td>\n",
              "    </tr>\n",
              "    <tr>\n",
              "      <th>455</th>\n",
              "      <td>Valproic acid</td>\n",
              "      <td>PUBCHEM.COMPOUND:3121</td>\n",
              "      <td>HPRT1</td>\n",
              "      <td>NCBIGene:3251</td>\n",
              "      <td>ALAS1</td>\n",
              "      <td>NCBIGene:211</td>\n",
              "      <td>0</td>\n",
              "      <td>Metabolic pathway differences between LLO118 a...</td>\n",
              "      <td>PMC7500861__nihms-1628382-f0005.jpg</td>\n",
              "      <td>https://www.ncbi.nlm.nih.gov/pmc/articles/PMC7...</td>\n",
              "      <td>1.0</td>\n",
              "    </tr>\n",
              "    <tr>\n",
              "      <th>456</th>\n",
              "      <td>Valproic acid</td>\n",
              "      <td>PUBCHEM.COMPOUND:3121</td>\n",
              "      <td>CFTR</td>\n",
              "      <td>NCBIGene:1080</td>\n",
              "      <td>KRT7</td>\n",
              "      <td>NCBIGene:3855</td>\n",
              "      <td>0</td>\n",
              "      <td>Network of pancreatic cancer-target genes</td>\n",
              "      <td>PMC6826333__or-42-06-2561-g01.jpg</td>\n",
              "      <td>https://www.ncbi.nlm.nih.gov/pmc/articles/PMC6...</td>\n",
              "      <td>1.0</td>\n",
              "    </tr>\n",
              "    <tr>\n",
              "      <th>457</th>\n",
              "      <td>Valproic acid</td>\n",
              "      <td>PUBCHEM.COMPOUND:3121</td>\n",
              "      <td>LAMP2</td>\n",
              "      <td>NCBIGene:3920</td>\n",
              "      <td>TRUB2</td>\n",
              "      <td>NCBIGene:26995</td>\n",
              "      <td>0</td>\n",
              "      <td>NaN</td>\n",
              "      <td>NaN</td>\n",
              "      <td>NaN</td>\n",
              "      <td>NaN</td>\n",
              "    </tr>\n",
              "    <tr>\n",
              "      <th>458</th>\n",
              "      <td>Valproic acid</td>\n",
              "      <td>PUBCHEM.COMPOUND:3121</td>\n",
              "      <td>FABP2</td>\n",
              "      <td>NCBIGene:2169</td>\n",
              "      <td>ALAS1</td>\n",
              "      <td>NCBIGene:211</td>\n",
              "      <td>0</td>\n",
              "      <td>NaN</td>\n",
              "      <td>NaN</td>\n",
              "      <td>NaN</td>\n",
              "      <td>NaN</td>\n",
              "    </tr>\n",
              "  </tbody>\n",
              "</table>\n",
              "<p>459 rows × 11 columns</p>\n",
              "</div>\n",
              "      <button class=\"colab-df-convert\" onclick=\"convertToInteractive('df-e5cc9a69-9791-432a-82b2-c247fd9dcd29')\"\n",
              "              title=\"Convert this dataframe to an interactive table.\"\n",
              "              style=\"display:none;\">\n",
              "        \n",
              "  <svg xmlns=\"http://www.w3.org/2000/svg\" height=\"24px\"viewBox=\"0 0 24 24\"\n",
              "       width=\"24px\">\n",
              "    <path d=\"M0 0h24v24H0V0z\" fill=\"none\"/>\n",
              "    <path d=\"M18.56 5.44l.94 2.06.94-2.06 2.06-.94-2.06-.94-.94-2.06-.94 2.06-2.06.94zm-11 1L8.5 8.5l.94-2.06 2.06-.94-2.06-.94L8.5 2.5l-.94 2.06-2.06.94zm10 10l.94 2.06.94-2.06 2.06-.94-2.06-.94-.94-2.06-.94 2.06-2.06.94z\"/><path d=\"M17.41 7.96l-1.37-1.37c-.4-.4-.92-.59-1.43-.59-.52 0-1.04.2-1.43.59L10.3 9.45l-7.72 7.72c-.78.78-.78 2.05 0 2.83L4 21.41c.39.39.9.59 1.41.59.51 0 1.02-.2 1.41-.59l7.78-7.78 2.81-2.81c.8-.78.8-2.07 0-2.86zM5.41 20L4 18.59l7.72-7.72 1.47 1.35L5.41 20z\"/>\n",
              "  </svg>\n",
              "      </button>\n",
              "      \n",
              "  <style>\n",
              "    .colab-df-container {\n",
              "      display:flex;\n",
              "      flex-wrap:wrap;\n",
              "      gap: 12px;\n",
              "    }\n",
              "\n",
              "    .colab-df-convert {\n",
              "      background-color: #E8F0FE;\n",
              "      border: none;\n",
              "      border-radius: 50%;\n",
              "      cursor: pointer;\n",
              "      display: none;\n",
              "      fill: #1967D2;\n",
              "      height: 32px;\n",
              "      padding: 0 0 0 0;\n",
              "      width: 32px;\n",
              "    }\n",
              "\n",
              "    .colab-df-convert:hover {\n",
              "      background-color: #E2EBFA;\n",
              "      box-shadow: 0px 1px 2px rgba(60, 64, 67, 0.3), 0px 1px 3px 1px rgba(60, 64, 67, 0.15);\n",
              "      fill: #174EA6;\n",
              "    }\n",
              "\n",
              "    [theme=dark] .colab-df-convert {\n",
              "      background-color: #3B4455;\n",
              "      fill: #D2E3FC;\n",
              "    }\n",
              "\n",
              "    [theme=dark] .colab-df-convert:hover {\n",
              "      background-color: #434B5C;\n",
              "      box-shadow: 0px 1px 3px 1px rgba(0, 0, 0, 0.15);\n",
              "      filter: drop-shadow(0px 1px 2px rgba(0, 0, 0, 0.3));\n",
              "      fill: #FFFFFF;\n",
              "    }\n",
              "  </style>\n",
              "\n",
              "      <script>\n",
              "        const buttonEl =\n",
              "          document.querySelector('#df-e5cc9a69-9791-432a-82b2-c247fd9dcd29 button.colab-df-convert');\n",
              "        buttonEl.style.display =\n",
              "          google.colab.kernel.accessAllowed ? 'block' : 'none';\n",
              "\n",
              "        async function convertToInteractive(key) {\n",
              "          const element = document.querySelector('#df-e5cc9a69-9791-432a-82b2-c247fd9dcd29');\n",
              "          const dataTable =\n",
              "            await google.colab.kernel.invokeFunction('convertToInteractive',\n",
              "                                                     [key], {});\n",
              "          if (!dataTable) return;\n",
              "\n",
              "          const docLinkHtml = 'Like what you see? Visit the ' +\n",
              "            '<a target=\"_blank\" href=https://colab.research.google.com/notebooks/data_table.ipynb>data table notebook</a>'\n",
              "            + ' to learn more about interactive tables.';\n",
              "          element.innerHTML = '';\n",
              "          dataTable['output_type'] = 'display_data';\n",
              "          await google.colab.output.renderOutput(dataTable, element);\n",
              "          const docLink = document.createElement('div');\n",
              "          docLink.innerHTML = docLinkHtml;\n",
              "          element.appendChild(docLink);\n",
              "        }\n",
              "      </script>\n",
              "    </div>\n",
              "  </div>\n",
              "  "
            ]
          },
          "metadata": {},
          "execution_count": 118
        }
      ]
    },
    {
      "cell_type": "markdown",
      "source": [
        "The following table is also [available as a Google Sheet](https://docs.google.com/spreadsheets/d/1yHBTxs6SghJGk-wQP7JbmpZ5Wbq6OY6Yz7PEtwd4j_w/edit?usp=sharing)."
      ],
      "metadata": {
        "id": "FYO4IO4HDGxm"
      }
    },
    {
      "cell_type": "code",
      "source": [
        "bte_df.rename(columns={\"figure_url\": \"figure_count\"}).groupby([\"n0\", \"n1\", \"n2\"])[[\"figure_count\"]].count().sort_values(\"figure_count\", ascending=False)"
      ],
      "metadata": {
        "colab": {
          "base_uri": "https://localhost:8080/",
          "height": 455
        },
        "id": "aWy5v2oEAXfH",
        "outputId": "71fc053d-4ca4-4ea5-9fe3-9b44d1c73fcb"
      },
      "execution_count": 120,
      "outputs": [
        {
          "output_type": "execute_result",
          "data": {
            "text/plain": [
              "                             figure_count\n",
              "n0    n1      n2                         \n",
              "ALAS1 ALAD    Valproic acid            34\n",
              "      UROS    Valproic acid            28\n",
              "      CPOX    Valproic acid            17\n",
              "KRT7  KRT19   Valproic acid             3\n",
              "      KRT8    Valproic acid             3\n",
              "...                                   ...\n",
              "ALAS1 TFPI2   Valproic acid             0\n",
              "      TBP     Valproic acid             0\n",
              "      TBL1XR1 Valproic acid             0\n",
              "      SUZ12   Valproic acid             0\n",
              "TRUB2 ZNF165  Valproic acid             0\n",
              "\n",
              "[356 rows x 1 columns]"
            ],
            "text/html": [
              "\n",
              "  <div id=\"df-a80e0a3a-d195-412f-bfc5-0516afe85929\">\n",
              "    <div class=\"colab-df-container\">\n",
              "      <div>\n",
              "<style scoped>\n",
              "    .dataframe tbody tr th:only-of-type {\n",
              "        vertical-align: middle;\n",
              "    }\n",
              "\n",
              "    .dataframe tbody tr th {\n",
              "        vertical-align: top;\n",
              "    }\n",
              "\n",
              "    .dataframe thead th {\n",
              "        text-align: right;\n",
              "    }\n",
              "</style>\n",
              "<table border=\"1\" class=\"dataframe\">\n",
              "  <thead>\n",
              "    <tr style=\"text-align: right;\">\n",
              "      <th></th>\n",
              "      <th></th>\n",
              "      <th></th>\n",
              "      <th>figure_count</th>\n",
              "    </tr>\n",
              "    <tr>\n",
              "      <th>n0</th>\n",
              "      <th>n1</th>\n",
              "      <th>n2</th>\n",
              "      <th></th>\n",
              "    </tr>\n",
              "  </thead>\n",
              "  <tbody>\n",
              "    <tr>\n",
              "      <th rowspan=\"3\" valign=\"top\">ALAS1</th>\n",
              "      <th>ALAD</th>\n",
              "      <th>Valproic acid</th>\n",
              "      <td>34</td>\n",
              "    </tr>\n",
              "    <tr>\n",
              "      <th>UROS</th>\n",
              "      <th>Valproic acid</th>\n",
              "      <td>28</td>\n",
              "    </tr>\n",
              "    <tr>\n",
              "      <th>CPOX</th>\n",
              "      <th>Valproic acid</th>\n",
              "      <td>17</td>\n",
              "    </tr>\n",
              "    <tr>\n",
              "      <th rowspan=\"2\" valign=\"top\">KRT7</th>\n",
              "      <th>KRT19</th>\n",
              "      <th>Valproic acid</th>\n",
              "      <td>3</td>\n",
              "    </tr>\n",
              "    <tr>\n",
              "      <th>KRT8</th>\n",
              "      <th>Valproic acid</th>\n",
              "      <td>3</td>\n",
              "    </tr>\n",
              "    <tr>\n",
              "      <th>...</th>\n",
              "      <th>...</th>\n",
              "      <th>...</th>\n",
              "      <td>...</td>\n",
              "    </tr>\n",
              "    <tr>\n",
              "      <th rowspan=\"4\" valign=\"top\">ALAS1</th>\n",
              "      <th>TFPI2</th>\n",
              "      <th>Valproic acid</th>\n",
              "      <td>0</td>\n",
              "    </tr>\n",
              "    <tr>\n",
              "      <th>TBP</th>\n",
              "      <th>Valproic acid</th>\n",
              "      <td>0</td>\n",
              "    </tr>\n",
              "    <tr>\n",
              "      <th>TBL1XR1</th>\n",
              "      <th>Valproic acid</th>\n",
              "      <td>0</td>\n",
              "    </tr>\n",
              "    <tr>\n",
              "      <th>SUZ12</th>\n",
              "      <th>Valproic acid</th>\n",
              "      <td>0</td>\n",
              "    </tr>\n",
              "    <tr>\n",
              "      <th>TRUB2</th>\n",
              "      <th>ZNF165</th>\n",
              "      <th>Valproic acid</th>\n",
              "      <td>0</td>\n",
              "    </tr>\n",
              "  </tbody>\n",
              "</table>\n",
              "<p>356 rows × 1 columns</p>\n",
              "</div>\n",
              "      <button class=\"colab-df-convert\" onclick=\"convertToInteractive('df-a80e0a3a-d195-412f-bfc5-0516afe85929')\"\n",
              "              title=\"Convert this dataframe to an interactive table.\"\n",
              "              style=\"display:none;\">\n",
              "        \n",
              "  <svg xmlns=\"http://www.w3.org/2000/svg\" height=\"24px\"viewBox=\"0 0 24 24\"\n",
              "       width=\"24px\">\n",
              "    <path d=\"M0 0h24v24H0V0z\" fill=\"none\"/>\n",
              "    <path d=\"M18.56 5.44l.94 2.06.94-2.06 2.06-.94-2.06-.94-.94-2.06-.94 2.06-2.06.94zm-11 1L8.5 8.5l.94-2.06 2.06-.94-2.06-.94L8.5 2.5l-.94 2.06-2.06.94zm10 10l.94 2.06.94-2.06 2.06-.94-2.06-.94-.94-2.06-.94 2.06-2.06.94z\"/><path d=\"M17.41 7.96l-1.37-1.37c-.4-.4-.92-.59-1.43-.59-.52 0-1.04.2-1.43.59L10.3 9.45l-7.72 7.72c-.78.78-.78 2.05 0 2.83L4 21.41c.39.39.9.59 1.41.59.51 0 1.02-.2 1.41-.59l7.78-7.78 2.81-2.81c.8-.78.8-2.07 0-2.86zM5.41 20L4 18.59l7.72-7.72 1.47 1.35L5.41 20z\"/>\n",
              "  </svg>\n",
              "      </button>\n",
              "      \n",
              "  <style>\n",
              "    .colab-df-container {\n",
              "      display:flex;\n",
              "      flex-wrap:wrap;\n",
              "      gap: 12px;\n",
              "    }\n",
              "\n",
              "    .colab-df-convert {\n",
              "      background-color: #E8F0FE;\n",
              "      border: none;\n",
              "      border-radius: 50%;\n",
              "      cursor: pointer;\n",
              "      display: none;\n",
              "      fill: #1967D2;\n",
              "      height: 32px;\n",
              "      padding: 0 0 0 0;\n",
              "      width: 32px;\n",
              "    }\n",
              "\n",
              "    .colab-df-convert:hover {\n",
              "      background-color: #E2EBFA;\n",
              "      box-shadow: 0px 1px 2px rgba(60, 64, 67, 0.3), 0px 1px 3px 1px rgba(60, 64, 67, 0.15);\n",
              "      fill: #174EA6;\n",
              "    }\n",
              "\n",
              "    [theme=dark] .colab-df-convert {\n",
              "      background-color: #3B4455;\n",
              "      fill: #D2E3FC;\n",
              "    }\n",
              "\n",
              "    [theme=dark] .colab-df-convert:hover {\n",
              "      background-color: #434B5C;\n",
              "      box-shadow: 0px 1px 3px 1px rgba(0, 0, 0, 0.15);\n",
              "      filter: drop-shadow(0px 1px 2px rgba(0, 0, 0, 0.3));\n",
              "      fill: #FFFFFF;\n",
              "    }\n",
              "  </style>\n",
              "\n",
              "      <script>\n",
              "        const buttonEl =\n",
              "          document.querySelector('#df-a80e0a3a-d195-412f-bfc5-0516afe85929 button.colab-df-convert');\n",
              "        buttonEl.style.display =\n",
              "          google.colab.kernel.accessAllowed ? 'block' : 'none';\n",
              "\n",
              "        async function convertToInteractive(key) {\n",
              "          const element = document.querySelector('#df-a80e0a3a-d195-412f-bfc5-0516afe85929');\n",
              "          const dataTable =\n",
              "            await google.colab.kernel.invokeFunction('convertToInteractive',\n",
              "                                                     [key], {});\n",
              "          if (!dataTable) return;\n",
              "\n",
              "          const docLinkHtml = 'Like what you see? Visit the ' +\n",
              "            '<a target=\"_blank\" href=https://colab.research.google.com/notebooks/data_table.ipynb>data table notebook</a>'\n",
              "            + ' to learn more about interactive tables.';\n",
              "          element.innerHTML = '';\n",
              "          dataTable['output_type'] = 'display_data';\n",
              "          await google.colab.output.renderOutput(dataTable, element);\n",
              "          const docLink = document.createElement('div');\n",
              "          docLink.innerHTML = docLinkHtml;\n",
              "          element.appendChild(docLink);\n",
              "        }\n",
              "      </script>\n",
              "    </div>\n",
              "  </div>\n",
              "  "
            ]
          },
          "metadata": {},
          "execution_count": 120
        }
      ]
    },
    {
      "cell_type": "markdown",
      "source": [
        "## Display some figures"
      ],
      "metadata": {
        "id": "H4oQCpp-oUZU"
      }
    },
    {
      "cell_type": "code",
      "source": [
        "from IPython.display import Image\n",
        "from IPython.core.display import HTML \n",
        "\n",
        "\n",
        "for i, df in bte_df[(bte_df[\"n0_identifier\"] == \"NCBIGene:211\") & (bte_df[\"n1_identifier\"] == \"NCBIGene:210\")][[\"figure_url\", \"figure_title\"]].iterrows():\n",
        "    figure_title = df[\"figure_title\"]\n",
        "    figure_url = df[\"figure_url\"]\n",
        "    display(Image(url=figure_url))\n",
        "    print(figure_title)\n",
        "    print(\"\")\n",
        "    print(\"\")\n",
        "    print(\"\")\n"
      ],
      "metadata": {
        "colab": {
          "base_uri": "https://localhost:8080/",
          "height": 1000
        },
        "id": "1iqomqP3t1C5",
        "outputId": "8882419c-7213-4b54-eba3-becd28733c28"
      },
      "execution_count": 140,
      "outputs": [
        {
          "output_type": "display_data",
          "data": {
            "text/plain": [
              "<IPython.core.display.Image object>"
            ],
            "text/html": [
              "<img src=\"https://www.ncbi.nlm.nih.gov/pmc/articles/PMC5115734/bin/pone.0166338.g001.jpg\"/>"
            ]
          },
          "metadata": {}
        },
        {
          "output_type": "stream",
          "name": "stdout",
          "text": [
            "Evolution of the Tetrapyrrole Biosynthetic Pathway in Secondary Algae: Conservation, Redundancy and Replacement\n",
            "\n",
            "\n",
            "\n"
          ]
        },
        {
          "output_type": "display_data",
          "data": {
            "text/plain": [
              "<IPython.core.display.Image object>"
            ],
            "text/html": [
              "<img src=\"https://www.ncbi.nlm.nih.gov/pmc/articles/PMC5115734/bin/pone.0166338.g005.jpg\"/>"
            ]
          },
          "metadata": {}
        },
        {
          "output_type": "stream",
          "name": "stdout",
          "text": [
            "Evolution of the Tetrapyrrole Biosynthetic Pathway in Secondary Algae: Conservation, Redundancy and Replacement\n",
            "\n",
            "\n",
            "\n"
          ]
        },
        {
          "output_type": "display_data",
          "data": {
            "text/plain": [
              "<IPython.core.display.Image object>"
            ],
            "text/html": [
              "<img src=\"https://www.ncbi.nlm.nih.gov/pmc/articles/PMC6263343/bin/molecules-16-04140-g003.jpg\"/>"
            ]
          },
          "metadata": {}
        },
        {
          "output_type": "stream",
          "name": "stdout",
          "text": [
            "Heme biosynthesis\n",
            "\n",
            "\n",
            "\n"
          ]
        },
        {
          "output_type": "display_data",
          "data": {
            "text/plain": [
              "<IPython.core.display.Image object>"
            ],
            "text/html": [
              "<img src=\"https://www.ncbi.nlm.nih.gov/pmc/articles/PMC4388523/bin/pone.0121567.g004.jpg\"/>"
            ]
          },
          "metadata": {}
        },
        {
          "output_type": "stream",
          "name": "stdout",
          "text": [
            "Increase of microRNA-210, Decrease of Raptor Gene Expression and Alteration of Mammalian Target of Rapamycin Regulated Proteins following Mithramycin Treatment of Human Erythroid Cells\n",
            "\n",
            "\n",
            "\n"
          ]
        },
        {
          "output_type": "display_data",
          "data": {
            "text/plain": [
              "<IPython.core.display.Image object>"
            ],
            "text/html": [
              "<img src=\"https://www.ncbi.nlm.nih.gov/pmc/articles/PMC7216002/bin/ijms-21-02963-g001.jpg\"/>"
            ]
          },
          "metadata": {}
        },
        {
          "output_type": "stream",
          "name": "stdout",
          "text": [
            "Heme biosynthesis pathway (left) and the principle of HAL mediated PpIX production enhancement with dimethylsulphoxide (DMSO) or deferoxamine mesylate salt (DFO) (right)\n",
            "\n",
            "\n",
            "\n"
          ]
        },
        {
          "output_type": "display_data",
          "data": {
            "text/plain": [
              "<IPython.core.display.Image object>"
            ],
            "text/html": [
              "<img src=\"https://www.ncbi.nlm.nih.gov/pmc/articles/PMC2360674/bin/95-6603273f8.jpg\"/>"
            ]
          },
          "metadata": {}
        },
        {
          "output_type": "stream",
          "name": "stdout",
          "text": [
            "Schematic of porphyrin-synthetic pathway to illustrate potential control points for increased PpIX accumulation\n",
            "\n",
            "\n",
            "\n"
          ]
        },
        {
          "output_type": "display_data",
          "data": {
            "text/plain": [
              "<IPython.core.display.Image object>"
            ],
            "text/html": [
              "<img src=\"https://www.ncbi.nlm.nih.gov/pmc/articles/PMC4040894/bin/99973.fig2.jpg\"/>"
            ]
          },
          "metadata": {}
        },
        {
          "output_type": "stream",
          "name": "stdout",
          "text": [
            "Heme biosynthesis\n",
            "\n",
            "\n",
            "\n"
          ]
        },
        {
          "output_type": "display_data",
          "data": {
            "text/plain": [
              "<IPython.core.display.Image object>"
            ],
            "text/html": [
              "<img src=\"https://www.ncbi.nlm.nih.gov/pmc/articles/PMC5723588/bin/ECE3-7-10379-g002.jpg\"/>"
            ]
          },
          "metadata": {}
        },
        {
          "output_type": "stream",
          "name": "stdout",
          "text": [
            "Haem synthetic pathway\n",
            "\n",
            "\n",
            "\n"
          ]
        },
        {
          "output_type": "display_data",
          "data": {
            "text/plain": [
              "<IPython.core.display.Image object>"
            ],
            "text/html": [
              "<img src=\"https://www.ncbi.nlm.nih.gov/pmc/articles/PMC4632830/bin/ijms-16-25865-g001.jpg\"/>"
            ]
          },
          "metadata": {}
        },
        {
          "output_type": "stream",
          "name": "stdout",
          "text": [
            "Heme biosynthesis pathway (in red) connects with glucose (in green) and glutamine (in blue) metabolic pathways\n",
            "\n",
            "\n",
            "\n"
          ]
        },
        {
          "output_type": "display_data",
          "data": {
            "text/plain": [
              "<IPython.core.display.Image object>"
            ],
            "text/html": [
              "<img src=\"https://www.ncbi.nlm.nih.gov/pmc/articles/PMC5312243/bin/zmr0011724550001.jpg\"/>"
            ]
          },
          "metadata": {}
        },
        {
          "output_type": "stream",
          "name": "stdout",
          "text": [
            "Tetrapyrrole biosynthetic pathways in prokaryotes\n",
            "\n",
            "\n",
            "\n"
          ]
        },
        {
          "output_type": "display_data",
          "data": {
            "text/plain": [
              "<IPython.core.display.Image object>"
            ],
            "text/html": [
              "<img src=\"https://www.ncbi.nlm.nih.gov/pmc/articles/PMC7500861/bin/nihms-1628382-f0005.jpg\"/>"
            ]
          },
          "metadata": {}
        },
        {
          "output_type": "stream",
          "name": "stdout",
          "text": [
            "Metabolic pathway differences between LLO118 and LLO56 and identification of mGPD2 as a candidate gene\n",
            "\n",
            "\n",
            "\n"
          ]
        },
        {
          "output_type": "display_data",
          "data": {
            "text/plain": [
              "<IPython.core.display.Image object>"
            ],
            "text/html": [
              "<img src=\"https://www.ncbi.nlm.nih.gov/pmc/articles/PMC7575966/bin/atm-08-17-1098-f1.jpg\"/>"
            ]
          },
          "metadata": {}
        },
        {
          "output_type": "stream",
          "name": "stdout",
          "text": [
            "Enzymes and intermediate products of the heme synthesis pathway\n",
            "\n",
            "\n",
            "\n"
          ]
        },
        {
          "output_type": "display_data",
          "data": {
            "text/plain": [
              "<IPython.core.display.Image object>"
            ],
            "text/html": [
              "<img src=\"https://www.ncbi.nlm.nih.gov/pmc/articles/PMC2999593/bin/1756-3305-3-108-1.jpg\"/>"
            ]
          },
          "metadata": {}
        },
        {
          "output_type": "stream",
          "name": "stdout",
          "text": [
            "Heme Biosynthetic Pathway\n",
            "\n",
            "\n",
            "\n"
          ]
        },
        {
          "output_type": "display_data",
          "data": {
            "text/plain": [
              "<IPython.core.display.Image object>"
            ],
            "text/html": [
              "<img src=\"https://www.ncbi.nlm.nih.gov/pmc/articles/PMC6889380/bin/41416_2019_516_Fig2_HTML.jpg\"/>"
            ]
          },
          "metadata": {}
        },
        {
          "output_type": "stream",
          "name": "stdout",
          "text": [
            "Haem synthesis pathway\n",
            "\n",
            "\n",
            "\n"
          ]
        },
        {
          "output_type": "display_data",
          "data": {
            "text/plain": [
              "<IPython.core.display.Image object>"
            ],
            "text/html": [
              "<img src=\"https://www.ncbi.nlm.nih.gov/pmc/articles/PMC5916231/bin/rmmj-9-2-e0013-g001.jpg\"/>"
            ]
          },
          "metadata": {}
        },
        {
          "output_type": "stream",
          "name": "stdout",
          "text": [
            "Heme synthesis pathway\n",
            "\n",
            "\n",
            "\n"
          ]
        },
        {
          "output_type": "display_data",
          "data": {
            "text/plain": [
              "<IPython.core.display.Image object>"
            ],
            "text/html": [
              "<img src=\"https://www.ncbi.nlm.nih.gov/pmc/articles/PMC7034838/bin/pone.0228722.g003.jpg\"/>"
            ]
          },
          "metadata": {}
        },
        {
          "output_type": "stream",
          "name": "stdout",
          "text": [
            "Iron metabolic pathways in the processes of sponge plasticity\n",
            "\n",
            "\n",
            "\n"
          ]
        },
        {
          "output_type": "display_data",
          "data": {
            "text/plain": [
              "<IPython.core.display.Image object>"
            ],
            "text/html": [
              "<img src=\"https://www.ncbi.nlm.nih.gov/pmc/articles/PMC4087737/bin/WJG-12-4281-g001.jpg\"/>"
            ]
          },
          "metadata": {}
        },
        {
          "output_type": "stream",
          "name": "stdout",
          "text": [
            "A: The heme biosynthetic pathway\n",
            "\n",
            "\n",
            "\n"
          ]
        },
        {
          "output_type": "display_data",
          "data": {
            "text/plain": [
              "<IPython.core.display.Image object>"
            ],
            "text/html": [
              "<img src=\"https://www.ncbi.nlm.nih.gov/pmc/articles/PMC4821805/bin/elife-12318-fig1.jpg\"/>"
            ]
          },
          "metadata": {}
        },
        {
          "output_type": "stream",
          "name": "stdout",
          "text": [
            "Evolution of haem biosynthetic and degradative pathways\n",
            "\n",
            "\n",
            "\n"
          ]
        },
        {
          "output_type": "display_data",
          "data": {
            "text/plain": [
              "<IPython.core.display.Image object>"
            ],
            "text/html": [
              "<img src=\"https://www.ncbi.nlm.nih.gov/pmc/articles/PMC5654406/bin/gbeevr029f01_3c.jpg\"/>"
            ]
          },
          "metadata": {}
        },
        {
          "output_type": "stream",
          "name": "stdout",
          "text": [
            "Sequence Evidence for the Presence of Two Tetrapyrrole Pathways in Euglena gracilis\n",
            "\n",
            "\n",
            "\n"
          ]
        },
        {
          "output_type": "display_data",
          "data": {
            "text/plain": [
              "<IPython.core.display.Image object>"
            ],
            "text/html": [
              "<img src=\"https://www.ncbi.nlm.nih.gov/pmc/articles/PMC7998362/bin/genes-12-00421-g007.jpg\"/>"
            ]
          },
          "metadata": {}
        },
        {
          "output_type": "stream",
          "name": "stdout",
          "text": [
            "Four identified pathways responsible for P\n",
            "\n",
            "\n",
            "\n"
          ]
        },
        {
          "output_type": "display_data",
          "data": {
            "text/plain": [
              "<IPython.core.display.Image object>"
            ],
            "text/html": [
              "<img src=\"https://www.ncbi.nlm.nih.gov/pmc/articles/PMC6331451/bin/fphar-09-01514-g011.jpg\"/>"
            ]
          },
          "metadata": {}
        },
        {
          "output_type": "stream",
          "name": "stdout",
          "text": [
            "The metabolic pathway of FECH and heme\n",
            "\n",
            "\n",
            "\n"
          ]
        },
        {
          "output_type": "display_data",
          "data": {
            "text/plain": [
              "<IPython.core.display.Image object>"
            ],
            "text/html": [
              "<img src=\"https://www.ncbi.nlm.nih.gov/pmc/articles/PMC4498564/bin/nihms702007f1.jpg\"/>"
            ]
          },
          "metadata": {}
        },
        {
          "output_type": "stream",
          "name": "stdout",
          "text": [
            "Heme biosynthetic pathway\n",
            "\n",
            "\n",
            "\n"
          ]
        },
        {
          "output_type": "display_data",
          "data": {
            "text/plain": [
              "<IPython.core.display.Image object>"
            ],
            "text/html": [
              "<img src=\"https://www.ncbi.nlm.nih.gov/pmc/articles/PMC6820234/bin/gr1.jpg\"/>"
            ]
          },
          "metadata": {}
        },
        {
          "output_type": "stream",
          "name": "stdout",
          "text": [
            "Heme biosynthetic pathway and experimental porphyria models\n",
            "\n",
            "\n",
            "\n"
          ]
        },
        {
          "output_type": "display_data",
          "data": {
            "text/plain": [
              "<IPython.core.display.Image object>"
            ],
            "text/html": [
              "<img src=\"https://www.ncbi.nlm.nih.gov/pmc/articles/PMC7279006/bin/ijms-21-03462-g001.jpg\"/>"
            ]
          },
          "metadata": {}
        },
        {
          "output_type": "stream",
          "name": "stdout",
          "text": [
            "Heme biosynthetic pathway, porphyrias and nutrients\n",
            "\n",
            "\n",
            "\n"
          ]
        },
        {
          "output_type": "display_data",
          "data": {
            "text/plain": [
              "<IPython.core.display.Image object>"
            ],
            "text/html": [
              "<img src=\"https://www.ncbi.nlm.nih.gov/pmc/articles/PMC7435111/bin/yam-63-154-g001.jpg\"/>"
            ]
          },
          "metadata": {}
        },
        {
          "output_type": "stream",
          "name": "stdout",
          "text": [
            "Scheme of the heme biosynthesis pathway and membrane transporters\n",
            "\n",
            "\n",
            "\n"
          ]
        },
        {
          "output_type": "display_data",
          "data": {
            "text/plain": [
              "<IPython.core.display.Image object>"
            ],
            "text/html": [
              "<img src=\"https://www.ncbi.nlm.nih.gov/pmc/articles/PMC7161743/bin/nihms-1569377-f0003.jpg\"/>"
            ]
          },
          "metadata": {}
        },
        {
          "output_type": "stream",
          "name": "stdout",
          "text": [
            "Leishmania heme auxotrophy\n",
            "\n",
            "\n",
            "\n"
          ]
        },
        {
          "output_type": "display_data",
          "data": {
            "text/plain": [
              "<IPython.core.display.Image object>"
            ],
            "text/html": [
              "<img src=\"https://www.ncbi.nlm.nih.gov/pmc/articles/PMC3136693/bin/253_2011_3391_Fig1_HTML.jpg\"/>"
            ]
          },
          "metadata": {}
        },
        {
          "output_type": "stream",
          "name": "stdout",
          "text": [
            "Chemical heme biosynthesis pathway\n",
            "\n",
            "\n",
            "\n"
          ]
        },
        {
          "output_type": "display_data",
          "data": {
            "text/plain": [
              "<IPython.core.display.Image object>"
            ],
            "text/html": [
              "<img src=\"https://www.ncbi.nlm.nih.gov/pmc/articles/PMC4784227/bin/nihms757074f4.jpg\"/>"
            ]
          },
          "metadata": {}
        },
        {
          "output_type": "stream",
          "name": "stdout",
          "text": [
            "Heme biosynthesis pathway\n",
            "\n",
            "\n",
            "\n"
          ]
        },
        {
          "output_type": "display_data",
          "data": {
            "text/plain": [
              "<IPython.core.display.Image object>"
            ],
            "text/html": [
              "<img src=\"https://www.ncbi.nlm.nih.gov/pmc/articles/PMC2703803/bin/pntd.0000475.g001.jpg\"/>"
            ]
          },
          "metadata": {}
        },
        {
          "output_type": "stream",
          "name": "stdout",
          "text": [
            "The Heme Biosynthetic Pathway of the Obligate Wolbachia Endosymbiont of Brugia malayi as a Potential Anti-filarial Drug Target\n",
            "\n",
            "\n",
            "\n"
          ]
        },
        {
          "output_type": "display_data",
          "data": {
            "text/plain": [
              "<IPython.core.display.Image object>"
            ],
            "text/html": [
              "<img src=\"https://www.ncbi.nlm.nih.gov/pmc/articles/PMC4199550/bin/pntd.0003224.g003.jpg\"/>"
            ]
          },
          "metadata": {}
        },
        {
          "output_type": "stream",
          "name": "stdout",
          "text": [
            "Iron Necessity: The Secret of Wolbachia's Success?\n",
            "\n",
            "\n",
            "\n"
          ]
        },
        {
          "output_type": "display_data",
          "data": {
            "text/plain": [
              "<IPython.core.display.Image object>"
            ],
            "text/html": [
              "<img src=\"https://www.ncbi.nlm.nih.gov/pmc/articles/PMC6154995/bin/41598_2018_32591_Fig7_HTML.jpg\"/>"
            ]
          },
          "metadata": {}
        },
        {
          "output_type": "stream",
          "name": "stdout",
          "text": [
            "Heme-dependent feedback inhibition of ALAS in the heme biosynthetic pathway\n",
            "\n",
            "\n",
            "\n"
          ]
        },
        {
          "output_type": "display_data",
          "data": {
            "text/plain": [
              "<IPython.core.display.Image object>"
            ],
            "text/html": [
              "<img src=\"https://www.ncbi.nlm.nih.gov/pmc/articles/PMC3767399/bin/nihms-507766-f0004.jpg\"/>"
            ]
          },
          "metadata": {}
        },
        {
          "output_type": "stream",
          "name": "stdout",
          "text": [
            "The metabolic roles of the endosymbiotic organelles of Toxoplasma and Plasmodium spp.\n",
            "\n",
            "\n",
            "\n"
          ]
        },
        {
          "output_type": "display_data",
          "data": {
            "text/plain": [
              "<IPython.core.display.Image object>"
            ],
            "text/html": [
              "<img src=\"https://www.ncbi.nlm.nih.gov/pmc/articles/PMC6741141/bin/MBO3-8-e00836-g005.jpg\"/>"
            ]
          },
          "metadata": {}
        },
        {
          "output_type": "stream",
          "name": "stdout",
          "text": [
            "Metabolic pathway of aerial and submerged mycelia in the liquid surface culture of Cordyceps militaris\n",
            "\n",
            "\n",
            "\n"
          ]
        },
        {
          "output_type": "display_data",
          "data": {
            "text/plain": [
              "<IPython.core.display.Image object>"
            ],
            "text/html": [
              "<img src=\"https://www.ncbi.nlm.nih.gov/pmc/articles/PMC3343703/bin/fphar-03-00077-g001.jpg\"/>"
            ]
          },
          "metadata": {}
        },
        {
          "output_type": "stream",
          "name": "stdout",
          "text": [
            "Heme metabolism\n",
            "\n",
            "\n",
            "\n"
          ]
        }
      ]
    },
    {
      "cell_type": "code",
      "source": [
        ""
      ],
      "metadata": {
        "id": "XaQvH-tQ1Zt0"
      },
      "execution_count": null,
      "outputs": []
    }
  ]
}