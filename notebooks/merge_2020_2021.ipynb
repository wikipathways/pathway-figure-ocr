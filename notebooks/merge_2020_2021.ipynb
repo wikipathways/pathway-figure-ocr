{
 "cells": [
  {
   "cell_type": "markdown",
   "metadata": {},
   "source": [
    "# Merge 2020 and 2021 Results"
   ]
  },
  {
   "cell_type": "markdown",
   "metadata": {},
   "source": [
    "The file PMC8012676.xml is interesting in that it's a good example of being able to detect a composite figure from the text. Also, there are many good examples for looking at the relationships between the text, the citations and the figures."
   ]
  },
  {
   "cell_type": "code",
   "execution_count": 1,
   "metadata": {
    "lines_to_next_cell": 2
   },
   "outputs": [],
   "source": [
    "import json\n",
    "import os\n",
    "import re\n",
    "import sys\n",
    "import tempfile\n",
    "from pathlib import Path, PurePath\n",
    "from pprint import pprint\n",
    "\n",
    "import numpy as np\n",
    "import pandas as pd\n",
    "import requests\n",
    "import requests_cache"
   ]
  },
  {
   "cell_type": "code",
   "execution_count": 2,
   "metadata": {},
   "outputs": [],
   "source": [
    "%load_ext sql"
   ]
  },
  {
   "cell_type": "code",
   "execution_count": 3,
   "metadata": {},
   "outputs": [],
   "source": [
    "requests_cache.install_cache(\"pfocr_cache\")"
   ]
  },
  {
   "cell_type": "raw",
   "metadata": {},
   "source": [
    "NCBI_API_KEY = os.environ[\"NCBI_API_KEY\"]"
   ]
  },
  {
   "cell_type": "markdown",
   "metadata": {},
   "source": [
    "## Import PFOCR 2020 Results"
   ]
  },
  {
   "cell_type": "code",
   "execution_count": 4,
   "metadata": {},
   "outputs": [],
   "source": [
    "from functools import partial\n",
    "\n",
    "import rpy2.robjects as ro\n",
    "from rpy2.ipython import html\n",
    "from rpy2.robjects import default_converter, pandas2ri\n",
    "from rpy2.robjects.conversion import localconverter\n",
    "from rpy2.robjects.lib.dplyr import DataFrame\n",
    "from rpy2.robjects.packages import importr\n",
    "\n",
    "html.html_rdataframe = partial(html.html_rdataframe, table_class=\"docutils\")"
   ]
  },
  {
   "cell_type": "code",
   "execution_count": 5,
   "metadata": {},
   "outputs": [
    {
     "name": "stderr",
     "output_type": "stream",
     "text": [
      "/nix/store/6cdpbcfv5g6zk9zhs1wv79648zmvdjd0-python3-3.8.8-env/lib/python3.8/site-packages/rpy2/robjects/vectors.py:980: UserWarning: R object inheriting from \"POSIXct\" but without attribute \"tzone\".\n",
      "  warnings.warn('R object inheriting from \"POSIXct\" but without '\n"
     ]
    }
   ],
   "source": [
    "pandas2ri.activate()\n",
    "base = importr(\"base\")\n",
    "readRDS = ro.r[\"readRDS\"]\n",
    "saveRDS = ro.r[\"saveRDS\"]"
   ]
  },
  {
   "cell_type": "code",
   "execution_count": 6,
   "metadata": {},
   "outputs": [],
   "source": [
    "def rds2pandas(rds_path):\n",
    "    r_df = readRDS(str(rds_path))\n",
    "    with localconverter(ro.default_converter + pandas2ri.converter):\n",
    "        pandas_df = ro.conversion.rpy2py(r_df)\n",
    "    return pandas_df"
   ]
  },
  {
   "cell_type": "code",
   "execution_count": 7,
   "metadata": {},
   "outputs": [],
   "source": [
    "def pandas2rds(pandas_df, rds_path):\n",
    "    with localconverter(default_converter + pandas2ri.converter) as cv:\n",
    "        r_df = DataFrame(pandas_df)\n",
    "\n",
    "    saveRDS(r_df, str(rds_path))"
   ]
  },
  {
   "cell_type": "markdown",
   "metadata": {},
   "source": [
    "### Import Figures 2020"
   ]
  },
  {
   "cell_type": "markdown",
   "metadata": {},
   "source": [
    "#### from `pfocr20200224` Database"
   ]
  },
  {
   "cell_type": "code",
   "execution_count": 8,
   "metadata": {},
   "outputs": [],
   "source": [
    "%sql postgresql:///pfocr20200224"
   ]
  },
  {
   "cell_type": "code",
   "execution_count": 9,
   "metadata": {},
   "outputs": [
    {
     "name": "stdout",
     "output_type": "stream",
     "text": [
      " * postgresql:///pfocr20200224\n",
      "114176 rows affected.\n",
      "Returning data to local variable figures_2020_db_data\n"
     ]
    }
   ],
   "source": [
    "%%sql figures_2020_db_data << SELECT id, filepath, figure_number, resolution, hash\n",
    "FROM figures;"
   ]
  },
  {
   "cell_type": "markdown",
   "metadata": {},
   "source": [
    "Let's turn this into a dataframe and get rid of some rows that are identical except for `id` and `filepath`.\n",
    "\n",
    "Expecting 114117 rows × 4 columns."
   ]
  },
  {
   "cell_type": "code",
   "execution_count": 10,
   "metadata": {},
   "outputs": [
    {
     "data": {
      "text/html": [
       "<div>\n",
       "<style scoped>\n",
       "    .dataframe tbody tr th:only-of-type {\n",
       "        vertical-align: middle;\n",
       "    }\n",
       "\n",
       "    .dataframe tbody tr th {\n",
       "        vertical-align: top;\n",
       "    }\n",
       "\n",
       "    .dataframe thead th {\n",
       "        text-align: right;\n",
       "    }\n",
       "</style>\n",
       "<table border=\"1\" class=\"dataframe\">\n",
       "  <thead>\n",
       "    <tr style=\"text-align: right;\">\n",
       "      <th></th>\n",
       "      <th>figure_number</th>\n",
       "      <th>resolution</th>\n",
       "      <th>hash</th>\n",
       "      <th>pfocr_id</th>\n",
       "    </tr>\n",
       "  </thead>\n",
       "  <tbody>\n",
       "    <tr>\n",
       "      <th>0</th>\n",
       "      <td>nihms631297f1</td>\n",
       "      <td>150</td>\n",
       "      <td>f1251c61cdae166d9efe021a38a26df030e53cc0c8b446...</td>\n",
       "      <td>PMC4183209__nihms631297f1.jpg</td>\n",
       "    </tr>\n",
       "    <tr>\n",
       "      <th>1</th>\n",
       "      <td>zam0120900500001</td>\n",
       "      <td>72</td>\n",
       "      <td>99bfb01f132886e392fbe9987723edf477d1480eb116a1...</td>\n",
       "      <td>PMC2698365__zam0120900500001.jpg</td>\n",
       "    </tr>\n",
       "    <tr>\n",
       "      <th>2</th>\n",
       "      <td>nutrients-09-01243-g007</td>\n",
       "      <td>600</td>\n",
       "      <td>a34de0ab2744b046c9a2d927676b234d308327c615bcc4...</td>\n",
       "      <td>PMC5707715__nutrients-09-01243-g007.jpg</td>\n",
       "    </tr>\n",
       "    <tr>\n",
       "      <th>3</th>\n",
       "      <td>EMS83014-f003</td>\n",
       "      <td>96</td>\n",
       "      <td>7f4fafb790d9b92b98e3573f7d1edef1b9990e67d3af6d...</td>\n",
       "      <td>PMC6538535__EMS83014-f003.jpg</td>\n",
       "    </tr>\n",
       "    <tr>\n",
       "      <th>4</th>\n",
       "      <td>12014_2017_9165_Fig1_HTML</td>\n",
       "      <td>72</td>\n",
       "      <td>cae8e2ac3e341cec7e41c21cbdb2317999a1bfbb0bc7bc...</td>\n",
       "      <td>PMC5557313__12014_2017_9165_Fig1_HTML.jpg</td>\n",
       "    </tr>\n",
       "    <tr>\n",
       "      <th>...</th>\n",
       "      <td>...</td>\n",
       "      <td>...</td>\n",
       "      <td>...</td>\n",
       "      <td>...</td>\n",
       "    </tr>\n",
       "    <tr>\n",
       "      <th>114171</th>\n",
       "      <td>kpsb-11-01-1119962-g016</td>\n",
       "      <td>200</td>\n",
       "      <td>d40168e350337ab4e9f18a8eacbcb1b233eeaa703e11b9...</td>\n",
       "      <td>PMC4871689__kpsb-11-01-1119962-g016.jpg</td>\n",
       "    </tr>\n",
       "    <tr>\n",
       "      <th>114172</th>\n",
       "      <td>1471-2407-14-217-3</td>\n",
       "      <td>600</td>\n",
       "      <td>1ec4ad03dd5295e97fe7f1718cf609cb21d263341c12ec...</td>\n",
       "      <td>PMC3994450__1471-2407-14-217-3.jpg</td>\n",
       "    </tr>\n",
       "    <tr>\n",
       "      <th>114173</th>\n",
       "      <td>gr3</td>\n",
       "      <td>113</td>\n",
       "      <td>581cebd1c383b70ba61359690b58ca69b1e3f978dd447f...</td>\n",
       "      <td>PMC4157144__gr3.jpg</td>\n",
       "    </tr>\n",
       "    <tr>\n",
       "      <th>114174</th>\n",
       "      <td>nihms491534f1</td>\n",
       "      <td>150</td>\n",
       "      <td>86a3b076b363fdf036689937015d97eeae8d1e664fa1da...</td>\n",
       "      <td>PMC3748258__nihms491534f1.jpg</td>\n",
       "    </tr>\n",
       "    <tr>\n",
       "      <th>114175</th>\n",
       "      <td>WJG-20-3927-g002</td>\n",
       "      <td>400</td>\n",
       "      <td>93f33535b500570723783127277e6f78da47077d0f552e...</td>\n",
       "      <td>PMC3983448__WJG-20-3927-g002.jpg</td>\n",
       "    </tr>\n",
       "  </tbody>\n",
       "</table>\n",
       "<p>114117 rows × 4 columns</p>\n",
       "</div>"
      ],
      "text/plain": [
       "                    figure_number  resolution  \\\n",
       "0                   nihms631297f1         150   \n",
       "1                zam0120900500001          72   \n",
       "2         nutrients-09-01243-g007         600   \n",
       "3                   EMS83014-f003          96   \n",
       "4       12014_2017_9165_Fig1_HTML          72   \n",
       "...                           ...         ...   \n",
       "114171    kpsb-11-01-1119962-g016         200   \n",
       "114172         1471-2407-14-217-3         600   \n",
       "114173                        gr3         113   \n",
       "114174              nihms491534f1         150   \n",
       "114175           WJG-20-3927-g002         400   \n",
       "\n",
       "                                                     hash  \\\n",
       "0       f1251c61cdae166d9efe021a38a26df030e53cc0c8b446...   \n",
       "1       99bfb01f132886e392fbe9987723edf477d1480eb116a1...   \n",
       "2       a34de0ab2744b046c9a2d927676b234d308327c615bcc4...   \n",
       "3       7f4fafb790d9b92b98e3573f7d1edef1b9990e67d3af6d...   \n",
       "4       cae8e2ac3e341cec7e41c21cbdb2317999a1bfbb0bc7bc...   \n",
       "...                                                   ...   \n",
       "114171  d40168e350337ab4e9f18a8eacbcb1b233eeaa703e11b9...   \n",
       "114172  1ec4ad03dd5295e97fe7f1718cf609cb21d263341c12ec...   \n",
       "114173  581cebd1c383b70ba61359690b58ca69b1e3f978dd447f...   \n",
       "114174  86a3b076b363fdf036689937015d97eeae8d1e664fa1da...   \n",
       "114175  93f33535b500570723783127277e6f78da47077d0f552e...   \n",
       "\n",
       "                                         pfocr_id  \n",
       "0                   PMC4183209__nihms631297f1.jpg  \n",
       "1                PMC2698365__zam0120900500001.jpg  \n",
       "2         PMC5707715__nutrients-09-01243-g007.jpg  \n",
       "3                   PMC6538535__EMS83014-f003.jpg  \n",
       "4       PMC5557313__12014_2017_9165_Fig1_HTML.jpg  \n",
       "...                                           ...  \n",
       "114171    PMC4871689__kpsb-11-01-1119962-g016.jpg  \n",
       "114172         PMC3994450__1471-2407-14-217-3.jpg  \n",
       "114173                        PMC4157144__gr3.jpg  \n",
       "114174              PMC3748258__nihms491534f1.jpg  \n",
       "114175           PMC3983448__WJG-20-3927-g002.jpg  \n",
       "\n",
       "[114117 rows x 4 columns]"
      ]
     },
     "execution_count": 10,
     "metadata": {},
     "output_type": "execute_result"
    }
   ],
   "source": [
    "raw_figures_2020_db_df = figures_2020_db_data.DataFrame()\n",
    "\n",
    "raw_figures_2020_db_df[\"pfocr_id\"] = raw_figures_2020_db_df[\"filepath\"].apply(\n",
    "    lambda f: PurePath(f).name\n",
    ")\n",
    "\n",
    "figures_2020_db_df = raw_figures_2020_db_df.drop(\n",
    "    columns=[\"id\", \"filepath\"]\n",
    ").drop_duplicates()\n",
    "\n",
    "del raw_figures_2020_db_df\n",
    "\n",
    "figures_2020_db_df"
   ]
  },
  {
   "cell_type": "markdown",
   "metadata": {},
   "source": [
    "#### from `pfocr_figures.rds`\n",
    "\n",
    "Expecting 64643 rows × 14 columns"
   ]
  },
  {
   "cell_type": "code",
   "execution_count": 11,
   "metadata": {},
   "outputs": [
    {
     "data": {
      "text/html": [
       "<div>\n",
       "<style scoped>\n",
       "    .dataframe tbody tr th:only-of-type {\n",
       "        vertical-align: middle;\n",
       "    }\n",
       "\n",
       "    .dataframe tbody tr th {\n",
       "        vertical-align: top;\n",
       "    }\n",
       "\n",
       "    .dataframe thead th {\n",
       "        text-align: right;\n",
       "    }\n",
       "</style>\n",
       "<table border=\"1\" class=\"dataframe\">\n",
       "  <thead>\n",
       "    <tr style=\"text-align: right;\">\n",
       "      <th></th>\n",
       "      <th>pfocr_id</th>\n",
       "      <th>figure_number</th>\n",
       "      <th>reference</th>\n",
       "      <th>publication_year</th>\n",
       "      <th>pathway_score</th>\n",
       "      <th>pmc_search_index</th>\n",
       "      <th>figure_title</th>\n",
       "      <th>paper_title</th>\n",
       "      <th>figure_caption</th>\n",
       "      <th>pmc_id</th>\n",
       "      <th>paper_url</th>\n",
       "      <th>figure_page_url</th>\n",
       "      <th>figure_thumbnail_url</th>\n",
       "      <th>pfocr_year</th>\n",
       "    </tr>\n",
       "  </thead>\n",
       "  <tbody>\n",
       "    <tr>\n",
       "      <th>1</th>\n",
       "      <td>PMC5653847__41598_2017_14124_Fig8_HTML.jpg</td>\n",
       "      <td>Figure 8</td>\n",
       "      <td>Céline Barthelemy, et al. Sci Rep. 2017;7:13816.</td>\n",
       "      <td>2017</td>\n",
       "      <td>0.968270</td>\n",
       "      <td>133303</td>\n",
       "      <td>Model of FTY720-induced transporter endocytosi...</td>\n",
       "      <td>FTY720-induced endocytosis of yeast and human ...</td>\n",
       "      <td>Model of FTY720-induced transporter endocytosi...</td>\n",
       "      <td>PMC5653847</td>\n",
       "      <td>https://www.ncbi.nlm.nih.gov/pmc/articles/PMC5...</td>\n",
       "      <td>https://www.ncbi.nlm.nih.gov/pmc/articles/PMC5...</td>\n",
       "      <td>https://www.ncbi.nlm.nih.gov/pmc/articles/PMC5...</td>\n",
       "      <td>2020</td>\n",
       "    </tr>\n",
       "    <tr>\n",
       "      <th>2</th>\n",
       "      <td>PMC4187043__zh20191474070013.jpg</td>\n",
       "      <td>Fig. 13</td>\n",
       "      <td>Yuan Wei, et al. Am J Physiol Renal Physiol. 2...</td>\n",
       "      <td>2014</td>\n",
       "      <td>0.965793</td>\n",
       "      <td>79929</td>\n",
       "      <td>Proposed signaling pathway by which the stimul...</td>\n",
       "      <td>Angiotensin II type 2 receptor regulates ROMK-...</td>\n",
       "      <td>Proposed signaling pathway by which the stimul...</td>\n",
       "      <td>PMC4187043</td>\n",
       "      <td>https://www.ncbi.nlm.nih.gov/pmc/articles/PMC4...</td>\n",
       "      <td>https://www.ncbi.nlm.nih.gov/pmc/articles/PMC4...</td>\n",
       "      <td>https://www.ncbi.nlm.nih.gov/pmc/articles/PMC4...</td>\n",
       "      <td>2020</td>\n",
       "    </tr>\n",
       "    <tr>\n",
       "      <th>3</th>\n",
       "      <td>PMC5746550__rsob-7-170228-g1.jpg</td>\n",
       "      <td>Figure 1</td>\n",
       "      <td>Georgia R. Frost, et al. Open Biol. 2017 Dec;7...</td>\n",
       "      <td>2017</td>\n",
       "      <td>0.962470</td>\n",
       "      <td>98034</td>\n",
       "      <td>AŒ≤ production</td>\n",
       "      <td>The role of astrocytes in amyloid production a...</td>\n",
       "      <td>AŒ≤ production. In the amyloidogenic pathway (...</td>\n",
       "      <td>PMC5746550</td>\n",
       "      <td>https://www.ncbi.nlm.nih.gov/pmc/articles/PMC5...</td>\n",
       "      <td>https://www.ncbi.nlm.nih.gov/pmc/articles/PMC5...</td>\n",
       "      <td>https://www.ncbi.nlm.nih.gov/pmc/articles/PMC5...</td>\n",
       "      <td>2020</td>\n",
       "    </tr>\n",
       "    <tr>\n",
       "      <th>4</th>\n",
       "      <td>PMC4211692__pone.0110875.g008.jpg</td>\n",
       "      <td>Figure 8</td>\n",
       "      <td>Enida Gjoni, et al. PLoS One. 2014;9(10):e110875.</td>\n",
       "      <td>2014</td>\n",
       "      <td>0.966721</td>\n",
       "      <td>142401</td>\n",
       "      <td></td>\n",
       "      <td>Glucolipotoxicity Impairs Ceramide Flow from t...</td>\n",
       "      <td>Glucolipotoxicity impairs CERT- and vesicular-...</td>\n",
       "      <td>PMC4211692</td>\n",
       "      <td>https://www.ncbi.nlm.nih.gov/pmc/articles/PMC4...</td>\n",
       "      <td>https://www.ncbi.nlm.nih.gov/pmc/articles/PMC4...</td>\n",
       "      <td>https://www.ncbi.nlm.nih.gov/pmc/articles/PMC4...</td>\n",
       "      <td>2020</td>\n",
       "    </tr>\n",
       "    <tr>\n",
       "      <th>5</th>\n",
       "      <td>PMC2588433__nihms78212f8.jpg</td>\n",
       "      <td>Figure 8</td>\n",
       "      <td>Amanda L. Lewis, et al. J Biol Chem. ;282(38):...</td>\n",
       "      <td>None</td>\n",
       "      <td>0.966758</td>\n",
       "      <td>67398</td>\n",
       "      <td></td>\n",
       "      <td>NeuA sialic acid O-acetylesterase activity mod...</td>\n",
       "      <td>Bacterial Sia biosynthesis can be divided into...</td>\n",
       "      <td>PMC2588433</td>\n",
       "      <td>https://www.ncbi.nlm.nih.gov/pmc/articles/PMC2...</td>\n",
       "      <td>https://www.ncbi.nlm.nih.gov/pmc/articles/PMC2...</td>\n",
       "      <td>https://www.ncbi.nlm.nih.gov/pmc/articles/PMC2...</td>\n",
       "      <td>2020</td>\n",
       "    </tr>\n",
       "    <tr>\n",
       "      <th>...</th>\n",
       "      <td>...</td>\n",
       "      <td>...</td>\n",
       "      <td>...</td>\n",
       "      <td>...</td>\n",
       "      <td>...</td>\n",
       "      <td>...</td>\n",
       "      <td>...</td>\n",
       "      <td>...</td>\n",
       "      <td>...</td>\n",
       "      <td>...</td>\n",
       "      <td>...</td>\n",
       "      <td>...</td>\n",
       "      <td>...</td>\n",
       "      <td>...</td>\n",
       "    </tr>\n",
       "    <tr>\n",
       "      <th>64639</th>\n",
       "      <td>PMC4216988__zh20221474360006.jpg</td>\n",
       "      <td>Fig. 6</td>\n",
       "      <td>Marcelo D. Carattino, et al. Am J Physiol Rena...</td>\n",
       "      <td>2014</td>\n",
       "      <td>0.143076</td>\n",
       "      <td>108774</td>\n",
       "      <td>Hypothetical mechanism of activation of ENaC b...</td>\n",
       "      <td>Prostasin interacts with the epithelial Na+ ch...</td>\n",
       "      <td>Hypothetical mechanism of activation of ENaC b...</td>\n",
       "      <td>PMC4216988</td>\n",
       "      <td>https://www.ncbi.nlm.nih.gov/pmc/articles/PMC4...</td>\n",
       "      <td>https://www.ncbi.nlm.nih.gov/pmc/articles/PMC4...</td>\n",
       "      <td>https://www.ncbi.nlm.nih.gov/pmc/articles/PMC4...</td>\n",
       "      <td>2020</td>\n",
       "    </tr>\n",
       "    <tr>\n",
       "      <th>64640</th>\n",
       "      <td>PMC2873070__nihms128887f5.jpg</td>\n",
       "      <td>Scheme 1</td>\n",
       "      <td>Hua Cheng, et al. Neurobiol Aging. ;31(7):1188...</td>\n",
       "      <td>None</td>\n",
       "      <td>0.127176</td>\n",
       "      <td>143547</td>\n",
       "      <td>A schematic diagram of a proposed working mode...</td>\n",
       "      <td>Apolipoprotein E mediates sulfatide depletion ...</td>\n",
       "      <td>A schematic diagram of a proposed working mode...</td>\n",
       "      <td>PMC2873070</td>\n",
       "      <td>https://www.ncbi.nlm.nih.gov/pmc/articles/PMC2...</td>\n",
       "      <td>https://www.ncbi.nlm.nih.gov/pmc/articles/PMC2...</td>\n",
       "      <td>https://www.ncbi.nlm.nih.gov/pmc/articles/PMC2...</td>\n",
       "      <td>2020</td>\n",
       "    </tr>\n",
       "    <tr>\n",
       "      <th>64641</th>\n",
       "      <td>PMC3651446__pnas.1220523110fig06.jpg</td>\n",
       "      <td>Fig. 6</td>\n",
       "      <td>Jiun-Ming Wu, et al. Proc Natl Acad Sci U S A....</td>\n",
       "      <td>2013</td>\n",
       "      <td>0.055546</td>\n",
       "      <td>159643</td>\n",
       "      <td>Models for nucleation of centrosomal and kinet...</td>\n",
       "      <td>Aurora kinase inhibitors reveal mechanisms of ...</td>\n",
       "      <td>Models for nucleation of centrosomal and kinet...</td>\n",
       "      <td>PMC3651446</td>\n",
       "      <td>https://www.ncbi.nlm.nih.gov/pmc/articles/PMC3...</td>\n",
       "      <td>https://www.ncbi.nlm.nih.gov/pmc/articles/PMC3...</td>\n",
       "      <td>https://www.ncbi.nlm.nih.gov/pmc/articles/PMC3...</td>\n",
       "      <td>2020</td>\n",
       "    </tr>\n",
       "    <tr>\n",
       "      <th>64642</th>\n",
       "      <td>PMC6770832__cancers-11-01236-g005.jpg</td>\n",
       "      <td>Figure 5</td>\n",
       "      <td>Carmel Mothersill, et al. Cancers (Basel). 201...</td>\n",
       "      <td>2019</td>\n",
       "      <td>0.140041</td>\n",
       "      <td>618</td>\n",
       "      <td>A simplified TGFŒ≤ pathway leading to p21 expr...</td>\n",
       "      <td>Relevance of Non-Targeted Effects for Radiothe...</td>\n",
       "      <td>A simplified TGFŒ≤ pathway leading to p21 expr...</td>\n",
       "      <td>PMC6770832</td>\n",
       "      <td>https://www.ncbi.nlm.nih.gov/pmc/articles/PMC6...</td>\n",
       "      <td>https://www.ncbi.nlm.nih.gov/pmc/articles/PMC6...</td>\n",
       "      <td>https://www.ncbi.nlm.nih.gov/pmc/articles/PMC6...</td>\n",
       "      <td>2020</td>\n",
       "    </tr>\n",
       "    <tr>\n",
       "      <th>64643</th>\n",
       "      <td>PMC4609065__12885_2015_1721_Fig5_HTML.jpg</td>\n",
       "      <td>Fig. 5</td>\n",
       "      <td>Hiro Takahashi, et al. BMC Cancer. 2015;15:718.</td>\n",
       "      <td>2015</td>\n",
       "      <td>0.090798</td>\n",
       "      <td>20865</td>\n",
       "      <td>Hypothetical model of EGFR and ANXA3 to fluoro...</td>\n",
       "      <td>Construction of possible integrated predictive...</td>\n",
       "      <td>Hypothetical model of EGFR and ANXA3 to fluoro...</td>\n",
       "      <td>PMC4609065</td>\n",
       "      <td>https://www.ncbi.nlm.nih.gov/pmc/articles/PMC4...</td>\n",
       "      <td>https://www.ncbi.nlm.nih.gov/pmc/articles/PMC4...</td>\n",
       "      <td>https://www.ncbi.nlm.nih.gov/pmc/articles/PMC4...</td>\n",
       "      <td>2020</td>\n",
       "    </tr>\n",
       "  </tbody>\n",
       "</table>\n",
       "<p>64643 rows × 14 columns</p>\n",
       "</div>"
      ],
      "text/plain": [
       "                                         pfocr_id figure_number  \\\n",
       "1      PMC5653847__41598_2017_14124_Fig8_HTML.jpg      Figure 8   \n",
       "2                PMC4187043__zh20191474070013.jpg       Fig. 13   \n",
       "3                PMC5746550__rsob-7-170228-g1.jpg      Figure 1   \n",
       "4               PMC4211692__pone.0110875.g008.jpg      Figure 8   \n",
       "5                    PMC2588433__nihms78212f8.jpg      Figure 8   \n",
       "...                                           ...           ...   \n",
       "64639            PMC4216988__zh20221474360006.jpg        Fig. 6   \n",
       "64640               PMC2873070__nihms128887f5.jpg      Scheme 1   \n",
       "64641        PMC3651446__pnas.1220523110fig06.jpg        Fig. 6   \n",
       "64642       PMC6770832__cancers-11-01236-g005.jpg      Figure 5   \n",
       "64643   PMC4609065__12885_2015_1721_Fig5_HTML.jpg        Fig. 5   \n",
       "\n",
       "                                               reference publication_year  \\\n",
       "1       Céline Barthelemy, et al. Sci Rep. 2017;7:13816.             2017   \n",
       "2      Yuan Wei, et al. Am J Physiol Renal Physiol. 2...             2014   \n",
       "3      Georgia R. Frost, et al. Open Biol. 2017 Dec;7...             2017   \n",
       "4      Enida Gjoni, et al. PLoS One. 2014;9(10):e110875.             2014   \n",
       "5      Amanda L. Lewis, et al. J Biol Chem. ;282(38):...             None   \n",
       "...                                                  ...              ...   \n",
       "64639  Marcelo D. Carattino, et al. Am J Physiol Rena...             2014   \n",
       "64640  Hua Cheng, et al. Neurobiol Aging. ;31(7):1188...             None   \n",
       "64641  Jiun-Ming Wu, et al. Proc Natl Acad Sci U S A....             2013   \n",
       "64642  Carmel Mothersill, et al. Cancers (Basel). 201...             2019   \n",
       "64643    Hiro Takahashi, et al. BMC Cancer. 2015;15:718.             2015   \n",
       "\n",
       "       pathway_score  pmc_search_index  \\\n",
       "1           0.968270            133303   \n",
       "2           0.965793             79929   \n",
       "3           0.962470             98034   \n",
       "4           0.966721            142401   \n",
       "5           0.966758             67398   \n",
       "...              ...               ...   \n",
       "64639       0.143076            108774   \n",
       "64640       0.127176            143547   \n",
       "64641       0.055546            159643   \n",
       "64642       0.140041               618   \n",
       "64643       0.090798             20865   \n",
       "\n",
       "                                            figure_title  \\\n",
       "1      Model of FTY720-induced transporter endocytosi...   \n",
       "2      Proposed signaling pathway by which the stimul...   \n",
       "3                                         AŒ≤ production   \n",
       "4                                                          \n",
       "5                                                          \n",
       "...                                                  ...   \n",
       "64639  Hypothetical mechanism of activation of ENaC b...   \n",
       "64640  A schematic diagram of a proposed working mode...   \n",
       "64641  Models for nucleation of centrosomal and kinet...   \n",
       "64642  A simplified TGFŒ≤ pathway leading to p21 expr...   \n",
       "64643  Hypothetical model of EGFR and ANXA3 to fluoro...   \n",
       "\n",
       "                                             paper_title  \\\n",
       "1      FTY720-induced endocytosis of yeast and human ...   \n",
       "2      Angiotensin II type 2 receptor regulates ROMK-...   \n",
       "3      The role of astrocytes in amyloid production a...   \n",
       "4      Glucolipotoxicity Impairs Ceramide Flow from t...   \n",
       "5      NeuA sialic acid O-acetylesterase activity mod...   \n",
       "...                                                  ...   \n",
       "64639  Prostasin interacts with the epithelial Na+ ch...   \n",
       "64640  Apolipoprotein E mediates sulfatide depletion ...   \n",
       "64641  Aurora kinase inhibitors reveal mechanisms of ...   \n",
       "64642  Relevance of Non-Targeted Effects for Radiothe...   \n",
       "64643  Construction of possible integrated predictive...   \n",
       "\n",
       "                                          figure_caption      pmc_id  \\\n",
       "1      Model of FTY720-induced transporter endocytosi...  PMC5653847   \n",
       "2      Proposed signaling pathway by which the stimul...  PMC4187043   \n",
       "3      AŒ≤ production. In the amyloidogenic pathway (...  PMC5746550   \n",
       "4      Glucolipotoxicity impairs CERT- and vesicular-...  PMC4211692   \n",
       "5      Bacterial Sia biosynthesis can be divided into...  PMC2588433   \n",
       "...                                                  ...         ...   \n",
       "64639  Hypothetical mechanism of activation of ENaC b...  PMC4216988   \n",
       "64640  A schematic diagram of a proposed working mode...  PMC2873070   \n",
       "64641  Models for nucleation of centrosomal and kinet...  PMC3651446   \n",
       "64642  A simplified TGFŒ≤ pathway leading to p21 expr...  PMC6770832   \n",
       "64643  Hypothetical model of EGFR and ANXA3 to fluoro...  PMC4609065   \n",
       "\n",
       "                                               paper_url  \\\n",
       "1      https://www.ncbi.nlm.nih.gov/pmc/articles/PMC5...   \n",
       "2      https://www.ncbi.nlm.nih.gov/pmc/articles/PMC4...   \n",
       "3      https://www.ncbi.nlm.nih.gov/pmc/articles/PMC5...   \n",
       "4      https://www.ncbi.nlm.nih.gov/pmc/articles/PMC4...   \n",
       "5      https://www.ncbi.nlm.nih.gov/pmc/articles/PMC2...   \n",
       "...                                                  ...   \n",
       "64639  https://www.ncbi.nlm.nih.gov/pmc/articles/PMC4...   \n",
       "64640  https://www.ncbi.nlm.nih.gov/pmc/articles/PMC2...   \n",
       "64641  https://www.ncbi.nlm.nih.gov/pmc/articles/PMC3...   \n",
       "64642  https://www.ncbi.nlm.nih.gov/pmc/articles/PMC6...   \n",
       "64643  https://www.ncbi.nlm.nih.gov/pmc/articles/PMC4...   \n",
       "\n",
       "                                         figure_page_url  \\\n",
       "1      https://www.ncbi.nlm.nih.gov/pmc/articles/PMC5...   \n",
       "2      https://www.ncbi.nlm.nih.gov/pmc/articles/PMC4...   \n",
       "3      https://www.ncbi.nlm.nih.gov/pmc/articles/PMC5...   \n",
       "4      https://www.ncbi.nlm.nih.gov/pmc/articles/PMC4...   \n",
       "5      https://www.ncbi.nlm.nih.gov/pmc/articles/PMC2...   \n",
       "...                                                  ...   \n",
       "64639  https://www.ncbi.nlm.nih.gov/pmc/articles/PMC4...   \n",
       "64640  https://www.ncbi.nlm.nih.gov/pmc/articles/PMC2...   \n",
       "64641  https://www.ncbi.nlm.nih.gov/pmc/articles/PMC3...   \n",
       "64642  https://www.ncbi.nlm.nih.gov/pmc/articles/PMC6...   \n",
       "64643  https://www.ncbi.nlm.nih.gov/pmc/articles/PMC4...   \n",
       "\n",
       "                                    figure_thumbnail_url  pfocr_year  \n",
       "1      https://www.ncbi.nlm.nih.gov/pmc/articles/PMC5...        2020  \n",
       "2      https://www.ncbi.nlm.nih.gov/pmc/articles/PMC4...        2020  \n",
       "3      https://www.ncbi.nlm.nih.gov/pmc/articles/PMC5...        2020  \n",
       "4      https://www.ncbi.nlm.nih.gov/pmc/articles/PMC4...        2020  \n",
       "5      https://www.ncbi.nlm.nih.gov/pmc/articles/PMC2...        2020  \n",
       "...                                                  ...         ...  \n",
       "64639  https://www.ncbi.nlm.nih.gov/pmc/articles/PMC4...        2020  \n",
       "64640  https://www.ncbi.nlm.nih.gov/pmc/articles/PMC2...        2020  \n",
       "64641  https://www.ncbi.nlm.nih.gov/pmc/articles/PMC3...        2020  \n",
       "64642  https://www.ncbi.nlm.nih.gov/pmc/articles/PMC6...        2020  \n",
       "64643  https://www.ncbi.nlm.nih.gov/pmc/articles/PMC4...        2020  \n",
       "\n",
       "[64643 rows x 14 columns]"
      ]
     },
     "execution_count": 11,
     "metadata": {},
     "output_type": "execute_result"
    }
   ],
   "source": [
    "figures_2020_rds_url = (\n",
    "    \"https://www.dropbox.com/s/qhc33zho78rnaoj/pfocr_figures.rds?dl=1\"\n",
    ")\n",
    "\n",
    "with tempfile.NamedTemporaryFile(suffix=\".rds\") as f:\n",
    "    figures_2020_rds_path = f.name\n",
    "    with requests.get(figures_2020_rds_url, stream=True) as r:\n",
    "        for chunk in r.iter_content(chunk_size=128):\n",
    "            f.write(chunk)\n",
    "        f.seek(0)\n",
    "    figures_2020_rds_df = rds2pandas(figures_2020_rds_path).rename(\n",
    "        columns={\n",
    "            \"figid\": \"pfocr_id\",\n",
    "            \"pmcid\": \"pmc_id\",\n",
    "            \"filename\": \"figure_filename\",\n",
    "            \"number\": \"figure_number\",\n",
    "            \"pmc_ranked_result_index\": \"pmc_search_index\",\n",
    "            \"figtitle\": \"figure_title\",\n",
    "            \"papertitle\": \"paper_title\",\n",
    "            \"caption\": \"figure_caption\",\n",
    "            \"figlink\": \"relative_figure_page_url\",\n",
    "            \"reftext\": \"reference\",\n",
    "            \"year\": \"publication_year\",\n",
    "        }\n",
    "    )\n",
    "\n",
    "\n",
    "figures_2020_rds_df[\"paper_url\"] = (\n",
    "    \"https://www.ncbi.nlm.nih.gov/pmc/articles/\" + figures_2020_rds_df[\"pmc_id\"]\n",
    ")\n",
    "\n",
    "figures_2020_rds_df[\"figure_page_url\"] = (\n",
    "    \"https://www.ncbi.nlm.nih.gov\"\n",
    "    + figures_2020_rds_df[\"relative_figure_page_url\"]\n",
    ")\n",
    "\n",
    "figures_2020_rds_df[\"figure_thumbnail_url\"] = (\n",
    "    \"https://www.ncbi.nlm.nih.gov/pmc/articles/\"\n",
    "    + figures_2020_rds_df[\"pmc_id\"]\n",
    "    + \"/bin/\"\n",
    "    + figures_2020_rds_df[\"figure_filename\"]\n",
    ")\n",
    "\n",
    "figures_2020_rds_df[\"pfocr_year\"] = 2020\n",
    "\n",
    "figures_2020_rds_df.drop(\n",
    "    columns=[\n",
    "        \"relative_figure_page_url\",\n",
    "        \"figure_filename\",\n",
    "        \"source_f\",\n",
    "        \"type.man\",\n",
    "        \"automl_index\",\n",
    "    ],\n",
    "    inplace=True,\n",
    ")\n",
    "\n",
    "figures_2020_rds_df"
   ]
  },
  {
   "cell_type": "markdown",
   "metadata": {},
   "source": [
    "Expecting 64643"
   ]
  },
  {
   "cell_type": "code",
   "execution_count": 12,
   "metadata": {},
   "outputs": [
    {
     "data": {
      "text/plain": [
       "64643"
      ]
     },
     "execution_count": 12,
     "metadata": {},
     "output_type": "execute_result"
    }
   ],
   "source": [
    "len(set(figures_2020_rds_df[\"pfocr_id\"].to_list()))"
   ]
  },
  {
   "cell_type": "code",
   "execution_count": 13,
   "metadata": {},
   "outputs": [
    {
     "name": "stdout",
     "output_type": "stream",
     "text": [
      "14\n"
     ]
    },
    {
     "data": {
      "text/plain": [
       "Index(['pfocr_id', 'figure_number', 'reference', 'publication_year',\n",
       "       'pathway_score', 'pmc_search_index', 'figure_title', 'paper_title',\n",
       "       'figure_caption', 'pmc_id', 'paper_url', 'figure_page_url',\n",
       "       'figure_thumbnail_url', 'pfocr_year'],\n",
       "      dtype='object')"
      ]
     },
     "execution_count": 13,
     "metadata": {},
     "output_type": "execute_result"
    }
   ],
   "source": [
    "print(len(figures_2020_rds_df.columns))\n",
    "figures_2020_rds_df.columns"
   ]
  },
  {
   "cell_type": "code",
   "execution_count": 14,
   "metadata": {},
   "outputs": [
    {
     "data": {
      "text/plain": [
       "63917"
      ]
     },
     "execution_count": 14,
     "metadata": {},
     "output_type": "execute_result"
    }
   ],
   "source": [
    "len(\n",
    "    set(figures_2020_db_df[\"pfocr_id\"].to_list())\n",
    "    & set(figures_2020_rds_df[\"pfocr_id\"].to_list())\n",
    ")"
   ]
  },
  {
   "cell_type": "code",
   "execution_count": 15,
   "metadata": {},
   "outputs": [
    {
     "data": {
      "text/plain": [
       "50200"
      ]
     },
     "execution_count": 15,
     "metadata": {},
     "output_type": "execute_result"
    }
   ],
   "source": [
    "len(\n",
    "    set(figures_2020_db_df[\"pfocr_id\"].to_list())\n",
    "    - set(figures_2020_rds_df[\"pfocr_id\"].to_list())\n",
    ")"
   ]
  },
  {
   "cell_type": "code",
   "execution_count": 16,
   "metadata": {},
   "outputs": [
    {
     "data": {
      "text/plain": [
       "726"
      ]
     },
     "execution_count": 16,
     "metadata": {},
     "output_type": "execute_result"
    }
   ],
   "source": [
    "len(\n",
    "    set(figures_2020_rds_df[\"pfocr_id\"].to_list())\n",
    "    - set(figures_2020_db_df[\"pfocr_id\"].to_list())\n",
    ")"
   ]
  },
  {
   "cell_type": "markdown",
   "metadata": {},
   "source": [
    "### Import Genes 2020\n",
    "\n",
    "Expecting 1112551 rows × 8 columns"
   ]
  },
  {
   "cell_type": "code",
   "execution_count": 17,
   "metadata": {},
   "outputs": [
    {
     "data": {
      "text/html": [
       "<div>\n",
       "<style scoped>\n",
       "    .dataframe tbody tr th:only-of-type {\n",
       "        vertical-align: middle;\n",
       "    }\n",
       "\n",
       "    .dataframe tbody tr th {\n",
       "        vertical-align: top;\n",
       "    }\n",
       "\n",
       "    .dataframe thead th {\n",
       "        text-align: right;\n",
       "    }\n",
       "</style>\n",
       "<table border=\"1\" class=\"dataframe\">\n",
       "  <thead>\n",
       "    <tr style=\"text-align: right;\">\n",
       "      <th></th>\n",
       "      <th>pfocr_id</th>\n",
       "      <th>pmc_id</th>\n",
       "      <th>matched_ocr_text</th>\n",
       "      <th>lexicon_term</th>\n",
       "      <th>lexicon_term_source</th>\n",
       "      <th>hgnc_symbol</th>\n",
       "      <th>ncbigene_id</th>\n",
       "      <th>pfocr_year</th>\n",
       "    </tr>\n",
       "  </thead>\n",
       "  <tbody>\n",
       "    <tr>\n",
       "      <th>1</th>\n",
       "      <td>PMC100003__mb2410470011.jpg</td>\n",
       "      <td>PMC100003</td>\n",
       "      <td>Ga12,Gaq</td>\n",
       "      <td>G-ALPHA-q</td>\n",
       "      <td>hgnc_alias_symbol</td>\n",
       "      <td>GNAQ</td>\n",
       "      <td>2776</td>\n",
       "      <td>2020</td>\n",
       "    </tr>\n",
       "    <tr>\n",
       "      <th>2</th>\n",
       "      <td>PMC100003__mb2410470011.jpg</td>\n",
       "      <td>PMC100003</td>\n",
       "      <td>Etk</td>\n",
       "      <td>ETK</td>\n",
       "      <td>hgnc_alias_symbol</td>\n",
       "      <td>BMX</td>\n",
       "      <td>660</td>\n",
       "      <td>2020</td>\n",
       "    </tr>\n",
       "    <tr>\n",
       "      <th>3</th>\n",
       "      <td>PMC100003__mb2410470011.jpg</td>\n",
       "      <td>PMC100003</td>\n",
       "      <td>FAK</td>\n",
       "      <td>FAK</td>\n",
       "      <td>hgnc_alias_symbol</td>\n",
       "      <td>PTK2</td>\n",
       "      <td>5747</td>\n",
       "      <td>2020</td>\n",
       "    </tr>\n",
       "    <tr>\n",
       "      <th>4</th>\n",
       "      <td>PMC100003__mb2410470011.jpg</td>\n",
       "      <td>PMC100003</td>\n",
       "      <td>AR*</td>\n",
       "      <td>AR</td>\n",
       "      <td>hgnc_symbol</td>\n",
       "      <td>AR</td>\n",
       "      <td>367</td>\n",
       "      <td>2020</td>\n",
       "    </tr>\n",
       "    <tr>\n",
       "      <th>5</th>\n",
       "      <td>PMC100003__mb2410470011.jpg</td>\n",
       "      <td>PMC100003</td>\n",
       "      <td>(Src</td>\n",
       "      <td>SRC</td>\n",
       "      <td>hgnc_symbol</td>\n",
       "      <td>SRC</td>\n",
       "      <td>6714</td>\n",
       "      <td>2020</td>\n",
       "    </tr>\n",
       "    <tr>\n",
       "      <th>...</th>\n",
       "      <td>...</td>\n",
       "      <td>...</td>\n",
       "      <td>...</td>\n",
       "      <td>...</td>\n",
       "      <td>...</td>\n",
       "      <td>...</td>\n",
       "      <td>...</td>\n",
       "      <td>...</td>\n",
       "    </tr>\n",
       "    <tr>\n",
       "      <th>1112547</th>\n",
       "      <td>PMC99976__mb2310138007.jpg</td>\n",
       "      <td>PMC99976</td>\n",
       "      <td>MEK-2</td>\n",
       "      <td>MEK2</td>\n",
       "      <td>hgnc_alias_symbol</td>\n",
       "      <td>MAP2K2</td>\n",
       "      <td>5605</td>\n",
       "      <td>2020</td>\n",
       "    </tr>\n",
       "    <tr>\n",
       "      <th>1112548</th>\n",
       "      <td>PMC99976__mb2310138007.jpg</td>\n",
       "      <td>PMC99976</td>\n",
       "      <td>RAS</td>\n",
       "      <td>RAS</td>\n",
       "      <td>bioentities_symbol</td>\n",
       "      <td>HRAS</td>\n",
       "      <td>3265</td>\n",
       "      <td>2020</td>\n",
       "    </tr>\n",
       "    <tr>\n",
       "      <th>1112549</th>\n",
       "      <td>PMC99976__mb2310138007.jpg</td>\n",
       "      <td>PMC99976</td>\n",
       "      <td>RAS</td>\n",
       "      <td>RAS</td>\n",
       "      <td>bioentities_symbol</td>\n",
       "      <td>KRAS</td>\n",
       "      <td>3845</td>\n",
       "      <td>2020</td>\n",
       "    </tr>\n",
       "    <tr>\n",
       "      <th>1112550</th>\n",
       "      <td>PMC99976__mb2310138007.jpg</td>\n",
       "      <td>PMC99976</td>\n",
       "      <td>RAS</td>\n",
       "      <td>RAS</td>\n",
       "      <td>bioentities_symbol</td>\n",
       "      <td>NRAS</td>\n",
       "      <td>4893</td>\n",
       "      <td>2020</td>\n",
       "    </tr>\n",
       "    <tr>\n",
       "      <th>1112551</th>\n",
       "      <td>PMC99976__mb2310138007.jpg</td>\n",
       "      <td>PMC99976</td>\n",
       "      <td>SOS-1</td>\n",
       "      <td>SOS1</td>\n",
       "      <td>hgnc_symbol</td>\n",
       "      <td>SOS1</td>\n",
       "      <td>6654</td>\n",
       "      <td>2020</td>\n",
       "    </tr>\n",
       "  </tbody>\n",
       "</table>\n",
       "<p>1112551 rows × 8 columns</p>\n",
       "</div>"
      ],
      "text/plain": [
       "                            pfocr_id     pmc_id matched_ocr_text lexicon_term  \\\n",
       "1        PMC100003__mb2410470011.jpg  PMC100003         Ga12,Gaq    G-ALPHA-q   \n",
       "2        PMC100003__mb2410470011.jpg  PMC100003              Etk          ETK   \n",
       "3        PMC100003__mb2410470011.jpg  PMC100003              FAK          FAK   \n",
       "4        PMC100003__mb2410470011.jpg  PMC100003              AR*           AR   \n",
       "5        PMC100003__mb2410470011.jpg  PMC100003             (Src          SRC   \n",
       "...                              ...        ...              ...          ...   \n",
       "1112547   PMC99976__mb2310138007.jpg   PMC99976            MEK-2         MEK2   \n",
       "1112548   PMC99976__mb2310138007.jpg   PMC99976              RAS          RAS   \n",
       "1112549   PMC99976__mb2310138007.jpg   PMC99976              RAS          RAS   \n",
       "1112550   PMC99976__mb2310138007.jpg   PMC99976              RAS          RAS   \n",
       "1112551   PMC99976__mb2310138007.jpg   PMC99976            SOS-1         SOS1   \n",
       "\n",
       "        lexicon_term_source hgnc_symbol  ncbigene_id  pfocr_year  \n",
       "1         hgnc_alias_symbol        GNAQ         2776        2020  \n",
       "2         hgnc_alias_symbol         BMX          660        2020  \n",
       "3         hgnc_alias_symbol        PTK2         5747        2020  \n",
       "4               hgnc_symbol          AR          367        2020  \n",
       "5               hgnc_symbol         SRC         6714        2020  \n",
       "...                     ...         ...          ...         ...  \n",
       "1112547   hgnc_alias_symbol      MAP2K2         5605        2020  \n",
       "1112548  bioentities_symbol        HRAS         3265        2020  \n",
       "1112549  bioentities_symbol        KRAS         3845        2020  \n",
       "1112550  bioentities_symbol        NRAS         4893        2020  \n",
       "1112551         hgnc_symbol        SOS1         6654        2020  \n",
       "\n",
       "[1112551 rows x 8 columns]"
      ]
     },
     "execution_count": 17,
     "metadata": {},
     "output_type": "execute_result"
    }
   ],
   "source": [
    "genes_2020_rds_url = (\n",
    "    \"https://www.dropbox.com/s/alf7auvxve36oer/pfocr_genes.rds?dl=1\"\n",
    ")\n",
    "\n",
    "with tempfile.NamedTemporaryFile(suffix=\".rds\") as f:\n",
    "    pfocr_genes_2020_rds_path = f.name\n",
    "    with requests.get(genes_2020_rds_url, stream=True) as r:\n",
    "        for chunk in r.iter_content(chunk_size=128):\n",
    "            f.write(chunk)\n",
    "        f.seek(0)\n",
    "\n",
    "    genes_2020_df = rds2pandas(pfocr_genes_2020_rds_path).rename(\n",
    "        columns={\n",
    "            \"figid\": \"pfocr_id\",\n",
    "            \"pmcid\": \"pmc_id\",\n",
    "            \"entrez\": \"ncbigene_id\",\n",
    "            \"word\": \"matched_ocr_text\",\n",
    "            \"symbol\": \"lexicon_term\",\n",
    "            \"source\": \"lexicon_term_source\",\n",
    "        }\n",
    "    )\n",
    "\n",
    "genes_2020_df[\"pfocr_year\"] = 2020\n",
    "\n",
    "genes_2020_df"
   ]
  },
  {
   "cell_type": "code",
   "execution_count": 18,
   "metadata": {
    "tags": []
   },
   "outputs": [
    {
     "data": {
      "text/plain": [
       "58962"
      ]
     },
     "execution_count": 18,
     "metadata": {},
     "output_type": "execute_result"
    }
   ],
   "source": [
    "len(set(genes_2020_df[\"pfocr_id\"].to_list()))"
   ]
  },
  {
   "cell_type": "code",
   "execution_count": 19,
   "metadata": {},
   "outputs": [
    {
     "data": {
      "text/plain": [
       "0"
      ]
     },
     "execution_count": 19,
     "metadata": {},
     "output_type": "execute_result"
    }
   ],
   "source": [
    "len(\n",
    "    set(genes_2020_df[\"pfocr_id\"].to_list())\n",
    "    - set(figures_2020_rds_df[\"pfocr_id\"].to_list())\n",
    ")"
   ]
  },
  {
   "cell_type": "code",
   "execution_count": 20,
   "metadata": {},
   "outputs": [
    {
     "data": {
      "text/plain": [
       "0"
      ]
     },
     "execution_count": 20,
     "metadata": {},
     "output_type": "execute_result"
    }
   ],
   "source": [
    "len(\n",
    "    set(genes_2020_df[\"pfocr_id\"].to_list())\n",
    "    - set(figures_2020_db_df[\"pfocr_id\"].to_list())\n",
    ")"
   ]
  },
  {
   "cell_type": "code",
   "execution_count": 21,
   "metadata": {},
   "outputs": [
    {
     "name": "stdout",
     "output_type": "stream",
     "text": [
      "False\n"
     ]
    }
   ],
   "source": [
    "print(\"PMC6936734__nihms-1063332-f0001.jpg\" in set(genes_2020_df[\"pfocr_id\"]))"
   ]
  },
  {
   "cell_type": "markdown",
   "metadata": {},
   "source": [
    "## Import Data 2021"
   ]
  },
  {
   "cell_type": "markdown",
   "metadata": {},
   "source": [
    "### Import Figures 2021"
   ]
  },
  {
   "cell_type": "code",
   "execution_count": 22,
   "metadata": {},
   "outputs": [],
   "source": [
    "target_date = \"20210513\"\n",
    "images_dir = Path(f\"../data/images/{target_date}\")"
   ]
  },
  {
   "cell_type": "markdown",
   "metadata": {},
   "source": [
    "OLD: Previously (when not doing any checking for duplicate pfocr_id), we got 15955 rows × 14 columns.\n",
    "\n",
    "CORRECT: But when only excluding hits from any pfocr_id the 2020 database (meaning we actually ran it), we expect 15914 rows × 13 columns."
   ]
  },
  {
   "cell_type": "code",
   "execution_count": 23,
   "metadata": {},
   "outputs": [
    {
     "data": {
      "text/html": [
       "<div>\n",
       "<style scoped>\n",
       "    .dataframe tbody tr th:only-of-type {\n",
       "        vertical-align: middle;\n",
       "    }\n",
       "\n",
       "    .dataframe tbody tr th {\n",
       "        vertical-align: top;\n",
       "    }\n",
       "\n",
       "    .dataframe thead th {\n",
       "        text-align: right;\n",
       "    }\n",
       "</style>\n",
       "<table border=\"1\" class=\"dataframe\">\n",
       "  <thead>\n",
       "    <tr style=\"text-align: right;\">\n",
       "      <th></th>\n",
       "      <th>pfocr_id</th>\n",
       "      <th>figure_page_url</th>\n",
       "      <th>figure_thumbnail_url</th>\n",
       "      <th>figure_number</th>\n",
       "      <th>figure_title</th>\n",
       "      <th>figure_caption</th>\n",
       "      <th>pmc_id</th>\n",
       "      <th>paper_url</th>\n",
       "      <th>paper_title</th>\n",
       "      <th>reference</th>\n",
       "      <th>pmc_search_index</th>\n",
       "      <th>pathway_score</th>\n",
       "      <th>pfocr_year</th>\n",
       "    </tr>\n",
       "  </thead>\n",
       "  <tbody>\n",
       "    <tr>\n",
       "      <th>11</th>\n",
       "      <td>PMC7226520__cells-09-01043-g007.jpg</td>\n",
       "      <td>https://www.ncbi.nlm.nih.gov/pmc/articles/PMC7...</td>\n",
       "      <td>https://www.ncbi.nlm.nih.gov/pmc/articles/PMC7...</td>\n",
       "      <td>Figure 7</td>\n",
       "      <td>Comparative downstream pathway analysis of the...</td>\n",
       "      <td>Comparative downstream pathway analysis of the...</td>\n",
       "      <td>PMC7226520</td>\n",
       "      <td>https://www.ncbi.nlm.nih.gov/pmc/articles/PMC7...</td>\n",
       "      <td>A STAT3 of Addiction: Adipose Tissue, Adipocyt...</td>\n",
       "      <td>Rose Kadye, et al. Cells. 2020 Apr;9(4):1043.</td>\n",
       "      <td>12</td>\n",
       "      <td>0.811027</td>\n",
       "      <td>2021</td>\n",
       "    </tr>\n",
       "    <tr>\n",
       "      <th>16</th>\n",
       "      <td>PMC7346062__aging-12-103262-g005.jpg</td>\n",
       "      <td>https://www.ncbi.nlm.nih.gov/pmc/articles/PMC7...</td>\n",
       "      <td>https://www.ncbi.nlm.nih.gov/pmc/articles/PMC7...</td>\n",
       "      <td>Figure 5</td>\n",
       "      <td>KEGG pathways related to resveratrol-targeted ...</td>\n",
       "      <td>KEGG pathways related to resveratrol-targeted ...</td>\n",
       "      <td>PMC7346062</td>\n",
       "      <td>https://www.ncbi.nlm.nih.gov/pmc/articles/PMC7...</td>\n",
       "      <td>Resveratrol promotes osteogenesis and alleviat...</td>\n",
       "      <td>Tao Yu, et al. Aging (Albany NY). 2020 Jun 15;...</td>\n",
       "      <td>17</td>\n",
       "      <td>0.943144</td>\n",
       "      <td>2021</td>\n",
       "    </tr>\n",
       "    <tr>\n",
       "      <th>21</th>\n",
       "      <td>PMC7063815__13578_2020_396_Fig2_HTML.jpg</td>\n",
       "      <td>https://www.ncbi.nlm.nih.gov/pmc/articles/PMC7...</td>\n",
       "      <td>https://www.ncbi.nlm.nih.gov/pmc/articles/PMC7...</td>\n",
       "      <td>Fig. 2</td>\n",
       "      <td>Interaction between tumor metabolism and the m...</td>\n",
       "      <td>Interaction between tumor metabolism and the m...</td>\n",
       "      <td>PMC7063815</td>\n",
       "      <td>https://www.ncbi.nlm.nih.gov/pmc/articles/PMC7...</td>\n",
       "      <td>mTOR signaling pathway and mTOR inhibitors in ...</td>\n",
       "      <td>Zhilin Zou, et al. Cell Biosci. 2020;10:31.</td>\n",
       "      <td>22</td>\n",
       "      <td>0.943767</td>\n",
       "      <td>2021</td>\n",
       "    </tr>\n",
       "    <tr>\n",
       "      <th>22</th>\n",
       "      <td>PMC6497965__zbc0191904900006.jpg</td>\n",
       "      <td>https://www.ncbi.nlm.nih.gov/pmc/articles/PMC6...</td>\n",
       "      <td>https://www.ncbi.nlm.nih.gov/pmc/articles/PMC6...</td>\n",
       "      <td>Figure 6</td>\n",
       "      <td>A proposed signaling cascade for phosphorylate...</td>\n",
       "      <td>A proposed signaling cascade for phosphorylate...</td>\n",
       "      <td>PMC6497965</td>\n",
       "      <td>https://www.ncbi.nlm.nih.gov/pmc/articles/PMC6...</td>\n",
       "      <td>Phosphorylation of proliferating cell nuclear ...</td>\n",
       "      <td>Bo Peng, et al. J Biol Chem. 2019 Apr 26;294(1...</td>\n",
       "      <td>23</td>\n",
       "      <td>0.603429</td>\n",
       "      <td>2021</td>\n",
       "    </tr>\n",
       "    <tr>\n",
       "      <th>23</th>\n",
       "      <td>PMC7538683__bsr-40-bsr20202711-g5.jpg</td>\n",
       "      <td>https://www.ncbi.nlm.nih.gov/pmc/articles/PMC7...</td>\n",
       "      <td>https://www.ncbi.nlm.nih.gov/pmc/articles/PMC7...</td>\n",
       "      <td>Figure 5</td>\n",
       "      <td></td>\n",
       "      <td>(A) Cell cycle signaling pathway is significan...</td>\n",
       "      <td>PMC7538683</td>\n",
       "      <td>https://www.ncbi.nlm.nih.gov/pmc/articles/PMC7...</td>\n",
       "      <td>Bioinformatics analysis and experimental valid...</td>\n",
       "      <td>Jiajia Chen, et al. Biosci Rep. 2020 Oct 30;40...</td>\n",
       "      <td>24</td>\n",
       "      <td>0.863582</td>\n",
       "      <td>2021</td>\n",
       "    </tr>\n",
       "    <tr>\n",
       "      <th>...</th>\n",
       "      <td>...</td>\n",
       "      <td>...</td>\n",
       "      <td>...</td>\n",
       "      <td>...</td>\n",
       "      <td>...</td>\n",
       "      <td>...</td>\n",
       "      <td>...</td>\n",
       "      <td>...</td>\n",
       "      <td>...</td>\n",
       "      <td>...</td>\n",
       "      <td>...</td>\n",
       "      <td>...</td>\n",
       "      <td>...</td>\n",
       "    </tr>\n",
       "    <tr>\n",
       "      <th>124414</th>\n",
       "      <td>PMC7803631__gr3a.jpg</td>\n",
       "      <td>None</td>\n",
       "      <td>https://www.ncbi.nlm.nih.gov/pmc/articles/PMC7...</td>\n",
       "      <td></td>\n",
       "      <td>Fig</td>\n",
       "      <td>Cell free biosynthesis for erythromycin A. The...</td>\n",
       "      <td>PMC7803631</td>\n",
       "      <td>https://www.ncbi.nlm.nih.gov/pmc/articles/PMC7...</td>\n",
       "      <td>Complex natural product production methods and...</td>\n",
       "      <td>Dongwon Park, et al. Synth Syst Biotechnol. 20...</td>\n",
       "      <td>124515</td>\n",
       "      <td>0.648432</td>\n",
       "      <td>2021</td>\n",
       "    </tr>\n",
       "    <tr>\n",
       "      <th>124421</th>\n",
       "      <td>PMC7359798__gr2_lrg.jpg</td>\n",
       "      <td>https://www.ncbi.nlm.nih.gov/pmc/articles/PMC7...</td>\n",
       "      <td>https://www.ncbi.nlm.nih.gov/pmc/articles/PMC7...</td>\n",
       "      <td>Figure 2</td>\n",
       "      <td>RNA Sensing and ResponseNon-comprehensive over...</td>\n",
       "      <td>RNA Sensing and ResponseNon-comprehensive over...</td>\n",
       "      <td>PMC7359798</td>\n",
       "      <td>https://www.ncbi.nlm.nih.gov/pmc/articles/PMC7...</td>\n",
       "      <td>Immune Sensing Mechanisms that Discriminate Se...</td>\n",
       "      <td>Eva Bartok, et al. Immunity. 2020 Jul 14;53(1)...</td>\n",
       "      <td>124522</td>\n",
       "      <td>0.922250</td>\n",
       "      <td>2021</td>\n",
       "    </tr>\n",
       "    <tr>\n",
       "      <th>124439</th>\n",
       "      <td>PMC7530268__fonc-10-586530-g0001.jpg</td>\n",
       "      <td>https://www.ncbi.nlm.nih.gov/pmc/articles/PMC7...</td>\n",
       "      <td>https://www.ncbi.nlm.nih.gov/pmc/articles/PMC7...</td>\n",
       "      <td>Figure 1</td>\n",
       "      <td>The ferroptotic cascade</td>\n",
       "      <td>The ferroptotic cascade. Accumulation of free ...</td>\n",
       "      <td>PMC7530268</td>\n",
       "      <td>https://www.ncbi.nlm.nih.gov/pmc/articles/PMC7...</td>\n",
       "      <td>From Iron Chelation to Overload as a Therapeut...</td>\n",
       "      <td>Eric Grignano, et al. Front Oncol. 2020;10:586...</td>\n",
       "      <td>124540</td>\n",
       "      <td>0.952995</td>\n",
       "      <td>2021</td>\n",
       "    </tr>\n",
       "    <tr>\n",
       "      <th>124445</th>\n",
       "      <td>PMC7466447__fcell-08-00766-g001.jpg</td>\n",
       "      <td>https://www.ncbi.nlm.nih.gov/pmc/articles/PMC7...</td>\n",
       "      <td>https://www.ncbi.nlm.nih.gov/pmc/articles/PMC7...</td>\n",
       "      <td>FIGURE 1</td>\n",
       "      <td>Immunoregulatory functions of TEC in the TME</td>\n",
       "      <td>Immunoregulatory functions of TEC in the TME. ...</td>\n",
       "      <td>PMC7466447</td>\n",
       "      <td>https://www.ncbi.nlm.nih.gov/pmc/articles/PMC7...</td>\n",
       "      <td>Tumor Endothelial Cells (TECs) as Potential Im...</td>\n",
       "      <td>Laurenz Nagl, et al. Front Cell Dev Biol. 2020...</td>\n",
       "      <td>124546</td>\n",
       "      <td>0.933006</td>\n",
       "      <td>2021</td>\n",
       "    </tr>\n",
       "    <tr>\n",
       "      <th>124459</th>\n",
       "      <td>PMC7352181__cancers-12-01457-g002.jpg</td>\n",
       "      <td>https://www.ncbi.nlm.nih.gov/pmc/articles/PMC7...</td>\n",
       "      <td>https://www.ncbi.nlm.nih.gov/pmc/articles/PMC7...</td>\n",
       "      <td>Figure 2</td>\n",
       "      <td>Angiotensin-associated pathways associated wit...</td>\n",
       "      <td>Angiotensin-associated pathways associated wit...</td>\n",
       "      <td>PMC7352181</td>\n",
       "      <td>https://www.ncbi.nlm.nih.gov/pmc/articles/PMC7...</td>\n",
       "      <td>Renin-Angiotensin System in Lung Tumor and Mic...</td>\n",
       "      <td>Maria Joana Catarata, et al. Cancers (Basel). ...</td>\n",
       "      <td>124560</td>\n",
       "      <td>0.956203</td>\n",
       "      <td>2021</td>\n",
       "    </tr>\n",
       "  </tbody>\n",
       "</table>\n",
       "<p>15914 rows × 13 columns</p>\n",
       "</div>"
      ],
      "text/plain": [
       "                                        pfocr_id  \\\n",
       "11           PMC7226520__cells-09-01043-g007.jpg   \n",
       "16          PMC7346062__aging-12-103262-g005.jpg   \n",
       "21      PMC7063815__13578_2020_396_Fig2_HTML.jpg   \n",
       "22              PMC6497965__zbc0191904900006.jpg   \n",
       "23         PMC7538683__bsr-40-bsr20202711-g5.jpg   \n",
       "...                                          ...   \n",
       "124414                      PMC7803631__gr3a.jpg   \n",
       "124421                   PMC7359798__gr2_lrg.jpg   \n",
       "124439      PMC7530268__fonc-10-586530-g0001.jpg   \n",
       "124445       PMC7466447__fcell-08-00766-g001.jpg   \n",
       "124459     PMC7352181__cancers-12-01457-g002.jpg   \n",
       "\n",
       "                                          figure_page_url  \\\n",
       "11      https://www.ncbi.nlm.nih.gov/pmc/articles/PMC7...   \n",
       "16      https://www.ncbi.nlm.nih.gov/pmc/articles/PMC7...   \n",
       "21      https://www.ncbi.nlm.nih.gov/pmc/articles/PMC7...   \n",
       "22      https://www.ncbi.nlm.nih.gov/pmc/articles/PMC6...   \n",
       "23      https://www.ncbi.nlm.nih.gov/pmc/articles/PMC7...   \n",
       "...                                                   ...   \n",
       "124414                                               None   \n",
       "124421  https://www.ncbi.nlm.nih.gov/pmc/articles/PMC7...   \n",
       "124439  https://www.ncbi.nlm.nih.gov/pmc/articles/PMC7...   \n",
       "124445  https://www.ncbi.nlm.nih.gov/pmc/articles/PMC7...   \n",
       "124459  https://www.ncbi.nlm.nih.gov/pmc/articles/PMC7...   \n",
       "\n",
       "                                     figure_thumbnail_url figure_number  \\\n",
       "11      https://www.ncbi.nlm.nih.gov/pmc/articles/PMC7...      Figure 7   \n",
       "16      https://www.ncbi.nlm.nih.gov/pmc/articles/PMC7...      Figure 5   \n",
       "21      https://www.ncbi.nlm.nih.gov/pmc/articles/PMC7...        Fig. 2   \n",
       "22      https://www.ncbi.nlm.nih.gov/pmc/articles/PMC6...      Figure 6   \n",
       "23      https://www.ncbi.nlm.nih.gov/pmc/articles/PMC7...      Figure 5   \n",
       "...                                                   ...           ...   \n",
       "124414  https://www.ncbi.nlm.nih.gov/pmc/articles/PMC7...                 \n",
       "124421  https://www.ncbi.nlm.nih.gov/pmc/articles/PMC7...      Figure 2   \n",
       "124439  https://www.ncbi.nlm.nih.gov/pmc/articles/PMC7...      Figure 1   \n",
       "124445  https://www.ncbi.nlm.nih.gov/pmc/articles/PMC7...      FIGURE 1   \n",
       "124459  https://www.ncbi.nlm.nih.gov/pmc/articles/PMC7...      Figure 2   \n",
       "\n",
       "                                             figure_title  \\\n",
       "11      Comparative downstream pathway analysis of the...   \n",
       "16      KEGG pathways related to resveratrol-targeted ...   \n",
       "21      Interaction between tumor metabolism and the m...   \n",
       "22      A proposed signaling cascade for phosphorylate...   \n",
       "23                                                          \n",
       "...                                                   ...   \n",
       "124414                                                Fig   \n",
       "124421  RNA Sensing and ResponseNon-comprehensive over...   \n",
       "124439                            The ferroptotic cascade   \n",
       "124445       Immunoregulatory functions of TEC in the TME   \n",
       "124459  Angiotensin-associated pathways associated wit...   \n",
       "\n",
       "                                           figure_caption      pmc_id  \\\n",
       "11      Comparative downstream pathway analysis of the...  PMC7226520   \n",
       "16      KEGG pathways related to resveratrol-targeted ...  PMC7346062   \n",
       "21      Interaction between tumor metabolism and the m...  PMC7063815   \n",
       "22      A proposed signaling cascade for phosphorylate...  PMC6497965   \n",
       "23      (A) Cell cycle signaling pathway is significan...  PMC7538683   \n",
       "...                                                   ...         ...   \n",
       "124414  Cell free biosynthesis for erythromycin A. The...  PMC7803631   \n",
       "124421  RNA Sensing and ResponseNon-comprehensive over...  PMC7359798   \n",
       "124439  The ferroptotic cascade. Accumulation of free ...  PMC7530268   \n",
       "124445  Immunoregulatory functions of TEC in the TME. ...  PMC7466447   \n",
       "124459  Angiotensin-associated pathways associated wit...  PMC7352181   \n",
       "\n",
       "                                                paper_url  \\\n",
       "11      https://www.ncbi.nlm.nih.gov/pmc/articles/PMC7...   \n",
       "16      https://www.ncbi.nlm.nih.gov/pmc/articles/PMC7...   \n",
       "21      https://www.ncbi.nlm.nih.gov/pmc/articles/PMC7...   \n",
       "22      https://www.ncbi.nlm.nih.gov/pmc/articles/PMC6...   \n",
       "23      https://www.ncbi.nlm.nih.gov/pmc/articles/PMC7...   \n",
       "...                                                   ...   \n",
       "124414  https://www.ncbi.nlm.nih.gov/pmc/articles/PMC7...   \n",
       "124421  https://www.ncbi.nlm.nih.gov/pmc/articles/PMC7...   \n",
       "124439  https://www.ncbi.nlm.nih.gov/pmc/articles/PMC7...   \n",
       "124445  https://www.ncbi.nlm.nih.gov/pmc/articles/PMC7...   \n",
       "124459  https://www.ncbi.nlm.nih.gov/pmc/articles/PMC7...   \n",
       "\n",
       "                                              paper_title  \\\n",
       "11      A STAT3 of Addiction: Adipose Tissue, Adipocyt...   \n",
       "16      Resveratrol promotes osteogenesis and alleviat...   \n",
       "21      mTOR signaling pathway and mTOR inhibitors in ...   \n",
       "22      Phosphorylation of proliferating cell nuclear ...   \n",
       "23      Bioinformatics analysis and experimental valid...   \n",
       "...                                                   ...   \n",
       "124414  Complex natural product production methods and...   \n",
       "124421  Immune Sensing Mechanisms that Discriminate Se...   \n",
       "124439  From Iron Chelation to Overload as a Therapeut...   \n",
       "124445  Tumor Endothelial Cells (TECs) as Potential Im...   \n",
       "124459  Renin-Angiotensin System in Lung Tumor and Mic...   \n",
       "\n",
       "                                                reference pmc_search_index  \\\n",
       "11          Rose Kadye, et al. Cells. 2020 Apr;9(4):1043.               12   \n",
       "16      Tao Yu, et al. Aging (Albany NY). 2020 Jun 15;...               17   \n",
       "21            Zhilin Zou, et al. Cell Biosci. 2020;10:31.               22   \n",
       "22      Bo Peng, et al. J Biol Chem. 2019 Apr 26;294(1...               23   \n",
       "23      Jiajia Chen, et al. Biosci Rep. 2020 Oct 30;40...               24   \n",
       "...                                                   ...              ...   \n",
       "124414  Dongwon Park, et al. Synth Syst Biotechnol. 20...           124515   \n",
       "124421  Eva Bartok, et al. Immunity. 2020 Jul 14;53(1)...           124522   \n",
       "124439  Eric Grignano, et al. Front Oncol. 2020;10:586...           124540   \n",
       "124445  Laurenz Nagl, et al. Front Cell Dev Biol. 2020...           124546   \n",
       "124459  Maria Joana Catarata, et al. Cancers (Basel). ...           124560   \n",
       "\n",
       "        pathway_score  pfocr_year  \n",
       "11           0.811027        2021  \n",
       "16           0.943144        2021  \n",
       "21           0.943767        2021  \n",
       "22           0.603429        2021  \n",
       "23           0.863582        2021  \n",
       "...               ...         ...  \n",
       "124414       0.648432        2021  \n",
       "124421       0.922250        2021  \n",
       "124439       0.952995        2021  \n",
       "124445       0.933006        2021  \n",
       "124459       0.956203        2021  \n",
       "\n",
       "[15914 rows x 13 columns]"
      ]
     },
     "execution_count": 23,
     "metadata": {},
     "output_type": "execute_result"
    }
   ],
   "source": [
    "figures_2021_df = rds2pandas(images_dir.joinpath(\"pfocr_figures_2021.rds\"))\n",
    "\n",
    "figures_2021_df"
   ]
  },
  {
   "cell_type": "code",
   "execution_count": 24,
   "metadata": {},
   "outputs": [
    {
     "data": {
      "text/plain": [
       "608"
      ]
     },
     "execution_count": 24,
     "metadata": {},
     "output_type": "execute_result"
    }
   ],
   "source": [
    "len(\n",
    "    set(figures_2021_df[\"pfocr_id\"].to_list())\n",
    "    & set(figures_2020_rds_df[\"pfocr_id\"].to_list())\n",
    ")"
   ]
  },
  {
   "cell_type": "code",
   "execution_count": 25,
   "metadata": {},
   "outputs": [
    {
     "data": {
      "text/plain": [
       "0"
      ]
     },
     "execution_count": 25,
     "metadata": {},
     "output_type": "execute_result"
    }
   ],
   "source": [
    "len(\n",
    "    set(figures_2021_df[\"pfocr_id\"].to_list())\n",
    "    & set(figures_2020_db_df[\"pfocr_id\"].to_list())\n",
    ")"
   ]
  },
  {
   "cell_type": "code",
   "execution_count": 26,
   "metadata": {},
   "outputs": [
    {
     "name": "stdout",
     "output_type": "stream",
     "text": [
      "True\n"
     ]
    }
   ],
   "source": [
    "print(\"PMC6936734__nihms-1063332-f0001.jpg\" in set(figures_2021_df[\"pfocr_id\"]))"
   ]
  },
  {
   "cell_type": "markdown",
   "metadata": {},
   "source": [
    "Previously (when not doing any checking for duplicate pfocr_id), we got 649 rows × 14 columns.\n",
    "\n",
    "But when only excluding hits from any pfocr_id the 2020 database (meaning we actually ran it), we expect 608 rows × 13 columns.\n",
    "\n",
    "Note we still get some duplicates between `figures_2020_rds_df[\"pfocr_id\"]` and `figures_2021_df[\"pfocr_id\"]`, because `figures_2020_rds_df` is based on the RDS file, not the database."
   ]
  },
  {
   "cell_type": "code",
   "execution_count": 27,
   "metadata": {},
   "outputs": [
    {
     "data": {
      "text/html": [
       "<div>\n",
       "<style scoped>\n",
       "    .dataframe tbody tr th:only-of-type {\n",
       "        vertical-align: middle;\n",
       "    }\n",
       "\n",
       "    .dataframe tbody tr th {\n",
       "        vertical-align: top;\n",
       "    }\n",
       "\n",
       "    .dataframe thead th {\n",
       "        text-align: right;\n",
       "    }\n",
       "</style>\n",
       "<table border=\"1\" class=\"dataframe\">\n",
       "  <thead>\n",
       "    <tr style=\"text-align: right;\">\n",
       "      <th></th>\n",
       "      <th>pfocr_id</th>\n",
       "      <th>figure_page_url</th>\n",
       "      <th>figure_thumbnail_url</th>\n",
       "      <th>figure_number</th>\n",
       "      <th>figure_title</th>\n",
       "      <th>figure_caption</th>\n",
       "      <th>pmc_id</th>\n",
       "      <th>paper_url</th>\n",
       "      <th>paper_title</th>\n",
       "      <th>reference</th>\n",
       "      <th>pmc_search_index</th>\n",
       "      <th>pathway_score</th>\n",
       "      <th>pfocr_year</th>\n",
       "    </tr>\n",
       "  </thead>\n",
       "  <tbody>\n",
       "    <tr>\n",
       "      <th>135</th>\n",
       "      <td>PMC6936734__nihms-1063332-f0001.jpg</td>\n",
       "      <td>https://www.ncbi.nlm.nih.gov/pmc/articles/PMC6...</td>\n",
       "      <td>https://www.ncbi.nlm.nih.gov/pmc/articles/PMC6...</td>\n",
       "      <td>Figure 1</td>\n",
       "      <td>Schematic representation of sphingosine-1-phos...</td>\n",
       "      <td>Schematic representation of sphingosine-1-phos...</td>\n",
       "      <td>PMC6936734</td>\n",
       "      <td>https://www.ncbi.nlm.nih.gov/pmc/articles/PMC6...</td>\n",
       "      <td>Sphingolipid metabolism and drug resistance in...</td>\n",
       "      <td>Kelly M. Kreitzburg, et al. Cancer Drug Resist...</td>\n",
       "      <td>136</td>\n",
       "      <td>0.956722</td>\n",
       "      <td>2021</td>\n",
       "    </tr>\n",
       "    <tr>\n",
       "      <th>224</th>\n",
       "      <td>PMC6932950__fcell-07-00335-g001.jpg</td>\n",
       "      <td>https://www.ncbi.nlm.nih.gov/pmc/articles/PMC6...</td>\n",
       "      <td>https://www.ncbi.nlm.nih.gov/pmc/articles/PMC6...</td>\n",
       "      <td>FIGURE 1</td>\n",
       "      <td>An overview of current and emerging agents for...</td>\n",
       "      <td>An overview of current and emerging agents for...</td>\n",
       "      <td>PMC6932950</td>\n",
       "      <td>https://www.ncbi.nlm.nih.gov/pmc/articles/PMC6...</td>\n",
       "      <td>Therapeutic and Mechanistic Perspectives of Pr...</td>\n",
       "      <td>Mark P. Waterhouse, et al. Front Cell Dev Biol...</td>\n",
       "      <td>225</td>\n",
       "      <td>0.915671</td>\n",
       "      <td>2021</td>\n",
       "    </tr>\n",
       "    <tr>\n",
       "      <th>415</th>\n",
       "      <td>PMC6944318__nihms-1063769-f0002.jpg</td>\n",
       "      <td>https://www.ncbi.nlm.nih.gov/pmc/articles/PMC6...</td>\n",
       "      <td>https://www.ncbi.nlm.nih.gov/pmc/articles/PMC6...</td>\n",
       "      <td>Figure 2:</td>\n",
       "      <td></td>\n",
       "      <td>To support proliferation, cells take up more g...</td>\n",
       "      <td>PMC6944318</td>\n",
       "      <td>https://www.ncbi.nlm.nih.gov/pmc/articles/PMC6...</td>\n",
       "      <td>Bioenergetics and translational metabolism: Im...</td>\n",
       "      <td>Bradford G. Hill, et al. Biol Chem. ;401(1):3-29.</td>\n",
       "      <td>416</td>\n",
       "      <td>0.898072</td>\n",
       "      <td>2021</td>\n",
       "    </tr>\n",
       "    <tr>\n",
       "      <th>540</th>\n",
       "      <td>PMC6902900__fimmu-10-02839-g0002.jpg</td>\n",
       "      <td>https://www.ncbi.nlm.nih.gov/pmc/articles/PMC6...</td>\n",
       "      <td>https://www.ncbi.nlm.nih.gov/pmc/articles/PMC6...</td>\n",
       "      <td>Figure 2</td>\n",
       "      <td>Overview of cellular metabolism in T cells</td>\n",
       "      <td>Overview of cellular metabolism in T cells. Th...</td>\n",
       "      <td>PMC6902900</td>\n",
       "      <td>https://www.ncbi.nlm.nih.gov/pmc/articles/PMC6...</td>\n",
       "      <td>Metabolic Pathways Involved in Regulatory T Ce...</td>\n",
       "      <td>Rosalie W. M. Kempkes, et al. Front Immunol. 2...</td>\n",
       "      <td>541</td>\n",
       "      <td>0.967499</td>\n",
       "      <td>2021</td>\n",
       "    </tr>\n",
       "    <tr>\n",
       "      <th>592</th>\n",
       "      <td>PMC6909948__jcav10p6848g004.jpg</td>\n",
       "      <td>https://www.ncbi.nlm.nih.gov/pmc/articles/PMC6...</td>\n",
       "      <td>https://www.ncbi.nlm.nih.gov/pmc/articles/PMC6...</td>\n",
       "      <td>Figure 4</td>\n",
       "      <td>cAMP can regulate multidrug-resistance in lung...</td>\n",
       "      <td>cAMP can regulate multidrug-resistance in lung...</td>\n",
       "      <td>PMC6909948</td>\n",
       "      <td>https://www.ncbi.nlm.nih.gov/pmc/articles/PMC6...</td>\n",
       "      <td>A perspective profile of ADCY1 in cAMP signali...</td>\n",
       "      <td>Ting Zou, et al. J Cancer. 2019;10(27):6848-6857.</td>\n",
       "      <td>593</td>\n",
       "      <td>0.960402</td>\n",
       "      <td>2021</td>\n",
       "    </tr>\n",
       "    <tr>\n",
       "      <th>...</th>\n",
       "      <td>...</td>\n",
       "      <td>...</td>\n",
       "      <td>...</td>\n",
       "      <td>...</td>\n",
       "      <td>...</td>\n",
       "      <td>...</td>\n",
       "      <td>...</td>\n",
       "      <td>...</td>\n",
       "      <td>...</td>\n",
       "      <td>...</td>\n",
       "      <td>...</td>\n",
       "      <td>...</td>\n",
       "      <td>...</td>\n",
       "    </tr>\n",
       "    <tr>\n",
       "      <th>123360</th>\n",
       "      <td>PMC6932173__fimmu-10-02900-g0006.jpg</td>\n",
       "      <td>https://www.ncbi.nlm.nih.gov/pmc/articles/PMC6...</td>\n",
       "      <td>https://www.ncbi.nlm.nih.gov/pmc/articles/PMC6...</td>\n",
       "      <td>Figure 6</td>\n",
       "      <td>Proposed inositol-requiring protein 1 alpha (I...</td>\n",
       "      <td>Proposed inositol-requiring protein 1 alpha (I...</td>\n",
       "      <td>PMC6932173</td>\n",
       "      <td>https://www.ncbi.nlm.nih.gov/pmc/articles/PMC6...</td>\n",
       "      <td>Molecular Insight Into the IRE1α-Mediated Type...</td>\n",
       "      <td>Maja Studencka-Turski, et al. Front Immunol. 2...</td>\n",
       "      <td>123461</td>\n",
       "      <td>0.914990</td>\n",
       "      <td>2021</td>\n",
       "    </tr>\n",
       "    <tr>\n",
       "      <th>123555</th>\n",
       "      <td>PMC6934036__fimmu-10-02854-g0001.jpg</td>\n",
       "      <td>https://www.ncbi.nlm.nih.gov/pmc/articles/PMC6...</td>\n",
       "      <td>https://www.ncbi.nlm.nih.gov/pmc/articles/PMC6...</td>\n",
       "      <td>Figure 1</td>\n",
       "      <td>A schematic illustration representing differen...</td>\n",
       "      <td>A schematic illustration representing differen...</td>\n",
       "      <td>PMC6934036</td>\n",
       "      <td>https://www.ncbi.nlm.nih.gov/pmc/articles/PMC6...</td>\n",
       "      <td>WNT Signaling in Tumors: The Way to Evade Drug...</td>\n",
       "      <td>Elena Martin-Orozco, et al. Front Immunol. 201...</td>\n",
       "      <td>123656</td>\n",
       "      <td>0.894541</td>\n",
       "      <td>2021</td>\n",
       "    </tr>\n",
       "    <tr>\n",
       "      <th>124075</th>\n",
       "      <td>PMC6892982__fcell-07-00308-g001.jpg</td>\n",
       "      <td>https://www.ncbi.nlm.nih.gov/pmc/articles/PMC6...</td>\n",
       "      <td>https://www.ncbi.nlm.nih.gov/pmc/articles/PMC6...</td>\n",
       "      <td>FIGURE 1</td>\n",
       "      <td>Autophagy regulators and functions associated ...</td>\n",
       "      <td>Autophagy regulators and functions associated ...</td>\n",
       "      <td>PMC6892982</td>\n",
       "      <td>https://www.ncbi.nlm.nih.gov/pmc/articles/PMC6...</td>\n",
       "      <td>Agephagy – Adapting Autophagy for Health Durin...</td>\n",
       "      <td>Eleanor R. Stead, et al. Front Cell Dev Biol. ...</td>\n",
       "      <td>124176</td>\n",
       "      <td>0.881064</td>\n",
       "      <td>2021</td>\n",
       "    </tr>\n",
       "    <tr>\n",
       "      <th>124142</th>\n",
       "      <td>PMC6952997__cells-08-01612-g008.jpg</td>\n",
       "      <td>https://www.ncbi.nlm.nih.gov/pmc/articles/PMC6...</td>\n",
       "      <td>https://www.ncbi.nlm.nih.gov/pmc/articles/PMC6...</td>\n",
       "      <td>Figure 8</td>\n",
       "      <td>Influence of ethylene on amount of compounds a...</td>\n",
       "      <td>Influence of ethylene on amount of compounds a...</td>\n",
       "      <td>PMC6952997</td>\n",
       "      <td>https://www.ncbi.nlm.nih.gov/pmc/articles/PMC6...</td>\n",
       "      <td>Effect of Ethylene on Cell Wall and Lipid Meta...</td>\n",
       "      <td>Yongchao Zhu, et al. Cells. 2019 Dec;8(12):1612.</td>\n",
       "      <td>124243</td>\n",
       "      <td>0.922297</td>\n",
       "      <td>2021</td>\n",
       "    </tr>\n",
       "    <tr>\n",
       "      <th>124216</th>\n",
       "      <td>PMC6921965__fonc-09-01388-g0001.jpg</td>\n",
       "      <td>https://www.ncbi.nlm.nih.gov/pmc/articles/PMC6...</td>\n",
       "      <td>https://www.ncbi.nlm.nih.gov/pmc/articles/PMC6...</td>\n",
       "      <td>Figure 1</td>\n",
       "      <td>DSB repair pathways in mammalian cells</td>\n",
       "      <td>DSB repair pathways in mammalian cells. Two-en...</td>\n",
       "      <td>PMC6921965</td>\n",
       "      <td>https://www.ncbi.nlm.nih.gov/pmc/articles/PMC6...</td>\n",
       "      <td>Harnessing DNA Double-Strand Break Repair for ...</td>\n",
       "      <td>Anika Trenner, et al. Front Oncol. 2019;9:1388.</td>\n",
       "      <td>124317</td>\n",
       "      <td>0.926969</td>\n",
       "      <td>2021</td>\n",
       "    </tr>\n",
       "  </tbody>\n",
       "</table>\n",
       "<p>608 rows × 13 columns</p>\n",
       "</div>"
      ],
      "text/plain": [
       "                                    pfocr_id  \\\n",
       "135      PMC6936734__nihms-1063332-f0001.jpg   \n",
       "224      PMC6932950__fcell-07-00335-g001.jpg   \n",
       "415      PMC6944318__nihms-1063769-f0002.jpg   \n",
       "540     PMC6902900__fimmu-10-02839-g0002.jpg   \n",
       "592          PMC6909948__jcav10p6848g004.jpg   \n",
       "...                                      ...   \n",
       "123360  PMC6932173__fimmu-10-02900-g0006.jpg   \n",
       "123555  PMC6934036__fimmu-10-02854-g0001.jpg   \n",
       "124075   PMC6892982__fcell-07-00308-g001.jpg   \n",
       "124142   PMC6952997__cells-08-01612-g008.jpg   \n",
       "124216   PMC6921965__fonc-09-01388-g0001.jpg   \n",
       "\n",
       "                                          figure_page_url  \\\n",
       "135     https://www.ncbi.nlm.nih.gov/pmc/articles/PMC6...   \n",
       "224     https://www.ncbi.nlm.nih.gov/pmc/articles/PMC6...   \n",
       "415     https://www.ncbi.nlm.nih.gov/pmc/articles/PMC6...   \n",
       "540     https://www.ncbi.nlm.nih.gov/pmc/articles/PMC6...   \n",
       "592     https://www.ncbi.nlm.nih.gov/pmc/articles/PMC6...   \n",
       "...                                                   ...   \n",
       "123360  https://www.ncbi.nlm.nih.gov/pmc/articles/PMC6...   \n",
       "123555  https://www.ncbi.nlm.nih.gov/pmc/articles/PMC6...   \n",
       "124075  https://www.ncbi.nlm.nih.gov/pmc/articles/PMC6...   \n",
       "124142  https://www.ncbi.nlm.nih.gov/pmc/articles/PMC6...   \n",
       "124216  https://www.ncbi.nlm.nih.gov/pmc/articles/PMC6...   \n",
       "\n",
       "                                     figure_thumbnail_url figure_number  \\\n",
       "135     https://www.ncbi.nlm.nih.gov/pmc/articles/PMC6...      Figure 1   \n",
       "224     https://www.ncbi.nlm.nih.gov/pmc/articles/PMC6...      FIGURE 1   \n",
       "415     https://www.ncbi.nlm.nih.gov/pmc/articles/PMC6...     Figure 2:   \n",
       "540     https://www.ncbi.nlm.nih.gov/pmc/articles/PMC6...      Figure 2   \n",
       "592     https://www.ncbi.nlm.nih.gov/pmc/articles/PMC6...      Figure 4   \n",
       "...                                                   ...           ...   \n",
       "123360  https://www.ncbi.nlm.nih.gov/pmc/articles/PMC6...      Figure 6   \n",
       "123555  https://www.ncbi.nlm.nih.gov/pmc/articles/PMC6...      Figure 1   \n",
       "124075  https://www.ncbi.nlm.nih.gov/pmc/articles/PMC6...      FIGURE 1   \n",
       "124142  https://www.ncbi.nlm.nih.gov/pmc/articles/PMC6...      Figure 8   \n",
       "124216  https://www.ncbi.nlm.nih.gov/pmc/articles/PMC6...      Figure 1   \n",
       "\n",
       "                                             figure_title  \\\n",
       "135     Schematic representation of sphingosine-1-phos...   \n",
       "224     An overview of current and emerging agents for...   \n",
       "415                                                         \n",
       "540            Overview of cellular metabolism in T cells   \n",
       "592     cAMP can regulate multidrug-resistance in lung...   \n",
       "...                                                   ...   \n",
       "123360  Proposed inositol-requiring protein 1 alpha (I...   \n",
       "123555  A schematic illustration representing differen...   \n",
       "124075  Autophagy regulators and functions associated ...   \n",
       "124142  Influence of ethylene on amount of compounds a...   \n",
       "124216             DSB repair pathways in mammalian cells   \n",
       "\n",
       "                                           figure_caption      pmc_id  \\\n",
       "135     Schematic representation of sphingosine-1-phos...  PMC6936734   \n",
       "224     An overview of current and emerging agents for...  PMC6932950   \n",
       "415     To support proliferation, cells take up more g...  PMC6944318   \n",
       "540     Overview of cellular metabolism in T cells. Th...  PMC6902900   \n",
       "592     cAMP can regulate multidrug-resistance in lung...  PMC6909948   \n",
       "...                                                   ...         ...   \n",
       "123360  Proposed inositol-requiring protein 1 alpha (I...  PMC6932173   \n",
       "123555  A schematic illustration representing differen...  PMC6934036   \n",
       "124075  Autophagy regulators and functions associated ...  PMC6892982   \n",
       "124142  Influence of ethylene on amount of compounds a...  PMC6952997   \n",
       "124216  DSB repair pathways in mammalian cells. Two-en...  PMC6921965   \n",
       "\n",
       "                                                paper_url  \\\n",
       "135     https://www.ncbi.nlm.nih.gov/pmc/articles/PMC6...   \n",
       "224     https://www.ncbi.nlm.nih.gov/pmc/articles/PMC6...   \n",
       "415     https://www.ncbi.nlm.nih.gov/pmc/articles/PMC6...   \n",
       "540     https://www.ncbi.nlm.nih.gov/pmc/articles/PMC6...   \n",
       "592     https://www.ncbi.nlm.nih.gov/pmc/articles/PMC6...   \n",
       "...                                                   ...   \n",
       "123360  https://www.ncbi.nlm.nih.gov/pmc/articles/PMC6...   \n",
       "123555  https://www.ncbi.nlm.nih.gov/pmc/articles/PMC6...   \n",
       "124075  https://www.ncbi.nlm.nih.gov/pmc/articles/PMC6...   \n",
       "124142  https://www.ncbi.nlm.nih.gov/pmc/articles/PMC6...   \n",
       "124216  https://www.ncbi.nlm.nih.gov/pmc/articles/PMC6...   \n",
       "\n",
       "                                              paper_title  \\\n",
       "135     Sphingolipid metabolism and drug resistance in...   \n",
       "224     Therapeutic and Mechanistic Perspectives of Pr...   \n",
       "415     Bioenergetics and translational metabolism: Im...   \n",
       "540     Metabolic Pathways Involved in Regulatory T Ce...   \n",
       "592     A perspective profile of ADCY1 in cAMP signali...   \n",
       "...                                                   ...   \n",
       "123360  Molecular Insight Into the IRE1α-Mediated Type...   \n",
       "123555  WNT Signaling in Tumors: The Way to Evade Drug...   \n",
       "124075  Agephagy – Adapting Autophagy for Health Durin...   \n",
       "124142  Effect of Ethylene on Cell Wall and Lipid Meta...   \n",
       "124216  Harnessing DNA Double-Strand Break Repair for ...   \n",
       "\n",
       "                                                reference pmc_search_index  \\\n",
       "135     Kelly M. Kreitzburg, et al. Cancer Drug Resist...              136   \n",
       "224     Mark P. Waterhouse, et al. Front Cell Dev Biol...              225   \n",
       "415     Bradford G. Hill, et al. Biol Chem. ;401(1):3-29.              416   \n",
       "540     Rosalie W. M. Kempkes, et al. Front Immunol. 2...              541   \n",
       "592     Ting Zou, et al. J Cancer. 2019;10(27):6848-6857.              593   \n",
       "...                                                   ...              ...   \n",
       "123360  Maja Studencka-Turski, et al. Front Immunol. 2...           123461   \n",
       "123555  Elena Martin-Orozco, et al. Front Immunol. 201...           123656   \n",
       "124075  Eleanor R. Stead, et al. Front Cell Dev Biol. ...           124176   \n",
       "124142   Yongchao Zhu, et al. Cells. 2019 Dec;8(12):1612.           124243   \n",
       "124216    Anika Trenner, et al. Front Oncol. 2019;9:1388.           124317   \n",
       "\n",
       "        pathway_score  pfocr_year  \n",
       "135          0.956722        2021  \n",
       "224          0.915671        2021  \n",
       "415          0.898072        2021  \n",
       "540          0.967499        2021  \n",
       "592          0.960402        2021  \n",
       "...               ...         ...  \n",
       "123360       0.914990        2021  \n",
       "123555       0.894541        2021  \n",
       "124075       0.881064        2021  \n",
       "124142       0.922297        2021  \n",
       "124216       0.926969        2021  \n",
       "\n",
       "[608 rows x 13 columns]"
      ]
     },
     "execution_count": 27,
     "metadata": {},
     "output_type": "execute_result"
    }
   ],
   "source": [
    "figures_2021_df[\n",
    "    figures_2021_df[\"pfocr_id\"].isin(\n",
    "        set(figures_2020_rds_df[\"pfocr_id\"].to_list())\n",
    "    )\n",
    "]"
   ]
  },
  {
   "cell_type": "code",
   "execution_count": 28,
   "metadata": {},
   "outputs": [
    {
     "data": {
      "text/plain": [
       "True"
      ]
     },
     "execution_count": 28,
     "metadata": {},
     "output_type": "execute_result"
    }
   ],
   "source": [
    "\"PMC6936734__nihms-1063332-f0001.jpg\" in set(figures_2020_rds_df[\"pfocr_id\"])"
   ]
  },
  {
   "cell_type": "code",
   "execution_count": 29,
   "metadata": {},
   "outputs": [
    {
     "name": "stdout",
     "output_type": "stream",
     "text": [
      "{'publication_year'}\n",
      "14\n",
      "Index(['pfocr_id', 'figure_number', 'reference', 'publication_year',\n",
      "       'pathway_score', 'pmc_search_index', 'figure_title', 'paper_title',\n",
      "       'figure_caption', 'pmc_id', 'paper_url', 'figure_page_url',\n",
      "       'figure_thumbnail_url', 'pfocr_year'],\n",
      "      dtype='object')\n",
      "13\n",
      "Index(['pfocr_id', 'figure_page_url', 'figure_thumbnail_url', 'figure_number',\n",
      "       'figure_title', 'figure_caption', 'pmc_id', 'paper_url', 'paper_title',\n",
      "       'reference', 'pmc_search_index', 'pathway_score', 'pfocr_year'],\n",
      "      dtype='object')\n"
     ]
    }
   ],
   "source": [
    "columns_symmetric_difference = set(figures_2021_df.columns) ^ set(\n",
    "    figures_2020_rds_df.columns\n",
    ")\n",
    "if len(columns_symmetric_difference) != 0:\n",
    "    print(columns_symmetric_difference)\n",
    "    print(len(figures_2020_rds_df.columns))\n",
    "    print(figures_2020_rds_df.columns)\n",
    "\n",
    "    print(len(figures_2021_df.columns))\n",
    "    print(figures_2021_df.columns)"
   ]
  },
  {
   "cell_type": "markdown",
   "metadata": {},
   "source": [
    "Expecting unchanged: 15306 rows × 14 columns"
   ]
  },
  {
   "cell_type": "code",
   "execution_count": 30,
   "metadata": {},
   "outputs": [
    {
     "data": {
      "text/html": [
       "<div>\n",
       "<style scoped>\n",
       "    .dataframe tbody tr th:only-of-type {\n",
       "        vertical-align: middle;\n",
       "    }\n",
       "\n",
       "    .dataframe tbody tr th {\n",
       "        vertical-align: top;\n",
       "    }\n",
       "\n",
       "    .dataframe thead th {\n",
       "        text-align: right;\n",
       "    }\n",
       "</style>\n",
       "<table border=\"1\" class=\"dataframe\">\n",
       "  <thead>\n",
       "    <tr style=\"text-align: right;\">\n",
       "      <th></th>\n",
       "      <th>pfocr_id</th>\n",
       "      <th>figure_page_url</th>\n",
       "      <th>figure_thumbnail_url</th>\n",
       "      <th>figure_number</th>\n",
       "      <th>figure_title</th>\n",
       "      <th>figure_caption</th>\n",
       "      <th>pmc_id</th>\n",
       "      <th>paper_url</th>\n",
       "      <th>paper_title</th>\n",
       "      <th>reference</th>\n",
       "      <th>pmc_search_index</th>\n",
       "      <th>pathway_score</th>\n",
       "      <th>pfocr_year</th>\n",
       "    </tr>\n",
       "  </thead>\n",
       "  <tbody>\n",
       "    <tr>\n",
       "      <th>11</th>\n",
       "      <td>PMC7226520__cells-09-01043-g007.jpg</td>\n",
       "      <td>https://www.ncbi.nlm.nih.gov/pmc/articles/PMC7...</td>\n",
       "      <td>https://www.ncbi.nlm.nih.gov/pmc/articles/PMC7...</td>\n",
       "      <td>Figure 7</td>\n",
       "      <td>Comparative downstream pathway analysis of the...</td>\n",
       "      <td>Comparative downstream pathway analysis of the...</td>\n",
       "      <td>PMC7226520</td>\n",
       "      <td>https://www.ncbi.nlm.nih.gov/pmc/articles/PMC7...</td>\n",
       "      <td>A STAT3 of Addiction: Adipose Tissue, Adipocyt...</td>\n",
       "      <td>Rose Kadye, et al. Cells. 2020 Apr;9(4):1043.</td>\n",
       "      <td>12</td>\n",
       "      <td>0.811027</td>\n",
       "      <td>2021</td>\n",
       "    </tr>\n",
       "    <tr>\n",
       "      <th>16</th>\n",
       "      <td>PMC7346062__aging-12-103262-g005.jpg</td>\n",
       "      <td>https://www.ncbi.nlm.nih.gov/pmc/articles/PMC7...</td>\n",
       "      <td>https://www.ncbi.nlm.nih.gov/pmc/articles/PMC7...</td>\n",
       "      <td>Figure 5</td>\n",
       "      <td>KEGG pathways related to resveratrol-targeted ...</td>\n",
       "      <td>KEGG pathways related to resveratrol-targeted ...</td>\n",
       "      <td>PMC7346062</td>\n",
       "      <td>https://www.ncbi.nlm.nih.gov/pmc/articles/PMC7...</td>\n",
       "      <td>Resveratrol promotes osteogenesis and alleviat...</td>\n",
       "      <td>Tao Yu, et al. Aging (Albany NY). 2020 Jun 15;...</td>\n",
       "      <td>17</td>\n",
       "      <td>0.943144</td>\n",
       "      <td>2021</td>\n",
       "    </tr>\n",
       "    <tr>\n",
       "      <th>21</th>\n",
       "      <td>PMC7063815__13578_2020_396_Fig2_HTML.jpg</td>\n",
       "      <td>https://www.ncbi.nlm.nih.gov/pmc/articles/PMC7...</td>\n",
       "      <td>https://www.ncbi.nlm.nih.gov/pmc/articles/PMC7...</td>\n",
       "      <td>Fig. 2</td>\n",
       "      <td>Interaction between tumor metabolism and the m...</td>\n",
       "      <td>Interaction between tumor metabolism and the m...</td>\n",
       "      <td>PMC7063815</td>\n",
       "      <td>https://www.ncbi.nlm.nih.gov/pmc/articles/PMC7...</td>\n",
       "      <td>mTOR signaling pathway and mTOR inhibitors in ...</td>\n",
       "      <td>Zhilin Zou, et al. Cell Biosci. 2020;10:31.</td>\n",
       "      <td>22</td>\n",
       "      <td>0.943767</td>\n",
       "      <td>2021</td>\n",
       "    </tr>\n",
       "    <tr>\n",
       "      <th>22</th>\n",
       "      <td>PMC6497965__zbc0191904900006.jpg</td>\n",
       "      <td>https://www.ncbi.nlm.nih.gov/pmc/articles/PMC6...</td>\n",
       "      <td>https://www.ncbi.nlm.nih.gov/pmc/articles/PMC6...</td>\n",
       "      <td>Figure 6</td>\n",
       "      <td>A proposed signaling cascade for phosphorylate...</td>\n",
       "      <td>A proposed signaling cascade for phosphorylate...</td>\n",
       "      <td>PMC6497965</td>\n",
       "      <td>https://www.ncbi.nlm.nih.gov/pmc/articles/PMC6...</td>\n",
       "      <td>Phosphorylation of proliferating cell nuclear ...</td>\n",
       "      <td>Bo Peng, et al. J Biol Chem. 2019 Apr 26;294(1...</td>\n",
       "      <td>23</td>\n",
       "      <td>0.603429</td>\n",
       "      <td>2021</td>\n",
       "    </tr>\n",
       "    <tr>\n",
       "      <th>23</th>\n",
       "      <td>PMC7538683__bsr-40-bsr20202711-g5.jpg</td>\n",
       "      <td>https://www.ncbi.nlm.nih.gov/pmc/articles/PMC7...</td>\n",
       "      <td>https://www.ncbi.nlm.nih.gov/pmc/articles/PMC7...</td>\n",
       "      <td>Figure 5</td>\n",
       "      <td></td>\n",
       "      <td>(A) Cell cycle signaling pathway is significan...</td>\n",
       "      <td>PMC7538683</td>\n",
       "      <td>https://www.ncbi.nlm.nih.gov/pmc/articles/PMC7...</td>\n",
       "      <td>Bioinformatics analysis and experimental valid...</td>\n",
       "      <td>Jiajia Chen, et al. Biosci Rep. 2020 Oct 30;40...</td>\n",
       "      <td>24</td>\n",
       "      <td>0.863582</td>\n",
       "      <td>2021</td>\n",
       "    </tr>\n",
       "    <tr>\n",
       "      <th>...</th>\n",
       "      <td>...</td>\n",
       "      <td>...</td>\n",
       "      <td>...</td>\n",
       "      <td>...</td>\n",
       "      <td>...</td>\n",
       "      <td>...</td>\n",
       "      <td>...</td>\n",
       "      <td>...</td>\n",
       "      <td>...</td>\n",
       "      <td>...</td>\n",
       "      <td>...</td>\n",
       "      <td>...</td>\n",
       "      <td>...</td>\n",
       "    </tr>\n",
       "    <tr>\n",
       "      <th>124414</th>\n",
       "      <td>PMC7803631__gr3a.jpg</td>\n",
       "      <td>None</td>\n",
       "      <td>https://www.ncbi.nlm.nih.gov/pmc/articles/PMC7...</td>\n",
       "      <td></td>\n",
       "      <td>Fig</td>\n",
       "      <td>Cell free biosynthesis for erythromycin A. The...</td>\n",
       "      <td>PMC7803631</td>\n",
       "      <td>https://www.ncbi.nlm.nih.gov/pmc/articles/PMC7...</td>\n",
       "      <td>Complex natural product production methods and...</td>\n",
       "      <td>Dongwon Park, et al. Synth Syst Biotechnol. 20...</td>\n",
       "      <td>124515</td>\n",
       "      <td>0.648432</td>\n",
       "      <td>2021</td>\n",
       "    </tr>\n",
       "    <tr>\n",
       "      <th>124421</th>\n",
       "      <td>PMC7359798__gr2_lrg.jpg</td>\n",
       "      <td>https://www.ncbi.nlm.nih.gov/pmc/articles/PMC7...</td>\n",
       "      <td>https://www.ncbi.nlm.nih.gov/pmc/articles/PMC7...</td>\n",
       "      <td>Figure 2</td>\n",
       "      <td>RNA Sensing and ResponseNon-comprehensive over...</td>\n",
       "      <td>RNA Sensing and ResponseNon-comprehensive over...</td>\n",
       "      <td>PMC7359798</td>\n",
       "      <td>https://www.ncbi.nlm.nih.gov/pmc/articles/PMC7...</td>\n",
       "      <td>Immune Sensing Mechanisms that Discriminate Se...</td>\n",
       "      <td>Eva Bartok, et al. Immunity. 2020 Jul 14;53(1)...</td>\n",
       "      <td>124522</td>\n",
       "      <td>0.922250</td>\n",
       "      <td>2021</td>\n",
       "    </tr>\n",
       "    <tr>\n",
       "      <th>124439</th>\n",
       "      <td>PMC7530268__fonc-10-586530-g0001.jpg</td>\n",
       "      <td>https://www.ncbi.nlm.nih.gov/pmc/articles/PMC7...</td>\n",
       "      <td>https://www.ncbi.nlm.nih.gov/pmc/articles/PMC7...</td>\n",
       "      <td>Figure 1</td>\n",
       "      <td>The ferroptotic cascade</td>\n",
       "      <td>The ferroptotic cascade. Accumulation of free ...</td>\n",
       "      <td>PMC7530268</td>\n",
       "      <td>https://www.ncbi.nlm.nih.gov/pmc/articles/PMC7...</td>\n",
       "      <td>From Iron Chelation to Overload as a Therapeut...</td>\n",
       "      <td>Eric Grignano, et al. Front Oncol. 2020;10:586...</td>\n",
       "      <td>124540</td>\n",
       "      <td>0.952995</td>\n",
       "      <td>2021</td>\n",
       "    </tr>\n",
       "    <tr>\n",
       "      <th>124445</th>\n",
       "      <td>PMC7466447__fcell-08-00766-g001.jpg</td>\n",
       "      <td>https://www.ncbi.nlm.nih.gov/pmc/articles/PMC7...</td>\n",
       "      <td>https://www.ncbi.nlm.nih.gov/pmc/articles/PMC7...</td>\n",
       "      <td>FIGURE 1</td>\n",
       "      <td>Immunoregulatory functions of TEC in the TME</td>\n",
       "      <td>Immunoregulatory functions of TEC in the TME. ...</td>\n",
       "      <td>PMC7466447</td>\n",
       "      <td>https://www.ncbi.nlm.nih.gov/pmc/articles/PMC7...</td>\n",
       "      <td>Tumor Endothelial Cells (TECs) as Potential Im...</td>\n",
       "      <td>Laurenz Nagl, et al. Front Cell Dev Biol. 2020...</td>\n",
       "      <td>124546</td>\n",
       "      <td>0.933006</td>\n",
       "      <td>2021</td>\n",
       "    </tr>\n",
       "    <tr>\n",
       "      <th>124459</th>\n",
       "      <td>PMC7352181__cancers-12-01457-g002.jpg</td>\n",
       "      <td>https://www.ncbi.nlm.nih.gov/pmc/articles/PMC7...</td>\n",
       "      <td>https://www.ncbi.nlm.nih.gov/pmc/articles/PMC7...</td>\n",
       "      <td>Figure 2</td>\n",
       "      <td>Angiotensin-associated pathways associated wit...</td>\n",
       "      <td>Angiotensin-associated pathways associated wit...</td>\n",
       "      <td>PMC7352181</td>\n",
       "      <td>https://www.ncbi.nlm.nih.gov/pmc/articles/PMC7...</td>\n",
       "      <td>Renin-Angiotensin System in Lung Tumor and Mic...</td>\n",
       "      <td>Maria Joana Catarata, et al. Cancers (Basel). ...</td>\n",
       "      <td>124560</td>\n",
       "      <td>0.956203</td>\n",
       "      <td>2021</td>\n",
       "    </tr>\n",
       "  </tbody>\n",
       "</table>\n",
       "<p>15306 rows × 13 columns</p>\n",
       "</div>"
      ],
      "text/plain": [
       "                                        pfocr_id  \\\n",
       "11           PMC7226520__cells-09-01043-g007.jpg   \n",
       "16          PMC7346062__aging-12-103262-g005.jpg   \n",
       "21      PMC7063815__13578_2020_396_Fig2_HTML.jpg   \n",
       "22              PMC6497965__zbc0191904900006.jpg   \n",
       "23         PMC7538683__bsr-40-bsr20202711-g5.jpg   \n",
       "...                                          ...   \n",
       "124414                      PMC7803631__gr3a.jpg   \n",
       "124421                   PMC7359798__gr2_lrg.jpg   \n",
       "124439      PMC7530268__fonc-10-586530-g0001.jpg   \n",
       "124445       PMC7466447__fcell-08-00766-g001.jpg   \n",
       "124459     PMC7352181__cancers-12-01457-g002.jpg   \n",
       "\n",
       "                                          figure_page_url  \\\n",
       "11      https://www.ncbi.nlm.nih.gov/pmc/articles/PMC7...   \n",
       "16      https://www.ncbi.nlm.nih.gov/pmc/articles/PMC7...   \n",
       "21      https://www.ncbi.nlm.nih.gov/pmc/articles/PMC7...   \n",
       "22      https://www.ncbi.nlm.nih.gov/pmc/articles/PMC6...   \n",
       "23      https://www.ncbi.nlm.nih.gov/pmc/articles/PMC7...   \n",
       "...                                                   ...   \n",
       "124414                                               None   \n",
       "124421  https://www.ncbi.nlm.nih.gov/pmc/articles/PMC7...   \n",
       "124439  https://www.ncbi.nlm.nih.gov/pmc/articles/PMC7...   \n",
       "124445  https://www.ncbi.nlm.nih.gov/pmc/articles/PMC7...   \n",
       "124459  https://www.ncbi.nlm.nih.gov/pmc/articles/PMC7...   \n",
       "\n",
       "                                     figure_thumbnail_url figure_number  \\\n",
       "11      https://www.ncbi.nlm.nih.gov/pmc/articles/PMC7...      Figure 7   \n",
       "16      https://www.ncbi.nlm.nih.gov/pmc/articles/PMC7...      Figure 5   \n",
       "21      https://www.ncbi.nlm.nih.gov/pmc/articles/PMC7...        Fig. 2   \n",
       "22      https://www.ncbi.nlm.nih.gov/pmc/articles/PMC6...      Figure 6   \n",
       "23      https://www.ncbi.nlm.nih.gov/pmc/articles/PMC7...      Figure 5   \n",
       "...                                                   ...           ...   \n",
       "124414  https://www.ncbi.nlm.nih.gov/pmc/articles/PMC7...                 \n",
       "124421  https://www.ncbi.nlm.nih.gov/pmc/articles/PMC7...      Figure 2   \n",
       "124439  https://www.ncbi.nlm.nih.gov/pmc/articles/PMC7...      Figure 1   \n",
       "124445  https://www.ncbi.nlm.nih.gov/pmc/articles/PMC7...      FIGURE 1   \n",
       "124459  https://www.ncbi.nlm.nih.gov/pmc/articles/PMC7...      Figure 2   \n",
       "\n",
       "                                             figure_title  \\\n",
       "11      Comparative downstream pathway analysis of the...   \n",
       "16      KEGG pathways related to resveratrol-targeted ...   \n",
       "21      Interaction between tumor metabolism and the m...   \n",
       "22      A proposed signaling cascade for phosphorylate...   \n",
       "23                                                          \n",
       "...                                                   ...   \n",
       "124414                                                Fig   \n",
       "124421  RNA Sensing and ResponseNon-comprehensive over...   \n",
       "124439                            The ferroptotic cascade   \n",
       "124445       Immunoregulatory functions of TEC in the TME   \n",
       "124459  Angiotensin-associated pathways associated wit...   \n",
       "\n",
       "                                           figure_caption      pmc_id  \\\n",
       "11      Comparative downstream pathway analysis of the...  PMC7226520   \n",
       "16      KEGG pathways related to resveratrol-targeted ...  PMC7346062   \n",
       "21      Interaction between tumor metabolism and the m...  PMC7063815   \n",
       "22      A proposed signaling cascade for phosphorylate...  PMC6497965   \n",
       "23      (A) Cell cycle signaling pathway is significan...  PMC7538683   \n",
       "...                                                   ...         ...   \n",
       "124414  Cell free biosynthesis for erythromycin A. The...  PMC7803631   \n",
       "124421  RNA Sensing and ResponseNon-comprehensive over...  PMC7359798   \n",
       "124439  The ferroptotic cascade. Accumulation of free ...  PMC7530268   \n",
       "124445  Immunoregulatory functions of TEC in the TME. ...  PMC7466447   \n",
       "124459  Angiotensin-associated pathways associated wit...  PMC7352181   \n",
       "\n",
       "                                                paper_url  \\\n",
       "11      https://www.ncbi.nlm.nih.gov/pmc/articles/PMC7...   \n",
       "16      https://www.ncbi.nlm.nih.gov/pmc/articles/PMC7...   \n",
       "21      https://www.ncbi.nlm.nih.gov/pmc/articles/PMC7...   \n",
       "22      https://www.ncbi.nlm.nih.gov/pmc/articles/PMC6...   \n",
       "23      https://www.ncbi.nlm.nih.gov/pmc/articles/PMC7...   \n",
       "...                                                   ...   \n",
       "124414  https://www.ncbi.nlm.nih.gov/pmc/articles/PMC7...   \n",
       "124421  https://www.ncbi.nlm.nih.gov/pmc/articles/PMC7...   \n",
       "124439  https://www.ncbi.nlm.nih.gov/pmc/articles/PMC7...   \n",
       "124445  https://www.ncbi.nlm.nih.gov/pmc/articles/PMC7...   \n",
       "124459  https://www.ncbi.nlm.nih.gov/pmc/articles/PMC7...   \n",
       "\n",
       "                                              paper_title  \\\n",
       "11      A STAT3 of Addiction: Adipose Tissue, Adipocyt...   \n",
       "16      Resveratrol promotes osteogenesis and alleviat...   \n",
       "21      mTOR signaling pathway and mTOR inhibitors in ...   \n",
       "22      Phosphorylation of proliferating cell nuclear ...   \n",
       "23      Bioinformatics analysis and experimental valid...   \n",
       "...                                                   ...   \n",
       "124414  Complex natural product production methods and...   \n",
       "124421  Immune Sensing Mechanisms that Discriminate Se...   \n",
       "124439  From Iron Chelation to Overload as a Therapeut...   \n",
       "124445  Tumor Endothelial Cells (TECs) as Potential Im...   \n",
       "124459  Renin-Angiotensin System in Lung Tumor and Mic...   \n",
       "\n",
       "                                                reference pmc_search_index  \\\n",
       "11          Rose Kadye, et al. Cells. 2020 Apr;9(4):1043.               12   \n",
       "16      Tao Yu, et al. Aging (Albany NY). 2020 Jun 15;...               17   \n",
       "21            Zhilin Zou, et al. Cell Biosci. 2020;10:31.               22   \n",
       "22      Bo Peng, et al. J Biol Chem. 2019 Apr 26;294(1...               23   \n",
       "23      Jiajia Chen, et al. Biosci Rep. 2020 Oct 30;40...               24   \n",
       "...                                                   ...              ...   \n",
       "124414  Dongwon Park, et al. Synth Syst Biotechnol. 20...           124515   \n",
       "124421  Eva Bartok, et al. Immunity. 2020 Jul 14;53(1)...           124522   \n",
       "124439  Eric Grignano, et al. Front Oncol. 2020;10:586...           124540   \n",
       "124445  Laurenz Nagl, et al. Front Cell Dev Biol. 2020...           124546   \n",
       "124459  Maria Joana Catarata, et al. Cancers (Basel). ...           124560   \n",
       "\n",
       "        pathway_score  pfocr_year  \n",
       "11           0.811027        2021  \n",
       "16           0.943144        2021  \n",
       "21           0.943767        2021  \n",
       "22           0.603429        2021  \n",
       "23           0.863582        2021  \n",
       "...               ...         ...  \n",
       "124414       0.648432        2021  \n",
       "124421       0.922250        2021  \n",
       "124439       0.952995        2021  \n",
       "124445       0.933006        2021  \n",
       "124459       0.956203        2021  \n",
       "\n",
       "[15306 rows x 13 columns]"
      ]
     },
     "execution_count": 30,
     "metadata": {},
     "output_type": "execute_result"
    }
   ],
   "source": [
    "figures_2021_df[\n",
    "    figures_2021_df[\"pfocr_id\"].isin(\n",
    "        set(figures_2020_rds_df[\"pfocr_id\"].to_list())\n",
    "    )\n",
    "    == False\n",
    "]"
   ]
  },
  {
   "cell_type": "markdown",
   "metadata": {},
   "source": [
    "Expecting 56095"
   ]
  },
  {
   "cell_type": "code",
   "execution_count": 31,
   "metadata": {},
   "outputs": [
    {
     "name": "stdout",
     "output_type": "stream",
     "text": [
      "56095\n"
     ]
    }
   ],
   "source": [
    "print(len(set(figures_2020_rds_df[\"pmc_id\"].to_list())))"
   ]
  },
  {
   "cell_type": "markdown",
   "metadata": {},
   "source": [
    "Previously (when not doing any checking for duplicate pfocr_id), we got 13441\n",
    "\n",
    "But when only excluding hits from any pfocr_id the 2020 database (meaning we actually ran it), we expect 13414."
   ]
  },
  {
   "cell_type": "code",
   "execution_count": 32,
   "metadata": {},
   "outputs": [
    {
     "name": "stdout",
     "output_type": "stream",
     "text": [
      "13414\n"
     ]
    }
   ],
   "source": [
    "print(len(set(figures_2021_df[\"pmc_id\"].to_list())))"
   ]
  },
  {
   "cell_type": "markdown",
   "metadata": {},
   "source": [
    "### Import Genes 2021\n",
    "\n",
    "OLD: Previously (when not doing any checking for duplicate pfocr_id), we got 214155 rows × 5 columns\n",
    "\n",
    "OLD: When excluding hits from any pfocr_id in 2020 figures RDS, we expect 205010 rows × 5 columns.\n",
    "\n",
    "CORRECT: But when only excluding hits from any pfocr_id the 2020 database (meaning we actually ran it), we expect 213858 rows × 5 columns."
   ]
  },
  {
   "cell_type": "code",
   "execution_count": 33,
   "metadata": {},
   "outputs": [
    {
     "data": {
      "text/html": [
       "<div>\n",
       "<style scoped>\n",
       "    .dataframe tbody tr th:only-of-type {\n",
       "        vertical-align: middle;\n",
       "    }\n",
       "\n",
       "    .dataframe tbody tr th {\n",
       "        vertical-align: top;\n",
       "    }\n",
       "\n",
       "    .dataframe thead th {\n",
       "        text-align: right;\n",
       "    }\n",
       "</style>\n",
       "<table border=\"1\" class=\"dataframe\">\n",
       "  <thead>\n",
       "    <tr style=\"text-align: right;\">\n",
       "      <th></th>\n",
       "      <th>pfocr_id</th>\n",
       "      <th>matched_ocr_text</th>\n",
       "      <th>lexicon_term</th>\n",
       "      <th>ncbigene_id</th>\n",
       "      <th>pfocr_year</th>\n",
       "    </tr>\n",
       "  </thead>\n",
       "  <tbody>\n",
       "    <tr>\n",
       "      <th>0</th>\n",
       "      <td>PMC8036963__cancers-13-01583-g003.jpg</td>\n",
       "      <td>H2AX</td>\n",
       "      <td>H2AX</td>\n",
       "      <td>3014</td>\n",
       "      <td>2021</td>\n",
       "    </tr>\n",
       "    <tr>\n",
       "      <th>1</th>\n",
       "      <td>PMC8036963__cancers-13-01583-g003.jpg</td>\n",
       "      <td>H2AX</td>\n",
       "      <td>H2AX</td>\n",
       "      <td>3014</td>\n",
       "      <td>2021</td>\n",
       "    </tr>\n",
       "    <tr>\n",
       "      <th>2</th>\n",
       "      <td>PMC8036963__cancers-13-01583-g003.jpg</td>\n",
       "      <td>Ku70/80</td>\n",
       "      <td>KU70</td>\n",
       "      <td>2547</td>\n",
       "      <td>2021</td>\n",
       "    </tr>\n",
       "    <tr>\n",
       "      <th>3</th>\n",
       "      <td>PMC8036963__cancers-13-01583-g003.jpg</td>\n",
       "      <td>Ku70/80</td>\n",
       "      <td>KU80</td>\n",
       "      <td>7520</td>\n",
       "      <td>2021</td>\n",
       "    </tr>\n",
       "    <tr>\n",
       "      <th>4</th>\n",
       "      <td>PMC8036963__cancers-13-01583-g003.jpg</td>\n",
       "      <td>ATM</td>\n",
       "      <td>ATM</td>\n",
       "      <td>472</td>\n",
       "      <td>2021</td>\n",
       "    </tr>\n",
       "    <tr>\n",
       "      <th>...</th>\n",
       "      <td>...</td>\n",
       "      <td>...</td>\n",
       "      <td>...</td>\n",
       "      <td>...</td>\n",
       "      <td>...</td>\n",
       "    </tr>\n",
       "    <tr>\n",
       "      <th>213853</th>\n",
       "      <td>PMC7927090__ijms-22-02194-g002.jpg</td>\n",
       "      <td>AKT</td>\n",
       "      <td>AKT</td>\n",
       "      <td>207</td>\n",
       "      <td>2021</td>\n",
       "    </tr>\n",
       "    <tr>\n",
       "      <th>213854</th>\n",
       "      <td>PMC7927090__ijms-22-02194-g002.jpg</td>\n",
       "      <td>Smad</td>\n",
       "      <td>SMAD</td>\n",
       "      <td>4092</td>\n",
       "      <td>2021</td>\n",
       "    </tr>\n",
       "    <tr>\n",
       "      <th>213855</th>\n",
       "      <td>PMC7927090__ijms-22-02194-g002.jpg</td>\n",
       "      <td>MTOR</td>\n",
       "      <td>MTOR</td>\n",
       "      <td>2475</td>\n",
       "      <td>2021</td>\n",
       "    </tr>\n",
       "    <tr>\n",
       "      <th>213856</th>\n",
       "      <td>PMC7927090__ijms-22-02194-g002.jpg</td>\n",
       "      <td>VEGFR2</td>\n",
       "      <td>VEGFR2</td>\n",
       "      <td>3791</td>\n",
       "      <td>2021</td>\n",
       "    </tr>\n",
       "    <tr>\n",
       "      <th>213857</th>\n",
       "      <td>PMC7927090__ijms-22-02194-g002.jpg</td>\n",
       "      <td>TGF-B</td>\n",
       "      <td>TGFB</td>\n",
       "      <td>7043</td>\n",
       "      <td>2021</td>\n",
       "    </tr>\n",
       "  </tbody>\n",
       "</table>\n",
       "<p>213858 rows × 5 columns</p>\n",
       "</div>"
      ],
      "text/plain": [
       "                                     pfocr_id matched_ocr_text lexicon_term  \\\n",
       "0       PMC8036963__cancers-13-01583-g003.jpg             H2AX         H2AX   \n",
       "1       PMC8036963__cancers-13-01583-g003.jpg             H2AX         H2AX   \n",
       "2       PMC8036963__cancers-13-01583-g003.jpg          Ku70/80         KU70   \n",
       "3       PMC8036963__cancers-13-01583-g003.jpg          Ku70/80         KU80   \n",
       "4       PMC8036963__cancers-13-01583-g003.jpg              ATM          ATM   \n",
       "...                                       ...              ...          ...   \n",
       "213853     PMC7927090__ijms-22-02194-g002.jpg              AKT          AKT   \n",
       "213854     PMC7927090__ijms-22-02194-g002.jpg             Smad         SMAD   \n",
       "213855     PMC7927090__ijms-22-02194-g002.jpg             MTOR         MTOR   \n",
       "213856     PMC7927090__ijms-22-02194-g002.jpg           VEGFR2       VEGFR2   \n",
       "213857     PMC7927090__ijms-22-02194-g002.jpg            TGF-B         TGFB   \n",
       "\n",
       "        ncbigene_id  pfocr_year  \n",
       "0              3014        2021  \n",
       "1              3014        2021  \n",
       "2              2547        2021  \n",
       "3              7520        2021  \n",
       "4               472        2021  \n",
       "...             ...         ...  \n",
       "213853          207        2021  \n",
       "213854         4092        2021  \n",
       "213855         2475        2021  \n",
       "213856         3791        2021  \n",
       "213857         7043        2021  \n",
       "\n",
       "[213858 rows x 5 columns]"
      ]
     },
     "execution_count": 33,
     "metadata": {},
     "output_type": "execute_result"
    }
   ],
   "source": [
    "genes_2021_df = rds2pandas(images_dir.joinpath(\"pfocr_genes_2021.rds\"))\n",
    "genes_2021_df"
   ]
  },
  {
   "cell_type": "markdown",
   "metadata": {},
   "source": [
    "Expecting 205010 rows × 5 columns"
   ]
  },
  {
   "cell_type": "code",
   "execution_count": 34,
   "metadata": {},
   "outputs": [
    {
     "data": {
      "text/html": [
       "<div>\n",
       "<style scoped>\n",
       "    .dataframe tbody tr th:only-of-type {\n",
       "        vertical-align: middle;\n",
       "    }\n",
       "\n",
       "    .dataframe tbody tr th {\n",
       "        vertical-align: top;\n",
       "    }\n",
       "\n",
       "    .dataframe thead th {\n",
       "        text-align: right;\n",
       "    }\n",
       "</style>\n",
       "<table border=\"1\" class=\"dataframe\">\n",
       "  <thead>\n",
       "    <tr style=\"text-align: right;\">\n",
       "      <th></th>\n",
       "      <th>pfocr_id</th>\n",
       "      <th>matched_ocr_text</th>\n",
       "      <th>lexicon_term</th>\n",
       "      <th>ncbigene_id</th>\n",
       "      <th>pfocr_year</th>\n",
       "    </tr>\n",
       "  </thead>\n",
       "  <tbody>\n",
       "    <tr>\n",
       "      <th>0</th>\n",
       "      <td>PMC8036963__cancers-13-01583-g003.jpg</td>\n",
       "      <td>H2AX</td>\n",
       "      <td>H2AX</td>\n",
       "      <td>3014</td>\n",
       "      <td>2021</td>\n",
       "    </tr>\n",
       "    <tr>\n",
       "      <th>1</th>\n",
       "      <td>PMC8036963__cancers-13-01583-g003.jpg</td>\n",
       "      <td>H2AX</td>\n",
       "      <td>H2AX</td>\n",
       "      <td>3014</td>\n",
       "      <td>2021</td>\n",
       "    </tr>\n",
       "    <tr>\n",
       "      <th>2</th>\n",
       "      <td>PMC8036963__cancers-13-01583-g003.jpg</td>\n",
       "      <td>Ku70/80</td>\n",
       "      <td>KU70</td>\n",
       "      <td>2547</td>\n",
       "      <td>2021</td>\n",
       "    </tr>\n",
       "    <tr>\n",
       "      <th>3</th>\n",
       "      <td>PMC8036963__cancers-13-01583-g003.jpg</td>\n",
       "      <td>Ku70/80</td>\n",
       "      <td>KU80</td>\n",
       "      <td>7520</td>\n",
       "      <td>2021</td>\n",
       "    </tr>\n",
       "    <tr>\n",
       "      <th>4</th>\n",
       "      <td>PMC8036963__cancers-13-01583-g003.jpg</td>\n",
       "      <td>ATM</td>\n",
       "      <td>ATM</td>\n",
       "      <td>472</td>\n",
       "      <td>2021</td>\n",
       "    </tr>\n",
       "    <tr>\n",
       "      <th>...</th>\n",
       "      <td>...</td>\n",
       "      <td>...</td>\n",
       "      <td>...</td>\n",
       "      <td>...</td>\n",
       "      <td>...</td>\n",
       "    </tr>\n",
       "    <tr>\n",
       "      <th>213853</th>\n",
       "      <td>PMC7927090__ijms-22-02194-g002.jpg</td>\n",
       "      <td>AKT</td>\n",
       "      <td>AKT</td>\n",
       "      <td>207</td>\n",
       "      <td>2021</td>\n",
       "    </tr>\n",
       "    <tr>\n",
       "      <th>213854</th>\n",
       "      <td>PMC7927090__ijms-22-02194-g002.jpg</td>\n",
       "      <td>Smad</td>\n",
       "      <td>SMAD</td>\n",
       "      <td>4092</td>\n",
       "      <td>2021</td>\n",
       "    </tr>\n",
       "    <tr>\n",
       "      <th>213855</th>\n",
       "      <td>PMC7927090__ijms-22-02194-g002.jpg</td>\n",
       "      <td>MTOR</td>\n",
       "      <td>MTOR</td>\n",
       "      <td>2475</td>\n",
       "      <td>2021</td>\n",
       "    </tr>\n",
       "    <tr>\n",
       "      <th>213856</th>\n",
       "      <td>PMC7927090__ijms-22-02194-g002.jpg</td>\n",
       "      <td>VEGFR2</td>\n",
       "      <td>VEGFR2</td>\n",
       "      <td>3791</td>\n",
       "      <td>2021</td>\n",
       "    </tr>\n",
       "    <tr>\n",
       "      <th>213857</th>\n",
       "      <td>PMC7927090__ijms-22-02194-g002.jpg</td>\n",
       "      <td>TGF-B</td>\n",
       "      <td>TGFB</td>\n",
       "      <td>7043</td>\n",
       "      <td>2021</td>\n",
       "    </tr>\n",
       "  </tbody>\n",
       "</table>\n",
       "<p>205010 rows × 5 columns</p>\n",
       "</div>"
      ],
      "text/plain": [
       "                                     pfocr_id matched_ocr_text lexicon_term  \\\n",
       "0       PMC8036963__cancers-13-01583-g003.jpg             H2AX         H2AX   \n",
       "1       PMC8036963__cancers-13-01583-g003.jpg             H2AX         H2AX   \n",
       "2       PMC8036963__cancers-13-01583-g003.jpg          Ku70/80         KU70   \n",
       "3       PMC8036963__cancers-13-01583-g003.jpg          Ku70/80         KU80   \n",
       "4       PMC8036963__cancers-13-01583-g003.jpg              ATM          ATM   \n",
       "...                                       ...              ...          ...   \n",
       "213853     PMC7927090__ijms-22-02194-g002.jpg              AKT          AKT   \n",
       "213854     PMC7927090__ijms-22-02194-g002.jpg             Smad         SMAD   \n",
       "213855     PMC7927090__ijms-22-02194-g002.jpg             MTOR         MTOR   \n",
       "213856     PMC7927090__ijms-22-02194-g002.jpg           VEGFR2       VEGFR2   \n",
       "213857     PMC7927090__ijms-22-02194-g002.jpg            TGF-B         TGFB   \n",
       "\n",
       "        ncbigene_id  pfocr_year  \n",
       "0              3014        2021  \n",
       "1              3014        2021  \n",
       "2              2547        2021  \n",
       "3              7520        2021  \n",
       "4               472        2021  \n",
       "...             ...         ...  \n",
       "213853          207        2021  \n",
       "213854         4092        2021  \n",
       "213855         2475        2021  \n",
       "213856         3791        2021  \n",
       "213857         7043        2021  \n",
       "\n",
       "[205010 rows x 5 columns]"
      ]
     },
     "execution_count": 34,
     "metadata": {},
     "output_type": "execute_result"
    }
   ],
   "source": [
    "genes_2021_df[\n",
    "    genes_2021_df[\"pfocr_id\"].isin(\n",
    "        set(figures_2020_rds_df[\"pfocr_id\"].to_list())\n",
    "    )\n",
    "    == False\n",
    "]"
   ]
  },
  {
   "cell_type": "markdown",
   "metadata": {},
   "source": [
    "OLD: Previously (when not doing any checking for duplicate pfocr_id), we got 9145 rows × 5 columns\n",
    "\n",
    "CORRECT: But when only excluding hits from any pfocr_id the 2020 database (meaning we actually ran it), we expect 8848 rows × 5 columns."
   ]
  },
  {
   "cell_type": "code",
   "execution_count": 35,
   "metadata": {},
   "outputs": [
    {
     "data": {
      "text/html": [
       "<div>\n",
       "<style scoped>\n",
       "    .dataframe tbody tr th:only-of-type {\n",
       "        vertical-align: middle;\n",
       "    }\n",
       "\n",
       "    .dataframe tbody tr th {\n",
       "        vertical-align: top;\n",
       "    }\n",
       "\n",
       "    .dataframe thead th {\n",
       "        text-align: right;\n",
       "    }\n",
       "</style>\n",
       "<table border=\"1\" class=\"dataframe\">\n",
       "  <thead>\n",
       "    <tr style=\"text-align: right;\">\n",
       "      <th></th>\n",
       "      <th>pfocr_id</th>\n",
       "      <th>matched_ocr_text</th>\n",
       "      <th>lexicon_term</th>\n",
       "      <th>ncbigene_id</th>\n",
       "      <th>pfocr_year</th>\n",
       "    </tr>\n",
       "  </thead>\n",
       "  <tbody>\n",
       "    <tr>\n",
       "      <th>56</th>\n",
       "      <td>PMC6941108__ijms-20-06207-g003.jpg</td>\n",
       "      <td>KIF20A</td>\n",
       "      <td>KIF20A</td>\n",
       "      <td>10112</td>\n",
       "      <td>2021</td>\n",
       "    </tr>\n",
       "    <tr>\n",
       "      <th>57</th>\n",
       "      <td>PMC6941108__ijms-20-06207-g003.jpg</td>\n",
       "      <td>AIM2</td>\n",
       "      <td>AIM2</td>\n",
       "      <td>9447</td>\n",
       "      <td>2021</td>\n",
       "    </tr>\n",
       "    <tr>\n",
       "      <th>58</th>\n",
       "      <td>PMC6941108__ijms-20-06207-g003.jpg</td>\n",
       "      <td>HMMR</td>\n",
       "      <td>HMMR</td>\n",
       "      <td>3161</td>\n",
       "      <td>2021</td>\n",
       "    </tr>\n",
       "    <tr>\n",
       "      <th>59</th>\n",
       "      <td>PMC6941108__ijms-20-06207-g003.jpg</td>\n",
       "      <td>CCNE2</td>\n",
       "      <td>CCNE2</td>\n",
       "      <td>9134</td>\n",
       "      <td>2021</td>\n",
       "    </tr>\n",
       "    <tr>\n",
       "      <th>60</th>\n",
       "      <td>PMC6941108__ijms-20-06207-g003.jpg</td>\n",
       "      <td>NDC80</td>\n",
       "      <td>NDC80</td>\n",
       "      <td>10403</td>\n",
       "      <td>2021</td>\n",
       "    </tr>\n",
       "    <tr>\n",
       "      <th>...</th>\n",
       "      <td>...</td>\n",
       "      <td>...</td>\n",
       "      <td>...</td>\n",
       "      <td>...</td>\n",
       "      <td>...</td>\n",
       "    </tr>\n",
       "    <tr>\n",
       "      <th>212533</th>\n",
       "      <td>PMC6954688__nihms-1059517-f0008.jpg</td>\n",
       "      <td>PPARA</td>\n",
       "      <td>PPARA</td>\n",
       "      <td>5465</td>\n",
       "      <td>2021</td>\n",
       "    </tr>\n",
       "    <tr>\n",
       "      <th>212534</th>\n",
       "      <td>PMC6954688__nihms-1059517-f0008.jpg</td>\n",
       "      <td>AMP</td>\n",
       "      <td>AMP</td>\n",
       "      <td>4236</td>\n",
       "      <td>2021</td>\n",
       "    </tr>\n",
       "    <tr>\n",
       "      <th>212535</th>\n",
       "      <td>PMC6954688__nihms-1059517-f0008.jpg</td>\n",
       "      <td>ADP</td>\n",
       "      <td>ADP</td>\n",
       "      <td>23038</td>\n",
       "      <td>2021</td>\n",
       "    </tr>\n",
       "    <tr>\n",
       "      <th>212536</th>\n",
       "      <td>PMC6954688__nihms-1059517-f0008.jpg</td>\n",
       "      <td>ADP</td>\n",
       "      <td>ADP</td>\n",
       "      <td>23038</td>\n",
       "      <td>2021</td>\n",
       "    </tr>\n",
       "    <tr>\n",
       "      <th>212537</th>\n",
       "      <td>PMC6954688__nihms-1059517-f0008.jpg</td>\n",
       "      <td>Nmnat</td>\n",
       "      <td>NMNAT</td>\n",
       "      <td>64802</td>\n",
       "      <td>2021</td>\n",
       "    </tr>\n",
       "  </tbody>\n",
       "</table>\n",
       "<p>8848 rows × 5 columns</p>\n",
       "</div>"
      ],
      "text/plain": [
       "                                   pfocr_id matched_ocr_text lexicon_term  \\\n",
       "56       PMC6941108__ijms-20-06207-g003.jpg           KIF20A       KIF20A   \n",
       "57       PMC6941108__ijms-20-06207-g003.jpg             AIM2         AIM2   \n",
       "58       PMC6941108__ijms-20-06207-g003.jpg             HMMR         HMMR   \n",
       "59       PMC6941108__ijms-20-06207-g003.jpg            CCNE2        CCNE2   \n",
       "60       PMC6941108__ijms-20-06207-g003.jpg            NDC80        NDC80   \n",
       "...                                     ...              ...          ...   \n",
       "212533  PMC6954688__nihms-1059517-f0008.jpg            PPARA        PPARA   \n",
       "212534  PMC6954688__nihms-1059517-f0008.jpg              AMP          AMP   \n",
       "212535  PMC6954688__nihms-1059517-f0008.jpg              ADP          ADP   \n",
       "212536  PMC6954688__nihms-1059517-f0008.jpg              ADP          ADP   \n",
       "212537  PMC6954688__nihms-1059517-f0008.jpg            Nmnat        NMNAT   \n",
       "\n",
       "        ncbigene_id  pfocr_year  \n",
       "56            10112        2021  \n",
       "57             9447        2021  \n",
       "58             3161        2021  \n",
       "59             9134        2021  \n",
       "60            10403        2021  \n",
       "...             ...         ...  \n",
       "212533         5465        2021  \n",
       "212534         4236        2021  \n",
       "212535        23038        2021  \n",
       "212536        23038        2021  \n",
       "212537        64802        2021  \n",
       "\n",
       "[8848 rows x 5 columns]"
      ]
     },
     "execution_count": 35,
     "metadata": {},
     "output_type": "execute_result"
    }
   ],
   "source": [
    "genes_2021_df[\n",
    "    genes_2021_df[\"pfocr_id\"].isin(\n",
    "        set(figures_2020_rds_df[\"pfocr_id\"].to_list())\n",
    "    )\n",
    "]"
   ]
  },
  {
   "cell_type": "markdown",
   "metadata": {},
   "source": [
    "Expecting no `pfocr_id` overlaps between `genes_2020_df` and `genes_2021_df`."
   ]
  },
  {
   "cell_type": "code",
   "execution_count": 36,
   "metadata": {},
   "outputs": [
    {
     "data": {
      "text/plain": [
       "0"
      ]
     },
     "execution_count": 36,
     "metadata": {},
     "output_type": "execute_result"
    }
   ],
   "source": [
    "len(\n",
    "    genes_2021_df[\n",
    "        genes_2021_df[\"pfocr_id\"].isin(set(genes_2020_df[\"pfocr_id\"]))\n",
    "    ]\n",
    ")"
   ]
  },
  {
   "cell_type": "markdown",
   "metadata": {},
   "source": [
    "Expecting no `pfocr_id` overlaps between `genes_2020_df` and `figures_2021_df`."
   ]
  },
  {
   "cell_type": "code",
   "execution_count": 37,
   "metadata": {},
   "outputs": [
    {
     "data": {
      "text/plain": [
       "0"
      ]
     },
     "execution_count": 37,
     "metadata": {},
     "output_type": "execute_result"
    }
   ],
   "source": [
    "len(\n",
    "    figures_2021_df[\n",
    "        figures_2021_df[\"pfocr_id\"].isin(set(genes_2020_df[\"pfocr_id\"]))\n",
    "    ]\n",
    ")"
   ]
  },
  {
   "cell_type": "markdown",
   "metadata": {},
   "source": [
    "Expecting no `pfocr_id` overlaps between `genes_2021_df` and `figures_2020_db_df`."
   ]
  },
  {
   "cell_type": "code",
   "execution_count": 38,
   "metadata": {},
   "outputs": [
    {
     "data": {
      "text/plain": [
       "0"
      ]
     },
     "execution_count": 38,
     "metadata": {},
     "output_type": "execute_result"
    }
   ],
   "source": [
    "len(\n",
    "    genes_2021_df[\n",
    "        genes_2021_df[\"pfocr_id\"].isin(set(figures_2020_db_df[\"pfocr_id\"]))\n",
    "    ]\n",
    ")"
   ]
  },
  {
   "cell_type": "markdown",
   "metadata": {},
   "source": [
    "Expecting 8,848 `pfocr_id` overlaps between `genes_2021_df` and `figures_2020_rds_df`."
   ]
  },
  {
   "cell_type": "code",
   "execution_count": 39,
   "metadata": {},
   "outputs": [
    {
     "data": {
      "text/html": [
       "<div>\n",
       "<style scoped>\n",
       "    .dataframe tbody tr th:only-of-type {\n",
       "        vertical-align: middle;\n",
       "    }\n",
       "\n",
       "    .dataframe tbody tr th {\n",
       "        vertical-align: top;\n",
       "    }\n",
       "\n",
       "    .dataframe thead th {\n",
       "        text-align: right;\n",
       "    }\n",
       "</style>\n",
       "<table border=\"1\" class=\"dataframe\">\n",
       "  <thead>\n",
       "    <tr style=\"text-align: right;\">\n",
       "      <th></th>\n",
       "      <th>pfocr_id</th>\n",
       "      <th>matched_ocr_text</th>\n",
       "      <th>lexicon_term</th>\n",
       "      <th>ncbigene_id</th>\n",
       "      <th>pfocr_year</th>\n",
       "    </tr>\n",
       "  </thead>\n",
       "  <tbody>\n",
       "    <tr>\n",
       "      <th>56</th>\n",
       "      <td>PMC6941108__ijms-20-06207-g003.jpg</td>\n",
       "      <td>KIF20A</td>\n",
       "      <td>KIF20A</td>\n",
       "      <td>10112</td>\n",
       "      <td>2021</td>\n",
       "    </tr>\n",
       "    <tr>\n",
       "      <th>57</th>\n",
       "      <td>PMC6941108__ijms-20-06207-g003.jpg</td>\n",
       "      <td>AIM2</td>\n",
       "      <td>AIM2</td>\n",
       "      <td>9447</td>\n",
       "      <td>2021</td>\n",
       "    </tr>\n",
       "    <tr>\n",
       "      <th>58</th>\n",
       "      <td>PMC6941108__ijms-20-06207-g003.jpg</td>\n",
       "      <td>HMMR</td>\n",
       "      <td>HMMR</td>\n",
       "      <td>3161</td>\n",
       "      <td>2021</td>\n",
       "    </tr>\n",
       "    <tr>\n",
       "      <th>59</th>\n",
       "      <td>PMC6941108__ijms-20-06207-g003.jpg</td>\n",
       "      <td>CCNE2</td>\n",
       "      <td>CCNE2</td>\n",
       "      <td>9134</td>\n",
       "      <td>2021</td>\n",
       "    </tr>\n",
       "    <tr>\n",
       "      <th>60</th>\n",
       "      <td>PMC6941108__ijms-20-06207-g003.jpg</td>\n",
       "      <td>NDC80</td>\n",
       "      <td>NDC80</td>\n",
       "      <td>10403</td>\n",
       "      <td>2021</td>\n",
       "    </tr>\n",
       "    <tr>\n",
       "      <th>...</th>\n",
       "      <td>...</td>\n",
       "      <td>...</td>\n",
       "      <td>...</td>\n",
       "      <td>...</td>\n",
       "      <td>...</td>\n",
       "    </tr>\n",
       "    <tr>\n",
       "      <th>212533</th>\n",
       "      <td>PMC6954688__nihms-1059517-f0008.jpg</td>\n",
       "      <td>PPARA</td>\n",
       "      <td>PPARA</td>\n",
       "      <td>5465</td>\n",
       "      <td>2021</td>\n",
       "    </tr>\n",
       "    <tr>\n",
       "      <th>212534</th>\n",
       "      <td>PMC6954688__nihms-1059517-f0008.jpg</td>\n",
       "      <td>AMP</td>\n",
       "      <td>AMP</td>\n",
       "      <td>4236</td>\n",
       "      <td>2021</td>\n",
       "    </tr>\n",
       "    <tr>\n",
       "      <th>212535</th>\n",
       "      <td>PMC6954688__nihms-1059517-f0008.jpg</td>\n",
       "      <td>ADP</td>\n",
       "      <td>ADP</td>\n",
       "      <td>23038</td>\n",
       "      <td>2021</td>\n",
       "    </tr>\n",
       "    <tr>\n",
       "      <th>212536</th>\n",
       "      <td>PMC6954688__nihms-1059517-f0008.jpg</td>\n",
       "      <td>ADP</td>\n",
       "      <td>ADP</td>\n",
       "      <td>23038</td>\n",
       "      <td>2021</td>\n",
       "    </tr>\n",
       "    <tr>\n",
       "      <th>212537</th>\n",
       "      <td>PMC6954688__nihms-1059517-f0008.jpg</td>\n",
       "      <td>Nmnat</td>\n",
       "      <td>NMNAT</td>\n",
       "      <td>64802</td>\n",
       "      <td>2021</td>\n",
       "    </tr>\n",
       "  </tbody>\n",
       "</table>\n",
       "<p>8848 rows × 5 columns</p>\n",
       "</div>"
      ],
      "text/plain": [
       "                                   pfocr_id matched_ocr_text lexicon_term  \\\n",
       "56       PMC6941108__ijms-20-06207-g003.jpg           KIF20A       KIF20A   \n",
       "57       PMC6941108__ijms-20-06207-g003.jpg             AIM2         AIM2   \n",
       "58       PMC6941108__ijms-20-06207-g003.jpg             HMMR         HMMR   \n",
       "59       PMC6941108__ijms-20-06207-g003.jpg            CCNE2        CCNE2   \n",
       "60       PMC6941108__ijms-20-06207-g003.jpg            NDC80        NDC80   \n",
       "...                                     ...              ...          ...   \n",
       "212533  PMC6954688__nihms-1059517-f0008.jpg            PPARA        PPARA   \n",
       "212534  PMC6954688__nihms-1059517-f0008.jpg              AMP          AMP   \n",
       "212535  PMC6954688__nihms-1059517-f0008.jpg              ADP          ADP   \n",
       "212536  PMC6954688__nihms-1059517-f0008.jpg              ADP          ADP   \n",
       "212537  PMC6954688__nihms-1059517-f0008.jpg            Nmnat        NMNAT   \n",
       "\n",
       "        ncbigene_id  pfocr_year  \n",
       "56            10112        2021  \n",
       "57             9447        2021  \n",
       "58             3161        2021  \n",
       "59             9134        2021  \n",
       "60            10403        2021  \n",
       "...             ...         ...  \n",
       "212533         5465        2021  \n",
       "212534         4236        2021  \n",
       "212535        23038        2021  \n",
       "212536        23038        2021  \n",
       "212537        64802        2021  \n",
       "\n",
       "[8848 rows x 5 columns]"
      ]
     },
     "execution_count": 39,
     "metadata": {},
     "output_type": "execute_result"
    }
   ],
   "source": [
    "genes_2021_df[\n",
    "    genes_2021_df[\"pfocr_id\"].isin(set(figures_2020_rds_df[\"pfocr_id\"]))\n",
    "]"
   ]
  },
  {
   "cell_type": "markdown",
   "metadata": {},
   "source": [
    "Those 8,848 gene mentions come from 571 papers."
   ]
  },
  {
   "cell_type": "code",
   "execution_count": 40,
   "metadata": {},
   "outputs": [
    {
     "data": {
      "text/plain": [
       "571"
      ]
     },
     "execution_count": 40,
     "metadata": {},
     "output_type": "execute_result"
    }
   ],
   "source": [
    "len(\n",
    "    genes_2021_df[\n",
    "        genes_2021_df[\"pfocr_id\"].isin(set(figures_2020_rds_df[\"pfocr_id\"]))\n",
    "    ][\"pfocr_id\"].drop_duplicates()\n",
    ")"
   ]
  },
  {
   "cell_type": "markdown",
   "metadata": {},
   "source": [
    "## Merge 2020 and 2021"
   ]
  },
  {
   "cell_type": "code",
   "execution_count": 41,
   "metadata": {},
   "outputs": [],
   "source": [
    "data_dir = Path(\n",
    "    \"~/Dropbox (Gladstone)/Documents/pathway-ocr/20210515/\"\n",
    ").expanduser()"
   ]
  },
  {
   "cell_type": "markdown",
   "metadata": {},
   "source": [
    "### figures"
   ]
  },
  {
   "cell_type": "markdown",
   "metadata": {},
   "source": [
    "#### Load Generic PMC Metadata\n",
    "\n",
    "Expecting 7129730 rows × 12 columns"
   ]
  },
  {
   "cell_type": "code",
   "execution_count": 42,
   "metadata": {
    "tags": []
   },
   "outputs": [
    {
     "name": "stderr",
     "output_type": "stream",
     "text": [
      "/nix/store/6cdpbcfv5g6zk9zhs1wv79648zmvdjd0-python3-3.8.8-env/lib/python3.8/site-packages/IPython/core/interactiveshell.py:3169: DtypeWarning: Columns (4,5,10) have mixed types.Specify dtype option on import or set low_memory=False.\n",
      "  has_raised = await self.run_ast_nodes(code_ast.body, cell_name,\n"
     ]
    },
    {
     "data": {
      "text/html": [
       "<div>\n",
       "<style scoped>\n",
       "    .dataframe tbody tr th:only-of-type {\n",
       "        vertical-align: middle;\n",
       "    }\n",
       "\n",
       "    .dataframe tbody tr th {\n",
       "        vertical-align: top;\n",
       "    }\n",
       "\n",
       "    .dataframe thead th {\n",
       "        text-align: right;\n",
       "    }\n",
       "</style>\n",
       "<table border=\"1\" class=\"dataframe\">\n",
       "  <thead>\n",
       "    <tr style=\"text-align: right;\">\n",
       "      <th></th>\n",
       "      <th>Journal Title</th>\n",
       "      <th>ISSN</th>\n",
       "      <th>eISSN</th>\n",
       "      <th>Year</th>\n",
       "      <th>Volume</th>\n",
       "      <th>Issue</th>\n",
       "      <th>Page</th>\n",
       "      <th>DOI</th>\n",
       "      <th>PMCID</th>\n",
       "      <th>PMID</th>\n",
       "      <th>Manuscript Id</th>\n",
       "      <th>Release Date</th>\n",
       "    </tr>\n",
       "  </thead>\n",
       "  <tbody>\n",
       "    <tr>\n",
       "      <th>0</th>\n",
       "      <td>Breast Cancer Res</td>\n",
       "      <td>1465-5411</td>\n",
       "      <td>1465-542X</td>\n",
       "      <td>2000</td>\n",
       "      <td>3</td>\n",
       "      <td>1.0</td>\n",
       "      <td>55</td>\n",
       "      <td>10.1186/bcr271</td>\n",
       "      <td>PMC13900</td>\n",
       "      <td>11250746.0</td>\n",
       "      <td>NaN</td>\n",
       "      <td>live</td>\n",
       "    </tr>\n",
       "    <tr>\n",
       "      <th>1</th>\n",
       "      <td>Breast Cancer Res</td>\n",
       "      <td>1465-5411</td>\n",
       "      <td>1465-542X</td>\n",
       "      <td>2000</td>\n",
       "      <td>3</td>\n",
       "      <td>1.0</td>\n",
       "      <td>61</td>\n",
       "      <td>10.1186/bcr272</td>\n",
       "      <td>PMC13901</td>\n",
       "      <td>11250747.0</td>\n",
       "      <td>NaN</td>\n",
       "      <td>live</td>\n",
       "    </tr>\n",
       "    <tr>\n",
       "      <th>2</th>\n",
       "      <td>Breast Cancer Res</td>\n",
       "      <td>1465-5411</td>\n",
       "      <td>1465-542X</td>\n",
       "      <td>2000</td>\n",
       "      <td>3</td>\n",
       "      <td>1.0</td>\n",
       "      <td>66</td>\n",
       "      <td>10.1186/bcr273</td>\n",
       "      <td>PMC13902</td>\n",
       "      <td>11250748.0</td>\n",
       "      <td>NaN</td>\n",
       "      <td>live</td>\n",
       "    </tr>\n",
       "    <tr>\n",
       "      <th>3</th>\n",
       "      <td>Breast Cancer Res</td>\n",
       "      <td>1465-5411</td>\n",
       "      <td>1465-542X</td>\n",
       "      <td>1999</td>\n",
       "      <td>2</td>\n",
       "      <td>1.0</td>\n",
       "      <td>59</td>\n",
       "      <td>10.1186/bcr29</td>\n",
       "      <td>PMC13911</td>\n",
       "      <td>11056684.0</td>\n",
       "      <td>NaN</td>\n",
       "      <td>live</td>\n",
       "    </tr>\n",
       "    <tr>\n",
       "      <th>4</th>\n",
       "      <td>Breast Cancer Res</td>\n",
       "      <td>1465-5411</td>\n",
       "      <td>1465-542X</td>\n",
       "      <td>1999</td>\n",
       "      <td>2</td>\n",
       "      <td>1.0</td>\n",
       "      <td>64</td>\n",
       "      <td>10.1186/bcr30</td>\n",
       "      <td>PMC13912</td>\n",
       "      <td>11400682.0</td>\n",
       "      <td>NaN</td>\n",
       "      <td>live</td>\n",
       "    </tr>\n",
       "    <tr>\n",
       "      <th>...</th>\n",
       "      <td>...</td>\n",
       "      <td>...</td>\n",
       "      <td>...</td>\n",
       "      <td>...</td>\n",
       "      <td>...</td>\n",
       "      <td>...</td>\n",
       "      <td>...</td>\n",
       "      <td>...</td>\n",
       "      <td>...</td>\n",
       "      <td>...</td>\n",
       "      <td>...</td>\n",
       "      <td>...</td>\n",
       "    </tr>\n",
       "    <tr>\n",
       "      <th>7139974</th>\n",
       "      <td>J Am Geriatr Soc</td>\n",
       "      <td>0002-8614</td>\n",
       "      <td>1532-5415</td>\n",
       "      <td>2019</td>\n",
       "      <td>67</td>\n",
       "      <td>11</td>\n",
       "      <td>2376</td>\n",
       "      <td>10.1111/jgs.16201</td>\n",
       "      <td>PMC8173537</td>\n",
       "      <td>31675106.0</td>\n",
       "      <td>NIHMS1698321</td>\n",
       "      <td>live</td>\n",
       "    </tr>\n",
       "    <tr>\n",
       "      <th>7139975</th>\n",
       "      <td>Org Lett</td>\n",
       "      <td>1523-7060</td>\n",
       "      <td>1523-7052</td>\n",
       "      <td>2021</td>\n",
       "      <td>23</td>\n",
       "      <td>10</td>\n",
       "      <td>4008</td>\n",
       "      <td>10.1021/acs.orglett.1c01218</td>\n",
       "      <td>PMC8173538</td>\n",
       "      <td>33979173.0</td>\n",
       "      <td>NIHMS1704325</td>\n",
       "      <td>live</td>\n",
       "    </tr>\n",
       "    <tr>\n",
       "      <th>7139976</th>\n",
       "      <td>Science</td>\n",
       "      <td>0036-8075</td>\n",
       "      <td>1095-9203</td>\n",
       "      <td>2021</td>\n",
       "      <td>372</td>\n",
       "      <td>6539</td>\n",
       "      <td>292</td>\n",
       "      <td>10.1126/science.aba7582</td>\n",
       "      <td>PMC8173539</td>\n",
       "      <td>33859035.0</td>\n",
       "      <td>NIHMS1699275</td>\n",
       "      <td>live</td>\n",
       "    </tr>\n",
       "    <tr>\n",
       "      <th>7139977</th>\n",
       "      <td>Clin Immunol</td>\n",
       "      <td>1521-6616</td>\n",
       "      <td>1521-7035</td>\n",
       "      <td>2020</td>\n",
       "      <td>221</td>\n",
       "      <td>NaN</td>\n",
       "      <td>108602</td>\n",
       "      <td>10.1016/j.clim.2020.108602</td>\n",
       "      <td>PMC8173542</td>\n",
       "      <td>33007439.0</td>\n",
       "      <td>NIHMS1701840</td>\n",
       "      <td>2021-12-01</td>\n",
       "    </tr>\n",
       "    <tr>\n",
       "      <th>7139978</th>\n",
       "      <td>J Natl Compr Canc Netw</td>\n",
       "      <td>1540-1405</td>\n",
       "      <td>1540-1413</td>\n",
       "      <td>2020</td>\n",
       "      <td>19</td>\n",
       "      <td>5</td>\n",
       "      <td>505</td>\n",
       "      <td>10.6004/jnccn.2020.7643</td>\n",
       "      <td>PMC8173586</td>\n",
       "      <td>33027755.0</td>\n",
       "      <td>NIHMS1707359</td>\n",
       "      <td>live</td>\n",
       "    </tr>\n",
       "  </tbody>\n",
       "</table>\n",
       "<p>7139979 rows × 12 columns</p>\n",
       "</div>"
      ],
      "text/plain": [
       "                  Journal Title       ISSN      eISSN  Year Volume Issue  \\\n",
       "0             Breast Cancer Res  1465-5411  1465-542X  2000      3   1.0   \n",
       "1             Breast Cancer Res  1465-5411  1465-542X  2000      3   1.0   \n",
       "2             Breast Cancer Res  1465-5411  1465-542X  2000      3   1.0   \n",
       "3             Breast Cancer Res  1465-5411  1465-542X  1999      2   1.0   \n",
       "4             Breast Cancer Res  1465-5411  1465-542X  1999      2   1.0   \n",
       "...                         ...        ...        ...   ...    ...   ...   \n",
       "7139974        J Am Geriatr Soc  0002-8614  1532-5415  2019     67    11   \n",
       "7139975                Org Lett  1523-7060  1523-7052  2021     23    10   \n",
       "7139976                 Science  0036-8075  1095-9203  2021    372  6539   \n",
       "7139977            Clin Immunol  1521-6616  1521-7035  2020    221   NaN   \n",
       "7139978  J Natl Compr Canc Netw  1540-1405  1540-1413  2020     19     5   \n",
       "\n",
       "           Page                          DOI       PMCID        PMID  \\\n",
       "0            55               10.1186/bcr271    PMC13900  11250746.0   \n",
       "1            61               10.1186/bcr272    PMC13901  11250747.0   \n",
       "2            66               10.1186/bcr273    PMC13902  11250748.0   \n",
       "3            59                10.1186/bcr29    PMC13911  11056684.0   \n",
       "4            64                10.1186/bcr30    PMC13912  11400682.0   \n",
       "...         ...                          ...         ...         ...   \n",
       "7139974    2376            10.1111/jgs.16201  PMC8173537  31675106.0   \n",
       "7139975    4008  10.1021/acs.orglett.1c01218  PMC8173538  33979173.0   \n",
       "7139976     292      10.1126/science.aba7582  PMC8173539  33859035.0   \n",
       "7139977  108602   10.1016/j.clim.2020.108602  PMC8173542  33007439.0   \n",
       "7139978     505      10.6004/jnccn.2020.7643  PMC8173586  33027755.0   \n",
       "\n",
       "        Manuscript Id Release Date  \n",
       "0                 NaN         live  \n",
       "1                 NaN         live  \n",
       "2                 NaN         live  \n",
       "3                 NaN         live  \n",
       "4                 NaN         live  \n",
       "...               ...          ...  \n",
       "7139974  NIHMS1698321         live  \n",
       "7139975  NIHMS1704325         live  \n",
       "7139976  NIHMS1699275         live  \n",
       "7139977  NIHMS1701840   2021-12-01  \n",
       "7139978  NIHMS1707359         live  \n",
       "\n",
       "[7139979 rows x 12 columns]"
      ]
     },
     "execution_count": 42,
     "metadata": {},
     "output_type": "execute_result"
    }
   ],
   "source": [
    "pmc_ids_url = \"https://ftp.ncbi.nlm.nih.gov/pub/pmc/PMC-ids.csv.gz\"\n",
    "pmcs_df = pd.read_csv(\n",
    "    pmc_ids_url,\n",
    "    dtype={\n",
    "        \"Year\": \"object\",\n",
    "        # TODO: some of these are NaN, so the following doesn't work\n",
    "        # \"Year\": np.int32,\n",
    "        # \"Volume\": np.int32,\n",
    "        # \"Issue\": np.int32,\n",
    "        # \"PMID\": np.int32,\n",
    "    },\n",
    ")\n",
    "pmcs_df"
   ]
  },
  {
   "cell_type": "code",
   "execution_count": null,
   "metadata": {},
   "outputs": [],
   "source": []
  },
  {
   "cell_type": "code",
   "execution_count": null,
   "metadata": {},
   "outputs": [],
   "source": []
  },
  {
   "cell_type": "markdown",
   "metadata": {},
   "source": [
    "#### Perform merge\n",
    "\n",
    "- OLD: de-dupe figures by pfocr_id in the 2020 database: 80557 rows × 14 columns.\n",
    "- CORRECT: de-dupe figures by pfocr_id in the 2020 figures RDS: 79949 rows × 14 columns."
   ]
  },
  {
   "cell_type": "code",
   "execution_count": 43,
   "metadata": {
    "tags": []
   },
   "outputs": [
    {
     "data": {
      "text/html": [
       "<div>\n",
       "<style scoped>\n",
       "    .dataframe tbody tr th:only-of-type {\n",
       "        vertical-align: middle;\n",
       "    }\n",
       "\n",
       "    .dataframe tbody tr th {\n",
       "        vertical-align: top;\n",
       "    }\n",
       "\n",
       "    .dataframe thead th {\n",
       "        text-align: right;\n",
       "    }\n",
       "</style>\n",
       "<table border=\"1\" class=\"dataframe\">\n",
       "  <thead>\n",
       "    <tr style=\"text-align: right;\">\n",
       "      <th></th>\n",
       "      <th>pfocr_id</th>\n",
       "      <th>figure_number</th>\n",
       "      <th>reference</th>\n",
       "      <th>pathway_score</th>\n",
       "      <th>figure_title</th>\n",
       "      <th>paper_title</th>\n",
       "      <th>figure_caption</th>\n",
       "      <th>pmc_id</th>\n",
       "      <th>paper_url</th>\n",
       "      <th>figure_page_url</th>\n",
       "      <th>figure_thumbnail_url</th>\n",
       "      <th>pfocr_year</th>\n",
       "      <th>Release Date</th>\n",
       "      <th>publication_year</th>\n",
       "    </tr>\n",
       "  </thead>\n",
       "  <tbody>\n",
       "    <tr>\n",
       "      <th>0</th>\n",
       "      <td>PMC5653847__41598_2017_14124_Fig8_HTML.jpg</td>\n",
       "      <td>Figure 8</td>\n",
       "      <td>Céline Barthelemy, et al. Sci Rep. 2017;7:13816.</td>\n",
       "      <td>0.968270</td>\n",
       "      <td>Model of FTY720-induced transporter endocytosi...</td>\n",
       "      <td>FTY720-induced endocytosis of yeast and human ...</td>\n",
       "      <td>Model of FTY720-induced transporter endocytosi...</td>\n",
       "      <td>PMC5653847</td>\n",
       "      <td>https://www.ncbi.nlm.nih.gov/pmc/articles/PMC5...</td>\n",
       "      <td>https://www.ncbi.nlm.nih.gov/pmc/articles/PMC5...</td>\n",
       "      <td>https://www.ncbi.nlm.nih.gov/pmc/articles/PMC5...</td>\n",
       "      <td>2020</td>\n",
       "      <td>live</td>\n",
       "      <td>2017</td>\n",
       "    </tr>\n",
       "    <tr>\n",
       "      <th>1</th>\n",
       "      <td>PMC4187043__zh20191474070013.jpg</td>\n",
       "      <td>Fig. 13</td>\n",
       "      <td>Yuan Wei, et al. Am J Physiol Renal Physiol. 2...</td>\n",
       "      <td>0.965793</td>\n",
       "      <td>Proposed signaling pathway by which the stimul...</td>\n",
       "      <td>Angiotensin II type 2 receptor regulates ROMK-...</td>\n",
       "      <td>Proposed signaling pathway by which the stimul...</td>\n",
       "      <td>PMC4187043</td>\n",
       "      <td>https://www.ncbi.nlm.nih.gov/pmc/articles/PMC4...</td>\n",
       "      <td>https://www.ncbi.nlm.nih.gov/pmc/articles/PMC4...</td>\n",
       "      <td>https://www.ncbi.nlm.nih.gov/pmc/articles/PMC4...</td>\n",
       "      <td>2020</td>\n",
       "      <td>live</td>\n",
       "      <td>2014</td>\n",
       "    </tr>\n",
       "    <tr>\n",
       "      <th>2</th>\n",
       "      <td>PMC5746550__rsob-7-170228-g1.jpg</td>\n",
       "      <td>Figure 1</td>\n",
       "      <td>Georgia R. Frost, et al. Open Biol. 2017 Dec;7...</td>\n",
       "      <td>0.962470</td>\n",
       "      <td>AŒ≤ production</td>\n",
       "      <td>The role of astrocytes in amyloid production a...</td>\n",
       "      <td>AŒ≤ production. In the amyloidogenic pathway (...</td>\n",
       "      <td>PMC5746550</td>\n",
       "      <td>https://www.ncbi.nlm.nih.gov/pmc/articles/PMC5...</td>\n",
       "      <td>https://www.ncbi.nlm.nih.gov/pmc/articles/PMC5...</td>\n",
       "      <td>https://www.ncbi.nlm.nih.gov/pmc/articles/PMC5...</td>\n",
       "      <td>2020</td>\n",
       "      <td>live</td>\n",
       "      <td>2017</td>\n",
       "    </tr>\n",
       "    <tr>\n",
       "      <th>3</th>\n",
       "      <td>PMC4211692__pone.0110875.g008.jpg</td>\n",
       "      <td>Figure 8</td>\n",
       "      <td>Enida Gjoni, et al. PLoS One. 2014;9(10):e110875.</td>\n",
       "      <td>0.966721</td>\n",
       "      <td></td>\n",
       "      <td>Glucolipotoxicity Impairs Ceramide Flow from t...</td>\n",
       "      <td>Glucolipotoxicity impairs CERT- and vesicular-...</td>\n",
       "      <td>PMC4211692</td>\n",
       "      <td>https://www.ncbi.nlm.nih.gov/pmc/articles/PMC4...</td>\n",
       "      <td>https://www.ncbi.nlm.nih.gov/pmc/articles/PMC4...</td>\n",
       "      <td>https://www.ncbi.nlm.nih.gov/pmc/articles/PMC4...</td>\n",
       "      <td>2020</td>\n",
       "      <td>live</td>\n",
       "      <td>2014</td>\n",
       "    </tr>\n",
       "    <tr>\n",
       "      <th>4</th>\n",
       "      <td>PMC2588433__nihms78212f8.jpg</td>\n",
       "      <td>Figure 8</td>\n",
       "      <td>Amanda L. Lewis, et al. J Biol Chem. ;282(38):...</td>\n",
       "      <td>0.966758</td>\n",
       "      <td></td>\n",
       "      <td>NeuA sialic acid O-acetylesterase activity mod...</td>\n",
       "      <td>Bacterial Sia biosynthesis can be divided into...</td>\n",
       "      <td>PMC2588433</td>\n",
       "      <td>https://www.ncbi.nlm.nih.gov/pmc/articles/PMC2...</td>\n",
       "      <td>https://www.ncbi.nlm.nih.gov/pmc/articles/PMC2...</td>\n",
       "      <td>https://www.ncbi.nlm.nih.gov/pmc/articles/PMC2...</td>\n",
       "      <td>2020</td>\n",
       "      <td>live</td>\n",
       "      <td>2007</td>\n",
       "    </tr>\n",
       "    <tr>\n",
       "      <th>...</th>\n",
       "      <td>...</td>\n",
       "      <td>...</td>\n",
       "      <td>...</td>\n",
       "      <td>...</td>\n",
       "      <td>...</td>\n",
       "      <td>...</td>\n",
       "      <td>...</td>\n",
       "      <td>...</td>\n",
       "      <td>...</td>\n",
       "      <td>...</td>\n",
       "      <td>...</td>\n",
       "      <td>...</td>\n",
       "      <td>...</td>\n",
       "      <td>...</td>\n",
       "    </tr>\n",
       "    <tr>\n",
       "      <th>79944</th>\n",
       "      <td>PMC7803631__gr3a.jpg</td>\n",
       "      <td></td>\n",
       "      <td>Dongwon Park, et al. Synth Syst Biotechnol. 20...</td>\n",
       "      <td>0.648432</td>\n",
       "      <td>Fig</td>\n",
       "      <td>Complex natural product production methods and...</td>\n",
       "      <td>Cell free biosynthesis for erythromycin A. The...</td>\n",
       "      <td>PMC7803631</td>\n",
       "      <td>https://www.ncbi.nlm.nih.gov/pmc/articles/PMC7...</td>\n",
       "      <td>None</td>\n",
       "      <td>https://www.ncbi.nlm.nih.gov/pmc/articles/PMC7...</td>\n",
       "      <td>2021</td>\n",
       "      <td>live</td>\n",
       "      <td>2021</td>\n",
       "    </tr>\n",
       "    <tr>\n",
       "      <th>79945</th>\n",
       "      <td>PMC7359798__gr2_lrg.jpg</td>\n",
       "      <td>Figure 2</td>\n",
       "      <td>Eva Bartok, et al. Immunity. 2020 Jul 14;53(1)...</td>\n",
       "      <td>0.922250</td>\n",
       "      <td>RNA Sensing and ResponseNon-comprehensive over...</td>\n",
       "      <td>Immune Sensing Mechanisms that Discriminate Se...</td>\n",
       "      <td>RNA Sensing and ResponseNon-comprehensive over...</td>\n",
       "      <td>PMC7359798</td>\n",
       "      <td>https://www.ncbi.nlm.nih.gov/pmc/articles/PMC7...</td>\n",
       "      <td>https://www.ncbi.nlm.nih.gov/pmc/articles/PMC7...</td>\n",
       "      <td>https://www.ncbi.nlm.nih.gov/pmc/articles/PMC7...</td>\n",
       "      <td>2021</td>\n",
       "      <td>live</td>\n",
       "      <td>2020</td>\n",
       "    </tr>\n",
       "    <tr>\n",
       "      <th>79946</th>\n",
       "      <td>PMC7530268__fonc-10-586530-g0001.jpg</td>\n",
       "      <td>Figure 1</td>\n",
       "      <td>Eric Grignano, et al. Front Oncol. 2020;10:586...</td>\n",
       "      <td>0.952995</td>\n",
       "      <td>The ferroptotic cascade</td>\n",
       "      <td>From Iron Chelation to Overload as a Therapeut...</td>\n",
       "      <td>The ferroptotic cascade. Accumulation of free ...</td>\n",
       "      <td>PMC7530268</td>\n",
       "      <td>https://www.ncbi.nlm.nih.gov/pmc/articles/PMC7...</td>\n",
       "      <td>https://www.ncbi.nlm.nih.gov/pmc/articles/PMC7...</td>\n",
       "      <td>https://www.ncbi.nlm.nih.gov/pmc/articles/PMC7...</td>\n",
       "      <td>2021</td>\n",
       "      <td>live</td>\n",
       "      <td>2020</td>\n",
       "    </tr>\n",
       "    <tr>\n",
       "      <th>79947</th>\n",
       "      <td>PMC7466447__fcell-08-00766-g001.jpg</td>\n",
       "      <td>FIGURE 1</td>\n",
       "      <td>Laurenz Nagl, et al. Front Cell Dev Biol. 2020...</td>\n",
       "      <td>0.933006</td>\n",
       "      <td>Immunoregulatory functions of TEC in the TME</td>\n",
       "      <td>Tumor Endothelial Cells (TECs) as Potential Im...</td>\n",
       "      <td>Immunoregulatory functions of TEC in the TME. ...</td>\n",
       "      <td>PMC7466447</td>\n",
       "      <td>https://www.ncbi.nlm.nih.gov/pmc/articles/PMC7...</td>\n",
       "      <td>https://www.ncbi.nlm.nih.gov/pmc/articles/PMC7...</td>\n",
       "      <td>https://www.ncbi.nlm.nih.gov/pmc/articles/PMC7...</td>\n",
       "      <td>2021</td>\n",
       "      <td>live</td>\n",
       "      <td>2020</td>\n",
       "    </tr>\n",
       "    <tr>\n",
       "      <th>79948</th>\n",
       "      <td>PMC7352181__cancers-12-01457-g002.jpg</td>\n",
       "      <td>Figure 2</td>\n",
       "      <td>Maria Joana Catarata, et al. Cancers (Basel). ...</td>\n",
       "      <td>0.956203</td>\n",
       "      <td>Angiotensin-associated pathways associated wit...</td>\n",
       "      <td>Renin-Angiotensin System in Lung Tumor and Mic...</td>\n",
       "      <td>Angiotensin-associated pathways associated wit...</td>\n",
       "      <td>PMC7352181</td>\n",
       "      <td>https://www.ncbi.nlm.nih.gov/pmc/articles/PMC7...</td>\n",
       "      <td>https://www.ncbi.nlm.nih.gov/pmc/articles/PMC7...</td>\n",
       "      <td>https://www.ncbi.nlm.nih.gov/pmc/articles/PMC7...</td>\n",
       "      <td>2021</td>\n",
       "      <td>live</td>\n",
       "      <td>2020</td>\n",
       "    </tr>\n",
       "  </tbody>\n",
       "</table>\n",
       "<p>79949 rows × 14 columns</p>\n",
       "</div>"
      ],
      "text/plain": [
       "                                         pfocr_id figure_number  \\\n",
       "0      PMC5653847__41598_2017_14124_Fig8_HTML.jpg      Figure 8   \n",
       "1                PMC4187043__zh20191474070013.jpg       Fig. 13   \n",
       "2                PMC5746550__rsob-7-170228-g1.jpg      Figure 1   \n",
       "3               PMC4211692__pone.0110875.g008.jpg      Figure 8   \n",
       "4                    PMC2588433__nihms78212f8.jpg      Figure 8   \n",
       "...                                           ...           ...   \n",
       "79944                        PMC7803631__gr3a.jpg                 \n",
       "79945                     PMC7359798__gr2_lrg.jpg      Figure 2   \n",
       "79946        PMC7530268__fonc-10-586530-g0001.jpg      Figure 1   \n",
       "79947         PMC7466447__fcell-08-00766-g001.jpg      FIGURE 1   \n",
       "79948       PMC7352181__cancers-12-01457-g002.jpg      Figure 2   \n",
       "\n",
       "                                               reference  pathway_score  \\\n",
       "0       Céline Barthelemy, et al. Sci Rep. 2017;7:13816.       0.968270   \n",
       "1      Yuan Wei, et al. Am J Physiol Renal Physiol. 2...       0.965793   \n",
       "2      Georgia R. Frost, et al. Open Biol. 2017 Dec;7...       0.962470   \n",
       "3      Enida Gjoni, et al. PLoS One. 2014;9(10):e110875.       0.966721   \n",
       "4      Amanda L. Lewis, et al. J Biol Chem. ;282(38):...       0.966758   \n",
       "...                                                  ...            ...   \n",
       "79944  Dongwon Park, et al. Synth Syst Biotechnol. 20...       0.648432   \n",
       "79945  Eva Bartok, et al. Immunity. 2020 Jul 14;53(1)...       0.922250   \n",
       "79946  Eric Grignano, et al. Front Oncol. 2020;10:586...       0.952995   \n",
       "79947  Laurenz Nagl, et al. Front Cell Dev Biol. 2020...       0.933006   \n",
       "79948  Maria Joana Catarata, et al. Cancers (Basel). ...       0.956203   \n",
       "\n",
       "                                            figure_title  \\\n",
       "0      Model of FTY720-induced transporter endocytosi...   \n",
       "1      Proposed signaling pathway by which the stimul...   \n",
       "2                                         AŒ≤ production   \n",
       "3                                                          \n",
       "4                                                          \n",
       "...                                                  ...   \n",
       "79944                                                Fig   \n",
       "79945  RNA Sensing and ResponseNon-comprehensive over...   \n",
       "79946                            The ferroptotic cascade   \n",
       "79947       Immunoregulatory functions of TEC in the TME   \n",
       "79948  Angiotensin-associated pathways associated wit...   \n",
       "\n",
       "                                             paper_title  \\\n",
       "0      FTY720-induced endocytosis of yeast and human ...   \n",
       "1      Angiotensin II type 2 receptor regulates ROMK-...   \n",
       "2      The role of astrocytes in amyloid production a...   \n",
       "3      Glucolipotoxicity Impairs Ceramide Flow from t...   \n",
       "4      NeuA sialic acid O-acetylesterase activity mod...   \n",
       "...                                                  ...   \n",
       "79944  Complex natural product production methods and...   \n",
       "79945  Immune Sensing Mechanisms that Discriminate Se...   \n",
       "79946  From Iron Chelation to Overload as a Therapeut...   \n",
       "79947  Tumor Endothelial Cells (TECs) as Potential Im...   \n",
       "79948  Renin-Angiotensin System in Lung Tumor and Mic...   \n",
       "\n",
       "                                          figure_caption      pmc_id  \\\n",
       "0      Model of FTY720-induced transporter endocytosi...  PMC5653847   \n",
       "1      Proposed signaling pathway by which the stimul...  PMC4187043   \n",
       "2      AŒ≤ production. In the amyloidogenic pathway (...  PMC5746550   \n",
       "3      Glucolipotoxicity impairs CERT- and vesicular-...  PMC4211692   \n",
       "4      Bacterial Sia biosynthesis can be divided into...  PMC2588433   \n",
       "...                                                  ...         ...   \n",
       "79944  Cell free biosynthesis for erythromycin A. The...  PMC7803631   \n",
       "79945  RNA Sensing and ResponseNon-comprehensive over...  PMC7359798   \n",
       "79946  The ferroptotic cascade. Accumulation of free ...  PMC7530268   \n",
       "79947  Immunoregulatory functions of TEC in the TME. ...  PMC7466447   \n",
       "79948  Angiotensin-associated pathways associated wit...  PMC7352181   \n",
       "\n",
       "                                               paper_url  \\\n",
       "0      https://www.ncbi.nlm.nih.gov/pmc/articles/PMC5...   \n",
       "1      https://www.ncbi.nlm.nih.gov/pmc/articles/PMC4...   \n",
       "2      https://www.ncbi.nlm.nih.gov/pmc/articles/PMC5...   \n",
       "3      https://www.ncbi.nlm.nih.gov/pmc/articles/PMC4...   \n",
       "4      https://www.ncbi.nlm.nih.gov/pmc/articles/PMC2...   \n",
       "...                                                  ...   \n",
       "79944  https://www.ncbi.nlm.nih.gov/pmc/articles/PMC7...   \n",
       "79945  https://www.ncbi.nlm.nih.gov/pmc/articles/PMC7...   \n",
       "79946  https://www.ncbi.nlm.nih.gov/pmc/articles/PMC7...   \n",
       "79947  https://www.ncbi.nlm.nih.gov/pmc/articles/PMC7...   \n",
       "79948  https://www.ncbi.nlm.nih.gov/pmc/articles/PMC7...   \n",
       "\n",
       "                                         figure_page_url  \\\n",
       "0      https://www.ncbi.nlm.nih.gov/pmc/articles/PMC5...   \n",
       "1      https://www.ncbi.nlm.nih.gov/pmc/articles/PMC4...   \n",
       "2      https://www.ncbi.nlm.nih.gov/pmc/articles/PMC5...   \n",
       "3      https://www.ncbi.nlm.nih.gov/pmc/articles/PMC4...   \n",
       "4      https://www.ncbi.nlm.nih.gov/pmc/articles/PMC2...   \n",
       "...                                                  ...   \n",
       "79944                                               None   \n",
       "79945  https://www.ncbi.nlm.nih.gov/pmc/articles/PMC7...   \n",
       "79946  https://www.ncbi.nlm.nih.gov/pmc/articles/PMC7...   \n",
       "79947  https://www.ncbi.nlm.nih.gov/pmc/articles/PMC7...   \n",
       "79948  https://www.ncbi.nlm.nih.gov/pmc/articles/PMC7...   \n",
       "\n",
       "                                    figure_thumbnail_url  pfocr_year  \\\n",
       "0      https://www.ncbi.nlm.nih.gov/pmc/articles/PMC5...        2020   \n",
       "1      https://www.ncbi.nlm.nih.gov/pmc/articles/PMC4...        2020   \n",
       "2      https://www.ncbi.nlm.nih.gov/pmc/articles/PMC5...        2020   \n",
       "3      https://www.ncbi.nlm.nih.gov/pmc/articles/PMC4...        2020   \n",
       "4      https://www.ncbi.nlm.nih.gov/pmc/articles/PMC2...        2020   \n",
       "...                                                  ...         ...   \n",
       "79944  https://www.ncbi.nlm.nih.gov/pmc/articles/PMC7...        2021   \n",
       "79945  https://www.ncbi.nlm.nih.gov/pmc/articles/PMC7...        2021   \n",
       "79946  https://www.ncbi.nlm.nih.gov/pmc/articles/PMC7...        2021   \n",
       "79947  https://www.ncbi.nlm.nih.gov/pmc/articles/PMC7...        2021   \n",
       "79948  https://www.ncbi.nlm.nih.gov/pmc/articles/PMC7...        2021   \n",
       "\n",
       "      Release Date publication_year  \n",
       "0             live             2017  \n",
       "1             live             2014  \n",
       "2             live             2017  \n",
       "3             live             2014  \n",
       "4             live             2007  \n",
       "...            ...              ...  \n",
       "79944         live             2021  \n",
       "79945         live             2020  \n",
       "79946         live             2020  \n",
       "79947         live             2020  \n",
       "79948         live             2020  \n",
       "\n",
       "[79949 rows x 14 columns]"
      ]
     },
     "execution_count": 43,
     "metadata": {},
     "output_type": "execute_result"
    }
   ],
   "source": [
    "pfocr_figures_df = pd.merge(\n",
    "    (\n",
    "        (\n",
    "            # excluding 608 figures we downloaded but didn't OCR in 2020\n",
    "            figures_2020_rds_df[\n",
    "                figures_2020_rds_df[\"pfocr_id\"].isin(\n",
    "                    figures_2021_df[\"pfocr_id\"]\n",
    "                )\n",
    "                == False\n",
    "            ]\n",
    "        )\n",
    "        .append(figures_2021_df)\n",
    "        .reset_index(drop=True)\n",
    "        .drop(columns=[\"pmc_search_index\"])\n",
    "    ),\n",
    "    (\n",
    "        pmcs_df[[\"PMCID\", \"Year\", \"Release Date\"]]\n",
    "        .rename(\n",
    "            columns={\n",
    "                \"PMCID\": \"pmc_id\",\n",
    "                \"Year\": \"publication_year_updated\",\n",
    "                # \"Release Date\": \"release_date\",\n",
    "            }\n",
    "        )\n",
    "        .set_index(\"pmc_id\")\n",
    "    ),\n",
    "    how=\"left\",\n",
    "    on=[\"pmc_id\"],\n",
    ")\n",
    "\n",
    "pfocr_figures_df[\"publication_year_combined\"] = pfocr_figures_df[\n",
    "    \"publication_year\"\n",
    "].combine_first(pfocr_figures_df[\"publication_year_updated\"])\n",
    "\n",
    "pfocr_figures_df = pfocr_figures_df.drop(\n",
    "    columns=[\"publication_year\", \"publication_year_updated\"]\n",
    ").rename(columns={\"publication_year_combined\": \"publication_year\"})\n",
    "\n",
    "pfocr_figures_df"
   ]
  },
  {
   "cell_type": "markdown",
   "metadata": {},
   "source": [
    "Save file:"
   ]
  },
  {
   "cell_type": "raw",
   "metadata": {},
   "source": [
    "pandas2rds(\n",
    "    pfocr_figures_df,\n",
    "    data_dir.joinpath(\"pfocr_figures_20210515.rds\"),\n",
    ")"
   ]
  },
  {
   "cell_type": "code",
   "execution_count": 45,
   "metadata": {},
   "outputs": [
    {
     "data": {
      "text/plain": [
       "15914"
      ]
     },
     "execution_count": 45,
     "metadata": {},
     "output_type": "execute_result"
    }
   ],
   "source": [
    "len(set(figures_2021_df[\"pfocr_id\"]))"
   ]
  },
  {
   "cell_type": "code",
   "execution_count": 46,
   "metadata": {},
   "outputs": [
    {
     "data": {
      "text/plain": [
       "608"
      ]
     },
     "execution_count": 46,
     "metadata": {},
     "output_type": "execute_result"
    }
   ],
   "source": [
    "len(set(figures_2020_rds_df[\"pfocr_id\"]) & set(figures_2021_df[\"pfocr_id\"]))"
   ]
  },
  {
   "cell_type": "code",
   "execution_count": 47,
   "metadata": {},
   "outputs": [
    {
     "data": {
      "text/plain": [
       "608"
      ]
     },
     "execution_count": 47,
     "metadata": {},
     "output_type": "execute_result"
    }
   ],
   "source": [
    "len(\n",
    "    (set(figures_2020_rds_df[\"pfocr_id\"]) & set(figures_2021_df[\"pfocr_id\"]))\n",
    "    - set(genes_2020_df[\"pfocr_id\"])\n",
    ")"
   ]
  },
  {
   "cell_type": "code",
   "execution_count": 48,
   "metadata": {},
   "outputs": [
    {
     "data": {
      "text/plain": [
       "608"
      ]
     },
     "execution_count": 48,
     "metadata": {},
     "output_type": "execute_result"
    }
   ],
   "source": [
    "len(\n",
    "    (set(figures_2020_rds_df[\"pfocr_id\"]) & set(figures_2021_df[\"pfocr_id\"]))\n",
    "    - set(figures_2020_db_df[\"pfocr_id\"])\n",
    ")"
   ]
  },
  {
   "cell_type": "code",
   "execution_count": 49,
   "metadata": {},
   "outputs": [
    {
     "data": {
      "text/plain": [
       "79949"
      ]
     },
     "execution_count": 49,
     "metadata": {},
     "output_type": "execute_result"
    }
   ],
   "source": [
    "len(set(figures_2020_rds_df[\"pfocr_id\"]) | set(figures_2021_df[\"pfocr_id\"]))"
   ]
  },
  {
   "cell_type": "code",
   "execution_count": 50,
   "metadata": {},
   "outputs": [
    {
     "name": "stdout",
     "output_type": "stream",
     "text": [
      "64643\n"
     ]
    },
    {
     "data": {
      "text/plain": [
       "64643"
      ]
     },
     "execution_count": 50,
     "metadata": {},
     "output_type": "execute_result"
    }
   ],
   "source": [
    "print(len(set(figures_2020_rds_df[\"pfocr_id\"])))\n",
    "len(figures_2020_rds_df[\"pfocr_id\"])"
   ]
  },
  {
   "cell_type": "code",
   "execution_count": 51,
   "metadata": {},
   "outputs": [
    {
     "name": "stdout",
     "output_type": "stream",
     "text": [
      "15914\n"
     ]
    },
    {
     "data": {
      "text/plain": [
       "15914"
      ]
     },
     "execution_count": 51,
     "metadata": {},
     "output_type": "execute_result"
    }
   ],
   "source": [
    "print(len(set(figures_2021_df[\"pfocr_id\"])))\n",
    "len(figures_2021_df[\"pfocr_id\"])"
   ]
  },
  {
   "cell_type": "code",
   "execution_count": 52,
   "metadata": {},
   "outputs": [
    {
     "data": {
      "text/plain": [
       "0"
      ]
     },
     "execution_count": 52,
     "metadata": {},
     "output_type": "execute_result"
    }
   ],
   "source": [
    "len(set(genes_2020_df[\"pfocr_id\"]) & set(genes_2021_df[\"pfocr_id\"]))"
   ]
  },
  {
   "cell_type": "code",
   "execution_count": 53,
   "metadata": {},
   "outputs": [
    {
     "name": "stdout",
     "output_type": "stream",
     "text": [
      "79949\n",
      "79949\n"
     ]
    }
   ],
   "source": [
    "print(len(set(pfocr_figures_df[\"pfocr_id\"])))\n",
    "print(len(pfocr_figures_df[\"pfocr_id\"]))"
   ]
  },
  {
   "cell_type": "code",
   "execution_count": 54,
   "metadata": {},
   "outputs": [
    {
     "name": "stdout",
     "output_type": "stream",
     "text": [
      "64643\n",
      "64643\n"
     ]
    }
   ],
   "source": [
    "print(len(set(figures_2020_rds_df[\"pfocr_id\"])))\n",
    "print(len(figures_2020_rds_df[\"pfocr_id\"]))"
   ]
  },
  {
   "cell_type": "code",
   "execution_count": 55,
   "metadata": {},
   "outputs": [
    {
     "name": "stdout",
     "output_type": "stream",
     "text": [
      "15914\n",
      "15914\n"
     ]
    }
   ],
   "source": [
    "print(len(set(figures_2021_df[\"pfocr_id\"])))\n",
    "print(len(figures_2021_df[\"pfocr_id\"]))"
   ]
  },
  {
   "cell_type": "code",
   "execution_count": 56,
   "metadata": {},
   "outputs": [
    {
     "name": "stdout",
     "output_type": "stream",
     "text": [
      "79949\n",
      "80557\n"
     ]
    }
   ],
   "source": [
    "print(\n",
    "    len(\n",
    "        set(\n",
    "            figures_2020_rds_df[\"pfocr_id\"].to_list()\n",
    "            + figures_2021_df[\"pfocr_id\"].to_list()\n",
    "        )\n",
    "    )\n",
    ")\n",
    "print(\n",
    "    len(\n",
    "        figures_2020_rds_df[\"pfocr_id\"].to_list()\n",
    "        + figures_2021_df[\"pfocr_id\"].to_list()\n",
    "    )\n",
    ")"
   ]
  },
  {
   "cell_type": "code",
   "execution_count": 57,
   "metadata": {},
   "outputs": [
    {
     "data": {
      "text/plain": [
       "68976"
      ]
     },
     "execution_count": 57,
     "metadata": {},
     "output_type": "execute_result"
    }
   ],
   "source": [
    "len(\n",
    "    set(figures_2021_df[\"pmc_id\"].to_list())\n",
    "    | set(figures_2020_rds_df[\"pmc_id\"].to_list())\n",
    ")"
   ]
  },
  {
   "cell_type": "code",
   "execution_count": 58,
   "metadata": {},
   "outputs": [
    {
     "data": {
      "text/plain": [
       "56095"
      ]
     },
     "execution_count": 58,
     "metadata": {},
     "output_type": "execute_result"
    }
   ],
   "source": [
    "len(set(figures_2020_rds_df[\"pmc_id\"].to_list()))"
   ]
  },
  {
   "cell_type": "code",
   "execution_count": 59,
   "metadata": {
    "tags": []
   },
   "outputs": [
    {
     "data": {
      "text/plain": [
       "13414"
      ]
     },
     "execution_count": 59,
     "metadata": {},
     "output_type": "execute_result"
    }
   ],
   "source": [
    "len(set(figures_2021_df[\"pmc_id\"].to_list()))"
   ]
  },
  {
   "cell_type": "code",
   "execution_count": null,
   "metadata": {},
   "outputs": [],
   "source": []
  },
  {
   "cell_type": "code",
   "execution_count": null,
   "metadata": {},
   "outputs": [],
   "source": []
  },
  {
   "cell_type": "markdown",
   "metadata": {},
   "source": [
    "#### Get OA PMC data\n",
    "\n",
    "Get the OA PMC data in XML format (only run this during the off-hours).\n",
    "\n",
    "[Docs](https://www.ncbi.nlm.nih.gov/pmc/tools/oai/)\n",
    "\n",
    "Maybe this should go into a different file?"
   ]
  },
  {
   "cell_type": "raw",
   "metadata": {},
   "source": [
    "import time\n",
    "\n",
    "tool = \"pfocr\"\n",
    "email = \"anders.riutta@gladstone.ucsf.edu\"\n",
    "\n",
    "for pmc_id in list(\n",
    "    set(figures_2021_df[\"pmc_id\"].to_list())\n",
    "    | set(figures_2020_rds_df[\"pmc_id\"].to_list())\n",
    "):\n",
    "    deprefixed_pmc_id = pmc_id[3:]\n",
    "\n",
    "    xml_path = images_dir.joinpath(f\"{pmc_id}.xml\")\n",
    "\n",
    "    if xml_path.exists():\n",
    "        continue\n",
    "\n",
    "    pmc_url = \"&\".join(\n",
    "        [\n",
    "            \"https://www.ncbi.nlm.nih.gov/pmc/oai/oai.cgi?verb=GetRecord\",\n",
    "            f\"identifier=oai:pubmedcentral.nih.gov:{deprefixed_pmc_id}\",\n",
    "            \"metadataPrefix=pmc\",\n",
    "            # TODO: why am I getting an error when I use any of the following?\n",
    "            # f\"api_key={NCBI_API_KEY}\",\n",
    "            # f\"tool={tool}\",\n",
    "            # f\"email={requests.utils.quote(email)}\",\n",
    "        ]\n",
    "    )\n",
    "    with open(xml_path, \"wb\") as f:\n",
    "        with requests.get(pmc_url, stream=True) as r:\n",
    "            for chunk in r.iter_content(chunk_size=128):\n",
    "                f.write(chunk)\n",
    "            f.seek(0)\n",
    "    time.sleep(0.333)"
   ]
  },
  {
   "cell_type": "code",
   "execution_count": null,
   "metadata": {},
   "outputs": [],
   "source": []
  },
  {
   "cell_type": "markdown",
   "metadata": {},
   "source": [
    "### genes\n",
    "\n",
    "- OLD: de-duping figures only by hash in 2020 database: 1,326,706 rows (wrong b/c some figure hashes changed)\n",
    "- OLD: de-duping figures by pfocr_id in 2020 figures RDS: 1,317,561 rows × 8 columns (wrong because OCR request failed for 608 figures in 2020)\n",
    "- CORRECT: de-duping figures by hash or pfocr_id in 2020 database: 1,326,409 rows × 8 columns"
   ]
  },
  {
   "cell_type": "code",
   "execution_count": 60,
   "metadata": {},
   "outputs": [
    {
     "data": {
      "text/html": [
       "<div>\n",
       "<style scoped>\n",
       "    .dataframe tbody tr th:only-of-type {\n",
       "        vertical-align: middle;\n",
       "    }\n",
       "\n",
       "    .dataframe tbody tr th {\n",
       "        vertical-align: top;\n",
       "    }\n",
       "\n",
       "    .dataframe thead th {\n",
       "        text-align: right;\n",
       "    }\n",
       "</style>\n",
       "<table border=\"1\" class=\"dataframe\">\n",
       "  <thead>\n",
       "    <tr style=\"text-align: right;\">\n",
       "      <th></th>\n",
       "      <th>pfocr_id</th>\n",
       "      <th>pmc_id</th>\n",
       "      <th>matched_ocr_text</th>\n",
       "      <th>lexicon_term</th>\n",
       "      <th>lexicon_term_source</th>\n",
       "      <th>hgnc_symbol</th>\n",
       "      <th>ncbigene_id</th>\n",
       "      <th>pfocr_year</th>\n",
       "    </tr>\n",
       "  </thead>\n",
       "  <tbody>\n",
       "    <tr>\n",
       "      <th>0</th>\n",
       "      <td>PMC100003__mb2410470011.jpg</td>\n",
       "      <td>PMC100003</td>\n",
       "      <td>Ga12,Gaq</td>\n",
       "      <td>G-ALPHA-q</td>\n",
       "      <td>hgnc_alias_symbol</td>\n",
       "      <td>GNAQ</td>\n",
       "      <td>2776</td>\n",
       "      <td>2020</td>\n",
       "    </tr>\n",
       "    <tr>\n",
       "      <th>1</th>\n",
       "      <td>PMC100003__mb2410470011.jpg</td>\n",
       "      <td>PMC100003</td>\n",
       "      <td>Etk</td>\n",
       "      <td>ETK</td>\n",
       "      <td>hgnc_alias_symbol</td>\n",
       "      <td>BMX</td>\n",
       "      <td>660</td>\n",
       "      <td>2020</td>\n",
       "    </tr>\n",
       "    <tr>\n",
       "      <th>2</th>\n",
       "      <td>PMC100003__mb2410470011.jpg</td>\n",
       "      <td>PMC100003</td>\n",
       "      <td>FAK</td>\n",
       "      <td>FAK</td>\n",
       "      <td>hgnc_alias_symbol</td>\n",
       "      <td>PTK2</td>\n",
       "      <td>5747</td>\n",
       "      <td>2020</td>\n",
       "    </tr>\n",
       "    <tr>\n",
       "      <th>3</th>\n",
       "      <td>PMC100003__mb2410470011.jpg</td>\n",
       "      <td>PMC100003</td>\n",
       "      <td>AR*</td>\n",
       "      <td>AR</td>\n",
       "      <td>hgnc_symbol</td>\n",
       "      <td>AR</td>\n",
       "      <td>367</td>\n",
       "      <td>2020</td>\n",
       "    </tr>\n",
       "    <tr>\n",
       "      <th>4</th>\n",
       "      <td>PMC100003__mb2410470011.jpg</td>\n",
       "      <td>PMC100003</td>\n",
       "      <td>(Src</td>\n",
       "      <td>SRC</td>\n",
       "      <td>hgnc_symbol</td>\n",
       "      <td>SRC</td>\n",
       "      <td>6714</td>\n",
       "      <td>2020</td>\n",
       "    </tr>\n",
       "    <tr>\n",
       "      <th>...</th>\n",
       "      <td>...</td>\n",
       "      <td>...</td>\n",
       "      <td>...</td>\n",
       "      <td>...</td>\n",
       "      <td>...</td>\n",
       "      <td>...</td>\n",
       "      <td>...</td>\n",
       "      <td>...</td>\n",
       "    </tr>\n",
       "    <tr>\n",
       "      <th>1326404</th>\n",
       "      <td>PMC7927090__ijms-22-02194-g002.jpg</td>\n",
       "      <td>NaN</td>\n",
       "      <td>AKT</td>\n",
       "      <td>AKT</td>\n",
       "      <td>NaN</td>\n",
       "      <td>NaN</td>\n",
       "      <td>207</td>\n",
       "      <td>2021</td>\n",
       "    </tr>\n",
       "    <tr>\n",
       "      <th>1326405</th>\n",
       "      <td>PMC7927090__ijms-22-02194-g002.jpg</td>\n",
       "      <td>NaN</td>\n",
       "      <td>Smad</td>\n",
       "      <td>SMAD</td>\n",
       "      <td>NaN</td>\n",
       "      <td>NaN</td>\n",
       "      <td>4092</td>\n",
       "      <td>2021</td>\n",
       "    </tr>\n",
       "    <tr>\n",
       "      <th>1326406</th>\n",
       "      <td>PMC7927090__ijms-22-02194-g002.jpg</td>\n",
       "      <td>NaN</td>\n",
       "      <td>MTOR</td>\n",
       "      <td>MTOR</td>\n",
       "      <td>NaN</td>\n",
       "      <td>NaN</td>\n",
       "      <td>2475</td>\n",
       "      <td>2021</td>\n",
       "    </tr>\n",
       "    <tr>\n",
       "      <th>1326407</th>\n",
       "      <td>PMC7927090__ijms-22-02194-g002.jpg</td>\n",
       "      <td>NaN</td>\n",
       "      <td>VEGFR2</td>\n",
       "      <td>VEGFR2</td>\n",
       "      <td>NaN</td>\n",
       "      <td>NaN</td>\n",
       "      <td>3791</td>\n",
       "      <td>2021</td>\n",
       "    </tr>\n",
       "    <tr>\n",
       "      <th>1326408</th>\n",
       "      <td>PMC7927090__ijms-22-02194-g002.jpg</td>\n",
       "      <td>NaN</td>\n",
       "      <td>TGF-B</td>\n",
       "      <td>TGFB</td>\n",
       "      <td>NaN</td>\n",
       "      <td>NaN</td>\n",
       "      <td>7043</td>\n",
       "      <td>2021</td>\n",
       "    </tr>\n",
       "  </tbody>\n",
       "</table>\n",
       "<p>1326409 rows × 8 columns</p>\n",
       "</div>"
      ],
      "text/plain": [
       "                                   pfocr_id     pmc_id matched_ocr_text  \\\n",
       "0               PMC100003__mb2410470011.jpg  PMC100003         Ga12,Gaq   \n",
       "1               PMC100003__mb2410470011.jpg  PMC100003              Etk   \n",
       "2               PMC100003__mb2410470011.jpg  PMC100003              FAK   \n",
       "3               PMC100003__mb2410470011.jpg  PMC100003              AR*   \n",
       "4               PMC100003__mb2410470011.jpg  PMC100003             (Src   \n",
       "...                                     ...        ...              ...   \n",
       "1326404  PMC7927090__ijms-22-02194-g002.jpg        NaN              AKT   \n",
       "1326405  PMC7927090__ijms-22-02194-g002.jpg        NaN             Smad   \n",
       "1326406  PMC7927090__ijms-22-02194-g002.jpg        NaN             MTOR   \n",
       "1326407  PMC7927090__ijms-22-02194-g002.jpg        NaN           VEGFR2   \n",
       "1326408  PMC7927090__ijms-22-02194-g002.jpg        NaN            TGF-B   \n",
       "\n",
       "        lexicon_term lexicon_term_source hgnc_symbol  ncbigene_id  pfocr_year  \n",
       "0          G-ALPHA-q   hgnc_alias_symbol        GNAQ         2776        2020  \n",
       "1                ETK   hgnc_alias_symbol         BMX          660        2020  \n",
       "2                FAK   hgnc_alias_symbol        PTK2         5747        2020  \n",
       "3                 AR         hgnc_symbol          AR          367        2020  \n",
       "4                SRC         hgnc_symbol         SRC         6714        2020  \n",
       "...              ...                 ...         ...          ...         ...  \n",
       "1326404          AKT                 NaN         NaN          207        2021  \n",
       "1326405         SMAD                 NaN         NaN         4092        2021  \n",
       "1326406         MTOR                 NaN         NaN         2475        2021  \n",
       "1326407       VEGFR2                 NaN         NaN         3791        2021  \n",
       "1326408         TGFB                 NaN         NaN         7043        2021  \n",
       "\n",
       "[1326409 rows x 8 columns]"
      ]
     },
     "execution_count": 60,
     "metadata": {},
     "output_type": "execute_result"
    }
   ],
   "source": [
    "pfocr_genes_df = genes_2020_df.append(genes_2021_df).reset_index(drop=True)\n",
    "pfocr_genes_df"
   ]
  },
  {
   "cell_type": "markdown",
   "metadata": {},
   "source": [
    "Save file:"
   ]
  },
  {
   "cell_type": "raw",
   "metadata": {},
   "source": [
    "pandas2rds(pfocr_genes_df, data_dir.joinpath(\"pfocr_genes_20210515.rds\"))"
   ]
  },
  {
   "cell_type": "code",
   "execution_count": 61,
   "metadata": {},
   "outputs": [
    {
     "data": {
      "text/plain": [
       "205010"
      ]
     },
     "execution_count": 61,
     "metadata": {},
     "output_type": "execute_result"
    }
   ],
   "source": [
    "1317561 - 1112551"
   ]
  },
  {
   "cell_type": "code",
   "execution_count": 62,
   "metadata": {},
   "outputs": [
    {
     "data": {
      "text/plain": [
       "0.18427020424232238"
      ]
     },
     "execution_count": 62,
     "metadata": {},
     "output_type": "execute_result"
    }
   ],
   "source": [
    "(1317561 - 1112551) / 1112551"
   ]
  },
  {
   "cell_type": "code",
   "execution_count": 63,
   "metadata": {},
   "outputs": [
    {
     "data": {
      "text/plain": [
       "0.19235073268551284"
      ]
     },
     "execution_count": 63,
     "metadata": {},
     "output_type": "execute_result"
    }
   ],
   "source": [
    "214000 / 1112551"
   ]
  },
  {
   "cell_type": "code",
   "execution_count": 64,
   "metadata": {},
   "outputs": [
    {
     "data": {
      "text/plain": [
       "0.25167385585020374"
      ]
     },
     "execution_count": 64,
     "metadata": {},
     "output_type": "execute_result"
    }
   ],
   "source": [
    "280000 / 1112551"
   ]
  },
  {
   "cell_type": "code",
   "execution_count": 65,
   "metadata": {},
   "outputs": [
    {
     "data": {
      "text/plain": [
       "267012.24"
      ]
     },
     "execution_count": 65,
     "metadata": {},
     "output_type": "execute_result"
    }
   ],
   "source": [
    "0.24 * 1112551"
   ]
  },
  {
   "cell_type": "code",
   "execution_count": 66,
   "metadata": {},
   "outputs": [
    {
     "data": {
      "text/plain": [
       "0.23076923076923078"
      ]
     },
     "execution_count": 66,
     "metadata": {},
     "output_type": "execute_result"
    }
   ],
   "source": [
    "15 / 65"
   ]
  },
  {
   "cell_type": "code",
   "execution_count": 67,
   "metadata": {},
   "outputs": [
    {
     "data": {
      "text/plain": [
       "0.24615384615384617"
      ]
     },
     "execution_count": 67,
     "metadata": {},
     "output_type": "execute_result"
    }
   ],
   "source": [
    "16 / 65"
   ]
  },
  {
   "cell_type": "code",
   "execution_count": 68,
   "metadata": {},
   "outputs": [
    {
     "data": {
      "text/plain": [
       "0.236777377287564"
      ]
     },
     "execution_count": 68,
     "metadata": {},
     "output_type": "execute_result"
    }
   ],
   "source": [
    "(79949 - 64643) / 64643"
   ]
  },
  {
   "cell_type": "markdown",
   "metadata": {},
   "source": [
    "Expected number of unique NCBI Gene IDs (gene count) in `pfocr_genes_df`:\n",
    "\n",
    "- OLD: de-dupe figures by pfocr_id in 2020 figures RDS: 14233.\n",
    "- CORRECT: de-dupe figures by pfocr_id in 2020 database: 14251."
   ]
  },
  {
   "cell_type": "code",
   "execution_count": 70,
   "metadata": {},
   "outputs": [
    {
     "data": {
      "text/plain": [
       "14251"
      ]
     },
     "execution_count": 70,
     "metadata": {},
     "output_type": "execute_result"
    }
   ],
   "source": [
    "len(pfocr_genes_df[\"ncbigene_id\"].drop_duplicates())"
   ]
  },
  {
   "cell_type": "markdown",
   "metadata": {},
   "source": [
    "Expected number of unique hgnc_symbols (alternate gene count) in `pfocr_genes_df`:\n",
    "\n",
    "- CORRECT: de-dupe figures by pfocr_id in 2020 database: 13465."
   ]
  },
  {
   "cell_type": "code",
   "execution_count": 71,
   "metadata": {},
   "outputs": [
    {
     "data": {
      "text/plain": [
       "13465"
      ]
     },
     "execution_count": 71,
     "metadata": {},
     "output_type": "execute_result"
    }
   ],
   "source": [
    "len(pfocr_genes_df[\"hgnc_symbol\"].drop_duplicates())"
   ]
  },
  {
   "cell_type": "markdown",
   "metadata": {},
   "source": [
    "Expected number of unique pfocr_ids (figure count) in `pfocr_genes_df` (it has at least one gene):\n",
    "\n",
    "- OLD: de-dupe figures by pfocr_id in 2020 figures RDS: 73305.\n",
    "- CORRECT: de-dupe figures by pfocr_id in 2020 database: 73876."
   ]
  },
  {
   "cell_type": "code",
   "execution_count": 72,
   "metadata": {},
   "outputs": [
    {
     "data": {
      "text/plain": [
       "73876"
      ]
     },
     "execution_count": 72,
     "metadata": {},
     "output_type": "execute_result"
    }
   ],
   "source": [
    "len(pfocr_genes_df[\"pfocr_id\"].drop_duplicates())"
   ]
  },
  {
   "cell_type": "markdown",
   "metadata": {},
   "source": [
    "Expected number of unique pfocr_ids (figure count) in `pfocr_genes_df`: 79949"
   ]
  },
  {
   "cell_type": "code",
   "execution_count": 73,
   "metadata": {},
   "outputs": [
    {
     "data": {
      "text/plain": [
       "79949"
      ]
     },
     "execution_count": 73,
     "metadata": {},
     "output_type": "execute_result"
    }
   ],
   "source": [
    "len(pfocr_figures_df[\"pfocr_id\"].drop_duplicates())"
   ]
  },
  {
   "cell_type": "code",
   "execution_count": null,
   "metadata": {},
   "outputs": [],
   "source": []
  },
  {
   "cell_type": "code",
   "execution_count": null,
   "metadata": {},
   "outputs": [],
   "source": []
  },
  {
   "cell_type": "code",
   "execution_count": null,
   "metadata": {},
   "outputs": [],
   "source": []
  },
  {
   "cell_type": "code",
   "execution_count": null,
   "metadata": {},
   "outputs": [],
   "source": []
  },
  {
   "cell_type": "code",
   "execution_count": null,
   "metadata": {},
   "outputs": [],
   "source": []
  },
  {
   "cell_type": "code",
   "execution_count": null,
   "metadata": {},
   "outputs": [],
   "source": []
  },
  {
   "cell_type": "code",
   "execution_count": null,
   "metadata": {},
   "outputs": [],
   "source": []
  },
  {
   "cell_type": "code",
   "execution_count": null,
   "metadata": {},
   "outputs": [],
   "source": []
  },
  {
   "cell_type": "code",
   "execution_count": null,
   "metadata": {},
   "outputs": [],
   "source": []
  },
  {
   "cell_type": "code",
   "execution_count": null,
   "metadata": {},
   "outputs": [],
   "source": []
  },
  {
   "cell_type": "code",
   "execution_count": null,
   "metadata": {},
   "outputs": [],
   "source": []
  },
  {
   "cell_type": "code",
   "execution_count": null,
   "metadata": {},
   "outputs": [],
   "source": []
  },
  {
   "cell_type": "code",
   "execution_count": null,
   "metadata": {},
   "outputs": [],
   "source": []
  },
  {
   "cell_type": "markdown",
   "metadata": {},
   "source": [
    "## Join figure & gene dfs\n",
    "\n",
    "We've already merged 2020 and 2021 data for figures and for genes. Now we're joining the figures DF and the genes DF.\n",
    "\n",
    "Disabling this for now, because I'm not sure it's useful or up-to-date."
   ]
  },
  {
   "cell_type": "raw",
   "metadata": {},
   "source": [
    "pfocr_df = (\n",
    "    (\n",
    "        pfocr_figures_df.join(\n",
    "            pfocr_genes_df.drop(columns=[\"pmc_id\"]).set_index(\"pfocr_id\"),\n",
    "            on=\"pfocr_id\",\n",
    "            how=\"inner\",\n",
    "        )\n",
    "    )\n",
    "    .sort_values([\"publication_year\", \"pmc_id\", \"pfocr_id\", \"ncbigene_id\"])\n",
    "    .reset_index(drop=True)\n",
    ")\n",
    "pfocr_df"
   ]
  },
  {
   "cell_type": "raw",
   "metadata": {},
   "source": [
    "gene_counts_df = (\n",
    "    pfocr_df[[\"pfocr_id\", \"ncbigene_id\"]]\n",
    "    .drop_duplicates()\n",
    "    .groupby(\"pfocr_id\")\n",
    "    .count()\n",
    "    .rename(columns={\"ncbigene_id\": \"unique_gene_count\"})\n",
    ")\n",
    "print(len(gene_counts_df))\n",
    "pfocr_df = pfocr_df.join(gene_counts_df, on=\"pfocr_id\")"
   ]
  },
  {
   "cell_type": "code",
   "execution_count": null,
   "metadata": {},
   "outputs": [],
   "source": []
  },
  {
   "cell_type": "code",
   "execution_count": null,
   "metadata": {},
   "outputs": [],
   "source": []
  },
  {
   "cell_type": "code",
   "execution_count": null,
   "metadata": {},
   "outputs": [],
   "source": []
  },
  {
   "cell_type": "code",
   "execution_count": null,
   "metadata": {},
   "outputs": [],
   "source": []
  },
  {
   "cell_type": "code",
   "execution_count": null,
   "metadata": {},
   "outputs": [],
   "source": []
  },
  {
   "cell_type": "code",
   "execution_count": null,
   "metadata": {},
   "outputs": [],
   "source": []
  },
  {
   "cell_type": "code",
   "execution_count": null,
   "metadata": {},
   "outputs": [],
   "source": []
  },
  {
   "cell_type": "code",
   "execution_count": null,
   "metadata": {},
   "outputs": [],
   "source": []
  },
  {
   "cell_type": "code",
   "execution_count": null,
   "metadata": {},
   "outputs": [],
   "source": []
  },
  {
   "cell_type": "code",
   "execution_count": null,
   "metadata": {},
   "outputs": [],
   "source": []
  },
  {
   "cell_type": "code",
   "execution_count": null,
   "metadata": {},
   "outputs": [],
   "source": []
  },
  {
   "cell_type": "code",
   "execution_count": null,
   "metadata": {},
   "outputs": [],
   "source": []
  },
  {
   "cell_type": "code",
   "execution_count": null,
   "metadata": {},
   "outputs": [],
   "source": []
  },
  {
   "cell_type": "code",
   "execution_count": null,
   "metadata": {},
   "outputs": [],
   "source": []
  },
  {
   "cell_type": "code",
   "execution_count": null,
   "metadata": {},
   "outputs": [],
   "source": []
  },
  {
   "cell_type": "code",
   "execution_count": null,
   "metadata": {},
   "outputs": [],
   "source": []
  },
  {
   "cell_type": "code",
   "execution_count": null,
   "metadata": {},
   "outputs": [],
   "source": []
  }
 ],
 "metadata": {
  "jupytext": {
   "encoding": "# -*- coding: utf-8 -*-"
  },
  "kernelspec": {
   "display_name": "Python3 - mypkgs",
   "language": "python",
   "name": "ipython_mypkgs"
  },
  "language_info": {
   "codemirror_mode": {
    "name": "ipython",
    "version": 3
   },
   "file_extension": ".py",
   "mimetype": "text/x-python",
   "name": "python",
   "nbconvert_exporter": "python",
   "pygments_lexer": "ipython3",
   "version": "3.8.8"
  }
 },
 "nbformat": 4,
 "nbformat_minor": 4
}
