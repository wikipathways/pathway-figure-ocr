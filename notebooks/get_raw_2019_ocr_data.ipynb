{
 "cells": [
  {
   "cell_type": "code",
   "execution_count": 2,
   "metadata": {},
   "outputs": [],
   "source": [
    "%load_ext sql"
   ]
  },
  {
   "cell_type": "markdown",
   "metadata": {},
   "source": [
    "# Get Old OCR"
   ]
  },
  {
   "cell_type": "code",
   "execution_count": 3,
   "metadata": {
    "lines_to_next_cell": 2
   },
   "outputs": [],
   "source": [
    "import os\n",
    "from pprint import pprint\n",
    "\n",
    "import numpy as np\n",
    "import pandas as pd"
   ]
  },
  {
   "cell_type": "markdown",
   "metadata": {},
   "source": [
    "## Figures from database"
   ]
  },
  {
   "cell_type": "code",
   "execution_count": 4,
   "metadata": {},
   "outputs": [],
   "source": [
    "%sql postgresql:///pfocr20200224"
   ]
  },
  {
   "cell_type": "code",
   "execution_count": 20,
   "metadata": {},
   "outputs": [
    {
     "name": "stdout",
     "output_type": "stream",
     "text": [
      " * postgresql:///pfocr20200224\n",
      "5 rows affected.\n",
      "Returning data to local variable old_ocr\n"
     ]
    }
   ],
   "source": [
    "%%sql old_ocr << SELECT pmcid, figure_number, result->'textAnnotations'->0->'locale' AS locale, result->'textAnnotations'->0->'description' AS description\n",
    "FROM ocr_processors__figures\n",
    "INNER JOIN ocr_processors ON ocr_processors__figures.ocr_processor_id = ocr_processors.id\n",
    "INNER JOIN figures ON ocr_processors__figures.figure_id=figures.id\n",
    "INNER JOIN papers ON figures.paper_id = papers.id\n",
    "LIMIT 5;"
   ]
  },
  {
   "cell_type": "code",
   "execution_count": 21,
   "metadata": {},
   "outputs": [
    {
     "data": {
      "text/html": [
       "<div>\n",
       "<style scoped>\n",
       "    .dataframe tbody tr th:only-of-type {\n",
       "        vertical-align: middle;\n",
       "    }\n",
       "\n",
       "    .dataframe tbody tr th {\n",
       "        vertical-align: top;\n",
       "    }\n",
       "\n",
       "    .dataframe thead th {\n",
       "        text-align: right;\n",
       "    }\n",
       "</style>\n",
       "<table border=\"1\" class=\"dataframe\">\n",
       "  <thead>\n",
       "    <tr style=\"text-align: right;\">\n",
       "      <th></th>\n",
       "      <th>pmcid</th>\n",
       "      <th>figure_number</th>\n",
       "      <th>locale</th>\n",
       "      <th>description</th>\n",
       "    </tr>\n",
       "  </thead>\n",
       "  <tbody>\n",
       "    <tr>\n",
       "      <th>0</th>\n",
       "      <td>PMC1539137</td>\n",
       "      <td>zek0080627210005</td>\n",
       "      <td>en</td>\n",
       "      <td>wt\\n1 M NaCI\\n0 5 15 30 60 120 180 Time (min)\\...</td>\n",
       "    </tr>\n",
       "    <tr>\n",
       "      <th>1</th>\n",
       "      <td>PMC3094853</td>\n",
       "      <td>nihms254819f2</td>\n",
       "      <td>en</td>\n",
       "      <td>1b\\n1e\\n1k\\nR-SNAC 1k\\n1e\\n1b\\n1a\\n1c\\n1d\\nMM\\...</td>\n",
       "    </tr>\n",
       "    <tr>\n",
       "      <th>2</th>\n",
       "      <td>PMC3618260</td>\n",
       "      <td>1471-2164-14-190-5</td>\n",
       "      <td>en</td>\n",
       "      <td>kDa\\n0.2\\n0,5\\n1\\n2\\n3 6\\n12\\n24\\nhpi\\n100\\nPS...</td>\n",
       "    </tr>\n",
       "    <tr>\n",
       "      <th>3</th>\n",
       "      <td>PMC2290973</td>\n",
       "      <td>ehp0116-000524f2</td>\n",
       "      <td>en</td>\n",
       "      <td>TPSABI\\nFRDI\\nPLG\\nVEGF\\nNRID2\\nNCAM1\\nHLA-DOB...</td>\n",
       "    </tr>\n",
       "    <tr>\n",
       "      <th>4</th>\n",
       "      <td>PMC1919358</td>\n",
       "      <td>1471-213X-7-66-1</td>\n",
       "      <td>en</td>\n",
       "      <td>Workflow\\nSteps:\\nGene Ontology\\nMicroarray\\ng...</td>\n",
       "    </tr>\n",
       "  </tbody>\n",
       "</table>\n",
       "</div>"
      ],
      "text/plain": [
       "        pmcid       figure_number locale  \\\n",
       "0  PMC1539137    zek0080627210005     en   \n",
       "1  PMC3094853       nihms254819f2     en   \n",
       "2  PMC3618260  1471-2164-14-190-5     en   \n",
       "3  PMC2290973    ehp0116-000524f2     en   \n",
       "4  PMC1919358    1471-213X-7-66-1     en   \n",
       "\n",
       "                                         description  \n",
       "0  wt\\n1 M NaCI\\n0 5 15 30 60 120 180 Time (min)\\...  \n",
       "1  1b\\n1e\\n1k\\nR-SNAC 1k\\n1e\\n1b\\n1a\\n1c\\n1d\\nMM\\...  \n",
       "2  kDa\\n0.2\\n0,5\\n1\\n2\\n3 6\\n12\\n24\\nhpi\\n100\\nPS...  \n",
       "3  TPSABI\\nFRDI\\nPLG\\nVEGF\\nNRID2\\nNCAM1\\nHLA-DOB...  \n",
       "4  Workflow\\nSteps:\\nGene Ontology\\nMicroarray\\ng...  "
      ]
     },
     "execution_count": 21,
     "metadata": {},
     "output_type": "execute_result"
    }
   ],
   "source": [
    "old_ocr_df = old_ocr.DataFrame()\n",
    "\n",
    "old_ocr_df.head()"
   ]
  },
  {
   "cell_type": "code",
   "execution_count": null,
   "metadata": {},
   "outputs": [],
   "source": []
  },
  {
   "cell_type": "code",
   "execution_count": null,
   "metadata": {},
   "outputs": [],
   "source": []
  },
  {
   "cell_type": "code",
   "execution_count": null,
   "metadata": {},
   "outputs": [],
   "source": []
  },
  {
   "cell_type": "code",
   "execution_count": null,
   "metadata": {},
   "outputs": [],
   "source": []
  },
  {
   "cell_type": "code",
   "execution_count": null,
   "metadata": {},
   "outputs": [],
   "source": []
  },
  {
   "cell_type": "code",
   "execution_count": null,
   "metadata": {},
   "outputs": [],
   "source": []
  },
  {
   "cell_type": "code",
   "execution_count": null,
   "metadata": {},
   "outputs": [],
   "source": []
  },
  {
   "cell_type": "code",
   "execution_count": null,
   "metadata": {},
   "outputs": [],
   "source": []
  },
  {
   "cell_type": "code",
   "execution_count": null,
   "metadata": {},
   "outputs": [],
   "source": []
  },
  {
   "cell_type": "code",
   "execution_count": null,
   "metadata": {},
   "outputs": [],
   "source": []
  },
  {
   "cell_type": "code",
   "execution_count": 4,
   "metadata": {},
   "outputs": [
    {
     "name": "stdout",
     "output_type": "stream",
     "text": [
      " * postgresql:///pfocr20200224\n",
      "1614452 rows affected.\n",
      "Returning data to local variable biothings_export\n"
     ]
    }
   ],
   "source": [
    "%%sql biothings_export << SELECT pmcid, figure_number,\n",
    "word, symbol, xref AS entrez\n",
    "FROM figures\n",
    "INNER JOIN papers ON figures.paper_id = papers.id\n",
    "INNER JOIN match_attempts ON figures.id = match_attempts.figure_id\n",
    "LEFT JOIN symbols ON match_attempts.symbol_id = symbols.id\n",
    "LEFT JOIN transformed_words ON match_attempts.transformed_word_id = transformed_words.id\n",
    "LEFT JOIN lexicon ON match_attempts.symbol_id = lexicon.symbol_id\n",
    "LEFT JOIN xrefs ON lexicon.xref_id = xrefs.id\n",
    "WHERE xref IS NOT NULL;"
   ]
  },
  {
   "cell_type": "code",
   "execution_count": 5,
   "metadata": {},
   "outputs": [
    {
     "name": "stdout",
     "output_type": "stream",
     "text": [
      "100462\n",
      "['PMC4500905__fnmol-08-00031-g0003.jpg', 'PMC3663255__18_2012_1151_Fig1_HTML.jpg', 'PMC2614970__1756-9966-27-83-6.jpg', 'PMC3487967__1471-2105-13-218-5.jpg', 'PMC5810575__PC_TPC2017RA00816DR1_f6.jpg']\n"
     ]
    },
    {
     "data": {
      "text/html": [
       "<div>\n",
       "<style scoped>\n",
       "    .dataframe tbody tr th:only-of-type {\n",
       "        vertical-align: middle;\n",
       "    }\n",
       "\n",
       "    .dataframe tbody tr th {\n",
       "        vertical-align: top;\n",
       "    }\n",
       "\n",
       "    .dataframe thead th {\n",
       "        text-align: right;\n",
       "    }\n",
       "</style>\n",
       "<table border=\"1\" class=\"dataframe\">\n",
       "  <thead>\n",
       "    <tr style=\"text-align: right;\">\n",
       "      <th></th>\n",
       "      <th>pmcid</th>\n",
       "      <th>figure_number</th>\n",
       "      <th>word</th>\n",
       "      <th>symbol</th>\n",
       "      <th>entrez</th>\n",
       "      <th>filename</th>\n",
       "      <th>figid</th>\n",
       "      <th>url</th>\n",
       "    </tr>\n",
       "  </thead>\n",
       "  <tbody>\n",
       "    <tr>\n",
       "      <th>0</th>\n",
       "      <td>PMC6711159</td>\n",
       "      <td>nihms-1046734-f0001</td>\n",
       "      <td>TRAF6</td>\n",
       "      <td>TRAF6</td>\n",
       "      <td>7189</td>\n",
       "      <td>nihms-1046734-f0001.jpg</td>\n",
       "      <td>PMC6711159__nihms-1046734-f0001.jpg</td>\n",
       "      <td>https://www.ncbi.nlm.nih.gov/pmc/articles/PMC6...</td>\n",
       "    </tr>\n",
       "    <tr>\n",
       "      <th>1</th>\n",
       "      <td>PMC3877363</td>\n",
       "      <td>pone.0085502.g004</td>\n",
       "      <td>c-MYC</td>\n",
       "      <td>c-Myc</td>\n",
       "      <td>4609</td>\n",
       "      <td>pone.0085502.g004.jpg</td>\n",
       "      <td>PMC3877363__pone.0085502.g004.jpg</td>\n",
       "      <td>https://www.ncbi.nlm.nih.gov/pmc/articles/PMC3...</td>\n",
       "    </tr>\n",
       "    <tr>\n",
       "      <th>2</th>\n",
       "      <td>PMC2747168</td>\n",
       "      <td>zpq9990994580001</td>\n",
       "      <td>Trm5</td>\n",
       "      <td>TRM5</td>\n",
       "      <td>57570</td>\n",
       "      <td>zpq9990994580001.jpg</td>\n",
       "      <td>PMC2747168__zpq9990994580001.jpg</td>\n",
       "      <td>https://www.ncbi.nlm.nih.gov/pmc/articles/PMC2...</td>\n",
       "    </tr>\n",
       "    <tr>\n",
       "      <th>3</th>\n",
       "      <td>PMC2747168</td>\n",
       "      <td>zpq9990994580001</td>\n",
       "      <td>TYW1</td>\n",
       "      <td>TYW1</td>\n",
       "      <td>55253</td>\n",
       "      <td>zpq9990994580001.jpg</td>\n",
       "      <td>PMC2747168__zpq9990994580001.jpg</td>\n",
       "      <td>https://www.ncbi.nlm.nih.gov/pmc/articles/PMC2...</td>\n",
       "    </tr>\n",
       "    <tr>\n",
       "      <th>4</th>\n",
       "      <td>PMC2747168</td>\n",
       "      <td>zpq9990994580001</td>\n",
       "      <td>TYW2</td>\n",
       "      <td>TYW2</td>\n",
       "      <td>55039</td>\n",
       "      <td>zpq9990994580001.jpg</td>\n",
       "      <td>PMC2747168__zpq9990994580001.jpg</td>\n",
       "      <td>https://www.ncbi.nlm.nih.gov/pmc/articles/PMC2...</td>\n",
       "    </tr>\n",
       "  </tbody>\n",
       "</table>\n",
       "</div>"
      ],
      "text/plain": [
       "        pmcid        figure_number   word symbol entrez  \\\n",
       "0  PMC6711159  nihms-1046734-f0001  TRAF6  TRAF6   7189   \n",
       "1  PMC3877363    pone.0085502.g004  c-MYC  c-Myc   4609   \n",
       "2  PMC2747168     zpq9990994580001   Trm5   TRM5  57570   \n",
       "3  PMC2747168     zpq9990994580001   TYW1   TYW1  55253   \n",
       "4  PMC2747168     zpq9990994580001   TYW2   TYW2  55039   \n",
       "\n",
       "                  filename                                figid  \\\n",
       "0  nihms-1046734-f0001.jpg  PMC6711159__nihms-1046734-f0001.jpg   \n",
       "1    pone.0085502.g004.jpg    PMC3877363__pone.0085502.g004.jpg   \n",
       "2     zpq9990994580001.jpg     PMC2747168__zpq9990994580001.jpg   \n",
       "3     zpq9990994580001.jpg     PMC2747168__zpq9990994580001.jpg   \n",
       "4     zpq9990994580001.jpg     PMC2747168__zpq9990994580001.jpg   \n",
       "\n",
       "                                                 url  \n",
       "0  https://www.ncbi.nlm.nih.gov/pmc/articles/PMC6...  \n",
       "1  https://www.ncbi.nlm.nih.gov/pmc/articles/PMC3...  \n",
       "2  https://www.ncbi.nlm.nih.gov/pmc/articles/PMC2...  \n",
       "3  https://www.ncbi.nlm.nih.gov/pmc/articles/PMC2...  \n",
       "4  https://www.ncbi.nlm.nih.gov/pmc/articles/PMC2...  "
      ]
     },
     "execution_count": 5,
     "metadata": {},
     "output_type": "execute_result"
    }
   ],
   "source": [
    "bte_figures_df = biothings_export.DataFrame()\n",
    "bte_figures_df[\"filename\"] = bte_figures_df[\"figure_number\"] + \".jpg\"\n",
    "bte_figures_df[\"figid\"] = (\n",
    "    bte_figures_df[\"pmcid\"] + \"__\" + bte_figures_df[\"filename\"]\n",
    ")\n",
    "bte_figures_df[\"url\"] = (\n",
    "    \"https://www.ncbi.nlm.nih.gov/pmc/articles/\"\n",
    "    + bte_figures_df[\"pmcid\"]\n",
    "    + \"/bin/\"\n",
    "    + bte_figures_df[\"filename\"]\n",
    ")\n",
    "\n",
    "bte_figures = set(bte_figures_df[\"figid\"])\n",
    "\n",
    "print(len(bte_figures))\n",
    "print(list(bte_figures)[0:5])\n",
    "bte_figures_df.head()"
   ]
  },
  {
   "cell_type": "code",
   "execution_count": 14,
   "metadata": {},
   "outputs": [],
   "source": [
    "bte_figures_df.to_csv(\n",
    "    f\"~/code/pathway-ocr/20191102_100k/pfocr_biothings.tsv\",\n",
    "    sep=\"\\t\",\n",
    "    index=False,\n",
    ")"
   ]
  },
  {
   "cell_type": "code",
   "execution_count": 15,
   "metadata": {},
   "outputs": [
    {
     "data": {
      "text/plain": [
       "0"
      ]
     },
     "execution_count": 15,
     "metadata": {},
     "output_type": "execute_result"
    }
   ],
   "source": [
    "os.system(\"jupyter nbconvert --to html biothings_export.ipynb\")\n",
    "os.system(\"mv biothings_export.html ~/code/pathway-ocr/20191102_100k/\")"
   ]
  },
  {
   "cell_type": "code",
   "execution_count": null,
   "metadata": {},
   "outputs": [],
   "source": []
  }
 ],
 "metadata": {
  "jupytext": {
   "formats": "ipynb,py:light"
  },
  "kernelspec": {
   "display_name": "Python3 - mypkgs",
   "language": "python",
   "name": "ipython_mypkgs"
  },
  "language_info": {
   "codemirror_mode": {
    "name": "ipython",
    "version": 3
   },
   "file_extension": ".py",
   "mimetype": "text/x-python",
   "name": "python",
   "nbconvert_exporter": "python",
   "pygments_lexer": "ipython3",
   "version": "3.8.8"
  }
 },
 "nbformat": 4,
 "nbformat_minor": 4
}
