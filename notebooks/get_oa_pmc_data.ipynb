{
 "cells": [
  {
   "cell_type": "markdown",
   "metadata": {},
   "source": [
    "# Merge 2020 and 2021 Results"
   ]
  },
  {
   "cell_type": "code",
   "execution_count": 1,
   "metadata": {
    "lines_to_next_cell": 2
   },
   "outputs": [],
   "source": [
    "import json\n",
    "import os\n",
    "import re\n",
    "import sys\n",
    "import tempfile\n",
    "from pathlib import Path, PurePath\n",
    "from pprint import pprint\n",
    "\n",
    "import numpy as np\n",
    "import pandas as pd\n",
    "import requests\n",
    "import requests_cache"
   ]
  },
  {
   "cell_type": "code",
   "execution_count": 2,
   "metadata": {},
   "outputs": [],
   "source": [
    "%load_ext sql"
   ]
  },
  {
   "cell_type": "code",
   "execution_count": 3,
   "metadata": {},
   "outputs": [],
   "source": [
    "requests_cache.install_cache(\"pfocr_cache\")"
   ]
  },
  {
   "cell_type": "raw",
   "metadata": {},
   "source": [
    "NCBI_API_KEY = os.environ[\"NCBI_API_KEY\"]"
   ]
  },
  {
   "cell_type": "markdown",
   "metadata": {},
   "source": [
    "## Import PFOCR 2020 Results"
   ]
  },
  {
   "cell_type": "code",
   "execution_count": 4,
   "metadata": {},
   "outputs": [],
   "source": [
    "from functools import partial\n",
    "\n",
    "import rpy2.robjects as ro\n",
    "from rpy2.ipython import html\n",
    "from rpy2.robjects import default_converter, pandas2ri\n",
    "from rpy2.robjects.conversion import localconverter\n",
    "from rpy2.robjects.lib.dplyr import DataFrame\n",
    "from rpy2.robjects.packages import importr\n",
    "\n",
    "html.html_rdataframe = partial(html.html_rdataframe, table_class=\"docutils\")"
   ]
  },
  {
   "cell_type": "code",
   "execution_count": 5,
   "metadata": {},
   "outputs": [
    {
     "name": "stderr",
     "output_type": "stream",
     "text": [
      "/nix/store/6cdpbcfv5g6zk9zhs1wv79648zmvdjd0-python3-3.8.8-env/lib/python3.8/site-packages/rpy2/robjects/vectors.py:980: UserWarning: R object inheriting from \"POSIXct\" but without attribute \"tzone\".\n",
      "  warnings.warn('R object inheriting from \"POSIXct\" but without '\n"
     ]
    }
   ],
   "source": [
    "pandas2ri.activate()\n",
    "base = importr(\"base\")\n",
    "readRDS = ro.r[\"readRDS\"]\n",
    "saveRDS = ro.r[\"saveRDS\"]"
   ]
  },
  {
   "cell_type": "code",
   "execution_count": 6,
   "metadata": {},
   "outputs": [],
   "source": [
    "def rds2pandas(rds_path):\n",
    "    r_df = readRDS(str(rds_path))\n",
    "    with localconverter(ro.default_converter + pandas2ri.converter):\n",
    "        pandas_df = ro.conversion.rpy2py(r_df)\n",
    "    return pandas_df"
   ]
  },
  {
   "cell_type": "code",
   "execution_count": 7,
   "metadata": {},
   "outputs": [],
   "source": [
    "def pandas2rds(pandas_df, rds_path):\n",
    "    with localconverter(default_converter + pandas2ri.converter) as cv:\n",
    "        r_df = DataFrame(pandas_df)\n",
    "\n",
    "    saveRDS(r_df, str(rds_path))"
   ]
  },
  {
   "cell_type": "markdown",
   "metadata": {},
   "source": [
    "# Get OA PMC data\n",
    "\n",
    "Get the OA PMC data in XML format (only run this during the off-hours).\n",
    "\n",
    "[Docs](https://www.ncbi.nlm.nih.gov/pmc/tools/oai/)"
   ]
  },
  {
   "cell_type": "code",
   "execution_count": 41,
   "metadata": {},
   "outputs": [],
   "source": [
    "data_dir = Path(\n",
    "    \"~/Dropbox (Gladstone)/Documents/pathway-ocr/20210515/\"\n",
    ").expanduser()"
   ]
  },
  {
   "cell_type": "code",
   "execution_count": null,
   "metadata": {},
   "outputs": [],
   "source": [
    "pfocr_figures_df = rds2pandas(data_dir.joinpath(\"pfocr_figures_20210515.rds\"))"
   ]
  },
  {
   "cell_type": "code",
   "execution_count": null,
   "metadata": {},
   "outputs": [],
   "source": [
    "import time\n",
    "\n",
    "tool = \"pfocr\"\n",
    "email = \"anders.riutta@gladstone.ucsf.edu\"\n",
    "\n",
    "for pmc_id in list(set(pfocr_figures_df[\"pmc_id\"].to_list())):\n",
    "    deprefixed_pmc_id = pmc_id[3:]\n",
    "\n",
    "    xml_path = images_dir.joinpath(f\"{pmc_id}.xml\")\n",
    "\n",
    "    if xml_path.exists():\n",
    "        continue\n",
    "\n",
    "    pmc_url = \"&\".join(\n",
    "        [\n",
    "            \"https://www.ncbi.nlm.nih.gov/pmc/oai/oai.cgi?verb=GetRecord\",\n",
    "            f\"identifier=oai:pubmedcentral.nih.gov:{deprefixed_pmc_id}\",\n",
    "            \"metadataPrefix=pmc\",\n",
    "            # TODO: why am I getting an error when I use any of the following?\n",
    "            # f\"api_key={NCBI_API_KEY}\",\n",
    "            # f\"tool={tool}\",\n",
    "            # f\"email={requests.utils.quote(email)}\",\n",
    "        ]\n",
    "    )\n",
    "    with open(xml_path, \"wb\") as f:\n",
    "        with requests.get(pmc_url, stream=True) as r:\n",
    "            for chunk in r.iter_content(chunk_size=128):\n",
    "                f.write(chunk)\n",
    "            f.seek(0)\n",
    "    time.sleep(0.333)"
   ]
  },
  {
   "cell_type": "markdown",
   "metadata": {},
   "source": [
    "The file PMC8012676.xml is interesting in that it's a good example of being able to detect a composite figure from the text. Also, there are many good examples for looking at the relationships between the text, the citations and the figures."
   ]
  },
  {
   "cell_type": "code",
   "execution_count": null,
   "metadata": {},
   "outputs": [],
   "source": []
  }
 ],
 "metadata": {
  "jupytext": {
   "encoding": "# -*- coding: utf-8 -*-"
  },
  "kernelspec": {
   "display_name": "Python3 - mypkgs",
   "language": "python",
   "name": "ipython_mypkgs"
  },
  "language_info": {
   "codemirror_mode": {
    "name": "ipython",
    "version": 3
   },
   "file_extension": ".py",
   "mimetype": "text/x-python",
   "name": "python",
   "nbconvert_exporter": "python",
   "pygments_lexer": "ipython3",
   "version": "3.8.8"
  }
 },
 "nbformat": 4,
 "nbformat_minor": 4
}
