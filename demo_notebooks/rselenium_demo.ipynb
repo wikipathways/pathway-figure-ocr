{
 "cells": [
  {
   "cell_type": "markdown",
   "id": "2230ffc1-867b-4703-812b-e3b4846afa3a",
   "metadata": {},
   "source": [
    "# Demo of RSelenium"
   ]
  },
  {
   "cell_type": "code",
   "execution_count": 15,
   "id": "16b15dfb-8b25-41ab-ba98-3c31c9913b84",
   "metadata": {},
   "outputs": [],
   "source": [
    "library(processx)\n",
    "library(RSelenium)"
   ]
  },
  {
   "cell_type": "code",
   "execution_count": 16,
   "id": "b83505aa-177e-4045-acdf-ed85ce06c012",
   "metadata": {},
   "outputs": [],
   "source": [
    "# adapted from https://www.tidyverse.org/blog/2018/09/processx-3.2.0/\n",
    "start_program <- function(command, args, message, timeout = 5, ...) {\n",
    "  timeout <- as.difftime(timeout, units = \"secs\")\n",
    "  deadline <- Sys.time() + timeout\n",
    "  px <- process$new(command, args, stdout = \"|\", stderr = \"|\", ...)\n",
    "  print(px)\n",
    "  while (px$is_alive() && (now <- Sys.time()) < deadline) {\n",
    "    poll_time <- as.double(deadline - now, units = \"secs\") * 1000\n",
    "    px$poll_io(as.integer(poll_time))\n",
    "    out_lines <- px$read_output_lines()\n",
    "    err_lines <- px$read_error_lines()\n",
    "    if (any(grepl(message, c(out_lines, err_lines)))) \n",
    "      return(px)\n",
    "  }\n",
    "  \n",
    "  px$kill()\n",
    "  stop(\"Cannot start \", command)\n",
    "}"
   ]
  },
  {
   "cell_type": "code",
   "execution_count": 17,
   "id": "43af92dd-01e5-43aa-a77a-523410a0d21d",
   "metadata": {},
   "outputs": [
    {
     "name": "stdout",
     "output_type": "stream",
     "text": [
      "PROCESS 'selenium-server', running, pid 16274.\n"
     ]
    },
    {
     "ename": "ERROR",
     "evalue": "Error in start_program(\"selenium-server\", c(\"-port\", \"4444\"), \"running on port\"): Cannot start selenium-server\n",
     "output_type": "error",
     "traceback": [
      "Error in start_program(\"selenium-server\", c(\"-port\", \"4444\"), \"running on port\"): Cannot start selenium-server\nTraceback:\n",
      "1. start_program(\"selenium-server\", c(\"-port\", \"4444\"), \"running on port\")",
      "2. stop(\"Cannot start \", command)   # at line 17 of file <text>"
     ]
    }
   ],
   "source": [
    "proc <- start_program(\"selenium-server\", c(\"-port\", \"4444\"), \"running on port\")"
   ]
  },
  {
   "cell_type": "code",
   "execution_count": null,
   "id": "fecd7140-a0f8-45fb-9c06-733dc044d704",
   "metadata": {},
   "outputs": [],
   "source": [
    "remDr <- remoteDriver(remoteServerAddr = \"localhost\", port = 4444L, browserName = \"firefox\", extraCapabilities = list(`moz:firefoxOptions` = list(args = list(\"--headless\"))))"
   ]
  },
  {
   "cell_type": "code",
   "execution_count": 18,
   "id": "e2d832fb-839f-43ac-a313-5ea8dabbcc5c",
   "metadata": {},
   "outputs": [
    {
     "name": "stdout",
     "output_type": "stream",
     "text": [
      "[1] \"Connecting to remote server\"\n",
      "$acceptInsecureCerts\n",
      "[1] FALSE\n",
      "\n",
      "$browserName\n",
      "[1] \"firefox\"\n",
      "\n",
      "$browserVersion\n",
      "[1] \"68.8.0\"\n",
      "\n",
      "$`moz:accessibilityChecks`\n",
      "[1] FALSE\n",
      "\n",
      "$`moz:buildID`\n",
      "[1] \"20200613165304\"\n",
      "\n",
      "$`moz:geckodriverVersion`\n",
      "[1] \"0.26.0\"\n",
      "\n",
      "$`moz:headless`\n",
      "[1] TRUE\n",
      "\n",
      "$`moz:processID`\n",
      "[1] 16320\n",
      "\n",
      "$`moz:profile`\n",
      "[1] \"/run/user/1000/rust_mozprofiletQjFcU\"\n",
      "\n",
      "$`moz:shutdownTimeout`\n",
      "[1] 60000\n",
      "\n",
      "$`moz:useNonSpecCompliantPointerOrigin`\n",
      "[1] FALSE\n",
      "\n",
      "$`moz:webdriverClick`\n",
      "[1] TRUE\n",
      "\n",
      "$pageLoadStrategy\n",
      "[1] \"normal\"\n",
      "\n",
      "$platformName\n",
      "[1] \"linux\"\n",
      "\n",
      "$platformVersion\n",
      "[1] \"4.19.116-hardened\"\n",
      "\n",
      "$rotatable\n",
      "[1] FALSE\n",
      "\n",
      "$setWindowRect\n",
      "[1] TRUE\n",
      "\n",
      "$strictFileInteractability\n",
      "[1] FALSE\n",
      "\n",
      "$timeouts\n",
      "$timeouts$implicit\n",
      "[1] 0\n",
      "\n",
      "$timeouts$pageLoad\n",
      "[1] 300000\n",
      "\n",
      "$timeouts$script\n",
      "[1] 30000\n",
      "\n",
      "\n",
      "$unhandledPromptBehavior\n",
      "[1] \"dismiss and notify\"\n",
      "\n",
      "$webdriver.remote.sessionid\n",
      "[1] \"85dd2f7f-ea39-4397-87e1-4549df085f5b\"\n",
      "\n",
      "$id\n",
      "[1] \"85dd2f7f-ea39-4397-87e1-4549df085f5b\"\n",
      "\n"
     ]
    },
    {
     "data": {
      "text/html": [
       "<dl>\n",
       "\t<dt>$ready</dt>\n",
       "\t\t<dd>TRUE</dd>\n",
       "\t<dt>$message</dt>\n",
       "\t\t<dd>'Server is running'</dd>\n",
       "\t<dt>$build</dt>\n",
       "\t\t<dd><dl>\n",
       "\t<dt>$revision</dt>\n",
       "\t\t<dd>'e82be7d358'</dd>\n",
       "\t<dt>$time</dt>\n",
       "\t\t<dd>'2018-11-14T08:25:53'</dd>\n",
       "\t<dt>$version</dt>\n",
       "\t\t<dd>'3.141.59'</dd>\n",
       "</dl>\n",
       "</dd>\n",
       "\t<dt>$os</dt>\n",
       "\t\t<dd><dl>\n",
       "\t<dt>$arch</dt>\n",
       "\t\t<dd>'amd64'</dd>\n",
       "\t<dt>$name</dt>\n",
       "\t\t<dd>'Linux'</dd>\n",
       "\t<dt>$version</dt>\n",
       "\t\t<dd>'4.19.116-hardened'</dd>\n",
       "</dl>\n",
       "</dd>\n",
       "\t<dt>$java</dt>\n",
       "\t\t<dd><strong>$version</strong> = '15.0.1'</dd>\n",
       "</dl>\n"
      ],
      "text/latex": [
       "\\begin{description}\n",
       "\\item[\\$ready] TRUE\n",
       "\\item[\\$message] 'Server is running'\n",
       "\\item[\\$build] \\begin{description}\n",
       "\\item[\\$revision] 'e82be7d358'\n",
       "\\item[\\$time] '2018-11-14T08:25:53'\n",
       "\\item[\\$version] '3.141.59'\n",
       "\\end{description}\n",
       "\n",
       "\\item[\\$os] \\begin{description}\n",
       "\\item[\\$arch] 'amd64'\n",
       "\\item[\\$name] 'Linux'\n",
       "\\item[\\$version] '4.19.116-hardened'\n",
       "\\end{description}\n",
       "\n",
       "\\item[\\$java] \\textbf{\\$version} = '15.0.1'\n",
       "\\end{description}\n"
      ],
      "text/markdown": [
       "$ready\n",
       ":   TRUE\n",
       "$message\n",
       ":   'Server is running'\n",
       "$build\n",
       ":   $revision\n",
       ":   'e82be7d358'\n",
       "$time\n",
       ":   '2018-11-14T08:25:53'\n",
       "$version\n",
       ":   '3.141.59'\n",
       "\n",
       "\n",
       "\n",
       "$os\n",
       ":   $arch\n",
       ":   'amd64'\n",
       "$name\n",
       ":   'Linux'\n",
       "$version\n",
       ":   '4.19.116-hardened'\n",
       "\n",
       "\n",
       "\n",
       "$java\n",
       ":   **$version** = '15.0.1'\n",
       "\n",
       "\n"
      ],
      "text/plain": [
       "$ready\n",
       "[1] TRUE\n",
       "\n",
       "$message\n",
       "[1] \"Server is running\"\n",
       "\n",
       "$build\n",
       "$build$revision\n",
       "[1] \"e82be7d358\"\n",
       "\n",
       "$build$time\n",
       "[1] \"2018-11-14T08:25:53\"\n",
       "\n",
       "$build$version\n",
       "[1] \"3.141.59\"\n",
       "\n",
       "\n",
       "$os\n",
       "$os$arch\n",
       "[1] \"amd64\"\n",
       "\n",
       "$os$name\n",
       "[1] \"Linux\"\n",
       "\n",
       "$os$version\n",
       "[1] \"4.19.116-hardened\"\n",
       "\n",
       "\n",
       "$java\n",
       "$java$version\n",
       "[1] \"15.0.1\"\n",
       "\n"
      ]
     },
     "metadata": {},
     "output_type": "display_data"
    }
   ],
   "source": [
    "remDr$open()\n",
    "remDr$getStatus()"
   ]
  },
  {
   "cell_type": "code",
   "execution_count": null,
   "id": "d7c675ec-b32e-44f9-8801-a9be74225a31",
   "metadata": {},
   "outputs": [],
   "source": []
  },
  {
   "cell_type": "code",
   "execution_count": null,
   "id": "6e40fbb8-8905-471b-b269-25a1e386d213",
   "metadata": {},
   "outputs": [],
   "source": []
  },
  {
   "cell_type": "code",
   "execution_count": null,
   "id": "9c22d9a0-f43e-4ee4-9366-9d0e9bf06612",
   "metadata": {},
   "outputs": [],
   "source": []
  },
  {
   "cell_type": "code",
   "execution_count": 19,
   "id": "c8a11a1c-5323-4250-8171-eb825343997d",
   "metadata": {},
   "outputs": [],
   "source": []
  },
  {
   "cell_type": "code",
   "execution_count": 21,
   "id": "0b2b4498-b7ec-47a2-98bf-2ad6281ba6e5",
   "metadata": {},
   "outputs": [
    {
     "ename": "ERROR",
     "evalue": "Error in checkError(res): Undefined error in httr call. httr output: Failed to connect to localhost port 4444: Connection refused\n",
     "output_type": "error",
     "traceback": [
      "Error in checkError(res): Undefined error in httr call. httr output: Failed to connect to localhost port 4444: Connection refused\nTraceback:\n",
      "1. remDr$close()",
      "2. queryRD(qpath, \"DELETE\")",
      "3. checkError(res)",
      "4. stop(err)"
     ]
    }
   ],
   "source": [
    "remDr$close()\n",
    "\n",
    "proc$is_alive()\n",
    "proc$kill()\n",
    "proc$is_alive()"
   ]
  },
  {
   "cell_type": "code",
   "execution_count": null,
   "id": "b0e3560d-4735-47a5-9ebe-8778d0806993",
   "metadata": {},
   "outputs": [],
   "source": []
  },
  {
   "cell_type": "code",
   "execution_count": null,
   "id": "d9919bb2-8169-431f-ad6b-b72506525a7b",
   "metadata": {},
   "outputs": [],
   "source": []
  },
  {
   "cell_type": "code",
   "execution_count": null,
   "id": "a0746ca2-d443-48cc-87ad-3cbd4e7cd9d1",
   "metadata": {},
   "outputs": [],
   "source": []
  },
  {
   "cell_type": "code",
   "execution_count": null,
   "id": "497c38b4-6e0c-434d-8084-370c505cef9d",
   "metadata": {},
   "outputs": [],
   "source": []
  },
  {
   "cell_type": "code",
   "execution_count": null,
   "id": "907a2667-95ee-4219-bed4-e23d2fc5a62f",
   "metadata": {},
   "outputs": [],
   "source": []
  },
  {
   "cell_type": "code",
   "execution_count": null,
   "id": "c0026ed5-2bf1-4d6c-949f-dde10bf69344",
   "metadata": {},
   "outputs": [],
   "source": []
  },
  {
   "cell_type": "code",
   "execution_count": null,
   "id": "2166308e-7a60-4b24-978d-f07da19f49f3",
   "metadata": {},
   "outputs": [],
   "source": []
  }
 ],
 "metadata": {
  "kernelspec": {
   "display_name": "R - mypkgs",
   "language": "R",
   "name": "ir_mypkgs"
  },
  "language_info": {
   "codemirror_mode": "r",
   "file_extension": ".r",
   "mimetype": "text/x-r-source",
   "name": "R",
   "pygments_lexer": "r",
   "version": "4.0.4"
  }
 },
 "nbformat": 4,
 "nbformat_minor": 5
}
